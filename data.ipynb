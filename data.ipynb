{
 "cells": [
  {
   "cell_type": "markdown",
   "metadata": {},
   "source": [
    "# Load Data"
   ]
  },
  {
   "cell_type": "markdown",
   "metadata": {},
   "source": [
    "## From yfinance: Stock price data"
   ]
  },
  {
   "cell_type": "code",
   "execution_count": 4,
   "metadata": {
    "ExecuteTime": {
     "end_time": "2022-03-11T05:31:20.254170Z",
     "start_time": "2022-03-11T05:31:20.236218Z"
    }
   },
   "outputs": [],
   "source": [
    "load_t = '20220318'"
   ]
  },
  {
   "cell_type": "code",
   "execution_count": 5,
   "metadata": {
    "ExecuteTime": {
     "end_time": "2022-03-11T05:31:23.715911Z",
     "start_time": "2022-03-11T05:31:20.256164Z"
    }
   },
   "outputs": [],
   "source": [
    "import yfinance as yf\n",
    "import pandas as pd\n",
    "import numpy as np\n",
    "import datetime\n",
    "import pickle as pkl\n",
    "\n",
    "# Load\n",
    "df_5y = pkl.load(open('./data/df_5y_{}.pkl'.format(load_t), 'rb'))"
   ]
  },
  {
   "cell_type": "markdown",
   "metadata": {},
   "source": [
    "## Attributes data"
   ]
  },
  {
   "cell_type": "code",
   "execution_count": 6,
   "metadata": {
    "ExecuteTime": {
     "end_time": "2022-03-11T05:31:23.747826Z",
     "start_time": "2022-03-11T05:31:23.717905Z"
    }
   },
   "outputs": [
    {
     "name": "stdout",
     "output_type": "stream",
     "text": [
      "df_info_raw loaded\n"
     ]
    }
   ],
   "source": [
    "t = datetime.datetime.strptime(str(load_t), '%Y%m%d')\n",
    "t_1 = datetime.datetime.strptime(str(load_t), '%Y%m%d') - datetime.timedelta(days=7)\n",
    "\n",
    "\n",
    "try:\n",
    "#     df_info_raw = pkl.load(open('df_info_raw.pkl', 'rb'))\n",
    "    df_info_raw = pkl.load(open('./data/df_info_raw_{}.pkl'.format(datetime.datetime.strftime(t_1, '%Y%m%d')), 'rb'))\n",
    "    print('df_info_raw loaded')\n",
    "    \n",
    "except:\n",
    "    print('Uncomment and run below, takes about 1 hour!!!')\n",
    "    \n",
    "#     df_info_raw = pd.DataFrame({ticker: tick_obj.info for ticker, tick_obj in yf_tickers.tickers.items()})\n",
    "#     pkl.dump(df_info_raw, open('df_info_raw.pkl', 'wb'))\n",
    "#     pkl.dump(df_info_raw, open('df_info_raw_{}.pkl'.format(datetime.datetime.strftime(datetime.datetime.today(), '%Y%m%d')), 'wb'))"
   ]
  },
  {
   "cell_type": "code",
   "execution_count": 7,
   "metadata": {
    "ExecuteTime": {
     "end_time": "2022-03-11T05:31:23.763782Z",
     "start_time": "2022-03-11T05:31:23.749821Z"
    }
   },
   "outputs": [
    {
     "data": {
      "text/plain": [
       "(158, 300)"
      ]
     },
     "execution_count": 7,
     "metadata": {},
     "output_type": "execute_result"
    }
   ],
   "source": [
    "df_info_raw.shape"
   ]
  },
  {
   "cell_type": "markdown",
   "metadata": {},
   "source": [
    "# Data Cleaning and Processing - Stock Attributes"
   ]
  },
  {
   "cell_type": "markdown",
   "metadata": {},
   "source": [
    "## Attributes selection"
   ]
  },
  {
   "cell_type": "markdown",
   "metadata": {},
   "source": [
    "### Manual selection and categorize"
   ]
  },
  {
   "cell_type": "code",
   "execution_count": 8,
   "metadata": {
    "ExecuteTime": {
     "end_time": "2022-03-11T05:31:23.779740Z",
     "start_time": "2022-03-11T05:31:23.766775Z"
    }
   },
   "outputs": [],
   "source": [
    "# Construct dict of attributes to include\n",
    "# fields = dict()\n",
    "\n",
    "def fields_paste_to_list(paste):\n",
    "    temp_fields= paste.split(\"\\n\")\n",
    "\n",
    "    while '' in temp_fields: temp_fields.remove('')\n",
    "    res = [f.strip().strip(\"'\") for f in temp_fields]\n",
    "\n",
    "    return res\n",
    "\n",
    "# field_category = 'Sector industry'\n",
    "\n",
    "# paste = \"\"\"\n",
    "# 'sector'\n",
    "# 'industry'\n",
    "# \"\"\"\n",
    "\n",
    "# fields[field_category] = fields_paste_to_list(paste)"
   ]
  },
  {
   "cell_type": "code",
   "execution_count": 9,
   "metadata": {
    "ExecuteTime": {
     "end_time": "2022-03-11T05:31:23.794699Z",
     "start_time": "2022-03-11T05:31:23.781735Z"
    }
   },
   "outputs": [],
   "source": [
    "# # Add an attribute to a category\n",
    "def add_attribute_to_fields(fields, category, field):\n",
    "    temp_list = fields[category]\n",
    "    temp_list.append(field)\n",
    "    fields[category] = temp_list\n",
    "    return fields"
   ]
  },
  {
   "cell_type": "code",
   "execution_count": 10,
   "metadata": {
    "ExecuteTime": {
     "end_time": "2022-03-11T05:31:23.809660Z",
     "start_time": "2022-03-11T05:31:23.796695Z"
    }
   },
   "outputs": [],
   "source": [
    "## Remove an attribute from a category\n",
    "def remove_attribute_from_fields(fields, category, field):\n",
    "    temp_list = fields[category]\n",
    "    temp_list.remove(field)\n",
    "    fields[category] = temp_list\n",
    "    return fields"
   ]
  },
  {
   "cell_type": "code",
   "execution_count": 11,
   "metadata": {
    "ExecuteTime": {
     "end_time": "2022-03-11T05:31:23.825616Z",
     "start_time": "2022-03-11T05:31:23.810657Z"
    }
   },
   "outputs": [],
   "source": [
    "# Save\n",
    "# pkl.dump(fields, open('fields.pkl', 'wb'))"
   ]
  },
  {
   "cell_type": "code",
   "execution_count": 12,
   "metadata": {
    "ExecuteTime": {
     "end_time": "2022-03-11T05:31:23.841575Z",
     "start_time": "2022-03-11T05:31:23.827612Z"
    }
   },
   "outputs": [],
   "source": [
    "fields = pkl.load(open('fields.pkl', 'rb'))"
   ]
  },
  {
   "cell_type": "code",
   "execution_count": 13,
   "metadata": {
    "ExecuteTime": {
     "end_time": "2022-03-11T05:31:23.872491Z",
     "start_time": "2022-03-11T05:31:23.844567Z"
    }
   },
   "outputs": [
    {
     "name": "stdout",
     "output_type": "stream",
     "text": [
      "# of attributes: 58\n",
      "# attributes no normalize: 38\n",
      "# to normalize: 20\n"
     ]
    }
   ],
   "source": [
    "list_fields = [f for k,v in fields.items() for f in v]\n",
    "print('# of attributes:',len(list_fields))\n",
    "print('# attributes no normalize:', len([f for k,v in fields.items() for f in v if 'to_norm' not in k]))\n",
    "print('# to normalize:', len([f for k,v in fields.items() for f in v if 'to_norm' in k]))"
   ]
  },
  {
   "cell_type": "code",
   "execution_count": 14,
   "metadata": {
    "ExecuteTime": {
     "end_time": "2022-03-11T05:31:23.904407Z",
     "start_time": "2022-03-11T05:31:23.875485Z"
    }
   },
   "outputs": [
    {
     "data": {
      "text/html": [
       "<div>\n",
       "<style scoped>\n",
       "    .dataframe tbody tr th:only-of-type {\n",
       "        vertical-align: middle;\n",
       "    }\n",
       "\n",
       "    .dataframe tbody tr th {\n",
       "        vertical-align: top;\n",
       "    }\n",
       "\n",
       "    .dataframe thead th {\n",
       "        text-align: right;\n",
       "    }\n",
       "</style>\n",
       "<table border=\"1\" class=\"dataframe\">\n",
       "  <thead>\n",
       "    <tr style=\"text-align: right;\">\n",
       "      <th></th>\n",
       "      <th>targetMeanPrice</th>\n",
       "      <th>targetHighPrice</th>\n",
       "      <th>targetLowPrice</th>\n",
       "      <th>numberOfAnalystOpinions</th>\n",
       "      <th>fullTimeEmployees</th>\n",
       "      <th>marketCap</th>\n",
       "      <th>enterpriseValue</th>\n",
       "      <th>bookValue</th>\n",
       "      <th>currentPrice</th>\n",
       "      <th>52WeekChange</th>\n",
       "      <th>...</th>\n",
       "      <th>totalCash</th>\n",
       "      <th>totalDebt</th>\n",
       "      <th>currentRatio</th>\n",
       "      <th>debtToEquity</th>\n",
       "      <th>totalCashPerShare</th>\n",
       "      <th>quickRatio</th>\n",
       "      <th>city</th>\n",
       "      <th>country</th>\n",
       "      <th>sector</th>\n",
       "      <th>industry</th>\n",
       "    </tr>\n",
       "  </thead>\n",
       "  <tbody>\n",
       "    <tr>\n",
       "      <th>600519.SS</th>\n",
       "      <td>2330.8</td>\n",
       "      <td>2685</td>\n",
       "      <td>1880</td>\n",
       "      <td>19</td>\n",
       "      <td>29031</td>\n",
       "      <td>2222230339584</td>\n",
       "      <td>2100624621568</td>\n",
       "      <td>138.791</td>\n",
       "      <td>1769.01</td>\n",
       "      <td>-0.121826</td>\n",
       "      <td>...</td>\n",
       "      <td>50701983744</td>\n",
       "      <td>529976352</td>\n",
       "      <td>4.432</td>\n",
       "      <td>0.293</td>\n",
       "      <td>40.361</td>\n",
       "      <td>1.181</td>\n",
       "      <td>Renhuai</td>\n",
       "      <td>China</td>\n",
       "      <td>Consumer Defensive</td>\n",
       "      <td>Beverages—Wineries &amp; Distilleries</td>\n",
       "    </tr>\n",
       "    <tr>\n",
       "      <th>300750.SZ</th>\n",
       "      <td>719.97</td>\n",
       "      <td>1000</td>\n",
       "      <td>366</td>\n",
       "      <td>23</td>\n",
       "      <td>33078</td>\n",
       "      <td>1150391025664</td>\n",
       "      <td>1031963279360</td>\n",
       "      <td>31.213</td>\n",
       "      <td>493.55</td>\n",
       "      <td>0.386605</td>\n",
       "      <td>...</td>\n",
       "      <td>82489131008</td>\n",
       "      <td>46217986048</td>\n",
       "      <td>1.304</td>\n",
       "      <td>57.641</td>\n",
       "      <td>35.418</td>\n",
       "      <td>0.923</td>\n",
       "      <td>Ningde</td>\n",
       "      <td>China</td>\n",
       "      <td>Industrials</td>\n",
       "      <td>Electrical Equipment &amp; Parts</td>\n",
       "    </tr>\n",
       "    <tr>\n",
       "      <th>600036.SS</th>\n",
       "      <td>64.29</td>\n",
       "      <td>81.5</td>\n",
       "      <td>38</td>\n",
       "      <td>25</td>\n",
       "      <td>NaN</td>\n",
       "      <td>1132585943040</td>\n",
       "      <td>1332269023232</td>\n",
       "      <td>29.933</td>\n",
       "      <td>44.45</td>\n",
       "      <td>-0.167479</td>\n",
       "      <td>...</td>\n",
       "      <td>999486980096</td>\n",
       "      <td>1111563042816</td>\n",
       "      <td>None</td>\n",
       "      <td>None</td>\n",
       "      <td>39.631</td>\n",
       "      <td>None</td>\n",
       "      <td>Shenzhen</td>\n",
       "      <td>China</td>\n",
       "      <td>Financial Services</td>\n",
       "      <td>Banks—Regional</td>\n",
       "    </tr>\n",
       "    <tr>\n",
       "      <th>601318.SS</th>\n",
       "      <td>75.76</td>\n",
       "      <td>104.92</td>\n",
       "      <td>35</td>\n",
       "      <td>16</td>\n",
       "      <td>362035</td>\n",
       "      <td>830922620928</td>\n",
       "      <td>1059516252160</td>\n",
       "      <td>43.483</td>\n",
       "      <td>47.14</td>\n",
       "      <td>-0.451549</td>\n",
       "      <td>...</td>\n",
       "      <td>1775086993408</td>\n",
       "      <td>1707409014784</td>\n",
       "      <td>1.498</td>\n",
       "      <td>165.943</td>\n",
       "      <td>97.477</td>\n",
       "      <td>1.275</td>\n",
       "      <td>Shenzhen</td>\n",
       "      <td>China</td>\n",
       "      <td>Financial Services</td>\n",
       "      <td>Insurance—Life</td>\n",
       "    </tr>\n",
       "    <tr>\n",
       "      <th>000858.SZ</th>\n",
       "      <td>281.46</td>\n",
       "      <td>350</td>\n",
       "      <td>214</td>\n",
       "      <td>18</td>\n",
       "      <td>23816</td>\n",
       "      <td>667386576896</td>\n",
       "      <td>574149099520</td>\n",
       "      <td>23.961</td>\n",
       "      <td>171.77</td>\n",
       "      <td>-0.38408</td>\n",
       "      <td>...</td>\n",
       "      <td>73156001792</td>\n",
       "      <td>833043072</td>\n",
       "      <td>4.762</td>\n",
       "      <td>0.876</td>\n",
       "      <td>18.844</td>\n",
       "      <td>4.135</td>\n",
       "      <td>Yibin</td>\n",
       "      <td>China</td>\n",
       "      <td>Consumer Defensive</td>\n",
       "      <td>Beverages—Wineries &amp; Distilleries</td>\n",
       "    </tr>\n",
       "  </tbody>\n",
       "</table>\n",
       "<p>5 rows × 58 columns</p>\n",
       "</div>"
      ],
      "text/plain": [
       "          targetMeanPrice targetHighPrice targetLowPrice  \\\n",
       "600519.SS          2330.8            2685           1880   \n",
       "300750.SZ          719.97            1000            366   \n",
       "600036.SS           64.29            81.5             38   \n",
       "601318.SS           75.76          104.92             35   \n",
       "000858.SZ          281.46             350            214   \n",
       "\n",
       "          numberOfAnalystOpinions fullTimeEmployees      marketCap  \\\n",
       "600519.SS                      19             29031  2222230339584   \n",
       "300750.SZ                      23             33078  1150391025664   \n",
       "600036.SS                      25               NaN  1132585943040   \n",
       "601318.SS                      16            362035   830922620928   \n",
       "000858.SZ                      18             23816   667386576896   \n",
       "\n",
       "          enterpriseValue bookValue currentPrice 52WeekChange  ...  \\\n",
       "600519.SS   2100624621568   138.791      1769.01    -0.121826  ...   \n",
       "300750.SZ   1031963279360    31.213       493.55     0.386605  ...   \n",
       "600036.SS   1332269023232    29.933        44.45    -0.167479  ...   \n",
       "601318.SS   1059516252160    43.483        47.14    -0.451549  ...   \n",
       "000858.SZ    574149099520    23.961       171.77     -0.38408  ...   \n",
       "\n",
       "               totalCash      totalDebt currentRatio debtToEquity  \\\n",
       "600519.SS    50701983744      529976352        4.432        0.293   \n",
       "300750.SZ    82489131008    46217986048        1.304       57.641   \n",
       "600036.SS   999486980096  1111563042816         None         None   \n",
       "601318.SS  1775086993408  1707409014784        1.498      165.943   \n",
       "000858.SZ    73156001792      833043072        4.762        0.876   \n",
       "\n",
       "          totalCashPerShare quickRatio      city country              sector  \\\n",
       "600519.SS            40.361      1.181   Renhuai   China  Consumer Defensive   \n",
       "300750.SZ            35.418      0.923    Ningde   China         Industrials   \n",
       "600036.SS            39.631       None  Shenzhen   China  Financial Services   \n",
       "601318.SS            97.477      1.275  Shenzhen   China  Financial Services   \n",
       "000858.SZ            18.844      4.135     Yibin   China  Consumer Defensive   \n",
       "\n",
       "                                    industry  \n",
       "600519.SS  Beverages—Wineries & Distilleries  \n",
       "300750.SZ       Electrical Equipment & Parts  \n",
       "600036.SS                     Banks—Regional  \n",
       "601318.SS                     Insurance—Life  \n",
       "000858.SZ  Beverages—Wineries & Distilleries  \n",
       "\n",
       "[5 rows x 58 columns]"
      ]
     },
     "execution_count": 14,
     "metadata": {},
     "output_type": "execute_result"
    }
   ],
   "source": [
    "# Filter to include only selected attributes\n",
    "df_info = df_info_raw.loc[list_fields, :].T\n",
    "df_info.head()"
   ]
  },
  {
   "cell_type": "code",
   "execution_count": 15,
   "metadata": {
    "ExecuteTime": {
     "end_time": "2022-03-11T05:31:23.936321Z",
     "start_time": "2022-03-11T05:31:23.906402Z"
    }
   },
   "outputs": [
    {
     "name": "stdout",
     "output_type": "stream",
     "text": [
      "300 stocks with a null field\n",
      "Which stock has many null fields?\n"
     ]
    },
    {
     "data": {
      "text/plain": [
       "603087.SS    18\n",
       "688561.SS    14\n",
       "601989.SS    14\n",
       "688012.SS    11\n",
       "002466.SZ    10\n",
       "             ..\n",
       "603288.SS     1\n",
       "002812.SZ     1\n",
       "000858.SZ     1\n",
       "601318.SS     1\n",
       "600519.SS     1\n",
       "Length: 300, dtype: int64"
      ]
     },
     "execution_count": 15,
     "metadata": {},
     "output_type": "execute_result"
    }
   ],
   "source": [
    "# almost all stocks have a certain null field\n",
    "print(df_info.isnull().any(axis=1).sum(), 'stocks with a null field')\n",
    "print('Which stock has many null fields?')\n",
    "df_info.isnull().sum(axis=1).sort_values(ascending=False)"
   ]
  },
  {
   "cell_type": "markdown",
   "metadata": {},
   "source": [
    "Drop stocks with more than 15 null fields"
   ]
  },
  {
   "cell_type": "code",
   "execution_count": 16,
   "metadata": {
    "ExecuteTime": {
     "end_time": "2022-03-11T05:31:23.967239Z",
     "start_time": "2022-03-11T05:31:23.938316Z"
    }
   },
   "outputs": [
    {
     "name": "stdout",
     "output_type": "stream",
     "text": [
      "1 stock(s) dropped\n",
      "['603087.SS']\n",
      "32 fields have a stock with null value\n"
     ]
    }
   ],
   "source": [
    "stocks_to_drop = df_info[df_info.isnull().sum(axis=1) > 15].index.tolist()\n",
    "print(len(stocks_to_drop), 'stock(s) dropped')\n",
    "print(stocks_to_drop)\n",
    "\n",
    "print(df_info.isnull().any(axis=0).sum(), 'fields have a stock with null value')"
   ]
  },
  {
   "cell_type": "markdown",
   "metadata": {},
   "source": [
    "#### Check Data Types"
   ]
  },
  {
   "cell_type": "code",
   "execution_count": 17,
   "metadata": {
    "ExecuteTime": {
     "end_time": "2022-03-11T05:31:23.983195Z",
     "start_time": "2022-03-11T05:31:23.969234Z"
    },
    "scrolled": true
   },
   "outputs": [
    {
     "data": {
      "text/plain": [
       "targetMeanPrice                 object\n",
       "targetHighPrice                 object\n",
       "targetLowPrice                  object\n",
       "numberOfAnalystOpinions         object\n",
       "fullTimeEmployees               object\n",
       "marketCap                       object\n",
       "enterpriseValue                 object\n",
       "bookValue                       object\n",
       "currentPrice                    object\n",
       "52WeekChange                    object\n",
       "twoHundredDayAverage            object\n",
       "fiftyDayAverage                 object\n",
       "previousClose                   object\n",
       "fiftyTwoWeekHigh                object\n",
       "fiftyTwoWeekLow                 object\n",
       "dayLow                          object\n",
       "dayHigh                         object\n",
       "heldPercentInstitutions         object\n",
       "heldPercentInsiders             object\n",
       "averageDailyVolume10Day         object\n",
       "averageVolume10days             object\n",
       "averageVolume                   object\n",
       "floatShares                     object\n",
       "sharesOutstanding               object\n",
       "revenueGrowth                   object\n",
       "earningsGrowth                  object\n",
       "earningsQuarterlyGrowth         object\n",
       "pegRatio                        object\n",
       "trailingPegRatio                object\n",
       "ebitdaMargins                   object\n",
       "profitMargins                   object\n",
       "grossMargins                    object\n",
       "operatingMargins                object\n",
       "returnOnAssets                  object\n",
       "returnOnEquity                  object\n",
       "revenuePerShare                 object\n",
       "priceToSalesTrailing12Months    object\n",
       "priceToBook                     object\n",
       "forwardPE                       object\n",
       "trailingPE                      object\n",
       "trailingAnnualDividendYield     object\n",
       "payoutRatio                     object\n",
       "dividendYield                   object\n",
       "forwardEps                      object\n",
       "trailingEps                     object\n",
       "dividendRate                    object\n",
       "trailingAnnualDividendRate      object\n",
       "totalRevenue                    object\n",
       "totalCash                       object\n",
       "totalDebt                       object\n",
       "currentRatio                    object\n",
       "debtToEquity                    object\n",
       "totalCashPerShare               object\n",
       "quickRatio                      object\n",
       "city                            object\n",
       "country                         object\n",
       "sector                          object\n",
       "industry                        object\n",
       "dtype: object"
      ]
     },
     "execution_count": 17,
     "metadata": {},
     "output_type": "execute_result"
    }
   ],
   "source": [
    "df_info.dtypes"
   ]
  },
  {
   "cell_type": "markdown",
   "metadata": {},
   "source": [
    "'Location' and 'Sector industry' are categorical variables"
   ]
  },
  {
   "cell_type": "code",
   "execution_count": 18,
   "metadata": {
    "ExecuteTime": {
     "end_time": "2022-03-11T05:31:24.014112Z",
     "start_time": "2022-03-11T05:31:23.985192Z"
    }
   },
   "outputs": [],
   "source": [
    "# Convert all numbers to float except nominal variables in 'Location' and 'Sector industry' categories\n",
    "# name df_quant\n",
    "df_quant = df_info.loc[:, ~(df_info.columns.isin(fields['Location']) | df_info.columns.isin(fields['Sector industry']))].apply(lambda x: x.astype(float))\n",
    "\n",
    "# Nominal variables in Location or Sector industry will need to one-hot encode: df_nom\n",
    "df_nom = df_info.loc[:, (df_info.columns.isin(fields['Location']) | df_info.columns.isin(fields['Sector industry']))]"
   ]
  },
  {
   "cell_type": "markdown",
   "metadata": {
    "ExecuteTime": {
     "end_time": "2022-03-02T10:31:53.077677Z",
     "start_time": "2022-03-02T10:31:53.066707Z"
    }
   },
   "source": [
    "## Data Exploration: Examine each category in Quantitative variables\n",
    "We will note down what we need to do in all categories and fields before executing the cleaning."
   ]
  },
  {
   "cell_type": "markdown",
   "metadata": {},
   "source": [
    "First check those without need for normalization."
   ]
  },
  {
   "cell_type": "code",
   "execution_count": 19,
   "metadata": {
    "ExecuteTime": {
     "end_time": "2022-03-11T05:31:24.156731Z",
     "start_time": "2022-03-11T05:31:24.016108Z"
    }
   },
   "outputs": [
    {
     "name": "stdout",
     "output_type": "stream",
     "text": [
      "-----------\n",
      "Category: Market expectation\n",
      "count      4.0\n",
      "min      288.0\n",
      "max      288.0\n",
      "Name: count, dtype: float64\n",
      "-----------\n",
      "Category: Size\n",
      "count      4.0\n",
      "min      272.0\n",
      "max      300.0\n",
      "Name: count, dtype: float64\n",
      "-----------\n",
      "Category: Momentum\n",
      "count      1.0\n",
      "min      300.0\n",
      "max      300.0\n",
      "Name: count, dtype: float64\n",
      "-----------\n",
      "Category: Liquidity\n",
      "count      2.0\n",
      "min      300.0\n",
      "max      300.0\n",
      "Name: count, dtype: float64\n",
      "-----------\n",
      "Category: Growth\n",
      "count      5.0\n",
      "min        3.0\n",
      "max      300.0\n",
      "Name: count, dtype: float64\n",
      "-----------\n",
      "Category: Value\n",
      "count     14.0\n",
      "min      265.0\n",
      "max      300.0\n",
      "Name: count, dtype: float64\n",
      "-----------\n",
      "Category: Financial leverage\n",
      "count      4.0\n",
      "min      264.0\n",
      "max      299.0\n",
      "Name: count, dtype: float64\n"
     ]
    }
   ],
   "source": [
    "for cat, f_list in fields.items():\n",
    "    if ('_norm' not in cat) and (cat not in ['Location', 'Sector industry']):\n",
    "        print('-----------')\n",
    "        print('Category:', cat)\n",
    "        print((df_quant.loc[:, f_list].describe().T['count'].describe()[['count','min','max']]))"
   ]
  },
  {
   "cell_type": "markdown",
   "metadata": {},
   "source": [
    "### Check Market Expectation, Size, Financial Leverage"
   ]
  },
  {
   "cell_type": "code",
   "execution_count": 20,
   "metadata": {
    "ExecuteTime": {
     "end_time": "2022-03-11T05:31:24.187650Z",
     "start_time": "2022-03-11T05:31:24.158726Z"
    }
   },
   "outputs": [
    {
     "name": "stdout",
     "output_type": "stream",
     "text": [
      "Shape: (12, 4)\n"
     ]
    },
    {
     "data": {
      "text/html": [
       "<div>\n",
       "<style scoped>\n",
       "    .dataframe tbody tr th:only-of-type {\n",
       "        vertical-align: middle;\n",
       "    }\n",
       "\n",
       "    .dataframe tbody tr th {\n",
       "        vertical-align: top;\n",
       "    }\n",
       "\n",
       "    .dataframe thead th {\n",
       "        text-align: right;\n",
       "    }\n",
       "</style>\n",
       "<table border=\"1\" class=\"dataframe\">\n",
       "  <thead>\n",
       "    <tr style=\"text-align: right;\">\n",
       "      <th></th>\n",
       "      <th>targetMeanPrice</th>\n",
       "      <th>targetHighPrice</th>\n",
       "      <th>targetLowPrice</th>\n",
       "      <th>numberOfAnalystOpinions</th>\n",
       "    </tr>\n",
       "  </thead>\n",
       "  <tbody>\n",
       "    <tr>\n",
       "      <th>601989.SS</th>\n",
       "      <td>NaN</td>\n",
       "      <td>NaN</td>\n",
       "      <td>NaN</td>\n",
       "      <td>NaN</td>\n",
       "    </tr>\n",
       "    <tr>\n",
       "      <th>601901.SS</th>\n",
       "      <td>NaN</td>\n",
       "      <td>NaN</td>\n",
       "      <td>NaN</td>\n",
       "      <td>NaN</td>\n",
       "    </tr>\n",
       "    <tr>\n",
       "      <th>002252.SZ</th>\n",
       "      <td>NaN</td>\n",
       "      <td>NaN</td>\n",
       "      <td>NaN</td>\n",
       "      <td>NaN</td>\n",
       "    </tr>\n",
       "    <tr>\n",
       "      <th>600795.SS</th>\n",
       "      <td>NaN</td>\n",
       "      <td>NaN</td>\n",
       "      <td>NaN</td>\n",
       "      <td>NaN</td>\n",
       "    </tr>\n",
       "    <tr>\n",
       "      <th>600918.SS</th>\n",
       "      <td>NaN</td>\n",
       "      <td>NaN</td>\n",
       "      <td>NaN</td>\n",
       "      <td>NaN</td>\n",
       "    </tr>\n",
       "  </tbody>\n",
       "</table>\n",
       "</div>"
      ],
      "text/plain": [
       "           targetMeanPrice  targetHighPrice  targetLowPrice  \\\n",
       "601989.SS              NaN              NaN             NaN   \n",
       "601901.SS              NaN              NaN             NaN   \n",
       "002252.SZ              NaN              NaN             NaN   \n",
       "600795.SS              NaN              NaN             NaN   \n",
       "600918.SS              NaN              NaN             NaN   \n",
       "\n",
       "           numberOfAnalystOpinions  \n",
       "601989.SS                      NaN  \n",
       "601901.SS                      NaN  \n",
       "002252.SZ                      NaN  \n",
       "600795.SS                      NaN  \n",
       "600918.SS                      NaN  "
      ]
     },
     "execution_count": 20,
     "metadata": {},
     "output_type": "execute_result"
    }
   ],
   "source": [
    "# Observe\n",
    "check_cat = 'Market expectation'\n",
    "print('Shape:', df_quant.loc[df_quant[fields[check_cat]].isnull().any(axis=1), fields[check_cat]].shape)\n",
    "df_quant.loc[df_quant[fields[check_cat]].isnull().any(axis=1), fields[check_cat]].head()"
   ]
  },
  {
   "cell_type": "markdown",
   "metadata": {},
   "source": [
    "For 'Market expectation' category, there are stocks with no analyst coverage.\n",
    "For these stocks, we should replace targetMeanPrice, targetHighPrice and targetLowPrice by the latest stock price; numberOfAnalystOpinions is 0."
   ]
  },
  {
   "cell_type": "code",
   "execution_count": 21,
   "metadata": {
    "ExecuteTime": {
     "end_time": "2022-03-11T05:31:24.203607Z",
     "start_time": "2022-03-11T05:31:24.189644Z"
    }
   },
   "outputs": [
    {
     "name": "stdout",
     "output_type": "stream",
     "text": [
      "Shape: (29, 4)\n"
     ]
    },
    {
     "data": {
      "text/html": [
       "<div>\n",
       "<style scoped>\n",
       "    .dataframe tbody tr th:only-of-type {\n",
       "        vertical-align: middle;\n",
       "    }\n",
       "\n",
       "    .dataframe tbody tr th {\n",
       "        vertical-align: top;\n",
       "    }\n",
       "\n",
       "    .dataframe thead th {\n",
       "        text-align: right;\n",
       "    }\n",
       "</style>\n",
       "<table border=\"1\" class=\"dataframe\">\n",
       "  <thead>\n",
       "    <tr style=\"text-align: right;\">\n",
       "      <th></th>\n",
       "      <th>fullTimeEmployees</th>\n",
       "      <th>marketCap</th>\n",
       "      <th>enterpriseValue</th>\n",
       "      <th>bookValue</th>\n",
       "    </tr>\n",
       "  </thead>\n",
       "  <tbody>\n",
       "    <tr>\n",
       "      <th>600036.SS</th>\n",
       "      <td>NaN</td>\n",
       "      <td>1.132586e+12</td>\n",
       "      <td>1.332269e+12</td>\n",
       "      <td>29.933</td>\n",
       "    </tr>\n",
       "    <tr>\n",
       "      <th>601166.SS</th>\n",
       "      <td>NaN</td>\n",
       "      <td>4.321033e+11</td>\n",
       "      <td>6.423771e+11</td>\n",
       "      <td>29.267</td>\n",
       "    </tr>\n",
       "    <tr>\n",
       "      <th>600900.SS</th>\n",
       "      <td>NaN</td>\n",
       "      <td>5.139669e+11</td>\n",
       "      <td>6.043409e+11</td>\n",
       "      <td>7.728</td>\n",
       "    </tr>\n",
       "    <tr>\n",
       "      <th>600030.SS</th>\n",
       "      <td>NaN</td>\n",
       "      <td>2.529485e+11</td>\n",
       "      <td>-9.189750e+10</td>\n",
       "      <td>15.771</td>\n",
       "    </tr>\n",
       "    <tr>\n",
       "      <th>002415.SZ</th>\n",
       "      <td>NaN</td>\n",
       "      <td>4.227255e+11</td>\n",
       "      <td>4.321857e+11</td>\n",
       "      <td>6.162</td>\n",
       "    </tr>\n",
       "  </tbody>\n",
       "</table>\n",
       "</div>"
      ],
      "text/plain": [
       "           fullTimeEmployees     marketCap  enterpriseValue  bookValue\n",
       "600036.SS                NaN  1.132586e+12     1.332269e+12     29.933\n",
       "601166.SS                NaN  4.321033e+11     6.423771e+11     29.267\n",
       "600900.SS                NaN  5.139669e+11     6.043409e+11      7.728\n",
       "600030.SS                NaN  2.529485e+11    -9.189750e+10     15.771\n",
       "002415.SZ                NaN  4.227255e+11     4.321857e+11      6.162"
      ]
     },
     "execution_count": 21,
     "metadata": {},
     "output_type": "execute_result"
    }
   ],
   "source": [
    "# Observe\n",
    "check_cat = 'Size'\n",
    "print('Shape:', df_quant.loc[df_quant[fields[check_cat]].isnull().any(axis=1), fields[check_cat]].shape)\n",
    "df_quant.loc[df_quant[fields[check_cat]].isnull().any(axis=1), fields[check_cat]].head()"
   ]
  },
  {
   "cell_type": "code",
   "execution_count": 22,
   "metadata": {
    "ExecuteTime": {
     "end_time": "2022-03-11T05:31:24.218567Z",
     "start_time": "2022-03-11T05:31:24.205601Z"
    }
   },
   "outputs": [
    {
     "data": {
      "text/plain": [
       "600030.SS   -9.189750e+10\n",
       "601398.SS   -8.591325e+11\n",
       "601688.SS   -5.529811e+10\n",
       "601658.SS   -1.510244e+12\n",
       "601939.SS   -8.261938e+11\n",
       "Name: enterpriseValue, dtype: float64"
      ]
     },
     "execution_count": 22,
     "metadata": {},
     "output_type": "execute_result"
    }
   ],
   "source": [
    "df_quant['enterpriseValue'][df_quant['enterpriseValue'] < 0]"
   ]
  },
  {
   "cell_type": "markdown",
   "metadata": {},
   "source": [
    "For 'Size' category, we will try to impute the missing values of fullTimeEmployees since only 29 stocks are missing it.  We should use enterpriseValue and marketCap for this.\n",
    "* There seems to be some negative enterpriseValue -> logistic function? EV = market cap stock + MV preferred eq + MV debt + minority interest - cash and investments\n",
    "* divide by market cap stock"
   ]
  },
  {
   "cell_type": "code",
   "execution_count": 23,
   "metadata": {
    "ExecuteTime": {
     "end_time": "2022-03-11T05:31:24.248486Z",
     "start_time": "2022-03-11T05:31:24.219564Z"
    },
    "scrolled": true
   },
   "outputs": [
    {
     "name": "stdout",
     "output_type": "stream",
     "text": [
      "Shape: (42, 4)\n"
     ]
    },
    {
     "data": {
      "text/html": [
       "<div>\n",
       "<style scoped>\n",
       "    .dataframe tbody tr th:only-of-type {\n",
       "        vertical-align: middle;\n",
       "    }\n",
       "\n",
       "    .dataframe tbody tr th {\n",
       "        vertical-align: top;\n",
       "    }\n",
       "\n",
       "    .dataframe thead th {\n",
       "        text-align: right;\n",
       "    }\n",
       "</style>\n",
       "<table border=\"1\" class=\"dataframe\">\n",
       "  <thead>\n",
       "    <tr style=\"text-align: right;\">\n",
       "      <th></th>\n",
       "      <th>currentRatio</th>\n",
       "      <th>debtToEquity</th>\n",
       "      <th>totalCashPerShare</th>\n",
       "      <th>quickRatio</th>\n",
       "    </tr>\n",
       "  </thead>\n",
       "  <tbody>\n",
       "    <tr>\n",
       "      <th>600036.SS</th>\n",
       "      <td>NaN</td>\n",
       "      <td>NaN</td>\n",
       "      <td>39.631</td>\n",
       "      <td>NaN</td>\n",
       "    </tr>\n",
       "    <tr>\n",
       "      <th>601166.SS</th>\n",
       "      <td>NaN</td>\n",
       "      <td>NaN</td>\n",
       "      <td>79.705</td>\n",
       "      <td>NaN</td>\n",
       "    </tr>\n",
       "    <tr>\n",
       "      <th>600900.SS</th>\n",
       "      <td>NaN</td>\n",
       "      <td>62.758</td>\n",
       "      <td>0.388</td>\n",
       "      <td>NaN</td>\n",
       "    </tr>\n",
       "    <tr>\n",
       "      <th>600030.SS</th>\n",
       "      <td>NaN</td>\n",
       "      <td>211.027</td>\n",
       "      <td>64.182</td>\n",
       "      <td>NaN</td>\n",
       "    </tr>\n",
       "    <tr>\n",
       "      <th>002415.SZ</th>\n",
       "      <td>NaN</td>\n",
       "      <td>15.765</td>\n",
       "      <td>3.066</td>\n",
       "      <td>NaN</td>\n",
       "    </tr>\n",
       "    <tr>\n",
       "      <th>601398.SS</th>\n",
       "      <td>NaN</td>\n",
       "      <td>NaN</td>\n",
       "      <td>10.815</td>\n",
       "      <td>NaN</td>\n",
       "    </tr>\n",
       "    <tr>\n",
       "      <th>000001.SZ</th>\n",
       "      <td>NaN</td>\n",
       "      <td>NaN</td>\n",
       "      <td>42.626</td>\n",
       "      <td>NaN</td>\n",
       "    </tr>\n",
       "    <tr>\n",
       "      <th>002142.SZ</th>\n",
       "      <td>NaN</td>\n",
       "      <td>NaN</td>\n",
       "      <td>78.544</td>\n",
       "      <td>NaN</td>\n",
       "    </tr>\n",
       "    <tr>\n",
       "      <th>600809.SS</th>\n",
       "      <td>1.949</td>\n",
       "      <td>NaN</td>\n",
       "      <td>8.775</td>\n",
       "      <td>1.346</td>\n",
       "    </tr>\n",
       "    <tr>\n",
       "      <th>601328.SS</th>\n",
       "      <td>NaN</td>\n",
       "      <td>NaN</td>\n",
       "      <td>11.188</td>\n",
       "      <td>NaN</td>\n",
       "    </tr>\n",
       "    <tr>\n",
       "      <th>601288.SS</th>\n",
       "      <td>NaN</td>\n",
       "      <td>NaN</td>\n",
       "      <td>9.254</td>\n",
       "      <td>NaN</td>\n",
       "    </tr>\n",
       "    <tr>\n",
       "      <th>600000.SS</th>\n",
       "      <td>NaN</td>\n",
       "      <td>NaN</td>\n",
       "      <td>45.949</td>\n",
       "      <td>NaN</td>\n",
       "    </tr>\n",
       "    <tr>\n",
       "      <th>600016.SS</th>\n",
       "      <td>NaN</td>\n",
       "      <td>NaN</td>\n",
       "      <td>17.611</td>\n",
       "      <td>NaN</td>\n",
       "    </tr>\n",
       "    <tr>\n",
       "      <th>600919.SS</th>\n",
       "      <td>NaN</td>\n",
       "      <td>NaN</td>\n",
       "      <td>31.817</td>\n",
       "      <td>NaN</td>\n",
       "    </tr>\n",
       "    <tr>\n",
       "      <th>601229.SS</th>\n",
       "      <td>NaN</td>\n",
       "      <td>NaN</td>\n",
       "      <td>36.237</td>\n",
       "      <td>NaN</td>\n",
       "    </tr>\n",
       "    <tr>\n",
       "      <th>601169.SS</th>\n",
       "      <td>NaN</td>\n",
       "      <td>NaN</td>\n",
       "      <td>19.906</td>\n",
       "      <td>NaN</td>\n",
       "    </tr>\n",
       "    <tr>\n",
       "      <th>601988.SS</th>\n",
       "      <td>NaN</td>\n",
       "      <td>NaN</td>\n",
       "      <td>8.549</td>\n",
       "      <td>NaN</td>\n",
       "    </tr>\n",
       "    <tr>\n",
       "      <th>601658.SS</th>\n",
       "      <td>NaN</td>\n",
       "      <td>NaN</td>\n",
       "      <td>25.060</td>\n",
       "      <td>NaN</td>\n",
       "    </tr>\n",
       "    <tr>\n",
       "      <th>601818.SS</th>\n",
       "      <td>NaN</td>\n",
       "      <td>NaN</td>\n",
       "      <td>14.339</td>\n",
       "      <td>NaN</td>\n",
       "    </tr>\n",
       "    <tr>\n",
       "      <th>601009.SS</th>\n",
       "      <td>NaN</td>\n",
       "      <td>NaN</td>\n",
       "      <td>38.939</td>\n",
       "      <td>NaN</td>\n",
       "    </tr>\n",
       "    <tr>\n",
       "      <th>002179.SZ</th>\n",
       "      <td>NaN</td>\n",
       "      <td>10.355</td>\n",
       "      <td>3.578</td>\n",
       "      <td>NaN</td>\n",
       "    </tr>\n",
       "    <tr>\n",
       "      <th>600926.SS</th>\n",
       "      <td>NaN</td>\n",
       "      <td>NaN</td>\n",
       "      <td>46.626</td>\n",
       "      <td>NaN</td>\n",
       "    </tr>\n",
       "    <tr>\n",
       "      <th>601939.SS</th>\n",
       "      <td>NaN</td>\n",
       "      <td>NaN</td>\n",
       "      <td>18.689</td>\n",
       "      <td>NaN</td>\n",
       "    </tr>\n",
       "    <tr>\n",
       "      <th>600015.SS</th>\n",
       "      <td>NaN</td>\n",
       "      <td>NaN</td>\n",
       "      <td>20.289</td>\n",
       "      <td>NaN</td>\n",
       "    </tr>\n",
       "    <tr>\n",
       "      <th>688111.SS</th>\n",
       "      <td>NaN</td>\n",
       "      <td>1.182</td>\n",
       "      <td>16.217</td>\n",
       "      <td>NaN</td>\n",
       "    </tr>\n",
       "    <tr>\n",
       "      <th>603806.SS</th>\n",
       "      <td>7.220</td>\n",
       "      <td>NaN</td>\n",
       "      <td>2.392</td>\n",
       "      <td>5.481</td>\n",
       "    </tr>\n",
       "    <tr>\n",
       "      <th>603369.SS</th>\n",
       "      <td>2.517</td>\n",
       "      <td>NaN</td>\n",
       "      <td>4.829</td>\n",
       "      <td>1.720</td>\n",
       "    </tr>\n",
       "    <tr>\n",
       "      <th>601838.SS</th>\n",
       "      <td>NaN</td>\n",
       "      <td>NaN</td>\n",
       "      <td>38.179</td>\n",
       "      <td>NaN</td>\n",
       "    </tr>\n",
       "    <tr>\n",
       "      <th>688036.SS</th>\n",
       "      <td>NaN</td>\n",
       "      <td>13.843</td>\n",
       "      <td>18.202</td>\n",
       "      <td>NaN</td>\n",
       "    </tr>\n",
       "    <tr>\n",
       "      <th>601916.SS</th>\n",
       "      <td>NaN</td>\n",
       "      <td>NaN</td>\n",
       "      <td>14.396</td>\n",
       "      <td>NaN</td>\n",
       "    </tr>\n",
       "    <tr>\n",
       "      <th>300628.SZ</th>\n",
       "      <td>11.025</td>\n",
       "      <td>NaN</td>\n",
       "      <td>4.657</td>\n",
       "      <td>9.437</td>\n",
       "    </tr>\n",
       "    <tr>\n",
       "      <th>300033.SZ</th>\n",
       "      <td>3.373</td>\n",
       "      <td>NaN</td>\n",
       "      <td>12.254</td>\n",
       "      <td>3.363</td>\n",
       "    </tr>\n",
       "    <tr>\n",
       "      <th>688012.SS</th>\n",
       "      <td>NaN</td>\n",
       "      <td>0.121</td>\n",
       "      <td>17.745</td>\n",
       "      <td>NaN</td>\n",
       "    </tr>\n",
       "    <tr>\n",
       "      <th>688561.SS</th>\n",
       "      <td>NaN</td>\n",
       "      <td>17.016</td>\n",
       "      <td>5.341</td>\n",
       "      <td>NaN</td>\n",
       "    </tr>\n",
       "    <tr>\n",
       "      <th>600872.SS</th>\n",
       "      <td>NaN</td>\n",
       "      <td>16.950</td>\n",
       "      <td>0.840</td>\n",
       "      <td>NaN</td>\n",
       "    </tr>\n",
       "    <tr>\n",
       "      <th>600161.SS</th>\n",
       "      <td>NaN</td>\n",
       "      <td>5.582</td>\n",
       "      <td>3.456</td>\n",
       "      <td>NaN</td>\n",
       "    </tr>\n",
       "    <tr>\n",
       "      <th>002568.SZ</th>\n",
       "      <td>2.224</td>\n",
       "      <td>NaN</td>\n",
       "      <td>1.619</td>\n",
       "      <td>1.881</td>\n",
       "    </tr>\n",
       "    <tr>\n",
       "      <th>600606.SS</th>\n",
       "      <td>NaN</td>\n",
       "      <td>148.427</td>\n",
       "      <td>7.254</td>\n",
       "      <td>NaN</td>\n",
       "    </tr>\n",
       "    <tr>\n",
       "      <th>601998.SS</th>\n",
       "      <td>NaN</td>\n",
       "      <td>NaN</td>\n",
       "      <td>22.825</td>\n",
       "      <td>NaN</td>\n",
       "    </tr>\n",
       "    <tr>\n",
       "      <th>601231.SS</th>\n",
       "      <td>NaN</td>\n",
       "      <td>62.858</td>\n",
       "      <td>2.606</td>\n",
       "      <td>NaN</td>\n",
       "    </tr>\n",
       "    <tr>\n",
       "      <th>002032.SZ</th>\n",
       "      <td>NaN</td>\n",
       "      <td>2.885</td>\n",
       "      <td>2.454</td>\n",
       "      <td>NaN</td>\n",
       "    </tr>\n",
       "    <tr>\n",
       "      <th>000800.SZ</th>\n",
       "      <td>NaN</td>\n",
       "      <td>0.290</td>\n",
       "      <td>NaN</td>\n",
       "      <td>NaN</td>\n",
       "    </tr>\n",
       "  </tbody>\n",
       "</table>\n",
       "</div>"
      ],
      "text/plain": [
       "           currentRatio  debtToEquity  totalCashPerShare  quickRatio\n",
       "600036.SS           NaN           NaN             39.631         NaN\n",
       "601166.SS           NaN           NaN             79.705         NaN\n",
       "600900.SS           NaN        62.758              0.388         NaN\n",
       "600030.SS           NaN       211.027             64.182         NaN\n",
       "002415.SZ           NaN        15.765              3.066         NaN\n",
       "601398.SS           NaN           NaN             10.815         NaN\n",
       "000001.SZ           NaN           NaN             42.626         NaN\n",
       "002142.SZ           NaN           NaN             78.544         NaN\n",
       "600809.SS         1.949           NaN              8.775       1.346\n",
       "601328.SS           NaN           NaN             11.188         NaN\n",
       "601288.SS           NaN           NaN              9.254         NaN\n",
       "600000.SS           NaN           NaN             45.949         NaN\n",
       "600016.SS           NaN           NaN             17.611         NaN\n",
       "600919.SS           NaN           NaN             31.817         NaN\n",
       "601229.SS           NaN           NaN             36.237         NaN\n",
       "601169.SS           NaN           NaN             19.906         NaN\n",
       "601988.SS           NaN           NaN              8.549         NaN\n",
       "601658.SS           NaN           NaN             25.060         NaN\n",
       "601818.SS           NaN           NaN             14.339         NaN\n",
       "601009.SS           NaN           NaN             38.939         NaN\n",
       "002179.SZ           NaN        10.355              3.578         NaN\n",
       "600926.SS           NaN           NaN             46.626         NaN\n",
       "601939.SS           NaN           NaN             18.689         NaN\n",
       "600015.SS           NaN           NaN             20.289         NaN\n",
       "688111.SS           NaN         1.182             16.217         NaN\n",
       "603806.SS         7.220           NaN              2.392       5.481\n",
       "603369.SS         2.517           NaN              4.829       1.720\n",
       "601838.SS           NaN           NaN             38.179         NaN\n",
       "688036.SS           NaN        13.843             18.202         NaN\n",
       "601916.SS           NaN           NaN             14.396         NaN\n",
       "300628.SZ        11.025           NaN              4.657       9.437\n",
       "300033.SZ         3.373           NaN             12.254       3.363\n",
       "688012.SS           NaN         0.121             17.745         NaN\n",
       "688561.SS           NaN        17.016              5.341         NaN\n",
       "600872.SS           NaN        16.950              0.840         NaN\n",
       "600161.SS           NaN         5.582              3.456         NaN\n",
       "002568.SZ         2.224           NaN              1.619       1.881\n",
       "600606.SS           NaN       148.427              7.254         NaN\n",
       "601998.SS           NaN           NaN             22.825         NaN\n",
       "601231.SS           NaN        62.858              2.606         NaN\n",
       "002032.SZ           NaN         2.885              2.454         NaN\n",
       "000800.SZ           NaN         0.290                NaN         NaN"
      ]
     },
     "execution_count": 23,
     "metadata": {},
     "output_type": "execute_result"
    }
   ],
   "source": [
    "# Observe\n",
    "check_cat = 'Financial leverage'\n",
    "print('Shape:', df_quant.loc[df_quant[fields[check_cat]].isnull().any(axis=1), fields[check_cat]].shape)\n",
    "df_quant.loc[df_quant[fields[check_cat]].isnull().any(axis=1), fields[check_cat]]"
   ]
  },
  {
   "cell_type": "markdown",
   "metadata": {},
   "source": [
    "Financial leverage\n",
    "* drop currentRatio, quickRatio\n",
    "* debt to equity: Impute from Cash per share divided by stock price"
   ]
  },
  {
   "cell_type": "markdown",
   "metadata": {
    "ExecuteTime": {
     "end_time": "2022-03-04T07:37:18.993712Z",
     "start_time": "2022-03-04T07:37:18.990720Z"
    }
   },
   "source": [
    "### Check Value"
   ]
  },
  {
   "cell_type": "code",
   "execution_count": 24,
   "metadata": {
    "ExecuteTime": {
     "end_time": "2022-03-11T05:31:24.375147Z",
     "start_time": "2022-03-11T05:31:24.250481Z"
    }
   },
   "outputs": [
    {
     "data": {
      "text/plain": [
       "returnOnAssets                  281.0\n",
       "returnOnEquity                  299.0\n",
       "priceToSalesTrailing12Months    299.0\n",
       "priceToBook                     299.0\n",
       "forwardPE                       265.0\n",
       "trailingPE                      283.0\n",
       "trailingAnnualDividendYield     292.0\n",
       "payoutRatio                     294.0\n",
       "dividendYield                   275.0\n",
       "Name: count, dtype: float64"
      ]
     },
     "execution_count": 24,
     "metadata": {},
     "output_type": "execute_result"
    }
   ],
   "source": [
    "df_quant[fields['Value']].describe().loc['count', :][df_quant[fields['Value']].describe().loc['count', :] < max(df_quant[fields['Value']].describe().loc['count', :])]"
   ]
  },
  {
   "cell_type": "markdown",
   "metadata": {},
   "source": [
    "* returnOnAsset and returnOnEquity: replace null with 0\n",
    "* forwardPE and trailing PE replace with mean\n"
   ]
  },
  {
   "cell_type": "code",
   "execution_count": 25,
   "metadata": {
    "ExecuteTime": {
     "end_time": "2022-03-11T05:31:26.154388Z",
     "start_time": "2022-03-11T05:31:24.377143Z"
    }
   },
   "outputs": [
    {
     "data": {
      "text/plain": [
       "<AxesSubplot:xlabel='trailingAnnualDividendYield', ylabel='dividendYield'>"
      ]
     },
     "execution_count": 25,
     "metadata": {},
     "output_type": "execute_result"
    },
    {
     "data": {
      "image/png": "[encoded data removed]",
      "text/plain": [
       "<Figure size 432x288 with 1 Axes>"
      ]
     },
     "metadata": {
      "needs_background": "light"
     },
     "output_type": "display_data"
    }
   ],
   "source": [
    "df_quant[['trailingAnnualDividendYield', 'dividendYield']].plot.scatter('trailingAnnualDividendYield', 'dividendYield')"
   ]
  },
  {
   "cell_type": "markdown",
   "metadata": {
    "ExecuteTime": {
     "end_time": "2022-03-04T07:41:54.043626Z",
     "start_time": "2022-03-04T07:41:54.038640Z"
    }
   },
   "source": [
    "* 'trailingAnnualDividendYield', 'dividendYield' look similar, drop dividendYield.\n",
    "* Replace null with 0 for trailingAnnualDividendYield and payoutRatio"
   ]
  },
  {
   "cell_type": "markdown",
   "metadata": {},
   "source": [
    "### Check Growth"
   ]
  },
  {
   "cell_type": "code",
   "execution_count": 26,
   "metadata": {
    "ExecuteTime": {
     "end_time": "2022-03-11T05:31:26.170345Z",
     "start_time": "2022-03-11T05:31:26.156384Z"
    }
   },
   "outputs": [
    {
     "data": {
      "text/plain": [
       "['revenueGrowth',\n",
       " 'earningsGrowth',\n",
       " 'earningsQuarterlyGrowth',\n",
       " 'pegRatio',\n",
       " 'trailingPegRatio']"
      ]
     },
     "execution_count": 26,
     "metadata": {},
     "output_type": "execute_result"
    }
   ],
   "source": [
    "fields['Growth']"
   ]
  },
  {
   "cell_type": "code",
   "execution_count": 27,
   "metadata": {
    "ExecuteTime": {
     "end_time": "2022-03-11T05:31:26.186302Z",
     "start_time": "2022-03-11T05:31:26.172340Z"
    }
   },
   "outputs": [
    {
     "data": {
      "text/html": [
       "<div>\n",
       "<style scoped>\n",
       "    .dataframe tbody tr th:only-of-type {\n",
       "        vertical-align: middle;\n",
       "    }\n",
       "\n",
       "    .dataframe tbody tr th {\n",
       "        vertical-align: top;\n",
       "    }\n",
       "\n",
       "    .dataframe thead th {\n",
       "        text-align: right;\n",
       "    }\n",
       "</style>\n",
       "<table border=\"1\" class=\"dataframe\">\n",
       "  <thead>\n",
       "    <tr style=\"text-align: right;\">\n",
       "      <th></th>\n",
       "      <th>revenueGrowth</th>\n",
       "      <th>earningsGrowth</th>\n",
       "      <th>earningsQuarterlyGrowth</th>\n",
       "    </tr>\n",
       "  </thead>\n",
       "  <tbody>\n",
       "    <tr>\n",
       "      <th>002714.SZ</th>\n",
       "      <td>-0.187</td>\n",
       "      <td>NaN</td>\n",
       "      <td>NaN</td>\n",
       "    </tr>\n",
       "    <tr>\n",
       "      <th>300498.SZ</th>\n",
       "      <td>-0.182</td>\n",
       "      <td>NaN</td>\n",
       "      <td>NaN</td>\n",
       "    </tr>\n",
       "    <tr>\n",
       "      <th>002466.SZ</th>\n",
       "      <td>1.777</td>\n",
       "      <td>NaN</td>\n",
       "      <td>NaN</td>\n",
       "    </tr>\n",
       "    <tr>\n",
       "      <th>600570.SS</th>\n",
       "      <td>0.487</td>\n",
       "      <td>NaN</td>\n",
       "      <td>NaN</td>\n",
       "    </tr>\n",
       "    <tr>\n",
       "      <th>600588.SS</th>\n",
       "      <td>0.052</td>\n",
       "      <td>NaN</td>\n",
       "      <td>NaN</td>\n",
       "    </tr>\n",
       "    <tr>\n",
       "      <th>600009.SS</th>\n",
       "      <td>-0.025</td>\n",
       "      <td>NaN</td>\n",
       "      <td>NaN</td>\n",
       "    </tr>\n",
       "    <tr>\n",
       "      <th>601989.SS</th>\n",
       "      <td>0.175</td>\n",
       "      <td>NaN</td>\n",
       "      <td>NaN</td>\n",
       "    </tr>\n",
       "    <tr>\n",
       "      <th>000876.SZ</th>\n",
       "      <td>0.095</td>\n",
       "      <td>NaN</td>\n",
       "      <td>NaN</td>\n",
       "    </tr>\n",
       "    <tr>\n",
       "      <th>600011.SS</th>\n",
       "      <td>0.168</td>\n",
       "      <td>NaN</td>\n",
       "      <td>NaN</td>\n",
       "    </tr>\n",
       "    <tr>\n",
       "      <th>600029.SS</th>\n",
       "      <td>0.020</td>\n",
       "      <td>NaN</td>\n",
       "      <td>NaN</td>\n",
       "    </tr>\n",
       "    <tr>\n",
       "      <th>600115.SS</th>\n",
       "      <td>0.036</td>\n",
       "      <td>NaN</td>\n",
       "      <td>NaN</td>\n",
       "    </tr>\n",
       "    <tr>\n",
       "      <th>601111.SS</th>\n",
       "      <td>0.052</td>\n",
       "      <td>NaN</td>\n",
       "      <td>NaN</td>\n",
       "    </tr>\n",
       "    <tr>\n",
       "      <th>600795.SS</th>\n",
       "      <td>0.150</td>\n",
       "      <td>NaN</td>\n",
       "      <td>NaN</td>\n",
       "    </tr>\n",
       "    <tr>\n",
       "      <th>601728.SS</th>\n",
       "      <td>0.113</td>\n",
       "      <td>NaN</td>\n",
       "      <td>0.174</td>\n",
       "    </tr>\n",
       "    <tr>\n",
       "      <th>600606.SS</th>\n",
       "      <td>-0.201</td>\n",
       "      <td>NaN</td>\n",
       "      <td>NaN</td>\n",
       "    </tr>\n",
       "    <tr>\n",
       "      <th>688126.SS</th>\n",
       "      <td>0.424</td>\n",
       "      <td>NaN</td>\n",
       "      <td>NaN</td>\n",
       "    </tr>\n",
       "    <tr>\n",
       "      <th>002024.SZ</th>\n",
       "      <td>-0.648</td>\n",
       "      <td>NaN</td>\n",
       "      <td>NaN</td>\n",
       "    </tr>\n",
       "    <tr>\n",
       "      <th>601933.SS</th>\n",
       "      <td>0.039</td>\n",
       "      <td>NaN</td>\n",
       "      <td>NaN</td>\n",
       "    </tr>\n",
       "    <tr>\n",
       "      <th>002607.SZ</th>\n",
       "      <td>-0.688</td>\n",
       "      <td>NaN</td>\n",
       "      <td>NaN</td>\n",
       "    </tr>\n",
       "    <tr>\n",
       "      <th>002157.SZ</th>\n",
       "      <td>-0.172</td>\n",
       "      <td>NaN</td>\n",
       "      <td>NaN</td>\n",
       "    </tr>\n",
       "  </tbody>\n",
       "</table>\n",
       "</div>"
      ],
      "text/plain": [
       "           revenueGrowth  earningsGrowth  earningsQuarterlyGrowth\n",
       "002714.SZ         -0.187             NaN                      NaN\n",
       "300498.SZ         -0.182             NaN                      NaN\n",
       "002466.SZ          1.777             NaN                      NaN\n",
       "600570.SS          0.487             NaN                      NaN\n",
       "600588.SS          0.052             NaN                      NaN\n",
       "600009.SS         -0.025             NaN                      NaN\n",
       "601989.SS          0.175             NaN                      NaN\n",
       "000876.SZ          0.095             NaN                      NaN\n",
       "600011.SS          0.168             NaN                      NaN\n",
       "600029.SS          0.020             NaN                      NaN\n",
       "600115.SS          0.036             NaN                      NaN\n",
       "601111.SS          0.052             NaN                      NaN\n",
       "600795.SS          0.150             NaN                      NaN\n",
       "601728.SS          0.113             NaN                    0.174\n",
       "600606.SS         -0.201             NaN                      NaN\n",
       "688126.SS          0.424             NaN                      NaN\n",
       "002024.SZ         -0.648             NaN                      NaN\n",
       "601933.SS          0.039             NaN                      NaN\n",
       "002607.SZ         -0.688             NaN                      NaN\n",
       "002157.SZ         -0.172             NaN                      NaN"
      ]
     },
     "execution_count": 27,
     "metadata": {},
     "output_type": "execute_result"
    }
   ],
   "source": [
    "# Observe\n",
    "df_quant.loc[df_quant[['revenueGrowth',\n",
    " 'earningsGrowth',\n",
    " 'earningsQuarterlyGrowth']].isnull().any(axis=1), ['revenueGrowth',\n",
    " 'earningsGrowth',\n",
    " 'earningsQuarterlyGrowth']]"
   ]
  },
  {
   "cell_type": "markdown",
   "metadata": {},
   "source": [
    "replace null by 0 for growth"
   ]
  },
  {
   "cell_type": "markdown",
   "metadata": {},
   "source": [
    "### Check pending normalize attributes"
   ]
  },
  {
   "cell_type": "code",
   "execution_count": 28,
   "metadata": {
    "ExecuteTime": {
     "end_time": "2022-03-11T05:31:26.202259Z",
     "start_time": "2022-03-11T05:31:26.187300Z"
    }
   },
   "outputs": [],
   "source": [
    "cat_to_norm = [cat for cat, f_list in fields.items() if '_to_norm' in cat]"
   ]
  },
  {
   "cell_type": "code",
   "execution_count": 29,
   "metadata": {
    "ExecuteTime": {
     "end_time": "2022-03-11T05:31:26.233177Z",
     "start_time": "2022-03-11T05:31:26.203257Z"
    }
   },
   "outputs": [
    {
     "data": {
      "text/plain": [
       "52WeekChange              9.0\n",
       "twoHundredDayAverage    300.0\n",
       "fiftyDayAverage         300.0\n",
       "previousClose           300.0\n",
       "fiftyTwoWeekHigh        300.0\n",
       "fiftyTwoWeekLow         300.0\n",
       "dayLow                  300.0\n",
       "dayHigh                 300.0\n",
       "Name: count, dtype: float64"
      ]
     },
     "execution_count": 29,
     "metadata": {},
     "output_type": "execute_result"
    }
   ],
   "source": [
    "df_quant.loc[:, fields[cat_to_norm[0]]].describe().T['count']"
   ]
  },
  {
   "cell_type": "code",
   "execution_count": 30,
   "metadata": {
    "ExecuteTime": {
     "end_time": "2022-03-11T05:31:26.281048Z",
     "start_time": "2022-03-11T05:31:26.234175Z"
    }
   },
   "outputs": [
    {
     "name": "stdout",
     "output_type": "stream",
     "text": [
      "-----------\n",
      "Category: Momentum_to_norm\n",
      "52WeekChange              9.0\n",
      "twoHundredDayAverage    300.0\n",
      "fiftyDayAverage         300.0\n",
      "previousClose           300.0\n",
      "fiftyTwoWeekHigh        300.0\n",
      "fiftyTwoWeekLow         300.0\n",
      "dayLow                  300.0\n",
      "dayHigh                 300.0\n",
      "Name: count, dtype: float64\n",
      "-----------\n",
      "Category: Liquidity_to_norm\n",
      "averageDailyVolume10Day    300.0\n",
      "averageVolume10days        300.0\n",
      "averageVolume              300.0\n",
      "floatShares                300.0\n",
      "sharesOutstanding          299.0\n",
      "Name: count, dtype: float64\n",
      "-----------\n",
      "Category: Value_to_norm\n",
      "forwardEps                    265.0\n",
      "trailingEps                   299.0\n",
      "dividendRate                  275.0\n",
      "trailingAnnualDividendRate    292.0\n",
      "totalRevenue                  300.0\n",
      "Name: count, dtype: float64\n",
      "-----------\n",
      "Category: Financial leverage_to_norm\n",
      "totalCash    299.0\n",
      "totalDebt    299.0\n",
      "Name: count, dtype: float64\n"
     ]
    }
   ],
   "source": [
    "for cat in cat_to_norm:\n",
    "    print('-----------')\n",
    "    print('Category:', cat)\n",
    "    print((df_quant.loc[:, fields[cat]].describe().T['count']))\n"
   ]
  },
  {
   "cell_type": "markdown",
   "metadata": {},
   "source": [
    "* drop 52WeekChange, forwardEps\n",
    "* dividendRate replaced by dividend yield, drop trailingAnnualDividendRate  "
   ]
  },
  {
   "cell_type": "markdown",
   "metadata": {},
   "source": [
    "## Execute data cleaning"
   ]
  },
  {
   "cell_type": "code",
   "execution_count": 31,
   "metadata": {
    "ExecuteTime": {
     "end_time": "2022-03-11T05:31:26.296010Z",
     "start_time": "2022-03-11T05:31:26.282046Z"
    }
   },
   "outputs": [],
   "source": [
    "# remove dropped attributes from fields\n",
    "def remove_from_fields_dict(fields, cat, list_remove):\n",
    "    fields[cat] = [f for f in fields[cat] if f not in list_remove]\n",
    "    return fields"
   ]
  },
  {
   "cell_type": "code",
   "execution_count": 32,
   "metadata": {
    "ExecuteTime": {
     "end_time": "2022-03-11T05:31:26.311966Z",
     "start_time": "2022-03-11T05:31:26.300996Z"
    }
   },
   "outputs": [],
   "source": [
    "# add attributes to fields\n",
    "def add_to_fields_dict(fields, cat, list_add):\n",
    "    fields[cat] = fields[cat] + list_add\n",
    "    return fields"
   ]
  },
  {
   "cell_type": "markdown",
   "metadata": {},
   "source": [
    "### Drop stocks \n",
    "with more than 15 null fields. stocks_to_drop"
   ]
  },
  {
   "cell_type": "code",
   "execution_count": 33,
   "metadata": {
    "ExecuteTime": {
     "end_time": "2022-03-11T05:31:26.327923Z",
     "start_time": "2022-03-11T05:31:26.312964Z"
    }
   },
   "outputs": [],
   "source": [
    "df_quant.drop(stocks_to_drop, axis=0, inplace=True)"
   ]
  },
  {
   "cell_type": "code",
   "execution_count": 34,
   "metadata": {
    "ExecuteTime": {
     "end_time": "2022-03-11T05:31:26.831576Z",
     "start_time": "2022-03-11T05:31:26.328922Z"
    }
   },
   "outputs": [
    {
     "name": "stderr",
     "output_type": "stream",
     "text": [
      "C:\\Users\\user\\AppData\\Local\\Temp\\ipykernel_42752\\2068560930.py:1: SettingWithCopyWarning: \n",
      "A value is trying to be set on a copy of a slice from a DataFrame\n",
      "\n",
      "See the caveats in the documentation: https://pandas.pydata.org/pandas-docs/stable/user_guide/indexing.html#returning-a-view-versus-a-copy\n",
      "  df_nom.drop(stocks_to_drop, axis=0, inplace=True)\n"
     ]
    }
   ],
   "source": [
    "df_nom.drop(stocks_to_drop, axis=0, inplace=True)"
   ]
  },
  {
   "cell_type": "markdown",
   "metadata": {},
   "source": [
    "### Market Expectation\n",
    "There are stocks with no analyst coverage. For these stocks, we should replace targetMeanPrice, targetHighPrice and targetLowPrice by the latest stock price; numberOfAnalystOpinions is 0."
   ]
  },
  {
   "cell_type": "code",
   "execution_count": 35,
   "metadata": {
    "ExecuteTime": {
     "end_time": "2022-03-11T05:31:26.847533Z",
     "start_time": "2022-03-11T05:31:26.832574Z"
    }
   },
   "outputs": [
    {
     "data": {
      "text/plain": [
       "['targetMeanPrice',\n",
       " 'targetHighPrice',\n",
       " 'targetLowPrice',\n",
       " 'numberOfAnalystOpinions']"
      ]
     },
     "execution_count": 35,
     "metadata": {},
     "output_type": "execute_result"
    }
   ],
   "source": [
    "fields['Market expectation']"
   ]
  },
  {
   "cell_type": "code",
   "execution_count": 36,
   "metadata": {
    "ExecuteTime": {
     "end_time": "2022-03-11T05:31:26.863491Z",
     "start_time": "2022-03-11T05:31:26.848532Z"
    }
   },
   "outputs": [],
   "source": [
    "no_analyst_stocks = df_quant[df_quant['numberOfAnalystOpinions'].isnull()].index.tolist()"
   ]
  },
  {
   "cell_type": "code",
   "execution_count": 37,
   "metadata": {
    "ExecuteTime": {
     "end_time": "2022-03-11T05:31:26.878451Z",
     "start_time": "2022-03-11T05:31:26.864489Z"
    }
   },
   "outputs": [],
   "source": [
    "df_quant.loc[no_analyst_stocks, ['targetMeanPrice', 'targetHighPrice', 'targetLowPrice']] = \\\n",
    "    df_quant.loc[no_analyst_stocks, 'currentPrice']\n",
    "df_quant.loc[no_analyst_stocks, ['numberOfAnalystOpinions']] = 0"
   ]
  },
  {
   "cell_type": "code",
   "execution_count": 38,
   "metadata": {
    "ExecuteTime": {
     "end_time": "2022-03-11T05:31:26.894408Z",
     "start_time": "2022-03-11T05:31:26.879449Z"
    }
   },
   "outputs": [
    {
     "data": {
      "text/html": [
       "<div>\n",
       "<style scoped>\n",
       "    .dataframe tbody tr th:only-of-type {\n",
       "        vertical-align: middle;\n",
       "    }\n",
       "\n",
       "    .dataframe tbody tr th {\n",
       "        vertical-align: top;\n",
       "    }\n",
       "\n",
       "    .dataframe thead th {\n",
       "        text-align: right;\n",
       "    }\n",
       "</style>\n",
       "<table border=\"1\" class=\"dataframe\">\n",
       "  <thead>\n",
       "    <tr style=\"text-align: right;\">\n",
       "      <th></th>\n",
       "      <th>currentPrice</th>\n",
       "      <th>targetMeanPrice</th>\n",
       "      <th>targetHighPrice</th>\n",
       "      <th>targetLowPrice</th>\n",
       "      <th>numberOfAnalystOpinions</th>\n",
       "    </tr>\n",
       "  </thead>\n",
       "  <tbody>\n",
       "    <tr>\n",
       "      <th>601989.SS</th>\n",
       "      <td>3.92</td>\n",
       "      <td>3.92</td>\n",
       "      <td>3.92</td>\n",
       "      <td>3.92</td>\n",
       "      <td>0.0</td>\n",
       "    </tr>\n",
       "    <tr>\n",
       "      <th>601901.SS</th>\n",
       "      <td>6.78</td>\n",
       "      <td>6.78</td>\n",
       "      <td>6.78</td>\n",
       "      <td>6.78</td>\n",
       "      <td>0.0</td>\n",
       "    </tr>\n",
       "    <tr>\n",
       "      <th>002252.SZ</th>\n",
       "      <td>6.23</td>\n",
       "      <td>6.23</td>\n",
       "      <td>6.23</td>\n",
       "      <td>6.23</td>\n",
       "      <td>0.0</td>\n",
       "    </tr>\n",
       "    <tr>\n",
       "      <th>600795.SS</th>\n",
       "      <td>2.75</td>\n",
       "      <td>2.75</td>\n",
       "      <td>2.75</td>\n",
       "      <td>2.75</td>\n",
       "      <td>0.0</td>\n",
       "    </tr>\n",
       "    <tr>\n",
       "      <th>600918.SS</th>\n",
       "      <td>8.38</td>\n",
       "      <td>8.38</td>\n",
       "      <td>8.38</td>\n",
       "      <td>8.38</td>\n",
       "      <td>0.0</td>\n",
       "    </tr>\n",
       "  </tbody>\n",
       "</table>\n",
       "</div>"
      ],
      "text/plain": [
       "           currentPrice  targetMeanPrice  targetHighPrice  targetLowPrice  \\\n",
       "601989.SS          3.92             3.92             3.92            3.92   \n",
       "601901.SS          6.78             6.78             6.78            6.78   \n",
       "002252.SZ          6.23             6.23             6.23            6.23   \n",
       "600795.SS          2.75             2.75             2.75            2.75   \n",
       "600918.SS          8.38             8.38             8.38            8.38   \n",
       "\n",
       "           numberOfAnalystOpinions  \n",
       "601989.SS                      0.0  \n",
       "601901.SS                      0.0  \n",
       "002252.SZ                      0.0  \n",
       "600795.SS                      0.0  \n",
       "600918.SS                      0.0  "
      ]
     },
     "execution_count": 38,
     "metadata": {},
     "output_type": "execute_result"
    }
   ],
   "source": [
    "# Check\n",
    "df_quant.loc[no_analyst_stocks, ['currentPrice','targetMeanPrice', 'targetHighPrice', 'targetLowPrice', 'numberOfAnalystOpinions']].head()"
   ]
  },
  {
   "cell_type": "markdown",
   "metadata": {},
   "source": [
    "Normalize targetPrice by currentPrice"
   ]
  },
  {
   "cell_type": "code",
   "execution_count": 39,
   "metadata": {
    "ExecuteTime": {
     "end_time": "2022-03-11T05:31:26.910365Z",
     "start_time": "2022-03-11T05:31:26.895406Z"
    }
   },
   "outputs": [],
   "source": [
    "df_quant[['targetMeanPrice', 'targetHighPrice', 'targetLowPrice']] \\\n",
    "    = np.log(df_quant[['targetMeanPrice', 'targetHighPrice', 'targetLowPrice']].divide(df_quant['currentPrice'], axis=0))"
   ]
  },
  {
   "cell_type": "code",
   "execution_count": 40,
   "metadata": {
    "ExecuteTime": {
     "end_time": "2022-03-11T05:31:26.926323Z",
     "start_time": "2022-03-11T05:31:26.911364Z"
    }
   },
   "outputs": [
    {
     "data": {
      "text/html": [
       "<div>\n",
       "<style scoped>\n",
       "    .dataframe tbody tr th:only-of-type {\n",
       "        vertical-align: middle;\n",
       "    }\n",
       "\n",
       "    .dataframe tbody tr th {\n",
       "        vertical-align: top;\n",
       "    }\n",
       "\n",
       "    .dataframe thead th {\n",
       "        text-align: right;\n",
       "    }\n",
       "</style>\n",
       "<table border=\"1\" class=\"dataframe\">\n",
       "  <thead>\n",
       "    <tr style=\"text-align: right;\">\n",
       "      <th></th>\n",
       "      <th>targetMeanPrice</th>\n",
       "      <th>targetHighPrice</th>\n",
       "      <th>targetLowPrice</th>\n",
       "    </tr>\n",
       "  </thead>\n",
       "  <tbody>\n",
       "    <tr>\n",
       "      <th>600519.SS</th>\n",
       "      <td>0.275791</td>\n",
       "      <td>0.417261</td>\n",
       "      <td>0.060852</td>\n",
       "    </tr>\n",
       "    <tr>\n",
       "      <th>300750.SZ</th>\n",
       "      <td>0.377585</td>\n",
       "      <td>0.706131</td>\n",
       "      <td>-0.298991</td>\n",
       "    </tr>\n",
       "    <tr>\n",
       "      <th>600036.SS</th>\n",
       "      <td>0.369039</td>\n",
       "      <td>0.606238</td>\n",
       "      <td>-0.156779</td>\n",
       "    </tr>\n",
       "    <tr>\n",
       "      <th>601318.SS</th>\n",
       "      <td>0.474449</td>\n",
       "      <td>0.800076</td>\n",
       "      <td>-0.297774</td>\n",
       "    </tr>\n",
       "    <tr>\n",
       "      <th>000858.SZ</th>\n",
       "      <td>0.493834</td>\n",
       "      <td>0.711777</td>\n",
       "      <td>0.219820</td>\n",
       "    </tr>\n",
       "    <tr>\n",
       "      <th>...</th>\n",
       "      <td>...</td>\n",
       "      <td>...</td>\n",
       "      <td>...</td>\n",
       "    </tr>\n",
       "    <tr>\n",
       "      <th>002032.SZ</th>\n",
       "      <td>0.259955</td>\n",
       "      <td>0.605888</td>\n",
       "      <td>-0.125793</td>\n",
       "    </tr>\n",
       "    <tr>\n",
       "      <th>000800.SZ</th>\n",
       "      <td>0.417423</td>\n",
       "      <td>0.537249</td>\n",
       "      <td>0.046626</td>\n",
       "    </tr>\n",
       "    <tr>\n",
       "      <th>601698.SS</th>\n",
       "      <td>0.000000</td>\n",
       "      <td>0.000000</td>\n",
       "      <td>0.000000</td>\n",
       "    </tr>\n",
       "    <tr>\n",
       "      <th>605499.SS</th>\n",
       "      <td>0.408788</td>\n",
       "      <td>0.622445</td>\n",
       "      <td>0.295714</td>\n",
       "    </tr>\n",
       "    <tr>\n",
       "      <th>300888.SZ</th>\n",
       "      <td>0.412645</td>\n",
       "      <td>0.601480</td>\n",
       "      <td>0.277240</td>\n",
       "    </tr>\n",
       "  </tbody>\n",
       "</table>\n",
       "<p>299 rows × 3 columns</p>\n",
       "</div>"
      ],
      "text/plain": [
       "           targetMeanPrice  targetHighPrice  targetLowPrice\n",
       "600519.SS         0.275791         0.417261        0.060852\n",
       "300750.SZ         0.377585         0.706131       -0.298991\n",
       "600036.SS         0.369039         0.606238       -0.156779\n",
       "601318.SS         0.474449         0.800076       -0.297774\n",
       "000858.SZ         0.493834         0.711777        0.219820\n",
       "...                    ...              ...             ...\n",
       "002032.SZ         0.259955         0.605888       -0.125793\n",
       "000800.SZ         0.417423         0.537249        0.046626\n",
       "601698.SS         0.000000         0.000000        0.000000\n",
       "605499.SS         0.408788         0.622445        0.295714\n",
       "300888.SZ         0.412645         0.601480        0.277240\n",
       "\n",
       "[299 rows x 3 columns]"
      ]
     },
     "execution_count": 40,
     "metadata": {},
     "output_type": "execute_result"
    }
   ],
   "source": [
    "df_quant[['targetMeanPrice', 'targetHighPrice', 'targetLowPrice']]"
   ]
  },
  {
   "cell_type": "markdown",
   "metadata": {},
   "source": [
    "### Size\n",
    "* impute the missing values of fullTimeEmployees since only 29 stocks are missing it. We should use marketCap with Linear Regression for this.\n",
    "* There seems to be some negative enterpriseValue (EV = market cap stock + MV preferred eq + MV debt + minority interest - cash and investments).  \n",
    "* enterpriseValue Need to divide by market cap\n",
    "* bookValue is per share, need to divide by current price"
   ]
  },
  {
   "cell_type": "markdown",
   "metadata": {},
   "source": [
    "See if marketCap and fullTimeEmployees have a linear relationship: not really.  Potentially due to companies being in different industry have different labour intensity."
   ]
  },
  {
   "cell_type": "code",
   "execution_count": 41,
   "metadata": {
    "ExecuteTime": {
     "end_time": "2022-03-11T05:31:26.942281Z",
     "start_time": "2022-03-11T05:31:26.927322Z"
    }
   },
   "outputs": [],
   "source": [
    "df_quant_size = df_quant.loc[:, fields['Size']]"
   ]
  },
  {
   "cell_type": "code",
   "execution_count": 42,
   "metadata": {
    "ExecuteTime": {
     "end_time": "2022-03-11T05:31:26.958237Z",
     "start_time": "2022-03-11T05:31:26.943278Z"
    }
   },
   "outputs": [],
   "source": [
    "stocks_no_employees = df_quant_size[df_quant_size['fullTimeEmployees'].isnull()].index.tolist()"
   ]
  },
  {
   "cell_type": "code",
   "execution_count": 43,
   "metadata": {
    "ExecuteTime": {
     "end_time": "2022-03-11T05:31:26.974195Z",
     "start_time": "2022-03-11T05:31:26.959235Z"
    }
   },
   "outputs": [],
   "source": [
    "def log_columns_missing_y(main_df, X_col, y_col, list_idx_missing, col_prefix='log-', log_X=True, log_y=True):\n",
    "    df = main_df[[X_col, y_col]].copy()\n",
    "    \n",
    "    # Log the X on all indices\n",
    "    if log_X:\n",
    "        df.loc[:, '{}{}'.format(col_prefix, X_col)] = df.loc[:, '{}'.format(X_col)].map(np.log)\n",
    "        \n",
    "    # log the y on non-missing indices\n",
    "    if log_y:\n",
    "        df.loc[~df.index.isin(list_idx_missing), '{}{}'.format(col_prefix, y_col)] = \\\n",
    "            df.loc[~df.index.isin(list_idx_missing), '{}'.format(y_col)].map(np.log)\n",
    "    \n",
    "    return df\n"
   ]
  },
  {
   "cell_type": "code",
   "execution_count": 44,
   "metadata": {
    "ExecuteTime": {
     "end_time": "2022-03-11T05:31:27.891742Z",
     "start_time": "2022-03-11T05:31:26.976191Z"
    }
   },
   "outputs": [
    {
     "data": {
      "image/png": "[encoded data removed]",
      "text/plain": [
       "<Figure size 864x576 with 16 Axes>"
      ]
     },
     "metadata": {
      "needs_background": "light"
     },
     "output_type": "display_data"
    }
   ],
   "source": [
    "pd.plotting.scatter_matrix(log_columns_missing_y(df_quant_size, 'marketCap', 'fullTimeEmployees', stocks_no_employees),\n",
    "                           figsize=(12,8),\n",
    "                           diagonal='hist');"
   ]
  },
  {
   "cell_type": "markdown",
   "metadata": {},
   "source": [
    "On log scale the relationship looks a bit stronger. We will use linear regression on log scale to impute the missing fullTimeEmployees."
   ]
  },
  {
   "cell_type": "code",
   "execution_count": 45,
   "metadata": {
    "ExecuteTime": {
     "end_time": "2022-03-11T05:31:30.205551Z",
     "start_time": "2022-03-11T05:31:27.892738Z"
    }
   },
   "outputs": [],
   "source": [
    "from sklearn.linear_model import LinearRegression\n",
    "\n",
    "def lr_impute(df_main, X_col, y_col, list_idx_missing, drop_from_training=[]):\n",
    "    df = df_main.copy()\n",
    "    X_train = df.loc[~df.index.isin(list_idx_missing + drop_from_training), X_col].to_numpy().reshape(-1, 1)\n",
    "    y_train = df.loc[~df.index.isin(list_idx_missing + drop_from_training), y_col].to_numpy().reshape(-1, 1)\n",
    "    \n",
    "    lr = LinearRegression().fit(X_train, y_train)\n",
    "        \n",
    "    # Impute missing by lr predict\n",
    "    X_impute = df.loc[df.index.isin(list_idx_missing), X_col].to_numpy().reshape(-1, 1)\n",
    "    df.loc[df.index.isin(list_idx_missing), y_col] = lr.predict(X_impute).reshape(-1)\n",
    "    \n",
    "    return df"
   ]
  },
  {
   "cell_type": "code",
   "execution_count": 46,
   "metadata": {
    "ExecuteTime": {
     "end_time": "2022-03-11T05:31:30.220512Z",
     "start_time": "2022-03-11T05:31:30.207547Z"
    }
   },
   "outputs": [],
   "source": [
    "df_employ_impute = lr_impute(log_columns_missing_y(df_quant_size, 'marketCap', 'fullTimeEmployees', stocks_no_employees), \n",
    "                             'log-marketCap', 'log-fullTimeEmployees', stocks_no_employees)"
   ]
  },
  {
   "cell_type": "markdown",
   "metadata": {
    "ExecuteTime": {
     "end_time": "2022-03-03T13:28:53.021429Z",
     "start_time": "2022-03-03T13:28:53.007467Z"
    }
   },
   "source": [
    "We will keep log-fullTimeEmployees only"
   ]
  },
  {
   "cell_type": "code",
   "execution_count": 47,
   "metadata": {
    "ExecuteTime": {
     "end_time": "2022-03-11T05:31:30.236469Z",
     "start_time": "2022-03-11T05:31:30.222507Z"
    }
   },
   "outputs": [],
   "source": [
    "# Drop fullTimeEmployees\n",
    "df_quant.drop('fullTimeEmployees', axis=1, inplace=True)\n",
    "fields = remove_from_fields_dict(fields, 'Size', ['fullTimeEmployees'])\n",
    "\n",
    "# Add log-fullTimeEmployees\n",
    "df_quant.loc[:, 'log-fullTimeEmployees'] = df_employ_impute.loc[:, 'log-fullTimeEmployees']\n",
    "fields = add_to_fields_dict(fields, 'Size', ['log-fullTimeEmployees'])"
   ]
  },
  {
   "cell_type": "markdown",
   "metadata": {},
   "source": [
    "Divide enterpriseValue by marketCap to produce enterprise-per-mktcap.\n",
    "Drop enterpriseValue"
   ]
  },
  {
   "cell_type": "code",
   "execution_count": 48,
   "metadata": {
    "ExecuteTime": {
     "end_time": "2022-03-11T05:31:30.252427Z",
     "start_time": "2022-03-11T05:31:30.238466Z"
    }
   },
   "outputs": [],
   "source": [
    "df_quant.loc[:, 'enterprise-per-mktcap'] = df_quant.loc[:, 'enterpriseValue'] / df_info.loc[:, 'marketCap'] \n",
    "df_quant.drop('enterpriseValue', axis=1, inplace=True)\n",
    "\n",
    "fields = remove_from_fields_dict(fields, 'Size', ['enterpriseValue'])\n",
    "fields = add_to_fields_dict(fields, 'Size', ['enterprise-per-mktcap'])"
   ]
  },
  {
   "cell_type": "markdown",
   "metadata": {},
   "source": [
    "Divide bookValue by currentPrice to produce BV-per-P"
   ]
  },
  {
   "cell_type": "code",
   "execution_count": 49,
   "metadata": {
    "ExecuteTime": {
     "end_time": "2022-03-11T05:31:30.267386Z",
     "start_time": "2022-03-11T05:31:30.254421Z"
    }
   },
   "outputs": [],
   "source": [
    "df_quant.loc[:, 'BV-per-P'] = df_quant.loc[:, 'bookValue'] / df_quant.loc[:, 'currentPrice']\n",
    "df_quant.drop('bookValue', axis=1, inplace=True)\n",
    "\n",
    "fields = remove_from_fields_dict(fields, 'Size', ['bookValue'])\n",
    "fields = add_to_fields_dict(fields, 'Size', ['BV-per-P'])"
   ]
  },
  {
   "cell_type": "code",
   "execution_count": 50,
   "metadata": {
    "ExecuteTime": {
     "end_time": "2022-03-11T05:31:30.283343Z",
     "start_time": "2022-03-11T05:31:30.269381Z"
    }
   },
   "outputs": [],
   "source": [
    "# pkl.dump(df_quant, open('df_quant_2_1_3_3.pkl', 'wb'))"
   ]
  },
  {
   "cell_type": "code",
   "execution_count": 51,
   "metadata": {
    "ExecuteTime": {
     "end_time": "2022-03-11T05:31:30.299301Z",
     "start_time": "2022-03-11T05:31:30.285339Z"
    }
   },
   "outputs": [],
   "source": [
    "# df_quant = pkl.load(open('df_quant_2_1_3_3.pkl', 'rb'))"
   ]
  },
  {
   "cell_type": "markdown",
   "metadata": {},
   "source": [
    "### Financial leverage\n",
    "* drop currentRatio, quickRatio\n",
    "* debt to equity: Impute from Cash per share divided by stock price\n"
   ]
  },
  {
   "cell_type": "code",
   "execution_count": 52,
   "metadata": {
    "ExecuteTime": {
     "end_time": "2022-03-11T05:31:30.315259Z",
     "start_time": "2022-03-11T05:31:30.301296Z"
    },
    "scrolled": true
   },
   "outputs": [
    {
     "data": {
      "text/plain": [
       "['currentRatio', 'debtToEquity', 'totalCashPerShare', 'quickRatio']"
      ]
     },
     "execution_count": 52,
     "metadata": {},
     "output_type": "execute_result"
    }
   ],
   "source": [
    "fields['Financial leverage']"
   ]
  },
  {
   "cell_type": "code",
   "execution_count": 53,
   "metadata": {
    "ExecuteTime": {
     "end_time": "2022-03-11T05:31:30.331216Z",
     "start_time": "2022-03-11T05:31:30.317255Z"
    }
   },
   "outputs": [],
   "source": [
    "# Drop current and quick ratios\n",
    "df_quant.drop(['currentRatio', 'quickRatio'], axis=1, inplace=True)\n",
    "\n",
    "fields = remove_from_fields_dict(fields, 'Financial leverage', ['currentRatio', 'quickRatio'])"
   ]
  },
  {
   "cell_type": "code",
   "execution_count": 54,
   "metadata": {
    "ExecuteTime": {
     "end_time": "2022-03-11T05:31:30.346176Z",
     "start_time": "2022-03-11T05:31:30.333211Z"
    }
   },
   "outputs": [],
   "source": [
    "df_quant.loc[:, 'cash-per-price'] = df_quant.loc[:, 'totalCashPerShare'] / df_quant.loc[:, 'currentPrice']\n",
    "df_quant.drop(['totalCashPerShare'], axis=1, inplace=True)\n",
    "\n",
    "fields = add_to_fields_dict(fields, 'Financial leverage', ['cash-per-price'])\n",
    "fields = remove_from_fields_dict(fields, 'Financial leverage', ['totalCashPerShare'])"
   ]
  },
  {
   "cell_type": "code",
   "execution_count": 55,
   "metadata": {
    "ExecuteTime": {
     "end_time": "2022-03-11T05:31:30.362133Z",
     "start_time": "2022-03-11T05:31:30.348171Z"
    }
   },
   "outputs": [
    {
     "name": "stdout",
     "output_type": "stream",
     "text": [
      "# of null in cash-per-price: 1\n",
      "Value replaced by 0\n"
     ]
    }
   ],
   "source": [
    "# Replace cash null by 0\n",
    "print('# of null in cash-per-price:', df_quant['cash-per-price'].isnull().sum())\n",
    "stock_cash_null = df_quant[df_quant['cash-per-price'].isnull()].index.to_list()\n",
    "df_quant.loc[stock_cash_null, ['cash-per-price']] = 0\n",
    "print('Value replaced by 0')"
   ]
  },
  {
   "cell_type": "code",
   "execution_count": 56,
   "metadata": {
    "ExecuteTime": {
     "end_time": "2022-03-11T05:31:30.377092Z",
     "start_time": "2022-03-11T05:31:30.364130Z"
    }
   },
   "outputs": [
    {
     "name": "stdout",
     "output_type": "stream",
     "text": [
      "# of null in debtToEquity 28\n"
     ]
    }
   ],
   "source": [
    "print('# of null in debtToEquity', df_quant['debtToEquity'].isnull().sum())"
   ]
  },
  {
   "cell_type": "code",
   "execution_count": 57,
   "metadata": {
    "ExecuteTime": {
     "end_time": "2022-03-11T05:31:30.392053Z",
     "start_time": "2022-03-11T05:31:30.379088Z"
    }
   },
   "outputs": [
    {
     "name": "stderr",
     "output_type": "stream",
     "text": [
      "C:\\Users\\user\\.conda\\envs\\capstone\\lib\\site-packages\\pandas\\core\\base.py:880: RuntimeWarning: divide by zero encountered in log\n",
      "  new_values = map_f(values, mapper)\n",
      "C:\\Users\\user\\.conda\\envs\\capstone\\lib\\site-packages\\pandas\\core\\base.py:880: RuntimeWarning: divide by zero encountered in log\n",
      "  new_values = map_f(values, mapper)\n"
     ]
    }
   ],
   "source": [
    "no_DE_stocks = df_quant[df_quant['debtToEquity'].isnull()].index.tolist()\n",
    "\n",
    "df_cash_debt_with_log = log_columns_missing_y(df_quant, 'cash-per-price', 'debtToEquity', no_DE_stocks)"
   ]
  },
  {
   "cell_type": "markdown",
   "metadata": {},
   "source": [
    "Since we replaced cash null by 0, the log value would produce an -inf value.  We will drop this and other inf data point for the purpose of regression imputation only."
   ]
  },
  {
   "cell_type": "code",
   "execution_count": 58,
   "metadata": {
    "ExecuteTime": {
     "end_time": "2022-03-11T05:31:31.312590Z",
     "start_time": "2022-03-11T05:31:30.394048Z"
    }
   },
   "outputs": [
    {
     "name": "stderr",
     "output_type": "stream",
     "text": [
      "C:\\Users\\user\\.conda\\envs\\capstone\\lib\\site-packages\\pandas\\core\\base.py:880: RuntimeWarning: divide by zero encountered in log\n",
      "  new_values = map_f(values, mapper)\n",
      "C:\\Users\\user\\.conda\\envs\\capstone\\lib\\site-packages\\pandas\\core\\base.py:880: RuntimeWarning: divide by zero encountered in log\n",
      "  new_values = map_f(values, mapper)\n"
     ]
    },
    {
     "data": {
      "image/png": "[encoded data removed]",
      "text/plain": [
       "<Figure size 864x576 with 16 Axes>"
      ]
     },
     "metadata": {
      "needs_background": "light"
     },
     "output_type": "display_data"
    }
   ],
   "source": [
    "drop_cash_debt_plot = df_cash_debt_with_log.loc[(df_cash_debt_with_log.isnull().any(axis=1) | df_cash_debt_with_log.isin([np.inf, -np.inf]).any(axis=1)), :].index.tolist()\n",
    "\n",
    "pd.plotting.scatter_matrix(log_columns_missing_y(df_quant, 'cash-per-price', 'debtToEquity', no_DE_stocks).drop(drop_cash_debt_plot, axis=0),\n",
    "                           figsize=(12,8),\n",
    "                           diagonal='hist');"
   ]
  },
  {
   "cell_type": "markdown",
   "metadata": {},
   "source": [
    "The relationship between log-debtToEquity and log-cash-per-price does not look to have a constant variance when using a linear regression.  However, we will just attempt linear imputation at this point and perhaps revisit this point in the future."
   ]
  },
  {
   "cell_type": "code",
   "execution_count": 59,
   "metadata": {
    "ExecuteTime": {
     "end_time": "2022-03-11T05:31:31.328548Z",
     "start_time": "2022-03-11T05:31:31.314586Z"
    }
   },
   "outputs": [
    {
     "name": "stderr",
     "output_type": "stream",
     "text": [
      "C:\\Users\\user\\.conda\\envs\\capstone\\lib\\site-packages\\pandas\\core\\base.py:880: RuntimeWarning: divide by zero encountered in log\n",
      "  new_values = map_f(values, mapper)\n",
      "C:\\Users\\user\\.conda\\envs\\capstone\\lib\\site-packages\\pandas\\core\\base.py:880: RuntimeWarning: divide by zero encountered in log\n",
      "  new_values = map_f(values, mapper)\n"
     ]
    }
   ],
   "source": [
    "df_de_impute = lr_impute(log_columns_missing_y(df_quant, 'cash-per-price', 'debtToEquity', no_DE_stocks), \n",
    "                         'log-cash-per-price', 'log-debtToEquity', no_DE_stocks, drop_cash_debt_plot)\n",
    "\n",
    "# exp the log imputed values to normal scale for debtToEquity\n",
    "df_quant.loc[no_DE_stocks, 'debtToEquity'] = df_de_impute.loc[no_DE_stocks, 'log-debtToEquity'].map(np.exp)"
   ]
  },
  {
   "cell_type": "markdown",
   "metadata": {},
   "source": [
    "### Value\n",
    "* returnOnAsset and returnOnEquity: replace null with 0\n",
    "* forwardPE and trailingPE replace with mean\n",
    "* 'trailingAnnualDividendYield', 'dividendYield' look similar, drop dividendYield.\n",
    "* Replace null with 0 for trailingAnnualDividendYield and payoutRatio"
   ]
  },
  {
   "cell_type": "code",
   "execution_count": 60,
   "metadata": {
    "ExecuteTime": {
     "end_time": "2022-03-11T05:31:31.456207Z",
     "start_time": "2022-03-11T05:31:31.330544Z"
    }
   },
   "outputs": [],
   "source": [
    "from sklearn.impute import SimpleImputer\n",
    "zero_imp = SimpleImputer(missing_values=np.nan, strategy='constant', fill_value=0)\n",
    "mean_imp = SimpleImputer(missing_values=np.nan, strategy='mean')\n",
    "df_quant[['returnOnAssets' , 'returnOnEquity']] = zero_imp.fit_transform(df_quant[['returnOnAssets' , 'returnOnEquity']])\n",
    "df_quant[['forwardPE', 'trailingPE']] = mean_imp.fit_transform(df_quant[['forwardPE', 'trailingPE']])\n",
    "df_quant.drop('dividendYield', axis=1, inplace=True)\n",
    "df_quant[['trailingAnnualDividendYield', 'payoutRatio']] = zero_imp.fit_transform(df_quant[['trailingAnnualDividendYield', 'payoutRatio']])\n",
    "\n",
    "fields = remove_from_fields_dict(fields, 'Value', ['dividendYield'])"
   ]
  },
  {
   "cell_type": "markdown",
   "metadata": {},
   "source": [
    "### Growth\n",
    "* Drop pegRatio and trailingPegRatio\n",
    "* Replace null by 0 for earningsGrowth and earningsQuarterlyGrowth"
   ]
  },
  {
   "cell_type": "code",
   "execution_count": 61,
   "metadata": {
    "ExecuteTime": {
     "end_time": "2022-03-11T05:31:31.472165Z",
     "start_time": "2022-03-11T05:31:31.457204Z"
    }
   },
   "outputs": [],
   "source": [
    "df_quant.drop(['pegRatio', 'trailingPegRatio'], axis=1, inplace=True)\n",
    "fields = remove_from_fields_dict(fields, 'Growth', ['pegRatio', 'trailingPegRatio'])\n",
    "\n",
    "zero_imp = SimpleImputer(missing_values=np.nan, strategy='constant', fill_value=0)\n",
    "df_quant[['revenueGrowth','earningsGrowth', 'earningsQuarterlyGrowth']] \\\n",
    "    = zero_imp.fit_transform(df_quant[['revenueGrowth', 'earningsGrowth', 'earningsQuarterlyGrowth']])"
   ]
  },
  {
   "cell_type": "markdown",
   "metadata": {},
   "source": [
    "### To Norm Columns\n",
    "* Momentum_to_norm: drop 52WeekChange, forwardEps\n",
    "* Value_to_norm: drop trailingAnnualDividendRate, dividendRate\n"
   ]
  },
  {
   "cell_type": "code",
   "execution_count": 62,
   "metadata": {
    "ExecuteTime": {
     "end_time": "2022-03-11T05:31:31.487123Z",
     "start_time": "2022-03-11T05:31:31.473162Z"
    }
   },
   "outputs": [],
   "source": [
    "df_quant.drop(['52WeekChange', 'forwardEps', 'trailingAnnualDividendRate', 'dividendRate'], axis=1, inplace=True)\n",
    "\n",
    "# dayLow and dayHigh are too short term\n",
    "df_quant.drop(['dayLow', 'dayHigh'], axis=1, inplace=True)\n",
    "\n",
    "fields = remove_from_fields_dict(fields, 'Momentum_to_norm', ['52WeekChange', 'dayLow', 'dayHigh']);\n",
    "fields = remove_from_fields_dict(fields, 'Value_to_norm', ['forwardEps', 'trailingAnnualDividendRate', 'dividendRate']);"
   ]
  },
  {
   "cell_type": "markdown",
   "metadata": {},
   "source": [
    "## Normalize the to_norm columns"
   ]
  },
  {
   "cell_type": "code",
   "execution_count": 63,
   "metadata": {
    "ExecuteTime": {
     "end_time": "2022-03-11T05:31:31.503081Z",
     "start_time": "2022-03-11T05:31:31.488121Z"
    }
   },
   "outputs": [
    {
     "data": {
      "text/plain": [
       "[('Momentum_to_norm', 'twoHundredDayAverage'),\n",
       " ('Momentum_to_norm', 'fiftyDayAverage'),\n",
       " ('Momentum_to_norm', 'previousClose'),\n",
       " ('Momentum_to_norm', 'fiftyTwoWeekHigh'),\n",
       " ('Momentum_to_norm', 'fiftyTwoWeekLow'),\n",
       " ('Liquidity_to_norm', 'averageDailyVolume10Day'),\n",
       " ('Liquidity_to_norm', 'averageVolume10days'),\n",
       " ('Liquidity_to_norm', 'averageVolume'),\n",
       " ('Liquidity_to_norm', 'floatShares'),\n",
       " ('Liquidity_to_norm', 'sharesOutstanding'),\n",
       " ('Value_to_norm', 'trailingEps'),\n",
       " ('Value_to_norm', 'totalRevenue'),\n",
       " ('Financial leverage_to_norm', 'totalCash'),\n",
       " ('Financial leverage_to_norm', 'totalDebt')]"
      ]
     },
     "execution_count": 63,
     "metadata": {},
     "output_type": "execute_result"
    }
   ],
   "source": [
    "[(cat,f) for cat, f_list in fields.items() for f in f_list if '_to_norm' in cat]"
   ]
  },
  {
   "cell_type": "markdown",
   "metadata": {
    "ExecuteTime": {
     "end_time": "2022-03-04T06:36:10.349323Z",
     "start_time": "2022-03-04T06:36:10.337356Z"
    }
   },
   "source": [
    "### Momentum_to_norm"
   ]
  },
  {
   "cell_type": "code",
   "execution_count": 64,
   "metadata": {
    "ExecuteTime": {
     "end_time": "2022-03-11T05:31:31.519038Z",
     "start_time": "2022-03-11T05:31:31.504079Z"
    }
   },
   "outputs": [],
   "source": [
    "df_mom_normed = np.log(df_quant[fields['Momentum_to_norm']].divide(df_quant['currentPrice'], axis=0))\n",
    "\n",
    "df_mom_normed.columns = ['{}{}'.format(c, '_logprice') for c in df_mom_normed.columns]\n",
    "df_quant = df_quant.drop(fields['Momentum_to_norm'],axis=1).merge(df_mom_normed, left_index=True, right_index=True)\n",
    "\n",
    "fields = add_to_fields_dict(fields, 'Momentum', df_mom_normed.columns.tolist())"
   ]
  },
  {
   "cell_type": "markdown",
   "metadata": {},
   "source": [
    "### Liquidity_to_norm"
   ]
  },
  {
   "cell_type": "code",
   "execution_count": 65,
   "metadata": {
    "ExecuteTime": {
     "end_time": "2022-03-11T05:31:31.534995Z",
     "start_time": "2022-03-11T05:31:31.520036Z"
    }
   },
   "outputs": [
    {
     "data": {
      "text/plain": [
       "['averageDailyVolume10Day',\n",
       " 'averageVolume10days',\n",
       " 'averageVolume',\n",
       " 'floatShares',\n",
       " 'sharesOutstanding']"
      ]
     },
     "execution_count": 65,
     "metadata": {},
     "output_type": "execute_result"
    }
   ],
   "source": [
    "fields['Liquidity_to_norm']"
   ]
  },
  {
   "cell_type": "code",
   "execution_count": 66,
   "metadata": {
    "ExecuteTime": {
     "end_time": "2022-03-11T05:31:31.549957Z",
     "start_time": "2022-03-11T05:31:31.535994Z"
    }
   },
   "outputs": [],
   "source": [
    "# Volume as market value: volume times currentPrice\n",
    "df_liq_price_normed = df_quant[['averageDailyVolume10Day', 'averageVolume10days', 'averageVolume']].multiply(df_quant['currentPrice'], axis=0)\n",
    "df_liq_price_normed.columns = ['{}{}'.format(c, '_mv') for c in df_liq_price_normed.columns]"
   ]
  },
  {
   "cell_type": "code",
   "execution_count": 67,
   "metadata": {
    "ExecuteTime": {
     "end_time": "2022-03-11T05:31:31.565913Z",
     "start_time": "2022-03-11T05:31:31.550953Z"
    }
   },
   "outputs": [],
   "source": [
    "# Volume as % of float shares\n",
    "df_liq_float_normed = df_quant[['averageDailyVolume10Day', 'averageVolume10days', 'averageVolume']].divide(df_quant['floatShares'], axis=0)\n",
    "df_liq_float_normed.columns = ['{}{}'.format(c, '-perFloat') for c in df_liq_float_normed.columns]"
   ]
  },
  {
   "cell_type": "code",
   "execution_count": 68,
   "metadata": {
    "ExecuteTime": {
     "end_time": "2022-03-11T05:31:31.581870Z",
     "start_time": "2022-03-11T05:31:31.566911Z"
    }
   },
   "outputs": [],
   "source": [
    "# Float %\n",
    "df_quant['float_percent'] = df_quant['floatShares'] * df_quant['currentPrice'] / df_quant['marketCap']\n",
    "\n",
    "fields = add_to_fields_dict(fields, 'Liquidity', ['float_percent'])"
   ]
  },
  {
   "cell_type": "code",
   "execution_count": 69,
   "metadata": {
    "ExecuteTime": {
     "end_time": "2022-03-11T05:31:31.597827Z",
     "start_time": "2022-03-11T05:31:31.582868Z"
    }
   },
   "outputs": [],
   "source": [
    "df_quant = (df_quant.drop(fields['Liquidity_to_norm'],axis=1)\n",
    "                     .merge(df_liq_price_normed, left_index=True, right_index=True)\n",
    "                     .merge(df_liq_float_normed, left_index=True, right_index=True)\n",
    ")\n",
    "\n",
    "fields = add_to_fields_dict(fields, 'Liquidity', (df_liq_price_normed.columns.tolist() \n",
    "                                                 + df_liq_float_normed.columns.tolist() \n",
    "                                                 )\n",
    "                           )"
   ]
  },
  {
   "cell_type": "markdown",
   "metadata": {},
   "source": [
    "### Value_to_norm"
   ]
  },
  {
   "cell_type": "code",
   "execution_count": 70,
   "metadata": {
    "ExecuteTime": {
     "end_time": "2022-03-11T05:31:31.612788Z",
     "start_time": "2022-03-11T05:31:31.598825Z"
    }
   },
   "outputs": [
    {
     "data": {
      "text/plain": [
       "['trailingEps', 'totalRevenue']"
      ]
     },
     "execution_count": 70,
     "metadata": {},
     "output_type": "execute_result"
    }
   ],
   "source": [
    "fields['Value_to_norm']"
   ]
  },
  {
   "cell_type": "code",
   "execution_count": 71,
   "metadata": {
    "ExecuteTime": {
     "end_time": "2022-03-11T05:31:31.628744Z",
     "start_time": "2022-03-11T05:31:31.614783Z"
    }
   },
   "outputs": [],
   "source": [
    "df_quant['e/p'] = df_quant['trailingEps'] / df_quant['currentPrice']\n",
    "df_quant['rev/mktcap'] = df_quant['totalRevenue'] / df_quant['marketCap']\n",
    "df_quant.drop(fields['Value_to_norm'],axis=1, inplace=True)\n",
    "\n",
    "fields = add_to_fields_dict(fields, 'Value', ['e/p', 'rev/mktcap'])"
   ]
  },
  {
   "cell_type": "markdown",
   "metadata": {},
   "source": [
    "### Financial leverage to norm"
   ]
  },
  {
   "cell_type": "code",
   "execution_count": 72,
   "metadata": {
    "ExecuteTime": {
     "end_time": "2022-03-11T05:31:31.644702Z",
     "start_time": "2022-03-11T05:31:31.629743Z"
    }
   },
   "outputs": [
    {
     "data": {
      "text/plain": [
       "['totalCash', 'totalDebt']"
      ]
     },
     "execution_count": 72,
     "metadata": {},
     "output_type": "execute_result"
    }
   ],
   "source": [
    "fields['Financial leverage_to_norm']"
   ]
  },
  {
   "cell_type": "markdown",
   "metadata": {},
   "source": [
    "Cash and Debt are already captured by other attributes."
   ]
  },
  {
   "cell_type": "code",
   "execution_count": 73,
   "metadata": {
    "ExecuteTime": {
     "end_time": "2022-03-11T05:31:31.659662Z",
     "start_time": "2022-03-11T05:31:31.645700Z"
    }
   },
   "outputs": [],
   "source": [
    "df_quant.drop(fields['Financial leverage_to_norm'],axis=1, inplace=True)"
   ]
  },
  {
   "cell_type": "code",
   "execution_count": 74,
   "metadata": {
    "ExecuteTime": {
     "end_time": "2022-03-11T05:31:31.675619Z",
     "start_time": "2022-03-11T05:31:31.660660Z"
    }
   },
   "outputs": [],
   "source": [
    "# Remove all to_norm from fields\n",
    "for cat_norm in [cat for cat, f_list in fields.items() if 'to_norm' in cat]:\n",
    "    del fields[cat_norm]"
   ]
  },
  {
   "cell_type": "code",
   "execution_count": 75,
   "metadata": {
    "ExecuteTime": {
     "end_time": "2022-03-11T05:31:31.691578Z",
     "start_time": "2022-03-11T05:31:31.676618Z"
    }
   },
   "outputs": [
    {
     "data": {
      "text/plain": [
       "{'Market expectation': ['targetMeanPrice',\n",
       "  'targetHighPrice',\n",
       "  'targetLowPrice',\n",
       "  'numberOfAnalystOpinions'],\n",
       " 'Size': ['marketCap',\n",
       "  'log-fullTimeEmployees',\n",
       "  'enterprise-per-mktcap',\n",
       "  'BV-per-P'],\n",
       " 'Momentum': ['currentPrice',\n",
       "  'twoHundredDayAverage_logprice',\n",
       "  'fiftyDayAverage_logprice',\n",
       "  'previousClose_logprice',\n",
       "  'fiftyTwoWeekHigh_logprice',\n",
       "  'fiftyTwoWeekLow_logprice'],\n",
       " 'Liquidity': ['heldPercentInstitutions',\n",
       "  'heldPercentInsiders',\n",
       "  'float_percent',\n",
       "  'averageDailyVolume10Day_mv',\n",
       "  'averageVolume10days_mv',\n",
       "  'averageVolume_mv',\n",
       "  'averageDailyVolume10Day-perFloat',\n",
       "  'averageVolume10days-perFloat',\n",
       "  'averageVolume-perFloat'],\n",
       " 'Growth': ['revenueGrowth', 'earningsGrowth', 'earningsQuarterlyGrowth'],\n",
       " 'Value': ['ebitdaMargins',\n",
       "  'profitMargins',\n",
       "  'grossMargins',\n",
       "  'operatingMargins',\n",
       "  'returnOnAssets',\n",
       "  'returnOnEquity',\n",
       "  'revenuePerShare',\n",
       "  'priceToSalesTrailing12Months',\n",
       "  'priceToBook',\n",
       "  'forwardPE',\n",
       "  'trailingPE',\n",
       "  'trailingAnnualDividendYield',\n",
       "  'payoutRatio',\n",
       "  'e/p',\n",
       "  'rev/mktcap'],\n",
       " 'Financial leverage': ['debtToEquity', 'cash-per-price'],\n",
       " 'Location': ['city', 'country'],\n",
       " 'Sector industry': ['sector', 'industry']}"
      ]
     },
     "execution_count": 75,
     "metadata": {},
     "output_type": "execute_result"
    }
   ],
   "source": [
    "fields"
   ]
  },
  {
   "cell_type": "markdown",
   "metadata": {},
   "source": [
    "## Check again df_quant is clean"
   ]
  },
  {
   "cell_type": "code",
   "execution_count": 76,
   "metadata": {
    "ExecuteTime": {
     "end_time": "2022-03-11T05:31:31.706537Z",
     "start_time": "2022-03-11T05:31:31.692575Z"
    }
   },
   "outputs": [
    {
     "data": {
      "text/plain": [
       "{'Market expectation': ['targetMeanPrice',\n",
       "  'targetHighPrice',\n",
       "  'targetLowPrice',\n",
       "  'numberOfAnalystOpinions'],\n",
       " 'Size': ['marketCap',\n",
       "  'log-fullTimeEmployees',\n",
       "  'enterprise-per-mktcap',\n",
       "  'BV-per-P'],\n",
       " 'Momentum': ['currentPrice',\n",
       "  'twoHundredDayAverage_logprice',\n",
       "  'fiftyDayAverage_logprice',\n",
       "  'previousClose_logprice',\n",
       "  'fiftyTwoWeekHigh_logprice',\n",
       "  'fiftyTwoWeekLow_logprice'],\n",
       " 'Liquidity': ['heldPercentInstitutions',\n",
       "  'heldPercentInsiders',\n",
       "  'float_percent',\n",
       "  'averageDailyVolume10Day_mv',\n",
       "  'averageVolume10days_mv',\n",
       "  'averageVolume_mv',\n",
       "  'averageDailyVolume10Day-perFloat',\n",
       "  'averageVolume10days-perFloat',\n",
       "  'averageVolume-perFloat'],\n",
       " 'Growth': ['revenueGrowth', 'earningsGrowth', 'earningsQuarterlyGrowth'],\n",
       " 'Value': ['ebitdaMargins',\n",
       "  'profitMargins',\n",
       "  'grossMargins',\n",
       "  'operatingMargins',\n",
       "  'returnOnAssets',\n",
       "  'returnOnEquity',\n",
       "  'revenuePerShare',\n",
       "  'priceToSalesTrailing12Months',\n",
       "  'priceToBook',\n",
       "  'forwardPE',\n",
       "  'trailingPE',\n",
       "  'trailingAnnualDividendYield',\n",
       "  'payoutRatio',\n",
       "  'e/p',\n",
       "  'rev/mktcap'],\n",
       " 'Financial leverage': ['debtToEquity', 'cash-per-price'],\n",
       " 'Location': ['city', 'country'],\n",
       " 'Sector industry': ['sector', 'industry']}"
      ]
     },
     "execution_count": 76,
     "metadata": {},
     "output_type": "execute_result"
    }
   ],
   "source": [
    "fields"
   ]
  },
  {
   "cell_type": "code",
   "execution_count": 77,
   "metadata": {
    "ExecuteTime": {
     "end_time": "2022-03-11T05:31:31.722494Z",
     "start_time": "2022-03-11T05:31:31.707536Z"
    }
   },
   "outputs": [],
   "source": [
    "# Drop currentPrice\n",
    "df_quant.drop('currentPrice', axis=1, inplace=True)"
   ]
  },
  {
   "cell_type": "code",
   "execution_count": 78,
   "metadata": {
    "ExecuteTime": {
     "end_time": "2022-03-11T05:31:31.738451Z",
     "start_time": "2022-03-11T05:31:31.723492Z"
    }
   },
   "outputs": [
    {
     "data": {
      "text/plain": [
       "{'Market expectation': ['targetMeanPrice',\n",
       "  'targetHighPrice',\n",
       "  'targetLowPrice',\n",
       "  'numberOfAnalystOpinions'],\n",
       " 'Size': ['marketCap',\n",
       "  'log-fullTimeEmployees',\n",
       "  'enterprise-per-mktcap',\n",
       "  'BV-per-P'],\n",
       " 'Momentum': ['twoHundredDayAverage_logprice',\n",
       "  'fiftyDayAverage_logprice',\n",
       "  'previousClose_logprice',\n",
       "  'fiftyTwoWeekHigh_logprice',\n",
       "  'fiftyTwoWeekLow_logprice'],\n",
       " 'Liquidity': ['heldPercentInstitutions',\n",
       "  'heldPercentInsiders',\n",
       "  'float_percent',\n",
       "  'averageDailyVolume10Day_mv',\n",
       "  'averageVolume10days_mv',\n",
       "  'averageVolume_mv',\n",
       "  'averageDailyVolume10Day-perFloat',\n",
       "  'averageVolume10days-perFloat',\n",
       "  'averageVolume-perFloat'],\n",
       " 'Growth': ['revenueGrowth', 'earningsGrowth', 'earningsQuarterlyGrowth'],\n",
       " 'Value': ['ebitdaMargins',\n",
       "  'profitMargins',\n",
       "  'grossMargins',\n",
       "  'operatingMargins',\n",
       "  'returnOnAssets',\n",
       "  'returnOnEquity',\n",
       "  'revenuePerShare',\n",
       "  'priceToSalesTrailing12Months',\n",
       "  'priceToBook',\n",
       "  'forwardPE',\n",
       "  'trailingPE',\n",
       "  'trailingAnnualDividendYield',\n",
       "  'payoutRatio',\n",
       "  'e/p',\n",
       "  'rev/mktcap'],\n",
       " 'Financial leverage': ['debtToEquity', 'cash-per-price'],\n",
       " 'Location': ['city', 'country'],\n",
       " 'Sector industry': ['sector', 'industry']}"
      ]
     },
     "execution_count": 78,
     "metadata": {},
     "output_type": "execute_result"
    }
   ],
   "source": [
    "remove_attribute_from_fields(fields,'Momentum', 'currentPrice')"
   ]
  },
  {
   "cell_type": "code",
   "execution_count": 79,
   "metadata": {
    "ExecuteTime": {
     "end_time": "2022-03-11T05:31:31.754409Z",
     "start_time": "2022-03-11T05:31:31.739449Z"
    }
   },
   "outputs": [],
   "source": [
    "# Drop revenuePerShare\n",
    "df_quant.drop('revenuePerShare', axis=1, inplace=True)\n",
    "remove_attribute_from_fields(fields,'Value', 'revenuePerShare');"
   ]
  },
  {
   "cell_type": "code",
   "execution_count": 80,
   "metadata": {
    "ExecuteTime": {
     "end_time": "2022-03-11T05:31:31.770366Z",
     "start_time": "2022-03-11T05:31:31.755406Z"
    }
   },
   "outputs": [
    {
     "data": {
      "text/html": [
       "<div>\n",
       "<style scoped>\n",
       "    .dataframe tbody tr th:only-of-type {\n",
       "        vertical-align: middle;\n",
       "    }\n",
       "\n",
       "    .dataframe tbody tr th {\n",
       "        vertical-align: top;\n",
       "    }\n",
       "\n",
       "    .dataframe thead th {\n",
       "        text-align: right;\n",
       "    }\n",
       "</style>\n",
       "<table border=\"1\" class=\"dataframe\">\n",
       "  <thead>\n",
       "    <tr style=\"text-align: right;\">\n",
       "      <th></th>\n",
       "    </tr>\n",
       "  </thead>\n",
       "  <tbody>\n",
       "  </tbody>\n",
       "</table>\n",
       "</div>"
      ],
      "text/plain": [
       "Empty DataFrame\n",
       "Columns: []\n",
       "Index: []"
      ]
     },
     "execution_count": 80,
     "metadata": {},
     "output_type": "execute_result"
    }
   ],
   "source": [
    "# Any remaining null values?\n",
    "df_quant.loc[df_quant.isnull().any(axis=1), df_quant.isnull().any(axis=0)]"
   ]
  },
  {
   "cell_type": "code",
   "execution_count": 81,
   "metadata": {
    "ExecuteTime": {
     "end_time": "2022-03-11T05:31:31.785326Z",
     "start_time": "2022-03-11T05:31:31.771364Z"
    }
   },
   "outputs": [
    {
     "data": {
      "text/plain": [
       "set()"
      ]
     },
     "execution_count": 81,
     "metadata": {},
     "output_type": "execute_result"
    }
   ],
   "source": [
    "set(df_quant.columns) \\\n",
    "    - set([f for cat, f_list in fields.items() for f in f_list if cat not in ['Location', 'Sector industry']])"
   ]
  },
  {
   "cell_type": "code",
   "execution_count": 82,
   "metadata": {
    "ExecuteTime": {
     "end_time": "2022-03-11T05:31:31.800286Z",
     "start_time": "2022-03-11T05:31:31.786324Z"
    }
   },
   "outputs": [
    {
     "data": {
      "text/plain": [
       "set()"
      ]
     },
     "execution_count": 82,
     "metadata": {},
     "output_type": "execute_result"
    }
   ],
   "source": [
    "set([f for cat, f_list in fields.items() for f in f_list if cat not in ['Location', 'Sector industry']]) \\\n",
    "    - set(df_quant.columns)"
   ]
  },
  {
   "cell_type": "code",
   "execution_count": 83,
   "metadata": {
    "ExecuteTime": {
     "end_time": "2022-03-11T05:31:31.815246Z",
     "start_time": "2022-03-11T05:31:31.801286Z"
    }
   },
   "outputs": [
    {
     "data": {
      "text/plain": [
       "Index(['targetMeanPrice', 'targetHighPrice', 'targetLowPrice',\n",
       "       'numberOfAnalystOpinions', 'marketCap', 'heldPercentInstitutions',\n",
       "       'heldPercentInsiders', 'revenueGrowth', 'earningsGrowth',\n",
       "       'earningsQuarterlyGrowth', 'ebitdaMargins', 'profitMargins',\n",
       "       'grossMargins', 'operatingMargins', 'returnOnAssets', 'returnOnEquity',\n",
       "       'priceToSalesTrailing12Months', 'priceToBook', 'forwardPE',\n",
       "       'trailingPE', 'trailingAnnualDividendYield', 'payoutRatio',\n",
       "       'debtToEquity', 'log-fullTimeEmployees', 'enterprise-per-mktcap',\n",
       "       'BV-per-P', 'cash-per-price', 'twoHundredDayAverage_logprice',\n",
       "       'fiftyDayAverage_logprice', 'previousClose_logprice',\n",
       "       'fiftyTwoWeekHigh_logprice', 'fiftyTwoWeekLow_logprice',\n",
       "       'float_percent', 'averageDailyVolume10Day_mv', 'averageVolume10days_mv',\n",
       "       'averageVolume_mv', 'averageDailyVolume10Day-perFloat',\n",
       "       'averageVolume10days-perFloat', 'averageVolume-perFloat', 'e/p',\n",
       "       'rev/mktcap'],\n",
       "      dtype='object')"
      ]
     },
     "execution_count": 83,
     "metadata": {},
     "output_type": "execute_result"
    }
   ],
   "source": [
    "df_quant.columns"
   ]
  },
  {
   "cell_type": "markdown",
   "metadata": {},
   "source": [
    "## One-hot Nominal attributes"
   ]
  },
  {
   "cell_type": "code",
   "execution_count": 84,
   "metadata": {
    "ExecuteTime": {
     "end_time": "2022-03-11T05:31:31.831203Z",
     "start_time": "2022-03-11T05:31:31.816244Z"
    }
   },
   "outputs": [
    {
     "data": {
      "text/html": [
       "<div>\n",
       "<style scoped>\n",
       "    .dataframe tbody tr th:only-of-type {\n",
       "        vertical-align: middle;\n",
       "    }\n",
       "\n",
       "    .dataframe tbody tr th {\n",
       "        vertical-align: top;\n",
       "    }\n",
       "\n",
       "    .dataframe thead th {\n",
       "        text-align: right;\n",
       "    }\n",
       "</style>\n",
       "<table border=\"1\" class=\"dataframe\">\n",
       "  <thead>\n",
       "    <tr style=\"text-align: right;\">\n",
       "      <th></th>\n",
       "      <th>Advertising Agencies</th>\n",
       "      <th>Aerospace &amp; Defense</th>\n",
       "      <th>Agricultural Inputs</th>\n",
       "      <th>Airlines</th>\n",
       "      <th>Airports &amp; Air Services</th>\n",
       "      <th>Aluminum</th>\n",
       "      <th>Asset Management</th>\n",
       "      <th>Auto Manufacturers</th>\n",
       "      <th>Auto Parts</th>\n",
       "      <th>Banks—Diversified</th>\n",
       "      <th>...</th>\n",
       "      <th>Specialty Chemicals</th>\n",
       "      <th>Specialty Industrial Machinery</th>\n",
       "      <th>Specialty Retail</th>\n",
       "      <th>Steel</th>\n",
       "      <th>Telecom Services</th>\n",
       "      <th>Textile Manufacturing</th>\n",
       "      <th>Thermal Coal</th>\n",
       "      <th>Tools &amp; Accessories</th>\n",
       "      <th>Utilities—Independent Power Producers</th>\n",
       "      <th>Utilities—Renewable</th>\n",
       "    </tr>\n",
       "  </thead>\n",
       "  <tbody>\n",
       "    <tr>\n",
       "      <th>600519.SS</th>\n",
       "      <td>0</td>\n",
       "      <td>0</td>\n",
       "      <td>0</td>\n",
       "      <td>0</td>\n",
       "      <td>0</td>\n",
       "      <td>0</td>\n",
       "      <td>0</td>\n",
       "      <td>0</td>\n",
       "      <td>0</td>\n",
       "      <td>0</td>\n",
       "      <td>...</td>\n",
       "      <td>0</td>\n",
       "      <td>0</td>\n",
       "      <td>0</td>\n",
       "      <td>0</td>\n",
       "      <td>0</td>\n",
       "      <td>0</td>\n",
       "      <td>0</td>\n",
       "      <td>0</td>\n",
       "      <td>0</td>\n",
       "      <td>0</td>\n",
       "    </tr>\n",
       "    <tr>\n",
       "      <th>300750.SZ</th>\n",
       "      <td>0</td>\n",
       "      <td>0</td>\n",
       "      <td>0</td>\n",
       "      <td>0</td>\n",
       "      <td>0</td>\n",
       "      <td>0</td>\n",
       "      <td>0</td>\n",
       "      <td>0</td>\n",
       "      <td>0</td>\n",
       "      <td>0</td>\n",
       "      <td>...</td>\n",
       "      <td>0</td>\n",
       "      <td>0</td>\n",
       "      <td>0</td>\n",
       "      <td>0</td>\n",
       "      <td>0</td>\n",
       "      <td>0</td>\n",
       "      <td>0</td>\n",
       "      <td>0</td>\n",
       "      <td>0</td>\n",
       "      <td>0</td>\n",
       "    </tr>\n",
       "    <tr>\n",
       "      <th>600036.SS</th>\n",
       "      <td>0</td>\n",
       "      <td>0</td>\n",
       "      <td>0</td>\n",
       "      <td>0</td>\n",
       "      <td>0</td>\n",
       "      <td>0</td>\n",
       "      <td>0</td>\n",
       "      <td>0</td>\n",
       "      <td>0</td>\n",
       "      <td>0</td>\n",
       "      <td>...</td>\n",
       "      <td>0</td>\n",
       "      <td>0</td>\n",
       "      <td>0</td>\n",
       "      <td>0</td>\n",
       "      <td>0</td>\n",
       "      <td>0</td>\n",
       "      <td>0</td>\n",
       "      <td>0</td>\n",
       "      <td>0</td>\n",
       "      <td>0</td>\n",
       "    </tr>\n",
       "    <tr>\n",
       "      <th>601318.SS</th>\n",
       "      <td>0</td>\n",
       "      <td>0</td>\n",
       "      <td>0</td>\n",
       "      <td>0</td>\n",
       "      <td>0</td>\n",
       "      <td>0</td>\n",
       "      <td>0</td>\n",
       "      <td>0</td>\n",
       "      <td>0</td>\n",
       "      <td>0</td>\n",
       "      <td>...</td>\n",
       "      <td>0</td>\n",
       "      <td>0</td>\n",
       "      <td>0</td>\n",
       "      <td>0</td>\n",
       "      <td>0</td>\n",
       "      <td>0</td>\n",
       "      <td>0</td>\n",
       "      <td>0</td>\n",
       "      <td>0</td>\n",
       "      <td>0</td>\n",
       "    </tr>\n",
       "    <tr>\n",
       "      <th>000858.SZ</th>\n",
       "      <td>0</td>\n",
       "      <td>0</td>\n",
       "      <td>0</td>\n",
       "      <td>0</td>\n",
       "      <td>0</td>\n",
       "      <td>0</td>\n",
       "      <td>0</td>\n",
       "      <td>0</td>\n",
       "      <td>0</td>\n",
       "      <td>0</td>\n",
       "      <td>...</td>\n",
       "      <td>0</td>\n",
       "      <td>0</td>\n",
       "      <td>0</td>\n",
       "      <td>0</td>\n",
       "      <td>0</td>\n",
       "      <td>0</td>\n",
       "      <td>0</td>\n",
       "      <td>0</td>\n",
       "      <td>0</td>\n",
       "      <td>0</td>\n",
       "    </tr>\n",
       "    <tr>\n",
       "      <th>...</th>\n",
       "      <td>...</td>\n",
       "      <td>...</td>\n",
       "      <td>...</td>\n",
       "      <td>...</td>\n",
       "      <td>...</td>\n",
       "      <td>...</td>\n",
       "      <td>...</td>\n",
       "      <td>...</td>\n",
       "      <td>...</td>\n",
       "      <td>...</td>\n",
       "      <td>...</td>\n",
       "      <td>...</td>\n",
       "      <td>...</td>\n",
       "      <td>...</td>\n",
       "      <td>...</td>\n",
       "      <td>...</td>\n",
       "      <td>...</td>\n",
       "      <td>...</td>\n",
       "      <td>...</td>\n",
       "      <td>...</td>\n",
       "      <td>...</td>\n",
       "    </tr>\n",
       "    <tr>\n",
       "      <th>002032.SZ</th>\n",
       "      <td>0</td>\n",
       "      <td>0</td>\n",
       "      <td>0</td>\n",
       "      <td>0</td>\n",
       "      <td>0</td>\n",
       "      <td>0</td>\n",
       "      <td>0</td>\n",
       "      <td>0</td>\n",
       "      <td>0</td>\n",
       "      <td>0</td>\n",
       "      <td>...</td>\n",
       "      <td>0</td>\n",
       "      <td>0</td>\n",
       "      <td>0</td>\n",
       "      <td>0</td>\n",
       "      <td>0</td>\n",
       "      <td>0</td>\n",
       "      <td>0</td>\n",
       "      <td>0</td>\n",
       "      <td>0</td>\n",
       "      <td>0</td>\n",
       "    </tr>\n",
       "    <tr>\n",
       "      <th>000800.SZ</th>\n",
       "      <td>0</td>\n",
       "      <td>0</td>\n",
       "      <td>0</td>\n",
       "      <td>0</td>\n",
       "      <td>0</td>\n",
       "      <td>0</td>\n",
       "      <td>0</td>\n",
       "      <td>1</td>\n",
       "      <td>0</td>\n",
       "      <td>0</td>\n",
       "      <td>...</td>\n",
       "      <td>0</td>\n",
       "      <td>0</td>\n",
       "      <td>0</td>\n",
       "      <td>0</td>\n",
       "      <td>0</td>\n",
       "      <td>0</td>\n",
       "      <td>0</td>\n",
       "      <td>0</td>\n",
       "      <td>0</td>\n",
       "      <td>0</td>\n",
       "    </tr>\n",
       "    <tr>\n",
       "      <th>601698.SS</th>\n",
       "      <td>0</td>\n",
       "      <td>0</td>\n",
       "      <td>0</td>\n",
       "      <td>0</td>\n",
       "      <td>0</td>\n",
       "      <td>0</td>\n",
       "      <td>0</td>\n",
       "      <td>0</td>\n",
       "      <td>0</td>\n",
       "      <td>0</td>\n",
       "      <td>...</td>\n",
       "      <td>0</td>\n",
       "      <td>0</td>\n",
       "      <td>0</td>\n",
       "      <td>0</td>\n",
       "      <td>1</td>\n",
       "      <td>0</td>\n",
       "      <td>0</td>\n",
       "      <td>0</td>\n",
       "      <td>0</td>\n",
       "      <td>0</td>\n",
       "    </tr>\n",
       "    <tr>\n",
       "      <th>605499.SS</th>\n",
       "      <td>0</td>\n",
       "      <td>0</td>\n",
       "      <td>0</td>\n",
       "      <td>0</td>\n",
       "      <td>0</td>\n",
       "      <td>0</td>\n",
       "      <td>0</td>\n",
       "      <td>0</td>\n",
       "      <td>0</td>\n",
       "      <td>0</td>\n",
       "      <td>...</td>\n",
       "      <td>0</td>\n",
       "      <td>0</td>\n",
       "      <td>0</td>\n",
       "      <td>0</td>\n",
       "      <td>0</td>\n",
       "      <td>0</td>\n",
       "      <td>0</td>\n",
       "      <td>0</td>\n",
       "      <td>0</td>\n",
       "      <td>0</td>\n",
       "    </tr>\n",
       "    <tr>\n",
       "      <th>300888.SZ</th>\n",
       "      <td>0</td>\n",
       "      <td>0</td>\n",
       "      <td>0</td>\n",
       "      <td>0</td>\n",
       "      <td>0</td>\n",
       "      <td>0</td>\n",
       "      <td>0</td>\n",
       "      <td>0</td>\n",
       "      <td>0</td>\n",
       "      <td>0</td>\n",
       "      <td>...</td>\n",
       "      <td>0</td>\n",
       "      <td>0</td>\n",
       "      <td>0</td>\n",
       "      <td>0</td>\n",
       "      <td>0</td>\n",
       "      <td>0</td>\n",
       "      <td>0</td>\n",
       "      <td>0</td>\n",
       "      <td>0</td>\n",
       "      <td>0</td>\n",
       "    </tr>\n",
       "  </tbody>\n",
       "</table>\n",
       "<p>299 rows × 76 columns</p>\n",
       "</div>"
      ],
      "text/plain": [
       "           Advertising Agencies  Aerospace & Defense  Agricultural Inputs  \\\n",
       "600519.SS                     0                    0                    0   \n",
       "300750.SZ                     0                    0                    0   \n",
       "600036.SS                     0                    0                    0   \n",
       "601318.SS                     0                    0                    0   \n",
       "000858.SZ                     0                    0                    0   \n",
       "...                         ...                  ...                  ...   \n",
       "002032.SZ                     0                    0                    0   \n",
       "000800.SZ                     0                    0                    0   \n",
       "601698.SS                     0                    0                    0   \n",
       "605499.SS                     0                    0                    0   \n",
       "300888.SZ                     0                    0                    0   \n",
       "\n",
       "           Airlines  Airports & Air Services  Aluminum  Asset Management  \\\n",
       "600519.SS         0                        0         0                 0   \n",
       "300750.SZ         0                        0         0                 0   \n",
       "600036.SS         0                        0         0                 0   \n",
       "601318.SS         0                        0         0                 0   \n",
       "000858.SZ         0                        0         0                 0   \n",
       "...             ...                      ...       ...               ...   \n",
       "002032.SZ         0                        0         0                 0   \n",
       "000800.SZ         0                        0         0                 0   \n",
       "601698.SS         0                        0         0                 0   \n",
       "605499.SS         0                        0         0                 0   \n",
       "300888.SZ         0                        0         0                 0   \n",
       "\n",
       "           Auto Manufacturers  Auto Parts  Banks—Diversified  ...  \\\n",
       "600519.SS                   0           0                  0  ...   \n",
       "300750.SZ                   0           0                  0  ...   \n",
       "600036.SS                   0           0                  0  ...   \n",
       "601318.SS                   0           0                  0  ...   \n",
       "000858.SZ                   0           0                  0  ...   \n",
       "...                       ...         ...                ...  ...   \n",
       "002032.SZ                   0           0                  0  ...   \n",
       "000800.SZ                   1           0                  0  ...   \n",
       "601698.SS                   0           0                  0  ...   \n",
       "605499.SS                   0           0                  0  ...   \n",
       "300888.SZ                   0           0                  0  ...   \n",
       "\n",
       "           Specialty Chemicals  Specialty Industrial Machinery  \\\n",
       "600519.SS                    0                               0   \n",
       "300750.SZ                    0                               0   \n",
       "600036.SS                    0                               0   \n",
       "601318.SS                    0                               0   \n",
       "000858.SZ                    0                               0   \n",
       "...                        ...                             ...   \n",
       "002032.SZ                    0                               0   \n",
       "000800.SZ                    0                               0   \n",
       "601698.SS                    0                               0   \n",
       "605499.SS                    0                               0   \n",
       "300888.SZ                    0                               0   \n",
       "\n",
       "           Specialty Retail  Steel  Telecom Services  Textile Manufacturing  \\\n",
       "600519.SS                 0      0                 0                      0   \n",
       "300750.SZ                 0      0                 0                      0   \n",
       "600036.SS                 0      0                 0                      0   \n",
       "601318.SS                 0      0                 0                      0   \n",
       "000858.SZ                 0      0                 0                      0   \n",
       "...                     ...    ...               ...                    ...   \n",
       "002032.SZ                 0      0                 0                      0   \n",
       "000800.SZ                 0      0                 0                      0   \n",
       "601698.SS                 0      0                 1                      0   \n",
       "605499.SS                 0      0                 0                      0   \n",
       "300888.SZ                 0      0                 0                      0   \n",
       "\n",
       "           Thermal Coal  Tools & Accessories  \\\n",
       "600519.SS             0                    0   \n",
       "300750.SZ             0                    0   \n",
       "600036.SS             0                    0   \n",
       "601318.SS             0                    0   \n",
       "000858.SZ             0                    0   \n",
       "...                 ...                  ...   \n",
       "002032.SZ             0                    0   \n",
       "000800.SZ             0                    0   \n",
       "601698.SS             0                    0   \n",
       "605499.SS             0                    0   \n",
       "300888.SZ             0                    0   \n",
       "\n",
       "           Utilities—Independent Power Producers  Utilities—Renewable  \n",
       "600519.SS                                      0                    0  \n",
       "300750.SZ                                      0                    0  \n",
       "600036.SS                                      0                    0  \n",
       "601318.SS                                      0                    0  \n",
       "000858.SZ                                      0                    0  \n",
       "...                                          ...                  ...  \n",
       "002032.SZ                                      0                    0  \n",
       "000800.SZ                                      0                    0  \n",
       "601698.SS                                      0                    0  \n",
       "605499.SS                                      0                    0  \n",
       "300888.SZ                                      0                    0  \n",
       "\n",
       "[299 rows x 76 columns]"
      ]
     },
     "execution_count": 84,
     "metadata": {},
     "output_type": "execute_result"
    }
   ],
   "source": [
    "pd.get_dummies(df_nom['industry'])"
   ]
  },
  {
   "cell_type": "code",
   "execution_count": null,
   "metadata": {
    "ExecuteTime": {
     "end_time": "2022-03-04T09:37:12.057053Z",
     "start_time": "2022-03-04T09:37:12.030125Z"
    }
   },
   "outputs": [],
   "source": []
  },
  {
   "cell_type": "markdown",
   "metadata": {},
   "source": [
    "# Data Cleaning and Processing - Stock Price and Returns"
   ]
  },
  {
   "cell_type": "code",
   "execution_count": 85,
   "metadata": {
    "ExecuteTime": {
     "end_time": "2022-03-11T05:31:31.846163Z",
     "start_time": "2022-03-11T05:31:31.832202Z"
    }
   },
   "outputs": [
    {
     "data": {
      "text/plain": [
       "Index(['Close', 'Dividends', 'High', 'Low', 'Open', 'Stock Splits', 'Volume'], dtype='object')"
      ]
     },
     "execution_count": 85,
     "metadata": {},
     "output_type": "execute_result"
    }
   ],
   "source": [
    "df_5y.columns.get_level_values(0).unique()"
   ]
  },
  {
   "cell_type": "markdown",
   "metadata": {},
   "source": [
    "## Check stock prices are adjusted for stock splits."
   ]
  },
  {
   "cell_type": "code",
   "execution_count": 86,
   "metadata": {
    "ExecuteTime": {
     "end_time": "2022-03-11T05:31:31.862121Z",
     "start_time": "2022-03-11T05:31:31.853145Z"
    }
   },
   "outputs": [
    {
     "data": {
      "text/plain": [
       "Date\n",
       "2017-05-22    2.0\n",
       "2018-05-21    1.0\n",
       "2019-04-30    NaN\n",
       "2020-05-07    1.0\n",
       "2021-05-21    1.0\n",
       "Name: (Stock Splits, 603986.SS), dtype: float64"
      ]
     },
     "execution_count": 86,
     "metadata": {},
     "output_type": "execute_result"
    }
   ],
   "source": [
    "df_5y.loc[df_5y[('Stock Splits', '603986.SS')]!=0,('Stock Splits', '603986.SS')]"
   ]
  },
  {
   "cell_type": "code",
   "execution_count": 87,
   "metadata": {
    "ExecuteTime": {
     "end_time": "2022-03-11T05:31:31.878078Z",
     "start_time": "2022-03-11T05:31:31.863119Z"
    }
   },
   "outputs": [
    {
     "data": {
      "text/plain": [
       "Date\n",
       "2017-05-22     34.180199\n",
       "2018-05-21     66.436501\n",
       "2019-04-30           NaN\n",
       "2020-05-07    160.908920\n",
       "2021-05-21    121.800003\n",
       "Name: (Close, 603986.SS), dtype: float64"
      ]
     },
     "execution_count": 87,
     "metadata": {},
     "output_type": "execute_result"
    }
   ],
   "source": [
    "df_5y.loc[df_5y[('Stock Splits', '603986.SS')]!=0,('Close', '603986.SS')]"
   ]
  },
  {
   "cell_type": "code",
   "execution_count": 88,
   "metadata": {
    "ExecuteTime": {
     "end_time": "2022-03-11T05:31:31.894035Z",
     "start_time": "2022-03-11T05:31:31.880073Z"
    }
   },
   "outputs": [
    {
     "data": {
      "text/plain": [
       "34.951534271240234"
      ]
     },
     "metadata": {},
     "output_type": "display_data"
    },
    {
     "data": {
      "text/plain": [
       "60.39475631713867"
      ]
     },
     "metadata": {},
     "output_type": "display_data"
    },
    {
     "name": "stdout",
     "output_type": "stream",
     "text": [
      "Timestamp('2019-04-29 00:00:00')\n"
     ]
    },
    {
     "data": {
      "text/plain": [
       "155.14588928222656"
      ]
     },
     "metadata": {},
     "output_type": "display_data"
    },
    {
     "data": {
      "text/plain": [
       "123.85713958740234"
      ]
     },
     "metadata": {},
     "output_type": "display_data"
    }
   ],
   "source": [
    "from pandas.tseries.offsets import BDay\n",
    "\n",
    "date_index = df_5y.loc[df_5y[('Stock Splits', '603986.SS')]!=0,('Close', '603986.SS')].index - BDay(1)\n",
    "\n",
    "for date in date_index:\n",
    "    try:\n",
    "        display(df_5y.loc[date ,('Close', '603986.SS')])\n",
    "    except KeyError as e:\n",
    "        print(e)"
   ]
  },
  {
   "cell_type": "markdown",
   "metadata": {},
   "source": [
    "After checking, there was no large jump in prices by stock splits, which means stock prices are adjusted by Yahoo Finance for stock splits. We can use the stock prices as is to compute stock returns that we need for analysis."
   ]
  },
  {
   "cell_type": "code",
   "execution_count": 89,
   "metadata": {
    "ExecuteTime": {
     "end_time": "2022-03-11T05:31:32.066574Z",
     "start_time": "2022-03-11T05:31:31.895033Z"
    }
   },
   "outputs": [
    {
     "data": {
      "text/plain": [
       "<AxesSubplot:xlabel='Date'>"
      ]
     },
     "execution_count": 89,
     "metadata": {},
     "output_type": "execute_result"
    },
    {
     "data": {
      "image/png": "[encoded data removed]",
      "text/plain": [
       "<Figure size 576x432 with 1 Axes>"
      ]
     },
     "metadata": {
      "needs_background": "light"
     },
     "output_type": "display_data"
    }
   ],
   "source": [
    "df_5y.loc[:, [('Close', '603986.SS')]].plot(figsize=(8,6))"
   ]
  },
  {
   "cell_type": "markdown",
   "metadata": {},
   "source": [
    "## Compute Weekly returns from the stock price DataFrame"
   ]
  },
  {
   "cell_type": "code",
   "execution_count": 90,
   "metadata": {
    "ExecuteTime": {
     "end_time": "2022-03-11T05:31:32.082531Z",
     "start_time": "2022-03-11T05:31:32.067572Z"
    }
   },
   "outputs": [],
   "source": [
    "# Weekly return is log_n(price_t / price_t-1)\n",
    "df_5y_close = df_5y['Close'].ffill(axis=0)"
   ]
  },
  {
   "cell_type": "code",
   "execution_count": 91,
   "metadata": {
    "ExecuteTime": {
     "end_time": "2022-03-11T05:31:32.130403Z",
     "start_time": "2022-03-11T05:31:32.115443Z"
    }
   },
   "outputs": [
    {
     "data": {
      "text/plain": [
       "000001.SZ     14.900000\n",
       "000002.SZ     16.650000\n",
       "000063.SZ     25.040001\n",
       "000066.SZ     12.300000\n",
       "000069.SZ      6.530000\n",
       "                ...    \n",
       "688363.SS    114.480003\n",
       "688396.SS     57.779999\n",
       "688561.SS     63.529999\n",
       "688599.SS     71.000000\n",
       "688981.SS     49.740002\n",
       "Name: 2022-03-11 00:00:00, Length: 300, dtype: float64"
      ]
     },
     "execution_count": 91,
     "metadata": {},
     "output_type": "execute_result"
    }
   ],
   "source": [
    "df_5y_close.loc[t_1, :]"
   ]
  },
  {
   "cell_type": "code",
   "execution_count": 92,
   "metadata": {
    "ExecuteTime": {
     "end_time": "2022-03-11T05:31:32.146360Z",
     "start_time": "2022-03-11T05:31:32.131400Z"
    }
   },
   "outputs": [],
   "source": [
    "def log_return(df_close_px, fri_weekly=False, t=t, t_1=t_1):\n",
    "    if fri_weekly:\n",
    "        px_t = df_close_px.resample('W-FRI').last()\n",
    "        px_t_1 = df_close_px.resample('W-FRI').last().shift(1)\n",
    "    else:\n",
    "        px_t = df_close_px.loc[t, :]\n",
    "        px_t_1 = df_close_px.loc[t_1, :]\n",
    "        \n",
    "    # For the future: Holidays are not handled here by filling n/a with 0 returns.  \n",
    "    return np.log(px_t/px_t_1).fillna(0)"
   ]
  },
  {
   "cell_type": "markdown",
   "metadata": {},
   "source": [
    "Some stocks were newly listed within the last 5 years, finding a time period when we have 90% of stock data available.  Looks like a 2-year period should cover."
   ]
  },
  {
   "cell_type": "code",
   "execution_count": 93,
   "metadata": {
    "ExecuteTime": {
     "end_time": "2022-03-11T05:31:32.258061Z",
     "start_time": "2022-03-11T05:31:32.147358Z"
    }
   },
   "outputs": [
    {
     "data": {
      "text/plain": [
       "<AxesSubplot:xlabel='Date'>"
      ]
     },
     "execution_count": 93,
     "metadata": {},
     "output_type": "execute_result"
    },
    {
     "data": {
      "image/png": "[encoded data removed]",
      "text/plain": [
       "<Figure size 432x288 with 1 Axes>"
      ]
     },
     "metadata": {
      "needs_background": "light"
     },
     "output_type": "display_data"
    }
   ],
   "source": [
    "df_5y_close.isnull().sum(axis=1).plot()"
   ]
  },
  {
   "cell_type": "code",
   "execution_count": 94,
   "metadata": {
    "ExecuteTime": {
     "end_time": "2022-03-11T05:31:32.274018Z",
     "start_time": "2022-03-11T05:31:32.259059Z"
    }
   },
   "outputs": [],
   "source": [
    "df_2y = df_5y_close.loc[df_5y_close.index > (df_5y_close.index[-1] - datetime.timedelta(days=2*365)), :]"
   ]
  },
  {
   "cell_type": "markdown",
   "metadata": {},
   "source": [
    "# Risk Factor Regression"
   ]
  },
  {
   "cell_type": "markdown",
   "metadata": {},
   "source": [
    "\n",
    "The currentPrice in df_info must match t-1 price for this regression to work.\n",
    "\n",
    "Otherwise, all marketPrice related attributes fields should be recomputed using stock price data.\n",
    "\n",
    "We will align the date instead of recomputation to do the proof of concept, and recomputation for future implementation."
   ]
  },
  {
   "cell_type": "code",
   "execution_count": 95,
   "metadata": {
    "ExecuteTime": {
     "end_time": "2022-03-11T05:31:32.305933Z",
     "start_time": "2022-03-11T05:31:32.290978Z"
    }
   },
   "outputs": [
    {
     "data": {
      "text/plain": [
       "600519.SS    1769.01\n",
       "300750.SZ     493.55\n",
       "600036.SS      44.45\n",
       "601318.SS      47.14\n",
       "000858.SZ     171.77\n",
       "              ...   \n",
       "002032.SZ      47.63\n",
       "000800.SZ       8.59\n",
       "601698.SS      12.12\n",
       "605499.SS     156.24\n",
       "300888.SZ      71.24\n",
       "Name: currentPrice, Length: 300, dtype: object"
      ]
     },
     "execution_count": 95,
     "metadata": {},
     "output_type": "execute_result"
    }
   ],
   "source": [
    "df_info['currentPrice']"
   ]
  },
  {
   "cell_type": "code",
   "execution_count": 96,
   "metadata": {
    "ExecuteTime": {
     "end_time": "2022-03-11T05:31:32.321890Z",
     "start_time": "2022-03-11T05:31:32.306931Z"
    }
   },
   "outputs": [
    {
     "data": {
      "text/html": [
       "<div>\n",
       "<style scoped>\n",
       "    .dataframe tbody tr th:only-of-type {\n",
       "        vertical-align: middle;\n",
       "    }\n",
       "\n",
       "    .dataframe tbody tr th {\n",
       "        vertical-align: top;\n",
       "    }\n",
       "\n",
       "    .dataframe thead th {\n",
       "        text-align: right;\n",
       "    }\n",
       "</style>\n",
       "<table border=\"1\" class=\"dataframe\">\n",
       "  <thead>\n",
       "    <tr style=\"text-align: right;\">\n",
       "      <th></th>\n",
       "      <th>2022-03-07 00:00:00</th>\n",
       "      <th>2022-03-08 00:00:00</th>\n",
       "      <th>2022-03-09 00:00:00</th>\n",
       "      <th>2022-03-10 00:00:00</th>\n",
       "      <th>2022-03-11 00:00:00</th>\n",
       "      <th>2022-03-14 00:00:00</th>\n",
       "      <th>2022-03-15 00:00:00</th>\n",
       "      <th>2022-03-16 00:00:00</th>\n",
       "      <th>2022-03-17 00:00:00</th>\n",
       "      <th>2022-03-18 00:00:00</th>\n",
       "      <th>currentPrice</th>\n",
       "    </tr>\n",
       "  </thead>\n",
       "  <tbody>\n",
       "    <tr>\n",
       "      <th>000001.SZ</th>\n",
       "      <td>14.720000</td>\n",
       "      <td>14.310000</td>\n",
       "      <td>13.840000</td>\n",
       "      <td>14.570000</td>\n",
       "      <td>14.900000</td>\n",
       "      <td>14.490000</td>\n",
       "      <td>13.680000</td>\n",
       "      <td>14.310000</td>\n",
       "      <td>14.450000</td>\n",
       "      <td>14.700000</td>\n",
       "      <td>14.9</td>\n",
       "    </tr>\n",
       "    <tr>\n",
       "      <th>000002.SZ</th>\n",
       "      <td>18.540001</td>\n",
       "      <td>17.670000</td>\n",
       "      <td>16.980000</td>\n",
       "      <td>16.770000</td>\n",
       "      <td>16.650000</td>\n",
       "      <td>16.090000</td>\n",
       "      <td>14.800000</td>\n",
       "      <td>15.510000</td>\n",
       "      <td>16.680000</td>\n",
       "      <td>17.450001</td>\n",
       "      <td>16.65</td>\n",
       "    </tr>\n",
       "    <tr>\n",
       "      <th>000063.SZ</th>\n",
       "      <td>26.150000</td>\n",
       "      <td>25.660000</td>\n",
       "      <td>25.350000</td>\n",
       "      <td>25.400000</td>\n",
       "      <td>25.040001</td>\n",
       "      <td>24.059999</td>\n",
       "      <td>22.549999</td>\n",
       "      <td>23.510000</td>\n",
       "      <td>23.610001</td>\n",
       "      <td>24.000000</td>\n",
       "      <td>25.04</td>\n",
       "    </tr>\n",
       "    <tr>\n",
       "      <th>000066.SZ</th>\n",
       "      <td>12.990000</td>\n",
       "      <td>12.510000</td>\n",
       "      <td>12.130000</td>\n",
       "      <td>12.150000</td>\n",
       "      <td>12.300000</td>\n",
       "      <td>12.140000</td>\n",
       "      <td>11.470000</td>\n",
       "      <td>11.780000</td>\n",
       "      <td>11.870000</td>\n",
       "      <td>11.990000</td>\n",
       "      <td>12.3</td>\n",
       "    </tr>\n",
       "    <tr>\n",
       "      <th>000069.SZ</th>\n",
       "      <td>6.900000</td>\n",
       "      <td>6.590000</td>\n",
       "      <td>6.380000</td>\n",
       "      <td>6.520000</td>\n",
       "      <td>6.530000</td>\n",
       "      <td>6.350000</td>\n",
       "      <td>5.840000</td>\n",
       "      <td>6.070000</td>\n",
       "      <td>6.350000</td>\n",
       "      <td>6.550000</td>\n",
       "      <td>6.53</td>\n",
       "    </tr>\n",
       "    <tr>\n",
       "      <th>...</th>\n",
       "      <td>...</td>\n",
       "      <td>...</td>\n",
       "      <td>...</td>\n",
       "      <td>...</td>\n",
       "      <td>...</td>\n",
       "      <td>...</td>\n",
       "      <td>...</td>\n",
       "      <td>...</td>\n",
       "      <td>...</td>\n",
       "      <td>...</td>\n",
       "      <td>...</td>\n",
       "    </tr>\n",
       "    <tr>\n",
       "      <th>688363.SS</th>\n",
       "      <td>115.150002</td>\n",
       "      <td>112.000000</td>\n",
       "      <td>108.589996</td>\n",
       "      <td>112.540001</td>\n",
       "      <td>114.480003</td>\n",
       "      <td>105.910004</td>\n",
       "      <td>102.800003</td>\n",
       "      <td>107.900002</td>\n",
       "      <td>112.220001</td>\n",
       "      <td>112.459999</td>\n",
       "      <td>114.48</td>\n",
       "    </tr>\n",
       "    <tr>\n",
       "      <th>688396.SS</th>\n",
       "      <td>54.689999</td>\n",
       "      <td>54.830002</td>\n",
       "      <td>55.680000</td>\n",
       "      <td>55.540001</td>\n",
       "      <td>57.779999</td>\n",
       "      <td>56.630001</td>\n",
       "      <td>54.900002</td>\n",
       "      <td>58.810001</td>\n",
       "      <td>59.099998</td>\n",
       "      <td>60.930000</td>\n",
       "      <td>57.78</td>\n",
       "    </tr>\n",
       "    <tr>\n",
       "      <th>688561.SS</th>\n",
       "      <td>63.480000</td>\n",
       "      <td>61.939999</td>\n",
       "      <td>60.349998</td>\n",
       "      <td>62.200001</td>\n",
       "      <td>63.529999</td>\n",
       "      <td>60.480000</td>\n",
       "      <td>57.040001</td>\n",
       "      <td>59.369999</td>\n",
       "      <td>60.810001</td>\n",
       "      <td>60.200001</td>\n",
       "      <td>63.53</td>\n",
       "    </tr>\n",
       "    <tr>\n",
       "      <th>688599.SS</th>\n",
       "      <td>73.190002</td>\n",
       "      <td>73.190002</td>\n",
       "      <td>72.500000</td>\n",
       "      <td>73.620003</td>\n",
       "      <td>71.000000</td>\n",
       "      <td>70.599998</td>\n",
       "      <td>71.099998</td>\n",
       "      <td>72.540001</td>\n",
       "      <td>68.120003</td>\n",
       "      <td>68.690002</td>\n",
       "      <td>71</td>\n",
       "    </tr>\n",
       "    <tr>\n",
       "      <th>688981.SS</th>\n",
       "      <td>49.599998</td>\n",
       "      <td>49.279999</td>\n",
       "      <td>50.299999</td>\n",
       "      <td>50.230000</td>\n",
       "      <td>49.740002</td>\n",
       "      <td>48.590000</td>\n",
       "      <td>45.290001</td>\n",
       "      <td>46.279999</td>\n",
       "      <td>46.490002</td>\n",
       "      <td>46.799999</td>\n",
       "      <td>49.74</td>\n",
       "    </tr>\n",
       "  </tbody>\n",
       "</table>\n",
       "<p>300 rows × 11 columns</p>\n",
       "</div>"
      ],
      "text/plain": [
       "           2022-03-07 00:00:00  2022-03-08 00:00:00  2022-03-09 00:00:00  \\\n",
       "000001.SZ            14.720000            14.310000            13.840000   \n",
       "000002.SZ            18.540001            17.670000            16.980000   \n",
       "000063.SZ            26.150000            25.660000            25.350000   \n",
       "000066.SZ            12.990000            12.510000            12.130000   \n",
       "000069.SZ             6.900000             6.590000             6.380000   \n",
       "...                        ...                  ...                  ...   \n",
       "688363.SS           115.150002           112.000000           108.589996   \n",
       "688396.SS            54.689999            54.830002            55.680000   \n",
       "688561.SS            63.480000            61.939999            60.349998   \n",
       "688599.SS            73.190002            73.190002            72.500000   \n",
       "688981.SS            49.599998            49.279999            50.299999   \n",
       "\n",
       "           2022-03-10 00:00:00  2022-03-11 00:00:00  2022-03-14 00:00:00  \\\n",
       "000001.SZ            14.570000            14.900000            14.490000   \n",
       "000002.SZ            16.770000            16.650000            16.090000   \n",
       "000063.SZ            25.400000            25.040001            24.059999   \n",
       "000066.SZ            12.150000            12.300000            12.140000   \n",
       "000069.SZ             6.520000             6.530000             6.350000   \n",
       "...                        ...                  ...                  ...   \n",
       "688363.SS           112.540001           114.480003           105.910004   \n",
       "688396.SS            55.540001            57.779999            56.630001   \n",
       "688561.SS            62.200001            63.529999            60.480000   \n",
       "688599.SS            73.620003            71.000000            70.599998   \n",
       "688981.SS            50.230000            49.740002            48.590000   \n",
       "\n",
       "           2022-03-15 00:00:00  2022-03-16 00:00:00  2022-03-17 00:00:00  \\\n",
       "000001.SZ            13.680000            14.310000            14.450000   \n",
       "000002.SZ            14.800000            15.510000            16.680000   \n",
       "000063.SZ            22.549999            23.510000            23.610001   \n",
       "000066.SZ            11.470000            11.780000            11.870000   \n",
       "000069.SZ             5.840000             6.070000             6.350000   \n",
       "...                        ...                  ...                  ...   \n",
       "688363.SS           102.800003           107.900002           112.220001   \n",
       "688396.SS            54.900002            58.810001            59.099998   \n",
       "688561.SS            57.040001            59.369999            60.810001   \n",
       "688599.SS            71.099998            72.540001            68.120003   \n",
       "688981.SS            45.290001            46.279999            46.490002   \n",
       "\n",
       "           2022-03-18 00:00:00 currentPrice  \n",
       "000001.SZ            14.700000         14.9  \n",
       "000002.SZ            17.450001        16.65  \n",
       "000063.SZ            24.000000        25.04  \n",
       "000066.SZ            11.990000         12.3  \n",
       "000069.SZ             6.550000         6.53  \n",
       "...                        ...          ...  \n",
       "688363.SS           112.459999       114.48  \n",
       "688396.SS            60.930000        57.78  \n",
       "688561.SS            60.200001        63.53  \n",
       "688599.SS            68.690002           71  \n",
       "688981.SS            46.799999        49.74  \n",
       "\n",
       "[300 rows x 11 columns]"
      ]
     },
     "execution_count": 96,
     "metadata": {},
     "output_type": "execute_result"
    }
   ],
   "source": [
    "df_2y.iloc[-10:, :].T.merge(df_info['currentPrice'], left_index=True, right_index=True)"
   ]
  },
  {
   "cell_type": "code",
   "execution_count": 97,
   "metadata": {
    "ExecuteTime": {
     "end_time": "2022-03-11T05:31:32.352808Z",
     "start_time": "2022-03-11T05:31:32.337848Z"
    }
   },
   "outputs": [
    {
     "data": {
      "text/plain": [
       "000001.SZ   -0.013514\n",
       "000002.SZ    0.046929\n",
       "000063.SZ   -0.042421\n",
       "000066.SZ   -0.025526\n",
       "000069.SZ    0.003058\n",
       "               ...   \n",
       "688363.SS   -0.017803\n",
       "688396.SS    0.053083\n",
       "688561.SS   -0.053840\n",
       "688599.SS   -0.033076\n",
       "688981.SS   -0.060926\n",
       "Name: return, Length: 300, dtype: float64"
      ]
     },
     "execution_count": 97,
     "metadata": {},
     "output_type": "execute_result"
    }
   ],
   "source": [
    "last_week_return = log_return(df_2y).rename('return')\n",
    "last_week_return"
   ]
  },
  {
   "cell_type": "code",
   "execution_count": 98,
   "metadata": {
    "ExecuteTime": {
     "end_time": "2022-03-11T05:31:32.367768Z",
     "start_time": "2022-03-11T05:31:32.353806Z"
    }
   },
   "outputs": [],
   "source": [
    "# Standard normalize df_quant to z-scores\n",
    "df_quant_z = (df_quant - df_quant.mean(axis=0))  / df_quant.std(axis=0)"
   ]
  },
  {
   "cell_type": "code",
   "execution_count": 99,
   "metadata": {
    "ExecuteTime": {
     "end_time": "2022-03-11T05:31:32.382728Z",
     "start_time": "2022-03-11T05:31:32.368766Z"
    }
   },
   "outputs": [],
   "source": [
    "df_factors = df_quant_z.merge(pd.get_dummies(df_nom['industry']), left_index=True, right_index=True, how='left')"
   ]
  },
  {
   "cell_type": "code",
   "execution_count": 100,
   "metadata": {
    "ExecuteTime": {
     "end_time": "2022-03-11T05:31:32.414642Z",
     "start_time": "2022-03-11T05:31:32.383726Z"
    }
   },
   "outputs": [
    {
     "data": {
      "text/html": [
       "<div>\n",
       "<style scoped>\n",
       "    .dataframe tbody tr th:only-of-type {\n",
       "        vertical-align: middle;\n",
       "    }\n",
       "\n",
       "    .dataframe tbody tr th {\n",
       "        vertical-align: top;\n",
       "    }\n",
       "\n",
       "    .dataframe thead th {\n",
       "        text-align: right;\n",
       "    }\n",
       "</style>\n",
       "<table border=\"1\" class=\"dataframe\">\n",
       "  <thead>\n",
       "    <tr style=\"text-align: right;\">\n",
       "      <th></th>\n",
       "      <th>targetMeanPrice</th>\n",
       "      <th>targetHighPrice</th>\n",
       "      <th>targetLowPrice</th>\n",
       "      <th>numberOfAnalystOpinions</th>\n",
       "      <th>marketCap</th>\n",
       "      <th>heldPercentInstitutions</th>\n",
       "      <th>heldPercentInsiders</th>\n",
       "      <th>revenueGrowth</th>\n",
       "      <th>earningsGrowth</th>\n",
       "      <th>earningsQuarterlyGrowth</th>\n",
       "      <th>...</th>\n",
       "      <th>Specialty Industrial Machinery</th>\n",
       "      <th>Specialty Retail</th>\n",
       "      <th>Steel</th>\n",
       "      <th>Telecom Services</th>\n",
       "      <th>Textile Manufacturing</th>\n",
       "      <th>Thermal Coal</th>\n",
       "      <th>Tools &amp; Accessories</th>\n",
       "      <th>Utilities—Independent Power Producers</th>\n",
       "      <th>Utilities—Renewable</th>\n",
       "      <th>return</th>\n",
       "    </tr>\n",
       "  </thead>\n",
       "  <tbody>\n",
       "    <tr>\n",
       "      <th>600519.SS</th>\n",
       "      <td>-0.257822</td>\n",
       "      <td>-0.494579</td>\n",
       "      <td>0.106685</td>\n",
       "      <td>1.829428</td>\n",
       "      <td>9.140581</td>\n",
       "      <td>0.021626</td>\n",
       "      <td>0.345472</td>\n",
       "      <td>-0.352273</td>\n",
       "      <td>-0.196676</td>\n",
       "      <td>-0.209266</td>\n",
       "      <td>...</td>\n",
       "      <td>0</td>\n",
       "      <td>0</td>\n",
       "      <td>0</td>\n",
       "      <td>0</td>\n",
       "      <td>0</td>\n",
       "      <td>0</td>\n",
       "      <td>0</td>\n",
       "      <td>0</td>\n",
       "      <td>0</td>\n",
       "      <td>-0.035220</td>\n",
       "    </tr>\n",
       "    <tr>\n",
       "      <th>300750.SZ</th>\n",
       "      <td>0.170790</td>\n",
       "      <td>0.542667</td>\n",
       "      <td>-0.932414</td>\n",
       "      <td>2.545396</td>\n",
       "      <td>4.406853</td>\n",
       "      <td>0.566729</td>\n",
       "      <td>-0.056259</td>\n",
       "      <td>2.364114</td>\n",
       "      <td>0.571652</td>\n",
       "      <td>0.697608</td>\n",
       "      <td>...</td>\n",
       "      <td>0</td>\n",
       "      <td>0</td>\n",
       "      <td>0</td>\n",
       "      <td>0</td>\n",
       "      <td>0</td>\n",
       "      <td>0</td>\n",
       "      <td>0</td>\n",
       "      <td>0</td>\n",
       "      <td>0</td>\n",
       "      <td>0.033766</td>\n",
       "    </tr>\n",
       "    <tr>\n",
       "      <th>600036.SS</th>\n",
       "      <td>0.134805</td>\n",
       "      <td>0.183982</td>\n",
       "      <td>-0.521756</td>\n",
       "      <td>2.903379</td>\n",
       "      <td>4.328217</td>\n",
       "      <td>-0.268862</td>\n",
       "      <td>-0.097027</td>\n",
       "      <td>2.496785</td>\n",
       "      <td>-0.070898</td>\n",
       "      <td>-0.098408</td>\n",
       "      <td>...</td>\n",
       "      <td>0</td>\n",
       "      <td>0</td>\n",
       "      <td>0</td>\n",
       "      <td>0</td>\n",
       "      <td>0</td>\n",
       "      <td>0</td>\n",
       "      <td>0</td>\n",
       "      <td>0</td>\n",
       "      <td>0</td>\n",
       "      <td>0.037965</td>\n",
       "    </tr>\n",
       "    <tr>\n",
       "      <th>601318.SS</th>\n",
       "      <td>0.578641</td>\n",
       "      <td>0.879996</td>\n",
       "      <td>-0.928900</td>\n",
       "      <td>1.292453</td>\n",
       "      <td>2.995936</td>\n",
       "      <td>0.044688</td>\n",
       "      <td>-2.129636</td>\n",
       "      <td>-0.781768</td>\n",
       "      <td>-0.486327</td>\n",
       "      <td>-0.518742</td>\n",
       "      <td>...</td>\n",
       "      <td>0</td>\n",
       "      <td>0</td>\n",
       "      <td>0</td>\n",
       "      <td>0</td>\n",
       "      <td>0</td>\n",
       "      <td>0</td>\n",
       "      <td>0</td>\n",
       "      <td>0</td>\n",
       "      <td>0</td>\n",
       "      <td>0.016620</td>\n",
       "    </tr>\n",
       "    <tr>\n",
       "      <th>000858.SZ</th>\n",
       "      <td>0.660265</td>\n",
       "      <td>0.562939</td>\n",
       "      <td>0.565728</td>\n",
       "      <td>1.650436</td>\n",
       "      <td>2.273686</td>\n",
       "      <td>0.334919</td>\n",
       "      <td>0.035334</td>\n",
       "      <td>-0.336533</td>\n",
       "      <td>-0.199551</td>\n",
       "      <td>-0.213885</td>\n",
       "      <td>...</td>\n",
       "      <td>0</td>\n",
       "      <td>0</td>\n",
       "      <td>0</td>\n",
       "      <td>0</td>\n",
       "      <td>0</td>\n",
       "      <td>0</td>\n",
       "      <td>0</td>\n",
       "      <td>0</td>\n",
       "      <td>0</td>\n",
       "      <td>-0.022788</td>\n",
       "    </tr>\n",
       "    <tr>\n",
       "      <th>...</th>\n",
       "      <td>...</td>\n",
       "      <td>...</td>\n",
       "      <td>...</td>\n",
       "      <td>...</td>\n",
       "      <td>...</td>\n",
       "      <td>...</td>\n",
       "      <td>...</td>\n",
       "      <td>...</td>\n",
       "      <td>...</td>\n",
       "      <td>...</td>\n",
       "      <td>...</td>\n",
       "      <td>...</td>\n",
       "      <td>...</td>\n",
       "      <td>...</td>\n",
       "      <td>...</td>\n",
       "      <td>...</td>\n",
       "      <td>...</td>\n",
       "      <td>...</td>\n",
       "      <td>...</td>\n",
       "      <td>...</td>\n",
       "      <td>...</td>\n",
       "    </tr>\n",
       "    <tr>\n",
       "      <th>002032.SZ</th>\n",
       "      <td>-0.324503</td>\n",
       "      <td>0.182724</td>\n",
       "      <td>-0.432280</td>\n",
       "      <td>0.755477</td>\n",
       "      <td>-0.503685</td>\n",
       "      <td>-0.179349</td>\n",
       "      <td>1.485081</td>\n",
       "      <td>-0.307300</td>\n",
       "      <td>-0.318862</td>\n",
       "      <td>-0.367853</td>\n",
       "      <td>...</td>\n",
       "      <td>0</td>\n",
       "      <td>0</td>\n",
       "      <td>0</td>\n",
       "      <td>0</td>\n",
       "      <td>0</td>\n",
       "      <td>0</td>\n",
       "      <td>0</td>\n",
       "      <td>0</td>\n",
       "      <td>0</td>\n",
       "      <td>-0.017366</td>\n",
       "    </tr>\n",
       "    <tr>\n",
       "      <th>000800.SZ</th>\n",
       "      <td>0.338529</td>\n",
       "      <td>-0.063738</td>\n",
       "      <td>0.065606</td>\n",
       "      <td>-0.855449</td>\n",
       "      <td>-0.497362</td>\n",
       "      <td>-0.976761</td>\n",
       "      <td>1.568617</td>\n",
       "      <td>-2.041021</td>\n",
       "      <td>-0.576888</td>\n",
       "      <td>-0.614972</td>\n",
       "      <td>...</td>\n",
       "      <td>0</td>\n",
       "      <td>0</td>\n",
       "      <td>0</td>\n",
       "      <td>0</td>\n",
       "      <td>0</td>\n",
       "      <td>0</td>\n",
       "      <td>0</td>\n",
       "      <td>0</td>\n",
       "      <td>0</td>\n",
       "      <td>-0.039174</td>\n",
       "    </tr>\n",
       "    <tr>\n",
       "      <th>601698.SS</th>\n",
       "      <td>-1.419065</td>\n",
       "      <td>-1.992835</td>\n",
       "      <td>-0.069033</td>\n",
       "      <td>-1.571417</td>\n",
       "      <td>-0.459686</td>\n",
       "      <td>-1.029716</td>\n",
       "      <td>1.894868</td>\n",
       "      <td>-0.696319</td>\n",
       "      <td>-0.415891</td>\n",
       "      <td>-0.443298</td>\n",
       "      <td>...</td>\n",
       "      <td>0</td>\n",
       "      <td>0</td>\n",
       "      <td>0</td>\n",
       "      <td>1</td>\n",
       "      <td>0</td>\n",
       "      <td>0</td>\n",
       "      <td>0</td>\n",
       "      <td>0</td>\n",
       "      <td>0</td>\n",
       "      <td>-0.025910</td>\n",
       "    </tr>\n",
       "    <tr>\n",
       "      <th>605499.SS</th>\n",
       "      <td>0.302171</td>\n",
       "      <td>0.242177</td>\n",
       "      <td>0.784885</td>\n",
       "      <td>-0.855449</td>\n",
       "      <td>-0.397778</td>\n",
       "      <td>-0.857866</td>\n",
       "      <td>1.531634</td>\n",
       "      <td>-0.140899</td>\n",
       "      <td>-0.217520</td>\n",
       "      <td>-0.136131</td>\n",
       "      <td>...</td>\n",
       "      <td>0</td>\n",
       "      <td>0</td>\n",
       "      <td>0</td>\n",
       "      <td>0</td>\n",
       "      <td>0</td>\n",
       "      <td>0</td>\n",
       "      <td>0</td>\n",
       "      <td>0</td>\n",
       "      <td>0</td>\n",
       "      <td>-0.057701</td>\n",
       "    </tr>\n",
       "    <tr>\n",
       "      <th>300888.SZ</th>\n",
       "      <td>0.318411</td>\n",
       "      <td>0.166897</td>\n",
       "      <td>0.731539</td>\n",
       "      <td>-1.034441</td>\n",
       "      <td>-0.539609</td>\n",
       "      <td>-0.075659</td>\n",
       "      <td>1.265561</td>\n",
       "      <td>-2.083745</td>\n",
       "      <td>-0.901756</td>\n",
       "      <td>-0.949854</td>\n",
       "      <td>...</td>\n",
       "      <td>0</td>\n",
       "      <td>0</td>\n",
       "      <td>0</td>\n",
       "      <td>0</td>\n",
       "      <td>0</td>\n",
       "      <td>0</td>\n",
       "      <td>0</td>\n",
       "      <td>0</td>\n",
       "      <td>0</td>\n",
       "      <td>-0.041120</td>\n",
       "    </tr>\n",
       "  </tbody>\n",
       "</table>\n",
       "<p>299 rows × 118 columns</p>\n",
       "</div>"
      ],
      "text/plain": [
       "           targetMeanPrice  targetHighPrice  targetLowPrice  \\\n",
       "600519.SS        -0.257822        -0.494579        0.106685   \n",
       "300750.SZ         0.170790         0.542667       -0.932414   \n",
       "600036.SS         0.134805         0.183982       -0.521756   \n",
       "601318.SS         0.578641         0.879996       -0.928900   \n",
       "000858.SZ         0.660265         0.562939        0.565728   \n",
       "...                    ...              ...             ...   \n",
       "002032.SZ        -0.324503         0.182724       -0.432280   \n",
       "000800.SZ         0.338529        -0.063738        0.065606   \n",
       "601698.SS        -1.419065        -1.992835       -0.069033   \n",
       "605499.SS         0.302171         0.242177        0.784885   \n",
       "300888.SZ         0.318411         0.166897        0.731539   \n",
       "\n",
       "           numberOfAnalystOpinions  marketCap  heldPercentInstitutions  \\\n",
       "600519.SS                 1.829428   9.140581                 0.021626   \n",
       "300750.SZ                 2.545396   4.406853                 0.566729   \n",
       "600036.SS                 2.903379   4.328217                -0.268862   \n",
       "601318.SS                 1.292453   2.995936                 0.044688   \n",
       "000858.SZ                 1.650436   2.273686                 0.334919   \n",
       "...                            ...        ...                      ...   \n",
       "002032.SZ                 0.755477  -0.503685                -0.179349   \n",
       "000800.SZ                -0.855449  -0.497362                -0.976761   \n",
       "601698.SS                -1.571417  -0.459686                -1.029716   \n",
       "605499.SS                -0.855449  -0.397778                -0.857866   \n",
       "300888.SZ                -1.034441  -0.539609                -0.075659   \n",
       "\n",
       "           heldPercentInsiders  revenueGrowth  earningsGrowth  \\\n",
       "600519.SS             0.345472      -0.352273       -0.196676   \n",
       "300750.SZ            -0.056259       2.364114        0.571652   \n",
       "600036.SS            -0.097027       2.496785       -0.070898   \n",
       "601318.SS            -2.129636      -0.781768       -0.486327   \n",
       "000858.SZ             0.035334      -0.336533       -0.199551   \n",
       "...                        ...            ...             ...   \n",
       "002032.SZ             1.485081      -0.307300       -0.318862   \n",
       "000800.SZ             1.568617      -2.041021       -0.576888   \n",
       "601698.SS             1.894868      -0.696319       -0.415891   \n",
       "605499.SS             1.531634      -0.140899       -0.217520   \n",
       "300888.SZ             1.265561      -2.083745       -0.901756   \n",
       "\n",
       "           earningsQuarterlyGrowth  ...  Specialty Industrial Machinery  \\\n",
       "600519.SS                -0.209266  ...                               0   \n",
       "300750.SZ                 0.697608  ...                               0   \n",
       "600036.SS                -0.098408  ...                               0   \n",
       "601318.SS                -0.518742  ...                               0   \n",
       "000858.SZ                -0.213885  ...                               0   \n",
       "...                            ...  ...                             ...   \n",
       "002032.SZ                -0.367853  ...                               0   \n",
       "000800.SZ                -0.614972  ...                               0   \n",
       "601698.SS                -0.443298  ...                               0   \n",
       "605499.SS                -0.136131  ...                               0   \n",
       "300888.SZ                -0.949854  ...                               0   \n",
       "\n",
       "           Specialty Retail  Steel  Telecom Services  Textile Manufacturing  \\\n",
       "600519.SS                 0      0                 0                      0   \n",
       "300750.SZ                 0      0                 0                      0   \n",
       "600036.SS                 0      0                 0                      0   \n",
       "601318.SS                 0      0                 0                      0   \n",
       "000858.SZ                 0      0                 0                      0   \n",
       "...                     ...    ...               ...                    ...   \n",
       "002032.SZ                 0      0                 0                      0   \n",
       "000800.SZ                 0      0                 0                      0   \n",
       "601698.SS                 0      0                 1                      0   \n",
       "605499.SS                 0      0                 0                      0   \n",
       "300888.SZ                 0      0                 0                      0   \n",
       "\n",
       "           Thermal Coal  Tools & Accessories  \\\n",
       "600519.SS             0                    0   \n",
       "300750.SZ             0                    0   \n",
       "600036.SS             0                    0   \n",
       "601318.SS             0                    0   \n",
       "000858.SZ             0                    0   \n",
       "...                 ...                  ...   \n",
       "002032.SZ             0                    0   \n",
       "000800.SZ             0                    0   \n",
       "601698.SS             0                    0   \n",
       "605499.SS             0                    0   \n",
       "300888.SZ             0                    0   \n",
       "\n",
       "           Utilities—Independent Power Producers  Utilities—Renewable  \\\n",
       "600519.SS                                      0                    0   \n",
       "300750.SZ                                      0                    0   \n",
       "600036.SS                                      0                    0   \n",
       "601318.SS                                      0                    0   \n",
       "000858.SZ                                      0                    0   \n",
       "...                                          ...                  ...   \n",
       "002032.SZ                                      0                    0   \n",
       "000800.SZ                                      0                    0   \n",
       "601698.SS                                      0                    0   \n",
       "605499.SS                                      0                    0   \n",
       "300888.SZ                                      0                    0   \n",
       "\n",
       "             return  \n",
       "600519.SS -0.035220  \n",
       "300750.SZ  0.033766  \n",
       "600036.SS  0.037965  \n",
       "601318.SS  0.016620  \n",
       "000858.SZ -0.022788  \n",
       "...             ...  \n",
       "002032.SZ -0.017366  \n",
       "000800.SZ -0.039174  \n",
       "601698.SS -0.025910  \n",
       "605499.SS -0.057701  \n",
       "300888.SZ -0.041120  \n",
       "\n",
       "[299 rows x 118 columns]"
      ]
     },
     "execution_count": 100,
     "metadata": {},
     "output_type": "execute_result"
    }
   ],
   "source": [
    "df_factor_train = df_factors.merge(last_week_return, left_index=True, right_index=True, how='left')\n",
    "df_factor_train"
   ]
  },
  {
   "cell_type": "code",
   "execution_count": 101,
   "metadata": {
    "ExecuteTime": {
     "end_time": "2022-03-11T05:31:32.430601Z",
     "start_time": "2022-03-11T05:31:32.416638Z"
    }
   },
   "outputs": [
    {
     "data": {
      "text/plain": [
       "41"
      ]
     },
     "execution_count": 101,
     "metadata": {},
     "output_type": "execute_result"
    }
   ],
   "source": [
    "117-76"
   ]
  },
  {
   "cell_type": "code",
   "execution_count": 102,
   "metadata": {
    "ExecuteTime": {
     "end_time": "2022-03-11T05:31:32.446557Z",
     "start_time": "2022-03-11T05:31:32.431598Z"
    }
   },
   "outputs": [
    {
     "data": {
      "text/html": [
       "<div>\n",
       "<style scoped>\n",
       "    .dataframe tbody tr th:only-of-type {\n",
       "        vertical-align: middle;\n",
       "    }\n",
       "\n",
       "    .dataframe tbody tr th {\n",
       "        vertical-align: top;\n",
       "    }\n",
       "\n",
       "    .dataframe thead th {\n",
       "        text-align: right;\n",
       "    }\n",
       "</style>\n",
       "<table border=\"1\" class=\"dataframe\">\n",
       "  <thead>\n",
       "    <tr style=\"text-align: right;\">\n",
       "      <th></th>\n",
       "      <th>Advertising Agencies</th>\n",
       "      <th>Aerospace &amp; Defense</th>\n",
       "      <th>Agricultural Inputs</th>\n",
       "      <th>Airlines</th>\n",
       "      <th>Airports &amp; Air Services</th>\n",
       "      <th>Aluminum</th>\n",
       "      <th>Asset Management</th>\n",
       "      <th>Auto Manufacturers</th>\n",
       "      <th>Auto Parts</th>\n",
       "      <th>Banks—Diversified</th>\n",
       "      <th>...</th>\n",
       "      <th>Specialty Chemicals</th>\n",
       "      <th>Specialty Industrial Machinery</th>\n",
       "      <th>Specialty Retail</th>\n",
       "      <th>Steel</th>\n",
       "      <th>Telecom Services</th>\n",
       "      <th>Textile Manufacturing</th>\n",
       "      <th>Thermal Coal</th>\n",
       "      <th>Tools &amp; Accessories</th>\n",
       "      <th>Utilities—Independent Power Producers</th>\n",
       "      <th>Utilities—Renewable</th>\n",
       "    </tr>\n",
       "  </thead>\n",
       "  <tbody>\n",
       "    <tr>\n",
       "      <th>600519.SS</th>\n",
       "      <td>0</td>\n",
       "      <td>0</td>\n",
       "      <td>0</td>\n",
       "      <td>0</td>\n",
       "      <td>0</td>\n",
       "      <td>0</td>\n",
       "      <td>0</td>\n",
       "      <td>0</td>\n",
       "      <td>0</td>\n",
       "      <td>0</td>\n",
       "      <td>...</td>\n",
       "      <td>0</td>\n",
       "      <td>0</td>\n",
       "      <td>0</td>\n",
       "      <td>0</td>\n",
       "      <td>0</td>\n",
       "      <td>0</td>\n",
       "      <td>0</td>\n",
       "      <td>0</td>\n",
       "      <td>0</td>\n",
       "      <td>0</td>\n",
       "    </tr>\n",
       "    <tr>\n",
       "      <th>300750.SZ</th>\n",
       "      <td>0</td>\n",
       "      <td>0</td>\n",
       "      <td>0</td>\n",
       "      <td>0</td>\n",
       "      <td>0</td>\n",
       "      <td>0</td>\n",
       "      <td>0</td>\n",
       "      <td>0</td>\n",
       "      <td>0</td>\n",
       "      <td>0</td>\n",
       "      <td>...</td>\n",
       "      <td>0</td>\n",
       "      <td>0</td>\n",
       "      <td>0</td>\n",
       "      <td>0</td>\n",
       "      <td>0</td>\n",
       "      <td>0</td>\n",
       "      <td>0</td>\n",
       "      <td>0</td>\n",
       "      <td>0</td>\n",
       "      <td>0</td>\n",
       "    </tr>\n",
       "    <tr>\n",
       "      <th>600036.SS</th>\n",
       "      <td>0</td>\n",
       "      <td>0</td>\n",
       "      <td>0</td>\n",
       "      <td>0</td>\n",
       "      <td>0</td>\n",
       "      <td>0</td>\n",
       "      <td>0</td>\n",
       "      <td>0</td>\n",
       "      <td>0</td>\n",
       "      <td>0</td>\n",
       "      <td>...</td>\n",
       "      <td>0</td>\n",
       "      <td>0</td>\n",
       "      <td>0</td>\n",
       "      <td>0</td>\n",
       "      <td>0</td>\n",
       "      <td>0</td>\n",
       "      <td>0</td>\n",
       "      <td>0</td>\n",
       "      <td>0</td>\n",
       "      <td>0</td>\n",
       "    </tr>\n",
       "    <tr>\n",
       "      <th>601318.SS</th>\n",
       "      <td>0</td>\n",
       "      <td>0</td>\n",
       "      <td>0</td>\n",
       "      <td>0</td>\n",
       "      <td>0</td>\n",
       "      <td>0</td>\n",
       "      <td>0</td>\n",
       "      <td>0</td>\n",
       "      <td>0</td>\n",
       "      <td>0</td>\n",
       "      <td>...</td>\n",
       "      <td>0</td>\n",
       "      <td>0</td>\n",
       "      <td>0</td>\n",
       "      <td>0</td>\n",
       "      <td>0</td>\n",
       "      <td>0</td>\n",
       "      <td>0</td>\n",
       "      <td>0</td>\n",
       "      <td>0</td>\n",
       "      <td>0</td>\n",
       "    </tr>\n",
       "    <tr>\n",
       "      <th>000858.SZ</th>\n",
       "      <td>0</td>\n",
       "      <td>0</td>\n",
       "      <td>0</td>\n",
       "      <td>0</td>\n",
       "      <td>0</td>\n",
       "      <td>0</td>\n",
       "      <td>0</td>\n",
       "      <td>0</td>\n",
       "      <td>0</td>\n",
       "      <td>0</td>\n",
       "      <td>...</td>\n",
       "      <td>0</td>\n",
       "      <td>0</td>\n",
       "      <td>0</td>\n",
       "      <td>0</td>\n",
       "      <td>0</td>\n",
       "      <td>0</td>\n",
       "      <td>0</td>\n",
       "      <td>0</td>\n",
       "      <td>0</td>\n",
       "      <td>0</td>\n",
       "    </tr>\n",
       "    <tr>\n",
       "      <th>...</th>\n",
       "      <td>...</td>\n",
       "      <td>...</td>\n",
       "      <td>...</td>\n",
       "      <td>...</td>\n",
       "      <td>...</td>\n",
       "      <td>...</td>\n",
       "      <td>...</td>\n",
       "      <td>...</td>\n",
       "      <td>...</td>\n",
       "      <td>...</td>\n",
       "      <td>...</td>\n",
       "      <td>...</td>\n",
       "      <td>...</td>\n",
       "      <td>...</td>\n",
       "      <td>...</td>\n",
       "      <td>...</td>\n",
       "      <td>...</td>\n",
       "      <td>...</td>\n",
       "      <td>...</td>\n",
       "      <td>...</td>\n",
       "      <td>...</td>\n",
       "    </tr>\n",
       "    <tr>\n",
       "      <th>002032.SZ</th>\n",
       "      <td>0</td>\n",
       "      <td>0</td>\n",
       "      <td>0</td>\n",
       "      <td>0</td>\n",
       "      <td>0</td>\n",
       "      <td>0</td>\n",
       "      <td>0</td>\n",
       "      <td>0</td>\n",
       "      <td>0</td>\n",
       "      <td>0</td>\n",
       "      <td>...</td>\n",
       "      <td>0</td>\n",
       "      <td>0</td>\n",
       "      <td>0</td>\n",
       "      <td>0</td>\n",
       "      <td>0</td>\n",
       "      <td>0</td>\n",
       "      <td>0</td>\n",
       "      <td>0</td>\n",
       "      <td>0</td>\n",
       "      <td>0</td>\n",
       "    </tr>\n",
       "    <tr>\n",
       "      <th>000800.SZ</th>\n",
       "      <td>0</td>\n",
       "      <td>0</td>\n",
       "      <td>0</td>\n",
       "      <td>0</td>\n",
       "      <td>0</td>\n",
       "      <td>0</td>\n",
       "      <td>0</td>\n",
       "      <td>1</td>\n",
       "      <td>0</td>\n",
       "      <td>0</td>\n",
       "      <td>...</td>\n",
       "      <td>0</td>\n",
       "      <td>0</td>\n",
       "      <td>0</td>\n",
       "      <td>0</td>\n",
       "      <td>0</td>\n",
       "      <td>0</td>\n",
       "      <td>0</td>\n",
       "      <td>0</td>\n",
       "      <td>0</td>\n",
       "      <td>0</td>\n",
       "    </tr>\n",
       "    <tr>\n",
       "      <th>601698.SS</th>\n",
       "      <td>0</td>\n",
       "      <td>0</td>\n",
       "      <td>0</td>\n",
       "      <td>0</td>\n",
       "      <td>0</td>\n",
       "      <td>0</td>\n",
       "      <td>0</td>\n",
       "      <td>0</td>\n",
       "      <td>0</td>\n",
       "      <td>0</td>\n",
       "      <td>...</td>\n",
       "      <td>0</td>\n",
       "      <td>0</td>\n",
       "      <td>0</td>\n",
       "      <td>0</td>\n",
       "      <td>1</td>\n",
       "      <td>0</td>\n",
       "      <td>0</td>\n",
       "      <td>0</td>\n",
       "      <td>0</td>\n",
       "      <td>0</td>\n",
       "    </tr>\n",
       "    <tr>\n",
       "      <th>605499.SS</th>\n",
       "      <td>0</td>\n",
       "      <td>0</td>\n",
       "      <td>0</td>\n",
       "      <td>0</td>\n",
       "      <td>0</td>\n",
       "      <td>0</td>\n",
       "      <td>0</td>\n",
       "      <td>0</td>\n",
       "      <td>0</td>\n",
       "      <td>0</td>\n",
       "      <td>...</td>\n",
       "      <td>0</td>\n",
       "      <td>0</td>\n",
       "      <td>0</td>\n",
       "      <td>0</td>\n",
       "      <td>0</td>\n",
       "      <td>0</td>\n",
       "      <td>0</td>\n",
       "      <td>0</td>\n",
       "      <td>0</td>\n",
       "      <td>0</td>\n",
       "    </tr>\n",
       "    <tr>\n",
       "      <th>300888.SZ</th>\n",
       "      <td>0</td>\n",
       "      <td>0</td>\n",
       "      <td>0</td>\n",
       "      <td>0</td>\n",
       "      <td>0</td>\n",
       "      <td>0</td>\n",
       "      <td>0</td>\n",
       "      <td>0</td>\n",
       "      <td>0</td>\n",
       "      <td>0</td>\n",
       "      <td>...</td>\n",
       "      <td>0</td>\n",
       "      <td>0</td>\n",
       "      <td>0</td>\n",
       "      <td>0</td>\n",
       "      <td>0</td>\n",
       "      <td>0</td>\n",
       "      <td>0</td>\n",
       "      <td>0</td>\n",
       "      <td>0</td>\n",
       "      <td>0</td>\n",
       "    </tr>\n",
       "  </tbody>\n",
       "</table>\n",
       "<p>299 rows × 76 columns</p>\n",
       "</div>"
      ],
      "text/plain": [
       "           Advertising Agencies  Aerospace & Defense  Agricultural Inputs  \\\n",
       "600519.SS                     0                    0                    0   \n",
       "300750.SZ                     0                    0                    0   \n",
       "600036.SS                     0                    0                    0   \n",
       "601318.SS                     0                    0                    0   \n",
       "000858.SZ                     0                    0                    0   \n",
       "...                         ...                  ...                  ...   \n",
       "002032.SZ                     0                    0                    0   \n",
       "000800.SZ                     0                    0                    0   \n",
       "601698.SS                     0                    0                    0   \n",
       "605499.SS                     0                    0                    0   \n",
       "300888.SZ                     0                    0                    0   \n",
       "\n",
       "           Airlines  Airports & Air Services  Aluminum  Asset Management  \\\n",
       "600519.SS         0                        0         0                 0   \n",
       "300750.SZ         0                        0         0                 0   \n",
       "600036.SS         0                        0         0                 0   \n",
       "601318.SS         0                        0         0                 0   \n",
       "000858.SZ         0                        0         0                 0   \n",
       "...             ...                      ...       ...               ...   \n",
       "002032.SZ         0                        0         0                 0   \n",
       "000800.SZ         0                        0         0                 0   \n",
       "601698.SS         0                        0         0                 0   \n",
       "605499.SS         0                        0         0                 0   \n",
       "300888.SZ         0                        0         0                 0   \n",
       "\n",
       "           Auto Manufacturers  Auto Parts  Banks—Diversified  ...  \\\n",
       "600519.SS                   0           0                  0  ...   \n",
       "300750.SZ                   0           0                  0  ...   \n",
       "600036.SS                   0           0                  0  ...   \n",
       "601318.SS                   0           0                  0  ...   \n",
       "000858.SZ                   0           0                  0  ...   \n",
       "...                       ...         ...                ...  ...   \n",
       "002032.SZ                   0           0                  0  ...   \n",
       "000800.SZ                   1           0                  0  ...   \n",
       "601698.SS                   0           0                  0  ...   \n",
       "605499.SS                   0           0                  0  ...   \n",
       "300888.SZ                   0           0                  0  ...   \n",
       "\n",
       "           Specialty Chemicals  Specialty Industrial Machinery  \\\n",
       "600519.SS                    0                               0   \n",
       "300750.SZ                    0                               0   \n",
       "600036.SS                    0                               0   \n",
       "601318.SS                    0                               0   \n",
       "000858.SZ                    0                               0   \n",
       "...                        ...                             ...   \n",
       "002032.SZ                    0                               0   \n",
       "000800.SZ                    0                               0   \n",
       "601698.SS                    0                               0   \n",
       "605499.SS                    0                               0   \n",
       "300888.SZ                    0                               0   \n",
       "\n",
       "           Specialty Retail  Steel  Telecom Services  Textile Manufacturing  \\\n",
       "600519.SS                 0      0                 0                      0   \n",
       "300750.SZ                 0      0                 0                      0   \n",
       "600036.SS                 0      0                 0                      0   \n",
       "601318.SS                 0      0                 0                      0   \n",
       "000858.SZ                 0      0                 0                      0   \n",
       "...                     ...    ...               ...                    ...   \n",
       "002032.SZ                 0      0                 0                      0   \n",
       "000800.SZ                 0      0                 0                      0   \n",
       "601698.SS                 0      0                 1                      0   \n",
       "605499.SS                 0      0                 0                      0   \n",
       "300888.SZ                 0      0                 0                      0   \n",
       "\n",
       "           Thermal Coal  Tools & Accessories  \\\n",
       "600519.SS             0                    0   \n",
       "300750.SZ             0                    0   \n",
       "600036.SS             0                    0   \n",
       "601318.SS             0                    0   \n",
       "000858.SZ             0                    0   \n",
       "...                 ...                  ...   \n",
       "002032.SZ             0                    0   \n",
       "000800.SZ             0                    0   \n",
       "601698.SS             0                    0   \n",
       "605499.SS             0                    0   \n",
       "300888.SZ             0                    0   \n",
       "\n",
       "           Utilities—Independent Power Producers  Utilities—Renewable  \n",
       "600519.SS                                      0                    0  \n",
       "300750.SZ                                      0                    0  \n",
       "600036.SS                                      0                    0  \n",
       "601318.SS                                      0                    0  \n",
       "000858.SZ                                      0                    0  \n",
       "...                                          ...                  ...  \n",
       "002032.SZ                                      0                    0  \n",
       "000800.SZ                                      0                    0  \n",
       "601698.SS                                      0                    0  \n",
       "605499.SS                                      0                    0  \n",
       "300888.SZ                                      0                    0  \n",
       "\n",
       "[299 rows x 76 columns]"
      ]
     },
     "execution_count": 102,
     "metadata": {},
     "output_type": "execute_result"
    }
   ],
   "source": [
    "pd.get_dummies(df_nom['industry'])"
   ]
  },
  {
   "cell_type": "code",
   "execution_count": 103,
   "metadata": {
    "ExecuteTime": {
     "end_time": "2022-03-11T05:31:32.462515Z",
     "start_time": "2022-03-11T05:31:32.447555Z"
    }
   },
   "outputs": [],
   "source": [
    "df_factors_X = df_factor_train.loc[:, df_factor_train.columns!='return']\n",
    "df_factors_y = df_factor_train['return']"
   ]
  },
  {
   "cell_type": "code",
   "execution_count": 104,
   "metadata": {},
   "outputs": [
    {
     "data": {
      "text/plain": [
       "(299, 117)"
      ]
     },
     "execution_count": 104,
     "metadata": {},
     "output_type": "execute_result"
    }
   ],
   "source": [
    "df_factors_X.shape"
   ]
  },
  {
   "cell_type": "code",
   "execution_count": 105,
   "metadata": {},
   "outputs": [
    {
     "data": {
      "text/plain": [
       "600519.SS    0.913263\n",
       "300750.SZ    0.114254\n",
       "600036.SS    0.564452\n",
       "601318.SS    0.141488\n",
       "000858.SZ    0.427538\n",
       "               ...   \n",
       "002032.SZ   -0.257913\n",
       "000800.SZ    0.008899\n",
       "601698.SS   -0.095905\n",
       "605499.SS    0.679985\n",
       "300888.SZ   -1.118137\n",
       "Name: previousClose_logprice, Length: 299, dtype: float64"
      ]
     },
     "execution_count": 105,
     "metadata": {},
     "output_type": "execute_result"
    }
   ],
   "source": [
    "df_factors_X['previousClose_logprice']"
   ]
  },
  {
   "cell_type": "markdown",
   "metadata": {},
   "source": [
    "# LinearRegression with sklearn"
   ]
  },
  {
   "cell_type": "code",
   "execution_count": 106,
   "metadata": {
    "ExecuteTime": {
     "end_time": "2022-03-11T05:31:32.494430Z",
     "start_time": "2022-03-11T05:31:32.464510Z"
    }
   },
   "outputs": [
    {
     "data": {
      "text/plain": [
       "LinearRegression()"
      ]
     },
     "execution_count": 106,
     "metadata": {},
     "output_type": "execute_result"
    }
   ],
   "source": [
    "from sklearn.linear_model import LinearRegression\n",
    "\n",
    "lr = LinearRegression()\n",
    "X_train = df_factors_X.to_numpy().astype(float)\n",
    "y_train = df_factors_y.to_numpy().reshape(-1)\n",
    "lr.fit(X= X_train, y=y_train)"
   ]
  },
  {
   "cell_type": "code",
   "execution_count": 107,
   "metadata": {
    "ExecuteTime": {
     "end_time": "2022-03-11T05:31:32.510387Z",
     "start_time": "2022-03-11T05:31:32.496424Z"
    }
   },
   "outputs": [
    {
     "name": "stdout",
     "output_type": "stream",
     "text": [
      "mean abs residuals: 0.02099278735506881\n",
      "stdev of residuals: 0.03098985387638634\n"
     ]
    },
    {
     "name": "stderr",
     "output_type": "stream",
     "text": [
      "C:\\Users\\user\\AppData\\Local\\Temp\\ipykernel_42752\\2417173402.py:6: RuntimeWarning: divide by zero encountered in true_divide\n",
      "  residuals_percent = residuals / y_train\n"
     ]
    }
   ],
   "source": [
    "lr.intercept_\n",
    "\n",
    "lr.score(X_train, y_train)\n",
    "\n",
    "residuals = (lr.predict(X_train) - y_train) \n",
    "residuals_percent = residuals / y_train\n",
    "\n",
    "print('mean abs residuals:', abs(residuals[(residuals != np.inf) & (residuals != -np.inf)]).mean())\n",
    "\n",
    "print('stdev of residuals:', residuals[(residuals != np.inf) & (residuals != -np.inf)].std())"
   ]
  },
  {
   "cell_type": "code",
   "execution_count": 108,
   "metadata": {
    "ExecuteTime": {
     "end_time": "2022-03-11T05:31:32.668963Z",
     "start_time": "2022-03-11T05:31:32.512382Z"
    }
   },
   "outputs": [
    {
     "data": {
      "text/plain": [
       "<AxesSubplot:xlabel='Actual', ylabel='Predict'>"
      ]
     },
     "metadata": {},
     "output_type": "display_data"
    },
    {
     "data": {
      "image/png": "[encoded data removed]",
      "text/plain": [
       "<Figure size 432x288 with 1 Axes>"
      ]
     },
     "metadata": {
      "needs_background": "light"
     },
     "output_type": "display_data"
    }
   ],
   "source": [
    "def plot_pred_true(y_pred, y_train):\n",
    "    predict = pd.Series(y_pred, name='Predict')\n",
    "    true = pd.Series(y_train, name='Actual')\n",
    "    display(pd.DataFrame([predict, true]).T.plot.scatter(x='Actual', y='Predict'))\n",
    "    return None\n",
    "\n",
    "plot_pred_true(lr.predict(X_train), y_train)"
   ]
  },
  {
   "cell_type": "code",
   "execution_count": 109,
   "metadata": {
    "ExecuteTime": {
     "end_time": "2022-03-11T05:31:32.684919Z",
     "start_time": "2022-03-11T05:31:32.669961Z"
    }
   },
   "outputs": [
    {
     "data": {
      "text/plain": [
       "(117,)"
      ]
     },
     "execution_count": 109,
     "metadata": {},
     "output_type": "execute_result"
    }
   ],
   "source": [
    "lr.coef_.shape"
   ]
  },
  {
   "cell_type": "code",
   "execution_count": 110,
   "metadata": {
    "ExecuteTime": {
     "end_time": "2022-03-11T05:31:32.699880Z",
     "start_time": "2022-03-11T05:31:32.685917Z"
    }
   },
   "outputs": [
    {
     "data": {
      "text/plain": [
       "(299, 117)"
      ]
     },
     "execution_count": 110,
     "metadata": {},
     "output_type": "execute_result"
    }
   ],
   "source": [
    "df_factors_X.shape"
   ]
  },
  {
   "cell_type": "code",
   "execution_count": 111,
   "metadata": {
    "ExecuteTime": {
     "end_time": "2022-03-11T05:31:32.715837Z",
     "start_time": "2022-03-11T05:31:32.701875Z"
    }
   },
   "outputs": [
    {
     "data": {
      "text/plain": [
       "targetMeanPrice                          0.005937\n",
       "targetHighPrice                         -0.011910\n",
       "targetLowPrice                          -0.003137\n",
       "numberOfAnalystOpinions                  0.003825\n",
       "marketCap                               -0.002733\n",
       "                                           ...   \n",
       "Textile Manufacturing                    0.032596\n",
       "Thermal Coal                            -0.006140\n",
       "Tools & Accessories                      0.022125\n",
       "Utilities—Independent Power Producers    0.006094\n",
       "Utilities—Renewable                      0.008338\n",
       "Length: 117, dtype: float64"
      ]
     },
     "execution_count": 111,
     "metadata": {},
     "output_type": "execute_result"
    }
   ],
   "source": [
    "coef = pd.Series(lr.coef_, index=df_factors_X.columns)\n",
    "coef"
   ]
  },
  {
   "cell_type": "code",
   "execution_count": 112,
   "metadata": {
    "ExecuteTime": {
     "end_time": "2022-03-11T05:31:32.731795Z",
     "start_time": "2022-03-11T05:31:32.716835Z"
    }
   },
   "outputs": [],
   "source": [
    "from collections import defaultdict\n",
    "\n",
    "cat_coef_pos = defaultdict(float)\n",
    "cat_coef_neg = defaultdict(float)"
   ]
  },
  {
   "cell_type": "code",
   "execution_count": 113,
   "metadata": {
    "ExecuteTime": {
     "end_time": "2022-03-11T05:31:32.747752Z",
     "start_time": "2022-03-11T05:31:32.732792Z"
    }
   },
   "outputs": [],
   "source": [
    "industry = df_nom['industry'].unique().tolist()"
   ]
  },
  {
   "cell_type": "code",
   "execution_count": 114,
   "metadata": {
    "ExecuteTime": {
     "end_time": "2022-03-11T05:31:32.763710Z",
     "start_time": "2022-03-11T05:31:32.748750Z"
    }
   },
   "outputs": [],
   "source": [
    "for cat, f_list in fields.items():\n",
    "    for f in f_list:\n",
    "        if f in coef.index:\n",
    "            if coef[f] > 0:\n",
    "                cat_coef_pos[cat] += coef[f]\n",
    "            if coef[f] < 0:\n",
    "                cat_coef_neg[cat] += coef[f]"
   ]
  },
  {
   "cell_type": "code",
   "execution_count": 115,
   "metadata": {},
   "outputs": [],
   "source": [
    "for ind in industry:\n",
    "    if coef[ind] > 0:\n",
    "        cat_coef_pos['industry'] += coef[ind]\n",
    "    if coef[ind] < 0:\n",
    "        cat_coef_neg['industry'] += coef[ind]"
   ]
  },
  {
   "cell_type": "code",
   "execution_count": 116,
   "metadata": {},
   "outputs": [
    {
     "data": {
      "text/html": [
       "<div>\n",
       "<style scoped>\n",
       "    .dataframe tbody tr th:only-of-type {\n",
       "        vertical-align: middle;\n",
       "    }\n",
       "\n",
       "    .dataframe tbody tr th {\n",
       "        vertical-align: top;\n",
       "    }\n",
       "\n",
       "    .dataframe thead th {\n",
       "        text-align: right;\n",
       "    }\n",
       "</style>\n",
       "<table border=\"1\" class=\"dataframe\">\n",
       "  <thead>\n",
       "    <tr style=\"text-align: right;\">\n",
       "      <th></th>\n",
       "      <th>Positive</th>\n",
       "      <th>Negative</th>\n",
       "      <th>Sum Abs</th>\n",
       "    </tr>\n",
       "  </thead>\n",
       "  <tbody>\n",
       "    <tr>\n",
       "      <th>industry</th>\n",
       "      <td>1.175897</td>\n",
       "      <td>-1.175897</td>\n",
       "      <td>2.351793</td>\n",
       "    </tr>\n",
       "    <tr>\n",
       "      <th>Value</th>\n",
       "      <td>0.050538</td>\n",
       "      <td>-0.039892</td>\n",
       "      <td>0.090430</td>\n",
       "    </tr>\n",
       "    <tr>\n",
       "      <th>Growth</th>\n",
       "      <td>0.040747</td>\n",
       "      <td>-0.046142</td>\n",
       "      <td>0.086889</td>\n",
       "    </tr>\n",
       "    <tr>\n",
       "      <th>Liquidity</th>\n",
       "      <td>0.027409</td>\n",
       "      <td>-0.013501</td>\n",
       "      <td>0.040910</td>\n",
       "    </tr>\n",
       "    <tr>\n",
       "      <th>Market expectation</th>\n",
       "      <td>0.009762</td>\n",
       "      <td>-0.015047</td>\n",
       "      <td>0.024809</td>\n",
       "    </tr>\n",
       "    <tr>\n",
       "      <th>Momentum</th>\n",
       "      <td>0.014897</td>\n",
       "      <td>-0.006620</td>\n",
       "      <td>0.021518</td>\n",
       "    </tr>\n",
       "    <tr>\n",
       "      <th>Financial leverage</th>\n",
       "      <td>0.007918</td>\n",
       "      <td>-0.010923</td>\n",
       "      <td>0.018841</td>\n",
       "    </tr>\n",
       "    <tr>\n",
       "      <th>Size</th>\n",
       "      <td>0.006223</td>\n",
       "      <td>-0.006397</td>\n",
       "      <td>0.012620</td>\n",
       "    </tr>\n",
       "  </tbody>\n",
       "</table>\n",
       "</div>"
      ],
      "text/plain": [
       "                    Positive  Negative   Sum Abs\n",
       "industry            1.175897 -1.175897  2.351793\n",
       "Value               0.050538 -0.039892  0.090430\n",
       "Growth              0.040747 -0.046142  0.086889\n",
       "Liquidity           0.027409 -0.013501  0.040910\n",
       "Market expectation  0.009762 -0.015047  0.024809\n",
       "Momentum            0.014897 -0.006620  0.021518\n",
       "Financial leverage  0.007918 -0.010923  0.018841\n",
       "Size                0.006223 -0.006397  0.012620"
      ]
     },
     "execution_count": 116,
     "metadata": {},
     "output_type": "execute_result"
    }
   ],
   "source": [
    "df_sum_weights = pd.DataFrame({'Positive':cat_coef_pos, 'Negative': cat_coef_neg})\n",
    "df_sum_weights['Sum Abs'] = abs(df_sum_weights['Positive']) + abs(df_sum_weights['Negative'])\n",
    "df_sum_weights.sort_values('Sum Abs', ascending=False)"
   ]
  },
  {
   "cell_type": "code",
   "execution_count": 117,
   "metadata": {
    "ExecuteTime": {
     "end_time": "2022-03-11T05:31:32.874413Z",
     "start_time": "2022-03-11T05:31:32.764707Z"
    }
   },
   "outputs": [
    {
     "data": {
      "text/plain": [
       "<AxesSubplot:>"
      ]
     },
     "execution_count": 117,
     "metadata": {},
     "output_type": "execute_result"
    },
    {
     "data": {
      "image/png": "[encoded data removed]",
      "text/plain": [
       "<Figure size 432x288 with 1 Axes>"
      ]
     },
     "metadata": {
      "needs_background": "light"
     },
     "output_type": "display_data"
    }
   ],
   "source": [
    "coef.loc[industry].hist()"
   ]
  },
  {
   "cell_type": "markdown",
   "metadata": {},
   "source": [
    "# OLS with statsmodels"
   ]
  },
  {
   "cell_type": "code",
   "execution_count": 118,
   "metadata": {
    "ExecuteTime": {
     "end_time": "2022-03-11T05:31:32.889373Z",
     "start_time": "2022-03-11T05:31:32.875410Z"
    }
   },
   "outputs": [],
   "source": [
    "industry = df_nom['industry'].unique().tolist()\n",
    "features = df_factors_X.columns.tolist()\n",
    "non_industry_features = [f for f in features if f not in industry]\n",
    "\n",
    "# Index of features not industry\n",
    "model_idx_non_industry = np.array([i for i in range(len(features)) if features[i] in non_industry_features])\n",
    "\n",
    "# Index of features of industry\n",
    "model_idx_industry = np.array([i for i in range(len(features)) if features[i] not in non_industry_features])"
   ]
  },
  {
   "cell_type": "markdown",
   "metadata": {},
   "source": [
    "## Regression without industry features"
   ]
  },
  {
   "cell_type": "code",
   "execution_count": 119,
   "metadata": {
    "ExecuteTime": {
     "end_time": "2022-03-11T05:31:34.124070Z",
     "start_time": "2022-03-11T05:31:32.890371Z"
    },
    "scrolled": true
   },
   "outputs": [
    {
     "name": "stdout",
     "output_type": "stream",
     "text": [
      "                            OLS Regression Results                            \n",
      "==============================================================================\n",
      "Dep. Variable:                      y   R-squared:                       0.264\n",
      "Model:                            OLS   Adj. R-squared:                  0.153\n",
      "Method:                 Least Squares   F-statistic:                     2.383\n",
      "Date:                Mon, 18 Apr 2022   Prob (F-statistic):           2.99e-05\n",
      "Time:                        13:39:44   Log-Likelihood:                 544.68\n",
      "No. Observations:                 299   AIC:                            -1009.\n",
      "Df Residuals:                     259   BIC:                            -861.3\n",
      "Df Model:                          39                                         \n",
      "Covariance Type:            nonrobust                                         \n",
      "==============================================================================\n",
      "                 coef    std err          t      P>|t|      [0.025      0.975]\n",
      "------------------------------------------------------------------------------\n",
      "const         -0.0157      0.002     -6.465      0.000      -0.021      -0.011\n",
      "x1             0.0021      0.011      0.198      0.843      -0.019       0.024\n",
      "x2            -0.0094      0.008     -1.216      0.225      -0.025       0.006\n",
      "x3            -0.0004      0.006     -0.069      0.945      -0.012       0.011\n",
      "x4            -0.0005      0.004     -0.114      0.909      -0.009       0.008\n",
      "x5            -0.0003      0.005     -0.064      0.949      -0.010       0.009\n",
      "x6             0.0015      0.004      0.374      0.708      -0.007       0.010\n",
      "x7            -0.0019      0.006     -0.330      0.741      -0.013       0.010\n",
      "x8             0.0036      0.003      1.165      0.245      -0.003       0.010\n",
      "x9            -0.0083      0.007     -1.129      0.260      -0.023       0.006\n",
      "x10            0.0040      0.008      0.532      0.595      -0.011       0.019\n",
      "x11           -0.0084      0.005     -1.609      0.109      -0.019       0.002\n",
      "x12           -0.0016      0.005     -0.315      0.753      -0.011       0.008\n",
      "x13            0.0030      0.004      0.762      0.447      -0.005       0.011\n",
      "x14           -0.0018      0.007     -0.248      0.805      -0.016       0.013\n",
      "x15           -0.0019      0.006     -0.330      0.742      -0.013       0.009\n",
      "x16            0.0082      0.007      1.156      0.249      -0.006       0.022\n",
      "x17            0.0131      0.005      2.847      0.005       0.004       0.022\n",
      "x18           -0.0054      0.005     -0.985      0.326      -0.016       0.005\n",
      "x19            0.0028      0.003      0.804      0.422      -0.004       0.009\n",
      "x20         1.739e-05      0.004      0.005      0.996      -0.007       0.008\n",
      "x21            0.0067      0.004      1.616      0.107      -0.001       0.015\n",
      "x22           -0.0080      0.003     -2.626      0.009      -0.014      -0.002\n",
      "x23            0.0091      0.004      2.048      0.042       0.000       0.018\n",
      "x24           -0.0029      0.004     -0.701      0.484      -0.011       0.005\n",
      "x25           -0.0025      0.004     -0.651      0.516      -0.010       0.005\n",
      "x26            0.0114      0.008      1.453      0.147      -0.004       0.027\n",
      "x27           -0.0123      0.008     -1.544      0.124      -0.028       0.003\n",
      "x28            0.0152      0.010      1.584      0.114      -0.004       0.034\n",
      "x29            0.0058      0.005      1.230      0.220      -0.003       0.015\n",
      "x30           -0.0119      0.003     -3.960      0.000      -0.018      -0.006\n",
      "x31           -0.0071      0.007     -0.978      0.329      -0.021       0.007\n",
      "x32           -0.0062      0.005     -1.320      0.188      -0.015       0.003\n",
      "x33            0.0027      0.005      0.537      0.592      -0.007       0.013\n",
      "x34           -0.0075      0.009     -0.883      0.378      -0.024       0.009\n",
      "x35           -0.0075      0.009     -0.883      0.378      -0.024       0.009\n",
      "x36            0.0231      0.017      1.325      0.186      -0.011       0.058\n",
      "x37            0.0050      0.004      1.182      0.238      -0.003       0.013\n",
      "x38            0.0050      0.004      1.182      0.238      -0.003       0.013\n",
      "x39           -0.0127      0.008     -1.520      0.130      -0.029       0.004\n",
      "x40            0.0007      0.005      0.155      0.877      -0.009       0.010\n",
      "x41            0.0007      0.004      0.194      0.847      -0.007       0.008\n",
      "==============================================================================\n",
      "Omnibus:                       90.062   Durbin-Watson:                   2.172\n",
      "Prob(Omnibus):                  0.000   Jarque-Bera (JB):              518.570\n",
      "Skew:                           1.093   Prob(JB):                    2.48e-113\n",
      "Kurtosis:                       9.070   Cond. No.                     1.61e+16\n",
      "==============================================================================\n",
      "\n",
      "Notes:\n",
      "[1] Standard Errors assume that the covariance matrix of the errors is correctly specified.\n",
      "[2] The smallest eigenvalue is 8.75e-30. This might indicate that there are\n",
      "strong multicollinearity problems or that the design matrix is singular.\n"
     ]
    }
   ],
   "source": [
    "import statsmodels.api as sm\n",
    "\n",
    "# Let's run regression without industry first\n",
    "model_no_industry = sm.OLS(y_train, sm.add_constant(X_train[:, model_idx_non_industry])).fit()\n",
    "y_pred_no_industry = model_no_industry.predict(sm.add_constant(X_train[:, model_idx_non_industry]))\n",
    "print_model_no_industry = model_no_industry.summary()\n",
    "print(print_model_no_industry)"
   ]
  },
  {
   "cell_type": "markdown",
   "metadata": {},
   "source": [
    "We see a large constant coeff - this might be driven by large market-wide beta, and it could be caused by omitting the industry factors."
   ]
  },
  {
   "cell_type": "code",
   "execution_count": 120,
   "metadata": {
    "ExecuteTime": {
     "end_time": "2022-03-11T05:31:34.140028Z",
     "start_time": "2022-03-11T05:31:34.127063Z"
    }
   },
   "outputs": [],
   "source": [
    "# Check t-value > critical_val features\n",
    "\n",
    "def print_coef_t_results(model, critical_val = 1.645, added_constant=True, skip_i=[]):\n",
    "    count=0\n",
    "    for i in np.argwhere(abs(model.tvalues)>critical_val).reshape(-1):\n",
    "        if i not in skip_i:\n",
    "            count+=1\n",
    "            if added_constant:\n",
    "                print((['constant']+features)[i], 'coef=', round(model.params[i],4), 't-value=', round(model.tvalues[i],4))\n",
    "            else:\n",
    "                print(features[i], 'coef=', round(model.params[i],4), 't-value=', round(model.tvalues[i],4))\n",
    "    print('Number of features with > {} abs t-value:'.format(critical_val), count)\n",
    "    res = np.argwhere(abs(model.tvalues)>critical_val).reshape(-1)\n",
    "    if len(skip_i)>0:\n",
    "        for i in skip_i:\n",
    "            if i in res:\n",
    "                res=np.delete(res, np.where(res==i))\n",
    "    return res"
   ]
  },
  {
   "cell_type": "code",
   "execution_count": 121,
   "metadata": {
    "ExecuteTime": {
     "end_time": "2022-03-11T05:31:34.154988Z",
     "start_time": "2022-03-11T05:31:34.142023Z"
    }
   },
   "outputs": [
    {
     "name": "stdout",
     "output_type": "stream",
     "text": [
      "constant coef= -0.0157 t-value= -6.4647\n",
      "priceToSalesTrailing12Months coef= 0.0131 t-value= 2.8474\n",
      "payoutRatio coef= -0.008 t-value= -2.6256\n",
      "debtToEquity coef= 0.0091 t-value= 2.0484\n",
      "previousClose_logprice coef= -0.0119 t-value= -3.9601\n",
      "Number of features with > 1.645 abs t-value: 5\n"
     ]
    }
   ],
   "source": [
    "sig_feature_idx_no_industry = print_coef_t_results(model_no_industry, critical_val=1.645, added_constant=True)"
   ]
  },
  {
   "cell_type": "code",
   "execution_count": 122,
   "metadata": {},
   "outputs": [
    {
     "data": {
      "text/plain": [
       "array([ 0, 17, 22, 23, 30], dtype=int64)"
      ]
     },
     "execution_count": 122,
     "metadata": {},
     "output_type": "execute_result"
    }
   ],
   "source": [
    "sig_feature_idx_no_industry"
   ]
  },
  {
   "cell_type": "code",
   "execution_count": 123,
   "metadata": {
    "ExecuteTime": {
     "end_time": "2022-03-11T05:31:34.297606Z",
     "start_time": "2022-03-11T05:31:34.155986Z"
    }
   },
   "outputs": [
    {
     "data": {
      "text/plain": [
       "<AxesSubplot:xlabel='Actual', ylabel='Predict'>"
      ]
     },
     "metadata": {},
     "output_type": "display_data"
    },
    {
     "data": {
      "image/png": "[encoded data removed]",
      "text/plain": [
       "<Figure size 432x288 with 1 Axes>"
      ]
     },
     "metadata": {
      "needs_background": "light"
     },
     "output_type": "display_data"
    }
   ],
   "source": [
    "plot_pred_true(y_pred_no_industry, y_train)"
   ]
  },
  {
   "cell_type": "markdown",
   "metadata": {},
   "source": [
    "## Regression with industry features"
   ]
  },
  {
   "cell_type": "code",
   "execution_count": 124,
   "metadata": {
    "ExecuteTime": {
     "end_time": "2022-03-11T05:31:34.360438Z",
     "start_time": "2022-03-11T05:31:34.298604Z"
    },
    "scrolled": true
   },
   "outputs": [
    {
     "name": "stdout",
     "output_type": "stream",
     "text": [
      "                            OLS Regression Results                            \n",
      "==============================================================================\n",
      "Dep. Variable:                      y   R-squared:                       0.539\n",
      "Model:                            OLS   Adj. R-squared:                  0.253\n",
      "Method:                 Least Squares   F-statistic:                     1.885\n",
      "Date:                Mon, 18 Apr 2022   Prob (F-statistic):           6.42e-05\n",
      "Time:                        13:39:44   Log-Likelihood:                 614.49\n",
      "No. Observations:                 299   AIC:                            -999.0\n",
      "Df Residuals:                     184   BIC:                            -573.4\n",
      "Df Model:                         114                                         \n",
      "Covariance Type:            nonrobust                                         \n",
      "==============================================================================\n",
      "                 coef    std err          t      P>|t|      [0.025      0.975]\n",
      "------------------------------------------------------------------------------\n",
      "x1             0.0059      0.012      0.483      0.630      -0.018       0.030\n",
      "x2            -0.0119      0.009     -1.361      0.175      -0.029       0.005\n",
      "x3            -0.0031      0.007     -0.460      0.646      -0.017       0.010\n",
      "x4             0.0038      0.005      0.775      0.439      -0.006       0.014\n",
      "x5            -0.0027      0.006     -0.457      0.648      -0.015       0.009\n",
      "x6             0.0008      0.005      0.168      0.867      -0.008       0.010\n",
      "x7            -0.0001      0.007     -0.018      0.986      -0.013       0.013\n",
      "x8             0.0022      0.004      0.592      0.555      -0.005       0.009\n",
      "x9            -0.0461      0.029     -1.598      0.112      -0.103       0.011\n",
      "x10            0.0386      0.026      1.501      0.135      -0.012       0.089\n",
      "x11           -0.0087      0.011     -0.819      0.414      -0.030       0.012\n",
      "x12            0.0163      0.011      1.541      0.125      -0.005       0.037\n",
      "x13           -0.0028      0.006     -0.453      0.651      -0.015       0.010\n",
      "x14           -0.0098      0.015     -0.644      0.521      -0.040       0.020\n",
      "x15           -0.0001      0.007     -0.020      0.984      -0.015       0.014\n",
      "x16            0.0074      0.009      0.874      0.383      -0.009       0.024\n",
      "x17            0.0073      0.007      1.033      0.303      -0.007       0.021\n",
      "x18            0.0008      0.007      0.118      0.906      -0.012       0.014\n",
      "x19            0.0071      0.004      1.714      0.088      -0.001       0.015\n",
      "x20           -0.0028      0.006     -0.470      0.639      -0.014       0.009\n",
      "x21            0.0052      0.005      0.968      0.334      -0.005       0.016\n",
      "x22           -0.0088      0.004     -2.412      0.017      -0.016      -0.002\n",
      "x23            0.0079      0.007      1.068      0.287      -0.007       0.023\n",
      "x24           -0.0023      0.005     -0.453      0.651      -0.012       0.008\n",
      "x25           -0.0014      0.005     -0.309      0.758      -0.010       0.008\n",
      "x26            0.0062      0.009      0.704      0.482      -0.011       0.024\n",
      "x27           -0.0109      0.011     -1.039      0.300      -0.032       0.010\n",
      "x28            0.0101      0.011      0.884      0.378      -0.013       0.033\n",
      "x29           -0.0001      0.006     -0.023      0.982      -0.012       0.011\n",
      "x30           -0.0065      0.004     -1.652      0.100      -0.014       0.001\n",
      "x31            0.0005      0.009      0.061      0.951      -0.017       0.018\n",
      "x32            0.0042      0.006      0.653      0.515      -0.009       0.017\n",
      "x33            0.0029      0.006      0.516      0.606      -0.008       0.014\n",
      "x34           -0.0004      0.010     -0.036      0.972      -0.020       0.019\n",
      "x35           -0.0004      0.010     -0.036      0.972      -0.020       0.019\n",
      "x36            0.0129      0.020      0.638      0.524      -0.027       0.053\n",
      "x37            0.0054      0.005      1.044      0.298      -0.005       0.016\n",
      "x38            0.0054      0.005      1.044      0.298      -0.005       0.016\n",
      "x39           -0.0127      0.010     -1.266      0.207      -0.032       0.007\n",
      "x40           -0.0068      0.006     -1.093      0.276      -0.019       0.005\n",
      "x41            0.0065      0.006      1.016      0.311      -0.006       0.019\n",
      "x42           -0.0692      0.043     -1.606      0.110      -0.154       0.016\n",
      "x43           -0.0005      0.022     -0.025      0.980      -0.043       0.042\n",
      "x44            0.0088      0.043      0.205      0.838      -0.076       0.094\n",
      "x45           -0.0016      0.029     -0.055      0.956      -0.059       0.056\n",
      "x46           -0.0259      0.071     -0.365      0.715      -0.165       0.114\n",
      "x47            0.1954      0.181      1.077      0.283      -0.162       0.553\n",
      "x48           -0.0120      0.040     -0.298      0.766      -0.091       0.067\n",
      "x49           -0.0209      0.021     -0.977      0.330      -0.063       0.021\n",
      "x50            0.0007      0.021      0.034      0.973      -0.040       0.042\n",
      "x51           -0.0013      0.052     -0.024      0.981      -0.103       0.100\n",
      "x52           -0.0137      0.041     -0.331      0.741      -0.095       0.068\n",
      "x53           -0.0465      0.029     -1.622      0.107      -0.103       0.010\n",
      "x54           -0.0444      0.020     -2.200      0.029      -0.084      -0.005\n",
      "x55           -0.0053      0.017     -0.314      0.754      -0.038       0.028\n",
      "x56           -0.0014      0.042     -0.032      0.974      -0.085       0.082\n",
      "x57            0.0072      0.025      0.284      0.777      -0.043       0.057\n",
      "x58            0.0018      0.041      0.043      0.966      -0.080       0.083\n",
      "x59            0.0063      0.028      0.228      0.820      -0.048       0.061\n",
      "x60           -0.0505      0.019     -2.723      0.007      -0.087      -0.014\n",
      "x61           -0.0395      0.019     -2.049      0.042      -0.078      -0.001\n",
      "x62           -0.0249      0.022     -1.113      0.267      -0.069       0.019\n",
      "x63           -0.0158      0.031     -0.516      0.606      -0.076       0.045\n",
      "x64           -0.0976      0.049     -2.008      0.046      -0.194      -0.002\n",
      "x65           -0.0181      0.032     -0.563      0.574      -0.082       0.045\n",
      "x66           -0.0313      0.021     -1.500      0.135      -0.072       0.010\n",
      "x67           -0.0289      0.031     -0.930      0.354      -0.090       0.032\n",
      "x68            0.0196      0.015      1.338      0.182      -0.009       0.048\n",
      "x69           -0.0333      0.073     -0.455      0.649      -0.177       0.111\n",
      "x70           -0.0308      0.019     -1.642      0.102      -0.068       0.006\n",
      "x71           -0.0249      0.014     -1.808      0.072      -0.052       0.002\n",
      "x72            0.1024      0.044      2.317      0.022       0.015       0.190\n",
      "x73           -0.0099      0.041     -0.240      0.811      -0.091       0.071\n",
      "x74           -0.0343      0.029     -1.165      0.246      -0.092       0.024\n",
      "x75            0.0558      0.044      1.283      0.201      -0.030       0.142\n",
      "x76           -0.0171      0.022     -0.778      0.438      -0.061       0.026\n",
      "x77           -0.0314      0.023     -1.353      0.178      -0.077       0.014\n",
      "x78           -0.0538      0.061     -0.878      0.381      -0.175       0.067\n",
      "x79           -0.0269      0.019     -1.424      0.156      -0.064       0.010\n",
      "x80           -0.0771      0.030     -2.545      0.012      -0.137      -0.017\n",
      "x81           -0.0102      0.025     -0.403      0.687      -0.060       0.040\n",
      "x82           -0.0055      0.043     -0.129      0.898      -0.090       0.079\n",
      "x83           -0.0484      0.030     -1.605      0.110      -0.108       0.011\n",
      "x84            0.0009      0.044      0.021      0.983      -0.085       0.087\n",
      "x85            0.1460      0.098      1.494      0.137      -0.047       0.339\n",
      "x86            0.0150      0.043      0.348      0.729      -0.070       0.100\n",
      "x87           -0.0093      0.036     -0.262      0.794      -0.080       0.061\n",
      "x88           -0.1155      0.027     -4.346      0.000      -0.168      -0.063\n",
      "x89            0.0124      0.026      0.479      0.633      -0.039       0.063\n",
      "x90            0.1415      0.042      3.368      0.001       0.059       0.224\n",
      "x91           -0.0140      0.028     -0.504      0.615      -0.069       0.041\n",
      "x92           -0.0706      0.044     -1.589      0.114      -0.158       0.017\n",
      "x93           -0.0311      0.035     -0.879      0.381      -0.101       0.039\n",
      "x94           -0.0187      0.027     -0.688      0.492      -0.072       0.035\n",
      "x95           -0.0393      0.018     -2.136      0.034      -0.076      -0.003\n",
      "x96            0.0341      0.044      0.774      0.440      -0.053       0.121\n",
      "x97           -0.1243      0.042     -2.939      0.004      -0.208      -0.041\n",
      "x98           -0.0122      0.023     -0.524      0.601      -0.058       0.034\n",
      "x99           -0.0245      0.028     -0.886      0.377      -0.079       0.030\n",
      "x100           0.0368      0.023      1.622      0.107      -0.008       0.082\n",
      "x101          -0.0358      0.041     -0.866      0.388      -0.117       0.046\n",
      "x102          -0.0264      0.042     -0.635      0.526      -0.108       0.056\n",
      "x103          -0.0295      0.019     -1.562      0.120      -0.067       0.008\n",
      "x104          -0.0302      0.018     -1.634      0.104      -0.067       0.006\n",
      "x105          -0.0155      0.018     -0.863      0.389      -0.051       0.020\n",
      "x106          -0.0285      0.035     -0.823      0.412      -0.097       0.040\n",
      "x107           0.0164      0.041      0.403      0.688      -0.064       0.097\n",
      "x108          -0.0027      0.016     -0.174      0.862      -0.034       0.028\n",
      "x109          -0.0429      0.016     -2.606      0.010      -0.075      -0.010\n",
      "x110          -0.0691      0.039     -1.787      0.076      -0.145       0.007\n",
      "x111          -0.0480      0.028     -1.686      0.094      -0.104       0.008\n",
      "x112           0.0123      0.031      0.399      0.690      -0.049       0.073\n",
      "x113           0.0204      0.034      0.602      0.548      -0.047       0.087\n",
      "x114          -0.0183      0.028     -0.666      0.506      -0.073       0.036\n",
      "x115           0.0099      0.047      0.211      0.833      -0.083       0.103\n",
      "x116          -0.0061      0.029     -0.209      0.835      -0.064       0.051\n",
      "x117          -0.0038      0.031     -0.123      0.903      -0.066       0.058\n",
      "==============================================================================\n",
      "Omnibus:                       86.346   Durbin-Watson:                   2.049\n",
      "Prob(Omnibus):                  0.000   Jarque-Bera (JB):              656.130\n",
      "Skew:                           0.943   Prob(JB):                    3.34e-143\n",
      "Kurtosis:                      10.008   Cond. No.                     2.90e+16\n",
      "==============================================================================\n",
      "\n",
      "Notes:\n",
      "[1] Standard Errors assume that the covariance matrix of the errors is correctly specified.\n",
      "[2] The smallest eigenvalue is 2.7e-30. This might indicate that there are\n",
      "strong multicollinearity problems or that the design matrix is singular.\n"
     ]
    }
   ],
   "source": [
    "import statsmodels.api as sm\n",
    "\n",
    "# Now we include all the industry factors\n",
    "# then j controls how many of the other factors to include\n",
    "# We do not add a constant and let the industry one-hot factor become the constant for that industry\n",
    "\n",
    "model_w_industry = sm.OLS(y_train, X_train, hasconst=True).fit()\n",
    "y_pred_w_industry = model_w_industry.predict(X_train)\n",
    "print_model_w_industry = model_w_industry.summary()\n",
    "print(print_model_w_industry)"
   ]
  },
  {
   "cell_type": "code",
   "execution_count": 125,
   "metadata": {
    "ExecuteTime": {
     "end_time": "2022-03-11T05:31:34.376395Z",
     "start_time": "2022-03-11T05:31:34.361435Z"
    }
   },
   "outputs": [
    {
     "name": "stdout",
     "output_type": "stream",
     "text": [
      "forwardPE coef= 0.0071 t-value= 1.7143\n",
      "payoutRatio coef= -0.0088 t-value= -2.4117\n",
      "previousClose_logprice coef= -0.0065 t-value= -1.6515\n",
      "Number of features with > 1.645 abs t-value: 3\n"
     ]
    }
   ],
   "source": [
    "sig_feature_idx_w_industry = print_coef_t_results(model_w_industry, critical_val=1.645, added_constant=False, skip_i=model_idx_industry)"
   ]
  },
  {
   "cell_type": "code",
   "execution_count": 126,
   "metadata": {
    "ExecuteTime": {
     "end_time": "2022-03-11T05:31:34.485105Z",
     "start_time": "2022-03-11T05:31:34.378390Z"
    }
   },
   "outputs": [
    {
     "data": {
      "text/plain": [
       "<AxesSubplot:xlabel='Actual', ylabel='Predict'>"
      ]
     },
     "metadata": {},
     "output_type": "display_data"
    },
    {
     "data": {
      "image/png": "[encoded data removed]",
      "text/plain": [
       "<Figure size 432x288 with 1 Axes>"
      ]
     },
     "metadata": {
      "needs_background": "light"
     },
     "output_type": "display_data"
    }
   ],
   "source": [
    "plot_pred_true(y_pred_w_industry, y_train)"
   ]
  },
  {
   "cell_type": "code",
   "execution_count": 127,
   "metadata": {
    "ExecuteTime": {
     "end_time": "2022-03-11T05:31:34.500064Z",
     "start_time": "2022-03-11T05:31:34.487100Z"
    }
   },
   "outputs": [
    {
     "data": {
      "text/plain": [
       "0.2871509419406534"
      ]
     },
     "execution_count": 127,
     "metadata": {},
     "output_type": "execute_result"
    }
   ],
   "source": [
    "(model_w_industry.ssr)"
   ]
  },
  {
   "cell_type": "markdown",
   "metadata": {},
   "source": [
    "## Regression with Combination features"
   ]
  },
  {
   "cell_type": "markdown",
   "metadata": {},
   "source": [
    "Add significant features from no-industry regression and industry features"
   ]
  },
  {
   "cell_type": "code",
   "execution_count": 128,
   "metadata": {
    "ExecuteTime": {
     "end_time": "2022-03-11T05:31:34.516022Z",
     "start_time": "2022-03-11T05:31:34.502060Z"
    }
   },
   "outputs": [
    {
     "data": {
      "text/plain": [
       "array([ 0, 17, 22, 23, 30], dtype=int64)"
      ]
     },
     "execution_count": 128,
     "metadata": {},
     "output_type": "execute_result"
    }
   ],
   "source": [
    "sig_feature_idx_no_industry\n",
    "# idx 0 is constant added by statsmodel, need to drop the 0 idx and -1 when using on X without adding constant"
   ]
  },
  {
   "cell_type": "code",
   "execution_count": 129,
   "metadata": {},
   "outputs": [
    {
     "data": {
      "text/plain": [
       "array([18, 21, 29], dtype=int64)"
      ]
     },
     "execution_count": 129,
     "metadata": {},
     "output_type": "execute_result"
    }
   ],
   "source": [
    "# find index of forwardPE\n",
    "sig_feature_idx_w_industry"
   ]
  },
  {
   "cell_type": "code",
   "execution_count": 130,
   "metadata": {},
   "outputs": [],
   "source": [
    "sig_feature_idx = np.array(list(set(sig_feature_idx_no_industry[1:]-1) | set(sig_feature_idx_w_industry)))"
   ]
  },
  {
   "cell_type": "code",
   "execution_count": 131,
   "metadata": {
    "ExecuteTime": {
     "end_time": "2022-03-11T05:31:34.531979Z",
     "start_time": "2022-03-11T05:31:34.517019Z"
    }
   },
   "outputs": [
    {
     "data": {
      "text/plain": [
       "['priceToSalesTrailing12Months',\n",
       " 'forwardPE',\n",
       " 'payoutRatio',\n",
       " 'debtToEquity',\n",
       " 'previousClose_logprice']"
      ]
     },
     "execution_count": 131,
     "metadata": {},
     "output_type": "execute_result"
    }
   ],
   "source": [
    "q_features = df_factors_X.columns[sig_feature_idx].tolist()\n",
    "q_features"
   ]
  },
  {
   "cell_type": "code",
   "execution_count": 132,
   "metadata": {
    "ExecuteTime": {
     "end_time": "2022-03-11T05:31:34.547944Z",
     "start_time": "2022-03-11T05:31:34.532978Z"
    }
   },
   "outputs": [
    {
     "name": "stdout",
     "output_type": "stream",
     "text": [
      "Momentum: previousClose_logprice\n",
      "Value: priceToSalesTrailing12Months\n",
      "Value: forwardPE\n",
      "Value: payoutRatio\n",
      "Financial leverage: debtToEquity\n"
     ]
    }
   ],
   "source": [
    "for cat, f_list in fields.items():\n",
    "    for f in f_list:\n",
    "        if f in q_features: print(f'{cat}: {f}')"
   ]
  },
  {
   "cell_type": "code",
   "execution_count": 133,
   "metadata": {},
   "outputs": [],
   "source": [
    "comb_idx = np.append(sig_feature_idx, model_idx_industry)"
   ]
  },
  {
   "cell_type": "code",
   "execution_count": 146,
   "metadata": {
    "ExecuteTime": {
     "end_time": "2022-03-11T05:31:34.579852Z",
     "start_time": "2022-03-11T05:31:34.548935Z"
    },
    "scrolled": true
   },
   "outputs": [
    {
     "name": "stdout",
     "output_type": "stream",
     "text": [
      "                            OLS Regression Results                            \n",
      "==============================================================================\n",
      "Dep. Variable:                      y   R-squared:                       0.444\n",
      "Model:                            OLS   Adj. R-squared:                  0.240\n",
      "Method:                 Least Squares   F-statistic:                     2.175\n",
      "Date:                Tue, 19 Apr 2022   Prob (F-statistic):           4.49e-06\n",
      "Time:                        11:04:40   Log-Likelihood:                 586.55\n",
      "No. Observations:                 299   AIC:                            -1011.\n",
      "Df Residuals:                     218   BIC:                            -711.4\n",
      "Df Model:                          80                                         \n",
      "Covariance Type:            nonrobust                                         \n",
      "==============================================================================\n",
      "                 coef    std err          t      P>|t|      [0.025      0.975]\n",
      "------------------------------------------------------------------------------\n",
      "x1             0.0064      0.003      1.843      0.067      -0.000       0.013\n",
      "x2             0.0035      0.003      1.169      0.244      -0.002       0.009\n",
      "x3            -0.0094      0.003     -3.369      0.001      -0.015      -0.004\n",
      "x4             0.0031      0.005      0.598      0.551      -0.007       0.013\n",
      "x5            -0.0056      0.003     -1.641      0.102      -0.012       0.001\n",
      "x6            -0.0587      0.040     -1.459      0.146      -0.138       0.021\n",
      "x7            -0.0046      0.018     -0.249      0.804      -0.041       0.032\n",
      "x8            -0.0092      0.040     -0.229      0.819      -0.089       0.070\n",
      "x9            -0.0118      0.023     -0.504      0.615      -0.058       0.034\n",
      "x10           -0.0047      0.041     -0.115      0.909      -0.085       0.076\n",
      "x11           -0.0730      0.040     -1.820      0.070      -0.152       0.006\n",
      "x12           -0.0085      0.031     -0.274      0.785      -0.069       0.052\n",
      "x13            0.0009      0.017      0.052      0.959      -0.033       0.035\n",
      "x14            0.0062      0.018      0.338      0.736      -0.030       0.042\n",
      "x15            0.0009      0.018      0.048      0.962      -0.035       0.037\n",
      "x16           -0.0139      0.012     -1.180      0.239      -0.037       0.009\n",
      "x17           -0.0504      0.024     -2.141      0.033      -0.097      -0.004\n",
      "x18           -0.0377      0.016     -2.339      0.020      -0.070      -0.006\n",
      "x19           -0.0062      0.015     -0.410      0.682      -0.036       0.024\n",
      "x20            0.0051      0.040      0.128      0.899      -0.074       0.085\n",
      "x21            0.0045      0.023      0.194      0.846      -0.042       0.051\n",
      "x22            0.0004      0.040      0.010      0.992      -0.079       0.080\n",
      "x23            0.0084      0.013      0.652      0.515      -0.017       0.034\n",
      "x24           -0.0397      0.015     -2.617      0.009      -0.070      -0.010\n",
      "x25           -0.0417      0.018     -2.315      0.022      -0.077      -0.006\n",
      "x26           -0.0243      0.020     -1.212      0.227      -0.064       0.015\n",
      "x27           -0.0026      0.029     -0.089      0.929      -0.059       0.054\n",
      "x28           -0.0610      0.040     -1.525      0.129      -0.140       0.018\n",
      "x29           -0.0102      0.030     -0.342      0.732      -0.069       0.048\n",
      "x30           -0.0202      0.019     -1.061      0.290      -0.058       0.017\n",
      "x31           -0.0257      0.029     -0.890      0.374      -0.083       0.031\n",
      "x32            0.0143      0.013      1.109      0.269      -0.011       0.040\n",
      "x33           -0.0716      0.040     -1.770      0.078      -0.151       0.008\n",
      "x34           -0.0090      0.017     -0.542      0.588      -0.042       0.024\n",
      "x35           -0.0257      0.012     -2.148      0.033      -0.049      -0.002\n",
      "x36            0.0971      0.040      2.415      0.017       0.018       0.176\n",
      "x37           -0.0237      0.040     -0.590      0.556      -0.103       0.056\n",
      "x38           -0.0312      0.016     -1.973      0.050      -0.062   -4.03e-05\n",
      "x39            0.0420      0.040      1.043      0.298      -0.037       0.121\n",
      "x40           -0.0095      0.020     -0.469      0.640      -0.049       0.030\n",
      "x41           -0.0266      0.018     -1.441      0.151      -0.063       0.010\n",
      "x42            0.0328      0.041      0.799      0.425      -0.048       0.114\n",
      "x43           -0.0136      0.017     -0.810      0.419      -0.047       0.020\n",
      "x44           -0.0689      0.023     -2.955      0.003      -0.115      -0.023\n",
      "x45            0.0050      0.020      0.247      0.805      -0.035       0.045\n",
      "x46            0.0127      0.040      0.318      0.751      -0.066       0.092\n",
      "x47           -0.0529      0.028     -1.867      0.063      -0.109       0.003\n",
      "x48            0.0022      0.040      0.056      0.956      -0.077       0.082\n",
      "x49           -0.0133      0.041     -0.323      0.747      -0.094       0.068\n",
      "x50            0.0107      0.040      0.269      0.789      -0.068       0.090\n",
      "x51           -0.0232      0.029     -0.814      0.416      -0.079       0.033\n",
      "x52           -0.1050      0.023     -4.504      0.000      -0.151      -0.059\n",
      "x53            0.0097      0.024      0.401      0.689      -0.038       0.057\n",
      "x54            0.1560      0.040      3.907      0.000       0.077       0.235\n",
      "x55           -0.0305      0.022     -1.386      0.167      -0.074       0.013\n",
      "x56           -0.0797      0.040     -1.968      0.050      -0.160    9.91e-05\n",
      "x57           -0.0193      0.029     -0.677      0.499      -0.076       0.037\n",
      "x58           -0.0043      0.024     -0.177      0.860      -0.052       0.043\n",
      "x59           -0.0306      0.017     -1.811      0.072      -0.064       0.003\n",
      "x60            0.0265      0.041      0.647      0.519      -0.054       0.107\n",
      "x61           -0.1376      0.042     -3.308      0.001      -0.220      -0.056\n",
      "x62           -0.0213      0.020     -1.049      0.295      -0.061       0.019\n",
      "x63           -0.0294      0.023     -1.266      0.207      -0.075       0.016\n",
      "x64            0.0353      0.018      1.954      0.052      -0.000       0.071\n",
      "x65           -0.0315      0.040     -0.784      0.434      -0.111       0.048\n",
      "x66           -0.0295      0.040     -0.735      0.463      -0.109       0.050\n",
      "x67           -0.0284      0.016     -1.771      0.078      -0.060       0.003\n",
      "x68           -0.0251      0.015     -1.624      0.106      -0.056       0.005\n",
      "x69           -0.0102      0.015     -0.697      0.487      -0.039       0.019\n",
      "x70           -0.0512      0.029     -1.783      0.076      -0.108       0.005\n",
      "x71           -0.0214      0.029     -0.737      0.462      -0.079       0.036\n",
      "x72           -0.0058      0.013     -0.453      0.651      -0.031       0.019\n",
      "x73           -0.0337      0.014     -2.331      0.021      -0.062      -0.005\n",
      "x74           -0.0345      0.028     -1.216      0.225      -0.090       0.021\n",
      "x75           -0.0530      0.023     -2.269      0.024      -0.099      -0.007\n",
      "x76           -0.0089      0.023     -0.378      0.706      -0.055       0.037\n",
      "x77            0.0114      0.030      0.380      0.704      -0.048       0.071\n",
      "x78           -0.0321      0.023     -1.372      0.172      -0.078       0.014\n",
      "x79            0.0376      0.040      0.938      0.349      -0.041       0.117\n",
      "x80           -0.0346      0.021     -1.646      0.101      -0.076       0.007\n",
      "x81           -0.0381      0.021     -1.781      0.076      -0.080       0.004\n",
      "==============================================================================\n",
      "Omnibus:                       90.318   Durbin-Watson:                   2.018\n",
      "Prob(Omnibus):                  0.000   Jarque-Bera (JB):              770.135\n",
      "Skew:                           0.961   Prob(JB):                    5.85e-168\n",
      "Kurtosis:                      10.624   Cond. No.                         27.0\n",
      "==============================================================================\n",
      "\n",
      "Notes:\n",
      "[1] Standard Errors assume that the covariance matrix of the errors is correctly specified.\n"
     ]
    }
   ],
   "source": [
    "model_comb = sm.OLS(y_train, X_train[:, comb_idx], hasconst=True).fit()\n",
    "y_pred_comb = model_comb.predict(X_train[:, comb_idx])\n",
    "print_model_comb = model_comb.summary()\n",
    "print(print_model_comb)\n",
    "pkl.dump(model_comb, open(f'./data/model_comb_{load_t}.pkl', 'wb'))"
   ]
  },
  {
   "cell_type": "code",
   "execution_count": 135,
   "metadata": {
    "ExecuteTime": {
     "end_time": "2022-03-11T05:31:34.705515Z",
     "start_time": "2022-03-11T05:31:34.580849Z"
    }
   },
   "outputs": [
    {
     "data": {
      "text/plain": [
       "<AxesSubplot:xlabel='Actual', ylabel='Predict'>"
      ]
     },
     "metadata": {},
     "output_type": "display_data"
    },
    {
     "data": {
      "image/png": "[encoded data removed]",
      "text/plain": [
       "<Figure size 432x288 with 1 Axes>"
      ]
     },
     "metadata": {
      "needs_background": "light"
     },
     "output_type": "display_data"
    }
   ],
   "source": [
    "plot_pred_true(y_pred_comb, y_train)"
   ]
  },
  {
   "cell_type": "code",
   "execution_count": 136,
   "metadata": {},
   "outputs": [
    {
     "data": {
      "text/plain": [
       "0.34615428212049293"
      ]
     },
     "execution_count": 136,
     "metadata": {},
     "output_type": "execute_result"
    }
   ],
   "source": [
    "model_comb.ssr"
   ]
  },
  {
   "cell_type": "markdown",
   "metadata": {},
   "source": [
    "# Clustering"
   ]
  },
  {
   "cell_type": "markdown",
   "metadata": {},
   "source": [
    "## Cosine Similarity"
   ]
  },
  {
   "cell_type": "code",
   "execution_count": 137,
   "metadata": {
    "ExecuteTime": {
     "end_time": "2022-03-11T05:31:34.721473Z",
     "start_time": "2022-03-11T05:31:34.707510Z"
    }
   },
   "outputs": [],
   "source": [
    "X = X_train[:, comb_idx]\n",
    "y = y_train"
   ]
  },
  {
   "cell_type": "code",
   "execution_count": 138,
   "metadata": {
    "ExecuteTime": {
     "end_time": "2022-03-11T05:31:34.736433Z",
     "start_time": "2022-03-11T05:31:34.723468Z"
    }
   },
   "outputs": [],
   "source": [
    "df_X = df_factors_X.iloc[:, comb_idx]\n",
    "df_y = df_factors_y\n",
    "pkl.dump((df_X, df_y), open(f'./data/df_X__df_y_{load_t}.pkl', 'wb'))"
   ]
  },
  {
   "cell_type": "code",
   "execution_count": 139,
   "metadata": {},
   "outputs": [],
   "source": [
    "# X = df_X.to_numpy().astype(float)\n",
    "# y = df_y.to_numpy().reshape(-1)"
   ]
  },
  {
   "cell_type": "code",
   "execution_count": 140,
   "metadata": {
    "ExecuteTime": {
     "end_time": "2022-03-11T05:31:34.752391Z",
     "start_time": "2022-03-11T05:31:34.737430Z"
    }
   },
   "outputs": [],
   "source": [
    "from sklearn.metrics.pairwise import cosine_similarity"
   ]
  },
  {
   "cell_type": "code",
   "execution_count": 144,
   "metadata": {
    "ExecuteTime": {
     "end_time": "2022-03-11T05:31:34.767350Z",
     "start_time": "2022-03-11T05:31:34.754385Z"
    }
   },
   "outputs": [],
   "source": [
    "cos_sim_matrix = cosine_similarity(X, X)\n",
    "pkl.dump(cos_sim_matrix, open(f'./data/cos_sim_matrix_{load_t}.pkl', 'wb'))"
   ]
  },
  {
   "cell_type": "code",
   "execution_count": 142,
   "metadata": {
    "ExecuteTime": {
     "end_time": "2022-03-11T05:31:34.783307Z",
     "start_time": "2022-03-11T05:31:34.769345Z"
    }
   },
   "outputs": [
    {
     "data": {
      "text/plain": [
       "Index(['601318.SS', '601229.SS', '600015.SS', '600000.SS', '601166.SS',\n",
       "       '002493.SZ', '000301.SZ', '601169.SS', '600919.SS', '600016.SS'],\n",
       "      dtype='object')"
      ]
     },
     "execution_count": 142,
     "metadata": {},
     "output_type": "execute_result"
    }
   ],
   "source": [
    "subject = '601318.SS'\n",
    "row_index = np.argwhere(df_X.index == subject)[0][0]\n",
    "# cos_sim_matrix[row_index, :]\n",
    "cos_res = df_X.index[np.argsort(-cos_sim_matrix[row_index, :])]\n",
    "cos_res[:10]"
   ]
  },
  {
   "cell_type": "code",
   "execution_count": 143,
   "metadata": {},
   "outputs": [
    {
     "data": {
      "text/plain": [
       "601318.SS    PING AN INSURANCE(GROUP)CO.OF C\n",
       "601229.SS            BANK OF SHANGHAI CO LTD\n",
       "600015.SS                     HUAXIA BANK CO\n",
       "600000.SS    SHANGHAI PUDONG DEVELOPMENT BAN\n",
       "601166.SS             INDUSTRIAL BANK CO LTD\n",
       "002493.SZ                 RONGSHENG PETRO CH\n",
       "000301.SZ                 JIANGSU EASTERN SH\n",
       "601169.SS           BANK OF BEIJING CO. LTD.\n",
       "600919.SS                    BANK OF JIANGSU\n",
       "600016.SS        CHINA MINSHENG BANKING CORP\n",
       "Name: shortName, dtype: object"
      ]
     },
     "execution_count": 143,
     "metadata": {},
     "output_type": "execute_result"
    }
   ],
   "source": [
    "df_info_raw.loc['shortName', cos_res[:10]]"
   ]
  },
  {
   "cell_type": "code",
   "execution_count": 269,
   "metadata": {},
   "outputs": [
    {
     "data": {
      "text/plain": [
       "[-0.9999999999999999,\n",
       " -0.700572862338634,\n",
       " -0.6984428768377665,\n",
       " -0.698426685670409,\n",
       " -0.6940453770438926,\n",
       " -0.6907222074956413,\n",
       " -0.6876369672715011,\n",
       " -0.6863813061149273,\n",
       " -0.6849023950401106,\n",
       " -0.6848829332578806]"
      ]
     },
     "execution_count": 269,
     "metadata": {},
     "output_type": "execute_result"
    }
   ],
   "source": [
    "sorted(-cos_sim_matrix[row_index, :])[:10]"
   ]
  },
  {
   "cell_type": "code",
   "execution_count": 270,
   "metadata": {
    "ExecuteTime": {
     "end_time": "2022-03-11T05:31:34.814224Z",
     "start_time": "2022-03-11T05:31:34.784305Z"
    }
   },
   "outputs": [
    {
     "data": {
      "text/html": [
       "<div>\n",
       "<style scoped>\n",
       "    .dataframe tbody tr th:only-of-type {\n",
       "        vertical-align: middle;\n",
       "    }\n",
       "\n",
       "    .dataframe tbody tr th {\n",
       "        vertical-align: top;\n",
       "    }\n",
       "\n",
       "    .dataframe thead th {\n",
       "        text-align: right;\n",
       "    }\n",
       "</style>\n",
       "<table border=\"1\" class=\"dataframe\">\n",
       "  <thead>\n",
       "    <tr style=\"text-align: right;\">\n",
       "      <th></th>\n",
       "      <th>priceToSalesTrailing12Months</th>\n",
       "      <th>forwardPE</th>\n",
       "      <th>payoutRatio</th>\n",
       "      <th>debtToEquity</th>\n",
       "      <th>previousClose_logprice</th>\n",
       "      <th>Advertising Agencies</th>\n",
       "      <th>Aerospace &amp; Defense</th>\n",
       "      <th>Agricultural Inputs</th>\n",
       "      <th>Airlines</th>\n",
       "      <th>Airports &amp; Air Services</th>\n",
       "      <th>...</th>\n",
       "      <th>Specialty Chemicals</th>\n",
       "      <th>Specialty Industrial Machinery</th>\n",
       "      <th>Specialty Retail</th>\n",
       "      <th>Steel</th>\n",
       "      <th>Telecom Services</th>\n",
       "      <th>Textile Manufacturing</th>\n",
       "      <th>Thermal Coal</th>\n",
       "      <th>Tools &amp; Accessories</th>\n",
       "      <th>Utilities—Independent Power Producers</th>\n",
       "      <th>Utilities—Renewable</th>\n",
       "    </tr>\n",
       "  </thead>\n",
       "  <tbody>\n",
       "    <tr>\n",
       "      <th>601318.SS</th>\n",
       "      <td>-0.655508</td>\n",
       "      <td>-0.576570</td>\n",
       "      <td>-0.260555</td>\n",
       "      <td>1.194588</td>\n",
       "      <td>0.141488</td>\n",
       "      <td>0</td>\n",
       "      <td>0</td>\n",
       "      <td>0</td>\n",
       "      <td>0</td>\n",
       "      <td>0</td>\n",
       "      <td>...</td>\n",
       "      <td>0</td>\n",
       "      <td>0</td>\n",
       "      <td>0</td>\n",
       "      <td>0</td>\n",
       "      <td>0</td>\n",
       "      <td>0</td>\n",
       "      <td>0</td>\n",
       "      <td>0</td>\n",
       "      <td>0</td>\n",
       "      <td>0</td>\n",
       "    </tr>\n",
       "    <tr>\n",
       "      <th>600115.SS</th>\n",
       "      <td>-0.578637</td>\n",
       "      <td>0.942949</td>\n",
       "      <td>-1.173136</td>\n",
       "      <td>4.129861</td>\n",
       "      <td>-0.568476</td>\n",
       "      <td>0</td>\n",
       "      <td>0</td>\n",
       "      <td>0</td>\n",
       "      <td>1</td>\n",
       "      <td>0</td>\n",
       "      <td>...</td>\n",
       "      <td>0</td>\n",
       "      <td>0</td>\n",
       "      <td>0</td>\n",
       "      <td>0</td>\n",
       "      <td>0</td>\n",
       "      <td>0</td>\n",
       "      <td>0</td>\n",
       "      <td>0</td>\n",
       "      <td>0</td>\n",
       "      <td>0</td>\n",
       "    </tr>\n",
       "  </tbody>\n",
       "</table>\n",
       "<p>2 rows × 81 columns</p>\n",
       "</div>"
      ],
      "text/plain": [
       "           priceToSalesTrailing12Months  forwardPE  payoutRatio  debtToEquity  \\\n",
       "601318.SS                     -0.655508  -0.576570    -0.260555      1.194588   \n",
       "600115.SS                     -0.578637   0.942949    -1.173136      4.129861   \n",
       "\n",
       "           previousClose_logprice  Advertising Agencies  Aerospace & Defense  \\\n",
       "601318.SS                0.141488                     0                    0   \n",
       "600115.SS               -0.568476                     0                    0   \n",
       "\n",
       "           Agricultural Inputs  Airlines  Airports & Air Services  ...  \\\n",
       "601318.SS                    0         0                        0  ...   \n",
       "600115.SS                    0         1                        0  ...   \n",
       "\n",
       "           Specialty Chemicals  Specialty Industrial Machinery  \\\n",
       "601318.SS                    0                               0   \n",
       "600115.SS                    0                               0   \n",
       "\n",
       "           Specialty Retail  Steel  Telecom Services  Textile Manufacturing  \\\n",
       "601318.SS                 0      0                 0                      0   \n",
       "600115.SS                 0      0                 0                      0   \n",
       "\n",
       "           Thermal Coal  Tools & Accessories  \\\n",
       "601318.SS             0                    0   \n",
       "600115.SS             0                    0   \n",
       "\n",
       "           Utilities—Independent Power Producers  Utilities—Renewable  \n",
       "601318.SS                                      0                    0  \n",
       "600115.SS                                      0                    0  \n",
       "\n",
       "[2 rows x 81 columns]"
      ]
     },
     "execution_count": 270,
     "metadata": {},
     "output_type": "execute_result"
    }
   ],
   "source": [
    "df_X.loc[['601318.SS', '600115.SS'], :]"
   ]
  },
  {
   "cell_type": "markdown",
   "metadata": {},
   "source": [
    "## K-means clustering"
   ]
  },
  {
   "cell_type": "code",
   "execution_count": 297,
   "metadata": {
    "ExecuteTime": {
     "end_time": "2022-03-11T05:31:35.017680Z",
     "start_time": "2022-03-11T05:31:34.815222Z"
    }
   },
   "outputs": [],
   "source": [
    "from sklearn.cluster import KMeans"
   ]
  },
  {
   "cell_type": "code",
   "execution_count": 333,
   "metadata": {
    "ExecuteTime": {
     "end_time": "2022-03-11T05:31:35.271002Z",
     "start_time": "2022-03-11T05:31:35.019675Z"
    }
   },
   "outputs": [],
   "source": [
    "n_clusters=8\n",
    "kmeans = KMeans(n_clusters=n_clusters).fit(X)\n",
    "kmeans_pred = kmeans.predict(X)"
   ]
  },
  {
   "cell_type": "code",
   "execution_count": 334,
   "metadata": {
    "ExecuteTime": {
     "end_time": "2022-03-11T05:31:35.286960Z",
     "start_time": "2022-03-11T05:31:35.272998Z"
    }
   },
   "outputs": [],
   "source": [
    "import matplotlib.pyplot as plt"
   ]
  },
  {
   "cell_type": "code",
   "execution_count": 335,
   "metadata": {
    "ExecuteTime": {
     "end_time": "2022-03-11T05:31:35.302917Z",
     "start_time": "2022-03-11T05:31:35.288954Z"
    }
   },
   "outputs": [
    {
     "name": "stdout",
     "output_type": "stream",
     "text": [
      "0 (73, 1)\n",
      "1 (57, 1)\n",
      "2 (4, 1)\n",
      "3 (4, 1)\n",
      "4 (42, 1)\n",
      "5 (84, 1)\n",
      "6 (6, 1)\n",
      "7 (29, 1)\n"
     ]
    }
   ],
   "source": [
    "for i in range(min(10,n_clusters)):\n",
    "    print(i, np.argwhere(kmeans_pred==i).shape)"
   ]
  },
  {
   "cell_type": "code",
   "execution_count": 336,
   "metadata": {},
   "outputs": [],
   "source": [
    "clus = kmeans.predict(X[np.argwhere(df_X.index == subject)[0][0], :].reshape(1,-1))"
   ]
  },
  {
   "cell_type": "code",
   "execution_count": 337,
   "metadata": {
    "ExecuteTime": {
     "end_time": "2022-03-11T05:31:35.318874Z",
     "start_time": "2022-03-11T05:31:35.304912Z"
    }
   },
   "outputs": [
    {
     "data": {
      "text/plain": [
       "Index(['601318.SS', '601166.SS', '600030.SS', '601398.SS', '000001.SZ',\n",
       "       '601328.SS', '600837.SS', '601288.SS', '600000.SS', '600016.SS',\n",
       "       '601688.SS', '600919.SS', '601211.SS', '601229.SS', '601169.SS',\n",
       "       '601988.SS', '601658.SS', '600999.SS', '000776.SZ', '002493.SZ',\n",
       "       '601818.SS', '000166.SZ', '600958.SS', '601985.SS', '600346.SS',\n",
       "       '601009.SS', '601377.SS', '600926.SS', '601939.SS', '000876.SZ',\n",
       "       '600029.SS', '600015.SS', '601066.SS', '600115.SS', '601111.SS',\n",
       "       '002736.SZ', '601901.SS', '601838.SS', '601916.SS', '000783.SZ',\n",
       "       '601788.SS', '600109.SS', '000301.SZ', '601108.SS', '600918.SS',\n",
       "       '000703.SZ', '601990.SS', '600061.SS', '601878.SS', '600606.SS',\n",
       "       '601162.SS', '601998.SS', '601995.SS', '601933.SS', '601881.SS',\n",
       "       '002607.SZ', '002157.SZ'],\n",
       "      dtype='object')"
      ]
     },
     "execution_count": 337,
     "metadata": {},
     "output_type": "execute_result"
    }
   ],
   "source": [
    "df_X.iloc[np.argwhere(kmeans_pred==clus)[:, 0], :].index"
   ]
  },
  {
   "cell_type": "code",
   "execution_count": 338,
   "metadata": {
    "ExecuteTime": {
     "end_time": "2022-03-11T05:31:35.333834Z",
     "start_time": "2022-03-11T05:31:35.320869Z"
    },
    "scrolled": true
   },
   "outputs": [
    {
     "data": {
      "text/plain": [
       "601318.SS    PING AN INSURANCE(GROUP)CO.OF C\n",
       "601166.SS             INDUSTRIAL BANK CO LTD\n",
       "600030.SS            CITIC SECURITIES CO LTD\n",
       "601398.SS    INDUSTRIAL & COMMERCIAL BK OF C\n",
       "000001.SZ                       PING AN BANK\n",
       "601328.SS      BANK OF COMMUNICATIONS CO LTD\n",
       "600837.SS          HAITONG SECURITIES CO.LTD\n",
       "601288.SS         AGRICULTURAL BANK OF CHINA\n",
       "600000.SS    SHANGHAI PUDONG DEVELOPMENT BAN\n",
       "600016.SS        CHINA MINSHENG BANKING CORP\n",
       "601688.SS           HUATAI SECURITIES CO LTD\n",
       "600919.SS                    BANK OF JIANGSU\n",
       "601211.SS     GUOTAI JUNAN SECURITIES CO LTD\n",
       "601229.SS            BANK OF SHANGHAI CO LTD\n",
       "601169.SS           BANK OF BEIJING CO. LTD.\n",
       "601988.SS                  BANK OF CHINA LTD\n",
       "601658.SS    POSTAL SAVINGS BANK OF CHINA CO\n",
       "600999.SS    CHINA MERCHANTS SECURITIES CO L\n",
       "000776.SZ                   GF SECURITIES CO\n",
       "002493.SZ                 RONGSHENG PETRO CH\n",
       "601818.SS       CHINA EVERBRIGHT BANK CO LTD\n",
       "000166.SZ                 SHENWAN HONGYUAN G\n",
       "600958.SS    ORIENT SECURITIES COMPANY LIMIT\n",
       "601985.SS    CHINA NATIONAL NUCLEAR POWER CO\n",
       "600346.SS        HENGLI PETROCHEMICAL CO LTD\n",
       "601009.SS           BANK OF NANJING CO. LTD.\n",
       "601377.SS       INDUSTRIAL SECURITIES CO LTD\n",
       "600926.SS            BANK OF HANGZHOU CO LTD\n",
       "601939.SS            CHINA CONSTRUCTION BANK\n",
       "000876.SZ                  NEW HOPE LIUHE CO\n",
       "600029.SS    CHINA SOUTHERN AIRLINES COMPANY\n",
       "600015.SS                     HUAXIA BANK CO\n",
       "601066.SS               CSC FINANCIAL CO LTD\n",
       "600115.SS        CHINA EASTERN AIRLINES CORP\n",
       "601111.SS                      AIR CHINA LTD\n",
       "002736.SZ                  GUOSEN SECURITIES\n",
       "601901.SS          FOUNDER SECURITIES CO LTD\n",
       "601838.SS                    BANK OF CHENGDU\n",
       "601916.SS        CHINA ZHESHANG BANK CO. LTD\n",
       "000783.SZ                 CHANGJIANG SECURIT\n",
       "601788.SS    EVERBRIGHT SECURITIES COMPANY L\n",
       "600109.SS       SINOLINK SECURITIES CO. LTD.\n",
       "000301.SZ                 JIANGSU EASTERN SH\n",
       "601108.SS         CAITONG SECURITIES CO. LTD\n",
       "600918.SS       ZHONGTAI SECURITIES CO. LTD.\n",
       "000703.SZ                 HENGYI PETROCHEMIC\n",
       "601990.SS        NANJING SECURITIES CO. LTD.\n",
       "600061.SS                SDIC CAPITAL CO LTD\n",
       "601878.SS        ZHESHANG SECURITIES CO. LTD\n",
       "600606.SS    GREENLAND HOLDINGS CORPORATION \n",
       "601162.SS         TIANFENG SECURITIES CO LTD\n",
       "601998.SS    CHINA CITIC BANK CORPORATION LT\n",
       "601995.SS    CHINA INTL CAPITAL CORPORATION \n",
       "601933.SS         YONGHUI SUPERSTORES CO LTD\n",
       "601881.SS         CHINA GALAXY SECURITIES CO\n",
       "002607.SZ                 OFFCN EDUCATION TE\n",
       "002157.SZ                  JG/ZHENGBANG TECH\n",
       "Name: shortName, dtype: object"
      ]
     },
     "execution_count": 338,
     "metadata": {},
     "output_type": "execute_result"
    }
   ],
   "source": [
    "df_info_raw.loc['shortName', df_X.iloc[np.argwhere(kmeans_pred==clus)[:, 0], :].index]"
   ]
  },
  {
   "cell_type": "markdown",
   "metadata": {},
   "source": [
    "## K means cluster with weighted features"
   ]
  },
  {
   "cell_type": "code",
   "execution_count": 321,
   "metadata": {
    "ExecuteTime": {
     "end_time": "2022-03-11T05:31:35.349792Z",
     "start_time": "2022-03-11T05:31:35.335830Z"
    }
   },
   "outputs": [],
   "source": [
    "# What if we weigh the features by regression coefficient before clustering?\n",
    "# https://towardsdatascience.com/improving-clustering-performance-using-feature-weight-learning-d65d4fec77cb"
   ]
  },
  {
   "cell_type": "code",
   "execution_count": 323,
   "metadata": {
    "ExecuteTime": {
     "end_time": "2022-03-11T05:31:35.428581Z",
     "start_time": "2022-03-11T05:31:35.351787Z"
    }
   },
   "outputs": [],
   "source": [
    "n_clusters=8\n",
    "kmeans_wf = KMeans(n_clusters=n_clusters).fit(X * model_comb.params) # Weighted by coeff\n",
    "kmeans_wf_pred = kmeans_wf.predict(X * model_comb.params)"
   ]
  },
  {
   "cell_type": "code",
   "execution_count": 324,
   "metadata": {
    "ExecuteTime": {
     "end_time": "2022-03-11T05:31:35.444538Z",
     "start_time": "2022-03-11T05:31:35.430576Z"
    }
   },
   "outputs": [
    {
     "name": "stdout",
     "output_type": "stream",
     "text": [
      "0 (226, 1)\n",
      "1 (57, 1)\n",
      "2 (3, 1)\n",
      "3 (1, 1)\n",
      "4 (7, 1)\n",
      "5 (1, 1)\n",
      "6 (3, 1)\n",
      "7 (1, 1)\n"
     ]
    }
   ],
   "source": [
    "for i in range(min(10, n_clusters)):\n",
    "    print(i, np.argwhere(kmeans_wf_pred==i).shape)"
   ]
  },
  {
   "cell_type": "code",
   "execution_count": 330,
   "metadata": {},
   "outputs": [],
   "source": [
    "clus_wf = kmeans_wf.predict((X*model_comb.params)[np.argwhere(df_X.index == subject)[0][0], :].reshape(1,-1))"
   ]
  },
  {
   "cell_type": "code",
   "execution_count": 331,
   "metadata": {
    "ExecuteTime": {
     "end_time": "2022-03-11T05:31:35.460495Z",
     "start_time": "2022-03-11T05:31:35.446533Z"
    }
   },
   "outputs": [
    {
     "data": {
      "text/plain": [
       "Index(['300750.SZ', '600036.SS', '601318.SS', '601166.SS', '601012.SS',\n",
       "       '300059.SZ', '600030.SS', '601888.SS', '002594.SZ', '002475.SZ',\n",
       "       ...\n",
       "       '601319.SS', '601881.SS', '688396.SS', '601898.SS', '688009.SS',\n",
       "       '002607.SZ', '002157.SZ', '601236.SS', '688363.SS', '601698.SS'],\n",
       "      dtype='object', length=226)"
      ]
     },
     "execution_count": 331,
     "metadata": {},
     "output_type": "execute_result"
    }
   ],
   "source": [
    "df_X.iloc[np.argwhere(kmeans_wf_pred==clus_wf)[:, 0], :].index"
   ]
  },
  {
   "cell_type": "code",
   "execution_count": 332,
   "metadata": {
    "ExecuteTime": {
     "end_time": "2022-03-11T05:31:35.475456Z",
     "start_time": "2022-03-11T05:31:35.462490Z"
    },
    "scrolled": true
   },
   "outputs": [
    {
     "data": {
      "text/plain": [
       "300750.SZ                 CONTEMPORARY AMPER\n",
       "600036.SS        CHINA MERCHANTS BANK CO LTD\n",
       "601318.SS    PING AN INSURANCE(GROUP)CO.OF C\n",
       "601166.SS             INDUSTRIAL BANK CO LTD\n",
       "601012.SS    LONGI GREEN ENERGY TECHNOLOGY C\n",
       "                          ...               \n",
       "002607.SZ                 OFFCN EDUCATION TE\n",
       "002157.SZ                  JG/ZHENGBANG TECH\n",
       "601236.SS           HONGTA SECURITIES CO LTD\n",
       "688363.SS    BLOOMAGE BIOTECHNOLOGY CORPORAT\n",
       "601698.SS    CHINA SATELLITE COMMUNICATIONS \n",
       "Name: shortName, Length: 226, dtype: object"
      ]
     },
     "execution_count": 332,
     "metadata": {},
     "output_type": "execute_result"
    }
   ],
   "source": [
    "df_info_raw.loc['shortName', df_X.iloc[np.argwhere(kmeans_wf_pred==clus_wf)[:, 0], :].index]"
   ]
  },
  {
   "cell_type": "code",
   "execution_count": null,
   "metadata": {},
   "outputs": [],
   "source": []
  },
  {
   "cell_type": "code",
   "execution_count": 329,
   "metadata": {
    "ExecuteTime": {
     "end_time": "2022-03-11T05:31:36.122724Z",
     "start_time": "2022-03-11T05:31:35.477450Z"
    }
   },
   "outputs": [
    {
     "data": {
      "image/png": "[encoded data removed]",
      "text/plain": [
       "<Figure size 864x1152 with 8 Axes>"
      ]
     },
     "metadata": {
      "needs_background": "light"
     },
     "output_type": "display_data"
    }
   ],
   "source": [
    "fig, axs = plt.subplots(8,1)\n",
    "fig.set_size_inches((12,16))\n",
    "\n",
    "for i in range(8):\n",
    "    axs[i].hist(y[np.argwhere(kmeans_wf_pred==i)])"
   ]
  },
  {
   "cell_type": "markdown",
   "metadata": {},
   "source": [
    "## Evaluation of Clusters"
   ]
  },
  {
   "cell_type": "code",
   "execution_count": 339,
   "metadata": {
    "ExecuteTime": {
     "end_time": "2022-03-11T05:31:36.185556Z",
     "start_time": "2022-03-11T05:31:36.170597Z"
    }
   },
   "outputs": [
    {
     "name": "stdout",
     "output_type": "stream",
     "text": [
      "Silhouette coef: -0.060\n"
     ]
    }
   ],
   "source": [
    "from sklearn import metrics\n",
    "\n",
    "print('Silhouette coef: %0.3f' % metrics.silhouette_score(X * model_comb.params, kmeans.labels_))"
   ]
  },
  {
   "cell_type": "code",
   "execution_count": 342,
   "metadata": {
    "ExecuteTime": {
     "end_time": "2022-03-11T05:32:58.983092Z",
     "start_time": "2022-03-11T05:31:36.187551Z"
    }
   },
   "outputs": [
    {
     "name": "stderr",
     "output_type": "stream",
     "text": [
      "100%|██████████████████████████████████████████████████████████████████████████████████| 58/58 [01:24<00:00,  1.46s/it]\n"
     ]
    }
   ],
   "source": [
    "# Search for optimal number of clusters:\n",
    "\n",
    "n_cluster_range = range(2, 60)\n",
    "df_cluster_score = pd.DataFrame({'Silhouette':{}, 'DB':{}, 'CH': {}})\n",
    "\n",
    "from tqdm import tqdm\n",
    "\n",
    "# Need to do averaging as Kmeans is dependent on random initialization\n",
    "sil = []\n",
    "db = []\n",
    "ch = []\n",
    "\n",
    "n_iter_kmeans = 10\n",
    "\n",
    "for n_cluster_search in tqdm(n_cluster_range):\n",
    "    for it in (range(n_iter_kmeans)):\n",
    "        X_search = X \n",
    "        kmeans = KMeans(n_clusters=n_cluster_search).fit(X_search)\n",
    "        kmeans_pred = kmeans.predict(X_search)\n",
    "        \n",
    "        sil.append(metrics.silhouette_score(X_search, kmeans.labels_))\n",
    "        db.append(metrics.davies_bouldin_score(X_search, kmeans.labels_))\n",
    "        ch.append(metrics.calinski_harabasz_score(X_search, kmeans.labels_))        \n",
    "\n",
    "        df_cluster_score.loc[n_cluster_search, 'Silhouette'] = np.array(sil).mean()\n",
    "        df_cluster_score.loc[n_cluster_search, 'DB'] = np.array(db).mean()\n",
    "        df_cluster_score.loc[n_cluster_search, 'CH'] = np.array(ch).mean()"
   ]
  },
  {
   "cell_type": "code",
   "execution_count": 343,
   "metadata": {
    "ExecuteTime": {
     "end_time": "2022-03-11T05:32:59.253369Z",
     "start_time": "2022-03-11T05:32:58.985087Z"
    },
    "scrolled": true
   },
   "outputs": [
    {
     "data": {
      "text/plain": [
       "<matplotlib.legend.Legend at 0x17f53b74e20>"
      ]
     },
     "execution_count": 343,
     "metadata": {},
     "output_type": "execute_result"
    },
    {
     "data": {
      "image/png": "[encoded data removed]",
      "text/plain": [
       "<Figure size 432x288 with 3 Axes>"
      ]
     },
     "metadata": {
      "needs_background": "light"
     },
     "output_type": "display_data"
    }
   ],
   "source": [
    "ax1 = df_cluster_score['Silhouette'].plot(color='b') \n",
    "# Well-clustered elements:  score near 1.\n",
    "# Near zero: Close to decision boundary between two neighboring clusters\n",
    "# Poorly-clustered elements: score near -1 (probably in wrong cluster)\n",
    "\n",
    "\n",
    "ax2 = ax1.twinx()\n",
    "ax2.spines['right'].set_position(('axes', 1.0))\n",
    "df_cluster_score['DB'].plot(ax=ax2, color='r')\n",
    "# Davies-Bouldin score\n",
    "# *Lower* is better for the Davies-Bouldin score.\n",
    "# This index signifies the average ‘similarity’ between clusters, where the similarity is \n",
    "# a measure that compares the distance between clusters with the size of the clusters themselves.\n",
    "# Zero is the lowest possible score. Values closer to zero indicate a better partition.\n",
    "\n",
    "ax3 = ax1.twinx()\n",
    "ax3.spines['right'].set_position(('axes', 1.1))\n",
    "df_cluster_score['CH'].plot(ax=ax3, color='g')\n",
    "# Calinski-Harabasz index (a.k.a. the Variance Ratio Criterion)\n",
    "# *Higher* is better for the Calinski-Harabasz index: means better-defined clusters.\n",
    "# The index is the ratio of:\n",
    "# The mean between-clusters dispersion and\n",
    "# The inter-cluster dispersion for all clusters (where dispersion is defined as the sum of distances squared).\n",
    "# The score is higher when clusters are dense & well separated.\n",
    "# Fast to compute.\n",
    "\n",
    "\n",
    "ax1.get_figure().legend()"
   ]
  },
  {
   "cell_type": "code",
   "execution_count": 346,
   "metadata": {},
   "outputs": [
    {
     "data": {
      "text/html": [
       "<div>\n",
       "<style scoped>\n",
       "    .dataframe tbody tr th:only-of-type {\n",
       "        vertical-align: middle;\n",
       "    }\n",
       "\n",
       "    .dataframe tbody tr th {\n",
       "        vertical-align: top;\n",
       "    }\n",
       "\n",
       "    .dataframe thead th {\n",
       "        text-align: right;\n",
       "    }\n",
       "</style>\n",
       "<table border=\"1\" class=\"dataframe\">\n",
       "  <thead>\n",
       "    <tr style=\"text-align: right;\">\n",
       "      <th></th>\n",
       "      <th>Silhouette</th>\n",
       "      <th>DB</th>\n",
       "      <th>CH</th>\n",
       "    </tr>\n",
       "  </thead>\n",
       "  <tbody>\n",
       "    <tr>\n",
       "      <th>2</th>\n",
       "      <td>0.257612</td>\n",
       "      <td>1.734223</td>\n",
       "      <td>54.222666</td>\n",
       "    </tr>\n",
       "    <tr>\n",
       "      <th>3</th>\n",
       "      <td>0.233275</td>\n",
       "      <td>1.663998</td>\n",
       "      <td>56.065494</td>\n",
       "    </tr>\n",
       "    <tr>\n",
       "      <th>4</th>\n",
       "      <td>0.214492</td>\n",
       "      <td>1.666924</td>\n",
       "      <td>55.975353</td>\n",
       "    </tr>\n",
       "    <tr>\n",
       "      <th>5</th>\n",
       "      <td>0.208974</td>\n",
       "      <td>1.611649</td>\n",
       "      <td>55.898609</td>\n",
       "    </tr>\n",
       "    <tr>\n",
       "      <th>6</th>\n",
       "      <td>0.206637</td>\n",
       "      <td>1.552356</td>\n",
       "      <td>56.100046</td>\n",
       "    </tr>\n",
       "    <tr>\n",
       "      <th>7</th>\n",
       "      <td>0.199488</td>\n",
       "      <td>1.526047</td>\n",
       "      <td>55.745637</td>\n",
       "    </tr>\n",
       "    <tr>\n",
       "      <th>8</th>\n",
       "      <td>0.192654</td>\n",
       "      <td>1.508713</td>\n",
       "      <td>55.149596</td>\n",
       "    </tr>\n",
       "    <tr>\n",
       "      <th>9</th>\n",
       "      <td>0.187231</td>\n",
       "      <td>1.489049</td>\n",
       "      <td>54.528888</td>\n",
       "    </tr>\n",
       "    <tr>\n",
       "      <th>10</th>\n",
       "      <td>0.182634</td>\n",
       "      <td>1.478844</td>\n",
       "      <td>53.871464</td>\n",
       "    </tr>\n",
       "    <tr>\n",
       "      <th>11</th>\n",
       "      <td>0.178930</td>\n",
       "      <td>1.470422</td>\n",
       "      <td>53.160674</td>\n",
       "    </tr>\n",
       "    <tr>\n",
       "      <th>12</th>\n",
       "      <td>0.175864</td>\n",
       "      <td>1.461551</td>\n",
       "      <td>52.400947</td>\n",
       "    </tr>\n",
       "    <tr>\n",
       "      <th>13</th>\n",
       "      <td>0.172856</td>\n",
       "      <td>1.459735</td>\n",
       "      <td>51.654344</td>\n",
       "    </tr>\n",
       "    <tr>\n",
       "      <th>14</th>\n",
       "      <td>0.170102</td>\n",
       "      <td>1.457588</td>\n",
       "      <td>50.894641</td>\n",
       "    </tr>\n",
       "    <tr>\n",
       "      <th>15</th>\n",
       "      <td>0.167691</td>\n",
       "      <td>1.455886</td>\n",
       "      <td>50.175164</td>\n",
       "    </tr>\n",
       "    <tr>\n",
       "      <th>16</th>\n",
       "      <td>0.165657</td>\n",
       "      <td>1.454874</td>\n",
       "      <td>49.470511</td>\n",
       "    </tr>\n",
       "    <tr>\n",
       "      <th>17</th>\n",
       "      <td>0.163666</td>\n",
       "      <td>1.455399</td>\n",
       "      <td>48.789465</td>\n",
       "    </tr>\n",
       "    <tr>\n",
       "      <th>18</th>\n",
       "      <td>0.161930</td>\n",
       "      <td>1.455166</td>\n",
       "      <td>48.116245</td>\n",
       "    </tr>\n",
       "    <tr>\n",
       "      <th>19</th>\n",
       "      <td>0.160276</td>\n",
       "      <td>1.455503</td>\n",
       "      <td>47.467778</td>\n",
       "    </tr>\n",
       "    <tr>\n",
       "      <th>20</th>\n",
       "      <td>0.158840</td>\n",
       "      <td>1.456622</td>\n",
       "      <td>46.838916</td>\n",
       "    </tr>\n",
       "    <tr>\n",
       "      <th>21</th>\n",
       "      <td>0.157655</td>\n",
       "      <td>1.455123</td>\n",
       "      <td>46.242643</td>\n",
       "    </tr>\n",
       "    <tr>\n",
       "      <th>22</th>\n",
       "      <td>0.156549</td>\n",
       "      <td>1.454896</td>\n",
       "      <td>45.675393</td>\n",
       "    </tr>\n",
       "    <tr>\n",
       "      <th>23</th>\n",
       "      <td>0.155637</td>\n",
       "      <td>1.454028</td>\n",
       "      <td>45.124397</td>\n",
       "    </tr>\n",
       "    <tr>\n",
       "      <th>24</th>\n",
       "      <td>0.154605</td>\n",
       "      <td>1.454868</td>\n",
       "      <td>44.573969</td>\n",
       "    </tr>\n",
       "    <tr>\n",
       "      <th>25</th>\n",
       "      <td>0.153497</td>\n",
       "      <td>1.456719</td>\n",
       "      <td>44.041929</td>\n",
       "    </tr>\n",
       "    <tr>\n",
       "      <th>26</th>\n",
       "      <td>0.152795</td>\n",
       "      <td>1.455789</td>\n",
       "      <td>43.545064</td>\n",
       "    </tr>\n",
       "    <tr>\n",
       "      <th>27</th>\n",
       "      <td>0.152062</td>\n",
       "      <td>1.456624</td>\n",
       "      <td>43.058103</td>\n",
       "    </tr>\n",
       "    <tr>\n",
       "      <th>28</th>\n",
       "      <td>0.151286</td>\n",
       "      <td>1.456593</td>\n",
       "      <td>42.580609</td>\n",
       "    </tr>\n",
       "    <tr>\n",
       "      <th>29</th>\n",
       "      <td>0.150542</td>\n",
       "      <td>1.456619</td>\n",
       "      <td>42.118112</td>\n",
       "    </tr>\n",
       "    <tr>\n",
       "      <th>30</th>\n",
       "      <td>0.149913</td>\n",
       "      <td>1.457354</td>\n",
       "      <td>41.676197</td>\n",
       "    </tr>\n",
       "    <tr>\n",
       "      <th>31</th>\n",
       "      <td>0.149225</td>\n",
       "      <td>1.458329</td>\n",
       "      <td>41.244508</td>\n",
       "    </tr>\n",
       "    <tr>\n",
       "      <th>32</th>\n",
       "      <td>0.148707</td>\n",
       "      <td>1.457709</td>\n",
       "      <td>40.829599</td>\n",
       "    </tr>\n",
       "    <tr>\n",
       "      <th>33</th>\n",
       "      <td>0.148077</td>\n",
       "      <td>1.457743</td>\n",
       "      <td>40.422701</td>\n",
       "    </tr>\n",
       "    <tr>\n",
       "      <th>34</th>\n",
       "      <td>0.147570</td>\n",
       "      <td>1.457855</td>\n",
       "      <td>40.029322</td>\n",
       "    </tr>\n",
       "    <tr>\n",
       "      <th>35</th>\n",
       "      <td>0.147013</td>\n",
       "      <td>1.458200</td>\n",
       "      <td>39.643724</td>\n",
       "    </tr>\n",
       "    <tr>\n",
       "      <th>36</th>\n",
       "      <td>0.146545</td>\n",
       "      <td>1.458575</td>\n",
       "      <td>39.268291</td>\n",
       "    </tr>\n",
       "    <tr>\n",
       "      <th>37</th>\n",
       "      <td>0.146091</td>\n",
       "      <td>1.458584</td>\n",
       "      <td>38.903382</td>\n",
       "    </tr>\n",
       "    <tr>\n",
       "      <th>38</th>\n",
       "      <td>0.145580</td>\n",
       "      <td>1.458559</td>\n",
       "      <td>38.547134</td>\n",
       "    </tr>\n",
       "    <tr>\n",
       "      <th>39</th>\n",
       "      <td>0.145268</td>\n",
       "      <td>1.458416</td>\n",
       "      <td>38.202078</td>\n",
       "    </tr>\n",
       "    <tr>\n",
       "      <th>40</th>\n",
       "      <td>0.144882</td>\n",
       "      <td>1.458399</td>\n",
       "      <td>37.865252</td>\n",
       "    </tr>\n",
       "    <tr>\n",
       "      <th>41</th>\n",
       "      <td>0.144651</td>\n",
       "      <td>1.458371</td>\n",
       "      <td>37.542407</td>\n",
       "    </tr>\n",
       "    <tr>\n",
       "      <th>42</th>\n",
       "      <td>0.144428</td>\n",
       "      <td>1.458068</td>\n",
       "      <td>37.223741</td>\n",
       "    </tr>\n",
       "    <tr>\n",
       "      <th>43</th>\n",
       "      <td>0.144095</td>\n",
       "      <td>1.457467</td>\n",
       "      <td>36.910944</td>\n",
       "    </tr>\n",
       "    <tr>\n",
       "      <th>44</th>\n",
       "      <td>0.143792</td>\n",
       "      <td>1.457092</td>\n",
       "      <td>36.604662</td>\n",
       "    </tr>\n",
       "    <tr>\n",
       "      <th>45</th>\n",
       "      <td>0.143632</td>\n",
       "      <td>1.456933</td>\n",
       "      <td>36.307676</td>\n",
       "    </tr>\n",
       "    <tr>\n",
       "      <th>46</th>\n",
       "      <td>0.143500</td>\n",
       "      <td>1.456435</td>\n",
       "      <td>36.019762</td>\n",
       "    </tr>\n",
       "    <tr>\n",
       "      <th>47</th>\n",
       "      <td>0.143377</td>\n",
       "      <td>1.455997</td>\n",
       "      <td>35.738290</td>\n",
       "    </tr>\n",
       "    <tr>\n",
       "      <th>48</th>\n",
       "      <td>0.143229</td>\n",
       "      <td>1.455182</td>\n",
       "      <td>35.463824</td>\n",
       "    </tr>\n",
       "    <tr>\n",
       "      <th>49</th>\n",
       "      <td>0.143115</td>\n",
       "      <td>1.454622</td>\n",
       "      <td>35.196138</td>\n",
       "    </tr>\n",
       "    <tr>\n",
       "      <th>50</th>\n",
       "      <td>0.142972</td>\n",
       "      <td>1.453856</td>\n",
       "      <td>34.931479</td>\n",
       "    </tr>\n",
       "    <tr>\n",
       "      <th>51</th>\n",
       "      <td>0.142904</td>\n",
       "      <td>1.452938</td>\n",
       "      <td>34.674260</td>\n",
       "    </tr>\n",
       "    <tr>\n",
       "      <th>52</th>\n",
       "      <td>0.142866</td>\n",
       "      <td>1.451571</td>\n",
       "      <td>34.421946</td>\n",
       "    </tr>\n",
       "    <tr>\n",
       "      <th>53</th>\n",
       "      <td>0.142815</td>\n",
       "      <td>1.450908</td>\n",
       "      <td>34.174134</td>\n",
       "    </tr>\n",
       "    <tr>\n",
       "      <th>54</th>\n",
       "      <td>0.142744</td>\n",
       "      <td>1.449641</td>\n",
       "      <td>33.935253</td>\n",
       "    </tr>\n",
       "    <tr>\n",
       "      <th>55</th>\n",
       "      <td>0.142788</td>\n",
       "      <td>1.448501</td>\n",
       "      <td>33.699707</td>\n",
       "    </tr>\n",
       "    <tr>\n",
       "      <th>56</th>\n",
       "      <td>0.142843</td>\n",
       "      <td>1.447117</td>\n",
       "      <td>33.469721</td>\n",
       "    </tr>\n",
       "    <tr>\n",
       "      <th>57</th>\n",
       "      <td>0.142861</td>\n",
       "      <td>1.445785</td>\n",
       "      <td>33.244991</td>\n",
       "    </tr>\n",
       "    <tr>\n",
       "      <th>58</th>\n",
       "      <td>0.142876</td>\n",
       "      <td>1.444184</td>\n",
       "      <td>33.024114</td>\n",
       "    </tr>\n",
       "    <tr>\n",
       "      <th>59</th>\n",
       "      <td>0.142950</td>\n",
       "      <td>1.442737</td>\n",
       "      <td>32.807047</td>\n",
       "    </tr>\n",
       "  </tbody>\n",
       "</table>\n",
       "</div>"
      ],
      "text/plain": [
       "    Silhouette        DB         CH\n",
       "2     0.257612  1.734223  54.222666\n",
       "3     0.233275  1.663998  56.065494\n",
       "4     0.214492  1.666924  55.975353\n",
       "5     0.208974  1.611649  55.898609\n",
       "6     0.206637  1.552356  56.100046\n",
       "7     0.199488  1.526047  55.745637\n",
       "8     0.192654  1.508713  55.149596\n",
       "9     0.187231  1.489049  54.528888\n",
       "10    0.182634  1.478844  53.871464\n",
       "11    0.178930  1.470422  53.160674\n",
       "12    0.175864  1.461551  52.400947\n",
       "13    0.172856  1.459735  51.654344\n",
       "14    0.170102  1.457588  50.894641\n",
       "15    0.167691  1.455886  50.175164\n",
       "16    0.165657  1.454874  49.470511\n",
       "17    0.163666  1.455399  48.789465\n",
       "18    0.161930  1.455166  48.116245\n",
       "19    0.160276  1.455503  47.467778\n",
       "20    0.158840  1.456622  46.838916\n",
       "21    0.157655  1.455123  46.242643\n",
       "22    0.156549  1.454896  45.675393\n",
       "23    0.155637  1.454028  45.124397\n",
       "24    0.154605  1.454868  44.573969\n",
       "25    0.153497  1.456719  44.041929\n",
       "26    0.152795  1.455789  43.545064\n",
       "27    0.152062  1.456624  43.058103\n",
       "28    0.151286  1.456593  42.580609\n",
       "29    0.150542  1.456619  42.118112\n",
       "30    0.149913  1.457354  41.676197\n",
       "31    0.149225  1.458329  41.244508\n",
       "32    0.148707  1.457709  40.829599\n",
       "33    0.148077  1.457743  40.422701\n",
       "34    0.147570  1.457855  40.029322\n",
       "35    0.147013  1.458200  39.643724\n",
       "36    0.146545  1.458575  39.268291\n",
       "37    0.146091  1.458584  38.903382\n",
       "38    0.145580  1.458559  38.547134\n",
       "39    0.145268  1.458416  38.202078\n",
       "40    0.144882  1.458399  37.865252\n",
       "41    0.144651  1.458371  37.542407\n",
       "42    0.144428  1.458068  37.223741\n",
       "43    0.144095  1.457467  36.910944\n",
       "44    0.143792  1.457092  36.604662\n",
       "45    0.143632  1.456933  36.307676\n",
       "46    0.143500  1.456435  36.019762\n",
       "47    0.143377  1.455997  35.738290\n",
       "48    0.143229  1.455182  35.463824\n",
       "49    0.143115  1.454622  35.196138\n",
       "50    0.142972  1.453856  34.931479\n",
       "51    0.142904  1.452938  34.674260\n",
       "52    0.142866  1.451571  34.421946\n",
       "53    0.142815  1.450908  34.174134\n",
       "54    0.142744  1.449641  33.935253\n",
       "55    0.142788  1.448501  33.699707\n",
       "56    0.142843  1.447117  33.469721\n",
       "57    0.142861  1.445785  33.244991\n",
       "58    0.142876  1.444184  33.024114\n",
       "59    0.142950  1.442737  32.807047"
      ]
     },
     "execution_count": 346,
     "metadata": {},
     "output_type": "execute_result"
    }
   ],
   "source": [
    "df_cluster_score"
   ]
  },
  {
   "cell_type": "markdown",
   "metadata": {},
   "source": [
    "## DBSCAN"
   ]
  },
  {
   "cell_type": "code",
   "execution_count": 348,
   "metadata": {
    "ExecuteTime": {
     "end_time": "2022-03-11T05:35:11.981351Z",
     "start_time": "2022-03-11T05:35:11.972376Z"
    }
   },
   "outputs": [],
   "source": [
    "from sklearn.cluster import DBSCAN"
   ]
  },
  {
   "cell_type": "code",
   "execution_count": 377,
   "metadata": {
    "ExecuteTime": {
     "end_time": "2022-03-11T05:45:24.501999Z",
     "start_time": "2022-03-11T05:45:24.484046Z"
    }
   },
   "outputs": [
    {
     "data": {
      "text/plain": [
       "array([ 2,  0,  1, -1,  2,  3,  1, 12, -1, -1,  4, -1, -1, -1, -1, -1, -1,\n",
       "       -1,  5, -1,  1,  1, -1,  2, -1,  6,  7, -1,  8, -1,  5, 22, -1, -1,\n",
       "       -1, 18,  9,  4,  8,  0, -1,  5, -1, -1, -1,  0, -1, -1,  1, -1,  2,\n",
       "        3, -1,  1, -1, 10, 11, -1, 12,  0, 13, -1,  4, 14, -1, 15, -1, 16,\n",
       "       17, -1, -1, 13, 12,  1,  4, -1, -1, -1, 18, 15, -1,  1,  9,  1, -1,\n",
       "        9, 15,  5, 23, -1,  1, 19, -1, 17,  4, 18,  6, -1, 17,  1, -1, -1,\n",
       "       -1, -1, -1, -1, 17, -1,  4, -1, -1, -1, 10, 20,  1, -1, -1, 20, 20,\n",
       "       24, -1,  7, -1, -1, -1,  4, 16, -1, -1, -1, -1, 13,  8, -1, 23,  5,\n",
       "       -1, -1,  9, -1, -1,  9,  7, -1, 19, 15, 19,  6, -1, -1, 15, -1,  9,\n",
       "       14, 15,  1, -1, 21, -1,  4, -1, -1, -1, -1, -1, -1, 10, -1, 15, -1,\n",
       "       -1,  6, -1, -1,  2, -1, -1, 21,  4, -1, 19, -1, -1,  4, 22, -1, 20,\n",
       "        3,  1, 13,  8, -1, -1, -1,  9,  1,  7,  8, 16, 20, 11,  4, 11, -1,\n",
       "       -1, 11,  4, -1, -1,  3, -1,  4, 17, -1, -1, -1,  7, -1,  2, -1,  7,\n",
       "       -1, -1, -1,  7, -1, -1, -1, 21, -1,  7, -1, -1, -1, -1, 14, -1, 20,\n",
       "       17, -1, -1, -1, -1,  4, -1, -1, -1, -1,  4, -1, -1, 23, -1, 20, 11,\n",
       "       -1, -1, -1, -1, -1, 15, 24,  7, -1, -1,  6, -1,  4, -1, -1, -1, 22,\n",
       "        1, -1, 20, -1, -1, -1, -1, -1, -1, -1,  4, -1, -1, -1, -1, -1,  0,\n",
       "       -1, -1, 24, -1,  7,  3, -1, -1, -1, -1], dtype=int64)"
      ]
     },
     "execution_count": 377,
     "metadata": {},
     "output_type": "execute_result"
    }
   ],
   "source": [
    "dbscan = DBSCAN(eps=1.3, min_samples=3)\n",
    "dbs_cls = dbscan.fit_predict(X)\n",
    "dbs_cls"
   ]
  },
  {
   "cell_type": "code",
   "execution_count": 378,
   "metadata": {
    "ExecuteTime": {
     "end_time": "2022-03-11T05:45:25.699794Z",
     "start_time": "2022-03-11T05:45:25.692813Z"
    }
   },
   "outputs": [
    {
     "data": {
      "text/plain": [
       "{-1: 156,\n",
       " 0: 5,\n",
       " 1: 16,\n",
       " 2: 6,\n",
       " 3: 5,\n",
       " 4: 17,\n",
       " 5: 5,\n",
       " 6: 5,\n",
       " 7: 10,\n",
       " 8: 5,\n",
       " 9: 7,\n",
       " 10: 3,\n",
       " 11: 5,\n",
       " 12: 3,\n",
       " 13: 4,\n",
       " 14: 3,\n",
       " 15: 8,\n",
       " 16: 3,\n",
       " 17: 6,\n",
       " 18: 3,\n",
       " 19: 4,\n",
       " 20: 8,\n",
       " 21: 3,\n",
       " 22: 3,\n",
       " 23: 3,\n",
       " 24: 3}"
      ]
     },
     "execution_count": 378,
     "metadata": {},
     "output_type": "execute_result"
    }
   ],
   "source": [
    "val, counts = np.unique(dbs_cls, return_counts=True)\n",
    "dict(zip(val, counts))"
   ]
  },
  {
   "cell_type": "code",
   "execution_count": 352,
   "metadata": {
    "ExecuteTime": {
     "end_time": "2022-03-11T05:45:28.543188Z",
     "start_time": "2022-03-11T05:45:28.532218Z"
    }
   },
   "outputs": [
    {
     "data": {
      "text/plain": [
       "-1"
      ]
     },
     "execution_count": 352,
     "metadata": {},
     "output_type": "execute_result"
    }
   ],
   "source": [
    "dbs_cls[np.argwhere(df_X.index == '601318.SS')[0][0]]"
   ]
  },
  {
   "cell_type": "code",
   "execution_count": 353,
   "metadata": {
    "ExecuteTime": {
     "end_time": "2022-03-11T05:46:24.412751Z",
     "start_time": "2022-03-11T05:46:24.394799Z"
    }
   },
   "outputs": [
    {
     "data": {
      "text/plain": [
       "array([], dtype=int64)"
      ]
     },
     "execution_count": 353,
     "metadata": {},
     "output_type": "execute_result"
    }
   ],
   "source": [
    "np.argwhere(dbs_cls==9).reshape(1, -1)[0]"
   ]
  },
  {
   "cell_type": "code",
   "execution_count": 354,
   "metadata": {
    "ExecuteTime": {
     "end_time": "2022-03-11T05:47:01.941371Z",
     "start_time": "2022-03-11T05:47:01.922421Z"
    }
   },
   "outputs": [
    {
     "data": {
      "text/plain": [
       "Series([], Name: shortName, dtype: object)"
      ]
     },
     "execution_count": 354,
     "metadata": {},
     "output_type": "execute_result"
    }
   ],
   "source": [
    "df_info_raw.loc['shortName', df_X.index[np.argwhere(dbs_cls==9).reshape(1, -1)[0]]]\n",
    "\n"
   ]
  },
  {
   "cell_type": "code",
   "execution_count": null,
   "metadata": {},
   "outputs": [],
   "source": []
  },
  {
   "cell_type": "markdown",
   "metadata": {},
   "source": [
    "# Mean and variance weekly returns"
   ]
  },
  {
   "cell_type": "code",
   "execution_count": 158,
   "metadata": {
    "ExecuteTime": {
     "end_time": "2022-03-13T09:29:03.651572Z",
     "start_time": "2022-03-13T09:29:03.623648Z"
    }
   },
   "outputs": [],
   "source": [
    "weekly_returns = log_return(df_2y, fri_weekly=True)\n",
    "if datetime.datetime.weekday(weekly_returns.index[-1]) == 4: \n",
    "    pass\n",
    "else: \n",
    "    weekly_returns = weekly_returns.drop(weekly_returns.index[-1], axis=0)\n",
    "\n",
    "return_weekly_mean = weekly_returns.mean(axis=0)"
   ]
  },
  {
   "cell_type": "code",
   "execution_count": 159,
   "metadata": {
    "ExecuteTime": {
     "end_time": "2022-03-13T09:29:04.420516Z",
     "start_time": "2022-03-13T09:29:04.407551Z"
    }
   },
   "outputs": [
    {
     "data": {
      "text/plain": [
       "000001.SZ    0.367635\n",
       "000002.SZ    0.305989\n",
       "000063.SZ    0.337598\n",
       "000066.SZ    0.444205\n",
       "000069.SZ    0.374028\n",
       "               ...   \n",
       "688363.SS    0.493292\n",
       "688396.SS    0.553255\n",
       "688561.SS    0.411547\n",
       "688599.SS    0.570076\n",
       "688981.SS    0.370871\n",
       "Length: 300, dtype: float64"
      ]
     },
     "execution_count": 159,
     "metadata": {},
     "output_type": "execute_result"
    }
   ],
   "source": [
    "vol_annual = weekly_returns.std(axis=0) * np.sqrt(52)\n",
    "vol_annual"
   ]
  },
  {
   "cell_type": "code",
   "execution_count": 160,
   "metadata": {
    "ExecuteTime": {
     "end_time": "2022-03-13T09:31:01.642972Z",
     "start_time": "2022-03-13T09:31:01.632002Z"
    }
   },
   "outputs": [],
   "source": [
    "mean_var = pd.concat((return_weekly_mean.rename('mean_return'), vol_annual.rename('ann_vol')), axis=1, ignore_index=False)"
   ]
  },
  {
   "cell_type": "code",
   "execution_count": 161,
   "metadata": {
    "ExecuteTime": {
     "end_time": "2022-03-13T09:31:24.259478Z",
     "start_time": "2022-03-13T09:31:24.143788Z"
    }
   },
   "outputs": [
    {
     "data": {
      "text/plain": [
       "<AxesSubplot:xlabel='ann_vol', ylabel='mean_return'>"
      ]
     },
     "execution_count": 161,
     "metadata": {},
     "output_type": "execute_result"
    },
    {
     "data": {
      "image/png": "[encoded data removed]",
      "text/plain": [
       "<Figure size 432x288 with 1 Axes>"
      ]
     },
     "metadata": {
      "needs_background": "light"
     },
     "output_type": "display_data"
    }
   ],
   "source": [
    "mean_var.plot.scatter(x='ann_vol', y='mean_return')"
   ]
  },
  {
   "cell_type": "code",
   "execution_count": 162,
   "metadata": {
    "ExecuteTime": {
     "end_time": "2022-03-14T04:30:34.150727Z",
     "start_time": "2022-03-14T04:30:34.137761Z"
    }
   },
   "outputs": [
    {
     "name": "stdout",
     "output_type": "stream",
     "text": [
      "2022-03-18\n"
     ]
    }
   ],
   "source": [
    "pkl.dump(mean_var, open('./data/mean_var_{}.pkl'.format(str(t)[:10]), 'wb'))\n",
    "print(str(t)[:10])"
   ]
  }
 ],
 "metadata": {
  "interpreter": {
   "hash": "9caf178fba989afa31361442e4ec2493963e774b73549e12bdf78f3a6279801a"
  },
  "kernelspec": {
   "display_name": "Python 3 (ipykernel)",
   "language": "python",
   "name": "python3"
  },
  "language_info": {
   "codemirror_mode": {
    "name": "ipython",
    "version": 3
   },
   "file_extension": ".py",
   "mimetype": "text/x-python",
   "name": "python",
   "nbconvert_exporter": "python",
   "pygments_lexer": "ipython3",
   "version": "3.9.7"
  },
  "toc": {
   "base_numbering": 1,
   "nav_menu": {},
   "number_sections": true,
   "sideBar": true,
   "skip_h1_title": false,
   "title_cell": "Table of Contents",
   "title_sidebar": "Contents",
   "toc_cell": false,
   "toc_position": {
    "height": "calc(100% - 180px)",
    "left": "10px",
    "top": "150px",
    "width": "320.391px"
   },
   "toc_section_display": true,
   "toc_window_display": true
  },
  "toc-autonumbering": true
 },
 "nbformat": 4,
 "nbformat_minor": 4
}
