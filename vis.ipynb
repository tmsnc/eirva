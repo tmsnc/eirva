{
 "cells": [
  {
   "cell_type": "code",
   "execution_count": 1,
   "id": "b154981f-f0e9-4205-959a-183f5022e225",
   "metadata": {},
   "outputs": [],
   "source": [
    "import pandas as pd\n",
    "import numpy as np\n",
    "import datetime\n",
    "import pickle as pkl\n",
    "\n",
    "import dash\n",
    "from dash import dcc\n",
    "from dash import html\n",
    "from jupyter_dash import JupyterDash\n",
    "import plotly.express as px\n"
   ]
  },
  {
   "cell_type": "markdown",
   "id": "10439e6c-5d27-4fba-a00d-bfc61a2b6592",
   "metadata": {},
   "source": [
    "# EIRVA"
   ]
  },
  {
   "cell_type": "markdown",
   "id": "5b749dbc-9900-4eb6-9786-93b240689149",
   "metadata": {},
   "source": [
    "## Data prep"
   ]
  },
  {
   "cell_type": "code",
   "execution_count": 22,
   "id": "5ec1e381-02a8-4f46-821d-f798c89aad8c",
   "metadata": {},
   "outputs": [],
   "source": [
    "# construct a time series of fri-fri return and the volatility of such\n",
    "\n",
    "def log_return(df_close_px, t='', t_1='',  fri_weekly=False):\n",
    "    if fri_weekly:\n",
    "        px_t = df_close_px.resample('W-FRI').last()\n",
    "        px_t_1 = df_close_px.resample('W-FRI').last().shift(1)\n",
    "    else:\n",
    "        px_t = df_close_px.loc[t, :]\n",
    "        px_t_1 = df_close_px.loc[t_1, :]\n",
    "        \n",
    "    # For the future: Holidays are not handled here by filling n/a with 0 returns.  \n",
    "    return np.log(px_t/px_t_1).fillna(0)\n",
    "\n",
    "load_t = '20220318'\n",
    "df_5y = pkl.load(open('./data/df_5y_{}.pkl'.format(load_t), 'rb'))\n",
    "\n",
    "# df_2y = df_5y['Close'].loc[df_5y['Close'].index > (df_5y['Close'].index[-1] - datetime.timedelta(days=2*52*7)), :]\n",
    "# df_2y_ret = log_return(df_2y, fri_weekly=True)\n",
    "# df_2y_ret = df_2y_ret.drop(df_2y_ret.index[0], axis=0)\n",
    "\n",
    "df_5y_ret = log_return(df_5y['Close'], fri_weekly=True)\n",
    "df_5y_ret = df_5y_ret.drop(df_5y_ret.index[0], axis=0)\n",
    "\n",
    "# rolling mean return and volatility\n",
    "\n",
    "# 1y rolling mean weekly returns\n",
    "df_weekly_return_rolling_1y_mean = df_5y_ret.rolling(52).mean()\n",
    "df_weekly_return_rolling_1y_mean = df_weekly_return_rolling_1y_mean.loc[~df_weekly_return_rolling_1y_mean.isnull().any(axis=1), :]\n",
    "\n",
    "# 1y rolling mean weekly vol annualized\n",
    "df_weekly_return_rolling_1y_volann = df_5y_ret.rolling(52).std() * np.sqrt(52)\n",
    "df_weekly_return_rolling_1y_volann = df_weekly_return_rolling_1y_volann.loc[~df_weekly_return_rolling_1y_volann.isnull().any(axis=1), :]\n",
    "\n",
    "df_info_raw=pkl.load(open(f'./data/df_info_raw_{load_t}.pkl', 'rb'))\n",
    "\n",
    "df_rolling_1y = pd.merge(df_weekly_return_rolling_1y_mean.iloc[-1,:].rename('mean_return'), df_weekly_return_rolling_1y_volann.iloc[-1,:].rename('ann_vol'), left_index=True, right_index=True, how='left')\n",
    "df_rolling_1y = df_rolling_1y.merge(df_info_raw.loc['shortName'], how='left', left_index=True, right_index=True).reset_index()\n",
    "df_rolling_1y['ticker_name'] = df_rolling_1y[['index', 'shortName']].astype(str).agg(' '.join, axis=1)"
   ]
  },
  {
   "cell_type": "code",
   "execution_count": 71,
   "id": "828d8580-8d84-4a9d-8d04-dd76f33d6cd4",
   "metadata": {},
   "outputs": [],
   "source": [
    "# 3m rolling mean weekly vol annualized\n",
    "df_weekly_return_rolling_3m_volann = df_5y_ret.rolling(13).std() * np.sqrt(52)\n",
    "df_weekly_return_rolling_3m_volann = df_weekly_return_rolling_3m_volann.loc[~df_weekly_return_rolling_3m_volann.isnull().any(axis=1), :]\n"
   ]
  },
  {
   "cell_type": "markdown",
   "id": "cb0767ac-7ba8-43de-a31a-521061a6399a",
   "metadata": {},
   "source": [
    "## OLS model"
   ]
  },
  {
   "cell_type": "code",
   "execution_count": null,
   "id": "74cdf8c6-9dea-4699-bb7e-4dc43e291813",
   "metadata": {},
   "outputs": [],
   "source": [
    "# Load features matrix from Combination OLS regression\n",
    "df_X, df_y = pkl.load(open(f'./data/df_X__df_y_{load_t}.pkl', 'rb'))"
   ]
  },
  {
   "cell_type": "code",
   "execution_count": 312,
   "id": "249507ec-926b-453c-ae55-8d7ce32375cd",
   "metadata": {},
   "outputs": [],
   "source": [
    "X = df_X.to_numpy().astype(float)\n",
    "y = df_y.to_numpy().reshape(-1)"
   ]
  },
  {
   "cell_type": "code",
   "execution_count": 314,
   "id": "12b630c6-b209-45ff-ac7c-b42b8d0826d8",
   "metadata": {},
   "outputs": [],
   "source": [
    "# Need to weigh by coef from model"
   ]
  },
  {
   "cell_type": "code",
   "execution_count": 316,
   "id": "5fcad628-dadc-47ee-8986-35de6c384917",
   "metadata": {},
   "outputs": [],
   "source": [
    "import statsmodels.api as sm\n",
    "\n",
    "model_comb = sm.OLS(y, X, hasconst=True).fit()\n",
    "# model_comb.summary()\n"
   ]
  },
  {
   "cell_type": "code",
   "execution_count": 389,
   "id": "75caa088-9e51-477d-9b3e-c78820abd8ae",
   "metadata": {},
   "outputs": [
    {
     "data": {
      "text/plain": [
       "(80,)"
      ]
     },
     "execution_count": 389,
     "metadata": {},
     "output_type": "execute_result"
    }
   ],
   "source": [
    "model_comb.params.shape"
   ]
  },
  {
   "cell_type": "code",
   "execution_count": 390,
   "id": "32be45ad-5e30-4471-aec4-c6c7cb484446",
   "metadata": {},
   "outputs": [
    {
     "data": {
      "text/plain": [
       "(80,)"
      ]
     },
     "execution_count": 390,
     "metadata": {},
     "output_type": "execute_result"
    }
   ],
   "source": [
    "df_X.columns.shape"
   ]
  },
  {
   "cell_type": "code",
   "execution_count": 393,
   "id": "52fe950c-5580-40c5-8850-e88714e8133b",
   "metadata": {},
   "outputs": [
    {
     "data": {
      "text/plain": [
       "Index(['Medical Distribution', 'Electronic Gaming & Multimedia',\n",
       "       'Entertainment', 'Tools & Accessories', 'Real Estate—Development',\n",
       "       'Financial Data & Stock Exchanges', 'Packaging & Containers',\n",
       "       'Drug Manufacturers—Specialty & Generic',\n",
       "       'Insurance—Property & Casualty', 'Textile Manufacturing', 'Lodging',\n",
       "       'Medical Devices', 'Capital Markets', 'priceToSalesTrailing12Months',\n",
       "       'Auto Parts', 'Insurance—Life', 'Building Products & Equipment',\n",
       "       'Building Materials', 'debtToEquity',\n",
       "       'Other Industrial Metals & Mining', 'Auto Manufacturers',\n",
       "       'Internet Retail', 'Business Equipment & Supplies', 'Banks—Diversified',\n",
       "       'Aerospace & Defense', 'Airports & Air Services',\n",
       "       'Consumer Electronics', 'previousClose_logprice', 'Specialty Chemicals',\n",
       "       'Airlines', 'Department Stores', 'Biotechnology',\n",
       "       'Electrical Equipment & Parts', 'Asset Management',\n",
       "       'Software—Application', 'payoutRatio', 'Telecom Services',\n",
       "       'Farm & Heavy Construction Machinery', 'Agricultural Inputs',\n",
       "       'Furnishings, Fixtures & Appliances', 'Banks—Regional', 'Leisure',\n",
       "       'Solar', 'Oil & Gas Integrated', 'Diagnostics & Research', 'Railroads',\n",
       "       'Semiconductors', 'Marine Shipping',\n",
       "       'Semiconductor Equipment & Materials', 'Computer Hardware',\n",
       "       'Electronics & Computer Distribution', 'Electronic Components',\n",
       "       'Drug Manufacturers—General', 'Scientific & Technical Instruments',\n",
       "       'Farm Products', 'Real Estate Services', 'Packaged Foods',\n",
       "       'Security & Protection Services', 'Engineering & Construction',\n",
       "       'Thermal Coal', 'Utilities—Independent Power Producers',\n",
       "       'Specialty Industrial Machinery', 'Medical Instruments & Supplies',\n",
       "       'Specialty Retail', 'Utilities—Renewable',\n",
       "       'Beverages—Wineries & Distilleries', 'Chemicals',\n",
       "       'Communication Equipment', 'Beverages—Brewers',\n",
       "       'Integrated Freight & Logistics', 'Steel', 'Software—Infrastructure',\n",
       "       'Advertising Agencies', 'Copper', 'Gold',\n",
       "       'Education & Training Services', 'Aluminum',\n",
       "       'Oil & Gas Equipment & Services', 'Medical Care Facilities',\n",
       "       'Pharmaceutical Retailers'],\n",
       "      dtype='object')"
      ]
     },
     "execution_count": 393,
     "metadata": {},
     "output_type": "execute_result"
    }
   ],
   "source": [
    "# Which factors matter the most?\n",
    "df_X.columns[np.argsort(-model_comb.params)]"
   ]
  },
  {
   "cell_type": "code",
   "execution_count": 395,
   "id": "e7bf899e-494c-48d8-b203-c04342baa031",
   "metadata": {},
   "outputs": [],
   "source": [
    "# Which columns are industry columns?\n",
    "# Need to retrieve from data.ipynb part 6. OLS"
   ]
  },
  {
   "cell_type": "markdown",
   "id": "1cdf761a-2d9e-48c6-80b7-04f0949f85e2",
   "metadata": {},
   "source": [
    "## K-means Clustering"
   ]
  },
  {
   "cell_type": "code",
   "execution_count": 317,
   "id": "6ab4ff0a-152f-4a28-884d-786b89eb8c5b",
   "metadata": {},
   "outputs": [],
   "source": [
    "from sklearn.cluster import KMeans\n",
    "\n",
    "kmeans = KMeans(n_clusters=50).fit(X * model_comb.params)\n",
    "kmeans_pred = kmeans.predict(X * model_comb.params)"
   ]
  },
  {
   "cell_type": "markdown",
   "id": "74fc72b4-9403-4a71-ad1a-9c94c9041b40",
   "metadata": {},
   "source": [
    "## Plotly app"
   ]
  },
  {
   "cell_type": "code",
   "execution_count": 396,
   "id": "468a190b-d4a4-433d-a8bd-faaae0577730",
   "metadata": {
    "tags": []
   },
   "outputs": [],
   "source": [
    "# Run this app with `python app.py` and\n",
    "# visit http://127.0.0.1:8050/ in your web browser.\n",
    "\n",
    "\n",
    "from dash import Dash, html, dcc, Input, Output\n",
    "from plotly.subplots import make_subplots\n",
    "\n",
    "import plotly.graph_objects as go\n",
    "import warnings\n",
    "\n",
    "warnings.filterwarnings('ignore')\n",
    "\n",
    "app = JupyterDash(__name__)\n",
    "\n",
    "###############\n",
    "# MAIN LAYOUT # \n",
    "###############\n",
    "\n",
    "app.layout = html.Div([\n",
    "    html.Div(children=[\n",
    "        \n",
    "        html.H1('EIRVA'),\n",
    "        html.H5('Equity Investment Recommendation and Visual Analysis'),\n",
    "        \n",
    "        # CHART: Scatter Return/Risk\n",
    "                html.Hr(), \n",
    "                dcc.Graph(id='graph-scatter'),\n",
    "\n",
    "        # CONTROL\n",
    "            # SELECT\n",
    "                html.Label('Stock Selection'),\n",
    "                dcc.Dropdown(df_rolling_1y.ticker_name,\n",
    "                          [''],\n",
    "                          multi=True, id='my-input'),\n",
    "                dcc.Checklist([dict(label='Hide Unselected', value='hide_uns')], id='hide_uns'),\n",
    "                html.Br(),\n",
    "            # CHOOSE\n",
    "                html.H6('Choose Stock to Study'),\n",
    "                dcc.RadioItems(id='select_stock'),\n",
    "        \n",
    "                html.Label('Return/Risk Chart:', style={'fontWeight': 'bold'}),\n",
    "                dcc.Checklist([dict(label='Show History Path', value='show')],\n",
    "                                id='show_hist_path'),\n",
    "                dcc.Input(id='num_weeks', type='number', min=1, max=52, step=1, placeholder='10'),\n",
    "                html.Label('Weeks History'),\n",
    "        \n",
    "                dcc.Checklist([dict(label='Show Cluster', value='show_cluster')],\n",
    "                                id='show_cluster'),\n",
    "                        \n",
    "        \n",
    "        # CHART: Selected Stock Price\n",
    "                html.Hr(),\n",
    "                dcc.Graph(id='stock_price')\n",
    "        \n",
    "            ], style=dict(padding= 10)\n",
    "    )\n",
    "], style={'display': 'flex', 'flex-direction': 'row'})\n",
    "\n",
    "# multi select: update radio, update graph to highlight points\n",
    "@app.callback(\n",
    "    Output('select_stock', 'options'),\n",
    "    Input(component_id='my-input', component_property='value'))\n",
    "def multi_select_stocks(stocks):\n",
    "    return [{'label': i, 'value': i} for i in stocks]\n",
    "\n",
    "# radio: update graph to add historical path\n",
    "@app.callback(\n",
    "    Output('select_stock', 'value'),\n",
    "    Input('select_stock', 'options'))\n",
    "def select_stock(sel_stock_options):\n",
    "    if len(sel_stock_options)==0:\n",
    "        return ''\n",
    "    else:\n",
    "        return sel_stock_options[0]['value']\n",
    "\n",
    "#####################\n",
    "# CHART Return/Risk # \n",
    "#####################\n",
    "\n",
    "@app.callback(\n",
    "    Output(component_id='graph-scatter', component_property='figure'),\n",
    "    Input(component_id='my-input', component_property='value'),\n",
    "    Input(component_id='select_stock', component_property='value'),\n",
    "    Input('show_hist_path', 'value'),\n",
    "    Input('num_weeks','value'),\n",
    "    Input('hide_uns','value'),\n",
    "    Input('show_cluster','value')\n",
    ")\n",
    "def update_figure(stocks, sel_stock, show, n_weeks, hide_uns, show_cluster):\n",
    "    \n",
    "    if n_weeks==None:\n",
    "        n_weeks=10\n",
    "    \n",
    "    # Base return / risk plot\n",
    "    # -----------------------\n",
    "        \n",
    "\n",
    "    if show_cluster==['show_cluster'] and (sel_stock!='') and (sel_stock!=None):\n",
    "        \n",
    "        selected_stock_ticker = sel_stock.split(' ')[0]\n",
    "        cluster_list = df_X.index[np.argwhere(kmeans_pred==kmeans_pred[np.argwhere(df_X.index == selected_stock_ticker)][0])].reshape(-1)\n",
    "\n",
    "        if hide_uns:\n",
    "            fig = px.scatter(None)\n",
    "        else:\n",
    "            fig = px.scatter(df_rolling_1y.loc[~(df_rolling_1y.ticker_name.isin(stocks) | df_rolling_1y['index'].isin(cluster_list))], \n",
    "                             y=\"mean_return\", x=\"ann_vol\", hover_name=\"ticker_name\", \n",
    "                             log_x=False,\n",
    "                             width=1000,\n",
    "                             height=600\n",
    "                            )\n",
    "    else:\n",
    "        if hide_uns:\n",
    "            fig = px.scatter(None)\n",
    "        else:\n",
    "            fig = px.scatter(df_rolling_1y.loc[~df_rolling_1y.ticker_name.isin(stocks)], \n",
    "                         y=\"mean_return\", x=\"ann_vol\", hover_name=\"ticker_name\", \n",
    "                         log_x=False,\n",
    "                         width=1000,\n",
    "                         height=600\n",
    "                        )\n",
    "        \n",
    "\n",
    "    fig = go.Figure(fig)\n",
    "    fig.update_traces(hovertemplate=\"<b>%{hovertext}</b><br><br>mean_return=%{y:.2%}<br>ann_vol=%{x:.2%}<extra></extra>\",\n",
    "                      marker=dict(\n",
    "                          color='#005b96',\n",
    "                          size=4\n",
    "                      )\n",
    "                     )\n",
    "\n",
    "    # Multi-select points highlight \n",
    "    # -----------------------------\n",
    "    fig.add_trace(go.Scatter(\n",
    "                                y=df_rolling_1y.loc[df_rolling_1y.ticker_name.isin(stocks),'mean_return'],\n",
    "                                x=df_rolling_1y.loc[df_rolling_1y.ticker_name.isin(stocks),'ann_vol'],\n",
    "                                name='',\n",
    "                                showlegend = False,\n",
    "                                hovertemplate= \"<b>%{hovertext}</b><br><br>mean_return=%{y:.1%}<br>ann_vol=%{x:.1%}<extra></extra>\",\n",
    "                                hovertext=df_rolling_1y.loc[df_rolling_1y.ticker_name.isin(stocks),'ticker_name'],\n",
    "                                texttemplate=\"<b>%{hovertext}</b>\",\n",
    "                                textposition='bottom right',\n",
    "                                textfont= {'color': '#8b9dc3'},\n",
    "                                marker=dict(\n",
    "                                    color='red',\n",
    "                                    symbol='diamond',\n",
    "                                    size=5\n",
    "                                ),\n",
    "                                mode='markers+text'\n",
    "                               )\n",
    "                          )               \n",
    "    \n",
    "    \n",
    "    if (sel_stock=='') or (sel_stock==None):\n",
    "        pass\n",
    "    else:\n",
    "        selected_stock_ticker=sel_stock.split(' ')[0]\n",
    "        if show==['show']:\n",
    "        \n",
    "            # Historical path\n",
    "            # ---------------\n",
    "            \n",
    "            fig.add_trace(dict(\n",
    "                                        mode=\"markers\",\n",
    "                                        y= list(df_weekly_return_rolling_1y_mean.loc[:, selected_stock_ticker])[-n_weeks:],\n",
    "                                        x= list(df_weekly_return_rolling_1y_volann.loc[:, selected_stock_ticker])[-n_weeks:],\n",
    "                                        text= list(df_weekly_return_rolling_1y_mean.index)[-n_weeks:],\n",
    "                                        name=selected_stock_ticker,\n",
    "                                        showlegend=False,\n",
    "                                        hovertemplate= \"<b>\" + selected_stock_ticker+ \"<br>%{hovertext}</b><br><br>mean_return=%{y:.2%}<br>ann_vol=%{x:.2%}<extra></extra>\",\n",
    "                                        hovertext=list(df_weekly_return_rolling_1y_mean.index)[-n_weeks:],\n",
    "                                        line=dict(\n",
    "                                            color='red',\n",
    "                                            dash='solid',\n",
    "                                        ),\n",
    "                                        marker=dict(\n",
    "                                            symbol='diamond',\n",
    "                                            color=np.linspace(0,1,n_weeks),\n",
    "                                            colorscale='Agsunset_r',\n",
    "                                            size=5\n",
    "                                        ),\n",
    "                                        textposition='bottom right',\n",
    "\n",
    "                                   )\n",
    "                              )\n",
    "        \n",
    "        \n",
    "        if show_cluster==['show_cluster']:\n",
    "            \n",
    "            # cluster_list defined in main trace above            \n",
    "            fig.add_trace(go.Scatter(\n",
    "                                y=df_rolling_1y.loc[df_rolling_1y['index'].isin(cluster_list),'mean_return'],\n",
    "                                x=df_rolling_1y.loc[df_rolling_1y['index'].isin(cluster_list),'ann_vol'],\n",
    "                                name='',\n",
    "                                showlegend = False,\n",
    "                                hovertemplate= \"<b>%{hovertext}</b><br><br>mean_return=%{y:.1%}<br>ann_vol=%{x:.1%}<extra></extra>\",\n",
    "                                hovertext=df_rolling_1y.loc[df_rolling_1y['index'].isin(cluster_list),'ticker_name'],\n",
    "                                texttemplate=\"<b>%{hovertext}</b>\",\n",
    "                                textposition='bottom right',\n",
    "                                textfont= {'color': '#8b9dc3'},\n",
    "                                marker=dict(\n",
    "                                    color='#2ab7ca',\n",
    "                                    symbol='hexagram',\n",
    "                                    size=5\n",
    "                                ),\n",
    "                                mode='markers+text'\n",
    "                               )\n",
    "                          )               \n",
    "        \n",
    "            \n",
    "    \n",
    "    fig.update_yaxes(title='Return (Mean)', tickformat='.1%',\n",
    "                     showline=True, linecolor='black',\n",
    "                     showgrid=True, gridcolor='#f7f7f7', gridwidth=0.2,\n",
    "                     zeroline=True, zerolinecolor='#dfe3ee', autorange=True) # y=0 line\n",
    "    fig.update_xaxes(title='Risk (Stdev)', tickformat='.0%',\n",
    "                     showline=True, linecolor='black', # axis line\n",
    "                     showgrid=True, gridwidth=0.2, gridcolor='#f7f7f7', autorange=True# grid lines\n",
    "                    )\n",
    "    fig.update_layout(title='1y Rolling Weekly Return / Risk', transition_duration=500, \n",
    "                      paper_bgcolor='white',\n",
    "                      plot_bgcolor='white',\n",
    "                      width=1000\n",
    "                     )     \n",
    "    return fig\n",
    "\n",
    "\n",
    "###########################\n",
    "# CHART Price, Volatility # \n",
    "###########################\n",
    "@app.callback(\n",
    "    Output('stock_price', 'figure'),\n",
    "    Input('select_stock', 'value'))\n",
    "def update_stock_price_fig(sel_stock):\n",
    "    if (sel_stock=='') or (sel_stock==None):\n",
    "        df_empty = pd.DataFrame(np.zeros((df_2y.shape[0], 1)), index= df_2y.index).reset_index().rename({0: 'Price'}, axis=1)\n",
    "        fig_px=px.scatter(df_empty, x='Date', y='Price', log_x=False)\n",
    "        fig_px.update_yaxes(title='Price',\n",
    "                         showline=True, linecolor='black',\n",
    "                         showgrid=False, gridcolor='#f7f7f7', gridwidth=0.2,\n",
    "                         zeroline=True, zerolinecolor='black') # y=0 line\n",
    "        fig_px.update_xaxes(\n",
    "                        title='Date', tickformat='%d-%b-%Y', ticklen=3,\n",
    "                         showline=True, linecolor='black', # axis line\n",
    "                         showgrid=False, gridwidth=0.2, gridcolor='#f7f7f7',\n",
    "                            rangeslider_thickness = 0.1)\n",
    "        fig_px.update_layout(title='Stock Price', transition_duration=500, \n",
    "                             paper_bgcolor='white',\n",
    "                             plot_bgcolor='white')\n",
    "        return fig_px\n",
    "    else:\n",
    "        \n",
    "    # Price chart\n",
    "        stk=sel_stock.split(' ')[0]\n",
    "        fig_px = make_subplots(rows=2, cols=1, shared_xaxes=True, vertical_spacing = 0.3,\n",
    "                              subplot_titles=['Price','Volatility'],\n",
    "                              row_heights=[800, 200],\n",
    "                              column_widths=[1000])\n",
    "        \n",
    "        fig_px.add_trace(go.Candlestick(x=df_5y.index,\n",
    "                                        open=df_5y[('Open',stk)],\n",
    "                                        high=df_5y[('High',stk)],\n",
    "                                        low=df_5y[('Low',stk)],\n",
    "                                        close=df_5y[('Close',stk)], \n",
    "                                        xaxis='x', yaxis='y', visible=True, name='Price', \n",
    "                                        ),\n",
    "                           row=1, col=1)\n",
    "    # Add range slider\n",
    "        fig_px.update_layout(\n",
    "            xaxis=dict(\n",
    "                rangeselector=dict(\n",
    "                    buttons=list([\n",
    "                        dict(count=1,\n",
    "                             label=\"1m\",\n",
    "                             step=\"month\",\n",
    "                             stepmode=\"backward\"),\n",
    "                        dict(count=6,\n",
    "                             label=\"6m\",\n",
    "                             step=\"month\",\n",
    "                             stepmode=\"backward\"),\n",
    "                        dict(count=1,\n",
    "                             label=\"YTD\",\n",
    "                             step=\"year\",\n",
    "                             stepmode=\"todate\"),\n",
    "                        dict(count=1,\n",
    "                             label=\"1y\",\n",
    "                             step=\"year\",\n",
    "                             stepmode=\"backward\"),\n",
    "                        dict(step=\"all\")\n",
    "                    ][::-1]) #reverse\n",
    "                ),\n",
    "                rangeslider=dict(\n",
    "                    autorange=True,\n",
    "                    visible=True,\n",
    "                    range= [df_5y.index.min(), df_5y.index.max()]\n",
    "                ),\n",
    "                type=\"date\"\n",
    "            ),\n",
    "            yaxis=dict(\n",
    "                anchor='x',\n",
    "                autorange=True,\n",
    "                side='left',\n",
    "                title='Price'\n",
    "                ),\n",
    "            yaxis2=dict(\n",
    "                anchor='x',\n",
    "                autorange=True,\n",
    "                side='left',\n",
    "                title='Volatility',\n",
    "                tickformat='.0%'),\n",
    "        )        \n",
    "\n",
    "        fig_px.update_xaxes(row=1,col=1,\n",
    "                        title='', tickformat='%d-%b-%Y', ticklen=3, showticklabels=True,\n",
    "                         showline=True, linecolor='black', # axis line\n",
    "                         showgrid=False, gridwidth=0.2, gridcolor='#f7f7f7',\n",
    "                        rangeslider_thickness = 0.1)\n",
    "        \n",
    "        fig_px.update_yaxes(row=1,col=1,\n",
    "                         showline=True, linecolor='black',\n",
    "                         showgrid=True, gridcolor='#f7f7f7', gridwidth=0.2,\n",
    "                         zeroline=True, zerolinecolor='black') # y=0 line\n",
    "    \n",
    "    # Volatility Chart\n",
    "        fig_px.add_trace(go.Scatter(x=df_weekly_return_rolling_3m_volann.index,\n",
    "                                    y=df_weekly_return_rolling_3m_volann[stk],\n",
    "                                    yaxis='y2',\n",
    "                                    name='Volatility',\n",
    "                                    marker=dict(color='#2ab7ca')\n",
    "                                    ),\n",
    "                        row=2,col=1\n",
    "                        )        \n",
    "        \n",
    "\n",
    "        fig_px.update_layout(title=f'{sel_stock}', transition_duration=500, \n",
    "                            paper_bgcolor='white',\n",
    "                            plot_bgcolor='white',\n",
    "                             hovermode=\"x unified\",\n",
    "                             showlegend=False,\n",
    "                             width=1000,\n",
    "                             height=1000\n",
    "                            )\n",
    "\n",
    "        fig_px.update_xaxes(row=2,col=1,\n",
    "                            title='', tickformat='%d-%b-%Y', ticks='outside', tickson='boundaries', ticklen=3,\n",
    "                         showline=True, linecolor='black', # axis line\n",
    "                         showgrid=False, gridwidth=0.3, gridcolor='#f7f7f7') # grid lines\n",
    "\n",
    "        fig_px.update_yaxes(row=2,col=1,\n",
    "                         showline=True, linecolor='black',\n",
    "                         showgrid=True, gridcolor='#f7f7f7', gridwidth=0.2,\n",
    "                         zeroline=True, zerolinecolor='black') # y=0 line\n",
    "        \n",
    "        return fig_px\n",
    "    \n",
    "    \n",
    "    "
   ]
  },
  {
   "cell_type": "code",
   "execution_count": 398,
   "id": "7048c59e-b930-4624-91d5-724e8dfd27d2",
   "metadata": {},
   "outputs": [],
   "source": [
    "app.run_server('jupyterlab', debug=True, host='127.0.0.1', port=8051)"
   ]
  },
  {
   "cell_type": "code",
   "execution_count": 114,
   "id": "9a1c33e4-36ad-4457-a6d1-b94b2e374286",
   "metadata": {},
   "outputs": [
    {
     "data": {
      "application/vnd.plotly.v1+json": {
       "config": {
        "plotlyServerURL": "https://plot.ly"
       },
       "data": [
        {
         "close": [
          17.24619483947754,
          17.287004470825195,
          17.197223663330078,
          17.50737762451172,
          17.540023803710938,
          17.303329467773438,
          17.360462188720703,
          17.14825439453125,
          16.756479263305664,
          16.79728889465332,
          16.79728889465332,
          16.96868896484375,
          16.976850509643555,
          16.81361198425293,
          16.895231246948242,
          17.15641212463379,
          17.09111976623535,
          16.84626007080078,
          16.780961990356445,
          16.70750617980957,
          16.756479263305664,
          16.838096618652344,
          16.878908157348633,
          16.67486000061035,
          16.772802352905273,
          16.617725372314453,
          16.128007888793945,
          15.91579818725586,
          15.670938491821289,
          15.393433570861816,
          15.52402400970459,
          15.417920112609863,
          15.075117111206055,
          15.197546005249023,
          15.238356590270996,
          15.703584671020508,
          15.834177017211914,
          15.785207748413086,
          15.695425987243652,
          15.621965408325195,
          15.540348052978516,
          15.646453857421875,
          15.56483268737793,
          15.695425987243652,
          15.6627779006958,
          16.731990814208984,
          16.772802352905273,
          17.35230255126953,
          17.213546752929688,
          17.099279403686523,
          17.221712112426758,
          17.033987045288086,
          17.033987045288086,
          17.033987045288086,
          17.033987045288086,
          17.711427688598633,
          17.956287384033203,
          17.425758361816406,
          17.172740936279297,
          17.09111976623535,
          17.123764038085938,
          17.16457748413086,
          17.172740936279297,
          17.858339309692383,
          19.645809173583984,
          21.612836837768555,
          20.84561538696289,
          20.404869079589844,
          20.535459518432617,
          20.380380630493164,
          20.053905487060547,
          19.47440528869629,
          20.029420852661133,
          19.76823616027832,
          20.127363204956055,
          19.939638137817383,
          20.20081901550293,
          20.780317306518555,
          19.939638137817383,
          20.070228576660156,
          20.070228576660156,
          20.64972496032715,
          20.519136428833008,
          20.690536499023438,
          20.22530746459961,
          19.425434112548828,
          18.984689712524414,
          19.115280151367188,
          18.772478103637695,
          19.28668212890625,
          19.07447052001953,
          19.115280151367188,
          19.24587059020996,
          18.862262725830078,
          18.641887664794922,
          18.53577995300293,
          18.584753036499023,
          18.731670379638672,
          18.60923957824707,
          17.97260856628418,
          17.915475845336914,
          17.97260856628418,
          17.842018127441406,
          17.890989303588867,
          18.625564575195312,
          18.462326049804688,
          18.943880081176758,
          18.968366622924805,
          18.845935821533203,
          18.935718536376953,
          19.596837997436523,
          19.714990615844727,
          19.61371612548828,
          19.605276107788086,
          19.30988883972168,
          19.377405166625977,
          20.052576065063477,
          20.086334228515625,
          21.917736053466797,
          21.765823364257812,
          21.335403442382812,
          21.31852149963379,
          21.74050521850586,
          23.2596378326416,
          24.72813606262207,
          23.66474151611328,
          24.280834197998047,
          24.2470760345459,
          23.968568801879883,
          23.470630645751953,
          22.04433250427246,
          22.5844669342041,
          22.65198516845703,
          22.289081573486328,
          22.1540470123291,
          22.339717864990234,
          22.440994262695312,
          22.677305221557617,
          22.871416091918945,
          22.727943420410156,
          22.20468521118164,
          22.12028694152832,
          22.305959701538086,
          21.985254287719727,
          22.07809066772461,
          21.88397979736328,
          22.787017822265625,
          23.14992332458496,
          23.23432159423828,
          23.209001541137695,
          24.458065032958984,
          24.441186904907227,
          24.60154151916504,
          24.8547306060791,
          23.791336059570312,
          23.175241470336914,
          23.5043888092041,
          23.327157974243164,
          23.352474212646484,
          23.21744155883789,
          22.837656021118164,
          24.052963256835938,
          24.00232696533203,
          24.42430877685547,
          24.390548706054688,
          24.390548706054688,
          26.829605102539062,
          27.428817749023438,
          26.416061401367188,
          26.838043212890625,
          26.601734161376953,
          25.951881408691406,
          28.542848587036133,
          26.348546981811523,
          25.93500328063965,
          26.036279678344727,
          26.188194274902344,
          25.968761444091797,
          25.276714324951172,
          25.166996002197266,
          25.25983238220215,
          24.95600700378418,
          25.268272399902344,
          25.411746978759766,
          24.567781448364258,
          24.01920509338379,
          24.6099796295166,
          24.137359619140625,
          25.082599639892578,
          25.192317962646484,
          25.63117790222168,
          25.74089241027832,
          25.985641479492188,
          25.909685134887695,
          26.213512420654297,
          27.47945785522461,
          27.28534507751465,
          27.952075958251953,
          29.33617401123047,
          30.374256134033203,
          30.247657775878906,
          30.104183197021484,
          29.64844512939453,
          30.00290870666504,
          31.302610397338867,
          33.92734146118164,
          33.56443405151367,
          33.55599594116211,
          33.269046783447266,
          33.361881256103516,
          34.58563232421875,
          34.71222686767578,
          33.92734146118164,
          33.79230499267578,
          32.55167770385742,
          30.686521530151367,
          31.699277877807617,
          31.648637771606445,
          31.547359466552734,
          31.218217849731445,
          30.23077964782715,
          27.833921432495117,
          27.63981056213379,
          26.390745162963867,
          26.922439575195312,
          27.62293243408203,
          27.994272232055664,
          28.44157600402832,
          29.302417755126953,
          28.8466796875,
          27.766407012939453,
          27.597614288330078,
          27.352861404418945,
          27.243144989013672,
          27.158750534057617,
          28.416255950927734,
          27.766407012939453,
          28.39093780517578,
          28.239023208618164,
          27.530094146728516,
          27.41193962097168,
          27.597614288330078,
          27.563852310180664,
          27.538536071777344,
          26.652372360229492,
          26.44982147216797,
          26.719890594482422,
          26.314786911010742,
          26.22195053100586,
          25.5974178314209,
          26.17975425720215,
          26.441381454467773,
          28.82979965209961,
          28.095552444458008,
          28.26434326171875,
          28.39093780517578,
          27.682008743286133,
          26.68613052368164,
          27.158750534057617,
          27.521656036376953,
          26.88024139404297,
          26.373865127563477,
          25.344228744506836,
          25.251392364501953,
          25.352670669555664,
          25.51302146911621,
          25.44550323486328,
          25.242952346801758,
          26.103797912597656,
          25.42018699645996,
          24.052963256835938,
          23.968568801879883,
          23.360916137695312,
          23.06552505493164,
          22.711061477661133,
          23.107723236083984,
          24.21331787109375,
          23.79977798461914,
          23.690061569213867,
          23.580345153808594,
          23.580345153808594,
          23.419992446899414,
          22.981128692626953,
          22.609786987304688,
          22.913612365722656,
          22.84609603881836,
          22.55070686340332,
          22.618227005004883,
          22.49163246154785,
          22.272199630737305,
          22.365036010742188,
          21.605470657348633,
          20.795263290405273,
          21.597028732299805,
          21.943058013916016,
          23.040206909179688,
          23.2005615234375,
          22.778579711914062,
          23.11616325378418,
          22.542268753051758,
          23.048646926879883,
          23.386232376098633,
          23.327157974243164,
          23.099285125732422,
          23.622541427612305,
          22.871416091918945,
          22.753259658813477,
          23.403112411499023,
          23.71537971496582,
          22.356597900390625,
          21.554832458496094,
          20.440799713134766,
          20.153852462768555,
          20.761507034301758,
          19.242372512817383,
          19.765626907348633,
          19.411163330078125,
          19.45336151123047,
          19.588396072387695,
          20.263568878173828,
          20.381723403930664,
          19.807825088500977,
          20.1285343170166,
          20.018817901611328,
          19.537757873535156,
          19.394285202026367,
          18.963863372802734,
          19.141098022460938,
          19.52931785583496,
          20.04413604736328,
          20.575834274291992,
          20.40704345703125,
          20.0103759765625,
          19.681232452392578,
          19.563077926635742,
          19.681232452392578,
          18.862586975097656,
          18.043941497802734,
          17.790754318237305,
          17.605083465576172,
          18.449045181274414,
          18.145217895507812,
          18.972301483154297,
          19.563077926635742,
          19.444923400878906,
          18.83726692199707,
          18.820388793945312,
          19.174854278564453,
          19.149538040161133,
          19.706552505493164,
          20.179170608520508,
          20.187610626220703,
          20.012218475341797,
          19.977142333984375,
          20.96810531616211,
          20.941797256469727,
          20.96810531616211,
          20.608552932739258,
          21.090879440307617,
          20.65239906311035,
          21.42412567138672,
          20.529626846313477,
          20.003448486328125,
          20.354232788085938,
          20.57347297668457,
          20.468238830566406,
          20.064836502075195,
          20.257766723632812,
          20.450698852539062,
          20.02098846435547,
          20.17007064819336,
          21.19611358642578,
          21.055803298950195,
          22.625558853149414,
          21.60828399658203,
          21.63459587097168,
          21.44166374206543,
          21.31011962890625,
          19.336957931518555,
          19.135257720947266,
          19.07387351989746,
          18.354766845703125,
          19.117719650268555,
          18.828323364257812,
          18.424922943115234,
          18.60908317565918,
          18.056598663330078,
          18.907249450683594,
          20.012218475341797,
          19.4158878326416,
          19.801748275756836,
          20.599782943725586,
          20.880407333374023,
          19.994680404663086,
          20.775175094604492,
          21.24873161315918,
          21.415353775024414,
          21.590747833251953,
          21.082109451293945,
          21.1698055267334,
          20.915489196777344,
          21.03826141357422,
          20.65239906311035,
          20.941797256469727,
          20.994413375854492,
          21.17857551574707,
          21.38027572631836,
          21.731060028076172,
          22.774641036987305,
          22.494014739990234,
          22.827260971069336,
          22.47647476196289,
          21.83629608154297,
          22.090614318847656,
          21.880146026611328,
          22.695714950561523,
          22.17831039428711,
          22.30985450744629,
          22.564170837402344,
          22.037994384765625,
          22.187076568603516,
          22.011688232421875,
          22.222158432006836,
          21.923992156982422,
          22.774641036987305,
          23.107887268066406,
          23.765607833862305,
          23.2043514251709,
          23.256969451904297,
          22.362472534179688,
          22.25723648071289,
          22.187076568603516,
          21.266271591186523,
          20.941797256469727,
          21.020721435546875,
          20.871639251708984,
          20.55593490600586,
          20.889179229736328,
          20.959335327148438,
          21.10841941833496,
          21.86260414123535,
          21.96784019470215,
          21.923992156982422,
          22.213388442993164,
          22.020456314086914,
          22.187076568603516,
          21.941530227661133,
          22.06430435180664,
          22.292314529418945,
          21.897680282592773,
          22.590482711791992,
          22.494014739990234,
          22.27477264404297,
          22.19584846496582,
          22.283544540405273,
          22.888647079467773,
          22.853567123413086,
          23.572675704956055,
          23.862071990966797,
          24.335630416870117,
          24.27424430847168,
          24.265472412109375,
          24.02869415283203,
          24.35317039489746,
          24.063772201538086,
          23.283279418945312,
          23.853303909301758,
          23.704221725463867,
          24.23039436340332,
          23.634061813354492,
          23.651601791381836,
          24.89688491821289,
          24.370708465576172,
          24.563640594482422,
          24.546098709106445,
          25.02842903137207,
          26.04570198059082,
          26.25617218017578,
          25.85276985168457,
          25.054737091064453,
          24.02869415283203,
          24.07254409790039,
          24.07254409790039,
          24.388248443603516,
          24.08131217956543,
          24.61625862121582,
          25.756305694580078,
          25.563373565673828,
          25.89661979675293,
          25.914155960083008,
          25.598453521728516,
          24.6951847076416,
          24.80919075012207,
          25.387983322143555,
          25.256437301635742,
          26.940200805664062,
          28.124095916748047,
          28.053939819335938,
          28.492422103881836,
          28.255640029907227,
          27.65930938720703,
          29.360610961914062,
          28.73796844482422,
          27.922393798828125,
          27.26467514038086,
          27.133132934570312,
          27.74700355529785,
          27.168210983276367,
          26.92266273498535,
          27.606689453125,
          25.879079818725586,
          25.879079818725586,
          25.958005905151367,
          25.77384376525879,
          25.50198745727539,
          null,
          23.765607833862305,
          24.537330627441406,
          24.01992416381836,
          23.695449829101562,
          24.581180572509766,
          24.598716735839844,
          24.204086303710938,
          24.572410583496094,
          24.668874740600586,
          23.99361801147461,
          23.905921936035156,
          24.133930206298828,
          23.99361801147461,
          23.43235969543457,
          23.520057678222656,
          23.67790985107422,
          24.22162628173828,
          23.81822395324707,
          23.60775375366211,
          23.414825439453125,
          23.186813354492188,
          23.064037322998047,
          23.704221725463867,
          23.783145904541016,
          24.388248443603516,
          24.844266891479492,
          24.55487060546875,
          24.405786514282227,
          24.49348258972168,
          24.47594451904297,
          24.29178237915039,
          24.318090438842773,
          24.949501037597656,
          24.82672691345215,
          24.668874740600586,
          24.449634552001953,
          24.370708465576172,
          24.4145565032959,
          24.388248443603516,
          25.098587036132812,
          25.309057235717773,
          25.580913543701172,
          25.914155960083008,
          25.826461791992188,
          25.563373565673828,
          25.563373565673828,
          25.580913543701172,
          25.615989685058594,
          26.001853942871094,
          26.30879020690918,
          26.361406326293945,
          26.422792434692383,
          26.38771629333496,
          26.931428909301758,
          27.27344512939453,
          26.30879020690918,
          26.28247833251953,
          26.37894630432129,
          26.273710250854492,
          26.04570198059082,
          26.150936126708984,
          25.221359252929688,
          24.923194885253906,
          24.563640594482422,
          23.68667984008789,
          23.695449829101562,
          23.99361801147461,
          24.247934341430664,
          23.93222999572754,
          24.35317039489746,
          23.96730613708496,
          23.791915893554688,
          24.02459144592285,
          23.969867706298828,
          24.51712417602539,
          24.781631469726562,
          24.98229217529297,
          24.772510528564453,
          24.590091705322266,
          24.124923706054688,
          24.188770294189453,
          24.21613311767578,
          23.687116622924805,
          23.532060623168945,
          23.614151000976562,
          23.440853118896484,
          24.352949142456055,
          24.352949142456055,
          24.526243209838867,
          24.69042205810547,
          24.845478057861328,
          24.54448699951172,
          25.338010787963867,
          24.818115234375,
          24.462398529052734,
          24.571849822998047,
          24.380308151245117,
          24.444156646728516,
          23.851295471191406,
          23.833051681518555,
          23.732723236083984,
          23.915142059326172,
          23.714481353759766,
          23.62327003479004,
          24.042835235595703,
          24.444156646728516,
          24.279979705810547,
          24.453277587890625,
          24.736026763916016,
          24.416793823242188,
          24.69042205810547,
          24.945810317993164,
          24.590091705322266,
          25.210317611694336,
          24.954931259155273,
          24.425914764404297,
          24.316463470458984,
          24.599212646484375,
          24.51712417602539,
          24.325584411621094,
          24.307342529296875,
          24.197891235351562,
          24.471519470214844,
          24.498882293701172,
          24.51712417602539,
          24.307342529296875,
          24.234375,
          24.38943099975586,
          24.061077117919922,
          23.969867706298828,
          23.887779235839844,
          24.0701961517334,
          24.161407470703125,
          24.09756088256836,
          24.371187210083008,
          24.307342529296875,
          24.39855194091797,
          24.635696411132812,
          26.131532669067383,
          25.8579044342041,
          25.538671493530273,
          25.356250762939453,
          25.265043258666992,
          25.584274291992188,
          25.538671493530273,
          25.338010787963867,
          25.356250762939453,
          25.410978317260742,
          25.693727493286133,
          25.44746208190918,
          25.538671493530273,
          25.538671493530273,
          25.67548370361328,
          26.861209869384766,
          27.773305892944336,
          27.645610809326172,
          28.30232048034668,
          28.89518165588379,
          28.284076690673828,
          27.709457397460938,
          27.627370834350586,
          28.384408950805664,
          28.27495765686035,
          28.794851303100586,
          29.35123062133789,
          29.697826385498047,
          29.23265838623047,
          28.74012565612793,
          28.968151092529297,
          28.89518165588379,
          29.36947250366211,
          28.69451904296875,
          28.89518165588379,
          28.630674362182617,
          27.80978775024414,
          27.84627342224121,
          27.782424926757812,
          27.24428939819336,
          26.642305374145508,
          27.463193893432617,
          26.4416446685791,
          24.289098739624023,
          25.192075729370117,
          25.210317611694336,
          25.44746208190918,
          25.082622528076172,
          26.1497745513916,
          26.52373504638672,
          26.52373504638672,
          27.317258834838867,
          28.09253692626953,
          27.745941162109375,
          27.0892333984375,
          27.043628692626953,
          27.226049423217773,
          26.678789138793945,
          26.359556198120117,
          26.751758575439453,
          27.463193893432617,
          27.061870574951172,
          26.988903045654297,
          28.39352798461914,
          28.366167068481445,
          29.424196243286133,
          29.46068000793457,
          28.39352798461914,
          27.87363624572754,
          28.13814353942871,
          27.709457397460938,
          27.280773162841797,
          26.81560516357422,
          25.939992904663086,
          25.639001846313477,
          23.988107681274414,
          23.05777359008789,
          23.532060623168945,
          22.364578247070312,
          22.69293212890625,
          24.188770294189453,
          23.90601921081543,
          24.234375,
          23.750965118408203,
          23.377004623413086,
          24.1705265045166,
          24.508005142211914,
          24.425914764404297,
          24.672178268432617,
          24.54448699951172,
          24.343826293945312,
          24.51712417602539,
          24.653940200805664,
          24.918447494506836,
          24.352949142456055,
          24.234375,
          24.36206817626953,
          24.188770294189453,
          23.741844177246094,
          23.823932647705078,
          23.723600387573242,
          23.413488388061523,
          23.568544387817383,
          24.061077117919922,
          24.416793823242188,
          24.453277587890625,
          24.015472412109375,
          23.705360412597656,
          23.969867706298828,
          24.08843994140625,
          23.650634765625,
          23.614151000976562,
          23.258434295654297,
          23.249311447143555,
          23.90601921081543,
          23.823932647705078,
          23.367883682250977,
          23.33139991760254,
          22.957441329956055,
          23.1945858001709,
          23.550302505493164,
          23.62327003479004,
          23.833051681518555,
          23.46821403503418,
          24.08843994140625,
          24.754268646240234,
          24.471519470214844,
          24.380308151245117,
          24.10668182373047,
          24.261737823486328,
          24.09756088256836,
          23.90601921081543,
          23.650634765625,
          23.513818740844727,
          23.386125564575195,
          23.550302505493164,
          23.413488388061523,
          23.614151000976562,
          23.687116622924805,
          23.431730270385742,
          23.30403709411621,
          24.079317092895508,
          23.641511917114258,
          23.860416412353516,
          25.493066787719727,
          25.87614631652832,
          26.131532669067383,
          28.29319953918457,
          27.66385269165039,
          27.818910598754883,
          27.937480926513672,
          26.605823516845703,
          26.614944458007812,
          26.396041870117188,
          25.803180694580078,
          25.119108200073242,
          24.83635711669922,
          25.812299728393555,
          25.547792434692383,
          25.438339233398438,
          25.100866317749023,
          24.653940200805664,
          24.371187210083008,
          24.508005142211914,
          24.726905822753906,
          24.54448699951172,
          24.480640411376953,
          24.86372184753418,
          25.31064796447754,
          24.945810317993164,
          24.954931259155273,
          24.653940200805664,
          25.365373611450195,
          25.429218292236328,
          26.18625831604004,
          26.095048904418945,
          26.158044815063477,
          26.678178787231445,
          26.195873260498047,
          25.94999122619629,
          25.978361129760742,
          25.87433624267578,
          25.685195922851562,
          25.71356773376465,
          25.609539031982422,
          25.48659896850586,
          26.063474655151367,
          25.723024368286133,
          25.7419376373291,
          26.035104751586914,
          26.29990005493164,
          26.5457820892334,
          26.89569091796875,
          26.7443790435791,
          26.460668563842773,
          26.905147552490234,
          26.470125198364258,
          26.186416625976562,
          26.366098403930664,
          26.659265518188477,
          26.574153900146484,
          27.680622100830078,
          27.557680130004883,
          27.387453079223633,
          27.113201141357422,
          26.574153900146484,
          26.12021827697754,
          26.867319107055664,
          26.810577392578125,
          26.479583740234375,
          26.498497009277344,
          26.791664123535156,
          26.460668563842773,
          26.2431583404541,
          26.214786529541016,
          26.328271865844727,
          26.233701705932617,
          25.968904495239258,
          26.101303100585938,
          26.460668563842773,
          26.403926849365234,
          26.470125198364258,
          26.006732940673828,
          25.496055603027344,
          25.978361129760742,
          25.997276306152344,
          26.43229866027832,
          26.50795555114746,
          26.630895614624023,
          27.661706924438477,
          27.86030387878418,
          27.964330673217773,
          27.737363815307617,
          28.153470993041992,
          28.144014358520508,
          27.472566604614258,
          27.614423751831055,
          28.323698043823242,
          29.08971405029297,
          29.2315673828125,
          29.193740844726562,
          29.354509353637695,
          29.174827575683594,
          29.127540588378906,
          29.259939193725586,
          29.893558502197266,
          29.03297233581543,
          29.08025550842285,
          29.439620971679688,
          29.222110748291016,
          28.370981216430664,
          27.813018798828125,
          27.595508575439453,
          27.103744506835938,
          27.02808952331543,
          26.91460418701172,
          27.349626541137695,
          26.999717712402344,
          27.0470027923584,
          27.273971557617188,
          26.95243263244629,
          26.640352249145508,
          26.526866912841797,
          26.31881332397461,
          26.422842025756836,
          26.574153900146484,
          26.87677764892578,
          26.97134780883789,
          26.838947296142578,
          27.141572952270508,
          26.271530151367188,
          26.39447021484375,
          27.188858032226562,
          27.226686477661133,
          27.7468204498291,
          28.16292953491211,
          28.08727264404297,
          28.276411056518555,
          28.36152458190918,
          28.323698043823242,
          29.562562942504883,
          29.581478118896484,
          28.84383201599121,
          28.465551376342773,
          27.67116355895996,
          27.765735626220703,
          28.08727264404297,
          27.80356216430664,
          26.886234283447266,
          26.280986785888672,
          26.5457820892334,
          26.80112075805664,
          26.403926849365234,
          26.37555503845215,
          27.311798095703125,
          27.5482234954834,
          27.188858032226562,
          27.26451301574707,
          28.38043975830078,
          28.219669342041016,
          28.115642547607422,
          28.38043975830078,
          28.36152458190918,
          31.198623657226562,
          31.302648544311523,
          31.539073944091797,
          31.48233413696289,
          31.68092918395996,
          30.9149112701416,
          29.827360153198242,
          29.505821228027344,
          29.335596084594727,
          29.023515701293945,
          29.45853614807129,
          29.780073165893555,
          29.732789993286133,
          31.11351203918457,
          30.933826446533203,
          30.92437171936035,
          29.505821228027344,
          29.912471771240234,
          29.71387481689453,
          29.08971405029297,
          28.891115188598633,
          29.0518856048584,
          29.316680908203125,
          29.66659164428711,
          28.370981216430664,
          28.21021270751953,
          28.370981216430664,
          27.831933975219727,
          28.08727264404297,
          27.58605194091797,
          27.292884826660156,
          27.037546157836914,
          26.791664123535156,
          27.198314666748047,
          27.06591796875,
          27.30234146118164,
          27.425281524658203,
          27.16994285583496,
          27.094287872314453,
          27.444196701049805,
          26.564695358276367,
          26.195873260498047,
          26.41338348388672,
          26.176959991455078,
          26.37555503845215,
          26.640352249145508,
          26.403926849365234,
          26.479583740234375,
          26.0445613861084,
          26.12021827697754,
          25.562255859375,
          25.420398712158203,
          25.600082397460938,
          25.647367477416992,
          25.808137893676758,
          25.316373825073242,
          25.505512237548828,
          25.127233505249023,
          24.767868041992188,
          25.306915283203125,
          25.70410919189453,
          25.685195922851562,
          25.48659896850586,
          25.25017547607422,
          25.155603408813477,
          25.306915283203125,
          25.221803665161133,
          24.900264739990234,
          24.531442642211914,
          24.644926071166992,
          24.503070831298828,
          24.25718879699707,
          23.916738510131836,
          23.415517807006836,
          23.604656219482422,
          23.642484664916992,
          23.2358341217041,
          22.88592529296875,
          22.914295196533203,
          23.169635772705078,
          23.008865356445312,
          23.179092407226562,
          22.772441864013672,
          22.507644653320312,
          22.517101287841797,
          23.62356948852539,
          22.744070053100586,
          22.526559829711914,
          23.150720596313477,
          22.7346134185791,
          22.744070053100586,
          22.75352668762207,
          22.526559829711914,
          22.545473098754883,
          21.949682235717773,
          22.242849349975586,
          22.64950180053711,
          22.205020904541016,
          21.836198806762695,
          21.495746612548828,
          21.949682235717773,
          21.855113983154297,
          20.20013999938965,
          19.06529998779297,
          19.37738037109375,
          19.481407165527344,
          19.538148880004883,
          19.765117645263672,
          19.74620246887207,
          19.43412208557129,
          19.850229263305664,
          19.95425796508789,
          21.07018280029297,
          20.672988891601562,
          21.855113983154297,
          21.410633087158203,
          21.552490234375,
          21.7132568359375,
          21.86457061767578,
          22.431989669799805,
          21.892940521240234,
          21.51466178894043,
          21.580860137939453,
          21.770000457763672,
          21.239999771118164,
          20.8700008392334,
          20.899999618530273,
          19.43000030517578,
          19.799999237060547,
          20.81999969482422,
          21.200000762939453,
          20.93000030517578,
          20.549999237060547,
          20.59000015258789,
          20.329999923706055,
          20.200000762939453,
          20.399999618530273,
          21.260000228881836,
          20.1299991607666,
          19.579999923706055,
          19.020000457763672,
          19.06999969482422,
          20.079999923706055,
          20.549999237060547,
          20.31999969482422,
          19.809999465942383,
          21.079999923706055,
          21.170000076293945,
          21.309999465942383,
          21.239999771118164,
          22.100000381469727,
          22.299999237060547,
          22.299999237060547,
          21.299999237060547,
          21.09000015258789,
          20.299999237060547,
          20.299999237060547,
          20,
          20.729999542236328,
          21.329999923706055,
          20.59000015258789,
          19.719999313354492,
          19.65999984741211,
          19.1299991607666,
          18.209999084472656,
          18.190000534057617,
          17.639999389648438,
          18.049999237060547,
          18.059999465942383,
          17.81999969482422,
          18.309999465942383,
          18.219999313354492,
          18.979999542236328,
          20.790000915527344,
          19.760000228881836,
          19.399999618530273,
          19.239999771118164,
          19.459999084472656,
          19.09000015258789,
          19.899999618530273,
          19.219999313354492,
          19.239999771118164,
          19.299999237060547,
          19.219999313354492,
          18.989999771118164,
          18.459999084472656,
          18.260000228881836,
          18.469999313354492,
          19.030000686645508,
          19.270000457763672,
          19.489999771118164,
          19.940000534057617,
          19.809999465942383,
          20.399999618530273,
          20.15999984741211,
          19.899999618530273,
          19.5,
          19.610000610351562,
          19.790000915527344,
          19.530000686645508,
          19.559999465942383,
          20.309999465942383,
          19.860000610351562,
          19.649999618530273,
          19.639999389648438,
          19.6200008392334,
          19.68000030517578,
          19.3799991607666,
          19.1200008392334,
          19.760000228881836,
          20.489999771118164,
          21.170000076293945,
          21.049999237060547,
          21.889999389648438,
          22.15999984741211,
          22.299999237060547,
          22.049999237060547,
          21.530000686645508,
          20.700000762939453,
          20.8700008392334,
          21.59000015258789,
          21.899999618530273,
          22.110000610351562,
          21.639999389648438,
          21.700000762939453,
          20.81999969482422,
          20.729999542236328,
          20.440000534057617,
          20.329999923706055,
          20.90999984741211,
          20.8799991607666,
          20.5,
          20.850000381469727,
          21.18000030517578,
          20.239999771118164,
          19.809999465942383,
          20,
          19.799999237060547,
          20.479999542236328,
          20.700000762939453,
          20.639999389648438,
          20.260000228881836,
          19.84000015258789,
          19.530000686645508,
          19.200000762939453,
          19.3799991607666,
          19.31999969482422,
          19.489999771118164,
          18.709999084472656,
          18.540000915527344,
          17.670000076293945,
          16.979999542236328,
          16.770000457763672,
          16.649999618530273,
          16.09000015258789,
          14.800000190734863,
          15.510000228881836,
          16.68000030517578,
          17.450000762939453
         ],
         "high": [
          17.54002545542862,
          17.417595501877663,
          17.278843452198686,
          17.882826453991797,
          17.70326336537129,
          17.629807059156946,
          17.49105322028719,
          17.376789518421447,
          17.189061497004385,
          16.846260146679334,
          17.140090772371472,
          17.017660212116407,
          17.066632432066932,
          16.936040884109776,
          16.895231246948242,
          17.605318564869368,
          17.262519929176342,
          17.07479517383953,
          16.846257501728736,
          16.85442148571923,
          16.82993691747488,
          16.936040671368254,
          16.936041542384643,
          16.88707083526379,
          16.8380978739946,
          16.756478540115882,
          16.593238631114406,
          15.956607303490342,
          15.809691649808116,
          15.711749027009512,
          15.662777174926603,
          15.564835433685332,
          15.47505236885003,
          15.246517251374234,
          15.377109765008777,
          15.834175688747969,
          15.874987686655532,
          15.891312388724868,
          15.76072151045756,
          15.654613942212166,
          15.605643567622634,
          15.66277812650279,
          15.646452468770622,
          15.752559375459812,
          15.760720400233314,
          17.001334994313343,
          16.936041934012604,
          17.613484651980908,
          17.442081834748237,
          17.38494630019793,
          17.35230316741951,
          17.507379991593304,
          17.033987045288086,
          17.033987045288086,
          17.033987045288086,
          18.60924071841373,
          18.331736282086986,
          17.874664855163303,
          17.384950234058465,
          17.28700633392565,
          17.197221683935936,
          17.36046405251064,
          17.491056439716232,
          18.201141145169746,
          19.645809173583984,
          21.612836837768555,
          21.245550641554804,
          21.131281920657493,
          20.74767033748536,
          20.723182458890847,
          20.56810907003379,
          20.34773333491385,
          20.11920122077426,
          20.127362283915478,
          20.478327210392703,
          20.715022221943176,
          20.486487474550483,
          21.792400152777205,
          20.690537375595092,
          20.266115125452256,
          20.070228576660156,
          21.057822303865375,
          21.270035694478388,
          20.927232158712194,
          20.92723392567372,
          20.17633333265297,
          19.37646281148575,
          19.327490962567254,
          19.286680079759485,
          19.458083843669613,
          19.245870657039642,
          19.22138477858329,
          19.686616466904635,
          19.24587372952175,
          18.821449944063197,
          18.813286261519934,
          18.617400013827158,
          18.83777501354535,
          18.764317015816708,
          18.519459104898317,
          18.16033365391851,
          18.103199600272518,
          18.037904684957983,
          17.93179841911461,
          18.731670768070234,
          18.617401932438266,
          19.098957525145938,
          19.017337874146122,
          19.033660229645953,
          19.32749163682858,
          19.931477752210196,
          19.89222220281137,
          19.900663911252426,
          19.774069489469696,
          19.723432471257105,
          19.44492380583477,
          20.162290628807373,
          20.48299817429226,
          22.094969262223117,
          22.179365360693474,
          22.27220207789866,
          21.495753089367305,
          21.98525385572062,
          23.681619659262918,
          25.504582740321766,
          25.09947875511842,
          25.403305769670975,
          24.93912599157697,
          24.525584716119745,
          24.196439961404838,
          22.95581323389804,
          22.97268943137076,
          23.02332963622617,
          22.913614529113367,
          22.618226401075177,
          23.335595257587293,
          22.525390952200823,
          23.014890378037144,
          22.955812782020416,
          23.276519520886655,
          22.761701142336804,
          22.381916837331236,
          22.415674268613806,
          22.424115808966935,
          22.137167870249712,
          22.111850391016905,
          22.955811190768145,
          23.630982350593342,
          23.52970760594902,
          23.86729380071748,
          24.474944691495896,
          24.71125662921084,
          25.774652156121224,
          24.880048485828475,
          24.91380766455893,
          23.858853198056835,
          23.58878549914803,
          23.749139857191025,
          23.45375055872408,
          23.487509685032496,
          23.200560649809677,
          24.052963256835938,
          24.18799839121543,
          24.795651628334877,
          24.981323893878667,
          24.48338522092977,
          26.829605102539062,
          27.918318195734173,
          27.631371108636,
          27.251586814670173,
          27.51321321304931,
          26.458259904466104,
          28.55129002590512,
          28.188389774267396,
          27.03215541146395,
          26.416062366001842,
          26.56797697528649,
          26.331666064822116,
          26.92244263049908,
          25.21763337090817,
          25.2767120415916,
          25.622739116884173,
          25.403306456556855,
          25.63117772923585,
          25.420184896172607,
          24.69437699010354,
          24.685936485944293,
          24.559341425035626,
          25.479263594183454,
          25.487705593613036,
          26.44138226969412,
          25.994080872059996,
          26.238829929851903,
          26.0278395327614,
          26.76208851101924,
          27.842362485612753,
          28.509089737378176,
          28.298100935526396,
          30.28141558353608,
          31.19289876491137,
          30.4755283509625,
          30.973467984650163,
          30.197019592481926,
          30.90594960255635,
          32.070617153014,
          34.34932331214294,
          34.2649221923801,
          34.29868491290436,
          34.6784678058466,
          33.623511140351845,
          35.0329320586698,
          35.649027062403995,
          34.703786521606744,
          34.315561549177474,
          34.231166782937684,
          32.070621522865736,
          31.86806804301647,
          32.1043789281894,
          31.986220913719347,
          32.121258727169796,
          30.467088454937702,
          30.87219257423505,
          28.59349042343803,
          26.973078954255858,
          27.27690436550311,
          28.517535144866283,
          28.120868065112095,
          28.736961997430317,
          29.623121610944057,
          29.336176962159605,
          28.931074600720613,
          28.04491402970801,
          27.926756936353698,
          27.62292926700407,
          27.977396305374484,
          28.45001527126369,
          28.627247153659084,
          28.475336105227207,
          28.618807498404358,
          28.424696800250953,
          27.715767057349485,
          27.80860521833342,
          27.93519515218774,
          28.146187738582018,
          27.496337631286647,
          26.660812389074394,
          27.133434223757448,
          26.905560501213888,
          26.221950531005856,
          25.98564195341683,
          26.89712372132271,
          27.13343300917976,
          29.082988116352293,
          28.68632768042842,
          29.0914272291676,
          28.779160327014463,
          28.652568287025474,
          27.648246931078248,
          27.15875053405762,
          28.053354054613532,
          27.732644836278958,
          27.209390591369708,
          26.356984148896988,
          25.78308875344778,
          25.90124676015814,
          25.76621153706104,
          25.740890828613622,
          25.563659431492585,
          26.24727180826266,
          25.867486720969698,
          25.572097134427167,
          24.2639564193666,
          24.188000200872935,
          23.344032977713052,
          23.259637523019858,
          23.21743940827097,
          24.356791757771763,
          24.05296646137193,
          24.07828572085699,
          23.791336069190514,
          23.875732757289867,
          23.757577601664877,
          23.419990155755368,
          22.972690005128744,
          22.91361236572266,
          22.879855357919983,
          22.829214787642726,
          22.930494289037135,
          22.660425846780605,
          22.711061103690962,
          22.63510411255993,
          22.255323081116565,
          21.276322301076352,
          21.672985585358106,
          22.331280575336464,
          23.107723936520987,
          23.436871934903888,
          23.24276070546023,
          23.327154160765733,
          22.938932706421618,
          23.4031117257472,
          23.48750872414484,
          23.84197638655416,
          23.428430424385002,
          23.88416969794612,
          23.50438885308054,
          23.031769213889675,
          24.052964830086395,
          23.799776404859102,
          23.951688755484668,
          21.993692334418913,
          21.402919401213463,
          20.736187866928688,
          20.761507034301758,
          20.48300023341342,
          19.816264270909436,
          20.04413604736328,
          19.75718894069834,
          19.917542999387546,
          20.297326589525824,
          20.668671195930767,
          19.94285913555877,
          20.44079998068881,
          20.550515921236435,
          19.96817952154957,
          19.647475274763842,
          19.45336224443201,
          19.37740684118118,
          19.824705447869363,
          20.17073026887374,
          21.175049337670956,
          20.744628630526716,
          20.68554781542569,
          20.09477445596028,
          20.001939416850888,
          19.824706340139166,
          19.613714071674625,
          18.854147410534626,
          18.178978448277967,
          17.9933059986192,
          18.449045181274414,
          18.811949930386618,
          19.03137867803763,
          20.314205070083748,
          19.588395677010784,
          19.453359951479957,
          19.056699195987044,
          19.47868171924699,
          19.579959748120302,
          19.78250936645678,
          20.238247806070348,
          20.322644681802146,
          20.301615086137964,
          20.178842661179708,
          21.09964893049916,
          21.169806983070753,
          21.397815348419307,
          21.20488579586666,
          21.362738142919774,
          21.546898306453848,
          21.43289546907934,
          21.2224258257981,
          20.661168202067113,
          20.740095504602902,
          20.915488384091457,
          20.731326062485817,
          20.43315963016987,
          20.58224083299809,
          20.512085760658856,
          20.371771984946964,
          20.257766942066866,
          21.63459338616759,
          21.42412645212333,
          22.800951456497295,
          22.02922587557251,
          22.213389139293753,
          21.73106035467158,
          21.836295773266325,
          20.345462779433777,
          19.398346597901305,
          19.31942283863589,
          18.854633608630657,
          19.249264935554173,
          19.100182064134746,
          19.345729931331054,
          18.819553290993554,
          18.609082486540128,
          19.28434236511856,
          20.398081180625937,
          20.099917022288885,
          20.275307276380413,
          20.608552741356945,
          21.704749814892654,
          21.336429342034364,
          20.941796227936205,
          21.573207414977066,
          22.160769779168934,
          22.143231689937945,
          21.467970468491597,
          21.39781523764892,
          21.485512667713724,
          21.564437528373574,
          21.33642819143205,
          21.011953966757126,
          21.073339873981844,
          21.47674193482325,
          21.39781532091884,
          22.011686839395786,
          22.774641036987305,
          23.17804387073265,
          23.397284426001416,
          22.792180766559426,
          22.494015853111538,
          22.336161953308107,
          22.178312469906327,
          22.695714950561527,
          23.221891175485233,
          22.388781011681058,
          22.853567447869054,
          22.41508728677041,
          22.529091940115993,
          22.336162376294364,
          22.66940806966773,
          22.441398505700636,
          22.783410834025936,
          23.502518109630422,
          24.09008198110748,
          23.774376533079632,
          23.458669762440167,
          23.14296613835419,
          22.87987873835865,
          22.625556355909257,
          22.081844336331038,
          21.117189868522182,
          21.239961339986873,
          21.029492258232462,
          21.538128788858728,
          21.257502360828283,
          21.125958129207532,
          21.485512351726822,
          21.92399104854443,
          22.388782129187618,
          22.099384763305423,
          22.69571559391991,
          22.415087134479712,
          22.3975483384578,
          22.18707785225137,
          22.06430435180664,
          22.362471235014237,
          22.362469465807166,
          22.590482711791992,
          22.757103639199375,
          22.95003191136918,
          22.353701470956803,
          22.397550231434078,
          23.107886990817715,
          23.344665712668064,
          23.57267570495605,
          24.397017928802164,
          24.686413944201355,
          24.747801667804925,
          24.283012005703732,
          24.186547157967123,
          24.537331122395948,
          24.274242307522254,
          24.046235095656314,
          23.853303909301758,
          24.01992608580733,
          24.449634275630764,
          24.204085216994862,
          23.6603715888367,
          25.142434232136992,
          25.300285187673882,
          24.99335063271064,
          25.037195610873926,
          25.02842903137207,
          26.61572541213439,
          26.76480870621699,
          26.484181864602053,
          25.738766224543703,
          24.756570597768878,
          24.10762161562324,
          24.554871257097663,
          24.774111174491267,
          24.695184628957126,
          24.870577738231226,
          25.800153008077835,
          26.484182205474088,
          26.098320120499114,
          26.43156226686423,
          25.782614251606088,
          25.36167427198056,
          25.39675214417185,
          25.475677951722844,
          25.8878493214107,
          26.966510198261815,
          29.027363292449138,
          28.483649859623224,
          28.518729824354935,
          29.044901680789742,
          28.764277123130313,
          29.465845191396927,
          29.115061366056654,
          29.11505939012513,
          27.861007958810717,
          28.06270972589354,
          27.782082745144976,
          27.624230426680917,
          27.045436554429642,
          27.63299884485456,
          27.15944012198831,
          26.089549936823524,
          26.14216662827859,
          26.186015874256857,
          25.765074692515494,
          null,
          24.82672825143147,
          24.695183632209023,
          24.563639880201993,
          24.107620256956,
          24.633797685262337,
          24.62502612666858,
          24.625026527821586,
          24.791650503036205,
          24.72149352503498,
          24.739032420956807,
          24.23916589042884,
          24.370709715562935,
          24.19531834174231,
          23.92345827126178,
          23.72175799742166,
          23.74806655409662,
          24.22162628173828,
          24.04623366290077,
          23.77437655486509,
          23.739299602573414,
          23.69544987888518,
          23.274509103618488,
          23.923461654462233,
          23.932229108566325,
          24.5987185679056,
          24.94950278576629,
          24.809189711048802,
          24.59871703134072,
          24.8091885899218,
          24.73026362895787,
          24.651335693031342,
          24.888113870850294,
          24.949501037597653,
          25.010889307442064,
          24.77411063680155,
          24.774110361740174,
          24.54609938470095,
          24.62502661610579,
          24.519792062208836,
          25.14243435151738,
          25.370444146505065,
          25.861540369409056,
          26.554337750406233,
          26.028162105603634,
          25.879079576195952,
          26.036932581457013,
          25.800153460368936,
          26.08954868251244,
          26.186016343796812,
          26.378946913887557,
          26.65957273789106,
          26.571875635983865,
          26.571877018985468,
          27.168208406225215,
          27.580381337825234,
          27.18574988047282,
          26.571874930559247,
          26.405255696080662,
          26.378946144586937,
          26.405255299226045,
          26.387715630311245,
          25.782612882954663,
          25.212591521023285,
          24.774110714879846,
          24.3443995635061,
          23.97607664574014,
          24.169008948489523,
          24.37947795631463,
          24.42332693844667,
          24.44963482101522,
          24.32685944431203,
          24.326861845100794,
          24.10668016587232,
          24.18877039324464,
          24.590091740192452,
          24.954930078517343,
          25.32888939771445,
          25.12822717217556,
          24.881963701260595,
          24.225253015739582,
          24.608333340863126,
          24.343827661636293,
          24.29822060306169,
          23.915140760740712,
          23.769207299409224,
          23.760085125906436,
          24.39855321895433,
          24.945810835353658,
          24.553606696407524,
          24.954930557637375,
          24.872841545674643,
          24.927567135923614,
          25.365372536511824,
          25.328889915792598,
          24.77251110650175,
          24.82723541390803,
          24.690420707680637,
          24.580972351960398,
          24.161408060786915,
          24.015471454674767,
          23.933383602114564,
          24.07931951858371,
          23.9060205604149,
          23.842172717605365,
          24.44415595793659,
          24.644818753237164,
          24.58097111069034,
          24.489762239537207,
          24.927565953192097,
          24.881962677387747,
          25.292404879479715,
          25.219438250675953,
          25.292405596736824,
          25.310648667616203,
          25.319769079383047,
          24.891083614332913,
          24.571850811324996,
          24.863721151132353,
          24.590091740192452,
          24.571850587388543,
          24.453277656927312,
          24.444155667599933,
          24.49888295845387,
          24.663059739312704,
          24.663061044043474,
          24.50800463455169,
          24.334706052770315,
          24.453277399962758,
          24.252618066358103,
          24.197891555994534,
          23.988108547790247,
          24.14316371142511,
          24.316463761714008,
          24.22525368369756,
          24.41679302155118,
          24.453277656927312,
          24.407673103676647,
          24.71778513446944,
          26.131532669067386,
          26.177138165921956,
          25.89438814691987,
          25.547791696580486,
          25.401857220637034,
          25.64812242887566,
          25.702848945766682,
          25.53867114927914,
          25.49306646111899,
          25.429218903041072,
          25.857904943671976,
          25.67548593880744,
          25.757574183284174,
          25.693727782899778,
          25.84878230688086,
          26.861209869384766,
          28.585070250051483,
          28.238472465437052,
          28.57594840052914,
          29.415075739440763,
          29.360347730102283,
          28.366167196747508,
          27.937481673582624,
          28.548584657638372,
          28.566827909162384,
          28.995513403128598,
          29.597496799974742,
          30.646402922328555,
          29.925852874533,
          28.968149501314905,
          29.123207385361,
          28.9772703785174,
          29.62485810163648,
          29.38771346144938,
          28.98639154099712,
          28.995513917916785,
          28.721883124432605,
          28.211111237369675,
          28.138143314178336,
          27.828029876812533,
          27.235168766439553,
          27.67297542434582,
          27.162200848680808,
          25.100864795291184,
          25.420099579514115,
          25.520430203012825,
          25.648124189377388,
          25.17383241247867,
          26.341313745683383,
          26.93417868593941,
          26.72439541478805,
          28.046934483244815,
          28.092536926269528,
          28.229352333400055,
          27.40846538870715,
          27.45407232503522,
          27.244291749670097,
          27.18044088826526,
          26.58758004367424,
          27.04362883123283,
          28.23847361547567,
          27.60000699987461,
          27.9101196091154,
          28.849575667723542,
          28.849576513343838,
          29.59749659708402,
          29.825519550812416,
          29.177930556257543,
          28.393530369790344,
          28.79485160351119,
          28.27495730910394,
          27.9374812218599,
          27.180442985862065,
          26.870328863301616,
          26.32307338552411,
          25.210315623695443,
          23.650635284337447,
          23.65975516214881,
          22.87535115247703,
          22.948319459791428,
          24.261737856205915,
          24.179648870183147,
          24.772511436285225,
          24.380309693620664,
          24.097560833303767,
          24.590089525773198,
          24.571851544412258,
          24.790752566402077,
          25.009654309930212,
          24.854599573734866,
          24.77251049827777,
          24.936688974748982,
          24.74514835243443,
          25.31064881759743,
          24.83635861620019,
          24.40767361668947,
          24.65394017611481,
          24.45327705411766,
          24.207013045669694,
          23.860415559121883,
          23.942503063967457,
          23.677995142652925,
          23.86953578889768,
          24.170529336982312,
          24.60833301864595,
          24.763390168150785,
          24.033714738089046,
          23.878659034301652,
          24.051956431363998,
          24.152286342558547,
          24.061076665095527,
          23.614151000976562,
          23.559425728716576,
          23.44085238503694,
          24.061075495885305,
          24.170528134742344,
          23.83305078082035,
          23.477335040271083,
          23.2949173940398,
          23.340520921849176,
          23.586787155853344,
          23.805689806978084,
          24.225252976025693,
          23.823932421147788,
          24.170528668511764,
          24.8637208599087,
          25.502186504976677,
          24.745145941262255,
          24.371188586448614,
          24.489761671940737,
          24.489762188532545,
          24.088438983727244,
          23.906020372490936,
          23.650632695358848,
          23.82393267995695,
          23.69623762756612,
          23.568544671678506,
          23.760086136009182,
          23.705358948226536,
          23.65975411023855,
          23.422610471967346,
          24.124922904586175,
          23.94250331780792,
          23.94250514058166,
          25.994718555191984,
          26.35043458501206,
          26.560218617299007,
          28.411771174942732,
          29.205294364600707,
          28.183748422605035,
          27.937480926513672,
          27.42670904832381,
          26.806483659893317,
          26.906814816816436,
          26.706154966586343,
          26.195379312839314,
          25.210316088396027,
          25.994719508537575,
          26.022082461551893,
          25.8122981947594,
          25.520429374928327,
          25.42921992775406,
          24.881961860423576,
          24.626576783486268,
          24.754267570218722,
          24.717785612091458,
          24.836357056844978,
          24.945810576125243,
          25.49306774477979,
          25.137349522934326,
          25.20119570050655,
          24.954931624358938,
          25.483946992462617,
          25.93999295486289,
          26.18625831604004,
          26.505490774151948,
          26.38501245075207,
          27.094287021723645,
          26.744378822737247,
          26.385012070722443,
          26.035104390867335,
          26.25261564311112,
          26.24315872104268,
          25.959449799407615,
          25.940534174364643,
          25.694652182386402,
          26.2337008337718,
          26.337728616736452,
          25.751394848009813,
          26.20532912592995,
          26.668724050950697,
          26.6214379697088,
          27.472566314179858,
          27.586050912298397,
          26.85786238076285,
          27.519851776625114,
          26.914603253718724,
          26.763292027567584,
          26.564696215335005,
          26.838947098236922,
          26.8862346346857,
          27.690079311362044,
          27.95487395291202,
          27.784646889527934,
          27.614422459245006,
          27.09428785645235,
          26.810578407532688,
          27.103743950872612,
          27.207771198534036,
          27.1510294621195,
          26.753836274290517,
          27.037546185766143,
          26.668723584568518,
          26.479583190368103,
          26.403927129688046,
          26.422842168128955,
          27.037546574043333,
          26.139130674775696,
          26.129672927406702,
          26.574153284582128,
          26.61198006429537,
          26.611979743368583,
          26.48903984075428,
          25.987819736371772,
          25.978361129760742,
          26.867319826859223,
          26.65926629732416,
          26.621438472113,
          26.716008707019466,
          27.765734433671103,
          27.964331391563757,
          28.23858436212674,
          28.47501000957813,
          28.607406262817904,
          28.19129860700588,
          28.077815441810806,
          27.898132855973625,
          28.683063025869508,
          29.392337572703646,
          29.411250768173005,
          29.36396521906326,
          29.600389602873083,
          29.694961537096354,
          29.590934878361285,
          29.38287931892303,
          30.16781038923236,
          30.943285558979397,
          29.27885150949601,
          30.22455138668673,
          29.713874863291828,
          29.44907792544594,
          28.541207758977738,
          27.98324518225446,
          27.841390684035947,
          27.387454511538028,
          27.160486248642034,
          27.415825210099847,
          27.226687160467854,
          27.188857339460768,
          27.359084650157968,
          27.28342777991623,
          26.886234310328017,
          26.9713467762848,
          26.621436832953975,
          26.5174123275315,
          26.687636819736117,
          27.09428808310755,
          27.29288575495702,
          27.094286558656417,
          27.236141447334038,
          26.857862773045497,
          26.41338463582593,
          27.188858032226562,
          27.898132183032324,
          27.850847960699006,
          28.701977918730805,
          28.18184114015332,
          28.579034569035336,
          29.118085178637404,
          29.061342429017813,
          29.562562942504883,
          30.5933743926389,
          29.505822324754856,
          29.032971358671617,
          28.32369662404284,
          27.992703271203347,
          28.51283628787487,
          28.323697919661623,
          27.491481323427724,
          27.094287030757428,
          26.593068141892072,
          26.93351809495924,
          26.81057787271914,
          26.810577689690646,
          27.746820761130127,
          28.144015144190572,
          27.491481554763308,
          27.40636756179627,
          28.493922678375483,
          28.408809937531856,
          28.68306254470043,
          28.418266797066185,
          28.91948736812656,
          31.19862365722656,
          32.22943712644158,
          31.879526309587607,
          32.72119805177335,
          32.14432346681155,
          32.248347244594164,
          30.91491230637151,
          30.451520603236187,
          29.940843128825986,
          29.505822621888136,
          29.751702458992014,
          30.602832417563103,
          30.14889643549503,
          31.35939229851611,
          31.614731167594325,
          31.472875506389506,
          30.735229694287476,
          30.016499284337414,
          29.94084245336086,
          29.789531396812283,
          29.2693963816719,
          29.278853249766062,
          29.62876163281673,
          29.969215170543876,
          29.28830895973503,
          28.51283622345721,
          28.44663709419001,
          28.370982351289673,
          28.106185260997975,
          27.879218253800268,
          27.72790567792023,
          27.510395860766867,
          27.2361421953882,
          27.283427756131214,
          27.32125543915276,
          27.302341461181637,
          27.49148019145801,
          27.349626243763126,
          27.160486542743573,
          27.500938159330527,
          26.99971620119994,
          26.668722945317302,
          26.432297904044002,
          26.460669093312728,
          26.37555503845215,
          26.924061348475384,
          26.62143727458016,
          26.810578897743003,
          26.479582228331648,
          26.224243984628483,
          25.912163633117927,
          25.505511801234434,
          25.6379112391683,
          25.912162144217533,
          25.88379377470367,
          25.86487941476209,
          25.533883868985725,
          25.52442733703202,
          25.042119932805956,
          25.382571160429414,
          25.987818281677765,
          25.87433652703714,
          25.940534237215267,
          25.562256215496326,
          25.50551116289989,
          25.704109089585756,
          25.505512770342758,
          25.250174306174287,
          24.758410278993544,
          24.76786800434162,
          24.73003846641409,
          24.626012782690122,
          24.257189064976277,
          23.85999588412316,
          24.020764461620928,
          23.755969384971102,
          23.59520090617565,
          23.198006010428397,
          23.141262827833224,
          23.226377232804744,
          23.283119036656508,
          23.216919445093303,
          23.32094745311567,
          22.904838467380245,
          22.62112879479548,
          23.97347904403455,
          23.434431992182905,
          22.781899105269694,
          23.406059864101408,
          23.150719837130584,
          22.933210656313534,
          22.971038916944067,
          22.971039710226233,
          22.82918218791197,
          22.583300906663656,
          22.441445349492938,
          22.74407029938916,
          22.5927575042061,
          22.1009952822593,
          21.902397637165077,
          21.98751107757888,
          22.08208162552506,
          21.56194585272626,
          20.1433967394821,
          19.64217685083531,
          19.717832005391077,
          19.57597772069617,
          20.029914133939027,
          20.077197616116607,
          19.736747410879826,
          20.323078941241803,
          20.01099942478157,
          21.52411806902204,
          20.985069612851593,
          22.64950163334121,
          22.02533911860136,
          21.779457874369793,
          22.299591243497463,
          22.57384515781462,
          22.64950190801577,
          22.413076268090354,
          22.223936353410995,
          21.732171898468334,
          21.968596464461747,
          22.1200008392334,
          21.489999771118164,
          21.1299991607666,
          20.06999969482422,
          19.8700008392334,
          21.149999618530273,
          21.5,
          21.450000762939453,
          21.049999237060547,
          20.760000228881836,
          20.700000762939453,
          20.389999389648438,
          20.6299991607666,
          21.299999237060547,
          21.450000762939453,
          20.040000915527344,
          19.600000381469727,
          19.34000015258789,
          20.25,
          20.93000030517578,
          20.780000686645508,
          20.3799991607666,
          21.65999984741211,
          21.5,
          21.8799991607666,
          21.690000534057617,
          22.510000228881836,
          22.850000381469727,
          22.440000534057617,
          22.450000762939453,
          21.469999313354492,
          21.079999923706055,
          20.739999771118164,
          20.56999969482422,
          20.93000030517578,
          22.049999237060547,
          21.670000076293945,
          20.049999237060547,
          19.940000534057617,
          19.600000381469727,
          19.1299991607666,
          18.399999618530273,
          18.290000915527344,
          18.09000015258789,
          18.139999389648438,
          18,
          18.600000381469727,
          18.309999465942383,
          19.010000228881836,
          20.84000015258789,
          20.5,
          19.59000015258789,
          19.56999969482422,
          19.530000686645508,
          19.399999618530273,
          20.280000686645508,
          19.950000762939453,
          19.440000534057617,
          19.3799991607666,
          19.350000381469727,
          19.149999618530273,
          18.8700008392334,
          18.65999984741211,
          18.639999389648438,
          19.09000015258789,
          19.350000381469727,
          20.149999618530273,
          20.299999237060547,
          19.979999542236328,
          20.600000381469727,
          20.440000534057617,
          20.540000915527344,
          19.950000762939453,
          19.770000457763672,
          20.09000015258789,
          19.940000534057617,
          19.950000762939453,
          20.670000076293945,
          20.329999923706055,
          19.799999237060547,
          19.729999542236328,
          20.139999389648438,
          19.770000457763672,
          19.809999465942383,
          19.43000030517578,
          19.969999313354492,
          20.649999618530273,
          21.610000610351562,
          21.65999984741211,
          22.459999084472656,
          22.65999984741211,
          23.09000015258789,
          22.309999465942383,
          22.280000686645508,
          21.700000762939453,
          21.219999313354492,
          21.899999618530273,
          22.299999237060547,
          22.600000381469727,
          22.06999969482422,
          22,
          21.68000030517578,
          21.110000610351562,
          20.899999618530273,
          20.850000381469727,
          21.020000457763672,
          21.09000015258789,
          21.31999969482422,
          21.190000534057617,
          21.68000030517578,
          20.950000762939453,
          20.31999969482422,
          20.15999984741211,
          19.969999313354492,
          20.540000915527344,
          20.90999984741211,
          20.940000534057617,
          20.690000534057617,
          20.3799991607666,
          20.030000686645508,
          19.5,
          19.43000030517578,
          19.670000076293945,
          19.729999542236328,
          19.299999237060547,
          18.899999618530273,
          18.5,
          17.829999923706055,
          17.270000457763672,
          16.75,
          16.950000762939453,
          15.890000343322754,
          15.800000190734863,
          16.8799991607666,
          17.549999237060547
         ],
         "low": [
          17.01766129975379,
          16.9931738725732,
          17.099281162102137,
          17.10744083586672,
          17.384946375810387,
          17.22170968073557,
          17.15641350730208,
          17.140092259024296,
          16.715668590562775,
          16.7401555078283,
          16.7728024902563,
          16.79728726423763,
          16.87074587504427,
          16.740154332985238,
          16.487133888874784,
          16.89523008254998,
          16.911555911609867,
          16.81361308851983,
          16.625886123827122,
          16.69934404539593,
          16.568753282224346,
          16.731991988580685,
          16.772801965052057,
          16.57691593970568,
          16.650373445458786,
          16.601401103921834,
          15.507699713444037,
          15.613805434109496,
          15.589318712399423,
          15.36894716778586,
          15.426079957937569,
          15.352624587328338,
          15.050632263999447,
          14.952686661087277,
          15.197547474017293,
          15.099600824839074,
          15.450566065049077,
          15.728074360801507,
          15.401596911165106,
          15.515860786728108,
          15.48321311549303,
          15.52402495285097,
          15.37710827991223,
          15.44240602938577,
          15.442404941584455,
          15.605642849254696,
          16.381029226369307,
          17.05847190958517,
          17.082955722395628,
          16.960526243909058,
          16.90339505370978,
          17.0013385043445,
          17.033987045288086,
          17.033987045288086,
          17.033987045288086,
          17.53186383722119,
          17.548189943486996,
          17.401271958686085,
          16.99317706724867,
          17.058471226569605,
          17.05846852586014,
          16.993175763818513,
          17.058472595050304,
          17.221708441497167,
          17.79304654863211,
          20.03758070432057,
          20.543622633985983,
          20.22530679212592,
          20.0457423634469,
          20.11103644794983,
          19.882505330581463,
          19.19689897686315,
          19.123444139458375,
          19.54786476230746,
          19.613161177136593,
          19.76823642954102,
          19.711101879531107,
          20.584430755981764,
          19.915151734701347,
          19.882504161997048,
          20.070228576660156,
          20.306923129484325,
          19.939638877825125,
          20.18449508677317,
          20.11920127006774,
          19.08263226083242,
          18.952041175893683,
          18.960202720727168,
          18.7235068575232,
          18.77248009815218,
          18.854097580906966,
          18.935717875783073,
          19.1234416989396,
          18.60108063337889,
          18.53578147863393,
          18.511295109571748,
          18.429675613078956,
          18.53578226712672,
          18.388868180063607,
          17.95628429784366,
          17.735911999393625,
          17.84201753229584,
          17.75223620479165,
          17.727749727949945,
          17.801207663031665,
          18.274600072942647,
          18.486811440642747,
          18.70718454072043,
          18.650049279576265,
          18.886745731244563,
          18.992854011826285,
          19.28456897784064,
          19.60527629535016,
          19.41960467572471,
          19.191734436273283,
          19.149536198228148,
          19.453361050012234,
          19.83314577737843,
          20.221368874073544,
          21.23412536188845,
          21.12441251217238,
          20.94717705148796,
          21.090652779782115,
          21.56327069645597,
          23.183682537491833,
          23.622542367778095,
          23.715378497396927,
          23.63098293716292,
          23.419992717823412,
          23.22588200356185,
          22.027452843973304,
          22.02745106712758,
          22.381917049982373,
          22.280641743172485,
          21.943056088402155,
          22.145606606360765,
          22.103409114406226,
          22.33971845534509,
          22.550708991479937,
          22.626667064911036,
          22.05277148273331,
          22.061209742389902,
          21.613909760682024,
          21.951496575941583,
          21.71518601251838,
          21.748945729212927,
          21.782700660114642,
          22.66886429857658,
          22.711063383989334,
          23.006450448128454,
          23.13304242273525,
          23.867292966311012,
          24.247076700975825,
          24.204878196962785,
          23.673180052385817,
          22.74482141771274,
          23.04020781937898,
          23.1330466944231,
          23.04020695449573,
          23.090847325900796,
          22.61822527796207,
          22.533829379244708,
          23.555025645577064,
          23.901050599250215,
          24.13736025969177,
          23.538145242357977,
          24.08672325063379,
          26.61861344357021,
          26.17975261138305,
          25.715571631697475,
          25.816847723274382,
          25.40330537565751,
          25.555218291339635,
          25.892807406217035,
          25.740892022217853,
          25.234513543735876,
          25.48770446603415,
          25.538339796927893,
          25.234515172665496,
          24.517143599764413,
          24.728134379564732,
          24.905369631185778,
          24.770333712338992,
          25.19231622828368,
          24.559341619011757,
          23.664741900015414,
          23.968567069534373,
          24.06984259458674,
          24.162679112757882,
          24.95600753592663,
          25.546781211510055,
          25.42018691803933,
          25.656494562345067,
          25.209195357989536,
          25.94344429061205,
          26.542657680011768,
          27.200946784770686,
          27.091232625149846,
          27.682006088894212,
          29.63156714835451,
          29.49653063178811,
          29.960710915446114,
          29.150506426904336,
          29.61468617972347,
          30.053544641925782,
          30.720280037768976,
          32.3238064814855,
          32.830189849546684,
          33.12557450291841,
          32.50103796736289,
          33.75011005724543,
          34.14676953108399,
          32.7457909907036,
          33.01585676804399,
          32.14657553843083,
          30.610564666186992,
          30.06198623176704,
          31.14226085504711,
          30.21389546714662,
          30.64432229142929,
          29.437454924337395,
          27.428819257489643,
          27.420381421564308,
          25.487704265708484,
          26.424500902864526,
          27.243148112547864,
          27.150308596921533,
          28.129310351079653,
          28.129308844907126,
          27.94363878092508,
          27.555416087976283,
          26.871804974004014,
          27.02371610040521,
          26.593294216288697,
          27.06591401737643,
          27.015276351645475,
          27.682008711274573,
          27.72420572236634,
          28.1377484711638,
          27.30222356839358,
          27.319103102137806,
          27.1756324283234,
          27.352861400513184,
          27.428819890763815,
          26.60173499127526,
          25.951882779490173,
          26.42450297774298,
          26.196632514916697,
          24.65217761593228,
          25.234513198815872,
          25.918124352225057,
          25.572098303485372,
          26.188193998726714,
          27.99427448208637,
          28.120867771123706,
          27.44569938086153,
          27.09123350881288,
          26.12911305037562,
          26.213510537096443,
          26.7789670987808,
          26.795844710802534,
          26.188193696569304,
          24.94756480260441,
          24.981324255213092,
          25.099480590231654,
          25.34422970021929,
          25.251391985442414,
          25.14167761143942,
          25.15011801502056,
          25.285151325395773,
          23.85041218047263,
          23.14148476070348,
          23.318716985655808,
          22.415672698530738,
          22.626664791513736,
          22.550707374969193,
          23.065526777669657,
          23.63098459362856,
          23.377795891544135,
          23.403111947826655,
          23.521267955058924,
          23.073967462048188,
          22.964249034106743,
          22.592907327945547,
          22.390355813532008,
          22.626665293856625,
          22.432552474251096,
          22.415675905794657,
          22.381917887959677,
          22.213122434326788,
          22.196242642239667,
          21.38603990608675,
          20.74462592342223,
          20.727745641595252,
          21.352282731186556,
          22.179365213011337,
          22.65198544975683,
          22.660425310885177,
          22.74482041650432,
          22.40723469522928,
          22.516950533445367,
          22.981130203379692,
          23.0486499958869,
          22.888294219471458,
          23.06552556962012,
          22.71106254169944,
          22.2890802864857,
          22.635105593071394,
          23.158363815296322,
          22.289080869744662,
          20.955617428132893,
          20.09477473373909,
          19.833146964811572,
          20.162291979119786,
          19.006063697262388,
          19.242368784777796,
          19.411163330078125,
          19.284569746873917,
          19.115776866360086,
          19.72343261867766,
          20.06101790037745,
          19.554636652700818,
          19.80782721354824,
          19.951300871629265,
          19.250810108192216,
          19.11577724882824,
          18.921665832556393,
          18.989184290579008,
          18.584079493004324,
          19.326766645826865,
          20.288888097573047,
          20.255129726525016,
          19.892221588897883,
          19.613715423437302,
          19.259250493450956,
          19.461801705854686,
          18.744430975269434,
          17.782313226175905,
          17.765434828321727,
          17.318135676051753,
          17.664158759969276,
          18.145217895507812,
          18.06082085274604,
          19.352087011309184,
          18.955422935207167,
          18.609396368166593,
          18.75287176618095,
          18.238055686014924,
          19.107338886596636,
          19.065139907207627,
          19.59683524316809,
          19.976619713158083,
          19.503581957194967,
          19.635126917579385,
          20.03852854582344,
          20.810253633764344,
          20.801482512579017,
          20.591013337313658,
          20.3279254624421,
          20.503315855886434,
          20.529626378753836,
          20.529626846313477,
          19.898214268503818,
          20.038528449724602,
          20.26653843149198,
          20.24899891307762,
          19.828058662539053,
          19.977139924397658,
          20.00344922852199,
          19.924522368942394,
          19.705281461531147,
          20.091144290356297,
          20.87164088602966,
          20.985645204318402,
          21.39781389342064,
          20.9505667026511,
          21.310118458698103,
          21.003185077975072,
          19.27557102898479,
          18.644160825701107,
          18.766937289641398,
          18.24953094540201,
          18.45999991451159,
          18.54769653969771,
          18.29337932660838,
          18.310916760768535,
          17.986441960816617,
          17.88997639775882,
          19.05633234547948,
          19.336961323348916,
          19.38080805698104,
          19.293113204674587,
          20.57347114287231,
          19.75790255791229,
          19.863136232994183,
          20.433158882735082,
          21.2925799646951,
          21.047032101327158,
          20.783943055398144,
          20.792712607629564,
          20.79271370126196,
          20.97687450683672,
          20.634861141359377,
          20.52085699474533,
          20.55593357411039,
          21.01195271151796,
          21.011952603047302,
          21.06457051485822,
          21.64336398168788,
          22.125691619231674,
          22.230928123693808,
          22.16954022712489,
          21.643365550709955,
          21.69598180251077,
          21.731062804963827,
          21.915221399222617,
          21.923991292414563,
          21.950301176006935,
          21.75736791236368,
          21.801216559988333,
          21.71351926810049,
          21.836295627913398,
          22.029227904506545,
          21.83629585382092,
          21.845064295573145,
          22.923724870535622,
          23.151735384369697,
          23.072807812833418,
          22.74833294078427,
          22.22215911483748,
          22.055536150875092,
          21.845062869758685,
          20.783944450969,
          20.459470082327346,
          20.503315127255053,
          20.6787087285513,
          20.55593490600586,
          20.757635612775164,
          20.757635008831933,
          20.792713395464034,
          20.915487794844942,
          21.915223080141935,
          21.599516337085223,
          22.020457917156033,
          21.95029961228368,
          21.93275916175336,
          21.853833930592728,
          21.32765812228889,
          21.774908198403228,
          21.87137256549325,
          21.915223322249,
          22.27477482698318,
          22.1256894509017,
          22.099384040046285,
          21.862604310455342,
          22.353701160520217,
          22.678176203822932,
          22.686947890990854,
          23.353435445582754,
          23.67791067587363,
          23.660371860914967,
          23.58144331593895,
          23.546367012846193,
          23.791915069661496,
          23.8269927050555,
          23.23943210291263,
          23.38851467782794,
          23.598985823570768,
          23.48497999996424,
          23.511286332333775,
          23.020191428642352,
          23.555137670868827,
          24.309319887581395,
          24.011155064854833,
          24.30931921850389,
          24.169007309411494,
          25.028428931866618,
          25.844000077451987,
          25.484446735038635,
          24.923193477267468,
          23.69545022073291,
          23.11665790443566,
          23.853304175962016,
          23.546367946395183,
          23.87961185318479,
          24.002387832077336,
          24.344400120737482,
          25.387982638569827,
          25.12489434630204,
          25.800151946080852,
          25.151203884310032,
          24.651337392260142,
          24.74780216599632,
          24.756571284098484,
          25.002119872412443,
          25.212590835773245,
          27.185749351905883,
          27.80839050802842,
          27.536534225107253,
          27.843467937956117,
          27.40499027457837,
          27.869780444675435,
          28.413494307485475,
          27.545300903187588,
          27.019125840830988,
          27.080514149513416,
          26.317560022384246,
          26.984050249979077,
          26.580647323769654,
          26.712190206333503,
          25.70368721731007,
          25.651070105952538,
          25.4405995792209,
          25.607222634870613,
          25.34413444706419,
          null,
          23.414824293867042,
          24.011154502438618,
          23.90592014583529,
          23.414823012462985,
          23.528828281451215,
          24.07254230060704,
          24.02869370733095,
          24.379478383793373,
          24.39701771169418,
          23.940999224969033,
          23.598985702478824,
          23.85330338317151,
          23.765608287954116,
          23.37974258826297,
          23.33589695356299,
          23.064037445127422,
          23.537597152217405,
          23.68668034031895,
          23.44113095245913,
          23.414825439453125,
          23.046499945878104,
          23.020190011091632,
          23.353436500932148,
          23.607753309452033,
          23.82699477879796,
          24.423326659667897,
          24.388247800870367,
          24.18654660607895,
          24.361938980527544,
          24.335631104147797,
          24.028693486992882,
          24.195316624379924,
          24.23039276780478,
          24.66010578635147,
          24.58118011187891,
          24.23039463729629,
          24.300550090724997,
          24.300550813439852,
          24.283014217786405,
          24.554871292957746,
          24.800420681478638,
          25.20382061940577,
          25.62475935397383,
          25.545833305140203,
          25.124893738912125,
          25.50198665755404,
          25.35290382964656,
          25.589681966978535,
          25.528296589730928,
          25.607223137125402,
          26.177245604661014,
          26.150935422690637,
          26.168476378417033,
          26.712189006076567,
          26.773578402388875,
          25.984314391716786,
          26.072008231460433,
          25.958006072178136,
          26.04570221432514,
          25.958005682045403,
          26.089549219701237,
          25.002119344617714,
          24.721494554526018,
          24.27424396985249,
          23.67791004305552,
          23.160503914466922,
          23.72175929919947,
          23.993616909010708,
          23.818224302893217,
          23.9234603580665,
          23.83576252977442,
          23.590215564261786,
          23.395245172871512,
          23.860415492983968,
          24.09756111698575,
          24.352947268700817,
          24.854599377392365,
          24.736027617783666,
          24.535366467195562,
          23.896899859077553,
          24.143164480626723,
          24.04283623749592,
          23.586787313133062,
          23.422610149396387,
          23.431732952027808,
          23.358764391469933,
          23.46821544504387,
          24.307343326273774,
          24.298219374151458,
          24.635696821530694,
          24.60833304919757,
          24.416794200602393,
          24.74514738739419,
          24.763389996967376,
          24.343826891644074,
          24.435035865055717,
          24.26173652187098,
          24.289100355191817,
          23.714481502766095,
          23.796568770697643,
          23.659755672101596,
          23.732724013238695,
          23.632392625283572,
          23.54118131127381,
          23.723601498523344,
          23.851294969564886,
          24.170527495088866,
          24.179649659277047,
          24.480639438530744,
          24.34382626218115,
          24.5444869341168,
          24.67218064562641,
          24.44415657719508,
          24.626577082004953,
          24.74514799030084,
          24.32558371647346,
          24.216132418746632,
          24.3985522820398,
          24.170528681152817,
          24.30734208607893,
          24.261738454293845,
          24.061075535599933,
          23.887778971920277,
          24.371187758401163,
          24.19789217009695,
          24.097561000788613,
          24.170528599031236,
          24.234374710817413,
          24.006351878230728,
          23.906019567049547,
          23.71448062111252,
          23.778325912966544,
          24.05195699450954,
          23.814811791632017,
          24.07931697542201,
          24.261738454293845,
          24.12492401689339,
          24.343826168017642,
          24.90020354022465,
          25.620759426061806,
          25.429219278811352,
          25.19207505655497,
          25.16471220803647,
          25.41097742521716,
          25.292405315175657,
          25.21943741197637,
          25.182953894030742,
          25.28328377869497,
          25.502186554608016,
          25.292405789631005,
          25.493067418879683,
          25.48394625601278,
          25.657241379125367,
          25.67548482131078,
          26.624065469131057,
          27.54528149931854,
          27.636489525783954,
          28.59419025278849,
          28.265834366357126,
          27.44495063694689,
          27.527039782441317,
          27.81890905054676,
          28.101659042174546,
          28.29319953239836,
          28.566828010724485,
          29.65221883367937,
          28.986393937651837,
          28.502980648371416,
          28.594192105055885,
          28.320560597448495,
          29.050238766510233,
          28.59418973686978,
          28.51210153015488,
          28.612433776143057,
          27.7824242627323,
          27.727700045022008,
          27.65473212801829,
          26.92505567156706,
          26.46900850348111,
          26.61494486705388,
          26.158895589910117,
          23.787446986087243,
          24.535365927557688,
          24.827237454164678,
          25.00965669418867,
          24.818114037277304,
          24.73602741166011,
          26.040323841989544,
          26.31395351491933,
          26.87033054304575,
          27.335497832662767,
          27.289893478142872,
          26.925055952193755,
          26.952418803238007,
          26.706155297114613,
          26.45076530000084,
          25.921750832180326,
          26.268347376979204,
          26.085929588407907,
          26.797362074026402,
          26.614944070545246,
          27.271651101706436,
          27.755063085621906,
          28.037812549426196,
          28.82221428726608,
          28.26583519004874,
          27.37198444804546,
          27.54528187522709,
          27.691216811679354,
          26.99802407711394,
          25.721091696710676,
          25.803178946600113,
          24.900203331393588,
          23.723600926998508,
          22.05446824768187,
          22.857110235958476,
          22.24600487815566,
          22.218643856810726,
          23.121618612396272,
          23.714480014973525,
          24.097561035112086,
          23.71448046725645,
          23.258432985418942,
          23.942502669568334,
          24.033715097746544,
          24.261737318584334,
          24.444154433272672,
          24.398551875134228,
          24.261737570184053,
          24.25261740830126,
          24.27086004903931,
          24.644819554514527,
          24.216133433593217,
          24.07931870921131,
          24.216133046188883,
          23.760084345119328,
          23.486456835851587,
          23.404367858466365,
          23.62326934184446,
          23.285795592030077,
          23.313157059146523,
          23.50470007843111,
          23.951624969096624,
          24.352948275230418,
          23.66887691691537,
          23.605029356924188,
          23.632391643288262,
          23.79656968489064,
          23.55942487473689,
          23.37700597162755,
          23.212830218399173,
          23.17634388501367,
          23.53206024206171,
          23.74184392241237,
          23.322277870843514,
          23.25843235626827,
          22.930077841619344,
          22.765899858017573,
          23.203707025490857,
          23.440852002285876,
          23.60502783491523,
          23.440852286652756,
          23.69623863183191,
          23.98810836961273,
          24.471519470214844,
          23.997228036806174,
          23.887779135372167,
          24.097560374249724,
          24.024593319111112,
          23.696237689745566,
          23.550303711679685,
          23.212827345040136,
          23.258432764917636,
          23.440852033780384,
          23.367884315102827,
          23.4590947025439,
          23.45909277570483,
          23.404366783317226,
          23.24931185647627,
          23.413487899366313,
          23.449970985936197,
          23.605029064567745,
          23.869536370968905,
          25.328888748618326,
          25.666363809740844,
          26.72439434811905,
          27.36286128707987,
          27.04362913577082,
          27.25340938655347,
          26.441646062613295,
          25.976476972354902,
          25.94911532429485,
          25.794059531466804,
          25.100865874513502,
          24.544486869490378,
          24.891084883749716,
          25.39273614666846,
          25.21943655404206,
          24.72690733559045,
          24.489762744379515,
          24.015470579050394,
          24.279981283105563,
          24.179648257567674,
          24.435036526070554,
          24.270858889161648,
          24.55360925945328,
          24.69042279907064,
          24.72690762391014,
          24.617455188142106,
          24.535366820193897,
          24.672180870688585,
          25.365371894328977,
          25.356251634333862,
          25.82141925157977,
          25.67573791280831,
          26.063474547686557,
          26.006732665058987,
          25.817592087784437,
          25.685194829156973,
          25.73247988920637,
          25.628454463107285,
          25.64736906297202,
          25.496054313190818,
          25.098862367677604,
          25.562255133411696,
          25.704109947403733,
          25.467685742702447,
          25.656823554082123,
          25.931077862691062,
          25.968904873246903,
          26.432298437434596,
          26.630894324622886,
          26.158045046909088,
          26.820034465664655,
          26.385012110605977,
          26.016190447095184,
          25.987819005753884,
          26.15804420699927,
          26.432299348770204,
          26.555239300424354,
          27.46311163237147,
          27.141572828644296,
          26.99971642274533,
          26.46066917677837,
          25.912163254118724,
          26.252614873887282,
          26.772748552116422,
          26.158045793372107,
          26.23370053402904,
          26.52686764026061,
          26.356642857258347,
          26.14858803973281,
          26.072931981319968,
          26.148588471882547,
          26.167503035107938,
          25.798680119481272,
          25.817592205929433,
          26.006733288442245,
          26.24315788208063,
          26.30935623301844,
          25.931077062452093,
          25.439314142650222,
          25.174518105646488,
          25.9121632157957,
          26.15804497148641,
          26.2999005230798,
          26.3850135481237,
          26.77274900027036,
          27.453654645819036,
          27.604965698686424,
          27.614423684818444,
          27.66170688222888,
          27.784647576429254,
          27.264513387821395,
          27.425283146550342,
          27.699536577683922,
          28.13455743032271,
          28.84383078540927,
          28.787089820068967,
          28.96677095189327,
          28.938402719808977,
          28.938401792010325,
          28.48446599413661,
          29.401794383083736,
          29.032972335815426,
          28.503378317875946,
          29.042427159038873,
          28.891115601510524,
          28.31423975905576,
          27.76573455103802,
          27.538767116919278,
          27.103744506835934,
          26.86732054874199,
          26.668723929159867,
          26.84840521305813,
          26.753837450591956,
          26.706550436289966,
          26.763293002372507,
          26.810578084610157,
          26.451211647073283,
          26.34718532919053,
          26.06347406185637,
          26.205329790541576,
          26.101304193039887,
          26.347186477594114,
          26.782207203904818,
          26.687635541418462,
          26.70655029910889,
          26.025648089322633,
          25.62845420285019,
          26.22424420130682,
          26.848405276224376,
          27.245599120103172,
          27.68062261155367,
          27.77519191705487,
          27.992701964478673,
          28.18184119216669,
          28.25749756996612,
          28.210212535594078,
          29.05188515192342,
          28.70197746519285,
          28.38989549895082,
          27.434738718371218,
          27.0091750058334,
          27.56713689654384,
          27.77519233655643,
          26.68763647109214,
          26.072931766683986,
          25.77976607394763,
          26.4417539810661,
          26.271529512935004,
          25.94053419099206,
          26.489040621271005,
          27.047003953943957,
          26.990262021978747,
          26.810577746878273,
          27.377998880007937,
          27.992701709719046,
          27.917046540703012,
          27.699536826517082,
          27.898132095755138,
          28.758717562448467,
          29.903015675822942,
          30.536634876306323,
          31.113511945300022,
          30.820342893712873,
          30.70685986077949,
          29.39233748815047,
          29.50582122802734,
          29.042427969239046,
          28.654691700969856,
          29.01405807643158,
          28.995142755118433,
          29.553106600099554,
          29.600390818302106,
          30.60283310021566,
          30.716316692785334,
          29.174826085948563,
          29.174827380270415,
          29.449078339127922,
          28.749261685691714,
          28.74926064308536,
          28.86274680265793,
          28.673605038386377,
          29.12754145889143,
          28.11564195257597,
          27.964330649875563,
          28.039986074816625,
          27.63333616079589,
          27.680621617166075,
          27.40636854744499,
          27.169942896501666,
          26.952433067007245,
          26.602523520656412,
          26.7727492198322,
          26.75383723489908,
          26.961889112572937,
          26.90514759656397,
          27.122658608169964,
          26.6403525861332,
          27.084829923122225,
          26.40392639376583,
          26.101302962778515,
          26.00673246939706,
          26.082389689576367,
          26.006732858755257,
          26.413384608925917,
          26.224243461511048,
          26.36609901625655,
          25.798679334677626,
          25.628454155029292,
          25.42039950397699,
          25.240717127466997,
          25.174518750923816,
          25.36365658670135,
          25.50551256579062,
          25.250175154490215,
          24.98537828765495,
          25.06103483391494,
          24.69221216137682,
          24.730038091991148,
          25.259629333114827,
          25.514969739840243,
          25.344742618728056,
          25.089406500991405,
          25.03266148154542,
          24.881349846443733,
          25.117776151497903,
          24.758410192966913,
          24.3801308843575,
          24.493614310166276,
          24.455786583733392,
          24.20990454939001,
          23.803253789331393,
          23.26420604442347,
          23.37768857934645,
          23.42497423890658,
          23.122351203076168,
          22.744068945577503,
          22.69678477534298,
          22.810270787035865,
          22.91429505969047,
          22.980494596146208,
          22.744070232174803,
          22.43198877463168,
          22.22393499089223,
          22.55493000952101,
          22.734614646340567,
          22.271220554154134,
          22.469817685990765,
          22.668412948384734,
          22.422532109905667,
          22.526559051779422,
          22.4887327909877,
          22.441445590967366,
          21.940226829030955,
          21.760542460575536,
          22.08208178853233,
          22.00642490149332,
          21.656515419683625,
          21.420090733814067,
          21.391721248494104,
          21.609231919641346,
          20.096112486953952,
          18.99910131760553,
          19.046385222361412,
          19.112583188770618,
          19.00855773677571,
          19.00855882587481,
          19.661091183251102,
          19.358466205188773,
          19.52869133800682,
          19.22606898453481,
          19.84077252609537,
          20.3041649091945,
          21.37280706669949,
          21.410633087158207,
          21.10801036107904,
          21.533575252979702,
          21.5430326818439,
          21.51466187862106,
          21.7227143424085,
          21.202581052724522,
          21.448462798421296,
          21.40117646795827,
          21.049999237060547,
          20.81999969482422,
          20.719999313354492,
          19.299999237060547,
          19.079999923706055,
          19.540000915527344,
          20.639999389648438,
          20.700000762939453,
          20.420000076293945,
          20.350000381469727,
          20.299999237060547,
          19.940000534057617,
          20.1200008392334,
          20.020000457763672,
          20.059999465942383,
          19.510000228881836,
          19.020000457763672,
          18.93000030517578,
          18.739999771118164,
          19.850000381469727,
          20.200000762939453,
          19.709999084472656,
          20.31999969482422,
          20.940000534057617,
          21.09000015258789,
          21.09000015258789,
          21.25,
          21.84000015258789,
          21.709999084472656,
          21.25,
          20.950000762939453,
          20.18000030517578,
          20.209999084472656,
          19.90999984741211,
          19.920000076293945,
          21.049999237060547,
          20.219999313354492,
          19.719999313354492,
          19.559999465942383,
          19,
          18.049999237060547,
          17.969999313354492,
          17.520000457763672,
          17.559999465942383,
          17.729999542236328,
          17.780000686645508,
          18.1299991607666,
          17.90999984741211,
          17.989999771118164,
          18.889999389648438,
          19.40999984741211,
          19.1200008392334,
          19.209999084472656,
          19.09000015258789,
          18.979999542236328,
          18.920000076293945,
          19.190000534057617,
          19.100000381469727,
          19,
          19.06999969482422,
          18.950000762939453,
          18.350000381469727,
          18.15999984741211,
          18.209999084472656,
          18.219999313354492,
          18.59000015258789,
          19.459999084472656,
          19.700000762939453,
          19.5,
          19.8700008392334,
          20.010000228881836,
          19.8700008392334,
          19.43000030517578,
          19.399999618530273,
          19.479999542236328,
          19.530000686645508,
          19.510000228881836,
          19.440000534057617,
          19.799999237060547,
          19.5,
          19.299999237060547,
          19.579999923706055,
          19.389999389648438,
          19.360000610351562,
          19.030000686645508,
          19.100000381469727,
          19.360000610351562,
          20.360000610351562,
          20.790000915527344,
          21.350000381469727,
          21.559999465942383,
          21.790000915527344,
          21.510000228881836,
          21.469999313354492,
          20.670000076293945,
          20.65999984741211,
          20.860000610351562,
          21.5,
          21.899999618530273,
          21.5,
          21.25,
          20.729999542236328,
          20.5,
          20.239999771118164,
          20.260000228881836,
          20.239999771118164,
          20.399999618530273,
          20.40999984741211,
          19.899999618530273,
          21,
          20.200000762939453,
          19.709999084472656,
          19.739999771118164,
          19.559999465942383,
          19.700000762939453,
          20.100000381469727,
          20.399999618530273,
          20.020000457763672,
          19.600000381469727,
          19.450000762939453,
          18.989999771118164,
          19.100000381469727,
          19.110000610351562,
          19.34000015258789,
          18.350000381469727,
          18.329999923706055,
          17.59000015258789,
          16.049999237060547,
          16.729999542236328,
          16.020000457763672,
          16.040000915527344,
          14.770000457763672,
          14.430000305175781,
          16.280000686645508,
          16.299999237060547
         ],
         "name": "Price",
         "open": [
          17.54002545542862,
          17.14825130573596,
          17.262519183071365,
          17.20538488868686,
          17.466566156640564,
          17.613482790395782,
          17.303328807006352,
          17.368627382914493,
          17.140090246480906,
          16.756479777426318,
          16.838098011880327,
          16.838096377503533,
          16.968689931939586,
          16.91155448143124,
          16.813611463979974,
          16.89523008254998,
          17.14009101896591,
          17.07479517383953,
          16.846257501728736,
          16.7809638327644,
          16.691183743685027,
          16.731991988580685,
          16.846259619174923,
          16.87890870045773,
          16.68302198438746,
          16.723830003330644,
          16.585076497084657,
          15.817854128817904,
          15.752556714475345,
          15.6709399119842,
          15.426079957937569,
          15.466892924147102,
          15.417918983010605,
          15.042468576290036,
          15.197547474017293,
          15.238353975770465,
          15.597481361510377,
          15.83417900111329,
          15.752559375459812,
          15.613803274853455,
          15.52402378512552,
          15.564834068785277,
          15.646452468770622,
          15.515863687597426,
          15.62196722858187,
          15.630127693139222,
          16.56875365490512,
          17.54002699155982,
          17.221708886934053,
          17.205384028566787,
          16.936043595842055,
          17.180900809229886,
          17.033987045288086,
          17.033987045288086,
          17.033987045288086,
          17.53186383722119,
          17.88282972019343,
          17.874664855163303,
          17.35230324854174,
          17.180900136780036,
          17.091117060356943,
          17.091119826392436,
          17.425760911914598,
          17.221708441497167,
          17.825695088855724,
          20.355897718830757,
          21.229226372362973,
          20.715022404621706,
          20.535459518432617,
          20.404867031367218,
          20.20898293109019,
          20.05390275608634,
          19.539703668314562,
          19.833531677597083,
          19.80904773805677,
          19.915151734701347,
          19.809045929432614,
          20.97620541382327,
          20.33141124706629,
          19.955961812390072,
          20.070228576660156,
          20.878260033144972,
          20.282440750332103,
          20.28243913831989,
          20.55994720408992,
          20.160010621061076,
          19.262196046814008,
          19.001013390247103,
          19.139766341416006,
          18.77248009815218,
          19.196899411715012,
          19.058146770807145,
          19.13976596624707,
          19.24587372952175,
          18.772478696402377,
          18.6255618636313,
          18.617400013827158,
          18.60923992012671,
          18.764317015816708,
          18.446001453683888,
          18.05422901867128,
          17.948122163623395,
          18.037904684957983,
          17.87466503467138,
          17.85834104837909,
          18.527621567957762,
          18.592917633746712,
          18.97652875758969,
          18.919393469363037,
          19.18057633496724,
          18.992854011826285,
          19.731868664794277,
          19.850026540156694,
          19.57151839729156,
          19.63059594870021,
          19.326767796952346,
          19.453361050012234,
          20.07789600857958,
          20.221368874073544,
          21.858658271387178,
          21.613911405871264,
          21.12441025095435,
          21.3522810774208,
          21.757383560098795,
          23.209002028299324,
          24.483385677020927,
          23.858852379929537,
          24.052964775326544,
          24.052965493980803,
          23.960129539865214,
          22.95581323389804,
          22.04433072606514,
          22.787019227694362,
          22.787020293871798,
          22.415675307273272,
          23.16680348867456,
          22.280640713608136,
          22.52539149870858,
          22.778579571834026,
          22.955814012983385,
          22.753261311897113,
          22.2131234600218,
          22.120286666856654,
          22.314401233521657,
          21.943056602029227,
          22.086530899588812,
          21.782700660114642,
          22.795458524936745,
          23.040208716885893,
          23.377794923511896,
          23.20899927641852,
          24.30615284762189,
          24.44118796553032,
          24.72813476840046,
          24.66905743014306,
          23.79977599905873,
          23.090846799185123,
          23.419994503606297,
          23.22587998734917,
          23.29339842054675,
          23.166802940718775,
          22.829215359524824,
          23.86729290837448,
          23.92637008856001,
          24.348351168238494,
          23.85885232479941,
          24.08672325063379,
          26.92243925324874,
          27.361299780769528,
          26.314786655498096,
          26.542656964484568,
          26.238829169305973,
          25.97720008975172,
          27.935198080552457,
          25.740892022217853,
          25.82528875973534,
          25.825289625175508,
          25.935002126008563,
          25.79997093542907,
          24.795651542273788,
          25.16699586529306,
          25.091041070535283,
          24.95600513780571,
          25.268273088438207,
          25.420184896172607,
          24.56778276251013,
          24.18799780924405,
          24.550901595749785,
          24.23863597167601,
          24.98132702763225,
          25.572099091910452,
          25.73245258025453,
          25.783088787524925,
          25.656495069787397,
          25.951884120892498,
          26.542657680011768,
          27.428817345980868,
          27.648248520749334,
          27.83391979803384,
          29.63156714835451,
          30.070426179524738,
          30.04510599643563,
          30.00290833143876,
          29.623124400106548,
          30.247655885726566,
          30.804675120174824,
          33.31968382541213,
          33.42096187534226,
          33.63195142409384,
          32.91458156253402,
          33.7585482777498,
          34.349322229727626,
          34.703786521606744,
          33.75854567432966,
          34.079253068469484,
          32.070621522865736,
          30.89751171520142,
          31.648637771606445,
          30.804670616004195,
          31.05786269053571,
          30.323616170468018,
          30.74559673602951,
          27.85080148245542,
          26.584856426727864,
          26.525777247123706,
          27.243148112547864,
          27.74108378540858,
          28.694764458296586,
          28.610367848098484,
          29.251781879466375,
          28.86355917885473,
          27.43725912106924,
          27.150308714544302,
          27.00683620247109,
          27.42038042475317,
          27.30222413556912,
          28.222144964065723,
          28.18838832398428,
          28.585048179430952,
          28.306542400995635,
          27.504776139805553,
          27.378181918225593,
          27.428818256772107,
          27.49633853122321,
          27.487896191772517,
          26.500458841500286,
          26.559537040869635,
          26.838043473484017,
          25.33578933621247,
          25.96032246402592,
          26.070038075183884,
          25.74933150948873,
          26.618615675742678,
          28.441577433896015,
          28.399377313149877,
          28.01959494334739,
          27.26002689287181,
          27.597611174049792,
          26.601734653436306,
          27.133433517427164,
          27.487894615854984,
          27.141871951299485,
          26.331666269870297,
          25.453943446468596,
          25.56366159745916,
          25.597418158431154,
          25.47082272337887,
          25.217632858094724,
          25.1923171665297,
          25.867486720969698,
          25.572097134427167,
          24.18799955744907,
          23.968569439466677,
          23.335593148570243,
          23.00644907431057,
          22.79545759774565,
          23.124603976348908,
          24.05296646137193,
          23.901052501051872,
          23.71537921087439,
          23.69849955130793,
          23.72381989105483,
          23.25119679001895,
          22.947372125822948,
          22.533829695855164,
          22.854535868593764,
          22.829214787642726,
          22.550709971934808,
          22.618226695605905,
          22.5169498555613,
          22.272199497092515,
          22.196244270992494,
          21.276322301076352,
          20.9049788353089,
          21.428239599244147,
          22.19624326254698,
          23.031769752161207,
          23.040208004077876,
          22.846095150405056,
          22.871415677510377,
          22.567587901931294,
          23.26807797815551,
          23.1330466944231,
          23.192120029868892,
          23.099284886944666,
          23.50438885308054,
          22.778579148293026,
          22.7616998228621,
          23.2090011853391,
          23.841974184334845,
          21.79114125097771,
          21.259445511483577,
          20.136974412153034,
          20.339525190554703,
          20.48300023341342,
          19.495558822047336,
          19.799385824007913,
          19.428043631930088,
          19.69811225129863,
          19.72343261867766,
          20.423922555538347,
          19.81626491765869,
          19.90066373451008,
          20.457679401361233,
          19.909102324520063,
          19.453362402745217,
          19.428044364177396,
          19.15797768372184,
          19.10733604142378,
          19.377404012484476,
          20.288888097573047,
          20.57583523891244,
          20.542073940518883,
          19.87534370942239,
          19.866905359820525,
          19.65591457261744,
          19.613714071674625,
          18.854147410534626,
          18.052382608433053,
          17.87515159460315,
          17.849830176190757,
          18.474363193381578,
          18.14521753532201,
          19.41116421004335,
          19.0735789416289,
          19.411162416207404,
          18.896345651396835,
          18.25493373626053,
          19.326769655932672,
          19.35208769090729,
          19.740309127103238,
          20.179170796530247,
          20.170071476261114,
          19.8719064352441,
          20.152532565537467,
          20.871640546182327,
          20.819022107202038,
          20.871640173451755,
          20.345465057320528,
          20.915487961388443,
          20.748866303065743,
          21.14349931743484,
          20.450698093750763,
          20.038528449724602,
          20.538395459805912,
          20.51208614499703,
          20.380542518347156,
          20.44192743338051,
          20.284076050022634,
          20.205150858083357,
          19.863134455969924,
          20.196380178268118,
          21.055803298950195,
          21.222424717037693,
          21.748597398689625,
          21.62582607324948,
          21.599515071304253,
          21.485512234582227,
          20.126222886003102,
          19.336958022411338,
          19.09141311537904,
          18.416153757267153,
          18.53892641661585,
          19.100182064134746,
          18.942329284354322,
          18.72308886688267,
          18.5038482691038,
          18.07413879273143,
          19.18787595535633,
          20.064837830306388,
          19.494812072315746,
          19.45096621670333,
          20.79271103999244,
          21.292582026290702,
          20.441929482605406,
          20.766404481647264,
          21.836293987011537,
          22.099384375460648,
          21.467970468491597,
          21.07334110214176,
          21.204885831109223,
          21.178574821165014,
          20.950565477558182,
          20.529626792614746,
          20.591011088462714,
          21.204884907783608,
          21.09087910608166,
          21.301350014159546,
          21.660903575765143,
          22.60802043144787,
          22.25723584346942,
          22.792180766559426,
          22.494015853111538,
          21.950300906965165,
          22.099385960053652,
          21.92399119642132,
          22.75710363059343,
          22.160771296410374,
          22.800950338511765,
          22.41508728677041,
          21.757366577764007,
          21.845065425405608,
          22.029227904506545,
          22.029228055309794,
          21.88014348372767,
          23.30958758748809,
          23.406054496283677,
          23.484979916870056,
          23.248199655011298,
          23.002652719011987,
          22.546633115205175,
          22.318621842929357,
          22.073074539078455,
          20.976876447947383,
          20.538394314845963,
          20.906718441011005,
          21.266271762509714,
          20.757635612775164,
          20.897948419197135,
          20.86287177625123,
          20.96810490501447,
          22.17831199827884,
          21.967839472229244,
          22.27477535245644,
          22.11692073364904,
          22.011685657281806,
          22.037994649035408,
          21.923990943581142,
          22.055535020784404,
          22.362469465807166,
          21.923993120217236,
          22.546631850764946,
          22.362468935185067,
          22.230927654149507,
          22.2923143376127,
          22.37124075486848,
          22.976342607060694,
          22.722025408764473,
          23.414824027969175,
          24.01992440593811,
          24.686414757582824,
          23.91468890356084,
          24.07254313907389,
          23.984847267232663,
          24.195315808694726,
          23.932231070370612,
          23.54636768748576,
          23.98484856695491,
          23.677910520563984,
          24.116388922742264,
          23.563907162168896,
          23.677911491496946,
          24.95826980094528,
          24.37071006895174,
          24.379475918756388,
          24.64256631983882,
          25.256436966349828,
          26.03693226942237,
          26.40525536298737,
          25.738766224543703,
          24.57240987355647,
          23.677911569344175,
          24.554871257097663,
          24.028695105503974,
          24.11639136989312,
          24.116391857612175,
          24.607487347059603,
          25.78261347905468,
          25.563374183663914,
          25.984312662392274,
          25.76507465656979,
          25.291517563769506,
          25.002121282227915,
          25.03719811315503,
          25.256437301635742,
          25.256438150768318,
          27.203288946476416,
          28.17671531132362,
          27.95747447935574,
          28.501187653025944,
          28.30825768352104,
          28.115329767915316,
          28.85197413725941,
          28.63273227917468,
          27.685615363036845,
          27.861009401178965,
          26.966509980545528,
          27.624230426680917,
          27.045436554429642,
          26.84373549231351,
          27.15944012198831,
          25.78261372068027,
          26.1333968310819,
          25.791383359826327,
          25.519527052336155,
          null,
          24.55487121701862,
          24.08131120759447,
          24.046233555353428,
          23.923459535787348,
          23.914691011195064,
          24.142699003482598,
          24.256703413557826,
          24.4233273713021,
          24.440866698722843,
          24.73026429587377,
          24.098852470403298,
          23.92346008895334,
          24.028695529810435,
          23.85330157081042,
          23.590214383712212,
          23.493749132890827,
          23.677910562477926,
          23.940997768957605,
          23.77437655486509,
          23.546369064303725,
          23.511287484661842,
          23.213120525214684,
          23.362206298812232,
          23.6866798099753,
          23.932230677282934,
          24.440866254160326,
          24.76534072422406,
          24.55486971876717,
          24.563639292803067,
          24.379478419052095,
          24.625026302015268,
          24.73026254054139,
          24.2917813442269,
          24.905653414781003,
          24.660106615862677,
          24.703953655941074,
          24.42332557404683,
          24.45840381621421,
          24.432097431583863,
          24.712724304610763,
          24.993351211476977,
          25.22136021417947,
          25.62475935397383,
          25.826461791992188,
          25.870309778940584,
          25.56337356567383,
          25.791383662982085,
          25.765072887293947,
          25.60722309403226,
          25.80892346060476,
          26.22109291762092,
          26.221092124906175,
          26.28248039820052,
          26.922660785120343,
          26.93142973249505,
          27.09805357858289,
          26.308787722402293,
          26.273710409951605,
          26.142166638189778,
          26.23863249925653,
          26.089549219701237,
          25.782612882954663,
          24.99335159475352,
          24.335630879218257,
          24.309320375376608,
          23.370974026945856,
          23.809455604040874,
          24.14270011859062,
          24.42332693844667,
          23.949768077613243,
          24.22162522753069,
          24.283014529225948,
          23.714478890487918,
          24.07931817992978,
          24.535366501988143,
          24.425914829294218,
          25.00053450061702,
          25.119107749243277,
          24.854600212355265,
          24.13404312901195,
          24.279980181631004,
          24.21613311767578,
          24.252616529491252,
          23.915140760740712,
          23.48645819274403,
          23.687117561492165,
          23.559425337724427,
          24.47152078516197,
          24.517122047649313,
          24.672179732685912,
          24.808995147127455,
          24.90020364772137,
          24.754268550138143,
          25.328889915792598,
          24.763389943672784,
          24.46239761283387,
          24.672178383258828,
          24.526245373994062,
          24.161408060786915,
          23.93338273072286,
          23.796569637108078,
          23.80569157961049,
          23.9060205604149,
          23.687116433150692,
          23.723601498523344,
          23.887779621542442,
          24.489761225036247,
          24.389431187193054,
          24.580970484161355,
          24.7998739537336,
          24.599212170691576,
          24.80899635165177,
          25.082624067514487,
          24.699544648216126,
          25.30152675345067,
          24.854598964291203,
          24.39855219646292,
          24.45327751967306,
          24.590091740192452,
          24.498883024903808,
          24.279980780168636,
          24.307341707532196,
          24.22525329511536,
          24.562728691509243,
          24.535366501988143,
          24.50800463455169,
          24.27085965180155,
          24.34382692523205,
          24.243496903129238,
          24.00635061761451,
          23.969867961779947,
          23.92426103234997,
          24.115803395569788,
          24.079318556783065,
          24.13404220949999,
          24.398552418986885,
          24.21613216511231,
          24.425914891354267,
          24.90020354022465,
          26.131532353000043,
          25.803179997618695,
          25.547791696580486,
          25.383614895125316,
          25.420098587629084,
          25.511308004929557,
          25.429218936035596,
          25.49306646111899,
          25.41097831726074,
          25.502186554608016,
          25.611639537225365,
          25.529550330663366,
          25.55691381926408,
          25.702847190345157,
          25.76669470803707,
          26.770000595359672,
          27.81890942069775,
          27.72769941240607,
          28.59419025278849,
          28.895180637812967,
          28.284078471836686,
          27.727700146575916,
          27.81890905054676,
          28.48473918324195,
          28.594190942756477,
          28.59419149935656,
          29.916727325009816,
          29.83464124219424,
          28.95902833874536,
          28.831337125838726,
          28.548584440389895,
          29.323868429647803,
          29.18705136988378,
          28.639794325503228,
          28.776609488602713,
          28.548584516225315,
          27.92836214810561,
          27.928361790625146,
          27.818908714373627,
          26.961539106992173,
          26.6331871931378,
          27.089233288389334,
          23.796568148474947,
          24.535365927557688,
          25.091745968982682,
          25.310648115707018,
          25.073501365667536,
          24.85459904531447,
          26.040323841989544,
          26.44164631847618,
          26.888572869176894,
          27.362861320269232,
          28.220231170958662,
          27.371982478255134,
          27.107475093294028,
          26.91593683226431,
          27.18044088826526,
          26.54197597043697,
          26.286589702887277,
          26.313953445405033,
          27.572643511601175,
          26.67879047024427,
          27.271651101706436,
          28.740126040413596,
          28.530344903323588,
          28.986391733624334,
          29.013753111990543,
          27.910120898488994,
          27.910119688606247,
          28.119901022015043,
          27.37198305040418,
          25.99471962850557,
          26.870328863301616,
          26.040322563411316,
          24.991412942323837,
          23.532061901677128,
          23.258432699053643,
          22.656448478731292,
          22.87535189949336,
          23.121618612396272,
          23.91514037342941,
          24.371188964887917,
          23.80569035545191,
          24.033714432869694,
          24.12492243340047,
          24.17052906527356,
          24.398551276873015,
          24.93668675226638,
          24.53536583677764,
          24.717785262331557,
          24.480641263783834,
          24.389431689967097,
          24.717787121158075,
          24.808996866174827,
          24.18877092493201,
          24.425916317903297,
          24.425915305663928,
          24.033714430448995,
          23.550302983501417,
          23.88777782978986,
          23.668875719808284,
          23.449971016058687,
          23.85129558270801,
          24.079317766032467,
          24.535366314411487,
          23.896900772609413,
          23.878659034301652,
          23.869536655733867,
          23.896900737949363,
          24.02459375255067,
          23.541183433460255,
          23.541183401940916,
          23.358763660180333,
          23.55942372990365,
          24.152285809191987,
          23.82393135822268,
          23.43173096681862,
          23.26755390570309,
          23.012166028231118,
          23.331399822383723,
          23.55942363642939,
          23.60502783491523,
          23.823932421147788,
          23.69623863183191,
          24.051956509068283,
          24.99141356896893,
          24.644816636309923,
          24.307342186471267,
          24.25261666078608,
          24.261738335268152,
          24.070196658499285,
          23.8148122212868,
          23.29491606568537,
          23.258432764917636,
          23.605027741349552,
          23.48645594860576,
          23.468215865943943,
          23.668876037306962,
          23.605027136101512,
          23.41348930908003,
          23.431730224042578,
          23.8056893610715,
          23.805691173429416,
          23.87865753360999,
          25.53867026541727,
          26.131532669067386,
          26.72439434811905,
          28.731004351433864,
          27.63649081698782,
          27.77330521825769,
          27.381104973118788,
          26.377799441613416,
          26.578459909810658,
          26.45076761846664,
          25.76669510028886,
          24.86372060475651,
          24.982293034137772,
          25.94911489893381,
          25.438339233398438,
          25.210316793672344,
          24.945810461259267,
          24.872840698129945,
          24.471520489706588,
          24.362066286173857,
          24.663060375370875,
          24.517123322348187,
          24.644819151186013,
          24.99141421879058,
          25.08262428433456,
          24.973171845403694,
          24.799875331032464,
          24.699544360080065,
          25.465702942288456,
          25.438340360189102,
          26.29570925808727,
          26.38501245075207,
          26.23370072560511,
          26.678178351688693,
          26.139130017990027,
          25.864878215104373,
          26.233701222144738,
          26.082389748618485,
          25.71356773376465,
          25.64736787283909,
          25.618996304268165,
          25.562255133411696,
          26.110760977483032,
          25.70411059838475,
          25.912162821264328,
          26.101304044887783,
          26.063475174785776,
          26.432298437434596,
          27.047002555757796,
          26.574153284582128,
          26.820034465664655,
          26.914603253718724,
          26.489040142308596,
          26.14858797545132,
          26.403926257557462,
          26.678179609140567,
          26.744379903506793,
          27.699536484011944,
          27.387453079223633,
          27.51985216103133,
          27.018631975466434,
          26.48904046654949,
          26.29044191093322,
          26.886233269723135,
          27.1510294621195,
          26.526866836204306,
          26.630895152221765,
          26.668723584568518,
          26.337728641175396,
          26.11076082286075,
          26.195874524913904,
          26.479583771694628,
          26.139130674775696,
          26.02564722276655,
          26.01619049881873,
          26.39446963908044,
          26.479582408535,
          26.40392675228253,
          25.95944990807246,
          25.392028528553208,
          26.101303817427898,
          26.15804497148641,
          26.479583919016825,
          26.5268681008566,
          26.90514814032418,
          27.746820959186905,
          28.106185220959663,
          28.08727339309425,
          27.775191601562067,
          28.14401435852051,
          27.95487351078623,
          27.794105342691385,
          27.708991984456464,
          28.370982282678366,
          28.891115032398584,
          29.231567882208573,
          29.108627300623905,
          29.316682128452666,
          29.316681188525937,
          29.108627437892537,
          29.411251593502662,
          29.978671736932824,
          29.136996965332557,
          29.21265333642471,
          29.66659061537109,
          29.43016530883991,
          28.418265828677967,
          27.850847844447905,
          27.803561842435638,
          27.2455999583917,
          27.14157363142314,
          27.04700302372303,
          27.19831552851504,
          27.094287040133043,
          27.05646112280342,
          27.2739705695567,
          26.76329237784753,
          26.489039875570423,
          26.574152586092847,
          26.31881451342686,
          26.432299348770204,
          26.649810004069355,
          27.00917484755741,
          26.924060383647188,
          26.75383635041908,
          26.857862773045497,
          26.271530086016526,
          26.290442871389423,
          27.425282485014826,
          27.406368089730094,
          27.89813304646674,
          28.162928523198314,
          28.276411056518555,
          28.30478312338256,
          28.380439503350868,
          28.560122101126037,
          29.49636502791076,
          29.382880391292062,
          28.654690167933456,
          28.32369662404284,
          27.67116532319998,
          27.671164406799353,
          28.077815857748472,
          27.47256690248372,
          26.999716731462428,
          26.451211787694525,
          26.6592662108355,
          26.801120662434347,
          26.37555503845215,
          26.489040621271005,
          27.425283363722357,
          27.415825674129124,
          27.056459801793476,
          27.377998880007937,
          28.087272007464467,
          28.21967005814503,
          28.077816233063583,
          28.29532591299838,
          28.83437343954232,
          30.80142901917423,
          31.30264909111493,
          31.20808044301365,
          31.16079524722721,
          31.491788466102786,
          30.45152161731936,
          30.167809708406487,
          29.61930518563351,
          29.477450989931363,
          29.089713956791073,
          29.41125098606501,
          29.600390849148322,
          29.78007421130144,
          30.877086791482714,
          30.829799612936714,
          30.735229694287476,
          29.184284590895476,
          29.893558205513955,
          29.713875516209615,
          29.09917020554461,
          28.938402684293816,
          29.014057393884283,
          29.30722485402332,
          29.28830895973503,
          28.37098167583373,
          28.370981216430664,
          28.370982351289673,
          27.898132044265388,
          27.80356237293456,
          27.708991257314548,
          27.434739980449212,
          27.1415736977273,
          26.857862309215367,
          27.094287796695593,
          27.22668558413286,
          27.264512560810797,
          27.236141524077333,
          27.02808920188533,
          27.255056101742824,
          26.952431954370297,
          26.47958234987824,
          26.13912980294127,
          26.422842054828333,
          26.271529333586447,
          26.659266670108426,
          26.356642601719702,
          26.39447064819563,
          26.470125018225264,
          25.8270501636362,
          25.912163633117927,
          25.34474283339916,
          25.420399006907868,
          25.56225439058014,
          25.70411038084782,
          25.817593361646722,
          25.21234592781474,
          25.49605570484091,
          25.042119932805956,
          24.796236759091855,
          25.29745817376774,
          25.713567554612947,
          25.68519497214932,
          25.486600333326678,
          25.420398075953816,
          25.061033231273075,
          25.39202984978151,
          25.117775165677884,
          24.701668820742746,
          24.578727401201487,
          24.644925377773564,
          24.45578660525924,
          24.190990396083702,
          23.831626056000335,
          23.40606021078037,
          23.604655823639476,
          23.59520090617565,
          23.16963438019447,
          22.98049386352341,
          22.933210917881556,
          23.226375776336575,
          23.075064896480736,
          23.292575821276802,
          22.79135555123651,
          22.526558497908347,
          22.592757045809947,
          23.434431992182905,
          22.753527473392666,
          22.60221502316446,
          22.885925171466617,
          22.83864035470706,
          22.536016262078505,
          22.971039710226233,
          22.545473098754883,
          22.517102237185178,
          21.949681250052294,
          22.12936603795836,
          22.58330029399739,
          22.034794810551336,
          21.751085879695555,
          21.47683253512468,
          21.89294102166018,
          21.56194585272626,
          20.1433967394821,
          19.084214063943826,
          19.57597746222851,
          19.282809616673916,
          19.481408538937476,
          19.774574099931353,
          19.736747410879826,
          19.623261634349724,
          19.604348388790147,
          19.859686946570353,
          20.985069612851593,
          21.37280706669949,
          21.779457066779777,
          21.363349632490106,
          21.66597258858617,
          21.56194529870933,
          21.9402273405887,
          22.2333928789037,
          21.930770038487804,
          21.57140292743409,
          21.533575609535426,
          22.1200008392334,
          21.1200008392334,
          20.8700008392334,
          20,
          19.280000686645508,
          19.649999618530273,
          20.950000762939453,
          21.100000381469727,
          20.770000457763672,
          20.68000030517578,
          20.40999984741211,
          20.170000076293945,
          20.200000762939453,
          20.290000915527344,
          21.1299991607666,
          20,
          19.56999969482422,
          19.049999237060547,
          18.899999618530273,
          19.899999618530273,
          20.399999618530273,
          20.149999618530273,
          20.31999969482422,
          21.299999237060547,
          21.450000762939453,
          21.479999542236328,
          21.280000686645508,
          22,
          22.25,
          22.200000762939453,
          21.25,
          21.030000686645508,
          20.520000457763672,
          20.360000610351562,
          20.200000762939453,
          21.059999465942383,
          20.799999237060547,
          20.020000457763672,
          19.579999923706055,
          19.600000381469727,
          18.959999084472656,
          18.170000076293945,
          18.139999389648438,
          17.700000762939453,
          18.010000228881836,
          18,
          18.3799991607666,
          18.260000228881836,
          18.3700008392334,
          18.950000762939453,
          20.5,
          19.559999465942383,
          19.290000915527344,
          19.229999542236328,
          19.350000381469727,
          19.010000228881836,
          19.899999618530273,
          19.190000534057617,
          19.1200008392334,
          19.219999313354492,
          19.149999618530273,
          18.75,
          18.440000534057617,
          18.260000228881836,
          18.399999618530273,
          19.030000686645508,
          19.600000381469727,
          20.149999618530273,
          19.940000534057617,
          19.8799991607666,
          20.200000762939453,
          20.079999923706055,
          19.90999984741211,
          19.40999984741211,
          19.510000228881836,
          19.790000915527344,
          19.510000228881836,
          19.489999771118164,
          20.290000915527344,
          19.790000915527344,
          19.649999618530273,
          19.790000915527344,
          19.520000457763672,
          19.649999618530273,
          19.350000381469727,
          19.139999389648438,
          19.489999771118164,
          20.43000030517578,
          21.1200008392334,
          21.3799991607666,
          21.799999237060547,
          22.110000610351562,
          22.149999618530273,
          22,
          21.59000015258789,
          20.65999984741211,
          20.950000762939453,
          21.799999237060547,
          21.989999771118164,
          21.920000076293945,
          21.59000015258789,
          21.600000381469727,
          20.989999771118164,
          20.530000686645508,
          20.600000381469727,
          20.530000686645508,
          20.809999465942383,
          20.81999969482422,
          20.420000076293945,
          21,
          20.950000762939453,
          20.25,
          19.8700008392334,
          19.969999313354492,
          19.700000762939453,
          20.299999237060547,
          20.510000228881836,
          20.649999618530273,
          20.149999618530273,
          19.950000762939453,
          19.5,
          19.209999084472656,
          19.40999984741211,
          19.350000381469727,
          19.299999237060547,
          18.540000915527344,
          18.450000762939453,
          17.770000457763672,
          17.18000030517578,
          16.350000381469727,
          16.3799991607666,
          15.800000190734863,
          15.199999809265137,
          16.40999984741211,
          16.440000534057617
         ],
         "type": "candlestick",
         "visible": true,
         "x": [
          "2017-03-20T00:00:00",
          "2017-03-21T00:00:00",
          "2017-03-22T00:00:00",
          "2017-03-23T00:00:00",
          "2017-03-24T00:00:00",
          "2017-03-27T00:00:00",
          "2017-03-28T00:00:00",
          "2017-03-29T00:00:00",
          "2017-03-30T00:00:00",
          "2017-03-31T00:00:00",
          "2017-04-05T00:00:00",
          "2017-04-06T00:00:00",
          "2017-04-07T00:00:00",
          "2017-04-10T00:00:00",
          "2017-04-11T00:00:00",
          "2017-04-12T00:00:00",
          "2017-04-13T00:00:00",
          "2017-04-14T00:00:00",
          "2017-04-17T00:00:00",
          "2017-04-18T00:00:00",
          "2017-04-19T00:00:00",
          "2017-04-20T00:00:00",
          "2017-04-21T00:00:00",
          "2017-04-24T00:00:00",
          "2017-04-25T00:00:00",
          "2017-04-26T00:00:00",
          "2017-04-27T00:00:00",
          "2017-04-28T00:00:00",
          "2017-05-02T00:00:00",
          "2017-05-03T00:00:00",
          "2017-05-04T00:00:00",
          "2017-05-05T00:00:00",
          "2017-05-08T00:00:00",
          "2017-05-09T00:00:00",
          "2017-05-10T00:00:00",
          "2017-05-11T00:00:00",
          "2017-05-12T00:00:00",
          "2017-05-15T00:00:00",
          "2017-05-16T00:00:00",
          "2017-05-17T00:00:00",
          "2017-05-18T00:00:00",
          "2017-05-19T00:00:00",
          "2017-05-22T00:00:00",
          "2017-05-23T00:00:00",
          "2017-05-24T00:00:00",
          "2017-05-25T00:00:00",
          "2017-05-26T00:00:00",
          "2017-05-31T00:00:00",
          "2017-06-01T00:00:00",
          "2017-06-02T00:00:00",
          "2017-06-05T00:00:00",
          "2017-06-06T00:00:00",
          "2017-06-07T00:00:00",
          "2017-06-08T00:00:00",
          "2017-06-09T00:00:00",
          "2017-06-12T00:00:00",
          "2017-06-13T00:00:00",
          "2017-06-14T00:00:00",
          "2017-06-15T00:00:00",
          "2017-06-16T00:00:00",
          "2017-06-19T00:00:00",
          "2017-06-20T00:00:00",
          "2017-06-21T00:00:00",
          "2017-06-22T00:00:00",
          "2017-06-23T00:00:00",
          "2017-06-26T00:00:00",
          "2017-06-27T00:00:00",
          "2017-06-28T00:00:00",
          "2017-06-29T00:00:00",
          "2017-06-30T00:00:00",
          "2017-07-03T00:00:00",
          "2017-07-04T00:00:00",
          "2017-07-05T00:00:00",
          "2017-07-06T00:00:00",
          "2017-07-07T00:00:00",
          "2017-07-10T00:00:00",
          "2017-07-11T00:00:00",
          "2017-07-12T00:00:00",
          "2017-07-13T00:00:00",
          "2017-07-14T00:00:00",
          "2017-07-17T00:00:00",
          "2017-07-18T00:00:00",
          "2017-07-19T00:00:00",
          "2017-07-20T00:00:00",
          "2017-07-21T00:00:00",
          "2017-07-24T00:00:00",
          "2017-07-25T00:00:00",
          "2017-07-26T00:00:00",
          "2017-07-27T00:00:00",
          "2017-07-28T00:00:00",
          "2017-07-31T00:00:00",
          "2017-08-01T00:00:00",
          "2017-08-02T00:00:00",
          "2017-08-03T00:00:00",
          "2017-08-04T00:00:00",
          "2017-08-07T00:00:00",
          "2017-08-08T00:00:00",
          "2017-08-09T00:00:00",
          "2017-08-10T00:00:00",
          "2017-08-11T00:00:00",
          "2017-08-14T00:00:00",
          "2017-08-15T00:00:00",
          "2017-08-16T00:00:00",
          "2017-08-17T00:00:00",
          "2017-08-18T00:00:00",
          "2017-08-21T00:00:00",
          "2017-08-22T00:00:00",
          "2017-08-23T00:00:00",
          "2017-08-24T00:00:00",
          "2017-08-25T00:00:00",
          "2017-08-28T00:00:00",
          "2017-08-29T00:00:00",
          "2017-08-30T00:00:00",
          "2017-08-31T00:00:00",
          "2017-09-01T00:00:00",
          "2017-09-04T00:00:00",
          "2017-09-05T00:00:00",
          "2017-09-06T00:00:00",
          "2017-09-07T00:00:00",
          "2017-09-08T00:00:00",
          "2017-09-11T00:00:00",
          "2017-09-12T00:00:00",
          "2017-09-13T00:00:00",
          "2017-09-14T00:00:00",
          "2017-09-15T00:00:00",
          "2017-09-18T00:00:00",
          "2017-09-19T00:00:00",
          "2017-09-20T00:00:00",
          "2017-09-21T00:00:00",
          "2017-09-22T00:00:00",
          "2017-09-25T00:00:00",
          "2017-09-26T00:00:00",
          "2017-09-27T00:00:00",
          "2017-09-28T00:00:00",
          "2017-09-29T00:00:00",
          "2017-10-09T00:00:00",
          "2017-10-10T00:00:00",
          "2017-10-11T00:00:00",
          "2017-10-12T00:00:00",
          "2017-10-13T00:00:00",
          "2017-10-16T00:00:00",
          "2017-10-17T00:00:00",
          "2017-10-18T00:00:00",
          "2017-10-19T00:00:00",
          "2017-10-20T00:00:00",
          "2017-10-23T00:00:00",
          "2017-10-24T00:00:00",
          "2017-10-25T00:00:00",
          "2017-10-26T00:00:00",
          "2017-10-27T00:00:00",
          "2017-10-30T00:00:00",
          "2017-10-31T00:00:00",
          "2017-11-01T00:00:00",
          "2017-11-02T00:00:00",
          "2017-11-03T00:00:00",
          "2017-11-06T00:00:00",
          "2017-11-07T00:00:00",
          "2017-11-08T00:00:00",
          "2017-11-09T00:00:00",
          "2017-11-10T00:00:00",
          "2017-11-13T00:00:00",
          "2017-11-14T00:00:00",
          "2017-11-15T00:00:00",
          "2017-11-16T00:00:00",
          "2017-11-17T00:00:00",
          "2017-11-20T00:00:00",
          "2017-11-21T00:00:00",
          "2017-11-22T00:00:00",
          "2017-11-23T00:00:00",
          "2017-11-24T00:00:00",
          "2017-11-27T00:00:00",
          "2017-11-28T00:00:00",
          "2017-11-29T00:00:00",
          "2017-11-30T00:00:00",
          "2017-12-01T00:00:00",
          "2017-12-04T00:00:00",
          "2017-12-05T00:00:00",
          "2017-12-06T00:00:00",
          "2017-12-07T00:00:00",
          "2017-12-08T00:00:00",
          "2017-12-11T00:00:00",
          "2017-12-12T00:00:00",
          "2017-12-13T00:00:00",
          "2017-12-14T00:00:00",
          "2017-12-15T00:00:00",
          "2017-12-18T00:00:00",
          "2017-12-19T00:00:00",
          "2017-12-20T00:00:00",
          "2017-12-21T00:00:00",
          "2017-12-22T00:00:00",
          "2017-12-25T00:00:00",
          "2017-12-26T00:00:00",
          "2017-12-27T00:00:00",
          "2017-12-28T00:00:00",
          "2017-12-29T00:00:00",
          "2018-01-02T00:00:00",
          "2018-01-03T00:00:00",
          "2018-01-04T00:00:00",
          "2018-01-05T00:00:00",
          "2018-01-08T00:00:00",
          "2018-01-09T00:00:00",
          "2018-01-10T00:00:00",
          "2018-01-11T00:00:00",
          "2018-01-12T00:00:00",
          "2018-01-15T00:00:00",
          "2018-01-16T00:00:00",
          "2018-01-17T00:00:00",
          "2018-01-18T00:00:00",
          "2018-01-19T00:00:00",
          "2018-01-22T00:00:00",
          "2018-01-23T00:00:00",
          "2018-01-24T00:00:00",
          "2018-01-25T00:00:00",
          "2018-01-26T00:00:00",
          "2018-01-29T00:00:00",
          "2018-01-30T00:00:00",
          "2018-01-31T00:00:00",
          "2018-02-01T00:00:00",
          "2018-02-02T00:00:00",
          "2018-02-05T00:00:00",
          "2018-02-06T00:00:00",
          "2018-02-07T00:00:00",
          "2018-02-08T00:00:00",
          "2018-02-09T00:00:00",
          "2018-02-12T00:00:00",
          "2018-02-13T00:00:00",
          "2018-02-14T00:00:00",
          "2018-02-22T00:00:00",
          "2018-02-23T00:00:00",
          "2018-02-26T00:00:00",
          "2018-02-27T00:00:00",
          "2018-02-28T00:00:00",
          "2018-03-01T00:00:00",
          "2018-03-02T00:00:00",
          "2018-03-05T00:00:00",
          "2018-03-06T00:00:00",
          "2018-03-07T00:00:00",
          "2018-03-08T00:00:00",
          "2018-03-09T00:00:00",
          "2018-03-12T00:00:00",
          "2018-03-13T00:00:00",
          "2018-03-14T00:00:00",
          "2018-03-15T00:00:00",
          "2018-03-16T00:00:00",
          "2018-03-19T00:00:00",
          "2018-03-20T00:00:00",
          "2018-03-21T00:00:00",
          "2018-03-22T00:00:00",
          "2018-03-23T00:00:00",
          "2018-03-26T00:00:00",
          "2018-03-27T00:00:00",
          "2018-03-28T00:00:00",
          "2018-03-29T00:00:00",
          "2018-03-30T00:00:00",
          "2018-04-02T00:00:00",
          "2018-04-03T00:00:00",
          "2018-04-04T00:00:00",
          "2018-04-09T00:00:00",
          "2018-04-10T00:00:00",
          "2018-04-11T00:00:00",
          "2018-04-12T00:00:00",
          "2018-04-13T00:00:00",
          "2018-04-16T00:00:00",
          "2018-04-17T00:00:00",
          "2018-04-18T00:00:00",
          "2018-04-19T00:00:00",
          "2018-04-20T00:00:00",
          "2018-04-23T00:00:00",
          "2018-04-24T00:00:00",
          "2018-04-25T00:00:00",
          "2018-04-26T00:00:00",
          "2018-04-27T00:00:00",
          "2018-05-02T00:00:00",
          "2018-05-03T00:00:00",
          "2018-05-04T00:00:00",
          "2018-05-07T00:00:00",
          "2018-05-08T00:00:00",
          "2018-05-09T00:00:00",
          "2018-05-10T00:00:00",
          "2018-05-11T00:00:00",
          "2018-05-14T00:00:00",
          "2018-05-15T00:00:00",
          "2018-05-16T00:00:00",
          "2018-05-17T00:00:00",
          "2018-05-18T00:00:00",
          "2018-05-21T00:00:00",
          "2018-05-22T00:00:00",
          "2018-05-23T00:00:00",
          "2018-05-24T00:00:00",
          "2018-05-25T00:00:00",
          "2018-05-28T00:00:00",
          "2018-05-29T00:00:00",
          "2018-05-30T00:00:00",
          "2018-05-31T00:00:00",
          "2018-06-01T00:00:00",
          "2018-06-04T00:00:00",
          "2018-06-05T00:00:00",
          "2018-06-06T00:00:00",
          "2018-06-07T00:00:00",
          "2018-06-08T00:00:00",
          "2018-06-11T00:00:00",
          "2018-06-12T00:00:00",
          "2018-06-13T00:00:00",
          "2018-06-14T00:00:00",
          "2018-06-15T00:00:00",
          "2018-06-19T00:00:00",
          "2018-06-20T00:00:00",
          "2018-06-21T00:00:00",
          "2018-06-22T00:00:00",
          "2018-06-25T00:00:00",
          "2018-06-26T00:00:00",
          "2018-06-27T00:00:00",
          "2018-06-28T00:00:00",
          "2018-06-29T00:00:00",
          "2018-07-02T00:00:00",
          "2018-07-03T00:00:00",
          "2018-07-04T00:00:00",
          "2018-07-05T00:00:00",
          "2018-07-06T00:00:00",
          "2018-07-09T00:00:00",
          "2018-07-10T00:00:00",
          "2018-07-11T00:00:00",
          "2018-07-12T00:00:00",
          "2018-07-13T00:00:00",
          "2018-07-16T00:00:00",
          "2018-07-17T00:00:00",
          "2018-07-18T00:00:00",
          "2018-07-19T00:00:00",
          "2018-07-20T00:00:00",
          "2018-07-23T00:00:00",
          "2018-07-24T00:00:00",
          "2018-07-25T00:00:00",
          "2018-07-26T00:00:00",
          "2018-07-27T00:00:00",
          "2018-07-30T00:00:00",
          "2018-07-31T00:00:00",
          "2018-08-01T00:00:00",
          "2018-08-02T00:00:00",
          "2018-08-03T00:00:00",
          "2018-08-06T00:00:00",
          "2018-08-07T00:00:00",
          "2018-08-08T00:00:00",
          "2018-08-09T00:00:00",
          "2018-08-10T00:00:00",
          "2018-08-13T00:00:00",
          "2018-08-14T00:00:00",
          "2018-08-15T00:00:00",
          "2018-08-16T00:00:00",
          "2018-08-17T00:00:00",
          "2018-08-20T00:00:00",
          "2018-08-21T00:00:00",
          "2018-08-22T00:00:00",
          "2018-08-23T00:00:00",
          "2018-08-24T00:00:00",
          "2018-08-27T00:00:00",
          "2018-08-28T00:00:00",
          "2018-08-29T00:00:00",
          "2018-08-30T00:00:00",
          "2018-08-31T00:00:00",
          "2018-09-03T00:00:00",
          "2018-09-04T00:00:00",
          "2018-09-05T00:00:00",
          "2018-09-06T00:00:00",
          "2018-09-07T00:00:00",
          "2018-09-10T00:00:00",
          "2018-09-11T00:00:00",
          "2018-09-12T00:00:00",
          "2018-09-13T00:00:00",
          "2018-09-14T00:00:00",
          "2018-09-17T00:00:00",
          "2018-09-18T00:00:00",
          "2018-09-19T00:00:00",
          "2018-09-20T00:00:00",
          "2018-09-21T00:00:00",
          "2018-09-25T00:00:00",
          "2018-09-26T00:00:00",
          "2018-09-27T00:00:00",
          "2018-09-28T00:00:00",
          "2018-10-08T00:00:00",
          "2018-10-09T00:00:00",
          "2018-10-10T00:00:00",
          "2018-10-11T00:00:00",
          "2018-10-12T00:00:00",
          "2018-10-15T00:00:00",
          "2018-10-16T00:00:00",
          "2018-10-17T00:00:00",
          "2018-10-18T00:00:00",
          "2018-10-19T00:00:00",
          "2018-10-22T00:00:00",
          "2018-10-23T00:00:00",
          "2018-10-24T00:00:00",
          "2018-10-25T00:00:00",
          "2018-10-26T00:00:00",
          "2018-10-29T00:00:00",
          "2018-10-30T00:00:00",
          "2018-10-31T00:00:00",
          "2018-11-01T00:00:00",
          "2018-11-02T00:00:00",
          "2018-11-05T00:00:00",
          "2018-11-06T00:00:00",
          "2018-11-07T00:00:00",
          "2018-11-08T00:00:00",
          "2018-11-09T00:00:00",
          "2018-11-12T00:00:00",
          "2018-11-13T00:00:00",
          "2018-11-14T00:00:00",
          "2018-11-15T00:00:00",
          "2018-11-16T00:00:00",
          "2018-11-19T00:00:00",
          "2018-11-20T00:00:00",
          "2018-11-21T00:00:00",
          "2018-11-22T00:00:00",
          "2018-11-23T00:00:00",
          "2018-11-26T00:00:00",
          "2018-11-27T00:00:00",
          "2018-11-28T00:00:00",
          "2018-11-29T00:00:00",
          "2018-11-30T00:00:00",
          "2018-12-03T00:00:00",
          "2018-12-04T00:00:00",
          "2018-12-05T00:00:00",
          "2018-12-06T00:00:00",
          "2018-12-07T00:00:00",
          "2018-12-10T00:00:00",
          "2018-12-11T00:00:00",
          "2018-12-12T00:00:00",
          "2018-12-13T00:00:00",
          "2018-12-14T00:00:00",
          "2018-12-17T00:00:00",
          "2018-12-18T00:00:00",
          "2018-12-19T00:00:00",
          "2018-12-20T00:00:00",
          "2018-12-21T00:00:00",
          "2018-12-24T00:00:00",
          "2018-12-25T00:00:00",
          "2018-12-26T00:00:00",
          "2018-12-27T00:00:00",
          "2018-12-28T00:00:00",
          "2019-01-02T00:00:00",
          "2019-01-03T00:00:00",
          "2019-01-04T00:00:00",
          "2019-01-07T00:00:00",
          "2019-01-08T00:00:00",
          "2019-01-09T00:00:00",
          "2019-01-10T00:00:00",
          "2019-01-11T00:00:00",
          "2019-01-14T00:00:00",
          "2019-01-15T00:00:00",
          "2019-01-16T00:00:00",
          "2019-01-17T00:00:00",
          "2019-01-18T00:00:00",
          "2019-01-21T00:00:00",
          "2019-01-22T00:00:00",
          "2019-01-23T00:00:00",
          "2019-01-24T00:00:00",
          "2019-01-25T00:00:00",
          "2019-01-28T00:00:00",
          "2019-01-29T00:00:00",
          "2019-01-30T00:00:00",
          "2019-01-31T00:00:00",
          "2019-02-01T00:00:00",
          "2019-02-11T00:00:00",
          "2019-02-12T00:00:00",
          "2019-02-13T00:00:00",
          "2019-02-14T00:00:00",
          "2019-02-15T00:00:00",
          "2019-02-18T00:00:00",
          "2019-02-19T00:00:00",
          "2019-02-20T00:00:00",
          "2019-02-21T00:00:00",
          "2019-02-22T00:00:00",
          "2019-02-25T00:00:00",
          "2019-02-26T00:00:00",
          "2019-02-27T00:00:00",
          "2019-02-28T00:00:00",
          "2019-03-01T00:00:00",
          "2019-03-04T00:00:00",
          "2019-03-05T00:00:00",
          "2019-03-06T00:00:00",
          "2019-03-07T00:00:00",
          "2019-03-08T00:00:00",
          "2019-03-11T00:00:00",
          "2019-03-12T00:00:00",
          "2019-03-13T00:00:00",
          "2019-03-14T00:00:00",
          "2019-03-15T00:00:00",
          "2019-03-18T00:00:00",
          "2019-03-19T00:00:00",
          "2019-03-20T00:00:00",
          "2019-03-21T00:00:00",
          "2019-03-22T00:00:00",
          "2019-03-25T00:00:00",
          "2019-03-26T00:00:00",
          "2019-03-27T00:00:00",
          "2019-03-28T00:00:00",
          "2019-03-29T00:00:00",
          "2019-04-01T00:00:00",
          "2019-04-02T00:00:00",
          "2019-04-03T00:00:00",
          "2019-04-04T00:00:00",
          "2019-04-08T00:00:00",
          "2019-04-09T00:00:00",
          "2019-04-10T00:00:00",
          "2019-04-11T00:00:00",
          "2019-04-12T00:00:00",
          "2019-04-15T00:00:00",
          "2019-04-16T00:00:00",
          "2019-04-17T00:00:00",
          "2019-04-18T00:00:00",
          "2019-04-19T00:00:00",
          "2019-04-22T00:00:00",
          "2019-04-23T00:00:00",
          "2019-04-24T00:00:00",
          "2019-04-25T00:00:00",
          "2019-04-26T00:00:00",
          "2019-04-30T00:00:00",
          "2019-05-06T00:00:00",
          "2019-05-07T00:00:00",
          "2019-05-08T00:00:00",
          "2019-05-09T00:00:00",
          "2019-05-10T00:00:00",
          "2019-05-13T00:00:00",
          "2019-05-14T00:00:00",
          "2019-05-15T00:00:00",
          "2019-05-16T00:00:00",
          "2019-05-17T00:00:00",
          "2019-05-20T00:00:00",
          "2019-05-21T00:00:00",
          "2019-05-22T00:00:00",
          "2019-05-23T00:00:00",
          "2019-05-24T00:00:00",
          "2019-05-27T00:00:00",
          "2019-05-28T00:00:00",
          "2019-05-29T00:00:00",
          "2019-05-30T00:00:00",
          "2019-05-31T00:00:00",
          "2019-06-03T00:00:00",
          "2019-06-04T00:00:00",
          "2019-06-05T00:00:00",
          "2019-06-06T00:00:00",
          "2019-06-10T00:00:00",
          "2019-06-11T00:00:00",
          "2019-06-12T00:00:00",
          "2019-06-13T00:00:00",
          "2019-06-14T00:00:00",
          "2019-06-17T00:00:00",
          "2019-06-18T00:00:00",
          "2019-06-19T00:00:00",
          "2019-06-20T00:00:00",
          "2019-06-21T00:00:00",
          "2019-06-24T00:00:00",
          "2019-06-25T00:00:00",
          "2019-06-26T00:00:00",
          "2019-06-27T00:00:00",
          "2019-06-28T00:00:00",
          "2019-07-01T00:00:00",
          "2019-07-02T00:00:00",
          "2019-07-03T00:00:00",
          "2019-07-04T00:00:00",
          "2019-07-05T00:00:00",
          "2019-07-08T00:00:00",
          "2019-07-09T00:00:00",
          "2019-07-10T00:00:00",
          "2019-07-11T00:00:00",
          "2019-07-12T00:00:00",
          "2019-07-15T00:00:00",
          "2019-07-16T00:00:00",
          "2019-07-17T00:00:00",
          "2019-07-18T00:00:00",
          "2019-07-19T00:00:00",
          "2019-07-22T00:00:00",
          "2019-07-23T00:00:00",
          "2019-07-24T00:00:00",
          "2019-07-25T00:00:00",
          "2019-07-26T00:00:00",
          "2019-07-29T00:00:00",
          "2019-07-30T00:00:00",
          "2019-07-31T00:00:00",
          "2019-08-01T00:00:00",
          "2019-08-02T00:00:00",
          "2019-08-05T00:00:00",
          "2019-08-06T00:00:00",
          "2019-08-07T00:00:00",
          "2019-08-08T00:00:00",
          "2019-08-09T00:00:00",
          "2019-08-12T00:00:00",
          "2019-08-13T00:00:00",
          "2019-08-14T00:00:00",
          "2019-08-15T00:00:00",
          "2019-08-16T00:00:00",
          "2019-08-19T00:00:00",
          "2019-08-20T00:00:00",
          "2019-08-21T00:00:00",
          "2019-08-22T00:00:00",
          "2019-08-23T00:00:00",
          "2019-08-26T00:00:00",
          "2019-08-27T00:00:00",
          "2019-08-28T00:00:00",
          "2019-08-29T00:00:00",
          "2019-08-30T00:00:00",
          "2019-09-02T00:00:00",
          "2019-09-03T00:00:00",
          "2019-09-04T00:00:00",
          "2019-09-05T00:00:00",
          "2019-09-06T00:00:00",
          "2019-09-09T00:00:00",
          "2019-09-10T00:00:00",
          "2019-09-11T00:00:00",
          "2019-09-12T00:00:00",
          "2019-09-16T00:00:00",
          "2019-09-17T00:00:00",
          "2019-09-18T00:00:00",
          "2019-09-19T00:00:00",
          "2019-09-20T00:00:00",
          "2019-09-23T00:00:00",
          "2019-09-24T00:00:00",
          "2019-09-25T00:00:00",
          "2019-09-26T00:00:00",
          "2019-09-27T00:00:00",
          "2019-09-30T00:00:00",
          "2019-10-08T00:00:00",
          "2019-10-09T00:00:00",
          "2019-10-10T00:00:00",
          "2019-10-11T00:00:00",
          "2019-10-14T00:00:00",
          "2019-10-15T00:00:00",
          "2019-10-16T00:00:00",
          "2019-10-17T00:00:00",
          "2019-10-18T00:00:00",
          "2019-10-21T00:00:00",
          "2019-10-22T00:00:00",
          "2019-10-23T00:00:00",
          "2019-10-24T00:00:00",
          "2019-10-25T00:00:00",
          "2019-10-28T00:00:00",
          "2019-10-29T00:00:00",
          "2019-10-30T00:00:00",
          "2019-10-31T00:00:00",
          "2019-11-01T00:00:00",
          "2019-11-04T00:00:00",
          "2019-11-05T00:00:00",
          "2019-11-06T00:00:00",
          "2019-11-07T00:00:00",
          "2019-11-08T00:00:00",
          "2019-11-11T00:00:00",
          "2019-11-12T00:00:00",
          "2019-11-13T00:00:00",
          "2019-11-14T00:00:00",
          "2019-11-15T00:00:00",
          "2019-11-18T00:00:00",
          "2019-11-19T00:00:00",
          "2019-11-20T00:00:00",
          "2019-11-21T00:00:00",
          "2019-11-22T00:00:00",
          "2019-11-25T00:00:00",
          "2019-11-26T00:00:00",
          "2019-11-27T00:00:00",
          "2019-11-28T00:00:00",
          "2019-11-29T00:00:00",
          "2019-12-02T00:00:00",
          "2019-12-03T00:00:00",
          "2019-12-04T00:00:00",
          "2019-12-05T00:00:00",
          "2019-12-06T00:00:00",
          "2019-12-09T00:00:00",
          "2019-12-10T00:00:00",
          "2019-12-11T00:00:00",
          "2019-12-12T00:00:00",
          "2019-12-13T00:00:00",
          "2019-12-16T00:00:00",
          "2019-12-17T00:00:00",
          "2019-12-18T00:00:00",
          "2019-12-19T00:00:00",
          "2019-12-20T00:00:00",
          "2019-12-23T00:00:00",
          "2019-12-24T00:00:00",
          "2019-12-25T00:00:00",
          "2019-12-26T00:00:00",
          "2019-12-27T00:00:00",
          "2019-12-30T00:00:00",
          "2019-12-31T00:00:00",
          "2020-01-02T00:00:00",
          "2020-01-03T00:00:00",
          "2020-01-06T00:00:00",
          "2020-01-07T00:00:00",
          "2020-01-08T00:00:00",
          "2020-01-09T00:00:00",
          "2020-01-10T00:00:00",
          "2020-01-13T00:00:00",
          "2020-01-14T00:00:00",
          "2020-01-15T00:00:00",
          "2020-01-16T00:00:00",
          "2020-01-17T00:00:00",
          "2020-01-20T00:00:00",
          "2020-01-21T00:00:00",
          "2020-01-22T00:00:00",
          "2020-01-23T00:00:00",
          "2020-02-03T00:00:00",
          "2020-02-04T00:00:00",
          "2020-02-05T00:00:00",
          "2020-02-06T00:00:00",
          "2020-02-07T00:00:00",
          "2020-02-10T00:00:00",
          "2020-02-11T00:00:00",
          "2020-02-12T00:00:00",
          "2020-02-13T00:00:00",
          "2020-02-14T00:00:00",
          "2020-02-17T00:00:00",
          "2020-02-18T00:00:00",
          "2020-02-19T00:00:00",
          "2020-02-20T00:00:00",
          "2020-02-21T00:00:00",
          "2020-02-24T00:00:00",
          "2020-02-25T00:00:00",
          "2020-02-26T00:00:00",
          "2020-02-27T00:00:00",
          "2020-02-28T00:00:00",
          "2020-03-02T00:00:00",
          "2020-03-03T00:00:00",
          "2020-03-04T00:00:00",
          "2020-03-05T00:00:00",
          "2020-03-06T00:00:00",
          "2020-03-09T00:00:00",
          "2020-03-10T00:00:00",
          "2020-03-11T00:00:00",
          "2020-03-12T00:00:00",
          "2020-03-13T00:00:00",
          "2020-03-16T00:00:00",
          "2020-03-17T00:00:00",
          "2020-03-18T00:00:00",
          "2020-03-19T00:00:00",
          "2020-03-20T00:00:00",
          "2020-03-23T00:00:00",
          "2020-03-24T00:00:00",
          "2020-03-25T00:00:00",
          "2020-03-26T00:00:00",
          "2020-03-27T00:00:00",
          "2020-03-30T00:00:00",
          "2020-03-31T00:00:00",
          "2020-04-01T00:00:00",
          "2020-04-02T00:00:00",
          "2020-04-03T00:00:00",
          "2020-04-07T00:00:00",
          "2020-04-08T00:00:00",
          "2020-04-09T00:00:00",
          "2020-04-10T00:00:00",
          "2020-04-13T00:00:00",
          "2020-04-14T00:00:00",
          "2020-04-15T00:00:00",
          "2020-04-16T00:00:00",
          "2020-04-17T00:00:00",
          "2020-04-20T00:00:00",
          "2020-04-21T00:00:00",
          "2020-04-22T00:00:00",
          "2020-04-23T00:00:00",
          "2020-04-24T00:00:00",
          "2020-04-27T00:00:00",
          "2020-04-28T00:00:00",
          "2020-04-29T00:00:00",
          "2020-04-30T00:00:00",
          "2020-05-06T00:00:00",
          "2020-05-07T00:00:00",
          "2020-05-08T00:00:00",
          "2020-05-11T00:00:00",
          "2020-05-12T00:00:00",
          "2020-05-13T00:00:00",
          "2020-05-14T00:00:00",
          "2020-05-15T00:00:00",
          "2020-05-18T00:00:00",
          "2020-05-19T00:00:00",
          "2020-05-20T00:00:00",
          "2020-05-21T00:00:00",
          "2020-05-22T00:00:00",
          "2020-05-25T00:00:00",
          "2020-05-26T00:00:00",
          "2020-05-27T00:00:00",
          "2020-05-28T00:00:00",
          "2020-05-29T00:00:00",
          "2020-06-01T00:00:00",
          "2020-06-02T00:00:00",
          "2020-06-03T00:00:00",
          "2020-06-04T00:00:00",
          "2020-06-05T00:00:00",
          "2020-06-08T00:00:00",
          "2020-06-09T00:00:00",
          "2020-06-10T00:00:00",
          "2020-06-11T00:00:00",
          "2020-06-12T00:00:00",
          "2020-06-15T00:00:00",
          "2020-06-16T00:00:00",
          "2020-06-17T00:00:00",
          "2020-06-18T00:00:00",
          "2020-06-19T00:00:00",
          "2020-06-22T00:00:00",
          "2020-06-23T00:00:00",
          "2020-06-24T00:00:00",
          "2020-06-29T00:00:00",
          "2020-06-30T00:00:00",
          "2020-07-01T00:00:00",
          "2020-07-02T00:00:00",
          "2020-07-03T00:00:00",
          "2020-07-06T00:00:00",
          "2020-07-07T00:00:00",
          "2020-07-08T00:00:00",
          "2020-07-09T00:00:00",
          "2020-07-10T00:00:00",
          "2020-07-13T00:00:00",
          "2020-07-14T00:00:00",
          "2020-07-15T00:00:00",
          "2020-07-16T00:00:00",
          "2020-07-17T00:00:00",
          "2020-07-20T00:00:00",
          "2020-07-21T00:00:00",
          "2020-07-22T00:00:00",
          "2020-07-23T00:00:00",
          "2020-07-24T00:00:00",
          "2020-07-27T00:00:00",
          "2020-07-28T00:00:00",
          "2020-07-29T00:00:00",
          "2020-07-30T00:00:00",
          "2020-07-31T00:00:00",
          "2020-08-03T00:00:00",
          "2020-08-04T00:00:00",
          "2020-08-05T00:00:00",
          "2020-08-06T00:00:00",
          "2020-08-07T00:00:00",
          "2020-08-10T00:00:00",
          "2020-08-11T00:00:00",
          "2020-08-12T00:00:00",
          "2020-08-13T00:00:00",
          "2020-08-14T00:00:00",
          "2020-08-17T00:00:00",
          "2020-08-18T00:00:00",
          "2020-08-19T00:00:00",
          "2020-08-20T00:00:00",
          "2020-08-21T00:00:00",
          "2020-08-24T00:00:00",
          "2020-08-25T00:00:00",
          "2020-08-26T00:00:00",
          "2020-08-27T00:00:00",
          "2020-08-28T00:00:00",
          "2020-08-31T00:00:00",
          "2020-09-01T00:00:00",
          "2020-09-02T00:00:00",
          "2020-09-03T00:00:00",
          "2020-09-04T00:00:00",
          "2020-09-07T00:00:00",
          "2020-09-08T00:00:00",
          "2020-09-09T00:00:00",
          "2020-09-10T00:00:00",
          "2020-09-11T00:00:00",
          "2020-09-14T00:00:00",
          "2020-09-15T00:00:00",
          "2020-09-16T00:00:00",
          "2020-09-17T00:00:00",
          "2020-09-18T00:00:00",
          "2020-09-21T00:00:00",
          "2020-09-22T00:00:00",
          "2020-09-23T00:00:00",
          "2020-09-24T00:00:00",
          "2020-09-25T00:00:00",
          "2020-09-28T00:00:00",
          "2020-09-29T00:00:00",
          "2020-09-30T00:00:00",
          "2020-10-09T00:00:00",
          "2020-10-12T00:00:00",
          "2020-10-13T00:00:00",
          "2020-10-14T00:00:00",
          "2020-10-15T00:00:00",
          "2020-10-16T00:00:00",
          "2020-10-19T00:00:00",
          "2020-10-20T00:00:00",
          "2020-10-21T00:00:00",
          "2020-10-22T00:00:00",
          "2020-10-23T00:00:00",
          "2020-10-26T00:00:00",
          "2020-10-27T00:00:00",
          "2020-10-28T00:00:00",
          "2020-10-29T00:00:00",
          "2020-10-30T00:00:00",
          "2020-11-02T00:00:00",
          "2020-11-03T00:00:00",
          "2020-11-04T00:00:00",
          "2020-11-05T00:00:00",
          "2020-11-06T00:00:00",
          "2020-11-09T00:00:00",
          "2020-11-10T00:00:00",
          "2020-11-11T00:00:00",
          "2020-11-12T00:00:00",
          "2020-11-13T00:00:00",
          "2020-11-16T00:00:00",
          "2020-11-17T00:00:00",
          "2020-11-18T00:00:00",
          "2020-11-19T00:00:00",
          "2020-11-20T00:00:00",
          "2020-11-23T00:00:00",
          "2020-11-24T00:00:00",
          "2020-11-25T00:00:00",
          "2020-11-26T00:00:00",
          "2020-11-27T00:00:00",
          "2020-11-30T00:00:00",
          "2020-12-01T00:00:00",
          "2020-12-02T00:00:00",
          "2020-12-03T00:00:00",
          "2020-12-04T00:00:00",
          "2020-12-07T00:00:00",
          "2020-12-08T00:00:00",
          "2020-12-09T00:00:00",
          "2020-12-10T00:00:00",
          "2020-12-11T00:00:00",
          "2020-12-14T00:00:00",
          "2020-12-15T00:00:00",
          "2020-12-16T00:00:00",
          "2020-12-17T00:00:00",
          "2020-12-18T00:00:00",
          "2020-12-21T00:00:00",
          "2020-12-22T00:00:00",
          "2020-12-23T00:00:00",
          "2020-12-24T00:00:00",
          "2020-12-25T00:00:00",
          "2020-12-28T00:00:00",
          "2020-12-29T00:00:00",
          "2020-12-30T00:00:00",
          "2020-12-31T00:00:00",
          "2021-01-04T00:00:00",
          "2021-01-05T00:00:00",
          "2021-01-06T00:00:00",
          "2021-01-07T00:00:00",
          "2021-01-08T00:00:00",
          "2021-01-11T00:00:00",
          "2021-01-12T00:00:00",
          "2021-01-13T00:00:00",
          "2021-01-14T00:00:00",
          "2021-01-15T00:00:00",
          "2021-01-18T00:00:00",
          "2021-01-19T00:00:00",
          "2021-01-20T00:00:00",
          "2021-01-21T00:00:00",
          "2021-01-22T00:00:00",
          "2021-01-25T00:00:00",
          "2021-01-26T00:00:00",
          "2021-01-27T00:00:00",
          "2021-01-28T00:00:00",
          "2021-01-29T00:00:00",
          "2021-02-01T00:00:00",
          "2021-02-02T00:00:00",
          "2021-02-03T00:00:00",
          "2021-02-04T00:00:00",
          "2021-02-05T00:00:00",
          "2021-02-08T00:00:00",
          "2021-02-09T00:00:00",
          "2021-02-10T00:00:00",
          "2021-02-18T00:00:00",
          "2021-02-19T00:00:00",
          "2021-02-22T00:00:00",
          "2021-02-23T00:00:00",
          "2021-02-24T00:00:00",
          "2021-02-25T00:00:00",
          "2021-02-26T00:00:00",
          "2021-03-01T00:00:00",
          "2021-03-02T00:00:00",
          "2021-03-03T00:00:00",
          "2021-03-04T00:00:00",
          "2021-03-05T00:00:00",
          "2021-03-08T00:00:00",
          "2021-03-09T00:00:00",
          "2021-03-10T00:00:00",
          "2021-03-11T00:00:00",
          "2021-03-12T00:00:00",
          "2021-03-15T00:00:00",
          "2021-03-16T00:00:00",
          "2021-03-17T00:00:00",
          "2021-03-18T00:00:00",
          "2021-03-19T00:00:00",
          "2021-03-22T00:00:00",
          "2021-03-23T00:00:00",
          "2021-03-24T00:00:00",
          "2021-03-25T00:00:00",
          "2021-03-26T00:00:00",
          "2021-03-29T00:00:00",
          "2021-03-30T00:00:00",
          "2021-03-31T00:00:00",
          "2021-04-01T00:00:00",
          "2021-04-02T00:00:00",
          "2021-04-06T00:00:00",
          "2021-04-07T00:00:00",
          "2021-04-08T00:00:00",
          "2021-04-09T00:00:00",
          "2021-04-12T00:00:00",
          "2021-04-13T00:00:00",
          "2021-04-14T00:00:00",
          "2021-04-15T00:00:00",
          "2021-04-16T00:00:00",
          "2021-04-19T00:00:00",
          "2021-04-20T00:00:00",
          "2021-04-21T00:00:00",
          "2021-04-22T00:00:00",
          "2021-04-23T00:00:00",
          "2021-04-26T00:00:00",
          "2021-04-27T00:00:00",
          "2021-04-28T00:00:00",
          "2021-04-29T00:00:00",
          "2021-04-30T00:00:00",
          "2021-05-06T00:00:00",
          "2021-05-07T00:00:00",
          "2021-05-10T00:00:00",
          "2021-05-11T00:00:00",
          "2021-05-12T00:00:00",
          "2021-05-13T00:00:00",
          "2021-05-14T00:00:00",
          "2021-05-17T00:00:00",
          "2021-05-18T00:00:00",
          "2021-05-19T00:00:00",
          "2021-05-20T00:00:00",
          "2021-05-21T00:00:00",
          "2021-05-24T00:00:00",
          "2021-05-25T00:00:00",
          "2021-05-26T00:00:00",
          "2021-05-27T00:00:00",
          "2021-05-28T00:00:00",
          "2021-05-31T00:00:00",
          "2021-06-01T00:00:00",
          "2021-06-02T00:00:00",
          "2021-06-03T00:00:00",
          "2021-06-04T00:00:00",
          "2021-06-07T00:00:00",
          "2021-06-08T00:00:00",
          "2021-06-09T00:00:00",
          "2021-06-10T00:00:00",
          "2021-06-11T00:00:00",
          "2021-06-15T00:00:00",
          "2021-06-16T00:00:00",
          "2021-06-17T00:00:00",
          "2021-06-18T00:00:00",
          "2021-06-21T00:00:00",
          "2021-06-22T00:00:00",
          "2021-06-23T00:00:00",
          "2021-06-24T00:00:00",
          "2021-06-25T00:00:00",
          "2021-06-28T00:00:00",
          "2021-06-29T00:00:00",
          "2021-06-30T00:00:00",
          "2021-07-01T00:00:00",
          "2021-07-02T00:00:00",
          "2021-07-05T00:00:00",
          "2021-07-06T00:00:00",
          "2021-07-07T00:00:00",
          "2021-07-08T00:00:00",
          "2021-07-09T00:00:00",
          "2021-07-12T00:00:00",
          "2021-07-13T00:00:00",
          "2021-07-14T00:00:00",
          "2021-07-15T00:00:00",
          "2021-07-16T00:00:00",
          "2021-07-19T00:00:00",
          "2021-07-20T00:00:00",
          "2021-07-21T00:00:00",
          "2021-07-22T00:00:00",
          "2021-07-23T00:00:00",
          "2021-07-26T00:00:00",
          "2021-07-27T00:00:00",
          "2021-07-28T00:00:00",
          "2021-07-29T00:00:00",
          "2021-07-30T00:00:00",
          "2021-08-02T00:00:00",
          "2021-08-03T00:00:00",
          "2021-08-04T00:00:00",
          "2021-08-05T00:00:00",
          "2021-08-06T00:00:00",
          "2021-08-09T00:00:00",
          "2021-08-10T00:00:00",
          "2021-08-11T00:00:00",
          "2021-08-12T00:00:00",
          "2021-08-13T00:00:00",
          "2021-08-16T00:00:00",
          "2021-08-17T00:00:00",
          "2021-08-18T00:00:00",
          "2021-08-19T00:00:00",
          "2021-08-20T00:00:00",
          "2021-08-23T00:00:00",
          "2021-08-24T00:00:00",
          "2021-08-25T00:00:00",
          "2021-08-26T00:00:00",
          "2021-08-27T00:00:00",
          "2021-08-30T00:00:00",
          "2021-08-31T00:00:00",
          "2021-09-01T00:00:00",
          "2021-09-02T00:00:00",
          "2021-09-03T00:00:00",
          "2021-09-06T00:00:00",
          "2021-09-07T00:00:00",
          "2021-09-08T00:00:00",
          "2021-09-09T00:00:00",
          "2021-09-10T00:00:00",
          "2021-09-13T00:00:00",
          "2021-09-14T00:00:00",
          "2021-09-15T00:00:00",
          "2021-09-16T00:00:00",
          "2021-09-17T00:00:00",
          "2021-09-22T00:00:00",
          "2021-09-23T00:00:00",
          "2021-09-24T00:00:00",
          "2021-09-27T00:00:00",
          "2021-09-28T00:00:00",
          "2021-09-29T00:00:00",
          "2021-09-30T00:00:00",
          "2021-10-08T00:00:00",
          "2021-10-11T00:00:00",
          "2021-10-12T00:00:00",
          "2021-10-13T00:00:00",
          "2021-10-14T00:00:00",
          "2021-10-15T00:00:00",
          "2021-10-18T00:00:00",
          "2021-10-19T00:00:00",
          "2021-10-20T00:00:00",
          "2021-10-21T00:00:00",
          "2021-10-22T00:00:00",
          "2021-10-25T00:00:00",
          "2021-10-26T00:00:00",
          "2021-10-27T00:00:00",
          "2021-10-28T00:00:00",
          "2021-10-29T00:00:00",
          "2021-11-01T00:00:00",
          "2021-11-02T00:00:00",
          "2021-11-03T00:00:00",
          "2021-11-04T00:00:00",
          "2021-11-05T00:00:00",
          "2021-11-08T00:00:00",
          "2021-11-09T00:00:00",
          "2021-11-10T00:00:00",
          "2021-11-11T00:00:00",
          "2021-11-12T00:00:00",
          "2021-11-15T00:00:00",
          "2021-11-16T00:00:00",
          "2021-11-17T00:00:00",
          "2021-11-18T00:00:00",
          "2021-11-19T00:00:00",
          "2021-11-22T00:00:00",
          "2021-11-23T00:00:00",
          "2021-11-24T00:00:00",
          "2021-11-25T00:00:00",
          "2021-11-26T00:00:00",
          "2021-11-29T00:00:00",
          "2021-11-30T00:00:00",
          "2021-12-01T00:00:00",
          "2021-12-02T00:00:00",
          "2021-12-03T00:00:00",
          "2021-12-06T00:00:00",
          "2021-12-07T00:00:00",
          "2021-12-08T00:00:00",
          "2021-12-09T00:00:00",
          "2021-12-10T00:00:00",
          "2021-12-13T00:00:00",
          "2021-12-14T00:00:00",
          "2021-12-15T00:00:00",
          "2021-12-16T00:00:00",
          "2021-12-17T00:00:00",
          "2021-12-20T00:00:00",
          "2021-12-21T00:00:00",
          "2021-12-22T00:00:00",
          "2021-12-23T00:00:00",
          "2021-12-24T00:00:00",
          "2021-12-27T00:00:00",
          "2021-12-28T00:00:00",
          "2021-12-29T00:00:00",
          "2021-12-30T00:00:00",
          "2021-12-31T00:00:00",
          "2022-01-04T00:00:00",
          "2022-01-05T00:00:00",
          "2022-01-06T00:00:00",
          "2022-01-07T00:00:00",
          "2022-01-10T00:00:00",
          "2022-01-11T00:00:00",
          "2022-01-12T00:00:00",
          "2022-01-13T00:00:00",
          "2022-01-14T00:00:00",
          "2022-01-17T00:00:00",
          "2022-01-18T00:00:00",
          "2022-01-19T00:00:00",
          "2022-01-20T00:00:00",
          "2022-01-21T00:00:00",
          "2022-01-24T00:00:00",
          "2022-01-25T00:00:00",
          "2022-01-26T00:00:00",
          "2022-01-27T00:00:00",
          "2022-01-28T00:00:00",
          "2022-02-07T00:00:00",
          "2022-02-08T00:00:00",
          "2022-02-09T00:00:00",
          "2022-02-10T00:00:00",
          "2022-02-11T00:00:00",
          "2022-02-14T00:00:00",
          "2022-02-15T00:00:00",
          "2022-02-16T00:00:00",
          "2022-02-17T00:00:00",
          "2022-02-18T00:00:00",
          "2022-02-21T00:00:00",
          "2022-02-22T00:00:00",
          "2022-02-23T00:00:00",
          "2022-02-24T00:00:00",
          "2022-02-25T00:00:00",
          "2022-02-28T00:00:00",
          "2022-03-01T00:00:00",
          "2022-03-02T00:00:00",
          "2022-03-03T00:00:00",
          "2022-03-04T00:00:00",
          "2022-03-07T00:00:00",
          "2022-03-08T00:00:00",
          "2022-03-09T00:00:00",
          "2022-03-10T00:00:00",
          "2022-03-11T00:00:00",
          "2022-03-14T00:00:00",
          "2022-03-15T00:00:00",
          "2022-03-16T00:00:00",
          "2022-03-17T00:00:00",
          "2022-03-18T00:00:00"
         ],
         "xaxis": "x",
         "yaxis": "y"
        },
        {
         "name": "Volatility",
         "type": "scatter",
         "x": [
          "2017-06-23T00:00:00",
          "2017-06-30T00:00:00",
          "2017-07-07T00:00:00",
          "2017-07-14T00:00:00",
          "2017-07-21T00:00:00",
          "2017-07-28T00:00:00",
          "2017-08-04T00:00:00",
          "2017-08-11T00:00:00",
          "2017-08-18T00:00:00",
          "2017-08-25T00:00:00",
          "2017-09-01T00:00:00",
          "2017-09-08T00:00:00",
          "2017-09-15T00:00:00",
          "2017-09-22T00:00:00",
          "2017-09-29T00:00:00",
          "2017-10-06T00:00:00",
          "2017-10-13T00:00:00",
          "2017-10-20T00:00:00",
          "2017-10-27T00:00:00",
          "2017-11-03T00:00:00",
          "2017-11-10T00:00:00",
          "2017-11-17T00:00:00",
          "2017-11-24T00:00:00",
          "2017-12-01T00:00:00",
          "2017-12-08T00:00:00",
          "2017-12-15T00:00:00",
          "2017-12-22T00:00:00",
          "2017-12-29T00:00:00",
          "2018-01-05T00:00:00",
          "2018-01-12T00:00:00",
          "2018-01-19T00:00:00",
          "2018-01-26T00:00:00",
          "2018-02-02T00:00:00",
          "2018-02-09T00:00:00",
          "2018-02-16T00:00:00",
          "2018-02-23T00:00:00",
          "2018-03-02T00:00:00",
          "2018-03-09T00:00:00",
          "2018-03-16T00:00:00",
          "2018-03-23T00:00:00",
          "2018-03-30T00:00:00",
          "2018-04-06T00:00:00",
          "2018-04-13T00:00:00",
          "2018-04-20T00:00:00",
          "2018-04-27T00:00:00",
          "2018-05-04T00:00:00",
          "2018-05-11T00:00:00",
          "2018-05-18T00:00:00",
          "2018-05-25T00:00:00",
          "2018-06-01T00:00:00",
          "2018-06-08T00:00:00",
          "2018-06-15T00:00:00",
          "2018-06-22T00:00:00",
          "2018-06-29T00:00:00",
          "2018-07-06T00:00:00",
          "2018-07-13T00:00:00",
          "2018-07-20T00:00:00",
          "2018-07-27T00:00:00",
          "2018-08-03T00:00:00",
          "2018-08-10T00:00:00",
          "2018-08-17T00:00:00",
          "2018-08-24T00:00:00",
          "2018-08-31T00:00:00",
          "2018-09-07T00:00:00",
          "2018-09-14T00:00:00",
          "2018-09-21T00:00:00",
          "2018-09-28T00:00:00",
          "2018-10-05T00:00:00",
          "2018-10-12T00:00:00",
          "2018-10-19T00:00:00",
          "2018-10-26T00:00:00",
          "2018-11-02T00:00:00",
          "2018-11-09T00:00:00",
          "2018-11-16T00:00:00",
          "2018-11-23T00:00:00",
          "2018-11-30T00:00:00",
          "2018-12-07T00:00:00",
          "2018-12-14T00:00:00",
          "2018-12-21T00:00:00",
          "2018-12-28T00:00:00",
          "2019-01-04T00:00:00",
          "2019-01-11T00:00:00",
          "2019-01-18T00:00:00",
          "2019-01-25T00:00:00",
          "2019-02-01T00:00:00",
          "2019-02-08T00:00:00",
          "2019-02-15T00:00:00",
          "2019-02-22T00:00:00",
          "2019-03-01T00:00:00",
          "2019-03-08T00:00:00",
          "2019-03-15T00:00:00",
          "2019-03-22T00:00:00",
          "2019-03-29T00:00:00",
          "2019-04-05T00:00:00",
          "2019-04-12T00:00:00",
          "2019-04-19T00:00:00",
          "2019-04-26T00:00:00",
          "2019-05-03T00:00:00",
          "2019-05-10T00:00:00",
          "2019-05-17T00:00:00",
          "2019-05-24T00:00:00",
          "2019-05-31T00:00:00",
          "2019-06-07T00:00:00",
          "2019-06-14T00:00:00",
          "2019-06-21T00:00:00",
          "2019-06-28T00:00:00",
          "2019-07-05T00:00:00",
          "2019-07-12T00:00:00",
          "2019-07-19T00:00:00",
          "2019-07-26T00:00:00",
          "2019-08-02T00:00:00",
          "2019-08-09T00:00:00",
          "2019-08-16T00:00:00",
          "2019-08-23T00:00:00",
          "2019-08-30T00:00:00",
          "2019-09-06T00:00:00",
          "2019-09-13T00:00:00",
          "2019-09-20T00:00:00",
          "2019-09-27T00:00:00",
          "2019-10-04T00:00:00",
          "2019-10-11T00:00:00",
          "2019-10-18T00:00:00",
          "2019-10-25T00:00:00",
          "2019-11-01T00:00:00",
          "2019-11-08T00:00:00",
          "2019-11-15T00:00:00",
          "2019-11-22T00:00:00",
          "2019-11-29T00:00:00",
          "2019-12-06T00:00:00",
          "2019-12-13T00:00:00",
          "2019-12-20T00:00:00",
          "2019-12-27T00:00:00",
          "2020-01-03T00:00:00",
          "2020-01-10T00:00:00",
          "2020-01-17T00:00:00",
          "2020-01-24T00:00:00",
          "2020-01-31T00:00:00",
          "2020-02-07T00:00:00",
          "2020-02-14T00:00:00",
          "2020-02-21T00:00:00",
          "2020-02-28T00:00:00",
          "2020-03-06T00:00:00",
          "2020-03-13T00:00:00",
          "2020-03-20T00:00:00",
          "2020-03-27T00:00:00",
          "2020-04-03T00:00:00",
          "2020-04-10T00:00:00",
          "2020-04-17T00:00:00",
          "2020-04-24T00:00:00",
          "2020-05-01T00:00:00",
          "2020-05-08T00:00:00",
          "2020-05-15T00:00:00",
          "2020-05-22T00:00:00",
          "2020-05-29T00:00:00",
          "2020-06-05T00:00:00",
          "2020-06-12T00:00:00",
          "2020-06-19T00:00:00",
          "2020-06-26T00:00:00",
          "2020-07-03T00:00:00",
          "2020-07-10T00:00:00",
          "2020-07-17T00:00:00",
          "2020-07-24T00:00:00",
          "2020-07-31T00:00:00",
          "2020-08-07T00:00:00",
          "2020-08-14T00:00:00",
          "2020-08-21T00:00:00",
          "2020-08-28T00:00:00",
          "2020-09-04T00:00:00",
          "2020-09-11T00:00:00",
          "2020-09-18T00:00:00",
          "2020-09-25T00:00:00",
          "2020-10-02T00:00:00",
          "2020-10-09T00:00:00",
          "2020-10-16T00:00:00",
          "2020-10-23T00:00:00",
          "2020-10-30T00:00:00",
          "2020-11-06T00:00:00",
          "2020-11-13T00:00:00",
          "2020-11-20T00:00:00",
          "2020-11-27T00:00:00",
          "2020-12-04T00:00:00",
          "2020-12-11T00:00:00",
          "2020-12-18T00:00:00",
          "2020-12-25T00:00:00",
          "2021-01-01T00:00:00",
          "2021-01-08T00:00:00",
          "2021-01-15T00:00:00",
          "2021-01-22T00:00:00",
          "2021-01-29T00:00:00",
          "2021-02-05T00:00:00",
          "2021-02-12T00:00:00",
          "2021-02-19T00:00:00",
          "2021-02-26T00:00:00",
          "2021-03-05T00:00:00",
          "2021-03-12T00:00:00",
          "2021-03-19T00:00:00",
          "2021-03-26T00:00:00",
          "2021-04-02T00:00:00",
          "2021-04-09T00:00:00",
          "2021-04-16T00:00:00",
          "2021-04-23T00:00:00",
          "2021-04-30T00:00:00",
          "2021-05-07T00:00:00",
          "2021-05-14T00:00:00",
          "2021-05-21T00:00:00",
          "2021-05-28T00:00:00",
          "2021-06-04T00:00:00",
          "2021-06-11T00:00:00",
          "2021-06-18T00:00:00",
          "2021-06-25T00:00:00",
          "2021-07-02T00:00:00",
          "2021-07-09T00:00:00",
          "2021-07-16T00:00:00",
          "2021-07-23T00:00:00",
          "2021-07-30T00:00:00",
          "2021-08-06T00:00:00",
          "2021-08-13T00:00:00",
          "2021-08-20T00:00:00",
          "2021-08-27T00:00:00",
          "2021-09-03T00:00:00",
          "2021-09-10T00:00:00",
          "2021-09-17T00:00:00",
          "2021-09-24T00:00:00",
          "2021-10-01T00:00:00",
          "2021-10-08T00:00:00",
          "2021-10-15T00:00:00",
          "2021-10-22T00:00:00",
          "2021-10-29T00:00:00",
          "2021-11-05T00:00:00",
          "2021-11-12T00:00:00",
          "2021-11-19T00:00:00",
          "2021-11-26T00:00:00",
          "2021-12-03T00:00:00",
          "2021-12-10T00:00:00",
          "2021-12-17T00:00:00",
          "2021-12-24T00:00:00",
          "2021-12-31T00:00:00",
          "2022-01-07T00:00:00",
          "2022-01-14T00:00:00",
          "2022-01-21T00:00:00",
          "2022-01-28T00:00:00",
          "2022-02-04T00:00:00",
          "2022-02-11T00:00:00",
          "2022-02-18T00:00:00",
          "2022-02-25T00:00:00",
          "2022-03-04T00:00:00",
          "2022-03-11T00:00:00",
          "2022-03-18T00:00:00"
         ],
         "xaxis": "x2",
         "y": [
          0.3665696434822938,
          0.3520269194507047,
          0.3562470815626717,
          0.3551435416286549,
          0.3545191472394972,
          0.3451296742342817,
          0.34645467502213717,
          0.35974622456884,
          0.35992063623035747,
          0.3391266844305234,
          0.3391639977029746,
          0.4024666560733274,
          0.45501026891156915,
          0.41192171318156673,
          0.4318664410510769,
          0.43021547988219266,
          0.4299602654698838,
          0.4361467490029658,
          0.4290120877137669,
          0.4174894152876762,
          0.4114260352702206,
          0.414884635099951,
          0.4422811016544524,
          0.45788199286261216,
          0.4133781652155261,
          0.32751970952085613,
          0.31282195634307364,
          0.2900921970805519,
          0.3522993080338706,
          0.34973010457270004,
          0.3668725851223245,
          0.365832689097409,
          0.414920299440325,
          0.5733041117332993,
          0.5765128557830156,
          0.5527553569668427,
          0.5702950124388613,
          0.5685878843561512,
          0.5688479177396563,
          0.5788485454727207,
          0.5897419320864735,
          0.5425302973615306,
          0.5457913586993693,
          0.48863646010016465,
          0.48768117521521015,
          0.4829780783454874,
          0.36486003201311956,
          0.3353615679743948,
          0.30855404424031485,
          0.28747239768943744,
          0.280856885353619,
          0.30776766025678715,
          0.2981025064397807,
          0.34316932531097966,
          0.3494373122514889,
          0.35851272532283407,
          0.3572365221750214,
          0.35039870968578424,
          0.3840048934490946,
          0.4343633663492122,
          0.4335641691710553,
          0.4461325796841763,
          0.46286840198866247,
          0.46219786431355003,
          0.44807841686039723,
          0.5011578819424473,
          0.43650688487407674,
          0.4168210069683105,
          0.41563905248236277,
          0.4123086348493086,
          0.45276602256128023,
          0.3802602357714487,
          0.3683423187221488,
          0.36789431416457413,
          0.3648209385608559,
          0.35538101900618113,
          0.3421702025484602,
          0.34576252413795067,
          0.35485513339698277,
          0.3314644598849107,
          0.3398173222107406,
          0.3391552758371813,
          0.33575685586231174,
          0.28022624649349615,
          0.2947586641374488,
          0.27239469478062767,
          0.25997585973558135,
          0.26021695469891576,
          0.27628565039910435,
          0.2947222644447089,
          0.28755576523180404,
          0.20628082133718492,
          0.20111084560596912,
          0.2021966228843324,
          0.23376122604460622,
          0.23413174822333904,
          0.3056133995308256,
          0.28835413791060943,
          0.28835413791060943,
          0.2948854426518533,
          0.2979531904713029,
          0.2738928574831225,
          0.26255577372022915,
          0.264683293041005,
          0.25404574396932755,
          0.2308806025066348,
          0.2409474017307826,
          0.23158954796247494,
          0.24144701739766258,
          0.17962342438955245,
          0.23101986734974833,
          0.23679183126263448,
          0.23191161567037163,
          0.23287230493733646,
          0.25134733988466945,
          0.2631209199106557,
          0.2645873817015859,
          0.27405679247012654,
          0.2784415763112703,
          0.2469386690115395,
          0.2595014482391129,
          0.246228977694321,
          0.2434993264336645,
          0.20303297881004914,
          0.1954942896243557,
          0.19669243686488316,
          0.19369446717082706,
          0.17381409794130956,
          0.15556220793627237,
          0.14293345450532063,
          0.25700164824660576,
          0.2512483018904699,
          0.2511000384166014,
          0.25687249283433905,
          0.2719027898883226,
          0.29624306201997647,
          0.2956060733371607,
          0.29522333027184144,
          0.36166158147976357,
          0.38558289714256017,
          0.384239642204869,
          0.3929571080089143,
          0.41709610436934824,
          0.42749616150759284,
          0.43449651265856704,
          0.4269798409480433,
          0.4273136815808497,
          0.4240693197086341,
          0.42017478005559383,
          0.43138609731281446,
          0.43283991992569104,
          0.35282176374130403,
          0.34356142246773475,
          0.34722312860554666,
          0.33183562738086364,
          0.31907625222794456,
          0.18398392834918878,
          0.17683797600887066,
          0.24183895932768748,
          0.24314284166315045,
          0.2856092508506907,
          0.272412907724536,
          0.2590959486327152,
          0.2556467228248001,
          0.26860257938571175,
          0.2680191351398125,
          0.2665849287036074,
          0.2645239757105995,
          0.2564034703925565,
          0.26600258085546175,
          0.3001044585629211,
          0.2530450620732948,
          0.2503695044784186,
          0.2030063760821893,
          0.201441140293539,
          0.20437708300069038,
          0.24193627539955975,
          0.21992930432940394,
          0.24453958411360457,
          0.24615356687191528,
          0.2752619088165057,
          0.2985786394563452,
          0.2834585482863877,
          0.25838645082631984,
          0.2603544725553865,
          0.2634139252117825,
          0.2645167807432163,
          0.2708027030929314,
          0.2906831162982957,
          0.26469002235292327,
          0.263315781244634,
          0.24105464126920947,
          0.3192755097155554,
          0.3163320668222778,
          0.2923464765433466,
          0.29412536165040926,
          0.29456352922177254,
          0.29877335379569997,
          0.30696075349497304,
          0.30336713557441297,
          0.3046682935228936,
          0.28607376994311734,
          0.2744543246662883,
          0.28151913089612635,
          0.2691717651967384,
          0.13095693977177789,
          0.1123184530395841,
          0.12034494648491634,
          0.12136287250013691,
          0.1254439468754713,
          0.12475935039484667,
          0.11967277238194601,
          0.11749993464142941,
          0.12255860828587209,
          0.22373182043237977,
          0.23913078883263555,
          0.30785436576163416,
          0.308421762313523,
          0.3046314779536334,
          0.3058211972453282,
          0.3016034415749473,
          0.32010134559910325,
          0.3565695192021052,
          0.37383888078858213,
          0.3736792559839154,
          0.3736921377595625,
          0.3690206194159399,
          0.43436636650760563,
          0.43147101491070694,
          0.4565844439157542,
          0.4573362440915512,
          0.4625764075607972,
          0.46441556998840217,
          0.4731749412143055,
          0.4565343873174683,
          0.43691691911835917,
          0.42395304405521883,
          0.4761293407645772,
          0.4901093963301485,
          0.49824230749152226,
          0.39089093290488247,
          0.3860298018290092,
          0.3290333457312821,
          0.33639458931042654,
          0.33680472628427155,
          0.34479413945586596,
          0.3907505355755574,
          0.40985399804338757
         ],
         "yaxis": "y2"
        }
       ],
       "layout": {
        "height": 600,
        "template": {
         "data": {
          "bar": [
           {
            "error_x": {
             "color": "#2a3f5f"
            },
            "error_y": {
             "color": "#2a3f5f"
            },
            "marker": {
             "line": {
              "color": "#E5ECF6",
              "width": 0.5
             },
             "pattern": {
              "fillmode": "overlay",
              "size": 10,
              "solidity": 0.2
             }
            },
            "type": "bar"
           }
          ],
          "barpolar": [
           {
            "marker": {
             "line": {
              "color": "#E5ECF6",
              "width": 0.5
             },
             "pattern": {
              "fillmode": "overlay",
              "size": 10,
              "solidity": 0.2
             }
            },
            "type": "barpolar"
           }
          ],
          "carpet": [
           {
            "aaxis": {
             "endlinecolor": "#2a3f5f",
             "gridcolor": "white",
             "linecolor": "white",
             "minorgridcolor": "white",
             "startlinecolor": "#2a3f5f"
            },
            "baxis": {
             "endlinecolor": "#2a3f5f",
             "gridcolor": "white",
             "linecolor": "white",
             "minorgridcolor": "white",
             "startlinecolor": "#2a3f5f"
            },
            "type": "carpet"
           }
          ],
          "choropleth": [
           {
            "colorbar": {
             "outlinewidth": 0,
             "ticks": ""
            },
            "type": "choropleth"
           }
          ],
          "contour": [
           {
            "colorbar": {
             "outlinewidth": 0,
             "ticks": ""
            },
            "colorscale": [
             [
              0,
              "#0d0887"
             ],
             [
              0.1111111111111111,
              "#46039f"
             ],
             [
              0.2222222222222222,
              "#7201a8"
             ],
             [
              0.3333333333333333,
              "#9c179e"
             ],
             [
              0.4444444444444444,
              "#bd3786"
             ],
             [
              0.5555555555555556,
              "#d8576b"
             ],
             [
              0.6666666666666666,
              "#ed7953"
             ],
             [
              0.7777777777777778,
              "#fb9f3a"
             ],
             [
              0.8888888888888888,
              "#fdca26"
             ],
             [
              1,
              "#f0f921"
             ]
            ],
            "type": "contour"
           }
          ],
          "contourcarpet": [
           {
            "colorbar": {
             "outlinewidth": 0,
             "ticks": ""
            },
            "type": "contourcarpet"
           }
          ],
          "heatmap": [
           {
            "colorbar": {
             "outlinewidth": 0,
             "ticks": ""
            },
            "colorscale": [
             [
              0,
              "#0d0887"
             ],
             [
              0.1111111111111111,
              "#46039f"
             ],
             [
              0.2222222222222222,
              "#7201a8"
             ],
             [
              0.3333333333333333,
              "#9c179e"
             ],
             [
              0.4444444444444444,
              "#bd3786"
             ],
             [
              0.5555555555555556,
              "#d8576b"
             ],
             [
              0.6666666666666666,
              "#ed7953"
             ],
             [
              0.7777777777777778,
              "#fb9f3a"
             ],
             [
              0.8888888888888888,
              "#fdca26"
             ],
             [
              1,
              "#f0f921"
             ]
            ],
            "type": "heatmap"
           }
          ],
          "heatmapgl": [
           {
            "colorbar": {
             "outlinewidth": 0,
             "ticks": ""
            },
            "colorscale": [
             [
              0,
              "#0d0887"
             ],
             [
              0.1111111111111111,
              "#46039f"
             ],
             [
              0.2222222222222222,
              "#7201a8"
             ],
             [
              0.3333333333333333,
              "#9c179e"
             ],
             [
              0.4444444444444444,
              "#bd3786"
             ],
             [
              0.5555555555555556,
              "#d8576b"
             ],
             [
              0.6666666666666666,
              "#ed7953"
             ],
             [
              0.7777777777777778,
              "#fb9f3a"
             ],
             [
              0.8888888888888888,
              "#fdca26"
             ],
             [
              1,
              "#f0f921"
             ]
            ],
            "type": "heatmapgl"
           }
          ],
          "histogram": [
           {
            "marker": {
             "pattern": {
              "fillmode": "overlay",
              "size": 10,
              "solidity": 0.2
             }
            },
            "type": "histogram"
           }
          ],
          "histogram2d": [
           {
            "colorbar": {
             "outlinewidth": 0,
             "ticks": ""
            },
            "colorscale": [
             [
              0,
              "#0d0887"
             ],
             [
              0.1111111111111111,
              "#46039f"
             ],
             [
              0.2222222222222222,
              "#7201a8"
             ],
             [
              0.3333333333333333,
              "#9c179e"
             ],
             [
              0.4444444444444444,
              "#bd3786"
             ],
             [
              0.5555555555555556,
              "#d8576b"
             ],
             [
              0.6666666666666666,
              "#ed7953"
             ],
             [
              0.7777777777777778,
              "#fb9f3a"
             ],
             [
              0.8888888888888888,
              "#fdca26"
             ],
             [
              1,
              "#f0f921"
             ]
            ],
            "type": "histogram2d"
           }
          ],
          "histogram2dcontour": [
           {
            "colorbar": {
             "outlinewidth": 0,
             "ticks": ""
            },
            "colorscale": [
             [
              0,
              "#0d0887"
             ],
             [
              0.1111111111111111,
              "#46039f"
             ],
             [
              0.2222222222222222,
              "#7201a8"
             ],
             [
              0.3333333333333333,
              "#9c179e"
             ],
             [
              0.4444444444444444,
              "#bd3786"
             ],
             [
              0.5555555555555556,
              "#d8576b"
             ],
             [
              0.6666666666666666,
              "#ed7953"
             ],
             [
              0.7777777777777778,
              "#fb9f3a"
             ],
             [
              0.8888888888888888,
              "#fdca26"
             ],
             [
              1,
              "#f0f921"
             ]
            ],
            "type": "histogram2dcontour"
           }
          ],
          "mesh3d": [
           {
            "colorbar": {
             "outlinewidth": 0,
             "ticks": ""
            },
            "type": "mesh3d"
           }
          ],
          "parcoords": [
           {
            "line": {
             "colorbar": {
              "outlinewidth": 0,
              "ticks": ""
             }
            },
            "type": "parcoords"
           }
          ],
          "pie": [
           {
            "automargin": true,
            "type": "pie"
           }
          ],
          "scatter": [
           {
            "marker": {
             "colorbar": {
              "outlinewidth": 0,
              "ticks": ""
             }
            },
            "type": "scatter"
           }
          ],
          "scatter3d": [
           {
            "line": {
             "colorbar": {
              "outlinewidth": 0,
              "ticks": ""
             }
            },
            "marker": {
             "colorbar": {
              "outlinewidth": 0,
              "ticks": ""
             }
            },
            "type": "scatter3d"
           }
          ],
          "scattercarpet": [
           {
            "marker": {
             "colorbar": {
              "outlinewidth": 0,
              "ticks": ""
             }
            },
            "type": "scattercarpet"
           }
          ],
          "scattergeo": [
           {
            "marker": {
             "colorbar": {
              "outlinewidth": 0,
              "ticks": ""
             }
            },
            "type": "scattergeo"
           }
          ],
          "scattergl": [
           {
            "marker": {
             "colorbar": {
              "outlinewidth": 0,
              "ticks": ""
             }
            },
            "type": "scattergl"
           }
          ],
          "scattermapbox": [
           {
            "marker": {
             "colorbar": {
              "outlinewidth": 0,
              "ticks": ""
             }
            },
            "type": "scattermapbox"
           }
          ],
          "scatterpolar": [
           {
            "marker": {
             "colorbar": {
              "outlinewidth": 0,
              "ticks": ""
             }
            },
            "type": "scatterpolar"
           }
          ],
          "scatterpolargl": [
           {
            "marker": {
             "colorbar": {
              "outlinewidth": 0,
              "ticks": ""
             }
            },
            "type": "scatterpolargl"
           }
          ],
          "scatterternary": [
           {
            "marker": {
             "colorbar": {
              "outlinewidth": 0,
              "ticks": ""
             }
            },
            "type": "scatterternary"
           }
          ],
          "surface": [
           {
            "colorbar": {
             "outlinewidth": 0,
             "ticks": ""
            },
            "colorscale": [
             [
              0,
              "#0d0887"
             ],
             [
              0.1111111111111111,
              "#46039f"
             ],
             [
              0.2222222222222222,
              "#7201a8"
             ],
             [
              0.3333333333333333,
              "#9c179e"
             ],
             [
              0.4444444444444444,
              "#bd3786"
             ],
             [
              0.5555555555555556,
              "#d8576b"
             ],
             [
              0.6666666666666666,
              "#ed7953"
             ],
             [
              0.7777777777777778,
              "#fb9f3a"
             ],
             [
              0.8888888888888888,
              "#fdca26"
             ],
             [
              1,
              "#f0f921"
             ]
            ],
            "type": "surface"
           }
          ],
          "table": [
           {
            "cells": {
             "fill": {
              "color": "#EBF0F8"
             },
             "line": {
              "color": "white"
             }
            },
            "header": {
             "fill": {
              "color": "#C8D4E3"
             },
             "line": {
              "color": "white"
             }
            },
            "type": "table"
           }
          ]
         },
         "layout": {
          "annotationdefaults": {
           "arrowcolor": "#2a3f5f",
           "arrowhead": 0,
           "arrowwidth": 1
          },
          "autotypenumbers": "strict",
          "coloraxis": {
           "colorbar": {
            "outlinewidth": 0,
            "ticks": ""
           }
          },
          "colorscale": {
           "diverging": [
            [
             0,
             "#8e0152"
            ],
            [
             0.1,
             "#c51b7d"
            ],
            [
             0.2,
             "#de77ae"
            ],
            [
             0.3,
             "#f1b6da"
            ],
            [
             0.4,
             "#fde0ef"
            ],
            [
             0.5,
             "#f7f7f7"
            ],
            [
             0.6,
             "#e6f5d0"
            ],
            [
             0.7,
             "#b8e186"
            ],
            [
             0.8,
             "#7fbc41"
            ],
            [
             0.9,
             "#4d9221"
            ],
            [
             1,
             "#276419"
            ]
           ],
           "sequential": [
            [
             0,
             "#0d0887"
            ],
            [
             0.1111111111111111,
             "#46039f"
            ],
            [
             0.2222222222222222,
             "#7201a8"
            ],
            [
             0.3333333333333333,
             "#9c179e"
            ],
            [
             0.4444444444444444,
             "#bd3786"
            ],
            [
             0.5555555555555556,
             "#d8576b"
            ],
            [
             0.6666666666666666,
             "#ed7953"
            ],
            [
             0.7777777777777778,
             "#fb9f3a"
            ],
            [
             0.8888888888888888,
             "#fdca26"
            ],
            [
             1,
             "#f0f921"
            ]
           ],
           "sequentialminus": [
            [
             0,
             "#0d0887"
            ],
            [
             0.1111111111111111,
             "#46039f"
            ],
            [
             0.2222222222222222,
             "#7201a8"
            ],
            [
             0.3333333333333333,
             "#9c179e"
            ],
            [
             0.4444444444444444,
             "#bd3786"
            ],
            [
             0.5555555555555556,
             "#d8576b"
            ],
            [
             0.6666666666666666,
             "#ed7953"
            ],
            [
             0.7777777777777778,
             "#fb9f3a"
            ],
            [
             0.8888888888888888,
             "#fdca26"
            ],
            [
             1,
             "#f0f921"
            ]
           ]
          },
          "colorway": [
           "#636efa",
           "#EF553B",
           "#00cc96",
           "#ab63fa",
           "#FFA15A",
           "#19d3f3",
           "#FF6692",
           "#B6E880",
           "#FF97FF",
           "#FECB52"
          ],
          "font": {
           "color": "#2a3f5f"
          },
          "geo": {
           "bgcolor": "white",
           "lakecolor": "white",
           "landcolor": "#E5ECF6",
           "showlakes": true,
           "showland": true,
           "subunitcolor": "white"
          },
          "hoverlabel": {
           "align": "left"
          },
          "hovermode": "closest",
          "mapbox": {
           "style": "light"
          },
          "paper_bgcolor": "white",
          "plot_bgcolor": "#E5ECF6",
          "polar": {
           "angularaxis": {
            "gridcolor": "white",
            "linecolor": "white",
            "ticks": ""
           },
           "bgcolor": "#E5ECF6",
           "radialaxis": {
            "gridcolor": "white",
            "linecolor": "white",
            "ticks": ""
           }
          },
          "scene": {
           "xaxis": {
            "backgroundcolor": "#E5ECF6",
            "gridcolor": "white",
            "gridwidth": 2,
            "linecolor": "white",
            "showbackground": true,
            "ticks": "",
            "zerolinecolor": "white"
           },
           "yaxis": {
            "backgroundcolor": "#E5ECF6",
            "gridcolor": "white",
            "gridwidth": 2,
            "linecolor": "white",
            "showbackground": true,
            "ticks": "",
            "zerolinecolor": "white"
           },
           "zaxis": {
            "backgroundcolor": "#E5ECF6",
            "gridcolor": "white",
            "gridwidth": 2,
            "linecolor": "white",
            "showbackground": true,
            "ticks": "",
            "zerolinecolor": "white"
           }
          },
          "shapedefaults": {
           "line": {
            "color": "#2a3f5f"
           }
          },
          "ternary": {
           "aaxis": {
            "gridcolor": "white",
            "linecolor": "white",
            "ticks": ""
           },
           "baxis": {
            "gridcolor": "white",
            "linecolor": "white",
            "ticks": ""
           },
           "bgcolor": "#E5ECF6",
           "caxis": {
            "gridcolor": "white",
            "linecolor": "white",
            "ticks": ""
           }
          },
          "title": {
           "x": 0.05
          },
          "xaxis": {
           "automargin": true,
           "gridcolor": "white",
           "linecolor": "white",
           "ticks": "",
           "title": {
            "standoff": 15
           },
           "zerolinecolor": "white",
           "zerolinewidth": 2
          },
          "yaxis": {
           "automargin": true,
           "gridcolor": "white",
           "linecolor": "white",
           "ticks": "",
           "title": {
            "standoff": 15
           },
           "zerolinecolor": "white",
           "zerolinewidth": 2
          }
         }
        },
        "width": 800,
        "xaxis": {
         "anchor": "y",
         "autorange": false,
         "domain": [
          0,
          1
         ],
         "matches": "x2",
         "range": [
          "2021-09-25 18:37:59.397",
          "2022-03-25 18:37:59.397"
         ],
         "rangeselector": {
          "buttons": [
           {
            "count": 1,
            "label": "1m",
            "step": "month",
            "stepmode": "backward"
           },
           {
            "count": 6,
            "label": "6m",
            "step": "month",
            "stepmode": "backward"
           },
           {
            "count": 1,
            "label": "YTD",
            "step": "year",
            "stepmode": "todate"
           },
           {
            "count": 1,
            "label": "1y",
            "step": "year",
            "stepmode": "backward"
           },
           {
            "count": 2,
            "label": "2y",
            "step": "year",
            "stepmode": "backward"
           },
           {
            "step": "all"
           }
          ]
         },
         "rangeslider": {
          "visible": false,
          "yaxis": {},
          "yaxis2": {}
         },
         "showticklabels": false,
         "type": "date"
        },
        "xaxis2": {
         "anchor": "y2",
         "autorange": false,
         "domain": [
          0,
          1
         ],
         "range": [
          "2021-09-25 18:37:59.397",
          "2022-03-25 18:37:59.397"
         ],
         "type": "date"
        },
        "yaxis": {
         "anchor": "x",
         "autorange": true,
         "domain": [
          0.575,
          1
         ],
         "range": [
          13.25116548532977,
          36.827861882250005
         ],
         "side": "left",
         "title": {
          "text": "Price"
         }
        },
        "yaxis2": {
         "anchor": "x",
         "autorange": true,
         "domain": [
          0,
          0.425
         ],
         "range": [
          0.08579492642586801,
          0.6162654587001896
         ],
         "side": "left",
         "type": "linear"
        }
       }
      },
      "image/png": "[encoded data removed]",
      "text/html": [
       "<div>                            <div id=\"93121bca-a330-4eac-93db-a0238239bff1\" class=\"plotly-graph-div\" style=\"height:600px; width:800px;\"></div>            <script type=\"text/javascript\">                require([\"plotly\"], function(Plotly) {                    window.PLOTLYENV=window.PLOTLYENV || {};                                    if (document.getElementById(\"93121bca-a330-4eac-93db-a0238239bff1\")) {                    Plotly.newPlot(                        \"93121bca-a330-4eac-93db-a0238239bff1\",                        [{\"close\":[17.24619483947754,17.287004470825195,17.197223663330078,17.50737762451172,17.540023803710938,17.303329467773438,17.360462188720703,17.14825439453125,16.756479263305664,16.79728889465332,16.79728889465332,16.96868896484375,16.976850509643555,16.81361198425293,16.895231246948242,17.15641212463379,17.09111976623535,16.84626007080078,16.780961990356445,16.70750617980957,16.756479263305664,16.838096618652344,16.878908157348633,16.67486000061035,16.772802352905273,16.617725372314453,16.128007888793945,15.91579818725586,15.670938491821289,15.393433570861816,15.52402400970459,15.417920112609863,15.075117111206055,15.197546005249023,15.238356590270996,15.703584671020508,15.834177017211914,15.785207748413086,15.695425987243652,15.621965408325195,15.540348052978516,15.646453857421875,15.56483268737793,15.695425987243652,15.6627779006958,16.731990814208984,16.772802352905273,17.35230255126953,17.213546752929688,17.099279403686523,17.221712112426758,17.033987045288086,17.033987045288086,17.033987045288086,17.033987045288086,17.711427688598633,17.956287384033203,17.425758361816406,17.172740936279297,17.09111976623535,17.123764038085938,17.16457748413086,17.172740936279297,17.858339309692383,19.645809173583984,21.612836837768555,20.84561538696289,20.404869079589844,20.535459518432617,20.380380630493164,20.053905487060547,19.47440528869629,20.029420852661133,19.76823616027832,20.127363204956055,19.939638137817383,20.20081901550293,20.780317306518555,19.939638137817383,20.070228576660156,20.070228576660156,20.64972496032715,20.519136428833008,20.690536499023438,20.22530746459961,19.425434112548828,18.984689712524414,19.115280151367188,18.772478103637695,19.28668212890625,19.07447052001953,19.115280151367188,19.24587059020996,18.862262725830078,18.641887664794922,18.53577995300293,18.584753036499023,18.731670379638672,18.60923957824707,17.97260856628418,17.915475845336914,17.97260856628418,17.842018127441406,17.890989303588867,18.625564575195312,18.462326049804688,18.943880081176758,18.968366622924805,18.845935821533203,18.935718536376953,19.596837997436523,19.714990615844727,19.61371612548828,19.605276107788086,19.30988883972168,19.377405166625977,20.052576065063477,20.086334228515625,21.917736053466797,21.765823364257812,21.335403442382812,21.31852149963379,21.74050521850586,23.2596378326416,24.72813606262207,23.66474151611328,24.280834197998047,24.2470760345459,23.968568801879883,23.470630645751953,22.04433250427246,22.5844669342041,22.65198516845703,22.289081573486328,22.1540470123291,22.339717864990234,22.440994262695312,22.677305221557617,22.871416091918945,22.727943420410156,22.20468521118164,22.12028694152832,22.305959701538086,21.985254287719727,22.07809066772461,21.88397979736328,22.787017822265625,23.14992332458496,23.23432159423828,23.209001541137695,24.458065032958984,24.441186904907227,24.60154151916504,24.8547306060791,23.791336059570312,23.175241470336914,23.5043888092041,23.327157974243164,23.352474212646484,23.21744155883789,22.837656021118164,24.052963256835938,24.00232696533203,24.42430877685547,24.390548706054688,24.390548706054688,26.829605102539062,27.428817749023438,26.416061401367188,26.838043212890625,26.601734161376953,25.951881408691406,28.542848587036133,26.348546981811523,25.93500328063965,26.036279678344727,26.188194274902344,25.968761444091797,25.276714324951172,25.166996002197266,25.25983238220215,24.95600700378418,25.268272399902344,25.411746978759766,24.567781448364258,24.01920509338379,24.6099796295166,24.137359619140625,25.082599639892578,25.192317962646484,25.63117790222168,25.74089241027832,25.985641479492188,25.909685134887695,26.213512420654297,27.47945785522461,27.28534507751465,27.952075958251953,29.33617401123047,30.374256134033203,30.247657775878906,30.104183197021484,29.64844512939453,30.00290870666504,31.302610397338867,33.92734146118164,33.56443405151367,33.55599594116211,33.269046783447266,33.361881256103516,34.58563232421875,34.71222686767578,33.92734146118164,33.79230499267578,32.55167770385742,30.686521530151367,31.699277877807617,31.648637771606445,31.547359466552734,31.218217849731445,30.23077964782715,27.833921432495117,27.63981056213379,26.390745162963867,26.922439575195312,27.62293243408203,27.994272232055664,28.44157600402832,29.302417755126953,28.8466796875,27.766407012939453,27.597614288330078,27.352861404418945,27.243144989013672,27.158750534057617,28.416255950927734,27.766407012939453,28.39093780517578,28.239023208618164,27.530094146728516,27.41193962097168,27.597614288330078,27.563852310180664,27.538536071777344,26.652372360229492,26.44982147216797,26.719890594482422,26.314786911010742,26.22195053100586,25.5974178314209,26.17975425720215,26.441381454467773,28.82979965209961,28.095552444458008,28.26434326171875,28.39093780517578,27.682008743286133,26.68613052368164,27.158750534057617,27.521656036376953,26.88024139404297,26.373865127563477,25.344228744506836,25.251392364501953,25.352670669555664,25.51302146911621,25.44550323486328,25.242952346801758,26.103797912597656,25.42018699645996,24.052963256835938,23.968568801879883,23.360916137695312,23.06552505493164,22.711061477661133,23.107723236083984,24.21331787109375,23.79977798461914,23.690061569213867,23.580345153808594,23.580345153808594,23.419992446899414,22.981128692626953,22.609786987304688,22.913612365722656,22.84609603881836,22.55070686340332,22.618227005004883,22.49163246154785,22.272199630737305,22.365036010742188,21.605470657348633,20.795263290405273,21.597028732299805,21.943058013916016,23.040206909179688,23.2005615234375,22.778579711914062,23.11616325378418,22.542268753051758,23.048646926879883,23.386232376098633,23.327157974243164,23.099285125732422,23.622541427612305,22.871416091918945,22.753259658813477,23.403112411499023,23.71537971496582,22.356597900390625,21.554832458496094,20.440799713134766,20.153852462768555,20.761507034301758,19.242372512817383,19.765626907348633,19.411163330078125,19.45336151123047,19.588396072387695,20.263568878173828,20.381723403930664,19.807825088500977,20.1285343170166,20.018817901611328,19.537757873535156,19.394285202026367,18.963863372802734,19.141098022460938,19.52931785583496,20.04413604736328,20.575834274291992,20.40704345703125,20.0103759765625,19.681232452392578,19.563077926635742,19.681232452392578,18.862586975097656,18.043941497802734,17.790754318237305,17.605083465576172,18.449045181274414,18.145217895507812,18.972301483154297,19.563077926635742,19.444923400878906,18.83726692199707,18.820388793945312,19.174854278564453,19.149538040161133,19.706552505493164,20.179170608520508,20.187610626220703,20.012218475341797,19.977142333984375,20.96810531616211,20.941797256469727,20.96810531616211,20.608552932739258,21.090879440307617,20.65239906311035,21.42412567138672,20.529626846313477,20.003448486328125,20.354232788085938,20.57347297668457,20.468238830566406,20.064836502075195,20.257766723632812,20.450698852539062,20.02098846435547,20.17007064819336,21.19611358642578,21.055803298950195,22.625558853149414,21.60828399658203,21.63459587097168,21.44166374206543,21.31011962890625,19.336957931518555,19.135257720947266,19.07387351989746,18.354766845703125,19.117719650268555,18.828323364257812,18.424922943115234,18.60908317565918,18.056598663330078,18.907249450683594,20.012218475341797,19.4158878326416,19.801748275756836,20.599782943725586,20.880407333374023,19.994680404663086,20.775175094604492,21.24873161315918,21.415353775024414,21.590747833251953,21.082109451293945,21.1698055267334,20.915489196777344,21.03826141357422,20.65239906311035,20.941797256469727,20.994413375854492,21.17857551574707,21.38027572631836,21.731060028076172,22.774641036987305,22.494014739990234,22.827260971069336,22.47647476196289,21.83629608154297,22.090614318847656,21.880146026611328,22.695714950561523,22.17831039428711,22.30985450744629,22.564170837402344,22.037994384765625,22.187076568603516,22.011688232421875,22.222158432006836,21.923992156982422,22.774641036987305,23.107887268066406,23.765607833862305,23.2043514251709,23.256969451904297,22.362472534179688,22.25723648071289,22.187076568603516,21.266271591186523,20.941797256469727,21.020721435546875,20.871639251708984,20.55593490600586,20.889179229736328,20.959335327148438,21.10841941833496,21.86260414123535,21.96784019470215,21.923992156982422,22.213388442993164,22.020456314086914,22.187076568603516,21.941530227661133,22.06430435180664,22.292314529418945,21.897680282592773,22.590482711791992,22.494014739990234,22.27477264404297,22.19584846496582,22.283544540405273,22.888647079467773,22.853567123413086,23.572675704956055,23.862071990966797,24.335630416870117,24.27424430847168,24.265472412109375,24.02869415283203,24.35317039489746,24.063772201538086,23.283279418945312,23.853303909301758,23.704221725463867,24.23039436340332,23.634061813354492,23.651601791381836,24.89688491821289,24.370708465576172,24.563640594482422,24.546098709106445,25.02842903137207,26.04570198059082,26.25617218017578,25.85276985168457,25.054737091064453,24.02869415283203,24.07254409790039,24.07254409790039,24.388248443603516,24.08131217956543,24.61625862121582,25.756305694580078,25.563373565673828,25.89661979675293,25.914155960083008,25.598453521728516,24.6951847076416,24.80919075012207,25.387983322143555,25.256437301635742,26.940200805664062,28.124095916748047,28.053939819335938,28.492422103881836,28.255640029907227,27.65930938720703,29.360610961914062,28.73796844482422,27.922393798828125,27.26467514038086,27.133132934570312,27.74700355529785,27.168210983276367,26.92266273498535,27.606689453125,25.879079818725586,25.879079818725586,25.958005905151367,25.77384376525879,25.50198745727539,null,23.765607833862305,24.537330627441406,24.01992416381836,23.695449829101562,24.581180572509766,24.598716735839844,24.204086303710938,24.572410583496094,24.668874740600586,23.99361801147461,23.905921936035156,24.133930206298828,23.99361801147461,23.43235969543457,23.520057678222656,23.67790985107422,24.22162628173828,23.81822395324707,23.60775375366211,23.414825439453125,23.186813354492188,23.064037322998047,23.704221725463867,23.783145904541016,24.388248443603516,24.844266891479492,24.55487060546875,24.405786514282227,24.49348258972168,24.47594451904297,24.29178237915039,24.318090438842773,24.949501037597656,24.82672691345215,24.668874740600586,24.449634552001953,24.370708465576172,24.4145565032959,24.388248443603516,25.098587036132812,25.309057235717773,25.580913543701172,25.914155960083008,25.826461791992188,25.563373565673828,25.563373565673828,25.580913543701172,25.615989685058594,26.001853942871094,26.30879020690918,26.361406326293945,26.422792434692383,26.38771629333496,26.931428909301758,27.27344512939453,26.30879020690918,26.28247833251953,26.37894630432129,26.273710250854492,26.04570198059082,26.150936126708984,25.221359252929688,24.923194885253906,24.563640594482422,23.68667984008789,23.695449829101562,23.99361801147461,24.247934341430664,23.93222999572754,24.35317039489746,23.96730613708496,23.791915893554688,24.02459144592285,23.969867706298828,24.51712417602539,24.781631469726562,24.98229217529297,24.772510528564453,24.590091705322266,24.124923706054688,24.188770294189453,24.21613311767578,23.687116622924805,23.532060623168945,23.614151000976562,23.440853118896484,24.352949142456055,24.352949142456055,24.526243209838867,24.69042205810547,24.845478057861328,24.54448699951172,25.338010787963867,24.818115234375,24.462398529052734,24.571849822998047,24.380308151245117,24.444156646728516,23.851295471191406,23.833051681518555,23.732723236083984,23.915142059326172,23.714481353759766,23.62327003479004,24.042835235595703,24.444156646728516,24.279979705810547,24.453277587890625,24.736026763916016,24.416793823242188,24.69042205810547,24.945810317993164,24.590091705322266,25.210317611694336,24.954931259155273,24.425914764404297,24.316463470458984,24.599212646484375,24.51712417602539,24.325584411621094,24.307342529296875,24.197891235351562,24.471519470214844,24.498882293701172,24.51712417602539,24.307342529296875,24.234375,24.38943099975586,24.061077117919922,23.969867706298828,23.887779235839844,24.0701961517334,24.161407470703125,24.09756088256836,24.371187210083008,24.307342529296875,24.39855194091797,24.635696411132812,26.131532669067383,25.8579044342041,25.538671493530273,25.356250762939453,25.265043258666992,25.584274291992188,25.538671493530273,25.338010787963867,25.356250762939453,25.410978317260742,25.693727493286133,25.44746208190918,25.538671493530273,25.538671493530273,25.67548370361328,26.861209869384766,27.773305892944336,27.645610809326172,28.30232048034668,28.89518165588379,28.284076690673828,27.709457397460938,27.627370834350586,28.384408950805664,28.27495765686035,28.794851303100586,29.35123062133789,29.697826385498047,29.23265838623047,28.74012565612793,28.968151092529297,28.89518165588379,29.36947250366211,28.69451904296875,28.89518165588379,28.630674362182617,27.80978775024414,27.84627342224121,27.782424926757812,27.24428939819336,26.642305374145508,27.463193893432617,26.4416446685791,24.289098739624023,25.192075729370117,25.210317611694336,25.44746208190918,25.082622528076172,26.1497745513916,26.52373504638672,26.52373504638672,27.317258834838867,28.09253692626953,27.745941162109375,27.0892333984375,27.043628692626953,27.226049423217773,26.678789138793945,26.359556198120117,26.751758575439453,27.463193893432617,27.061870574951172,26.988903045654297,28.39352798461914,28.366167068481445,29.424196243286133,29.46068000793457,28.39352798461914,27.87363624572754,28.13814353942871,27.709457397460938,27.280773162841797,26.81560516357422,25.939992904663086,25.639001846313477,23.988107681274414,23.05777359008789,23.532060623168945,22.364578247070312,22.69293212890625,24.188770294189453,23.90601921081543,24.234375,23.750965118408203,23.377004623413086,24.1705265045166,24.508005142211914,24.425914764404297,24.672178268432617,24.54448699951172,24.343826293945312,24.51712417602539,24.653940200805664,24.918447494506836,24.352949142456055,24.234375,24.36206817626953,24.188770294189453,23.741844177246094,23.823932647705078,23.723600387573242,23.413488388061523,23.568544387817383,24.061077117919922,24.416793823242188,24.453277587890625,24.015472412109375,23.705360412597656,23.969867706298828,24.08843994140625,23.650634765625,23.614151000976562,23.258434295654297,23.249311447143555,23.90601921081543,23.823932647705078,23.367883682250977,23.33139991760254,22.957441329956055,23.1945858001709,23.550302505493164,23.62327003479004,23.833051681518555,23.46821403503418,24.08843994140625,24.754268646240234,24.471519470214844,24.380308151245117,24.10668182373047,24.261737823486328,24.09756088256836,23.90601921081543,23.650634765625,23.513818740844727,23.386125564575195,23.550302505493164,23.413488388061523,23.614151000976562,23.687116622924805,23.431730270385742,23.30403709411621,24.079317092895508,23.641511917114258,23.860416412353516,25.493066787719727,25.87614631652832,26.131532669067383,28.29319953918457,27.66385269165039,27.818910598754883,27.937480926513672,26.605823516845703,26.614944458007812,26.396041870117188,25.803180694580078,25.119108200073242,24.83635711669922,25.812299728393555,25.547792434692383,25.438339233398438,25.100866317749023,24.653940200805664,24.371187210083008,24.508005142211914,24.726905822753906,24.54448699951172,24.480640411376953,24.86372184753418,25.31064796447754,24.945810317993164,24.954931259155273,24.653940200805664,25.365373611450195,25.429218292236328,26.18625831604004,26.095048904418945,26.158044815063477,26.678178787231445,26.195873260498047,25.94999122619629,25.978361129760742,25.87433624267578,25.685195922851562,25.71356773376465,25.609539031982422,25.48659896850586,26.063474655151367,25.723024368286133,25.7419376373291,26.035104751586914,26.29990005493164,26.5457820892334,26.89569091796875,26.7443790435791,26.460668563842773,26.905147552490234,26.470125198364258,26.186416625976562,26.366098403930664,26.659265518188477,26.574153900146484,27.680622100830078,27.557680130004883,27.387453079223633,27.113201141357422,26.574153900146484,26.12021827697754,26.867319107055664,26.810577392578125,26.479583740234375,26.498497009277344,26.791664123535156,26.460668563842773,26.2431583404541,26.214786529541016,26.328271865844727,26.233701705932617,25.968904495239258,26.101303100585938,26.460668563842773,26.403926849365234,26.470125198364258,26.006732940673828,25.496055603027344,25.978361129760742,25.997276306152344,26.43229866027832,26.50795555114746,26.630895614624023,27.661706924438477,27.86030387878418,27.964330673217773,27.737363815307617,28.153470993041992,28.144014358520508,27.472566604614258,27.614423751831055,28.323698043823242,29.08971405029297,29.2315673828125,29.193740844726562,29.354509353637695,29.174827575683594,29.127540588378906,29.259939193725586,29.893558502197266,29.03297233581543,29.08025550842285,29.439620971679688,29.222110748291016,28.370981216430664,27.813018798828125,27.595508575439453,27.103744506835938,27.02808952331543,26.91460418701172,27.349626541137695,26.999717712402344,27.0470027923584,27.273971557617188,26.95243263244629,26.640352249145508,26.526866912841797,26.31881332397461,26.422842025756836,26.574153900146484,26.87677764892578,26.97134780883789,26.838947296142578,27.141572952270508,26.271530151367188,26.39447021484375,27.188858032226562,27.226686477661133,27.7468204498291,28.16292953491211,28.08727264404297,28.276411056518555,28.36152458190918,28.323698043823242,29.562562942504883,29.581478118896484,28.84383201599121,28.465551376342773,27.67116355895996,27.765735626220703,28.08727264404297,27.80356216430664,26.886234283447266,26.280986785888672,26.5457820892334,26.80112075805664,26.403926849365234,26.37555503845215,27.311798095703125,27.5482234954834,27.188858032226562,27.26451301574707,28.38043975830078,28.219669342041016,28.115642547607422,28.38043975830078,28.36152458190918,31.198623657226562,31.302648544311523,31.539073944091797,31.48233413696289,31.68092918395996,30.9149112701416,29.827360153198242,29.505821228027344,29.335596084594727,29.023515701293945,29.45853614807129,29.780073165893555,29.732789993286133,31.11351203918457,30.933826446533203,30.92437171936035,29.505821228027344,29.912471771240234,29.71387481689453,29.08971405029297,28.891115188598633,29.0518856048584,29.316680908203125,29.66659164428711,28.370981216430664,28.21021270751953,28.370981216430664,27.831933975219727,28.08727264404297,27.58605194091797,27.292884826660156,27.037546157836914,26.791664123535156,27.198314666748047,27.06591796875,27.30234146118164,27.425281524658203,27.16994285583496,27.094287872314453,27.444196701049805,26.564695358276367,26.195873260498047,26.41338348388672,26.176959991455078,26.37555503845215,26.640352249145508,26.403926849365234,26.479583740234375,26.0445613861084,26.12021827697754,25.562255859375,25.420398712158203,25.600082397460938,25.647367477416992,25.808137893676758,25.316373825073242,25.505512237548828,25.127233505249023,24.767868041992188,25.306915283203125,25.70410919189453,25.685195922851562,25.48659896850586,25.25017547607422,25.155603408813477,25.306915283203125,25.221803665161133,24.900264739990234,24.531442642211914,24.644926071166992,24.503070831298828,24.25718879699707,23.916738510131836,23.415517807006836,23.604656219482422,23.642484664916992,23.2358341217041,22.88592529296875,22.914295196533203,23.169635772705078,23.008865356445312,23.179092407226562,22.772441864013672,22.507644653320312,22.517101287841797,23.62356948852539,22.744070053100586,22.526559829711914,23.150720596313477,22.7346134185791,22.744070053100586,22.75352668762207,22.526559829711914,22.545473098754883,21.949682235717773,22.242849349975586,22.64950180053711,22.205020904541016,21.836198806762695,21.495746612548828,21.949682235717773,21.855113983154297,20.20013999938965,19.06529998779297,19.37738037109375,19.481407165527344,19.538148880004883,19.765117645263672,19.74620246887207,19.43412208557129,19.850229263305664,19.95425796508789,21.07018280029297,20.672988891601562,21.855113983154297,21.410633087158203,21.552490234375,21.7132568359375,21.86457061767578,22.431989669799805,21.892940521240234,21.51466178894043,21.580860137939453,21.770000457763672,21.239999771118164,20.8700008392334,20.899999618530273,19.43000030517578,19.799999237060547,20.81999969482422,21.200000762939453,20.93000030517578,20.549999237060547,20.59000015258789,20.329999923706055,20.200000762939453,20.399999618530273,21.260000228881836,20.1299991607666,19.579999923706055,19.020000457763672,19.06999969482422,20.079999923706055,20.549999237060547,20.31999969482422,19.809999465942383,21.079999923706055,21.170000076293945,21.309999465942383,21.239999771118164,22.100000381469727,22.299999237060547,22.299999237060547,21.299999237060547,21.09000015258789,20.299999237060547,20.299999237060547,20.0,20.729999542236328,21.329999923706055,20.59000015258789,19.719999313354492,19.65999984741211,19.1299991607666,18.209999084472656,18.190000534057617,17.639999389648438,18.049999237060547,18.059999465942383,17.81999969482422,18.309999465942383,18.219999313354492,18.979999542236328,20.790000915527344,19.760000228881836,19.399999618530273,19.239999771118164,19.459999084472656,19.09000015258789,19.899999618530273,19.219999313354492,19.239999771118164,19.299999237060547,19.219999313354492,18.989999771118164,18.459999084472656,18.260000228881836,18.469999313354492,19.030000686645508,19.270000457763672,19.489999771118164,19.940000534057617,19.809999465942383,20.399999618530273,20.15999984741211,19.899999618530273,19.5,19.610000610351562,19.790000915527344,19.530000686645508,19.559999465942383,20.309999465942383,19.860000610351562,19.649999618530273,19.639999389648438,19.6200008392334,19.68000030517578,19.3799991607666,19.1200008392334,19.760000228881836,20.489999771118164,21.170000076293945,21.049999237060547,21.889999389648438,22.15999984741211,22.299999237060547,22.049999237060547,21.530000686645508,20.700000762939453,20.8700008392334,21.59000015258789,21.899999618530273,22.110000610351562,21.639999389648438,21.700000762939453,20.81999969482422,20.729999542236328,20.440000534057617,20.329999923706055,20.90999984741211,20.8799991607666,20.5,20.850000381469727,21.18000030517578,20.239999771118164,19.809999465942383,20.0,19.799999237060547,20.479999542236328,20.700000762939453,20.639999389648438,20.260000228881836,19.84000015258789,19.530000686645508,19.200000762939453,19.3799991607666,19.31999969482422,19.489999771118164,18.709999084472656,18.540000915527344,17.670000076293945,16.979999542236328,16.770000457763672,16.649999618530273,16.09000015258789,14.800000190734863,15.510000228881836,16.68000030517578,17.450000762939453],\"high\":[17.54002545542862,17.417595501877663,17.278843452198686,17.882826453991797,17.70326336537129,17.629807059156946,17.49105322028719,17.376789518421447,17.189061497004385,16.846260146679334,17.140090772371472,17.017660212116407,17.066632432066932,16.936040884109776,16.895231246948242,17.605318564869368,17.262519929176342,17.07479517383953,16.846257501728736,16.85442148571923,16.82993691747488,16.936040671368254,16.936041542384643,16.88707083526379,16.8380978739946,16.756478540115882,16.593238631114406,15.956607303490342,15.809691649808116,15.711749027009512,15.662777174926603,15.564835433685332,15.47505236885003,15.246517251374234,15.377109765008777,15.834175688747969,15.874987686655532,15.891312388724868,15.76072151045756,15.654613942212166,15.605643567622634,15.66277812650279,15.646452468770622,15.752559375459812,15.760720400233314,17.001334994313343,16.936041934012604,17.613484651980908,17.442081834748237,17.38494630019793,17.35230316741951,17.507379991593304,17.033987045288086,17.033987045288086,17.033987045288086,18.60924071841373,18.331736282086986,17.874664855163303,17.384950234058465,17.28700633392565,17.197221683935936,17.36046405251064,17.491056439716232,18.201141145169746,19.645809173583984,21.612836837768555,21.245550641554804,21.131281920657493,20.74767033748536,20.723182458890847,20.56810907003379,20.34773333491385,20.11920122077426,20.127362283915478,20.478327210392703,20.715022221943176,20.486487474550483,21.792400152777205,20.690537375595092,20.266115125452256,20.070228576660156,21.057822303865375,21.270035694478388,20.927232158712194,20.92723392567372,20.17633333265297,19.37646281148575,19.327490962567254,19.286680079759485,19.458083843669613,19.245870657039642,19.22138477858329,19.686616466904635,19.24587372952175,18.821449944063197,18.813286261519934,18.617400013827158,18.83777501354535,18.764317015816708,18.519459104898317,18.16033365391851,18.103199600272518,18.037904684957983,17.93179841911461,18.731670768070234,18.617401932438266,19.098957525145938,19.017337874146122,19.033660229645953,19.32749163682858,19.931477752210196,19.89222220281137,19.900663911252426,19.774069489469696,19.723432471257105,19.44492380583477,20.162290628807373,20.48299817429226,22.094969262223117,22.179365360693474,22.27220207789866,21.495753089367305,21.98525385572062,23.681619659262918,25.504582740321766,25.09947875511842,25.403305769670975,24.93912599157697,24.525584716119745,24.196439961404838,22.95581323389804,22.97268943137076,23.02332963622617,22.913614529113367,22.618226401075177,23.335595257587293,22.525390952200823,23.014890378037144,22.955812782020416,23.276519520886655,22.761701142336804,22.381916837331236,22.415674268613806,22.424115808966935,22.137167870249712,22.111850391016905,22.955811190768145,23.630982350593342,23.52970760594902,23.86729380071748,24.474944691495896,24.71125662921084,25.774652156121224,24.880048485828475,24.91380766455893,23.858853198056835,23.58878549914803,23.749139857191025,23.45375055872408,23.487509685032496,23.200560649809677,24.052963256835938,24.18799839121543,24.795651628334877,24.981323893878667,24.48338522092977,26.829605102539062,27.918318195734173,27.631371108636,27.251586814670173,27.51321321304931,26.458259904466104,28.55129002590512,28.188389774267396,27.03215541146395,26.416062366001842,26.56797697528649,26.331666064822116,26.92244263049908,25.21763337090817,25.2767120415916,25.622739116884173,25.403306456556855,25.63117772923585,25.420184896172607,24.69437699010354,24.685936485944293,24.559341425035626,25.479263594183454,25.487705593613036,26.44138226969412,25.994080872059996,26.238829929851903,26.0278395327614,26.76208851101924,27.842362485612753,28.509089737378176,28.298100935526396,30.28141558353608,31.19289876491137,30.4755283509625,30.973467984650163,30.197019592481926,30.90594960255635,32.070617153014,34.34932331214294,34.2649221923801,34.29868491290436,34.6784678058466,33.623511140351845,35.0329320586698,35.649027062403995,34.703786521606744,34.315561549177474,34.231166782937684,32.070621522865736,31.86806804301647,32.1043789281894,31.986220913719347,32.121258727169796,30.467088454937702,30.87219257423505,28.59349042343803,26.973078954255858,27.27690436550311,28.517535144866283,28.120868065112095,28.736961997430317,29.623121610944057,29.336176962159605,28.931074600720613,28.04491402970801,27.926756936353698,27.62292926700407,27.977396305374484,28.45001527126369,28.627247153659084,28.475336105227207,28.618807498404358,28.424696800250953,27.715767057349485,27.80860521833342,27.93519515218774,28.146187738582018,27.496337631286647,26.660812389074394,27.133434223757448,26.905560501213888,26.221950531005856,25.98564195341683,26.89712372132271,27.13343300917976,29.082988116352293,28.68632768042842,29.0914272291676,28.779160327014463,28.652568287025474,27.648246931078248,27.15875053405762,28.053354054613532,27.732644836278958,27.209390591369708,26.356984148896988,25.78308875344778,25.90124676015814,25.76621153706104,25.740890828613622,25.563659431492585,26.24727180826266,25.867486720969698,25.572097134427167,24.2639564193666,24.188000200872935,23.344032977713052,23.259637523019858,23.21743940827097,24.356791757771763,24.05296646137193,24.07828572085699,23.791336069190514,23.875732757289867,23.757577601664877,23.419990155755368,22.972690005128744,22.91361236572266,22.879855357919983,22.829214787642726,22.930494289037135,22.660425846780605,22.711061103690962,22.63510411255993,22.255323081116565,21.276322301076352,21.672985585358106,22.331280575336464,23.107723936520987,23.436871934903888,23.24276070546023,23.327154160765733,22.938932706421618,23.4031117257472,23.48750872414484,23.84197638655416,23.428430424385002,23.88416969794612,23.50438885308054,23.031769213889675,24.052964830086395,23.799776404859102,23.951688755484668,21.993692334418913,21.402919401213463,20.736187866928688,20.761507034301758,20.48300023341342,19.816264270909436,20.04413604736328,19.75718894069834,19.917542999387546,20.297326589525824,20.668671195930767,19.94285913555877,20.44079998068881,20.550515921236435,19.96817952154957,19.647475274763842,19.45336224443201,19.37740684118118,19.824705447869363,20.17073026887374,21.175049337670956,20.744628630526716,20.68554781542569,20.09477445596028,20.001939416850888,19.824706340139166,19.613714071674625,18.854147410534626,18.178978448277967,17.9933059986192,18.449045181274414,18.811949930386618,19.03137867803763,20.314205070083748,19.588395677010784,19.453359951479957,19.056699195987044,19.47868171924699,19.579959748120302,19.78250936645678,20.238247806070348,20.322644681802146,20.301615086137964,20.178842661179708,21.09964893049916,21.169806983070753,21.397815348419307,21.20488579586666,21.362738142919774,21.546898306453848,21.43289546907934,21.2224258257981,20.661168202067113,20.740095504602902,20.915488384091457,20.731326062485817,20.43315963016987,20.58224083299809,20.512085760658856,20.371771984946964,20.257766942066866,21.63459338616759,21.42412645212333,22.800951456497295,22.02922587557251,22.213389139293753,21.73106035467158,21.836295773266325,20.345462779433777,19.398346597901305,19.31942283863589,18.854633608630657,19.249264935554173,19.100182064134746,19.345729931331054,18.819553290993554,18.609082486540128,19.28434236511856,20.398081180625937,20.099917022288885,20.275307276380413,20.608552741356945,21.704749814892654,21.336429342034364,20.941796227936205,21.573207414977066,22.160769779168934,22.143231689937945,21.467970468491597,21.39781523764892,21.485512667713724,21.564437528373574,21.33642819143205,21.011953966757126,21.073339873981844,21.47674193482325,21.39781532091884,22.011686839395786,22.774641036987305,23.17804387073265,23.397284426001416,22.792180766559426,22.494015853111538,22.336161953308107,22.178312469906327,22.695714950561527,23.221891175485233,22.388781011681058,22.853567447869054,22.41508728677041,22.529091940115993,22.336162376294364,22.66940806966773,22.441398505700636,22.783410834025936,23.502518109630422,24.09008198110748,23.774376533079632,23.458669762440167,23.14296613835419,22.87987873835865,22.625556355909257,22.081844336331038,21.117189868522182,21.239961339986873,21.029492258232462,21.538128788858728,21.257502360828283,21.125958129207532,21.485512351726822,21.92399104854443,22.388782129187618,22.099384763305423,22.69571559391991,22.415087134479712,22.3975483384578,22.18707785225137,22.06430435180664,22.362471235014237,22.362469465807166,22.590482711791992,22.757103639199375,22.95003191136918,22.353701470956803,22.397550231434078,23.107886990817715,23.344665712668064,23.57267570495605,24.397017928802164,24.686413944201355,24.747801667804925,24.283012005703732,24.186547157967123,24.537331122395948,24.274242307522254,24.046235095656314,23.853303909301758,24.01992608580733,24.449634275630764,24.204085216994862,23.6603715888367,25.142434232136992,25.300285187673882,24.99335063271064,25.037195610873926,25.02842903137207,26.61572541213439,26.76480870621699,26.484181864602053,25.738766224543703,24.756570597768878,24.10762161562324,24.554871257097663,24.774111174491267,24.695184628957126,24.870577738231226,25.800153008077835,26.484182205474088,26.098320120499114,26.43156226686423,25.782614251606088,25.36167427198056,25.39675214417185,25.475677951722844,25.8878493214107,26.966510198261815,29.027363292449138,28.483649859623224,28.518729824354935,29.044901680789742,28.764277123130313,29.465845191396927,29.115061366056654,29.11505939012513,27.861007958810717,28.06270972589354,27.782082745144976,27.624230426680917,27.045436554429642,27.63299884485456,27.15944012198831,26.089549936823524,26.14216662827859,26.186015874256857,25.765074692515494,null,24.82672825143147,24.695183632209023,24.563639880201993,24.107620256956,24.633797685262337,24.62502612666858,24.625026527821586,24.791650503036205,24.72149352503498,24.739032420956807,24.23916589042884,24.370709715562935,24.19531834174231,23.92345827126178,23.72175799742166,23.74806655409662,24.22162628173828,24.04623366290077,23.77437655486509,23.739299602573414,23.69544987888518,23.274509103618488,23.923461654462233,23.932229108566325,24.5987185679056,24.94950278576629,24.809189711048802,24.59871703134072,24.8091885899218,24.73026362895787,24.651335693031342,24.888113870850294,24.949501037597653,25.010889307442064,24.77411063680155,24.774110361740174,24.54609938470095,24.62502661610579,24.519792062208836,25.14243435151738,25.370444146505065,25.861540369409056,26.554337750406233,26.028162105603634,25.879079576195952,26.036932581457013,25.800153460368936,26.08954868251244,26.186016343796812,26.378946913887557,26.65957273789106,26.571875635983865,26.571877018985468,27.168208406225215,27.580381337825234,27.18574988047282,26.571874930559247,26.405255696080662,26.378946144586937,26.405255299226045,26.387715630311245,25.782612882954663,25.212591521023285,24.774110714879846,24.3443995635061,23.97607664574014,24.169008948489523,24.37947795631463,24.42332693844667,24.44963482101522,24.32685944431203,24.326861845100794,24.10668016587232,24.18877039324464,24.590091740192452,24.954930078517343,25.32888939771445,25.12822717217556,24.881963701260595,24.225253015739582,24.608333340863126,24.343827661636293,24.29822060306169,23.915140760740712,23.769207299409224,23.760085125906436,24.39855321895433,24.945810835353658,24.553606696407524,24.954930557637375,24.872841545674643,24.927567135923614,25.365372536511824,25.328889915792598,24.77251110650175,24.82723541390803,24.690420707680637,24.580972351960398,24.161408060786915,24.015471454674767,23.933383602114564,24.07931951858371,23.9060205604149,23.842172717605365,24.44415595793659,24.644818753237164,24.58097111069034,24.489762239537207,24.927565953192097,24.881962677387747,25.292404879479715,25.219438250675953,25.292405596736824,25.310648667616203,25.319769079383047,24.891083614332913,24.571850811324996,24.863721151132353,24.590091740192452,24.571850587388543,24.453277656927312,24.444155667599933,24.49888295845387,24.663059739312704,24.663061044043474,24.50800463455169,24.334706052770315,24.453277399962758,24.252618066358103,24.197891555994534,23.988108547790247,24.14316371142511,24.316463761714008,24.22525368369756,24.41679302155118,24.453277656927312,24.407673103676647,24.71778513446944,26.131532669067386,26.177138165921956,25.89438814691987,25.547791696580486,25.401857220637034,25.64812242887566,25.702848945766682,25.53867114927914,25.49306646111899,25.429218903041072,25.857904943671976,25.67548593880744,25.757574183284174,25.693727782899778,25.84878230688086,26.861209869384766,28.585070250051483,28.238472465437052,28.57594840052914,29.415075739440763,29.360347730102283,28.366167196747508,27.937481673582624,28.548584657638372,28.566827909162384,28.995513403128598,29.597496799974742,30.646402922328555,29.925852874533,28.968149501314905,29.123207385361,28.9772703785174,29.62485810163648,29.38771346144938,28.98639154099712,28.995513917916785,28.721883124432605,28.211111237369675,28.138143314178336,27.828029876812533,27.235168766439553,27.67297542434582,27.162200848680808,25.100864795291184,25.420099579514115,25.520430203012825,25.648124189377388,25.17383241247867,26.341313745683383,26.93417868593941,26.72439541478805,28.046934483244815,28.092536926269528,28.229352333400055,27.40846538870715,27.45407232503522,27.244291749670097,27.18044088826526,26.58758004367424,27.04362883123283,28.23847361547567,27.60000699987461,27.9101196091154,28.849575667723542,28.849576513343838,29.59749659708402,29.825519550812416,29.177930556257543,28.393530369790344,28.79485160351119,28.27495730910394,27.9374812218599,27.180442985862065,26.870328863301616,26.32307338552411,25.210315623695443,23.650635284337447,23.65975516214881,22.87535115247703,22.948319459791428,24.261737856205915,24.179648870183147,24.772511436285225,24.380309693620664,24.097560833303767,24.590089525773198,24.571851544412258,24.790752566402077,25.009654309930212,24.854599573734866,24.77251049827777,24.936688974748982,24.74514835243443,25.31064881759743,24.83635861620019,24.40767361668947,24.65394017611481,24.45327705411766,24.207013045669694,23.860415559121883,23.942503063967457,23.677995142652925,23.86953578889768,24.170529336982312,24.60833301864595,24.763390168150785,24.033714738089046,23.878659034301652,24.051956431363998,24.152286342558547,24.061076665095527,23.614151000976562,23.559425728716576,23.44085238503694,24.061075495885305,24.170528134742344,23.83305078082035,23.477335040271083,23.2949173940398,23.340520921849176,23.586787155853344,23.805689806978084,24.225252976025693,23.823932421147788,24.170528668511764,24.8637208599087,25.502186504976677,24.745145941262255,24.371188586448614,24.489761671940737,24.489762188532545,24.088438983727244,23.906020372490936,23.650632695358848,23.82393267995695,23.69623762756612,23.568544671678506,23.760086136009182,23.705358948226536,23.65975411023855,23.422610471967346,24.124922904586175,23.94250331780792,23.94250514058166,25.994718555191984,26.35043458501206,26.560218617299007,28.411771174942732,29.205294364600707,28.183748422605035,27.937480926513672,27.42670904832381,26.806483659893317,26.906814816816436,26.706154966586343,26.195379312839314,25.210316088396027,25.994719508537575,26.022082461551893,25.8122981947594,25.520429374928327,25.42921992775406,24.881961860423576,24.626576783486268,24.754267570218722,24.717785612091458,24.836357056844978,24.945810576125243,25.49306774477979,25.137349522934326,25.20119570050655,24.954931624358938,25.483946992462617,25.93999295486289,26.18625831604004,26.505490774151948,26.38501245075207,27.094287021723645,26.744378822737247,26.385012070722443,26.035104390867335,26.25261564311112,26.24315872104268,25.959449799407615,25.940534174364643,25.694652182386402,26.2337008337718,26.337728616736452,25.751394848009813,26.20532912592995,26.668724050950697,26.6214379697088,27.472566314179858,27.586050912298397,26.85786238076285,27.519851776625114,26.914603253718724,26.763292027567584,26.564696215335005,26.838947098236922,26.8862346346857,27.690079311362044,27.95487395291202,27.784646889527934,27.614422459245006,27.09428785645235,26.810578407532688,27.103743950872612,27.207771198534036,27.1510294621195,26.753836274290517,27.037546185766143,26.668723584568518,26.479583190368103,26.403927129688046,26.422842168128955,27.037546574043333,26.139130674775696,26.129672927406702,26.574153284582128,26.61198006429537,26.611979743368583,26.48903984075428,25.987819736371772,25.978361129760742,26.867319826859223,26.65926629732416,26.621438472113,26.716008707019466,27.765734433671103,27.964331391563757,28.23858436212674,28.47501000957813,28.607406262817904,28.19129860700588,28.077815441810806,27.898132855973625,28.683063025869508,29.392337572703646,29.411250768173005,29.36396521906326,29.600389602873083,29.694961537096354,29.590934878361285,29.38287931892303,30.16781038923236,30.943285558979397,29.27885150949601,30.22455138668673,29.713874863291828,29.44907792544594,28.541207758977738,27.98324518225446,27.841390684035947,27.387454511538028,27.160486248642034,27.415825210099847,27.226687160467854,27.188857339460768,27.359084650157968,27.28342777991623,26.886234310328017,26.9713467762848,26.621436832953975,26.5174123275315,26.687636819736117,27.09428808310755,27.29288575495702,27.094286558656417,27.236141447334038,26.857862773045497,26.41338463582593,27.188858032226562,27.898132183032324,27.850847960699006,28.701977918730805,28.18184114015332,28.579034569035336,29.118085178637404,29.061342429017813,29.562562942504883,30.5933743926389,29.505822324754856,29.032971358671617,28.32369662404284,27.992703271203347,28.51283628787487,28.323697919661623,27.491481323427724,27.094287030757428,26.593068141892072,26.93351809495924,26.81057787271914,26.810577689690646,27.746820761130127,28.144015144190572,27.491481554763308,27.40636756179627,28.493922678375483,28.408809937531856,28.68306254470043,28.418266797066185,28.91948736812656,31.19862365722656,32.22943712644158,31.879526309587607,32.72119805177335,32.14432346681155,32.248347244594164,30.91491230637151,30.451520603236187,29.940843128825986,29.505822621888136,29.751702458992014,30.602832417563103,30.14889643549503,31.35939229851611,31.614731167594325,31.472875506389506,30.735229694287476,30.016499284337414,29.94084245336086,29.789531396812283,29.2693963816719,29.278853249766062,29.62876163281673,29.969215170543876,29.28830895973503,28.51283622345721,28.44663709419001,28.370982351289673,28.106185260997975,27.879218253800268,27.72790567792023,27.510395860766867,27.2361421953882,27.283427756131214,27.32125543915276,27.302341461181637,27.49148019145801,27.349626243763126,27.160486542743573,27.500938159330527,26.99971620119994,26.668722945317302,26.432297904044002,26.460669093312728,26.37555503845215,26.924061348475384,26.62143727458016,26.810578897743003,26.479582228331648,26.224243984628483,25.912163633117927,25.505511801234434,25.6379112391683,25.912162144217533,25.88379377470367,25.86487941476209,25.533883868985725,25.52442733703202,25.042119932805956,25.382571160429414,25.987818281677765,25.87433652703714,25.940534237215267,25.562256215496326,25.50551116289989,25.704109089585756,25.505512770342758,25.250174306174287,24.758410278993544,24.76786800434162,24.73003846641409,24.626012782690122,24.257189064976277,23.85999588412316,24.020764461620928,23.755969384971102,23.59520090617565,23.198006010428397,23.141262827833224,23.226377232804744,23.283119036656508,23.216919445093303,23.32094745311567,22.904838467380245,22.62112879479548,23.97347904403455,23.434431992182905,22.781899105269694,23.406059864101408,23.150719837130584,22.933210656313534,22.971038916944067,22.971039710226233,22.82918218791197,22.583300906663656,22.441445349492938,22.74407029938916,22.5927575042061,22.1009952822593,21.902397637165077,21.98751107757888,22.08208162552506,21.56194585272626,20.1433967394821,19.64217685083531,19.717832005391077,19.57597772069617,20.029914133939027,20.077197616116607,19.736747410879826,20.323078941241803,20.01099942478157,21.52411806902204,20.985069612851593,22.64950163334121,22.02533911860136,21.779457874369793,22.299591243497463,22.57384515781462,22.64950190801577,22.413076268090354,22.223936353410995,21.732171898468334,21.968596464461747,22.1200008392334,21.489999771118164,21.1299991607666,20.06999969482422,19.8700008392334,21.149999618530273,21.5,21.450000762939453,21.049999237060547,20.760000228881836,20.700000762939453,20.389999389648438,20.6299991607666,21.299999237060547,21.450000762939453,20.040000915527344,19.600000381469727,19.34000015258789,20.25,20.93000030517578,20.780000686645508,20.3799991607666,21.65999984741211,21.5,21.8799991607666,21.690000534057617,22.510000228881836,22.850000381469727,22.440000534057617,22.450000762939453,21.469999313354492,21.079999923706055,20.739999771118164,20.56999969482422,20.93000030517578,22.049999237060547,21.670000076293945,20.049999237060547,19.940000534057617,19.600000381469727,19.1299991607666,18.399999618530273,18.290000915527344,18.09000015258789,18.139999389648438,18.0,18.600000381469727,18.309999465942383,19.010000228881836,20.84000015258789,20.5,19.59000015258789,19.56999969482422,19.530000686645508,19.399999618530273,20.280000686645508,19.950000762939453,19.440000534057617,19.3799991607666,19.350000381469727,19.149999618530273,18.8700008392334,18.65999984741211,18.639999389648438,19.09000015258789,19.350000381469727,20.149999618530273,20.299999237060547,19.979999542236328,20.600000381469727,20.440000534057617,20.540000915527344,19.950000762939453,19.770000457763672,20.09000015258789,19.940000534057617,19.950000762939453,20.670000076293945,20.329999923706055,19.799999237060547,19.729999542236328,20.139999389648438,19.770000457763672,19.809999465942383,19.43000030517578,19.969999313354492,20.649999618530273,21.610000610351562,21.65999984741211,22.459999084472656,22.65999984741211,23.09000015258789,22.309999465942383,22.280000686645508,21.700000762939453,21.219999313354492,21.899999618530273,22.299999237060547,22.600000381469727,22.06999969482422,22.0,21.68000030517578,21.110000610351562,20.899999618530273,20.850000381469727,21.020000457763672,21.09000015258789,21.31999969482422,21.190000534057617,21.68000030517578,20.950000762939453,20.31999969482422,20.15999984741211,19.969999313354492,20.540000915527344,20.90999984741211,20.940000534057617,20.690000534057617,20.3799991607666,20.030000686645508,19.5,19.43000030517578,19.670000076293945,19.729999542236328,19.299999237060547,18.899999618530273,18.5,17.829999923706055,17.270000457763672,16.75,16.950000762939453,15.890000343322754,15.800000190734863,16.8799991607666,17.549999237060547],\"low\":[17.01766129975379,16.9931738725732,17.099281162102137,17.10744083586672,17.384946375810387,17.22170968073557,17.15641350730208,17.140092259024296,16.715668590562775,16.7401555078283,16.7728024902563,16.79728726423763,16.87074587504427,16.740154332985238,16.487133888874784,16.89523008254998,16.911555911609867,16.81361308851983,16.625886123827122,16.69934404539593,16.568753282224346,16.731991988580685,16.772801965052057,16.57691593970568,16.650373445458786,16.601401103921834,15.507699713444037,15.613805434109496,15.589318712399423,15.36894716778586,15.426079957937569,15.352624587328338,15.050632263999447,14.952686661087277,15.197547474017293,15.099600824839074,15.450566065049077,15.728074360801507,15.401596911165106,15.515860786728108,15.48321311549303,15.52402495285097,15.37710827991223,15.44240602938577,15.442404941584455,15.605642849254696,16.381029226369307,17.05847190958517,17.082955722395628,16.960526243909058,16.90339505370978,17.0013385043445,17.033987045288086,17.033987045288086,17.033987045288086,17.53186383722119,17.548189943486996,17.401271958686085,16.99317706724867,17.058471226569605,17.05846852586014,16.993175763818513,17.058472595050304,17.221708441497167,17.79304654863211,20.03758070432057,20.543622633985983,20.22530679212592,20.0457423634469,20.11103644794983,19.882505330581463,19.19689897686315,19.123444139458375,19.54786476230746,19.613161177136593,19.76823642954102,19.711101879531107,20.584430755981764,19.915151734701347,19.882504161997048,20.070228576660156,20.306923129484325,19.939638877825125,20.18449508677317,20.11920127006774,19.08263226083242,18.952041175893683,18.960202720727168,18.7235068575232,18.77248009815218,18.854097580906966,18.935717875783073,19.1234416989396,18.60108063337889,18.53578147863393,18.511295109571748,18.429675613078956,18.53578226712672,18.388868180063607,17.95628429784366,17.735911999393625,17.84201753229584,17.75223620479165,17.727749727949945,17.801207663031665,18.274600072942647,18.486811440642747,18.70718454072043,18.650049279576265,18.886745731244563,18.992854011826285,19.28456897784064,19.60527629535016,19.41960467572471,19.191734436273283,19.149536198228148,19.453361050012234,19.83314577737843,20.221368874073544,21.23412536188845,21.12441251217238,20.94717705148796,21.090652779782115,21.56327069645597,23.183682537491833,23.622542367778095,23.715378497396927,23.63098293716292,23.419992717823412,23.22588200356185,22.027452843973304,22.02745106712758,22.381917049982373,22.280641743172485,21.943056088402155,22.145606606360765,22.103409114406226,22.33971845534509,22.550708991479937,22.626667064911036,22.05277148273331,22.061209742389902,21.613909760682024,21.951496575941583,21.71518601251838,21.748945729212927,21.782700660114642,22.66886429857658,22.711063383989334,23.006450448128454,23.13304242273525,23.867292966311012,24.247076700975825,24.204878196962785,23.673180052385817,22.74482141771274,23.04020781937898,23.1330466944231,23.04020695449573,23.090847325900796,22.61822527796207,22.533829379244708,23.555025645577064,23.901050599250215,24.13736025969177,23.538145242357977,24.08672325063379,26.61861344357021,26.17975261138305,25.715571631697475,25.816847723274382,25.40330537565751,25.555218291339635,25.892807406217035,25.740892022217853,25.234513543735876,25.48770446603415,25.538339796927893,25.234515172665496,24.517143599764413,24.728134379564732,24.905369631185778,24.770333712338992,25.19231622828368,24.559341619011757,23.664741900015414,23.968567069534373,24.06984259458674,24.162679112757882,24.95600753592663,25.546781211510055,25.42018691803933,25.656494562345067,25.209195357989536,25.94344429061205,26.542657680011768,27.200946784770686,27.091232625149846,27.682006088894212,29.63156714835451,29.49653063178811,29.960710915446114,29.150506426904336,29.61468617972347,30.053544641925782,30.720280037768976,32.3238064814855,32.830189849546684,33.12557450291841,32.50103796736289,33.75011005724543,34.14676953108399,32.7457909907036,33.01585676804399,32.14657553843083,30.610564666186992,30.06198623176704,31.14226085504711,30.21389546714662,30.64432229142929,29.437454924337395,27.428819257489643,27.420381421564308,25.487704265708484,26.424500902864526,27.243148112547864,27.150308596921533,28.129310351079653,28.129308844907126,27.94363878092508,27.555416087976283,26.871804974004014,27.02371610040521,26.593294216288697,27.06591401737643,27.015276351645475,27.682008711274573,27.72420572236634,28.1377484711638,27.30222356839358,27.319103102137806,27.1756324283234,27.352861400513184,27.428819890763815,26.60173499127526,25.951882779490173,26.42450297774298,26.196632514916697,24.65217761593228,25.234513198815872,25.918124352225057,25.572098303485372,26.188193998726714,27.99427448208637,28.120867771123706,27.44569938086153,27.09123350881288,26.12911305037562,26.213510537096443,26.7789670987808,26.795844710802534,26.188193696569304,24.94756480260441,24.981324255213092,25.099480590231654,25.34422970021929,25.251391985442414,25.14167761143942,25.15011801502056,25.285151325395773,23.85041218047263,23.14148476070348,23.318716985655808,22.415672698530738,22.626664791513736,22.550707374969193,23.065526777669657,23.63098459362856,23.377795891544135,23.403111947826655,23.521267955058924,23.073967462048188,22.964249034106743,22.592907327945547,22.390355813532008,22.626665293856625,22.432552474251096,22.415675905794657,22.381917887959677,22.213122434326788,22.196242642239667,21.38603990608675,20.74462592342223,20.727745641595252,21.352282731186556,22.179365213011337,22.65198544975683,22.660425310885177,22.74482041650432,22.40723469522928,22.516950533445367,22.981130203379692,23.0486499958869,22.888294219471458,23.06552556962012,22.71106254169944,22.2890802864857,22.635105593071394,23.158363815296322,22.289080869744662,20.955617428132893,20.09477473373909,19.833146964811572,20.162291979119786,19.006063697262388,19.242368784777796,19.411163330078125,19.284569746873917,19.115776866360086,19.72343261867766,20.06101790037745,19.554636652700818,19.80782721354824,19.951300871629265,19.250810108192216,19.11577724882824,18.921665832556393,18.989184290579008,18.584079493004324,19.326766645826865,20.288888097573047,20.255129726525016,19.892221588897883,19.613715423437302,19.259250493450956,19.461801705854686,18.744430975269434,17.782313226175905,17.765434828321727,17.318135676051753,17.664158759969276,18.145217895507812,18.06082085274604,19.352087011309184,18.955422935207167,18.609396368166593,18.75287176618095,18.238055686014924,19.107338886596636,19.065139907207627,19.59683524316809,19.976619713158083,19.503581957194967,19.635126917579385,20.03852854582344,20.810253633764344,20.801482512579017,20.591013337313658,20.3279254624421,20.503315855886434,20.529626378753836,20.529626846313477,19.898214268503818,20.038528449724602,20.26653843149198,20.24899891307762,19.828058662539053,19.977139924397658,20.00344922852199,19.924522368942394,19.705281461531147,20.091144290356297,20.87164088602966,20.985645204318402,21.39781389342064,20.9505667026511,21.310118458698103,21.003185077975072,19.27557102898479,18.644160825701107,18.766937289641398,18.24953094540201,18.45999991451159,18.54769653969771,18.29337932660838,18.310916760768535,17.986441960816617,17.88997639775882,19.05633234547948,19.336961323348916,19.38080805698104,19.293113204674587,20.57347114287231,19.75790255791229,19.863136232994183,20.433158882735082,21.2925799646951,21.047032101327158,20.783943055398144,20.792712607629564,20.79271370126196,20.97687450683672,20.634861141359377,20.52085699474533,20.55593357411039,21.01195271151796,21.011952603047302,21.06457051485822,21.64336398168788,22.125691619231674,22.230928123693808,22.16954022712489,21.643365550709955,21.69598180251077,21.731062804963827,21.915221399222617,21.923991292414563,21.950301176006935,21.75736791236368,21.801216559988333,21.71351926810049,21.836295627913398,22.029227904506545,21.83629585382092,21.845064295573145,22.923724870535622,23.151735384369697,23.072807812833418,22.74833294078427,22.22215911483748,22.055536150875092,21.845062869758685,20.783944450969,20.459470082327346,20.503315127255053,20.6787087285513,20.55593490600586,20.757635612775164,20.757635008831933,20.792713395464034,20.915487794844942,21.915223080141935,21.599516337085223,22.020457917156033,21.95029961228368,21.93275916175336,21.853833930592728,21.32765812228889,21.774908198403228,21.87137256549325,21.915223322249,22.27477482698318,22.1256894509017,22.099384040046285,21.862604310455342,22.353701160520217,22.678176203822932,22.686947890990854,23.353435445582754,23.67791067587363,23.660371860914967,23.58144331593895,23.546367012846193,23.791915069661496,23.8269927050555,23.23943210291263,23.38851467782794,23.598985823570768,23.48497999996424,23.511286332333775,23.020191428642352,23.555137670868827,24.309319887581395,24.011155064854833,24.30931921850389,24.169007309411494,25.028428931866618,25.844000077451987,25.484446735038635,24.923193477267468,23.69545022073291,23.11665790443566,23.853304175962016,23.546367946395183,23.87961185318479,24.002387832077336,24.344400120737482,25.387982638569827,25.12489434630204,25.800151946080852,25.151203884310032,24.651337392260142,24.74780216599632,24.756571284098484,25.002119872412443,25.212590835773245,27.185749351905883,27.80839050802842,27.536534225107253,27.843467937956117,27.40499027457837,27.869780444675435,28.413494307485475,27.545300903187588,27.019125840830988,27.080514149513416,26.317560022384246,26.984050249979077,26.580647323769654,26.712190206333503,25.70368721731007,25.651070105952538,25.4405995792209,25.607222634870613,25.34413444706419,null,23.414824293867042,24.011154502438618,23.90592014583529,23.414823012462985,23.528828281451215,24.07254230060704,24.02869370733095,24.379478383793373,24.39701771169418,23.940999224969033,23.598985702478824,23.85330338317151,23.765608287954116,23.37974258826297,23.33589695356299,23.064037445127422,23.537597152217405,23.68668034031895,23.44113095245913,23.414825439453125,23.046499945878104,23.020190011091632,23.353436500932148,23.607753309452033,23.82699477879796,24.423326659667897,24.388247800870367,24.18654660607895,24.361938980527544,24.335631104147797,24.028693486992882,24.195316624379924,24.23039276780478,24.66010578635147,24.58118011187891,24.23039463729629,24.300550090724997,24.300550813439852,24.283014217786405,24.554871292957746,24.800420681478638,25.20382061940577,25.62475935397383,25.545833305140203,25.124893738912125,25.50198665755404,25.35290382964656,25.589681966978535,25.528296589730928,25.607223137125402,26.177245604661014,26.150935422690637,26.168476378417033,26.712189006076567,26.773578402388875,25.984314391716786,26.072008231460433,25.958006072178136,26.04570221432514,25.958005682045403,26.089549219701237,25.002119344617714,24.721494554526018,24.27424396985249,23.67791004305552,23.160503914466922,23.72175929919947,23.993616909010708,23.818224302893217,23.9234603580665,23.83576252977442,23.590215564261786,23.395245172871512,23.860415492983968,24.09756111698575,24.352947268700817,24.854599377392365,24.736027617783666,24.535366467195562,23.896899859077553,24.143164480626723,24.04283623749592,23.586787313133062,23.422610149396387,23.431732952027808,23.358764391469933,23.46821544504387,24.307343326273774,24.298219374151458,24.635696821530694,24.60833304919757,24.416794200602393,24.74514738739419,24.763389996967376,24.343826891644074,24.435035865055717,24.26173652187098,24.289100355191817,23.714481502766095,23.796568770697643,23.659755672101596,23.732724013238695,23.632392625283572,23.54118131127381,23.723601498523344,23.851294969564886,24.170527495088866,24.179649659277047,24.480639438530744,24.34382626218115,24.5444869341168,24.67218064562641,24.44415657719508,24.626577082004953,24.74514799030084,24.32558371647346,24.216132418746632,24.3985522820398,24.170528681152817,24.30734208607893,24.261738454293845,24.061075535599933,23.887778971920277,24.371187758401163,24.19789217009695,24.097561000788613,24.170528599031236,24.234374710817413,24.006351878230728,23.906019567049547,23.71448062111252,23.778325912966544,24.05195699450954,23.814811791632017,24.07931697542201,24.261738454293845,24.12492401689339,24.343826168017642,24.90020354022465,25.620759426061806,25.429219278811352,25.19207505655497,25.16471220803647,25.41097742521716,25.292405315175657,25.21943741197637,25.182953894030742,25.28328377869497,25.502186554608016,25.292405789631005,25.493067418879683,25.48394625601278,25.657241379125367,25.67548482131078,26.624065469131057,27.54528149931854,27.636489525783954,28.59419025278849,28.265834366357126,27.44495063694689,27.527039782441317,27.81890905054676,28.101659042174546,28.29319953239836,28.566828010724485,29.65221883367937,28.986393937651837,28.502980648371416,28.594192105055885,28.320560597448495,29.050238766510233,28.59418973686978,28.51210153015488,28.612433776143057,27.7824242627323,27.727700045022008,27.65473212801829,26.92505567156706,26.46900850348111,26.61494486705388,26.158895589910117,23.787446986087243,24.535365927557688,24.827237454164678,25.00965669418867,24.818114037277304,24.73602741166011,26.040323841989544,26.31395351491933,26.87033054304575,27.335497832662767,27.289893478142872,26.925055952193755,26.952418803238007,26.706155297114613,26.45076530000084,25.921750832180326,26.268347376979204,26.085929588407907,26.797362074026402,26.614944070545246,27.271651101706436,27.755063085621906,28.037812549426196,28.82221428726608,28.26583519004874,27.37198444804546,27.54528187522709,27.691216811679354,26.99802407711394,25.721091696710676,25.803178946600113,24.900203331393588,23.723600926998508,22.05446824768187,22.857110235958476,22.24600487815566,22.218643856810726,23.121618612396272,23.714480014973525,24.097561035112086,23.71448046725645,23.258432985418942,23.942502669568334,24.033715097746544,24.261737318584334,24.444154433272672,24.398551875134228,24.261737570184053,24.25261740830126,24.27086004903931,24.644819554514527,24.216133433593217,24.07931870921131,24.216133046188883,23.760084345119328,23.486456835851587,23.404367858466365,23.62326934184446,23.285795592030077,23.313157059146523,23.50470007843111,23.951624969096624,24.352948275230418,23.66887691691537,23.605029356924188,23.632391643288262,23.79656968489064,23.55942487473689,23.37700597162755,23.212830218399173,23.17634388501367,23.53206024206171,23.74184392241237,23.322277870843514,23.25843235626827,22.930077841619344,22.765899858017573,23.203707025490857,23.440852002285876,23.60502783491523,23.440852286652756,23.69623863183191,23.98810836961273,24.471519470214844,23.997228036806174,23.887779135372167,24.097560374249724,24.024593319111112,23.696237689745566,23.550303711679685,23.212827345040136,23.258432764917636,23.440852033780384,23.367884315102827,23.4590947025439,23.45909277570483,23.404366783317226,23.24931185647627,23.413487899366313,23.449970985936197,23.605029064567745,23.869536370968905,25.328888748618326,25.666363809740844,26.72439434811905,27.36286128707987,27.04362913577082,27.25340938655347,26.441646062613295,25.976476972354902,25.94911532429485,25.794059531466804,25.100865874513502,24.544486869490378,24.891084883749716,25.39273614666846,25.21943655404206,24.72690733559045,24.489762744379515,24.015470579050394,24.279981283105563,24.179648257567674,24.435036526070554,24.270858889161648,24.55360925945328,24.69042279907064,24.72690762391014,24.617455188142106,24.535366820193897,24.672180870688585,25.365371894328977,25.356251634333862,25.82141925157977,25.67573791280831,26.063474547686557,26.006732665058987,25.817592087784437,25.685194829156973,25.73247988920637,25.628454463107285,25.64736906297202,25.496054313190818,25.098862367677604,25.562255133411696,25.704109947403733,25.467685742702447,25.656823554082123,25.931077862691062,25.968904873246903,26.432298437434596,26.630894324622886,26.158045046909088,26.820034465664655,26.385012110605977,26.016190447095184,25.987819005753884,26.15804420699927,26.432299348770204,26.555239300424354,27.46311163237147,27.141572828644296,26.99971642274533,26.46066917677837,25.912163254118724,26.252614873887282,26.772748552116422,26.158045793372107,26.23370053402904,26.52686764026061,26.356642857258347,26.14858803973281,26.072931981319968,26.148588471882547,26.167503035107938,25.798680119481272,25.817592205929433,26.006733288442245,26.24315788208063,26.30935623301844,25.931077062452093,25.439314142650222,25.174518105646488,25.9121632157957,26.15804497148641,26.2999005230798,26.3850135481237,26.77274900027036,27.453654645819036,27.604965698686424,27.614423684818444,27.66170688222888,27.784647576429254,27.264513387821395,27.425283146550342,27.699536577683922,28.13455743032271,28.84383078540927,28.787089820068967,28.96677095189327,28.938402719808977,28.938401792010325,28.48446599413661,29.401794383083736,29.032972335815426,28.503378317875946,29.042427159038873,28.891115601510524,28.31423975905576,27.76573455103802,27.538767116919278,27.103744506835934,26.86732054874199,26.668723929159867,26.84840521305813,26.753837450591956,26.706550436289966,26.763293002372507,26.810578084610157,26.451211647073283,26.34718532919053,26.06347406185637,26.205329790541576,26.101304193039887,26.347186477594114,26.782207203904818,26.687635541418462,26.70655029910889,26.025648089322633,25.62845420285019,26.22424420130682,26.848405276224376,27.245599120103172,27.68062261155367,27.77519191705487,27.992701964478673,28.18184119216669,28.25749756996612,28.210212535594078,29.05188515192342,28.70197746519285,28.38989549895082,27.434738718371218,27.0091750058334,27.56713689654384,27.77519233655643,26.68763647109214,26.072931766683986,25.77976607394763,26.4417539810661,26.271529512935004,25.94053419099206,26.489040621271005,27.047003953943957,26.990262021978747,26.810577746878273,27.377998880007937,27.992701709719046,27.917046540703012,27.699536826517082,27.898132095755138,28.758717562448467,29.903015675822942,30.536634876306323,31.113511945300022,30.820342893712873,30.70685986077949,29.39233748815047,29.50582122802734,29.042427969239046,28.654691700969856,29.01405807643158,28.995142755118433,29.553106600099554,29.600390818302106,30.60283310021566,30.716316692785334,29.174826085948563,29.174827380270415,29.449078339127922,28.749261685691714,28.74926064308536,28.86274680265793,28.673605038386377,29.12754145889143,28.11564195257597,27.964330649875563,28.039986074816625,27.63333616079589,27.680621617166075,27.40636854744499,27.169942896501666,26.952433067007245,26.602523520656412,26.7727492198322,26.75383723489908,26.961889112572937,26.90514759656397,27.122658608169964,26.6403525861332,27.084829923122225,26.40392639376583,26.101302962778515,26.00673246939706,26.082389689576367,26.006732858755257,26.413384608925917,26.224243461511048,26.36609901625655,25.798679334677626,25.628454155029292,25.42039950397699,25.240717127466997,25.174518750923816,25.36365658670135,25.50551256579062,25.250175154490215,24.98537828765495,25.06103483391494,24.69221216137682,24.730038091991148,25.259629333114827,25.514969739840243,25.344742618728056,25.089406500991405,25.03266148154542,24.881349846443733,25.117776151497903,24.758410192966913,24.3801308843575,24.493614310166276,24.455786583733392,24.20990454939001,23.803253789331393,23.26420604442347,23.37768857934645,23.42497423890658,23.122351203076168,22.744068945577503,22.69678477534298,22.810270787035865,22.91429505969047,22.980494596146208,22.744070232174803,22.43198877463168,22.22393499089223,22.55493000952101,22.734614646340567,22.271220554154134,22.469817685990765,22.668412948384734,22.422532109905667,22.526559051779422,22.4887327909877,22.441445590967366,21.940226829030955,21.760542460575536,22.08208178853233,22.00642490149332,21.656515419683625,21.420090733814067,21.391721248494104,21.609231919641346,20.096112486953952,18.99910131760553,19.046385222361412,19.112583188770618,19.00855773677571,19.00855882587481,19.661091183251102,19.358466205188773,19.52869133800682,19.22606898453481,19.84077252609537,20.3041649091945,21.37280706669949,21.410633087158207,21.10801036107904,21.533575252979702,21.5430326818439,21.51466187862106,21.7227143424085,21.202581052724522,21.448462798421296,21.40117646795827,21.049999237060547,20.81999969482422,20.719999313354492,19.299999237060547,19.079999923706055,19.540000915527344,20.639999389648438,20.700000762939453,20.420000076293945,20.350000381469727,20.299999237060547,19.940000534057617,20.1200008392334,20.020000457763672,20.059999465942383,19.510000228881836,19.020000457763672,18.93000030517578,18.739999771118164,19.850000381469727,20.200000762939453,19.709999084472656,20.31999969482422,20.940000534057617,21.09000015258789,21.09000015258789,21.25,21.84000015258789,21.709999084472656,21.25,20.950000762939453,20.18000030517578,20.209999084472656,19.90999984741211,19.920000076293945,21.049999237060547,20.219999313354492,19.719999313354492,19.559999465942383,19.0,18.049999237060547,17.969999313354492,17.520000457763672,17.559999465942383,17.729999542236328,17.780000686645508,18.1299991607666,17.90999984741211,17.989999771118164,18.889999389648438,19.40999984741211,19.1200008392334,19.209999084472656,19.09000015258789,18.979999542236328,18.920000076293945,19.190000534057617,19.100000381469727,19.0,19.06999969482422,18.950000762939453,18.350000381469727,18.15999984741211,18.209999084472656,18.219999313354492,18.59000015258789,19.459999084472656,19.700000762939453,19.5,19.8700008392334,20.010000228881836,19.8700008392334,19.43000030517578,19.399999618530273,19.479999542236328,19.530000686645508,19.510000228881836,19.440000534057617,19.799999237060547,19.5,19.299999237060547,19.579999923706055,19.389999389648438,19.360000610351562,19.030000686645508,19.100000381469727,19.360000610351562,20.360000610351562,20.790000915527344,21.350000381469727,21.559999465942383,21.790000915527344,21.510000228881836,21.469999313354492,20.670000076293945,20.65999984741211,20.860000610351562,21.5,21.899999618530273,21.5,21.25,20.729999542236328,20.5,20.239999771118164,20.260000228881836,20.239999771118164,20.399999618530273,20.40999984741211,19.899999618530273,21.0,20.200000762939453,19.709999084472656,19.739999771118164,19.559999465942383,19.700000762939453,20.100000381469727,20.399999618530273,20.020000457763672,19.600000381469727,19.450000762939453,18.989999771118164,19.100000381469727,19.110000610351562,19.34000015258789,18.350000381469727,18.329999923706055,17.59000015258789,16.049999237060547,16.729999542236328,16.020000457763672,16.040000915527344,14.770000457763672,14.430000305175781,16.280000686645508,16.299999237060547],\"name\":\"Price\",\"open\":[17.54002545542862,17.14825130573596,17.262519183071365,17.20538488868686,17.466566156640564,17.613482790395782,17.303328807006352,17.368627382914493,17.140090246480906,16.756479777426318,16.838098011880327,16.838096377503533,16.968689931939586,16.91155448143124,16.813611463979974,16.89523008254998,17.14009101896591,17.07479517383953,16.846257501728736,16.7809638327644,16.691183743685027,16.731991988580685,16.846259619174923,16.87890870045773,16.68302198438746,16.723830003330644,16.585076497084657,15.817854128817904,15.752556714475345,15.6709399119842,15.426079957937569,15.466892924147102,15.417918983010605,15.042468576290036,15.197547474017293,15.238353975770465,15.597481361510377,15.83417900111329,15.752559375459812,15.613803274853455,15.52402378512552,15.564834068785277,15.646452468770622,15.515863687597426,15.62196722858187,15.630127693139222,16.56875365490512,17.54002699155982,17.221708886934053,17.205384028566787,16.936043595842055,17.180900809229886,17.033987045288086,17.033987045288086,17.033987045288086,17.53186383722119,17.88282972019343,17.874664855163303,17.35230324854174,17.180900136780036,17.091117060356943,17.091119826392436,17.425760911914598,17.221708441497167,17.825695088855724,20.355897718830757,21.229226372362973,20.715022404621706,20.535459518432617,20.404867031367218,20.20898293109019,20.05390275608634,19.539703668314562,19.833531677597083,19.80904773805677,19.915151734701347,19.809045929432614,20.97620541382327,20.33141124706629,19.955961812390072,20.070228576660156,20.878260033144972,20.282440750332103,20.28243913831989,20.55994720408992,20.160010621061076,19.262196046814008,19.001013390247103,19.139766341416006,18.77248009815218,19.196899411715012,19.058146770807145,19.13976596624707,19.24587372952175,18.772478696402377,18.6255618636313,18.617400013827158,18.60923992012671,18.764317015816708,18.446001453683888,18.05422901867128,17.948122163623395,18.037904684957983,17.87466503467138,17.85834104837909,18.527621567957762,18.592917633746712,18.97652875758969,18.919393469363037,19.18057633496724,18.992854011826285,19.731868664794277,19.850026540156694,19.57151839729156,19.63059594870021,19.326767796952346,19.453361050012234,20.07789600857958,20.221368874073544,21.858658271387178,21.613911405871264,21.12441025095435,21.3522810774208,21.757383560098795,23.209002028299324,24.483385677020927,23.858852379929537,24.052964775326544,24.052965493980803,23.960129539865214,22.95581323389804,22.04433072606514,22.787019227694362,22.787020293871798,22.415675307273272,23.16680348867456,22.280640713608136,22.52539149870858,22.778579571834026,22.955814012983385,22.753261311897113,22.2131234600218,22.120286666856654,22.314401233521657,21.943056602029227,22.086530899588812,21.782700660114642,22.795458524936745,23.040208716885893,23.377794923511896,23.20899927641852,24.30615284762189,24.44118796553032,24.72813476840046,24.66905743014306,23.79977599905873,23.090846799185123,23.419994503606297,23.22587998734917,23.29339842054675,23.166802940718775,22.829215359524824,23.86729290837448,23.92637008856001,24.348351168238494,23.85885232479941,24.08672325063379,26.92243925324874,27.361299780769528,26.314786655498096,26.542656964484568,26.238829169305973,25.97720008975172,27.935198080552457,25.740892022217853,25.82528875973534,25.825289625175508,25.935002126008563,25.79997093542907,24.795651542273788,25.16699586529306,25.091041070535283,24.95600513780571,25.268273088438207,25.420184896172607,24.56778276251013,24.18799780924405,24.550901595749785,24.23863597167601,24.98132702763225,25.572099091910452,25.73245258025453,25.783088787524925,25.656495069787397,25.951884120892498,26.542657680011768,27.428817345980868,27.648248520749334,27.83391979803384,29.63156714835451,30.070426179524738,30.04510599643563,30.00290833143876,29.623124400106548,30.247655885726566,30.804675120174824,33.31968382541213,33.42096187534226,33.63195142409384,32.91458156253402,33.7585482777498,34.349322229727626,34.703786521606744,33.75854567432966,34.079253068469484,32.070621522865736,30.89751171520142,31.648637771606445,30.804670616004195,31.05786269053571,30.323616170468018,30.74559673602951,27.85080148245542,26.584856426727864,26.525777247123706,27.243148112547864,27.74108378540858,28.694764458296586,28.610367848098484,29.251781879466375,28.86355917885473,27.43725912106924,27.150308714544302,27.00683620247109,27.42038042475317,27.30222413556912,28.222144964065723,28.18838832398428,28.585048179430952,28.306542400995635,27.504776139805553,27.378181918225593,27.428818256772107,27.49633853122321,27.487896191772517,26.500458841500286,26.559537040869635,26.838043473484017,25.33578933621247,25.96032246402592,26.070038075183884,25.74933150948873,26.618615675742678,28.441577433896015,28.399377313149877,28.01959494334739,27.26002689287181,27.597611174049792,26.601734653436306,27.133433517427164,27.487894615854984,27.141871951299485,26.331666269870297,25.453943446468596,25.56366159745916,25.597418158431154,25.47082272337887,25.217632858094724,25.1923171665297,25.867486720969698,25.572097134427167,24.18799955744907,23.968569439466677,23.335593148570243,23.00644907431057,22.79545759774565,23.124603976348908,24.05296646137193,23.901052501051872,23.71537921087439,23.69849955130793,23.72381989105483,23.25119679001895,22.947372125822948,22.533829695855164,22.854535868593764,22.829214787642726,22.550709971934808,22.618226695605905,22.5169498555613,22.272199497092515,22.196244270992494,21.276322301076352,20.9049788353089,21.428239599244147,22.19624326254698,23.031769752161207,23.040208004077876,22.846095150405056,22.871415677510377,22.567587901931294,23.26807797815551,23.1330466944231,23.192120029868892,23.099284886944666,23.50438885308054,22.778579148293026,22.7616998228621,23.2090011853391,23.841974184334845,21.79114125097771,21.259445511483577,20.136974412153034,20.339525190554703,20.48300023341342,19.495558822047336,19.799385824007913,19.428043631930088,19.69811225129863,19.72343261867766,20.423922555538347,19.81626491765869,19.90066373451008,20.457679401361233,19.909102324520063,19.453362402745217,19.428044364177396,19.15797768372184,19.10733604142378,19.377404012484476,20.288888097573047,20.57583523891244,20.542073940518883,19.87534370942239,19.866905359820525,19.65591457261744,19.613714071674625,18.854147410534626,18.052382608433053,17.87515159460315,17.849830176190757,18.474363193381578,18.14521753532201,19.41116421004335,19.0735789416289,19.411162416207404,18.896345651396835,18.25493373626053,19.326769655932672,19.35208769090729,19.740309127103238,20.179170796530247,20.170071476261114,19.8719064352441,20.152532565537467,20.871640546182327,20.819022107202038,20.871640173451755,20.345465057320528,20.915487961388443,20.748866303065743,21.14349931743484,20.450698093750763,20.038528449724602,20.538395459805912,20.51208614499703,20.380542518347156,20.44192743338051,20.284076050022634,20.205150858083357,19.863134455969924,20.196380178268118,21.055803298950195,21.222424717037693,21.748597398689625,21.62582607324948,21.599515071304253,21.485512234582227,20.126222886003102,19.336958022411338,19.09141311537904,18.416153757267153,18.53892641661585,19.100182064134746,18.942329284354322,18.72308886688267,18.5038482691038,18.07413879273143,19.18787595535633,20.064837830306388,19.494812072315746,19.45096621670333,20.79271103999244,21.292582026290702,20.441929482605406,20.766404481647264,21.836293987011537,22.099384375460648,21.467970468491597,21.07334110214176,21.204885831109223,21.178574821165014,20.950565477558182,20.529626792614746,20.591011088462714,21.204884907783608,21.09087910608166,21.301350014159546,21.660903575765143,22.60802043144787,22.25723584346942,22.792180766559426,22.494015853111538,21.950300906965165,22.099385960053652,21.92399119642132,22.75710363059343,22.160771296410374,22.800950338511765,22.41508728677041,21.757366577764007,21.845065425405608,22.029227904506545,22.029228055309794,21.88014348372767,23.30958758748809,23.406054496283677,23.484979916870056,23.248199655011298,23.002652719011987,22.546633115205175,22.318621842929357,22.073074539078455,20.976876447947383,20.538394314845963,20.906718441011005,21.266271762509714,20.757635612775164,20.897948419197135,20.86287177625123,20.96810490501447,22.17831199827884,21.967839472229244,22.27477535245644,22.11692073364904,22.011685657281806,22.037994649035408,21.923990943581142,22.055535020784404,22.362469465807166,21.923993120217236,22.546631850764946,22.362468935185067,22.230927654149507,22.2923143376127,22.37124075486848,22.976342607060694,22.722025408764473,23.414824027969175,24.01992440593811,24.686414757582824,23.91468890356084,24.07254313907389,23.984847267232663,24.195315808694726,23.932231070370612,23.54636768748576,23.98484856695491,23.677910520563984,24.116388922742264,23.563907162168896,23.677911491496946,24.95826980094528,24.37071006895174,24.379475918756388,24.64256631983882,25.256436966349828,26.03693226942237,26.40525536298737,25.738766224543703,24.57240987355647,23.677911569344175,24.554871257097663,24.028695105503974,24.11639136989312,24.116391857612175,24.607487347059603,25.78261347905468,25.563374183663914,25.984312662392274,25.76507465656979,25.291517563769506,25.002121282227915,25.03719811315503,25.256437301635742,25.256438150768318,27.203288946476416,28.17671531132362,27.95747447935574,28.501187653025944,28.30825768352104,28.115329767915316,28.85197413725941,28.63273227917468,27.685615363036845,27.861009401178965,26.966509980545528,27.624230426680917,27.045436554429642,26.84373549231351,27.15944012198831,25.78261372068027,26.1333968310819,25.791383359826327,25.519527052336155,null,24.55487121701862,24.08131120759447,24.046233555353428,23.923459535787348,23.914691011195064,24.142699003482598,24.256703413557826,24.4233273713021,24.440866698722843,24.73026429587377,24.098852470403298,23.92346008895334,24.028695529810435,23.85330157081042,23.590214383712212,23.493749132890827,23.677910562477926,23.940997768957605,23.77437655486509,23.546369064303725,23.511287484661842,23.213120525214684,23.362206298812232,23.6866798099753,23.932230677282934,24.440866254160326,24.76534072422406,24.55486971876717,24.563639292803067,24.379478419052095,24.625026302015268,24.73026254054139,24.2917813442269,24.905653414781003,24.660106615862677,24.703953655941074,24.42332557404683,24.45840381621421,24.432097431583863,24.712724304610763,24.993351211476977,25.22136021417947,25.62475935397383,25.826461791992188,25.870309778940584,25.56337356567383,25.791383662982085,25.765072887293947,25.60722309403226,25.80892346060476,26.22109291762092,26.221092124906175,26.28248039820052,26.922660785120343,26.93142973249505,27.09805357858289,26.308787722402293,26.273710409951605,26.142166638189778,26.23863249925653,26.089549219701237,25.782612882954663,24.99335159475352,24.335630879218257,24.309320375376608,23.370974026945856,23.809455604040874,24.14270011859062,24.42332693844667,23.949768077613243,24.22162522753069,24.283014529225948,23.714478890487918,24.07931817992978,24.535366501988143,24.425914829294218,25.00053450061702,25.119107749243277,24.854600212355265,24.13404312901195,24.279980181631004,24.21613311767578,24.252616529491252,23.915140760740712,23.48645819274403,23.687117561492165,23.559425337724427,24.47152078516197,24.517122047649313,24.672179732685912,24.808995147127455,24.90020364772137,24.754268550138143,25.328889915792598,24.763389943672784,24.46239761283387,24.672178383258828,24.526245373994062,24.161408060786915,23.93338273072286,23.796569637108078,23.80569157961049,23.9060205604149,23.687116433150692,23.723601498523344,23.887779621542442,24.489761225036247,24.389431187193054,24.580970484161355,24.7998739537336,24.599212170691576,24.80899635165177,25.082624067514487,24.699544648216126,25.30152675345067,24.854598964291203,24.39855219646292,24.45327751967306,24.590091740192452,24.498883024903808,24.279980780168636,24.307341707532196,24.22525329511536,24.562728691509243,24.535366501988143,24.50800463455169,24.27085965180155,24.34382692523205,24.243496903129238,24.00635061761451,23.969867961779947,23.92426103234997,24.115803395569788,24.079318556783065,24.13404220949999,24.398552418986885,24.21613216511231,24.425914891354267,24.90020354022465,26.131532353000043,25.803179997618695,25.547791696580486,25.383614895125316,25.420098587629084,25.511308004929557,25.429218936035596,25.49306646111899,25.41097831726074,25.502186554608016,25.611639537225365,25.529550330663366,25.55691381926408,25.702847190345157,25.76669470803707,26.770000595359672,27.81890942069775,27.72769941240607,28.59419025278849,28.895180637812967,28.284078471836686,27.727700146575916,27.81890905054676,28.48473918324195,28.594190942756477,28.59419149935656,29.916727325009816,29.83464124219424,28.95902833874536,28.831337125838726,28.548584440389895,29.323868429647803,29.18705136988378,28.639794325503228,28.776609488602713,28.548584516225315,27.92836214810561,27.928361790625146,27.818908714373627,26.961539106992173,26.6331871931378,27.089233288389334,23.796568148474947,24.535365927557688,25.091745968982682,25.310648115707018,25.073501365667536,24.85459904531447,26.040323841989544,26.44164631847618,26.888572869176894,27.362861320269232,28.220231170958662,27.371982478255134,27.107475093294028,26.91593683226431,27.18044088826526,26.54197597043697,26.286589702887277,26.313953445405033,27.572643511601175,26.67879047024427,27.271651101706436,28.740126040413596,28.530344903323588,28.986391733624334,29.013753111990543,27.910120898488994,27.910119688606247,28.119901022015043,27.37198305040418,25.99471962850557,26.870328863301616,26.040322563411316,24.991412942323837,23.532061901677128,23.258432699053643,22.656448478731292,22.87535189949336,23.121618612396272,23.91514037342941,24.371188964887917,23.80569035545191,24.033714432869694,24.12492243340047,24.17052906527356,24.398551276873015,24.93668675226638,24.53536583677764,24.717785262331557,24.480641263783834,24.389431689967097,24.717787121158075,24.808996866174827,24.18877092493201,24.425916317903297,24.425915305663928,24.033714430448995,23.550302983501417,23.88777782978986,23.668875719808284,23.449971016058687,23.85129558270801,24.079317766032467,24.535366314411487,23.896900772609413,23.878659034301652,23.869536655733867,23.896900737949363,24.02459375255067,23.541183433460255,23.541183401940916,23.358763660180333,23.55942372990365,24.152285809191987,23.82393135822268,23.43173096681862,23.26755390570309,23.012166028231118,23.331399822383723,23.55942363642939,23.60502783491523,23.823932421147788,23.69623863183191,24.051956509068283,24.99141356896893,24.644816636309923,24.307342186471267,24.25261666078608,24.261738335268152,24.070196658499285,23.8148122212868,23.29491606568537,23.258432764917636,23.605027741349552,23.48645594860576,23.468215865943943,23.668876037306962,23.605027136101512,23.41348930908003,23.431730224042578,23.8056893610715,23.805691173429416,23.87865753360999,25.53867026541727,26.131532669067386,26.72439434811905,28.731004351433864,27.63649081698782,27.77330521825769,27.381104973118788,26.377799441613416,26.578459909810658,26.45076761846664,25.76669510028886,24.86372060475651,24.982293034137772,25.94911489893381,25.438339233398438,25.210316793672344,24.945810461259267,24.872840698129945,24.471520489706588,24.362066286173857,24.663060375370875,24.517123322348187,24.644819151186013,24.99141421879058,25.08262428433456,24.973171845403694,24.799875331032464,24.699544360080065,25.465702942288456,25.438340360189102,26.29570925808727,26.38501245075207,26.23370072560511,26.678178351688693,26.139130017990027,25.864878215104373,26.233701222144738,26.082389748618485,25.71356773376465,25.64736787283909,25.618996304268165,25.562255133411696,26.110760977483032,25.70411059838475,25.912162821264328,26.101304044887783,26.063475174785776,26.432298437434596,27.047002555757796,26.574153284582128,26.820034465664655,26.914603253718724,26.489040142308596,26.14858797545132,26.403926257557462,26.678179609140567,26.744379903506793,27.699536484011944,27.387453079223633,27.51985216103133,27.018631975466434,26.48904046654949,26.29044191093322,26.886233269723135,27.1510294621195,26.526866836204306,26.630895152221765,26.668723584568518,26.337728641175396,26.11076082286075,26.195874524913904,26.479583771694628,26.139130674775696,26.02564722276655,26.01619049881873,26.39446963908044,26.479582408535,26.40392675228253,25.95944990807246,25.392028528553208,26.101303817427898,26.15804497148641,26.479583919016825,26.5268681008566,26.90514814032418,27.746820959186905,28.106185220959663,28.08727339309425,27.775191601562067,28.14401435852051,27.95487351078623,27.794105342691385,27.708991984456464,28.370982282678366,28.891115032398584,29.231567882208573,29.108627300623905,29.316682128452666,29.316681188525937,29.108627437892537,29.411251593502662,29.978671736932824,29.136996965332557,29.21265333642471,29.66659061537109,29.43016530883991,28.418265828677967,27.850847844447905,27.803561842435638,27.2455999583917,27.14157363142314,27.04700302372303,27.19831552851504,27.094287040133043,27.05646112280342,27.2739705695567,26.76329237784753,26.489039875570423,26.574152586092847,26.31881451342686,26.432299348770204,26.649810004069355,27.00917484755741,26.924060383647188,26.75383635041908,26.857862773045497,26.271530086016526,26.290442871389423,27.425282485014826,27.406368089730094,27.89813304646674,28.162928523198314,28.276411056518555,28.30478312338256,28.380439503350868,28.560122101126037,29.49636502791076,29.382880391292062,28.654690167933456,28.32369662404284,27.67116532319998,27.671164406799353,28.077815857748472,27.47256690248372,26.999716731462428,26.451211787694525,26.6592662108355,26.801120662434347,26.37555503845215,26.489040621271005,27.425283363722357,27.415825674129124,27.056459801793476,27.377998880007937,28.087272007464467,28.21967005814503,28.077816233063583,28.29532591299838,28.83437343954232,30.80142901917423,31.30264909111493,31.20808044301365,31.16079524722721,31.491788466102786,30.45152161731936,30.167809708406487,29.61930518563351,29.477450989931363,29.089713956791073,29.41125098606501,29.600390849148322,29.78007421130144,30.877086791482714,30.829799612936714,30.735229694287476,29.184284590895476,29.893558205513955,29.713875516209615,29.09917020554461,28.938402684293816,29.014057393884283,29.30722485402332,29.28830895973503,28.37098167583373,28.370981216430664,28.370982351289673,27.898132044265388,27.80356237293456,27.708991257314548,27.434739980449212,27.1415736977273,26.857862309215367,27.094287796695593,27.22668558413286,27.264512560810797,27.236141524077333,27.02808920188533,27.255056101742824,26.952431954370297,26.47958234987824,26.13912980294127,26.422842054828333,26.271529333586447,26.659266670108426,26.356642601719702,26.39447064819563,26.470125018225264,25.8270501636362,25.912163633117927,25.34474283339916,25.420399006907868,25.56225439058014,25.70411038084782,25.817593361646722,25.21234592781474,25.49605570484091,25.042119932805956,24.796236759091855,25.29745817376774,25.713567554612947,25.68519497214932,25.486600333326678,25.420398075953816,25.061033231273075,25.39202984978151,25.117775165677884,24.701668820742746,24.578727401201487,24.644925377773564,24.45578660525924,24.190990396083702,23.831626056000335,23.40606021078037,23.604655823639476,23.59520090617565,23.16963438019447,22.98049386352341,22.933210917881556,23.226375776336575,23.075064896480736,23.292575821276802,22.79135555123651,22.526558497908347,22.592757045809947,23.434431992182905,22.753527473392666,22.60221502316446,22.885925171466617,22.83864035470706,22.536016262078505,22.971039710226233,22.545473098754883,22.517102237185178,21.949681250052294,22.12936603795836,22.58330029399739,22.034794810551336,21.751085879695555,21.47683253512468,21.89294102166018,21.56194585272626,20.1433967394821,19.084214063943826,19.57597746222851,19.282809616673916,19.481408538937476,19.774574099931353,19.736747410879826,19.623261634349724,19.604348388790147,19.859686946570353,20.985069612851593,21.37280706669949,21.779457066779777,21.363349632490106,21.66597258858617,21.56194529870933,21.9402273405887,22.2333928789037,21.930770038487804,21.57140292743409,21.533575609535426,22.1200008392334,21.1200008392334,20.8700008392334,20.0,19.280000686645508,19.649999618530273,20.950000762939453,21.100000381469727,20.770000457763672,20.68000030517578,20.40999984741211,20.170000076293945,20.200000762939453,20.290000915527344,21.1299991607666,20.0,19.56999969482422,19.049999237060547,18.899999618530273,19.899999618530273,20.399999618530273,20.149999618530273,20.31999969482422,21.299999237060547,21.450000762939453,21.479999542236328,21.280000686645508,22.0,22.25,22.200000762939453,21.25,21.030000686645508,20.520000457763672,20.360000610351562,20.200000762939453,21.059999465942383,20.799999237060547,20.020000457763672,19.579999923706055,19.600000381469727,18.959999084472656,18.170000076293945,18.139999389648438,17.700000762939453,18.010000228881836,18.0,18.3799991607666,18.260000228881836,18.3700008392334,18.950000762939453,20.5,19.559999465942383,19.290000915527344,19.229999542236328,19.350000381469727,19.010000228881836,19.899999618530273,19.190000534057617,19.1200008392334,19.219999313354492,19.149999618530273,18.75,18.440000534057617,18.260000228881836,18.399999618530273,19.030000686645508,19.600000381469727,20.149999618530273,19.940000534057617,19.8799991607666,20.200000762939453,20.079999923706055,19.90999984741211,19.40999984741211,19.510000228881836,19.790000915527344,19.510000228881836,19.489999771118164,20.290000915527344,19.790000915527344,19.649999618530273,19.790000915527344,19.520000457763672,19.649999618530273,19.350000381469727,19.139999389648438,19.489999771118164,20.43000030517578,21.1200008392334,21.3799991607666,21.799999237060547,22.110000610351562,22.149999618530273,22.0,21.59000015258789,20.65999984741211,20.950000762939453,21.799999237060547,21.989999771118164,21.920000076293945,21.59000015258789,21.600000381469727,20.989999771118164,20.530000686645508,20.600000381469727,20.530000686645508,20.809999465942383,20.81999969482422,20.420000076293945,21.0,20.950000762939453,20.25,19.8700008392334,19.969999313354492,19.700000762939453,20.299999237060547,20.510000228881836,20.649999618530273,20.149999618530273,19.950000762939453,19.5,19.209999084472656,19.40999984741211,19.350000381469727,19.299999237060547,18.540000915527344,18.450000762939453,17.770000457763672,17.18000030517578,16.350000381469727,16.3799991607666,15.800000190734863,15.199999809265137,16.40999984741211,16.440000534057617],\"visible\":true,\"x\":[\"2017-03-20T00:00:00\",\"2017-03-21T00:00:00\",\"2017-03-22T00:00:00\",\"2017-03-23T00:00:00\",\"2017-03-24T00:00:00\",\"2017-03-27T00:00:00\",\"2017-03-28T00:00:00\",\"2017-03-29T00:00:00\",\"2017-03-30T00:00:00\",\"2017-03-31T00:00:00\",\"2017-04-05T00:00:00\",\"2017-04-06T00:00:00\",\"2017-04-07T00:00:00\",\"2017-04-10T00:00:00\",\"2017-04-11T00:00:00\",\"2017-04-12T00:00:00\",\"2017-04-13T00:00:00\",\"2017-04-14T00:00:00\",\"2017-04-17T00:00:00\",\"2017-04-18T00:00:00\",\"2017-04-19T00:00:00\",\"2017-04-20T00:00:00\",\"2017-04-21T00:00:00\",\"2017-04-24T00:00:00\",\"2017-04-25T00:00:00\",\"2017-04-26T00:00:00\",\"2017-04-27T00:00:00\",\"2017-04-28T00:00:00\",\"2017-05-02T00:00:00\",\"2017-05-03T00:00:00\",\"2017-05-04T00:00:00\",\"2017-05-05T00:00:00\",\"2017-05-08T00:00:00\",\"2017-05-09T00:00:00\",\"2017-05-10T00:00:00\",\"2017-05-11T00:00:00\",\"2017-05-12T00:00:00\",\"2017-05-15T00:00:00\",\"2017-05-16T00:00:00\",\"2017-05-17T00:00:00\",\"2017-05-18T00:00:00\",\"2017-05-19T00:00:00\",\"2017-05-22T00:00:00\",\"2017-05-23T00:00:00\",\"2017-05-24T00:00:00\",\"2017-05-25T00:00:00\",\"2017-05-26T00:00:00\",\"2017-05-31T00:00:00\",\"2017-06-01T00:00:00\",\"2017-06-02T00:00:00\",\"2017-06-05T00:00:00\",\"2017-06-06T00:00:00\",\"2017-06-07T00:00:00\",\"2017-06-08T00:00:00\",\"2017-06-09T00:00:00\",\"2017-06-12T00:00:00\",\"2017-06-13T00:00:00\",\"2017-06-14T00:00:00\",\"2017-06-15T00:00:00\",\"2017-06-16T00:00:00\",\"2017-06-19T00:00:00\",\"2017-06-20T00:00:00\",\"2017-06-21T00:00:00\",\"2017-06-22T00:00:00\",\"2017-06-23T00:00:00\",\"2017-06-26T00:00:00\",\"2017-06-27T00:00:00\",\"2017-06-28T00:00:00\",\"2017-06-29T00:00:00\",\"2017-06-30T00:00:00\",\"2017-07-03T00:00:00\",\"2017-07-04T00:00:00\",\"2017-07-05T00:00:00\",\"2017-07-06T00:00:00\",\"2017-07-07T00:00:00\",\"2017-07-10T00:00:00\",\"2017-07-11T00:00:00\",\"2017-07-12T00:00:00\",\"2017-07-13T00:00:00\",\"2017-07-14T00:00:00\",\"2017-07-17T00:00:00\",\"2017-07-18T00:00:00\",\"2017-07-19T00:00:00\",\"2017-07-20T00:00:00\",\"2017-07-21T00:00:00\",\"2017-07-24T00:00:00\",\"2017-07-25T00:00:00\",\"2017-07-26T00:00:00\",\"2017-07-27T00:00:00\",\"2017-07-28T00:00:00\",\"2017-07-31T00:00:00\",\"2017-08-01T00:00:00\",\"2017-08-02T00:00:00\",\"2017-08-03T00:00:00\",\"2017-08-04T00:00:00\",\"2017-08-07T00:00:00\",\"2017-08-08T00:00:00\",\"2017-08-09T00:00:00\",\"2017-08-10T00:00:00\",\"2017-08-11T00:00:00\",\"2017-08-14T00:00:00\",\"2017-08-15T00:00:00\",\"2017-08-16T00:00:00\",\"2017-08-17T00:00:00\",\"2017-08-18T00:00:00\",\"2017-08-21T00:00:00\",\"2017-08-22T00:00:00\",\"2017-08-23T00:00:00\",\"2017-08-24T00:00:00\",\"2017-08-25T00:00:00\",\"2017-08-28T00:00:00\",\"2017-08-29T00:00:00\",\"2017-08-30T00:00:00\",\"2017-08-31T00:00:00\",\"2017-09-01T00:00:00\",\"2017-09-04T00:00:00\",\"2017-09-05T00:00:00\",\"2017-09-06T00:00:00\",\"2017-09-07T00:00:00\",\"2017-09-08T00:00:00\",\"2017-09-11T00:00:00\",\"2017-09-12T00:00:00\",\"2017-09-13T00:00:00\",\"2017-09-14T00:00:00\",\"2017-09-15T00:00:00\",\"2017-09-18T00:00:00\",\"2017-09-19T00:00:00\",\"2017-09-20T00:00:00\",\"2017-09-21T00:00:00\",\"2017-09-22T00:00:00\",\"2017-09-25T00:00:00\",\"2017-09-26T00:00:00\",\"2017-09-27T00:00:00\",\"2017-09-28T00:00:00\",\"2017-09-29T00:00:00\",\"2017-10-09T00:00:00\",\"2017-10-10T00:00:00\",\"2017-10-11T00:00:00\",\"2017-10-12T00:00:00\",\"2017-10-13T00:00:00\",\"2017-10-16T00:00:00\",\"2017-10-17T00:00:00\",\"2017-10-18T00:00:00\",\"2017-10-19T00:00:00\",\"2017-10-20T00:00:00\",\"2017-10-23T00:00:00\",\"2017-10-24T00:00:00\",\"2017-10-25T00:00:00\",\"2017-10-26T00:00:00\",\"2017-10-27T00:00:00\",\"2017-10-30T00:00:00\",\"2017-10-31T00:00:00\",\"2017-11-01T00:00:00\",\"2017-11-02T00:00:00\",\"2017-11-03T00:00:00\",\"2017-11-06T00:00:00\",\"2017-11-07T00:00:00\",\"2017-11-08T00:00:00\",\"2017-11-09T00:00:00\",\"2017-11-10T00:00:00\",\"2017-11-13T00:00:00\",\"2017-11-14T00:00:00\",\"2017-11-15T00:00:00\",\"2017-11-16T00:00:00\",\"2017-11-17T00:00:00\",\"2017-11-20T00:00:00\",\"2017-11-21T00:00:00\",\"2017-11-22T00:00:00\",\"2017-11-23T00:00:00\",\"2017-11-24T00:00:00\",\"2017-11-27T00:00:00\",\"2017-11-28T00:00:00\",\"2017-11-29T00:00:00\",\"2017-11-30T00:00:00\",\"2017-12-01T00:00:00\",\"2017-12-04T00:00:00\",\"2017-12-05T00:00:00\",\"2017-12-06T00:00:00\",\"2017-12-07T00:00:00\",\"2017-12-08T00:00:00\",\"2017-12-11T00:00:00\",\"2017-12-12T00:00:00\",\"2017-12-13T00:00:00\",\"2017-12-14T00:00:00\",\"2017-12-15T00:00:00\",\"2017-12-18T00:00:00\",\"2017-12-19T00:00:00\",\"2017-12-20T00:00:00\",\"2017-12-21T00:00:00\",\"2017-12-22T00:00:00\",\"2017-12-25T00:00:00\",\"2017-12-26T00:00:00\",\"2017-12-27T00:00:00\",\"2017-12-28T00:00:00\",\"2017-12-29T00:00:00\",\"2018-01-02T00:00:00\",\"2018-01-03T00:00:00\",\"2018-01-04T00:00:00\",\"2018-01-05T00:00:00\",\"2018-01-08T00:00:00\",\"2018-01-09T00:00:00\",\"2018-01-10T00:00:00\",\"2018-01-11T00:00:00\",\"2018-01-12T00:00:00\",\"2018-01-15T00:00:00\",\"2018-01-16T00:00:00\",\"2018-01-17T00:00:00\",\"2018-01-18T00:00:00\",\"2018-01-19T00:00:00\",\"2018-01-22T00:00:00\",\"2018-01-23T00:00:00\",\"2018-01-24T00:00:00\",\"2018-01-25T00:00:00\",\"2018-01-26T00:00:00\",\"2018-01-29T00:00:00\",\"2018-01-30T00:00:00\",\"2018-01-31T00:00:00\",\"2018-02-01T00:00:00\",\"2018-02-02T00:00:00\",\"2018-02-05T00:00:00\",\"2018-02-06T00:00:00\",\"2018-02-07T00:00:00\",\"2018-02-08T00:00:00\",\"2018-02-09T00:00:00\",\"2018-02-12T00:00:00\",\"2018-02-13T00:00:00\",\"2018-02-14T00:00:00\",\"2018-02-22T00:00:00\",\"2018-02-23T00:00:00\",\"2018-02-26T00:00:00\",\"2018-02-27T00:00:00\",\"2018-02-28T00:00:00\",\"2018-03-01T00:00:00\",\"2018-03-02T00:00:00\",\"2018-03-05T00:00:00\",\"2018-03-06T00:00:00\",\"2018-03-07T00:00:00\",\"2018-03-08T00:00:00\",\"2018-03-09T00:00:00\",\"2018-03-12T00:00:00\",\"2018-03-13T00:00:00\",\"2018-03-14T00:00:00\",\"2018-03-15T00:00:00\",\"2018-03-16T00:00:00\",\"2018-03-19T00:00:00\",\"2018-03-20T00:00:00\",\"2018-03-21T00:00:00\",\"2018-03-22T00:00:00\",\"2018-03-23T00:00:00\",\"2018-03-26T00:00:00\",\"2018-03-27T00:00:00\",\"2018-03-28T00:00:00\",\"2018-03-29T00:00:00\",\"2018-03-30T00:00:00\",\"2018-04-02T00:00:00\",\"2018-04-03T00:00:00\",\"2018-04-04T00:00:00\",\"2018-04-09T00:00:00\",\"2018-04-10T00:00:00\",\"2018-04-11T00:00:00\",\"2018-04-12T00:00:00\",\"2018-04-13T00:00:00\",\"2018-04-16T00:00:00\",\"2018-04-17T00:00:00\",\"2018-04-18T00:00:00\",\"2018-04-19T00:00:00\",\"2018-04-20T00:00:00\",\"2018-04-23T00:00:00\",\"2018-04-24T00:00:00\",\"2018-04-25T00:00:00\",\"2018-04-26T00:00:00\",\"2018-04-27T00:00:00\",\"2018-05-02T00:00:00\",\"2018-05-03T00:00:00\",\"2018-05-04T00:00:00\",\"2018-05-07T00:00:00\",\"2018-05-08T00:00:00\",\"2018-05-09T00:00:00\",\"2018-05-10T00:00:00\",\"2018-05-11T00:00:00\",\"2018-05-14T00:00:00\",\"2018-05-15T00:00:00\",\"2018-05-16T00:00:00\",\"2018-05-17T00:00:00\",\"2018-05-18T00:00:00\",\"2018-05-21T00:00:00\",\"2018-05-22T00:00:00\",\"2018-05-23T00:00:00\",\"2018-05-24T00:00:00\",\"2018-05-25T00:00:00\",\"2018-05-28T00:00:00\",\"2018-05-29T00:00:00\",\"2018-05-30T00:00:00\",\"2018-05-31T00:00:00\",\"2018-06-01T00:00:00\",\"2018-06-04T00:00:00\",\"2018-06-05T00:00:00\",\"2018-06-06T00:00:00\",\"2018-06-07T00:00:00\",\"2018-06-08T00:00:00\",\"2018-06-11T00:00:00\",\"2018-06-12T00:00:00\",\"2018-06-13T00:00:00\",\"2018-06-14T00:00:00\",\"2018-06-15T00:00:00\",\"2018-06-19T00:00:00\",\"2018-06-20T00:00:00\",\"2018-06-21T00:00:00\",\"2018-06-22T00:00:00\",\"2018-06-25T00:00:00\",\"2018-06-26T00:00:00\",\"2018-06-27T00:00:00\",\"2018-06-28T00:00:00\",\"2018-06-29T00:00:00\",\"2018-07-02T00:00:00\",\"2018-07-03T00:00:00\",\"2018-07-04T00:00:00\",\"2018-07-05T00:00:00\",\"2018-07-06T00:00:00\",\"2018-07-09T00:00:00\",\"2018-07-10T00:00:00\",\"2018-07-11T00:00:00\",\"2018-07-12T00:00:00\",\"2018-07-13T00:00:00\",\"2018-07-16T00:00:00\",\"2018-07-17T00:00:00\",\"2018-07-18T00:00:00\",\"2018-07-19T00:00:00\",\"2018-07-20T00:00:00\",\"2018-07-23T00:00:00\",\"2018-07-24T00:00:00\",\"2018-07-25T00:00:00\",\"2018-07-26T00:00:00\",\"2018-07-27T00:00:00\",\"2018-07-30T00:00:00\",\"2018-07-31T00:00:00\",\"2018-08-01T00:00:00\",\"2018-08-02T00:00:00\",\"2018-08-03T00:00:00\",\"2018-08-06T00:00:00\",\"2018-08-07T00:00:00\",\"2018-08-08T00:00:00\",\"2018-08-09T00:00:00\",\"2018-08-10T00:00:00\",\"2018-08-13T00:00:00\",\"2018-08-14T00:00:00\",\"2018-08-15T00:00:00\",\"2018-08-16T00:00:00\",\"2018-08-17T00:00:00\",\"2018-08-20T00:00:00\",\"2018-08-21T00:00:00\",\"2018-08-22T00:00:00\",\"2018-08-23T00:00:00\",\"2018-08-24T00:00:00\",\"2018-08-27T00:00:00\",\"2018-08-28T00:00:00\",\"2018-08-29T00:00:00\",\"2018-08-30T00:00:00\",\"2018-08-31T00:00:00\",\"2018-09-03T00:00:00\",\"2018-09-04T00:00:00\",\"2018-09-05T00:00:00\",\"2018-09-06T00:00:00\",\"2018-09-07T00:00:00\",\"2018-09-10T00:00:00\",\"2018-09-11T00:00:00\",\"2018-09-12T00:00:00\",\"2018-09-13T00:00:00\",\"2018-09-14T00:00:00\",\"2018-09-17T00:00:00\",\"2018-09-18T00:00:00\",\"2018-09-19T00:00:00\",\"2018-09-20T00:00:00\",\"2018-09-21T00:00:00\",\"2018-09-25T00:00:00\",\"2018-09-26T00:00:00\",\"2018-09-27T00:00:00\",\"2018-09-28T00:00:00\",\"2018-10-08T00:00:00\",\"2018-10-09T00:00:00\",\"2018-10-10T00:00:00\",\"2018-10-11T00:00:00\",\"2018-10-12T00:00:00\",\"2018-10-15T00:00:00\",\"2018-10-16T00:00:00\",\"2018-10-17T00:00:00\",\"2018-10-18T00:00:00\",\"2018-10-19T00:00:00\",\"2018-10-22T00:00:00\",\"2018-10-23T00:00:00\",\"2018-10-24T00:00:00\",\"2018-10-25T00:00:00\",\"2018-10-26T00:00:00\",\"2018-10-29T00:00:00\",\"2018-10-30T00:00:00\",\"2018-10-31T00:00:00\",\"2018-11-01T00:00:00\",\"2018-11-02T00:00:00\",\"2018-11-05T00:00:00\",\"2018-11-06T00:00:00\",\"2018-11-07T00:00:00\",\"2018-11-08T00:00:00\",\"2018-11-09T00:00:00\",\"2018-11-12T00:00:00\",\"2018-11-13T00:00:00\",\"2018-11-14T00:00:00\",\"2018-11-15T00:00:00\",\"2018-11-16T00:00:00\",\"2018-11-19T00:00:00\",\"2018-11-20T00:00:00\",\"2018-11-21T00:00:00\",\"2018-11-22T00:00:00\",\"2018-11-23T00:00:00\",\"2018-11-26T00:00:00\",\"2018-11-27T00:00:00\",\"2018-11-28T00:00:00\",\"2018-11-29T00:00:00\",\"2018-11-30T00:00:00\",\"2018-12-03T00:00:00\",\"2018-12-04T00:00:00\",\"2018-12-05T00:00:00\",\"2018-12-06T00:00:00\",\"2018-12-07T00:00:00\",\"2018-12-10T00:00:00\",\"2018-12-11T00:00:00\",\"2018-12-12T00:00:00\",\"2018-12-13T00:00:00\",\"2018-12-14T00:00:00\",\"2018-12-17T00:00:00\",\"2018-12-18T00:00:00\",\"2018-12-19T00:00:00\",\"2018-12-20T00:00:00\",\"2018-12-21T00:00:00\",\"2018-12-24T00:00:00\",\"2018-12-25T00:00:00\",\"2018-12-26T00:00:00\",\"2018-12-27T00:00:00\",\"2018-12-28T00:00:00\",\"2019-01-02T00:00:00\",\"2019-01-03T00:00:00\",\"2019-01-04T00:00:00\",\"2019-01-07T00:00:00\",\"2019-01-08T00:00:00\",\"2019-01-09T00:00:00\",\"2019-01-10T00:00:00\",\"2019-01-11T00:00:00\",\"2019-01-14T00:00:00\",\"2019-01-15T00:00:00\",\"2019-01-16T00:00:00\",\"2019-01-17T00:00:00\",\"2019-01-18T00:00:00\",\"2019-01-21T00:00:00\",\"2019-01-22T00:00:00\",\"2019-01-23T00:00:00\",\"2019-01-24T00:00:00\",\"2019-01-25T00:00:00\",\"2019-01-28T00:00:00\",\"2019-01-29T00:00:00\",\"2019-01-30T00:00:00\",\"2019-01-31T00:00:00\",\"2019-02-01T00:00:00\",\"2019-02-11T00:00:00\",\"2019-02-12T00:00:00\",\"2019-02-13T00:00:00\",\"2019-02-14T00:00:00\",\"2019-02-15T00:00:00\",\"2019-02-18T00:00:00\",\"2019-02-19T00:00:00\",\"2019-02-20T00:00:00\",\"2019-02-21T00:00:00\",\"2019-02-22T00:00:00\",\"2019-02-25T00:00:00\",\"2019-02-26T00:00:00\",\"2019-02-27T00:00:00\",\"2019-02-28T00:00:00\",\"2019-03-01T00:00:00\",\"2019-03-04T00:00:00\",\"2019-03-05T00:00:00\",\"2019-03-06T00:00:00\",\"2019-03-07T00:00:00\",\"2019-03-08T00:00:00\",\"2019-03-11T00:00:00\",\"2019-03-12T00:00:00\",\"2019-03-13T00:00:00\",\"2019-03-14T00:00:00\",\"2019-03-15T00:00:00\",\"2019-03-18T00:00:00\",\"2019-03-19T00:00:00\",\"2019-03-20T00:00:00\",\"2019-03-21T00:00:00\",\"2019-03-22T00:00:00\",\"2019-03-25T00:00:00\",\"2019-03-26T00:00:00\",\"2019-03-27T00:00:00\",\"2019-03-28T00:00:00\",\"2019-03-29T00:00:00\",\"2019-04-01T00:00:00\",\"2019-04-02T00:00:00\",\"2019-04-03T00:00:00\",\"2019-04-04T00:00:00\",\"2019-04-08T00:00:00\",\"2019-04-09T00:00:00\",\"2019-04-10T00:00:00\",\"2019-04-11T00:00:00\",\"2019-04-12T00:00:00\",\"2019-04-15T00:00:00\",\"2019-04-16T00:00:00\",\"2019-04-17T00:00:00\",\"2019-04-18T00:00:00\",\"2019-04-19T00:00:00\",\"2019-04-22T00:00:00\",\"2019-04-23T00:00:00\",\"2019-04-24T00:00:00\",\"2019-04-25T00:00:00\",\"2019-04-26T00:00:00\",\"2019-04-30T00:00:00\",\"2019-05-06T00:00:00\",\"2019-05-07T00:00:00\",\"2019-05-08T00:00:00\",\"2019-05-09T00:00:00\",\"2019-05-10T00:00:00\",\"2019-05-13T00:00:00\",\"2019-05-14T00:00:00\",\"2019-05-15T00:00:00\",\"2019-05-16T00:00:00\",\"2019-05-17T00:00:00\",\"2019-05-20T00:00:00\",\"2019-05-21T00:00:00\",\"2019-05-22T00:00:00\",\"2019-05-23T00:00:00\",\"2019-05-24T00:00:00\",\"2019-05-27T00:00:00\",\"2019-05-28T00:00:00\",\"2019-05-29T00:00:00\",\"2019-05-30T00:00:00\",\"2019-05-31T00:00:00\",\"2019-06-03T00:00:00\",\"2019-06-04T00:00:00\",\"2019-06-05T00:00:00\",\"2019-06-06T00:00:00\",\"2019-06-10T00:00:00\",\"2019-06-11T00:00:00\",\"2019-06-12T00:00:00\",\"2019-06-13T00:00:00\",\"2019-06-14T00:00:00\",\"2019-06-17T00:00:00\",\"2019-06-18T00:00:00\",\"2019-06-19T00:00:00\",\"2019-06-20T00:00:00\",\"2019-06-21T00:00:00\",\"2019-06-24T00:00:00\",\"2019-06-25T00:00:00\",\"2019-06-26T00:00:00\",\"2019-06-27T00:00:00\",\"2019-06-28T00:00:00\",\"2019-07-01T00:00:00\",\"2019-07-02T00:00:00\",\"2019-07-03T00:00:00\",\"2019-07-04T00:00:00\",\"2019-07-05T00:00:00\",\"2019-07-08T00:00:00\",\"2019-07-09T00:00:00\",\"2019-07-10T00:00:00\",\"2019-07-11T00:00:00\",\"2019-07-12T00:00:00\",\"2019-07-15T00:00:00\",\"2019-07-16T00:00:00\",\"2019-07-17T00:00:00\",\"2019-07-18T00:00:00\",\"2019-07-19T00:00:00\",\"2019-07-22T00:00:00\",\"2019-07-23T00:00:00\",\"2019-07-24T00:00:00\",\"2019-07-25T00:00:00\",\"2019-07-26T00:00:00\",\"2019-07-29T00:00:00\",\"2019-07-30T00:00:00\",\"2019-07-31T00:00:00\",\"2019-08-01T00:00:00\",\"2019-08-02T00:00:00\",\"2019-08-05T00:00:00\",\"2019-08-06T00:00:00\",\"2019-08-07T00:00:00\",\"2019-08-08T00:00:00\",\"2019-08-09T00:00:00\",\"2019-08-12T00:00:00\",\"2019-08-13T00:00:00\",\"2019-08-14T00:00:00\",\"2019-08-15T00:00:00\",\"2019-08-16T00:00:00\",\"2019-08-19T00:00:00\",\"2019-08-20T00:00:00\",\"2019-08-21T00:00:00\",\"2019-08-22T00:00:00\",\"2019-08-23T00:00:00\",\"2019-08-26T00:00:00\",\"2019-08-27T00:00:00\",\"2019-08-28T00:00:00\",\"2019-08-29T00:00:00\",\"2019-08-30T00:00:00\",\"2019-09-02T00:00:00\",\"2019-09-03T00:00:00\",\"2019-09-04T00:00:00\",\"2019-09-05T00:00:00\",\"2019-09-06T00:00:00\",\"2019-09-09T00:00:00\",\"2019-09-10T00:00:00\",\"2019-09-11T00:00:00\",\"2019-09-12T00:00:00\",\"2019-09-16T00:00:00\",\"2019-09-17T00:00:00\",\"2019-09-18T00:00:00\",\"2019-09-19T00:00:00\",\"2019-09-20T00:00:00\",\"2019-09-23T00:00:00\",\"2019-09-24T00:00:00\",\"2019-09-25T00:00:00\",\"2019-09-26T00:00:00\",\"2019-09-27T00:00:00\",\"2019-09-30T00:00:00\",\"2019-10-08T00:00:00\",\"2019-10-09T00:00:00\",\"2019-10-10T00:00:00\",\"2019-10-11T00:00:00\",\"2019-10-14T00:00:00\",\"2019-10-15T00:00:00\",\"2019-10-16T00:00:00\",\"2019-10-17T00:00:00\",\"2019-10-18T00:00:00\",\"2019-10-21T00:00:00\",\"2019-10-22T00:00:00\",\"2019-10-23T00:00:00\",\"2019-10-24T00:00:00\",\"2019-10-25T00:00:00\",\"2019-10-28T00:00:00\",\"2019-10-29T00:00:00\",\"2019-10-30T00:00:00\",\"2019-10-31T00:00:00\",\"2019-11-01T00:00:00\",\"2019-11-04T00:00:00\",\"2019-11-05T00:00:00\",\"2019-11-06T00:00:00\",\"2019-11-07T00:00:00\",\"2019-11-08T00:00:00\",\"2019-11-11T00:00:00\",\"2019-11-12T00:00:00\",\"2019-11-13T00:00:00\",\"2019-11-14T00:00:00\",\"2019-11-15T00:00:00\",\"2019-11-18T00:00:00\",\"2019-11-19T00:00:00\",\"2019-11-20T00:00:00\",\"2019-11-21T00:00:00\",\"2019-11-22T00:00:00\",\"2019-11-25T00:00:00\",\"2019-11-26T00:00:00\",\"2019-11-27T00:00:00\",\"2019-11-28T00:00:00\",\"2019-11-29T00:00:00\",\"2019-12-02T00:00:00\",\"2019-12-03T00:00:00\",\"2019-12-04T00:00:00\",\"2019-12-05T00:00:00\",\"2019-12-06T00:00:00\",\"2019-12-09T00:00:00\",\"2019-12-10T00:00:00\",\"2019-12-11T00:00:00\",\"2019-12-12T00:00:00\",\"2019-12-13T00:00:00\",\"2019-12-16T00:00:00\",\"2019-12-17T00:00:00\",\"2019-12-18T00:00:00\",\"2019-12-19T00:00:00\",\"2019-12-20T00:00:00\",\"2019-12-23T00:00:00\",\"2019-12-24T00:00:00\",\"2019-12-25T00:00:00\",\"2019-12-26T00:00:00\",\"2019-12-27T00:00:00\",\"2019-12-30T00:00:00\",\"2019-12-31T00:00:00\",\"2020-01-02T00:00:00\",\"2020-01-03T00:00:00\",\"2020-01-06T00:00:00\",\"2020-01-07T00:00:00\",\"2020-01-08T00:00:00\",\"2020-01-09T00:00:00\",\"2020-01-10T00:00:00\",\"2020-01-13T00:00:00\",\"2020-01-14T00:00:00\",\"2020-01-15T00:00:00\",\"2020-01-16T00:00:00\",\"2020-01-17T00:00:00\",\"2020-01-20T00:00:00\",\"2020-01-21T00:00:00\",\"2020-01-22T00:00:00\",\"2020-01-23T00:00:00\",\"2020-02-03T00:00:00\",\"2020-02-04T00:00:00\",\"2020-02-05T00:00:00\",\"2020-02-06T00:00:00\",\"2020-02-07T00:00:00\",\"2020-02-10T00:00:00\",\"2020-02-11T00:00:00\",\"2020-02-12T00:00:00\",\"2020-02-13T00:00:00\",\"2020-02-14T00:00:00\",\"2020-02-17T00:00:00\",\"2020-02-18T00:00:00\",\"2020-02-19T00:00:00\",\"2020-02-20T00:00:00\",\"2020-02-21T00:00:00\",\"2020-02-24T00:00:00\",\"2020-02-25T00:00:00\",\"2020-02-26T00:00:00\",\"2020-02-27T00:00:00\",\"2020-02-28T00:00:00\",\"2020-03-02T00:00:00\",\"2020-03-03T00:00:00\",\"2020-03-04T00:00:00\",\"2020-03-05T00:00:00\",\"2020-03-06T00:00:00\",\"2020-03-09T00:00:00\",\"2020-03-10T00:00:00\",\"2020-03-11T00:00:00\",\"2020-03-12T00:00:00\",\"2020-03-13T00:00:00\",\"2020-03-16T00:00:00\",\"2020-03-17T00:00:00\",\"2020-03-18T00:00:00\",\"2020-03-19T00:00:00\",\"2020-03-20T00:00:00\",\"2020-03-23T00:00:00\",\"2020-03-24T00:00:00\",\"2020-03-25T00:00:00\",\"2020-03-26T00:00:00\",\"2020-03-27T00:00:00\",\"2020-03-30T00:00:00\",\"2020-03-31T00:00:00\",\"2020-04-01T00:00:00\",\"2020-04-02T00:00:00\",\"2020-04-03T00:00:00\",\"2020-04-07T00:00:00\",\"2020-04-08T00:00:00\",\"2020-04-09T00:00:00\",\"2020-04-10T00:00:00\",\"2020-04-13T00:00:00\",\"2020-04-14T00:00:00\",\"2020-04-15T00:00:00\",\"2020-04-16T00:00:00\",\"2020-04-17T00:00:00\",\"2020-04-20T00:00:00\",\"2020-04-21T00:00:00\",\"2020-04-22T00:00:00\",\"2020-04-23T00:00:00\",\"2020-04-24T00:00:00\",\"2020-04-27T00:00:00\",\"2020-04-28T00:00:00\",\"2020-04-29T00:00:00\",\"2020-04-30T00:00:00\",\"2020-05-06T00:00:00\",\"2020-05-07T00:00:00\",\"2020-05-08T00:00:00\",\"2020-05-11T00:00:00\",\"2020-05-12T00:00:00\",\"2020-05-13T00:00:00\",\"2020-05-14T00:00:00\",\"2020-05-15T00:00:00\",\"2020-05-18T00:00:00\",\"2020-05-19T00:00:00\",\"2020-05-20T00:00:00\",\"2020-05-21T00:00:00\",\"2020-05-22T00:00:00\",\"2020-05-25T00:00:00\",\"2020-05-26T00:00:00\",\"2020-05-27T00:00:00\",\"2020-05-28T00:00:00\",\"2020-05-29T00:00:00\",\"2020-06-01T00:00:00\",\"2020-06-02T00:00:00\",\"2020-06-03T00:00:00\",\"2020-06-04T00:00:00\",\"2020-06-05T00:00:00\",\"2020-06-08T00:00:00\",\"2020-06-09T00:00:00\",\"2020-06-10T00:00:00\",\"2020-06-11T00:00:00\",\"2020-06-12T00:00:00\",\"2020-06-15T00:00:00\",\"2020-06-16T00:00:00\",\"2020-06-17T00:00:00\",\"2020-06-18T00:00:00\",\"2020-06-19T00:00:00\",\"2020-06-22T00:00:00\",\"2020-06-23T00:00:00\",\"2020-06-24T00:00:00\",\"2020-06-29T00:00:00\",\"2020-06-30T00:00:00\",\"2020-07-01T00:00:00\",\"2020-07-02T00:00:00\",\"2020-07-03T00:00:00\",\"2020-07-06T00:00:00\",\"2020-07-07T00:00:00\",\"2020-07-08T00:00:00\",\"2020-07-09T00:00:00\",\"2020-07-10T00:00:00\",\"2020-07-13T00:00:00\",\"2020-07-14T00:00:00\",\"2020-07-15T00:00:00\",\"2020-07-16T00:00:00\",\"2020-07-17T00:00:00\",\"2020-07-20T00:00:00\",\"2020-07-21T00:00:00\",\"2020-07-22T00:00:00\",\"2020-07-23T00:00:00\",\"2020-07-24T00:00:00\",\"2020-07-27T00:00:00\",\"2020-07-28T00:00:00\",\"2020-07-29T00:00:00\",\"2020-07-30T00:00:00\",\"2020-07-31T00:00:00\",\"2020-08-03T00:00:00\",\"2020-08-04T00:00:00\",\"2020-08-05T00:00:00\",\"2020-08-06T00:00:00\",\"2020-08-07T00:00:00\",\"2020-08-10T00:00:00\",\"2020-08-11T00:00:00\",\"2020-08-12T00:00:00\",\"2020-08-13T00:00:00\",\"2020-08-14T00:00:00\",\"2020-08-17T00:00:00\",\"2020-08-18T00:00:00\",\"2020-08-19T00:00:00\",\"2020-08-20T00:00:00\",\"2020-08-21T00:00:00\",\"2020-08-24T00:00:00\",\"2020-08-25T00:00:00\",\"2020-08-26T00:00:00\",\"2020-08-27T00:00:00\",\"2020-08-28T00:00:00\",\"2020-08-31T00:00:00\",\"2020-09-01T00:00:00\",\"2020-09-02T00:00:00\",\"2020-09-03T00:00:00\",\"2020-09-04T00:00:00\",\"2020-09-07T00:00:00\",\"2020-09-08T00:00:00\",\"2020-09-09T00:00:00\",\"2020-09-10T00:00:00\",\"2020-09-11T00:00:00\",\"2020-09-14T00:00:00\",\"2020-09-15T00:00:00\",\"2020-09-16T00:00:00\",\"2020-09-17T00:00:00\",\"2020-09-18T00:00:00\",\"2020-09-21T00:00:00\",\"2020-09-22T00:00:00\",\"2020-09-23T00:00:00\",\"2020-09-24T00:00:00\",\"2020-09-25T00:00:00\",\"2020-09-28T00:00:00\",\"2020-09-29T00:00:00\",\"2020-09-30T00:00:00\",\"2020-10-09T00:00:00\",\"2020-10-12T00:00:00\",\"2020-10-13T00:00:00\",\"2020-10-14T00:00:00\",\"2020-10-15T00:00:00\",\"2020-10-16T00:00:00\",\"2020-10-19T00:00:00\",\"2020-10-20T00:00:00\",\"2020-10-21T00:00:00\",\"2020-10-22T00:00:00\",\"2020-10-23T00:00:00\",\"2020-10-26T00:00:00\",\"2020-10-27T00:00:00\",\"2020-10-28T00:00:00\",\"2020-10-29T00:00:00\",\"2020-10-30T00:00:00\",\"2020-11-02T00:00:00\",\"2020-11-03T00:00:00\",\"2020-11-04T00:00:00\",\"2020-11-05T00:00:00\",\"2020-11-06T00:00:00\",\"2020-11-09T00:00:00\",\"2020-11-10T00:00:00\",\"2020-11-11T00:00:00\",\"2020-11-12T00:00:00\",\"2020-11-13T00:00:00\",\"2020-11-16T00:00:00\",\"2020-11-17T00:00:00\",\"2020-11-18T00:00:00\",\"2020-11-19T00:00:00\",\"2020-11-20T00:00:00\",\"2020-11-23T00:00:00\",\"2020-11-24T00:00:00\",\"2020-11-25T00:00:00\",\"2020-11-26T00:00:00\",\"2020-11-27T00:00:00\",\"2020-11-30T00:00:00\",\"2020-12-01T00:00:00\",\"2020-12-02T00:00:00\",\"2020-12-03T00:00:00\",\"2020-12-04T00:00:00\",\"2020-12-07T00:00:00\",\"2020-12-08T00:00:00\",\"2020-12-09T00:00:00\",\"2020-12-10T00:00:00\",\"2020-12-11T00:00:00\",\"2020-12-14T00:00:00\",\"2020-12-15T00:00:00\",\"2020-12-16T00:00:00\",\"2020-12-17T00:00:00\",\"2020-12-18T00:00:00\",\"2020-12-21T00:00:00\",\"2020-12-22T00:00:00\",\"2020-12-23T00:00:00\",\"2020-12-24T00:00:00\",\"2020-12-25T00:00:00\",\"2020-12-28T00:00:00\",\"2020-12-29T00:00:00\",\"2020-12-30T00:00:00\",\"2020-12-31T00:00:00\",\"2021-01-04T00:00:00\",\"2021-01-05T00:00:00\",\"2021-01-06T00:00:00\",\"2021-01-07T00:00:00\",\"2021-01-08T00:00:00\",\"2021-01-11T00:00:00\",\"2021-01-12T00:00:00\",\"2021-01-13T00:00:00\",\"2021-01-14T00:00:00\",\"2021-01-15T00:00:00\",\"2021-01-18T00:00:00\",\"2021-01-19T00:00:00\",\"2021-01-20T00:00:00\",\"2021-01-21T00:00:00\",\"2021-01-22T00:00:00\",\"2021-01-25T00:00:00\",\"2021-01-26T00:00:00\",\"2021-01-27T00:00:00\",\"2021-01-28T00:00:00\",\"2021-01-29T00:00:00\",\"2021-02-01T00:00:00\",\"2021-02-02T00:00:00\",\"2021-02-03T00:00:00\",\"2021-02-04T00:00:00\",\"2021-02-05T00:00:00\",\"2021-02-08T00:00:00\",\"2021-02-09T00:00:00\",\"2021-02-10T00:00:00\",\"2021-02-18T00:00:00\",\"2021-02-19T00:00:00\",\"2021-02-22T00:00:00\",\"2021-02-23T00:00:00\",\"2021-02-24T00:00:00\",\"2021-02-25T00:00:00\",\"2021-02-26T00:00:00\",\"2021-03-01T00:00:00\",\"2021-03-02T00:00:00\",\"2021-03-03T00:00:00\",\"2021-03-04T00:00:00\",\"2021-03-05T00:00:00\",\"2021-03-08T00:00:00\",\"2021-03-09T00:00:00\",\"2021-03-10T00:00:00\",\"2021-03-11T00:00:00\",\"2021-03-12T00:00:00\",\"2021-03-15T00:00:00\",\"2021-03-16T00:00:00\",\"2021-03-17T00:00:00\",\"2021-03-18T00:00:00\",\"2021-03-19T00:00:00\",\"2021-03-22T00:00:00\",\"2021-03-23T00:00:00\",\"2021-03-24T00:00:00\",\"2021-03-25T00:00:00\",\"2021-03-26T00:00:00\",\"2021-03-29T00:00:00\",\"2021-03-30T00:00:00\",\"2021-03-31T00:00:00\",\"2021-04-01T00:00:00\",\"2021-04-02T00:00:00\",\"2021-04-06T00:00:00\",\"2021-04-07T00:00:00\",\"2021-04-08T00:00:00\",\"2021-04-09T00:00:00\",\"2021-04-12T00:00:00\",\"2021-04-13T00:00:00\",\"2021-04-14T00:00:00\",\"2021-04-15T00:00:00\",\"2021-04-16T00:00:00\",\"2021-04-19T00:00:00\",\"2021-04-20T00:00:00\",\"2021-04-21T00:00:00\",\"2021-04-22T00:00:00\",\"2021-04-23T00:00:00\",\"2021-04-26T00:00:00\",\"2021-04-27T00:00:00\",\"2021-04-28T00:00:00\",\"2021-04-29T00:00:00\",\"2021-04-30T00:00:00\",\"2021-05-06T00:00:00\",\"2021-05-07T00:00:00\",\"2021-05-10T00:00:00\",\"2021-05-11T00:00:00\",\"2021-05-12T00:00:00\",\"2021-05-13T00:00:00\",\"2021-05-14T00:00:00\",\"2021-05-17T00:00:00\",\"2021-05-18T00:00:00\",\"2021-05-19T00:00:00\",\"2021-05-20T00:00:00\",\"2021-05-21T00:00:00\",\"2021-05-24T00:00:00\",\"2021-05-25T00:00:00\",\"2021-05-26T00:00:00\",\"2021-05-27T00:00:00\",\"2021-05-28T00:00:00\",\"2021-05-31T00:00:00\",\"2021-06-01T00:00:00\",\"2021-06-02T00:00:00\",\"2021-06-03T00:00:00\",\"2021-06-04T00:00:00\",\"2021-06-07T00:00:00\",\"2021-06-08T00:00:00\",\"2021-06-09T00:00:00\",\"2021-06-10T00:00:00\",\"2021-06-11T00:00:00\",\"2021-06-15T00:00:00\",\"2021-06-16T00:00:00\",\"2021-06-17T00:00:00\",\"2021-06-18T00:00:00\",\"2021-06-21T00:00:00\",\"2021-06-22T00:00:00\",\"2021-06-23T00:00:00\",\"2021-06-24T00:00:00\",\"2021-06-25T00:00:00\",\"2021-06-28T00:00:00\",\"2021-06-29T00:00:00\",\"2021-06-30T00:00:00\",\"2021-07-01T00:00:00\",\"2021-07-02T00:00:00\",\"2021-07-05T00:00:00\",\"2021-07-06T00:00:00\",\"2021-07-07T00:00:00\",\"2021-07-08T00:00:00\",\"2021-07-09T00:00:00\",\"2021-07-12T00:00:00\",\"2021-07-13T00:00:00\",\"2021-07-14T00:00:00\",\"2021-07-15T00:00:00\",\"2021-07-16T00:00:00\",\"2021-07-19T00:00:00\",\"2021-07-20T00:00:00\",\"2021-07-21T00:00:00\",\"2021-07-22T00:00:00\",\"2021-07-23T00:00:00\",\"2021-07-26T00:00:00\",\"2021-07-27T00:00:00\",\"2021-07-28T00:00:00\",\"2021-07-29T00:00:00\",\"2021-07-30T00:00:00\",\"2021-08-02T00:00:00\",\"2021-08-03T00:00:00\",\"2021-08-04T00:00:00\",\"2021-08-05T00:00:00\",\"2021-08-06T00:00:00\",\"2021-08-09T00:00:00\",\"2021-08-10T00:00:00\",\"2021-08-11T00:00:00\",\"2021-08-12T00:00:00\",\"2021-08-13T00:00:00\",\"2021-08-16T00:00:00\",\"2021-08-17T00:00:00\",\"2021-08-18T00:00:00\",\"2021-08-19T00:00:00\",\"2021-08-20T00:00:00\",\"2021-08-23T00:00:00\",\"2021-08-24T00:00:00\",\"2021-08-25T00:00:00\",\"2021-08-26T00:00:00\",\"2021-08-27T00:00:00\",\"2021-08-30T00:00:00\",\"2021-08-31T00:00:00\",\"2021-09-01T00:00:00\",\"2021-09-02T00:00:00\",\"2021-09-03T00:00:00\",\"2021-09-06T00:00:00\",\"2021-09-07T00:00:00\",\"2021-09-08T00:00:00\",\"2021-09-09T00:00:00\",\"2021-09-10T00:00:00\",\"2021-09-13T00:00:00\",\"2021-09-14T00:00:00\",\"2021-09-15T00:00:00\",\"2021-09-16T00:00:00\",\"2021-09-17T00:00:00\",\"2021-09-22T00:00:00\",\"2021-09-23T00:00:00\",\"2021-09-24T00:00:00\",\"2021-09-27T00:00:00\",\"2021-09-28T00:00:00\",\"2021-09-29T00:00:00\",\"2021-09-30T00:00:00\",\"2021-10-08T00:00:00\",\"2021-10-11T00:00:00\",\"2021-10-12T00:00:00\",\"2021-10-13T00:00:00\",\"2021-10-14T00:00:00\",\"2021-10-15T00:00:00\",\"2021-10-18T00:00:00\",\"2021-10-19T00:00:00\",\"2021-10-20T00:00:00\",\"2021-10-21T00:00:00\",\"2021-10-22T00:00:00\",\"2021-10-25T00:00:00\",\"2021-10-26T00:00:00\",\"2021-10-27T00:00:00\",\"2021-10-28T00:00:00\",\"2021-10-29T00:00:00\",\"2021-11-01T00:00:00\",\"2021-11-02T00:00:00\",\"2021-11-03T00:00:00\",\"2021-11-04T00:00:00\",\"2021-11-05T00:00:00\",\"2021-11-08T00:00:00\",\"2021-11-09T00:00:00\",\"2021-11-10T00:00:00\",\"2021-11-11T00:00:00\",\"2021-11-12T00:00:00\",\"2021-11-15T00:00:00\",\"2021-11-16T00:00:00\",\"2021-11-17T00:00:00\",\"2021-11-18T00:00:00\",\"2021-11-19T00:00:00\",\"2021-11-22T00:00:00\",\"2021-11-23T00:00:00\",\"2021-11-24T00:00:00\",\"2021-11-25T00:00:00\",\"2021-11-26T00:00:00\",\"2021-11-29T00:00:00\",\"2021-11-30T00:00:00\",\"2021-12-01T00:00:00\",\"2021-12-02T00:00:00\",\"2021-12-03T00:00:00\",\"2021-12-06T00:00:00\",\"2021-12-07T00:00:00\",\"2021-12-08T00:00:00\",\"2021-12-09T00:00:00\",\"2021-12-10T00:00:00\",\"2021-12-13T00:00:00\",\"2021-12-14T00:00:00\",\"2021-12-15T00:00:00\",\"2021-12-16T00:00:00\",\"2021-12-17T00:00:00\",\"2021-12-20T00:00:00\",\"2021-12-21T00:00:00\",\"2021-12-22T00:00:00\",\"2021-12-23T00:00:00\",\"2021-12-24T00:00:00\",\"2021-12-27T00:00:00\",\"2021-12-28T00:00:00\",\"2021-12-29T00:00:00\",\"2021-12-30T00:00:00\",\"2021-12-31T00:00:00\",\"2022-01-04T00:00:00\",\"2022-01-05T00:00:00\",\"2022-01-06T00:00:00\",\"2022-01-07T00:00:00\",\"2022-01-10T00:00:00\",\"2022-01-11T00:00:00\",\"2022-01-12T00:00:00\",\"2022-01-13T00:00:00\",\"2022-01-14T00:00:00\",\"2022-01-17T00:00:00\",\"2022-01-18T00:00:00\",\"2022-01-19T00:00:00\",\"2022-01-20T00:00:00\",\"2022-01-21T00:00:00\",\"2022-01-24T00:00:00\",\"2022-01-25T00:00:00\",\"2022-01-26T00:00:00\",\"2022-01-27T00:00:00\",\"2022-01-28T00:00:00\",\"2022-02-07T00:00:00\",\"2022-02-08T00:00:00\",\"2022-02-09T00:00:00\",\"2022-02-10T00:00:00\",\"2022-02-11T00:00:00\",\"2022-02-14T00:00:00\",\"2022-02-15T00:00:00\",\"2022-02-16T00:00:00\",\"2022-02-17T00:00:00\",\"2022-02-18T00:00:00\",\"2022-02-21T00:00:00\",\"2022-02-22T00:00:00\",\"2022-02-23T00:00:00\",\"2022-02-24T00:00:00\",\"2022-02-25T00:00:00\",\"2022-02-28T00:00:00\",\"2022-03-01T00:00:00\",\"2022-03-02T00:00:00\",\"2022-03-03T00:00:00\",\"2022-03-04T00:00:00\",\"2022-03-07T00:00:00\",\"2022-03-08T00:00:00\",\"2022-03-09T00:00:00\",\"2022-03-10T00:00:00\",\"2022-03-11T00:00:00\",\"2022-03-14T00:00:00\",\"2022-03-15T00:00:00\",\"2022-03-16T00:00:00\",\"2022-03-17T00:00:00\",\"2022-03-18T00:00:00\"],\"xaxis\":\"x\",\"yaxis\":\"y\",\"type\":\"candlestick\"},{\"name\":\"Volatility\",\"x\":[\"2017-06-23T00:00:00\",\"2017-06-30T00:00:00\",\"2017-07-07T00:00:00\",\"2017-07-14T00:00:00\",\"2017-07-21T00:00:00\",\"2017-07-28T00:00:00\",\"2017-08-04T00:00:00\",\"2017-08-11T00:00:00\",\"2017-08-18T00:00:00\",\"2017-08-25T00:00:00\",\"2017-09-01T00:00:00\",\"2017-09-08T00:00:00\",\"2017-09-15T00:00:00\",\"2017-09-22T00:00:00\",\"2017-09-29T00:00:00\",\"2017-10-06T00:00:00\",\"2017-10-13T00:00:00\",\"2017-10-20T00:00:00\",\"2017-10-27T00:00:00\",\"2017-11-03T00:00:00\",\"2017-11-10T00:00:00\",\"2017-11-17T00:00:00\",\"2017-11-24T00:00:00\",\"2017-12-01T00:00:00\",\"2017-12-08T00:00:00\",\"2017-12-15T00:00:00\",\"2017-12-22T00:00:00\",\"2017-12-29T00:00:00\",\"2018-01-05T00:00:00\",\"2018-01-12T00:00:00\",\"2018-01-19T00:00:00\",\"2018-01-26T00:00:00\",\"2018-02-02T00:00:00\",\"2018-02-09T00:00:00\",\"2018-02-16T00:00:00\",\"2018-02-23T00:00:00\",\"2018-03-02T00:00:00\",\"2018-03-09T00:00:00\",\"2018-03-16T00:00:00\",\"2018-03-23T00:00:00\",\"2018-03-30T00:00:00\",\"2018-04-06T00:00:00\",\"2018-04-13T00:00:00\",\"2018-04-20T00:00:00\",\"2018-04-27T00:00:00\",\"2018-05-04T00:00:00\",\"2018-05-11T00:00:00\",\"2018-05-18T00:00:00\",\"2018-05-25T00:00:00\",\"2018-06-01T00:00:00\",\"2018-06-08T00:00:00\",\"2018-06-15T00:00:00\",\"2018-06-22T00:00:00\",\"2018-06-29T00:00:00\",\"2018-07-06T00:00:00\",\"2018-07-13T00:00:00\",\"2018-07-20T00:00:00\",\"2018-07-27T00:00:00\",\"2018-08-03T00:00:00\",\"2018-08-10T00:00:00\",\"2018-08-17T00:00:00\",\"2018-08-24T00:00:00\",\"2018-08-31T00:00:00\",\"2018-09-07T00:00:00\",\"2018-09-14T00:00:00\",\"2018-09-21T00:00:00\",\"2018-09-28T00:00:00\",\"2018-10-05T00:00:00\",\"2018-10-12T00:00:00\",\"2018-10-19T00:00:00\",\"2018-10-26T00:00:00\",\"2018-11-02T00:00:00\",\"2018-11-09T00:00:00\",\"2018-11-16T00:00:00\",\"2018-11-23T00:00:00\",\"2018-11-30T00:00:00\",\"2018-12-07T00:00:00\",\"2018-12-14T00:00:00\",\"2018-12-21T00:00:00\",\"2018-12-28T00:00:00\",\"2019-01-04T00:00:00\",\"2019-01-11T00:00:00\",\"2019-01-18T00:00:00\",\"2019-01-25T00:00:00\",\"2019-02-01T00:00:00\",\"2019-02-08T00:00:00\",\"2019-02-15T00:00:00\",\"2019-02-22T00:00:00\",\"2019-03-01T00:00:00\",\"2019-03-08T00:00:00\",\"2019-03-15T00:00:00\",\"2019-03-22T00:00:00\",\"2019-03-29T00:00:00\",\"2019-04-05T00:00:00\",\"2019-04-12T00:00:00\",\"2019-04-19T00:00:00\",\"2019-04-26T00:00:00\",\"2019-05-03T00:00:00\",\"2019-05-10T00:00:00\",\"2019-05-17T00:00:00\",\"2019-05-24T00:00:00\",\"2019-05-31T00:00:00\",\"2019-06-07T00:00:00\",\"2019-06-14T00:00:00\",\"2019-06-21T00:00:00\",\"2019-06-28T00:00:00\",\"2019-07-05T00:00:00\",\"2019-07-12T00:00:00\",\"2019-07-19T00:00:00\",\"2019-07-26T00:00:00\",\"2019-08-02T00:00:00\",\"2019-08-09T00:00:00\",\"2019-08-16T00:00:00\",\"2019-08-23T00:00:00\",\"2019-08-30T00:00:00\",\"2019-09-06T00:00:00\",\"2019-09-13T00:00:00\",\"2019-09-20T00:00:00\",\"2019-09-27T00:00:00\",\"2019-10-04T00:00:00\",\"2019-10-11T00:00:00\",\"2019-10-18T00:00:00\",\"2019-10-25T00:00:00\",\"2019-11-01T00:00:00\",\"2019-11-08T00:00:00\",\"2019-11-15T00:00:00\",\"2019-11-22T00:00:00\",\"2019-11-29T00:00:00\",\"2019-12-06T00:00:00\",\"2019-12-13T00:00:00\",\"2019-12-20T00:00:00\",\"2019-12-27T00:00:00\",\"2020-01-03T00:00:00\",\"2020-01-10T00:00:00\",\"2020-01-17T00:00:00\",\"2020-01-24T00:00:00\",\"2020-01-31T00:00:00\",\"2020-02-07T00:00:00\",\"2020-02-14T00:00:00\",\"2020-02-21T00:00:00\",\"2020-02-28T00:00:00\",\"2020-03-06T00:00:00\",\"2020-03-13T00:00:00\",\"2020-03-20T00:00:00\",\"2020-03-27T00:00:00\",\"2020-04-03T00:00:00\",\"2020-04-10T00:00:00\",\"2020-04-17T00:00:00\",\"2020-04-24T00:00:00\",\"2020-05-01T00:00:00\",\"2020-05-08T00:00:00\",\"2020-05-15T00:00:00\",\"2020-05-22T00:00:00\",\"2020-05-29T00:00:00\",\"2020-06-05T00:00:00\",\"2020-06-12T00:00:00\",\"2020-06-19T00:00:00\",\"2020-06-26T00:00:00\",\"2020-07-03T00:00:00\",\"2020-07-10T00:00:00\",\"2020-07-17T00:00:00\",\"2020-07-24T00:00:00\",\"2020-07-31T00:00:00\",\"2020-08-07T00:00:00\",\"2020-08-14T00:00:00\",\"2020-08-21T00:00:00\",\"2020-08-28T00:00:00\",\"2020-09-04T00:00:00\",\"2020-09-11T00:00:00\",\"2020-09-18T00:00:00\",\"2020-09-25T00:00:00\",\"2020-10-02T00:00:00\",\"2020-10-09T00:00:00\",\"2020-10-16T00:00:00\",\"2020-10-23T00:00:00\",\"2020-10-30T00:00:00\",\"2020-11-06T00:00:00\",\"2020-11-13T00:00:00\",\"2020-11-20T00:00:00\",\"2020-11-27T00:00:00\",\"2020-12-04T00:00:00\",\"2020-12-11T00:00:00\",\"2020-12-18T00:00:00\",\"2020-12-25T00:00:00\",\"2021-01-01T00:00:00\",\"2021-01-08T00:00:00\",\"2021-01-15T00:00:00\",\"2021-01-22T00:00:00\",\"2021-01-29T00:00:00\",\"2021-02-05T00:00:00\",\"2021-02-12T00:00:00\",\"2021-02-19T00:00:00\",\"2021-02-26T00:00:00\",\"2021-03-05T00:00:00\",\"2021-03-12T00:00:00\",\"2021-03-19T00:00:00\",\"2021-03-26T00:00:00\",\"2021-04-02T00:00:00\",\"2021-04-09T00:00:00\",\"2021-04-16T00:00:00\",\"2021-04-23T00:00:00\",\"2021-04-30T00:00:00\",\"2021-05-07T00:00:00\",\"2021-05-14T00:00:00\",\"2021-05-21T00:00:00\",\"2021-05-28T00:00:00\",\"2021-06-04T00:00:00\",\"2021-06-11T00:00:00\",\"2021-06-18T00:00:00\",\"2021-06-25T00:00:00\",\"2021-07-02T00:00:00\",\"2021-07-09T00:00:00\",\"2021-07-16T00:00:00\",\"2021-07-23T00:00:00\",\"2021-07-30T00:00:00\",\"2021-08-06T00:00:00\",\"2021-08-13T00:00:00\",\"2021-08-20T00:00:00\",\"2021-08-27T00:00:00\",\"2021-09-03T00:00:00\",\"2021-09-10T00:00:00\",\"2021-09-17T00:00:00\",\"2021-09-24T00:00:00\",\"2021-10-01T00:00:00\",\"2021-10-08T00:00:00\",\"2021-10-15T00:00:00\",\"2021-10-22T00:00:00\",\"2021-10-29T00:00:00\",\"2021-11-05T00:00:00\",\"2021-11-12T00:00:00\",\"2021-11-19T00:00:00\",\"2021-11-26T00:00:00\",\"2021-12-03T00:00:00\",\"2021-12-10T00:00:00\",\"2021-12-17T00:00:00\",\"2021-12-24T00:00:00\",\"2021-12-31T00:00:00\",\"2022-01-07T00:00:00\",\"2022-01-14T00:00:00\",\"2022-01-21T00:00:00\",\"2022-01-28T00:00:00\",\"2022-02-04T00:00:00\",\"2022-02-11T00:00:00\",\"2022-02-18T00:00:00\",\"2022-02-25T00:00:00\",\"2022-03-04T00:00:00\",\"2022-03-11T00:00:00\",\"2022-03-18T00:00:00\"],\"y\":[0.3665696434822938,0.3520269194507047,0.3562470815626717,0.3551435416286549,0.3545191472394972,0.3451296742342817,0.34645467502213717,0.35974622456884,0.35992063623035747,0.3391266844305234,0.3391639977029746,0.4024666560733274,0.45501026891156915,0.41192171318156673,0.4318664410510769,0.43021547988219266,0.4299602654698838,0.4361467490029658,0.4290120877137669,0.4174894152876762,0.4114260352702206,0.414884635099951,0.4422811016544524,0.45788199286261216,0.4133781652155261,0.32751970952085613,0.31282195634307364,0.2900921970805519,0.3522993080338706,0.34973010457270004,0.3668725851223245,0.365832689097409,0.414920299440325,0.5733041117332993,0.5765128557830156,0.5527553569668427,0.5702950124388613,0.5685878843561512,0.5688479177396563,0.5788485454727207,0.5897419320864735,0.5425302973615306,0.5457913586993693,0.48863646010016465,0.48768117521521015,0.4829780783454874,0.36486003201311956,0.3353615679743948,0.30855404424031485,0.28747239768943744,0.280856885353619,0.30776766025678715,0.2981025064397807,0.34316932531097966,0.3494373122514889,0.35851272532283407,0.3572365221750214,0.35039870968578424,0.3840048934490946,0.4343633663492122,0.4335641691710553,0.4461325796841763,0.46286840198866247,0.46219786431355003,0.44807841686039723,0.5011578819424473,0.43650688487407674,0.4168210069683105,0.41563905248236277,0.4123086348493086,0.45276602256128023,0.3802602357714487,0.3683423187221488,0.36789431416457413,0.3648209385608559,0.35538101900618113,0.3421702025484602,0.34576252413795067,0.35485513339698277,0.3314644598849107,0.3398173222107406,0.3391552758371813,0.33575685586231174,0.28022624649349615,0.2947586641374488,0.27239469478062767,0.25997585973558135,0.26021695469891576,0.27628565039910435,0.2947222644447089,0.28755576523180404,0.20628082133718492,0.20111084560596912,0.2021966228843324,0.23376122604460622,0.23413174822333904,0.3056133995308256,0.28835413791060943,0.28835413791060943,0.2948854426518533,0.2979531904713029,0.2738928574831225,0.26255577372022915,0.264683293041005,0.25404574396932755,0.2308806025066348,0.2409474017307826,0.23158954796247494,0.24144701739766258,0.17962342438955245,0.23101986734974833,0.23679183126263448,0.23191161567037163,0.23287230493733646,0.25134733988466945,0.2631209199106557,0.2645873817015859,0.27405679247012654,0.2784415763112703,0.2469386690115395,0.2595014482391129,0.246228977694321,0.2434993264336645,0.20303297881004914,0.1954942896243557,0.19669243686488316,0.19369446717082706,0.17381409794130956,0.15556220793627237,0.14293345450532063,0.25700164824660576,0.2512483018904699,0.2511000384166014,0.25687249283433905,0.2719027898883226,0.29624306201997647,0.2956060733371607,0.29522333027184144,0.36166158147976357,0.38558289714256017,0.384239642204869,0.3929571080089143,0.41709610436934824,0.42749616150759284,0.43449651265856704,0.4269798409480433,0.4273136815808497,0.4240693197086341,0.42017478005559383,0.43138609731281446,0.43283991992569104,0.35282176374130403,0.34356142246773475,0.34722312860554666,0.33183562738086364,0.31907625222794456,0.18398392834918878,0.17683797600887066,0.24183895932768748,0.24314284166315045,0.2856092508506907,0.272412907724536,0.2590959486327152,0.2556467228248001,0.26860257938571175,0.2680191351398125,0.2665849287036074,0.2645239757105995,0.2564034703925565,0.26600258085546175,0.3001044585629211,0.2530450620732948,0.2503695044784186,0.2030063760821893,0.201441140293539,0.20437708300069038,0.24193627539955975,0.21992930432940394,0.24453958411360457,0.24615356687191528,0.2752619088165057,0.2985786394563452,0.2834585482863877,0.25838645082631984,0.2603544725553865,0.2634139252117825,0.2645167807432163,0.2708027030929314,0.2906831162982957,0.26469002235292327,0.263315781244634,0.24105464126920947,0.3192755097155554,0.3163320668222778,0.2923464765433466,0.29412536165040926,0.29456352922177254,0.29877335379569997,0.30696075349497304,0.30336713557441297,0.3046682935228936,0.28607376994311734,0.2744543246662883,0.28151913089612635,0.2691717651967384,0.13095693977177789,0.1123184530395841,0.12034494648491634,0.12136287250013691,0.1254439468754713,0.12475935039484667,0.11967277238194601,0.11749993464142941,0.12255860828587209,0.22373182043237977,0.23913078883263555,0.30785436576163416,0.308421762313523,0.3046314779536334,0.3058211972453282,0.3016034415749473,0.32010134559910325,0.3565695192021052,0.37383888078858213,0.3736792559839154,0.3736921377595625,0.3690206194159399,0.43436636650760563,0.43147101491070694,0.4565844439157542,0.4573362440915512,0.4625764075607972,0.46441556998840217,0.4731749412143055,0.4565343873174683,0.43691691911835917,0.42395304405521883,0.4761293407645772,0.4901093963301485,0.49824230749152226,0.39089093290488247,0.3860298018290092,0.3290333457312821,0.33639458931042654,0.33680472628427155,0.34479413945586596,0.3907505355755574,0.40985399804338757],\"yaxis\":\"y2\",\"type\":\"scatter\",\"xaxis\":\"x2\"}],                        {\"template\":{\"data\":{\"bar\":[{\"error_x\":{\"color\":\"#2a3f5f\"},\"error_y\":{\"color\":\"#2a3f5f\"},\"marker\":{\"line\":{\"color\":\"#E5ECF6\",\"width\":0.5},\"pattern\":{\"fillmode\":\"overlay\",\"size\":10,\"solidity\":0.2}},\"type\":\"bar\"}],\"barpolar\":[{\"marker\":{\"line\":{\"color\":\"#E5ECF6\",\"width\":0.5},\"pattern\":{\"fillmode\":\"overlay\",\"size\":10,\"solidity\":0.2}},\"type\":\"barpolar\"}],\"carpet\":[{\"aaxis\":{\"endlinecolor\":\"#2a3f5f\",\"gridcolor\":\"white\",\"linecolor\":\"white\",\"minorgridcolor\":\"white\",\"startlinecolor\":\"#2a3f5f\"},\"baxis\":{\"endlinecolor\":\"#2a3f5f\",\"gridcolor\":\"white\",\"linecolor\":\"white\",\"minorgridcolor\":\"white\",\"startlinecolor\":\"#2a3f5f\"},\"type\":\"carpet\"}],\"choropleth\":[{\"colorbar\":{\"outlinewidth\":0,\"ticks\":\"\"},\"type\":\"choropleth\"}],\"contour\":[{\"colorbar\":{\"outlinewidth\":0,\"ticks\":\"\"},\"colorscale\":[[0.0,\"#0d0887\"],[0.1111111111111111,\"#46039f\"],[0.2222222222222222,\"#7201a8\"],[0.3333333333333333,\"#9c179e\"],[0.4444444444444444,\"#bd3786\"],[0.5555555555555556,\"#d8576b\"],[0.6666666666666666,\"#ed7953\"],[0.7777777777777778,\"#fb9f3a\"],[0.8888888888888888,\"#fdca26\"],[1.0,\"#f0f921\"]],\"type\":\"contour\"}],\"contourcarpet\":[{\"colorbar\":{\"outlinewidth\":0,\"ticks\":\"\"},\"type\":\"contourcarpet\"}],\"heatmap\":[{\"colorbar\":{\"outlinewidth\":0,\"ticks\":\"\"},\"colorscale\":[[0.0,\"#0d0887\"],[0.1111111111111111,\"#46039f\"],[0.2222222222222222,\"#7201a8\"],[0.3333333333333333,\"#9c179e\"],[0.4444444444444444,\"#bd3786\"],[0.5555555555555556,\"#d8576b\"],[0.6666666666666666,\"#ed7953\"],[0.7777777777777778,\"#fb9f3a\"],[0.8888888888888888,\"#fdca26\"],[1.0,\"#f0f921\"]],\"type\":\"heatmap\"}],\"heatmapgl\":[{\"colorbar\":{\"outlinewidth\":0,\"ticks\":\"\"},\"colorscale\":[[0.0,\"#0d0887\"],[0.1111111111111111,\"#46039f\"],[0.2222222222222222,\"#7201a8\"],[0.3333333333333333,\"#9c179e\"],[0.4444444444444444,\"#bd3786\"],[0.5555555555555556,\"#d8576b\"],[0.6666666666666666,\"#ed7953\"],[0.7777777777777778,\"#fb9f3a\"],[0.8888888888888888,\"#fdca26\"],[1.0,\"#f0f921\"]],\"type\":\"heatmapgl\"}],\"histogram\":[{\"marker\":{\"pattern\":{\"fillmode\":\"overlay\",\"size\":10,\"solidity\":0.2}},\"type\":\"histogram\"}],\"histogram2d\":[{\"colorbar\":{\"outlinewidth\":0,\"ticks\":\"\"},\"colorscale\":[[0.0,\"#0d0887\"],[0.1111111111111111,\"#46039f\"],[0.2222222222222222,\"#7201a8\"],[0.3333333333333333,\"#9c179e\"],[0.4444444444444444,\"#bd3786\"],[0.5555555555555556,\"#d8576b\"],[0.6666666666666666,\"#ed7953\"],[0.7777777777777778,\"#fb9f3a\"],[0.8888888888888888,\"#fdca26\"],[1.0,\"#f0f921\"]],\"type\":\"histogram2d\"}],\"histogram2dcontour\":[{\"colorbar\":{\"outlinewidth\":0,\"ticks\":\"\"},\"colorscale\":[[0.0,\"#0d0887\"],[0.1111111111111111,\"#46039f\"],[0.2222222222222222,\"#7201a8\"],[0.3333333333333333,\"#9c179e\"],[0.4444444444444444,\"#bd3786\"],[0.5555555555555556,\"#d8576b\"],[0.6666666666666666,\"#ed7953\"],[0.7777777777777778,\"#fb9f3a\"],[0.8888888888888888,\"#fdca26\"],[1.0,\"#f0f921\"]],\"type\":\"histogram2dcontour\"}],\"mesh3d\":[{\"colorbar\":{\"outlinewidth\":0,\"ticks\":\"\"},\"type\":\"mesh3d\"}],\"parcoords\":[{\"line\":{\"colorbar\":{\"outlinewidth\":0,\"ticks\":\"\"}},\"type\":\"parcoords\"}],\"pie\":[{\"automargin\":true,\"type\":\"pie\"}],\"scatter\":[{\"marker\":{\"colorbar\":{\"outlinewidth\":0,\"ticks\":\"\"}},\"type\":\"scatter\"}],\"scatter3d\":[{\"line\":{\"colorbar\":{\"outlinewidth\":0,\"ticks\":\"\"}},\"marker\":{\"colorbar\":{\"outlinewidth\":0,\"ticks\":\"\"}},\"type\":\"scatter3d\"}],\"scattercarpet\":[{\"marker\":{\"colorbar\":{\"outlinewidth\":0,\"ticks\":\"\"}},\"type\":\"scattercarpet\"}],\"scattergeo\":[{\"marker\":{\"colorbar\":{\"outlinewidth\":0,\"ticks\":\"\"}},\"type\":\"scattergeo\"}],\"scattergl\":[{\"marker\":{\"colorbar\":{\"outlinewidth\":0,\"ticks\":\"\"}},\"type\":\"scattergl\"}],\"scattermapbox\":[{\"marker\":{\"colorbar\":{\"outlinewidth\":0,\"ticks\":\"\"}},\"type\":\"scattermapbox\"}],\"scatterpolar\":[{\"marker\":{\"colorbar\":{\"outlinewidth\":0,\"ticks\":\"\"}},\"type\":\"scatterpolar\"}],\"scatterpolargl\":[{\"marker\":{\"colorbar\":{\"outlinewidth\":0,\"ticks\":\"\"}},\"type\":\"scatterpolargl\"}],\"scatterternary\":[{\"marker\":{\"colorbar\":{\"outlinewidth\":0,\"ticks\":\"\"}},\"type\":\"scatterternary\"}],\"surface\":[{\"colorbar\":{\"outlinewidth\":0,\"ticks\":\"\"},\"colorscale\":[[0.0,\"#0d0887\"],[0.1111111111111111,\"#46039f\"],[0.2222222222222222,\"#7201a8\"],[0.3333333333333333,\"#9c179e\"],[0.4444444444444444,\"#bd3786\"],[0.5555555555555556,\"#d8576b\"],[0.6666666666666666,\"#ed7953\"],[0.7777777777777778,\"#fb9f3a\"],[0.8888888888888888,\"#fdca26\"],[1.0,\"#f0f921\"]],\"type\":\"surface\"}],\"table\":[{\"cells\":{\"fill\":{\"color\":\"#EBF0F8\"},\"line\":{\"color\":\"white\"}},\"header\":{\"fill\":{\"color\":\"#C8D4E3\"},\"line\":{\"color\":\"white\"}},\"type\":\"table\"}]},\"layout\":{\"annotationdefaults\":{\"arrowcolor\":\"#2a3f5f\",\"arrowhead\":0,\"arrowwidth\":1},\"autotypenumbers\":\"strict\",\"coloraxis\":{\"colorbar\":{\"outlinewidth\":0,\"ticks\":\"\"}},\"colorscale\":{\"diverging\":[[0,\"#8e0152\"],[0.1,\"#c51b7d\"],[0.2,\"#de77ae\"],[0.3,\"#f1b6da\"],[0.4,\"#fde0ef\"],[0.5,\"#f7f7f7\"],[0.6,\"#e6f5d0\"],[0.7,\"#b8e186\"],[0.8,\"#7fbc41\"],[0.9,\"#4d9221\"],[1,\"#276419\"]],\"sequential\":[[0.0,\"#0d0887\"],[0.1111111111111111,\"#46039f\"],[0.2222222222222222,\"#7201a8\"],[0.3333333333333333,\"#9c179e\"],[0.4444444444444444,\"#bd3786\"],[0.5555555555555556,\"#d8576b\"],[0.6666666666666666,\"#ed7953\"],[0.7777777777777778,\"#fb9f3a\"],[0.8888888888888888,\"#fdca26\"],[1.0,\"#f0f921\"]],\"sequentialminus\":[[0.0,\"#0d0887\"],[0.1111111111111111,\"#46039f\"],[0.2222222222222222,\"#7201a8\"],[0.3333333333333333,\"#9c179e\"],[0.4444444444444444,\"#bd3786\"],[0.5555555555555556,\"#d8576b\"],[0.6666666666666666,\"#ed7953\"],[0.7777777777777778,\"#fb9f3a\"],[0.8888888888888888,\"#fdca26\"],[1.0,\"#f0f921\"]]},\"colorway\":[\"#636efa\",\"#EF553B\",\"#00cc96\",\"#ab63fa\",\"#FFA15A\",\"#19d3f3\",\"#FF6692\",\"#B6E880\",\"#FF97FF\",\"#FECB52\"],\"font\":{\"color\":\"#2a3f5f\"},\"geo\":{\"bgcolor\":\"white\",\"lakecolor\":\"white\",\"landcolor\":\"#E5ECF6\",\"showlakes\":true,\"showland\":true,\"subunitcolor\":\"white\"},\"hoverlabel\":{\"align\":\"left\"},\"hovermode\":\"closest\",\"mapbox\":{\"style\":\"light\"},\"paper_bgcolor\":\"white\",\"plot_bgcolor\":\"#E5ECF6\",\"polar\":{\"angularaxis\":{\"gridcolor\":\"white\",\"linecolor\":\"white\",\"ticks\":\"\"},\"bgcolor\":\"#E5ECF6\",\"radialaxis\":{\"gridcolor\":\"white\",\"linecolor\":\"white\",\"ticks\":\"\"}},\"scene\":{\"xaxis\":{\"backgroundcolor\":\"#E5ECF6\",\"gridcolor\":\"white\",\"gridwidth\":2,\"linecolor\":\"white\",\"showbackground\":true,\"ticks\":\"\",\"zerolinecolor\":\"white\"},\"yaxis\":{\"backgroundcolor\":\"#E5ECF6\",\"gridcolor\":\"white\",\"gridwidth\":2,\"linecolor\":\"white\",\"showbackground\":true,\"ticks\":\"\",\"zerolinecolor\":\"white\"},\"zaxis\":{\"backgroundcolor\":\"#E5ECF6\",\"gridcolor\":\"white\",\"gridwidth\":2,\"linecolor\":\"white\",\"showbackground\":true,\"ticks\":\"\",\"zerolinecolor\":\"white\"}},\"shapedefaults\":{\"line\":{\"color\":\"#2a3f5f\"}},\"ternary\":{\"aaxis\":{\"gridcolor\":\"white\",\"linecolor\":\"white\",\"ticks\":\"\"},\"baxis\":{\"gridcolor\":\"white\",\"linecolor\":\"white\",\"ticks\":\"\"},\"bgcolor\":\"#E5ECF6\",\"caxis\":{\"gridcolor\":\"white\",\"linecolor\":\"white\",\"ticks\":\"\"}},\"title\":{\"x\":0.05},\"xaxis\":{\"automargin\":true,\"gridcolor\":\"white\",\"linecolor\":\"white\",\"ticks\":\"\",\"title\":{\"standoff\":15},\"zerolinecolor\":\"white\",\"zerolinewidth\":2},\"yaxis\":{\"automargin\":true,\"gridcolor\":\"white\",\"linecolor\":\"white\",\"ticks\":\"\",\"title\":{\"standoff\":15},\"zerolinecolor\":\"white\",\"zerolinewidth\":2}}},\"xaxis\":{\"anchor\":\"y\",\"domain\":[0.0,1.0],\"matches\":\"x2\",\"showticklabels\":false,\"rangeslider\":{\"visible\":false},\"rangeselector\":{\"buttons\":[{\"count\":1,\"label\":\"1m\",\"step\":\"month\",\"stepmode\":\"backward\"},{\"count\":6,\"label\":\"6m\",\"step\":\"month\",\"stepmode\":\"backward\"},{\"count\":1,\"label\":\"YTD\",\"step\":\"year\",\"stepmode\":\"todate\"},{\"count\":1,\"label\":\"1y\",\"step\":\"year\",\"stepmode\":\"backward\"},{\"count\":2,\"label\":\"2y\",\"step\":\"year\",\"stepmode\":\"backward\"},{\"step\":\"all\"}]},\"type\":\"date\"},\"yaxis\":{\"anchor\":\"x\",\"domain\":[0.575,1.0],\"autorange\":true,\"side\":\"left\",\"title\":{\"text\":\"Price\"}},\"xaxis2\":{\"anchor\":\"y2\",\"domain\":[0.0,1.0]},\"yaxis2\":{\"anchor\":\"x\",\"domain\":[0.0,0.425],\"autorange\":true,\"side\":\"left\"},\"width\":800,\"height\":600},                        {\"responsive\": true}                    ).then(function(){\n",
       "                            \n",
       "var gd = document.getElementById('93121bca-a330-4eac-93db-a0238239bff1');\n",
       "var x = new MutationObserver(function (mutations, observer) {{\n",
       "        var display = window.getComputedStyle(gd).display;\n",
       "        if (!display || display === 'none') {{\n",
       "            console.log([gd, 'removed!']);\n",
       "            Plotly.purge(gd);\n",
       "            observer.disconnect();\n",
       "        }}\n",
       "}});\n",
       "\n",
       "// Listen for the removal of the full notebook cells\n",
       "var notebookContainer = gd.closest('#notebook-container');\n",
       "if (notebookContainer) {{\n",
       "    x.observe(notebookContainer, {childList: true});\n",
       "}}\n",
       "\n",
       "// Listen for the clearing of the current output cell\n",
       "var outputEl = gd.closest('.output');\n",
       "if (outputEl) {{\n",
       "    x.observe(outputEl, {childList: true});\n",
       "}}\n",
       "\n",
       "                        })                };                });            </script>        </div>"
      ]
     },
     "metadata": {},
     "output_type": "display_data"
    }
   ],
   "source": [
    "# stk='000002.SZ'\n",
    "# from plotly.subplots import make_subplots\n",
    "\n",
    "# fig_t=make_subplots(rows=2, cols=1, shared_xaxes=True)#,specs=[[{\"secondary_y\": True}]])\n",
    "\n",
    "# fig_t.add_trace(go.Candlestick(x=df_5y.index,\n",
    "#                                 open=df_5y[('Open',stk)],\n",
    "#                                 high=df_5y[('High',stk)],\n",
    "#                                 low=df_5y[('Low',stk)],\n",
    "#                                 close=df_5y[('Close',stk)], \n",
    "#                                xaxis='x', yaxis='y', visible=True, name='Price'),\n",
    "#                row=1, col=1)\n",
    "\n",
    "# fig_t.add_trace(go.Scatter(x=df_weekly_return_rolling_3m_volann.index,\n",
    "#                            y=df_weekly_return_rolling_3m_volann[stk],\n",
    "#                            yaxis='y2',\n",
    "#                            name='Volatility'\n",
    "#                           ),\n",
    "#                 row=2,col=1\n",
    "#                 )\n",
    "\n",
    "# # Add range slider\n",
    "# fig_t.update_layout(\n",
    "#     xaxis=dict(\n",
    "#         rangeselector=dict(\n",
    "#             buttons=list([\n",
    "#                 dict(count=1,\n",
    "#                      label=\"1m\",\n",
    "#                      step=\"month\",\n",
    "#                      stepmode=\"backward\"),\n",
    "#                 dict(count=6,\n",
    "#                      label=\"6m\",\n",
    "#                      step=\"month\",\n",
    "#                      stepmode=\"backward\"),\n",
    "#                 dict(count=1,\n",
    "#                      label=\"YTD\",\n",
    "#                      step=\"year\",\n",
    "#                      stepmode=\"todate\"),\n",
    "#                 dict(count=1,\n",
    "#                      label=\"1y\",\n",
    "#                      step=\"year\",\n",
    "#                      stepmode=\"backward\"),\n",
    "#                 dict(count=2,\n",
    "#                      label=\"2y\",\n",
    "#                      step=\"year\",\n",
    "#                      stepmode=\"backward\"),\n",
    "#                 dict(step=\"all\")\n",
    "#             ])\n",
    "#         ),\n",
    "#         rangeslider=dict(\n",
    "#             visible=False\n",
    "#         ),\n",
    "#         type=\"date\"\n",
    "#     ),\n",
    "#     yaxis=dict(\n",
    "#         anchor='x',\n",
    "#         autorange=True,\n",
    "#         side='left',\n",
    "#         title='Price'\n",
    "#         ),\n",
    "#     yaxis2=dict(\n",
    "#         anchor='x',\n",
    "#         autorange=True,\n",
    "#         side='left'),\n",
    "#     width=800, height=600\n",
    "# )\n",
    "\n",
    "# fig_t"
   ]
  },
  {
   "cell_type": "markdown",
   "id": "c1cdb3d1-166e-4f0b-9b9a-d1b66b38d3ca",
   "metadata": {
    "tags": []
   },
   "source": [
    "# Archive"
   ]
  },
  {
   "cell_type": "code",
   "execution_count": 74,
   "id": "88d35116-cacb-47c0-89df-050c922592b7",
   "metadata": {
    "tags": []
   },
   "outputs": [],
   "source": [
    "# app.run_server(mode='inline', debug=True)"
   ]
  },
  {
   "cell_type": "code",
   "execution_count": 75,
   "id": "e7ab242f-9acb-439d-8bcd-28091127be4b",
   "metadata": {},
   "outputs": [
    {
     "data": {
      "text/html": [
       "<div>\n",
       "<style scoped>\n",
       "    .dataframe tbody tr th:only-of-type {\n",
       "        vertical-align: middle;\n",
       "    }\n",
       "\n",
       "    .dataframe tbody tr th {\n",
       "        vertical-align: top;\n",
       "    }\n",
       "\n",
       "    .dataframe thead th {\n",
       "        text-align: right;\n",
       "    }\n",
       "</style>\n",
       "<table border=\"1\" class=\"dataframe\">\n",
       "  <thead>\n",
       "    <tr style=\"text-align: right;\">\n",
       "      <th></th>\n",
       "      <th>index</th>\n",
       "      <th>mean_return</th>\n",
       "      <th>ann_vol</th>\n",
       "      <th>shortName</th>\n",
       "      <th>hover_name</th>\n",
       "    </tr>\n",
       "  </thead>\n",
       "  <tbody>\n",
       "    <tr>\n",
       "      <th>0</th>\n",
       "      <td>000001.SZ</td>\n",
       "      <td>-0.001124</td>\n",
       "      <td>0.387906</td>\n",
       "      <td>PING AN BANK</td>\n",
       "      <td>000001.SZ PING AN BANK</td>\n",
       "    </tr>\n",
       "    <tr>\n",
       "      <th>1</th>\n",
       "      <td>000002.SZ</td>\n",
       "      <td>-0.004742</td>\n",
       "      <td>0.313579</td>\n",
       "      <td>CHINA VANKE CO</td>\n",
       "      <td>000002.SZ CHINA VANKE CO</td>\n",
       "    </tr>\n",
       "    <tr>\n",
       "      <th>2</th>\n",
       "      <td>000063.SZ</td>\n",
       "      <td>-0.006494</td>\n",
       "      <td>0.361133</td>\n",
       "      <td>ZTE CORP</td>\n",
       "      <td>000063.SZ ZTE CORP</td>\n",
       "    </tr>\n",
       "    <tr>\n",
       "      <th>3</th>\n",
       "      <td>000066.SZ</td>\n",
       "      <td>-0.001259</td>\n",
       "      <td>0.445663</td>\n",
       "      <td>CHINA GREATWALL TE</td>\n",
       "      <td>000066.SZ CHINA GREATWALL TE</td>\n",
       "    </tr>\n",
       "    <tr>\n",
       "      <th>4</th>\n",
       "      <td>000069.SZ</td>\n",
       "      <td>0.000772</td>\n",
       "      <td>0.380972</td>\n",
       "      <td>SHENZHEN OVERSEAS</td>\n",
       "      <td>000069.SZ SHENZHEN OVERSEAS</td>\n",
       "    </tr>\n",
       "    <tr>\n",
       "      <th>...</th>\n",
       "      <td>...</td>\n",
       "      <td>...</td>\n",
       "      <td>...</td>\n",
       "      <td>...</td>\n",
       "      <td>...</td>\n",
       "    </tr>\n",
       "    <tr>\n",
       "      <th>295</th>\n",
       "      <td>688363.SS</td>\n",
       "      <td>0.003119</td>\n",
       "      <td>0.498985</td>\n",
       "      <td>BLOOMAGE BIOTECHNOLOGY CORPORAT</td>\n",
       "      <td>688363.SS BLOOMAGE BIOTECHNOLOGY CORPORAT</td>\n",
       "    </tr>\n",
       "    <tr>\n",
       "      <th>296</th>\n",
       "      <td>688396.SS</td>\n",
       "      <td>0.002168</td>\n",
       "      <td>0.553507</td>\n",
       "      <td>CHINA RESOURCES MICROELECTRONIC</td>\n",
       "      <td>688396.SS CHINA RESOURCES MICROELECTRONIC</td>\n",
       "    </tr>\n",
       "    <tr>\n",
       "      <th>297</th>\n",
       "      <td>688561.SS</td>\n",
       "      <td>-0.006625</td>\n",
       "      <td>0.413594</td>\n",
       "      <td>QI AN XIN TECHNOLOGY GROUP INC</td>\n",
       "      <td>688561.SS QI AN XIN TECHNOLOGY GROUP INC</td>\n",
       "    </tr>\n",
       "    <tr>\n",
       "      <th>298</th>\n",
       "      <td>688599.SS</td>\n",
       "      <td>0.014985</td>\n",
       "      <td>0.568107</td>\n",
       "      <td>TRINA SOLAR CO LTD</td>\n",
       "      <td>688599.SS TRINA SOLAR CO LTD</td>\n",
       "    </tr>\n",
       "    <tr>\n",
       "      <th>299</th>\n",
       "      <td>688981.SS</td>\n",
       "      <td>-0.004487</td>\n",
       "      <td>0.368573</td>\n",
       "      <td>SEMICONDUCTOR MANUFACTURING INT</td>\n",
       "      <td>688981.SS SEMICONDUCTOR MANUFACTURING INT</td>\n",
       "    </tr>\n",
       "  </tbody>\n",
       "</table>\n",
       "<p>300 rows × 5 columns</p>\n",
       "</div>"
      ],
      "text/plain": [
       "         index  mean_return   ann_vol                        shortName  \\\n",
       "0    000001.SZ    -0.001124  0.387906                     PING AN BANK   \n",
       "1    000002.SZ    -0.004742  0.313579                   CHINA VANKE CO   \n",
       "2    000063.SZ    -0.006494  0.361133                         ZTE CORP   \n",
       "3    000066.SZ    -0.001259  0.445663               CHINA GREATWALL TE   \n",
       "4    000069.SZ     0.000772  0.380972                SHENZHEN OVERSEAS   \n",
       "..         ...          ...       ...                              ...   \n",
       "295  688363.SS     0.003119  0.498985  BLOOMAGE BIOTECHNOLOGY CORPORAT   \n",
       "296  688396.SS     0.002168  0.553507  CHINA RESOURCES MICROELECTRONIC   \n",
       "297  688561.SS    -0.006625  0.413594   QI AN XIN TECHNOLOGY GROUP INC   \n",
       "298  688599.SS     0.014985  0.568107               TRINA SOLAR CO LTD   \n",
       "299  688981.SS    -0.004487  0.368573  SEMICONDUCTOR MANUFACTURING INT   \n",
       "\n",
       "                                    hover_name  \n",
       "0                       000001.SZ PING AN BANK  \n",
       "1                     000002.SZ CHINA VANKE CO  \n",
       "2                           000063.SZ ZTE CORP  \n",
       "3                 000066.SZ CHINA GREATWALL TE  \n",
       "4                  000069.SZ SHENZHEN OVERSEAS  \n",
       "..                                         ...  \n",
       "295  688363.SS BLOOMAGE BIOTECHNOLOGY CORPORAT  \n",
       "296  688396.SS CHINA RESOURCES MICROELECTRONIC  \n",
       "297   688561.SS QI AN XIN TECHNOLOGY GROUP INC  \n",
       "298               688599.SS TRINA SOLAR CO LTD  \n",
       "299  688981.SS SEMICONDUCTOR MANUFACTURING INT  \n",
       "\n",
       "[300 rows x 5 columns]"
      ]
     },
     "execution_count": 75,
     "metadata": {},
     "output_type": "execute_result"
    }
   ],
   "source": [
    "mean_var"
   ]
  },
  {
   "cell_type": "code",
   "execution_count": 111,
   "id": "804978c2-466d-4478-b06a-d840a4ef3881",
   "metadata": {},
   "outputs": [
    {
     "data": {
      "text/html": [
       "<div>\n",
       "<style scoped>\n",
       "    .dataframe tbody tr th:only-of-type {\n",
       "        vertical-align: middle;\n",
       "    }\n",
       "\n",
       "    .dataframe tbody tr th {\n",
       "        vertical-align: top;\n",
       "    }\n",
       "\n",
       "    .dataframe thead th {\n",
       "        text-align: right;\n",
       "    }\n",
       "</style>\n",
       "<table border=\"1\" class=\"dataframe\">\n",
       "  <thead>\n",
       "    <tr style=\"text-align: right;\">\n",
       "      <th></th>\n",
       "      <th>index</th>\n",
       "      <th>mean_return</th>\n",
       "      <th>ann_vol</th>\n",
       "      <th>shortName</th>\n",
       "      <th>hover_name</th>\n",
       "    </tr>\n",
       "  </thead>\n",
       "  <tbody>\n",
       "    <tr>\n",
       "      <th>273</th>\n",
       "      <td>603392.SS</td>\n",
       "      <td>0.031252</td>\n",
       "      <td>0.898584</td>\n",
       "      <td>BEIJING WANTAI BIOLOGICAL PHARM</td>\n",
       "      <td>603392.SS BEIJING WANTAI BIOLOGICAL PHARM</td>\n",
       "    </tr>\n",
       "  </tbody>\n",
       "</table>\n",
       "</div>"
      ],
      "text/plain": [
       "         index  mean_return   ann_vol                        shortName  \\\n",
       "273  603392.SS     0.031252  0.898584  BEIJING WANTAI BIOLOGICAL PHARM   \n",
       "\n",
       "                                    hover_name  \n",
       "273  603392.SS BEIJING WANTAI BIOLOGICAL PHARM  "
      ]
     },
     "execution_count": 111,
     "metadata": {},
     "output_type": "execute_result"
    }
   ],
   "source": [
    "mean_var[mean_var['index'].str.contains('603392')]"
   ]
  },
  {
   "cell_type": "code",
   "execution_count": 125,
   "id": "4b2b73b9-d9a0-4754-a427-078132c9604b",
   "metadata": {},
   "outputs": [
    {
     "data": {
      "application/json": {
       "data": [
        {
         "hovertemplate": "<b>%{hovertext}</b><br><br>mean_return=%{x}<br>ann_vol=%{y}<extra></extra>",
         "hovertext": [
          "000001.SZ PING AN BANK",
          "000002.SZ CHINA VANKE CO",
          "000063.SZ ZTE CORP",
          "000066.SZ CHINA GREATWALL TE",
          "000069.SZ SHENZHEN OVERSEAS",
          "000100.SZ TCL TECHNOLOGY GRO",
          "000157.SZ ZOOMLION HVY IND S",
          "000166.SZ SHENWAN HONGYUAN G",
          "000301.SZ JIANGSU EASTERN SH",
          "000333.SZ MIDEA GROUP CO LTD",
          "000338.SZ WEICHAI POWER CO",
          "000425.SZ XCMG CONSTRUCTION",
          "000538.SZ YUNNAN BAIYAO GRP",
          "000568.SZ LUZHOU LAO JIAO CO",
          "000596.SZ ANHUI GUJING DISTL",
          "000625.SZ CHONG QING CHANGAN",
          "000651.SZ GREE ELEC APPLICAN",
          "000661.SZ CHANGCHUN HIGH NEW",
          "000703.SZ HENGYI PETROCHEMIC",
          "000708.SZ CITIC PACIFIC SPEC",
          "000725.SZ BOE TECHNOLOGY GP",
          "000768.SZ AVIC XI'AN AIRCRA",
          "000776.SZ GF SECURITIES CO",
          "000783.SZ CHANGJIANG SECURIT",
          "000786.SZ BEIJING NEW BLDG",
          "000800.SZ FAW JIEFANG GROUP",
          "000858.SZ WULIANGYE YIBIN CO",
          "000876.SZ NEW HOPE LIUHE CO",
          "000895.SZ HENAN SHUANG INVE",
          "000938.SZ UNISPLENDOUR CO. L",
          "000963.SZ HUADONG MEDICINE",
          "000977.SZ INSPUR ELECTRONIC",
          "001979.SZ CHINA MERCHANTS SH",
          "002001.SZ ZHEJIANG NHU CO",
          "002007.SZ HUALAN BIOLOGICAL",
          "002008.SZ HAN'S LASER TECHNO",
          "002024.SZ SUNING COM",
          "002027.SZ FOCUS MEDIA INFORM",
          "002032.SZ ZHEJIANG SUPOR CO",
          "002044.SZ MEINIAN ONEHEALTH",
          "002049.SZ UNIGROUP GUOXIN MI",
          "002050.SZ ZHEJIANG SANHUA IN",
          "002064.SZ HUAFON CHEMICAL CO",
          "002120.SZ YUNDA HOLDING CO L",
          "002129.SZ TIANJIN ZHONGHUA",
          "002142.SZ BANK OF NINGBO CO.",
          "002157.SZ JG/ZHENGBANG TECH",
          "002179.SZ AVIC JONHON OPTR",
          "002202.SZ XINJIANG GOLDWIND",
          "002230.SZ IFLYTEK CO LTD",
          "002236.SZ ZHEJIANG DAHUA TEC",
          "002241.SZ GOERTEK INC.",
          "002252.SZ S/H RAAS BLOOD PRO",
          "002271.SZ BEIJING ORIENTAL Y",
          "002304.SZ JIANGSU YANGHE BRE",
          "002311.SZ GUANGDONG HAID GRP",
          "002352.SZ S.F. HOLDING CO",
          "002371.SZ NAURA TECHNOLOGY G",
          "002410.SZ GLODON CO LTD",
          "002414.SZ WUHAN GUIDE INFRAR",
          "002415.SZ HANGZHOU HIKVISION",
          "002459.SZ JA SOLAR TECHNOLOG",
          "002460.SZ GANFENG LITHIUM CO",
          "002466.SZ TIANQI LITHIUM COR",
          "002475.SZ LUXSHARE PRECISION",
          "002493.SZ RONGSHENG PETRO CH",
          "002555.SZ WUHU SANQI INTERAC",
          "002568.SZ SHANGHAI BAIRUN IN",
          "002594.SZ BYD COMPANY LTD",
          "002600.SZ LINGYI ITECH (GUAN",
          "002601.SZ LB GROUP CO LTD",
          "002602.SZ ZHEJIANG CENTURY G",
          "002607.SZ OFFCN EDUCATION TE",
          "002624.SZ PERFECT WORLD CO L",
          "002709.SZ GUANGZHOU TINCI MA",
          "002714.SZ MUYUAN FOODS CO LT",
          "002736.SZ GUOSEN SECURITIES",
          "002791.SZ GUANGDONG KINLONG",
          "002812.SZ YUNNAN ENERGY NEW",
          "002821.SZ ASYMCHEM LABORATOR",
          "002841.SZ GUANGZHOU SHIYUAN",
          "002916.SZ SHENNAN CIRCUITS C",
          "002938.SZ AVARY HOLDING (SHE",
          "003816.SZ CGN POWER CO LTD",
          "300003.SZ LEPU MEDICAL TECHN",
          "300014.SZ EVE ENERGY CO LTD",
          "300015.SZ AIER EYE HOSPITAL",
          "300033.SZ HITHINK ROYALFLUSH",
          "300059.SZ EAST MONEY INFORMA",
          "300122.SZ CHONGQING ZHIFEI B",
          "300124.SZ SHENZHEN INOVANCE",
          "300142.SZ WALVAX BIOTECHNOLO",
          "300144.SZ SONGCHENG PERFORMA",
          "300274.SZ SUNGROW POWER SUPP",
          "300316.SZ ZHEJIANG JINGSHENG",
          "300347.SZ HANGZHOU TIGERMED",
          "300408.SZ CHAOZHOU THREE-CIR",
          "300413.SZ MANGO EXCELLENT ME",
          "300433.SZ LENS TECHNOLOGY CO",
          "300450.SZ WUXI LEAD INTELLIG",
          "300498.SZ WENS FOODSTUFF GRO",
          "300529.SZ JAFRON BIOMEDICAL",
          "300558.SZ BETTA PHARMACEUTIC",
          "300595.SZ AUTEK CHINA INC",
          "300601.SZ SHENZHEN KANGTAI B",
          "300628.SZ YEALINK NETWORK TE",
          "300676.SZ BGI GENOMICS CO LT",
          "300677.SZ INTCO MEDICAL TECH",
          "300750.SZ CONTEMPORARY AMPER",
          "300759.SZ PHARMARON BEIJING",
          "300760.SZ SHENZHEN MINDRAY B",
          "300782.SZ MAXSCEND MICROELEC",
          "300866.SZ ANKER INNOVATIONS",
          "300888.SZ WINNER MEDICAL CO",
          "300896.SZ IMEIK TECHNOLOGY D",
          "300999.SZ YIHAI KERRY ARAW.H",
          "600000.SS SHANGHAI PUDONG DEVELOPMENT BAN",
          "600009.SS SHANGHAI INTERNATIONAL AIRPORT ",
          "600010.SS INNER MONGOLIA BAOTOU STEEL UNI",
          "600011.SS HUANENG POWER INTERNATIONAL INC",
          "600015.SS HUAXIA BANK CO",
          "600016.SS CHINA MINSHENG BANKING CORP",
          "600018.SS SHANGHAI INTERNATIONAL PORT(GRO",
          "600019.SS BAOSHAN IRON & STEEL CO",
          "600025.SS HUANENG LANCANG RIVER HYDROPOWE",
          "600028.SS CHINA PETROLEUM & CHEMICAL CORP",
          "600029.SS CHINA SOUTHERN AIRLINES COMPANY",
          "600030.SS CITIC SECURITIES CO LTD",
          "600031.SS SANY HEAVY INDUSTRY CO",
          "600036.SS CHINA MERCHANTS BANK CO LTD",
          "600048.SS POLY DEVELOPMENTS AND HOLDINGS ",
          "600050.SS CHINA UNITED NETWORK COMMUNICAT",
          "600061.SS SDIC CAPITAL CO LTD",
          "600079.SS HUMANWELL HEALTHCARE (GROUP) CO",
          "600085.SS BEIJING TONGRENTANG CO",
          "600104.SS SAIC MOTOR CORPORATION LIMITED",
          "600109.SS SINOLINK SECURITIES CO. LTD.",
          "600111.SS CHINA NTHN RARE EARTH (GP) HI-T",
          "600115.SS CHINA EASTERN AIRLINES CORP",
          "600132.SS CHONG QING BREWERY CO.LTD",
          "600143.SS KINGFA SCI.&TECH. CO. LTD.",
          "600150.SS CHINA CSSC HOLDINGS LIMITED",
          "600161.SS BEIJING TIANTAN BIOLOGICAL PROD",
          "600176.SS CHINA JUSHI CO LTD",
          "600183.SS SHENGYI TECHNOLOGY CO LTD",
          "600196.SS SHANGHAI FOSUN PHARMACEUTICAL G",
          "600276.SS JIANGSU HENGRUI MEDICAL CO LTD",
          "600309.SS WANHUA CHEMICAL GROUP CO LTD",
          "600332.SS GUANGZHOU BAIYUNSHAN PHARMACEUT",
          "600346.SS HENGLI PETROCHEMICAL CO LTD",
          "600352.SS ZHEJIANG LONGSHENG GROUP CO",
          "600362.SS JIANGXI COPPER CO",
          "600383.SS GEMDALE CORPORATION",
          "600406.SS NARI TECHNOLOGY CO LTD",
          "600426.SS SHANDONG HUALU-HENGSHENG CHEMIC",
          "600436.SS ZHANGZHOU PIENTZEHUANG PHARMACE",
          "600438.SS TONGWEI CO",
          "600489.SS ZHONGJIN GOLD CO",
          "600519.SS KWEICHOW MOUTAI",
          "600547.SS SHANDONG GOLD MINING CO LTD",
          "600570.SS HUNDSUN TECHNOLOGIES INC",
          "600584.SS JCET GROUP CO LTD",
          "600585.SS ANHUI CONCH CEMENT",
          "600588.SS YONYOU NETWORK TECHNOLOGY CO LT",
          "600600.SS TSINGTAO BREWERY CO",
          "600606.SS GREENLAND HOLDINGS CORPORATION ",
          "600655.SS SHANGHAI YUYUAN TOURIST MART(GR",
          "600660.SS FUYAO GLASS INDUSTRY GROUP CO. ",
          "600690.SS HAIER SMART HOME CO LTD",
          "600741.SS HUAYU AUTOMOTIVE SYSTEMS CO LTD",
          "600745.SS WINGTECH TECHNOLOGY CO LTD",
          "600760.SS AVIC SHENYANG AIRCRAFT CO LTD",
          "600763.SS TOPCHOICE MEDICAL CORPORATION",
          "600795.SS GD POWER DEVELOPMENT CO",
          "600809.SS SHANXI XINGHUACUN FENWINE FACTO",
          "600837.SS HAITONG SECURITIES CO.LTD",
          "600845.SS SHANGHAI BAOSIGHT SOFTWARE",
          "600848.SS SHANGHAI LINGANG HOLDINGS CORPO",
          "600872.SS JONJEE HI-TECH INDUSTRIAL & COM",
          "600886.SS SDIC POWER HOLDINGS CO LTD",
          "600887.SS INNER MONGOLIA YILI INDS. GP CO",
          "600893.SS AECC AVIATION POWER CO LTD",
          "600900.SS CHINA YANGTZE POWER CO",
          "600905.SS CHINA THREE GORGES RENEWABLES",
          "600918.SS ZHONGTAI SECURITIES CO. LTD.",
          "600919.SS BANK OF JIANGSU",
          "600926.SS BANK OF HANGZHOU CO LTD",
          "600958.SS ORIENT SECURITIES COMPANY LIMIT",
          "600989.SS NINGXIA BAOFENG ENERGY GROUP CO",
          "600999.SS CHINA MERCHANTS SECURITIES CO L",
          "601006.SS DAQIN RAILWAY CO LTD",
          "601009.SS BANK OF NANJING CO. LTD.",
          "601012.SS LONGI GREEN ENERGY TECHNOLOGY C",
          "601021.SS SPRING AIRLINES CO LTD",
          "601066.SS CSC FINANCIAL CO LTD",
          "601088.SS CHINA SHENHUA ENERGY COMPANY LT",
          "601100.SS JIANGSU HENGLI HYDRAULIC CO LTD",
          "601108.SS CAITONG SECURITIES CO. LTD",
          "601111.SS AIR CHINA LTD",
          "601138.SS FOXCONN INDUSTRIAL INTERNET CO ",
          "601155.SS SEAZEN HOLDINGS CO LTD",
          "601162.SS TIANFENG SECURITIES CO LTD",
          "601166.SS INDUSTRIAL BANK CO LTD",
          "601169.SS BANK OF BEIJING CO. LTD.",
          "601186.SS CHINA RAILWAY CONSTRUCTION CORP",
          "601211.SS GUOTAI JUNAN SECURITIES CO LTD",
          "601216.SS INNER MONGOLIA JUNZHENG ENERGY ",
          "601225.SS SHAANXI COAL INDUSTRY",
          "601229.SS BANK OF SHANGHAI CO LTD",
          "601231.SS UNIVERSAL SCIENTIFIC IND (SHANG",
          "601236.SS HONGTA SECURITIES CO LTD",
          "601238.SS GUANGZHOU AUTOMOBILE GROUP",
          "601288.SS AGRICULTURAL BANK OF CHINA",
          "601318.SS PING AN INSURANCE(GROUP)CO.OF C",
          "601319.SS THE PEOPLE S INSURANCE COMPANY ",
          "601328.SS BANK OF COMMUNICATIONS CO LTD",
          "601336.SS NEW CHINA LIFE INSURANCE CO LTD",
          "601360.SS 360 SECURITY TECHN",
          "601377.SS INDUSTRIAL SECURITIES CO LTD",
          "601390.SS CHINA RAILWAY GROUP LIMITED",
          "601398.SS INDUSTRIAL & COMMERCIAL BK OF C",
          "601600.SS ALUMINUM CORP OF CHINA(CHALCO)",
          "601601.SS CHINA PACIFIC INSURANCE (GROUP)",
          "601607.SS SHANGHAI PHARMACEUTICALS HOLDIN",
          "601618.SS METALLURGICAL CORP OF CHINA LTD",
          "601628.SS CHINA LIFE INSURANCE CO",
          "601633.SS GREAT WALL MOTOR COMPANY LIMITE",
          "601658.SS POSTAL SAVINGS BANK OF CHINA CO",
          "601668.SS CHINA CONSTRUCTION ENGINEERING ",
          "601669.SS POWER CONSTRUCTION CORP OF CHIN",
          "601688.SS HUATAI SECURITIES CO LTD",
          "601696.SS BOC INTERNATIONAL (CHINA) CO LT",
          "601698.SS CHINA SATELLITE COMMUNICATIONS ",
          "601728.SS CHINA TELECOM CORPORATION",
          "601766.SS CRRC CORPORATION LIMITED",
          "601788.SS EVERBRIGHT SECURITIES COMPANY L",
          "601799.SS CHANGZHOU XINGYU AUTOMOTIVE LIG",
          "601800.SS CHINA COMMUNICATIONS CONSTRUCTI",
          "601808.SS CHINA OILFIELD SERVICES",
          "601816.SS BEIJING-SHANGHAI HIGH SPEED RAI",
          "601818.SS CHINA EVERBRIGHT BANK CO LTD",
          "601838.SS BANK OF CHENGDU",
          "601857.SS PETROCHINA CO",
          "601865.SS FLAT GLASS GROUP CO LTD",
          "601868.SS CHINA ENERGY ENGINEERING CORP L",
          "601877.SS ZHEJIANG CHINT ELECTRICS CO LTD",
          "601878.SS ZHESHANG SECURITIES CO. LTD",
          "601881.SS CHINA GALAXY SECURITIES CO",
          "601888.SS CHINA TOURISM GROUP DUTY FREE C",
          "601898.SS CHINA COAL ENERGY COMPANY",
          "601899.SS ZIJIN MINING GROUP CO.LTD",
          "601901.SS FOUNDER SECURITIES CO LTD",
          "601916.SS CHINA ZHESHANG BANK CO. LTD",
          "601919.SS COSCO SHIPPING HOLDINGS",
          "601933.SS YONGHUI SUPERSTORES CO LTD",
          "601939.SS CHINA CONSTRUCTION BANK",
          "601966.SS SHANDONG LINGLONG TYRE CO LTD",
          "601985.SS CHINA NATIONAL NUCLEAR POWER CO",
          "601988.SS BANK OF CHINA LTD",
          "601989.SS CHINA SHIPBUILDING INDUSTRY COR",
          "601990.SS NANJING SECURITIES CO. LTD.",
          "601995.SS CHINA INTL CAPITAL CORPORATION ",
          "601998.SS CHINA CITIC BANK CORPORATION LT",
          "603019.SS DAWNING INFORMATION INDUSTRY CO",
          "603087.SS GAN&LEE PHARMACEUTICALS CO LTD",
          "603160.SS SHENZHEN GOODIX TECHNOLOGY CO L",
          "603195.SS GONGNIU GROUP CO LTD",
          "603233.SS DASHENLIN PHARMACEUTICAL GROUP ",
          "603259.SS WUXI APPTEC CO LTD",
          "603260.SS HOSHINE SILICON INDUSTRY CO LTD",
          "603288.SS FOSHAN HAITIAN FLAVOURING AND F",
          "603338.SS ZHEJIANG DINGLI MACHINERY CO LT",
          "603369.SS JIANGSU KING'S LUCK BREWERY JSC",
          "603486.SS ECOVACS ROBOTICS CO LTD",
          "603501.SS WILL SEMICONDUCTOR CO LTD SHANG",
          "603517.SS JUEWEI FOOD CO LTD",
          "603658.SS AUTOBIO DIAGNOSTICS CO LTD",
          "603659.SS SHANGHAI PUTAILAI NEW ENERGY TE",
          "603799.SS ZHEJIANG HUAYOU COBALT CO LTD",
          "603806.SS HANGZHOU FIRST APPLIED MATERIAL",
          "603833.SS OPPEIN HOME GROUP INC",
          "603882.SS GUANGZHOU KINGMED DIAGNOSTICS G",
          "603899.SS SHANGHAI MG STATIONERY INC",
          "603939.SS YIFENG PHARMACY CHAIN CO LTD",
          "603986.SS GIGA DEVICE SEMICONDUCTOR (BEIJ",
          "603993.SS CHINA MOLYBDENUM CO. LTD.",
          "605499.SS EASTROC BEVERAGE (GROUP) CO LTD",
          "688008.SS MONTAGE TECHNOLOGY CO LTD",
          "688009.SS CHINA RAILWAY SIGNAL & COM CORP",
          "688012.SS ADVANCED MICRO-FABRICATION EQUI",
          "688036.SS SHENZHEN TRANSSION HOLDINGS CO ",
          "688111.SS BEIJING KINGSOFT OFFICE SOFTWAR",
          "688126.SS NATIONAL SILICON INDUSTRY GROUP",
          "688169.SS BEIJING ROBOROCK TECHNOLOGY CO ",
          "688363.SS BLOOMAGE BIOTECHNOLOGY CORPORAT",
          "688396.SS CHINA RESOURCES MICROELECTRONIC",
          "688561.SS QI AN XIN TECHNOLOGY GROUP INC",
          "688599.SS TRINA SOLAR CO LTD",
          "688981.SS SEMICONDUCTOR MANUFACTURING INT"
         ],
         "legendgroup": "",
         "marker": {
          "color": "#636efa",
          "symbol": "circle"
         },
         "mode": "markers",
         "name": "",
         "orientation": "v",
         "showlegend": false,
         "type": "scatter",
         "x": [
          -0.001123725473386346,
          -0.0047419769242806175,
          -0.006493893196543949,
          -0.0012585432742095593,
          0.0007724008015443863,
          -0.0008853674148839657,
          0.0010572392122416832,
          -0.0006503501318658778,
          0.010392774225906367,
          0.0016311040906473115,
          0.00011061000896058664,
          -7.272851976591768e-05,
          0.0008408960947334121,
          0.009107660245775162,
          0.0032440709207444906,
          0.002824967449613561,
          -0.004626765411414326,
          -0.0033368991099191007,
          -0.0013659746397702067,
          0.0018679627844546613,
          -0.0006424869168531472,
          0.004459213381563003,
          0.0019099833939977258,
          -0.002021690841960403,
          -0.0005848524408540258,
          -0.0009719351858165705,
          0.003123803874832146,
          -0.0062373150597802365,
          -0.0018899552613620297,
          -0.003999024655455745,
          0.006186817278848059,
          -0.0022048100191379458,
          -0.0014807241212881652,
          0.004002468859698526,
          -0.0029511539417229446,
          0.0030679567017120267,
          -0.009363458258605134,
          0.0031641734319486498,
          -0.003858062375383725,
          -0.007550647356049615,
          0.013571281594740981,
          0.0007006881769707553,
          0.0037729063308688795,
          -0.0018430427967354665,
          0.008896742055831422,
          0.002963266536139507,
          -0.008403692700169453,
          0.008223316257317178,
          0.003563190347062033,
          0.0011281047415663207,
          -0.0005976661547470122,
          0.007796280694566238,
          -0.00340376458088522,
          0.0060718045332889565,
          0.004450017287063567,
          0.005542861736743294,
          0.0020078779118188044,
          0.008737929826344975,
          0.0020358538151938064,
          0.0007377451021844326,
          0.003461536276343713,
          0.01854448931890621,
          0.009192005362184013,
          0.010307693646569985,
          0.0024657019645053253,
          0.0053514661050007226,
          -0.0037674352433606415,
          0.0050373838992778955,
          0.013115368643682313,
          -0.005941956201675581,
          0.003954830550825529,
          -0.006069359899063416,
          -0.012423373502039092,
          -0.008209663074338534,
          0.018346846619652128,
          -0.00024607551395291685,
          -0.0017140211004237947,
          0.006411633917172334,
          0.014529008606535773,
          0.007909893495545864,
          -0.0008801934297714552,
          -0.005378928647820909,
          -0.0013701225558184606,
          -0.0004754782553057076,
          -0.006753480168378526,
          0.007604807490030973,
          0.002450165207464133,
          -0.000831482194909773,
          0.006271783250269393,
          0.005152475029887553,
          0.007273591566893092,
          0.002561545795424983,
          -0.0028687552538749273,
          0.023783508532772304,
          0.009700919010635673,
          0.00281462314216508,
          0.004065859217609837,
          -0.003464138581906264,
          -0.0016629475795672227,
          0.006975029551738971,
          -0.0028332113173394294,
          -0.0006112148251096003,
          -0.0021383607388443565,
          0.0028520388085097096,
          -0.003647010566812789,
          0.003027966758484563,
          -0.0002257926981487973,
          0.008078091350600341,
          0.014008441729626508,
          0.006035259077649042,
          0.002383088853691047,
          0.0030222149199895976,
          -0.005611567436171762,
          -0.004465972142016428,
          0.009764820508847076,
          0.0001909541677009461,
          -0.002282029073462371,
          -0.004103940368514907,
          0.006094904447462412,
          0.005477379936424305,
          -0.001891207741304339,
          -0.0033558543709087934,
          0.0012087709700403504,
          0.00373737885026883,
          0.005221489408604284,
          -0.0003754862197449689,
          0.0003177295691156812,
          -0.001481945891816124,
          0.0002460381633403089,
          0.0025733983778958576,
          0.001149235959456359,
          -0.004157078974046002,
          -0.0025553272196889507,
          0.001904903166806141,
          0.004232528979574616,
          -0.0015115458235918828,
          -0.0006734409748065232,
          0.013159795030670919,
          0.0006866438970909404,
          0.008262576715504845,
          0.002156446257802803,
          -4.11121077672055e-05,
          -7.69511222077587e-05,
          0.006616540214922824,
          -0.006030425625263663,
          0.004027281199124269,
          -0.004691460795953886,
          0.005504722683289017,
          -0.0012701673019127621,
          0.0032220696771589276,
          -0.0015643085840344416,
          0.002970397199607345,
          0.0001241226900588005,
          0.006752232063516983,
          0.007751804099348104,
          0.009659812290722125,
          0.01031454899168883,
          0.0011872298817065725,
          0.004864481836935769,
          -0.0005123689016191509,
          0.0004158627221744803,
          -0.0001844846141026634,
          -0.003650426874477721,
          -0.0018864240434305806,
          0.007295397873699271,
          -0.002622651833617826,
          0.0024899119306967645,
          0.005720285312451499,
          0.0036412422921996376,
          -8.8475665287537e-05,
          -0.0015173783940597128,
          0.00812554477100942,
          0.002264318628575407,
          0.002581024937928852,
          0.013544335986652835,
          -0.0027357606828083123,
          0.0034148403651972146,
          -0.0019492290155299523,
          -0.0040907933933198104,
          0.0024793088485992763,
          0.002496424268856096,
          0.005260044063340008,
          0.0027901800391972515,
          0.004400891158083915,
          0.00013374752522180383,
          0.0010876303407344012,
          0.004415301045370032,
          0.0002965102394044572,
          0.005267625663815038,
          0.00010587974944787848,
          0.00014228611780180316,
          0.0029532638706352148,
          0.013785486679205868,
          0.002729301270080354,
          -0.0039410527709499345,
          0.0052085262285004215,
          0.005263533864266325,
          -0.00239966837650801,
          0.0005526744643482171,
          -0.00374568029318594,
          -0.001985224519173716,
          -0.006247321556266479,
          0.001743934462669752,
          -0.0006155457497128981,
          -0.003004424561714962,
          -0.0009450812521550941,
          0.006860679316857497,
          0.006401408987921861,
          -0.0018031978365416876,
          -0.004111120496832247,
          -0.009243818562604504,
          -0.0004802461003822058,
          -0.000719724074074761,
          -0.004845216626558689,
          -0.004333693675830489,
          -0.0003655789298604849,
          -0.002179585754548352,
          -0.006597098895718082,
          0.0011767793609910016,
          0.000815669140298695,
          -0.0007180111486581485,
          0.005450063174028668,
          -0.002495937849040979,
          0.0005261994659965252,
          0.0036069677400292228,
          -0.001536043146050214,
          0.011838847282614254,
          6.5094473235317e-06,
          8.088458759868405e-05,
          0.006055338896836269,
          -0.00241917085683232,
          -0.007909212055824472,
          -0.003571221225741626,
          -0.004491752926633228,
          -0.001384239858227027,
          0.0001188766802948336,
          0.003545443185797578,
          -0.0001475846993621322,
          0.00040687729376677115,
          -0.00333276319594156,
          -0.000685203996303113,
          0.00570514760647744,
          0.0004821016184289224,
          0.01511612583641764,
          -0.0022321525447226488,
          0.007067466026453414,
          -0.0011402891201893175,
          -0.0011717161671828981,
          0.006947937506175224,
          0.004576888583172982,
          0.009358023267705722,
          -0.0015394275465167345,
          -0.0018452502117479222,
          0.01486538020695858,
          -0.008994501803610553,
          -0.00047228087311346315,
          0.0017234801038258027,
          0.0048260499789268925,
          -0.0005964578998680333,
          -0.0011621312616022044,
          -0.008116574570998339,
          -0.0033265061104929355,
          -0.0012512889034904714,
          -0.0009296023110789838,
          -0.00559099178768295,
          -0.011654639149312978,
          -0.0009660338464907962,
          -0.001536862679820642,
          0.00658210444609194,
          0.014832510188991236,
          0.0036667848456493767,
          0.0016629746330071606,
          0.00355721811640713,
          0.015839556795066594,
          0.004155185347258832,
          -0.0002907792416731372,
          -0.007219393661931875,
          0.008755707837059742,
          0.008830450808328458,
          0.01535739060259748,
          0.004624666582623117,
          0.002475184663074312,
          0.002137804106922357,
          -0.00032360531626892135,
          -0.00035730876896587045,
          0.0020441375324460904,
          0.007457690221720526,
          -0.0015188362558559386,
          -0.003418527069977666,
          -0.0021224543108057654,
          0.008002059285856577,
          -0.0007162032658625904,
          0.007703258960015959,
          0.0035193755952480296,
          0.0031189626604976504,
          0.0021683204806654623,
          -0.00662514168470687,
          0.014985021434182892,
          -0.004486513951208524
         ],
         "xaxis": "x",
         "y": [
          0.38790625761132924,
          0.3135793680413077,
          0.36113335401784824,
          0.44566335281776953,
          0.380971795879924,
          0.4119380270186028,
          0.41462356968049346,
          0.32331434983778273,
          0.6167599045720795,
          0.3215513181933465,
          0.37047180410564606,
          0.32390112204757765,
          0.4003063750906679,
          0.5045161298766713,
          0.475125924237667,
          0.5447441988348044,
          0.25220325372235436,
          0.5404917355938273,
          0.3593270753346653,
          0.40686739943322797,
          0.3333447049613594,
          0.46763711617470793,
          0.32783749819128877,
          0.31961307546934103,
          0.4789389584502905,
          0.29023645984174484,
          0.4173341359731008,
          0.40286634627081697,
          0.364729464533357,
          0.44644760277562756,
          0.5324872375741565,
          0.37198137702272244,
          0.3098947139694406,
          0.3021883933069987,
          0.45547699490256677,
          0.42769432587462203,
          0.2946264423014511,
          0.3949039097598405,
          0.2871932320401822,
          0.5564687430035153,
          0.5487218703497247,
          0.44260961223815626,
          0.48234749390053094,
          0.4422356684546055,
          0.4407328450092528,
          0.3429358700386114,
          0.4513045772015619,
          0.39632897553067264,
          0.4436180332541193,
          0.3843446157739931,
          0.3951293199160918,
          0.5116958306843347,
          0.26909670989647383,
          0.4327015055963897,
          0.4490700936809804,
          0.3896951600894313,
          0.4105994947473609,
          0.611229698406154,
          0.38809178198803446,
          0.45729648569239423,
          0.3800024877791274,
          0.6146718640049345,
          0.5834016649680109,
          0.7448593700898127,
          0.47019047000888964,
          0.4876764769251581,
          0.5116250874582482,
          0.5859299791214766,
          0.5179187030571204,
          0.4256995746880088,
          0.49577151407664555,
          0.39168242533153447,
          0.5003020298403359,
          0.4614754892057555,
          0.6081196394323064,
          0.45481734533391943,
          0.2663454800421575,
          0.5990272326647161,
          0.5228141311959752,
          0.47801741266539527,
          0.4021970995647297,
          0.5000560157314365,
          0.4457066825602358,
          0.19129659137058475,
          0.408804648907865,
          0.579386686737719,
          0.46196053393655645,
          0.4655440467972414,
          0.44890560937738033,
          0.5500386657793481,
          0.5417390183398333,
          0.6057105909980546,
          0.4357722121152264,
          0.6495283744004325,
          0.5216149497971873,
          0.5548096024364307,
          0.3604124978966615,
          0.5327027398908738,
          0.5102305549966338,
          0.4591837554556471,
          0.2809316161129904,
          0.4570955886923459,
          0.4991889816717495,
          0.5680866914798008,
          0.5951529561119833,
          0.38277376724867923,
          0.5137328875227647,
          0.6754866076252599,
          0.4486226123954747,
          0.5152926531505445,
          0.42018321250975466,
          0.5604297160146632,
          0.4241518268080438,
          0.4351447897168531,
          0.5664720991586542,
          0.5261942175360966,
          0.17227893955597343,
          0.4132480912599464,
          0.5177924175340436,
          0.5333945877968801,
          0.14924942887023526,
          0.12641420961004343,
          0.30857924398148356,
          0.3590446177086365,
          0.3346933720716465,
          0.16463019674178814,
          0.29482209801807696,
          0.3009421894422591,
          0.39679742835571574,
          0.29182146668086756,
          0.35251468324953716,
          0.17161757723066062,
          0.3184237058418786,
          0.4409597539647894,
          0.37060217076023916,
          0.33862590954280725,
          0.4069340984112264,
          0.6232109249919514,
          0.2998773508593023,
          0.543048645221502,
          0.5034009987780081,
          0.3868652642904364,
          0.4009618591544591,
          0.428281965912405,
          0.40035943180529937,
          0.6032110613632544,
          0.35337270467395937,
          0.4120739445691231,
          0.2955563786999895,
          0.4867349679980704,
          0.32821964054983127,
          0.4675429275540799,
          0.4285742582976471,
          0.39655518110851906,
          0.4624013802993492,
          0.43036216715438463,
          0.5630554000320587,
          0.29793406141903256,
          0.32029398651853214,
          0.2916893921294064,
          0.3457921054062111,
          0.4900074540643458,
          0.29876170335327934,
          0.41876350752582303,
          0.4456995946620738,
          0.39826814018746387,
          0.5269571072684117,
          0.4414522472452765,
          0.3893944204779848,
          0.3861537968213747,
          0.5299099466864456,
          0.6051947671272229,
          0.5701078321751342,
          0.2775077249499294,
          0.4980745849902199,
          0.24819399646382653,
          0.3928335886848748,
          0.3030935679248237,
          0.4386246471155977,
          0.2892453266181297,
          0.29435753652332525,
          0.620188764784818,
          0.19970943993930346,
          0.37569854912728456,
          0.56091892361961,
          0.2554379207307649,
          0.37127650337275747,
          0.4339173338874256,
          0.4434314927086414,
          0.36828192776903523,
          0.13625109784308842,
          0.2689873645505431,
          0.5339917813086686,
          0.3731164312015916,
          0.41890845222323564,
          0.29302168701100506,
          0.4339557774612438,
          0.381757710981174,
          0.33931332207103365,
          0.25425173206546836,
          0.43886145531495263,
          0.3239988479640671,
          0.3035725734841481,
          0.12850398204876828,
          0.22374430381296037,
          0.23271391880240647,
          0.6846135034421038,
          0.37682681187968503,
          0.16268392611997437,
          0.4264921857294919,
          0.359332805858853,
          0.44216290479526915,
          0.09488322827384252,
          0.27373347865581227,
          0.23463796886487084,
          0.11484366205290382,
          0.32295136472758407,
          0.26791627824448855,
          0.4809629611430416,
          0.22898346750133722,
          0.12600325079687213,
          0.4906667927845454,
          0.338567850348345,
          0.2803889617025858,
          0.3914029410141693,
          0.38751278013924406,
          0.5867012548758366,
          0.25479971018170633,
          0.19062496262595538,
          0.4722563256126403,
          0.2810498072276964,
          0.5480329670770184,
          0.42801580821097474,
          0.21267797317771392,
          0.26085908676012887,
          0.4960633019840081,
          0.4099174305473636,
          0.29988526761381273,
          0.3556548209081466,
          0.2071353201308783,
          0.2223700661359187,
          0.3369731471912625,
          0.22386611270207424,
          0.645780021253745,
          0.24945721241397775,
          0.39888122805711795,
          0.5109951370279304,
          0.3229459076327018,
          0.5496460218958671,
          0.3930307665333099,
          0.48621666258296875,
          0.3230829876841778,
          0.1564403806628174,
          0.6398585903265829,
          0.24167746003630533,
          0.17330584280942,
          0.4668784314012378,
          0.3021182343460368,
          0.09336362455064244,
          0.22942353075847713,
          0.36903521818514456,
          0.3702120511152703,
          0.1525334164718631,
          0.371740510526042,
          0.5435005611656979,
          0.39327890222819406,
          0.3798399498924604,
          0.4535327784064976,
          0.46576093934914214,
          0.6522492939793842,
          0.3895004364662771,
          0.5456858548982547,
          0.45192811104084235,
          0.5718258740170338,
          0.47373428385293354,
          0.4316162370640249,
          0.42173335180073074,
          0.5468395450980187,
          0.5934615594577362,
          0.5607365286364685,
          0.3796552081493545,
          0.5116694768255197,
          0.3468732162060676,
          0.4062919010016749,
          0.5365612252849192,
          0.48124807804750763,
          0.5986483520324006,
          0.5253177160110292,
          0.19067317634695188,
          0.6092943697919034,
          0.5879403658282415,
          0.5395213567367675,
          0.6781367037561211,
          0.6301972031603996,
          0.49898530164593996,
          0.5535073219254946,
          0.41359351821906926,
          0.5681067984224958,
          0.36857343567304174
         ],
         "yaxis": "y"
        }
       ],
       "layout": {
        "legend": {
         "tracegroupgap": 0
        },
        "margin": {
         "t": 60
        },
        "template": {
         "data": {
          "bar": [
           {
            "error_x": {
             "color": "#2a3f5f"
            },
            "error_y": {
             "color": "#2a3f5f"
            },
            "marker": {
             "line": {
              "color": "#E5ECF6",
              "width": 0.5
             },
             "pattern": {
              "fillmode": "overlay",
              "size": 10,
              "solidity": 0.2
             }
            },
            "type": "bar"
           }
          ],
          "barpolar": [
           {
            "marker": {
             "line": {
              "color": "#E5ECF6",
              "width": 0.5
             },
             "pattern": {
              "fillmode": "overlay",
              "size": 10,
              "solidity": 0.2
             }
            },
            "type": "barpolar"
           }
          ],
          "carpet": [
           {
            "aaxis": {
             "endlinecolor": "#2a3f5f",
             "gridcolor": "white",
             "linecolor": "white",
             "minorgridcolor": "white",
             "startlinecolor": "#2a3f5f"
            },
            "baxis": {
             "endlinecolor": "#2a3f5f",
             "gridcolor": "white",
             "linecolor": "white",
             "minorgridcolor": "white",
             "startlinecolor": "#2a3f5f"
            },
            "type": "carpet"
           }
          ],
          "choropleth": [
           {
            "colorbar": {
             "outlinewidth": 0,
             "ticks": ""
            },
            "type": "choropleth"
           }
          ],
          "contour": [
           {
            "colorbar": {
             "outlinewidth": 0,
             "ticks": ""
            },
            "colorscale": [
             [
              0,
              "#0d0887"
             ],
             [
              0.1111111111111111,
              "#46039f"
             ],
             [
              0.2222222222222222,
              "#7201a8"
             ],
             [
              0.3333333333333333,
              "#9c179e"
             ],
             [
              0.4444444444444444,
              "#bd3786"
             ],
             [
              0.5555555555555556,
              "#d8576b"
             ],
             [
              0.6666666666666666,
              "#ed7953"
             ],
             [
              0.7777777777777778,
              "#fb9f3a"
             ],
             [
              0.8888888888888888,
              "#fdca26"
             ],
             [
              1,
              "#f0f921"
             ]
            ],
            "type": "contour"
           }
          ],
          "contourcarpet": [
           {
            "colorbar": {
             "outlinewidth": 0,
             "ticks": ""
            },
            "type": "contourcarpet"
           }
          ],
          "heatmap": [
           {
            "colorbar": {
             "outlinewidth": 0,
             "ticks": ""
            },
            "colorscale": [
             [
              0,
              "#0d0887"
             ],
             [
              0.1111111111111111,
              "#46039f"
             ],
             [
              0.2222222222222222,
              "#7201a8"
             ],
             [
              0.3333333333333333,
              "#9c179e"
             ],
             [
              0.4444444444444444,
              "#bd3786"
             ],
             [
              0.5555555555555556,
              "#d8576b"
             ],
             [
              0.6666666666666666,
              "#ed7953"
             ],
             [
              0.7777777777777778,
              "#fb9f3a"
             ],
             [
              0.8888888888888888,
              "#fdca26"
             ],
             [
              1,
              "#f0f921"
             ]
            ],
            "type": "heatmap"
           }
          ],
          "heatmapgl": [
           {
            "colorbar": {
             "outlinewidth": 0,
             "ticks": ""
            },
            "colorscale": [
             [
              0,
              "#0d0887"
             ],
             [
              0.1111111111111111,
              "#46039f"
             ],
             [
              0.2222222222222222,
              "#7201a8"
             ],
             [
              0.3333333333333333,
              "#9c179e"
             ],
             [
              0.4444444444444444,
              "#bd3786"
             ],
             [
              0.5555555555555556,
              "#d8576b"
             ],
             [
              0.6666666666666666,
              "#ed7953"
             ],
             [
              0.7777777777777778,
              "#fb9f3a"
             ],
             [
              0.8888888888888888,
              "#fdca26"
             ],
             [
              1,
              "#f0f921"
             ]
            ],
            "type": "heatmapgl"
           }
          ],
          "histogram": [
           {
            "marker": {
             "pattern": {
              "fillmode": "overlay",
              "size": 10,
              "solidity": 0.2
             }
            },
            "type": "histogram"
           }
          ],
          "histogram2d": [
           {
            "colorbar": {
             "outlinewidth": 0,
             "ticks": ""
            },
            "colorscale": [
             [
              0,
              "#0d0887"
             ],
             [
              0.1111111111111111,
              "#46039f"
             ],
             [
              0.2222222222222222,
              "#7201a8"
             ],
             [
              0.3333333333333333,
              "#9c179e"
             ],
             [
              0.4444444444444444,
              "#bd3786"
             ],
             [
              0.5555555555555556,
              "#d8576b"
             ],
             [
              0.6666666666666666,
              "#ed7953"
             ],
             [
              0.7777777777777778,
              "#fb9f3a"
             ],
             [
              0.8888888888888888,
              "#fdca26"
             ],
             [
              1,
              "#f0f921"
             ]
            ],
            "type": "histogram2d"
           }
          ],
          "histogram2dcontour": [
           {
            "colorbar": {
             "outlinewidth": 0,
             "ticks": ""
            },
            "colorscale": [
             [
              0,
              "#0d0887"
             ],
             [
              0.1111111111111111,
              "#46039f"
             ],
             [
              0.2222222222222222,
              "#7201a8"
             ],
             [
              0.3333333333333333,
              "#9c179e"
             ],
             [
              0.4444444444444444,
              "#bd3786"
             ],
             [
              0.5555555555555556,
              "#d8576b"
             ],
             [
              0.6666666666666666,
              "#ed7953"
             ],
             [
              0.7777777777777778,
              "#fb9f3a"
             ],
             [
              0.8888888888888888,
              "#fdca26"
             ],
             [
              1,
              "#f0f921"
             ]
            ],
            "type": "histogram2dcontour"
           }
          ],
          "mesh3d": [
           {
            "colorbar": {
             "outlinewidth": 0,
             "ticks": ""
            },
            "type": "mesh3d"
           }
          ],
          "parcoords": [
           {
            "line": {
             "colorbar": {
              "outlinewidth": 0,
              "ticks": ""
             }
            },
            "type": "parcoords"
           }
          ],
          "pie": [
           {
            "automargin": true,
            "type": "pie"
           }
          ],
          "scatter": [
           {
            "marker": {
             "colorbar": {
              "outlinewidth": 0,
              "ticks": ""
             }
            },
            "type": "scatter"
           }
          ],
          "scatter3d": [
           {
            "line": {
             "colorbar": {
              "outlinewidth": 0,
              "ticks": ""
             }
            },
            "marker": {
             "colorbar": {
              "outlinewidth": 0,
              "ticks": ""
             }
            },
            "type": "scatter3d"
           }
          ],
          "scattercarpet": [
           {
            "marker": {
             "colorbar": {
              "outlinewidth": 0,
              "ticks": ""
             }
            },
            "type": "scattercarpet"
           }
          ],
          "scattergeo": [
           {
            "marker": {
             "colorbar": {
              "outlinewidth": 0,
              "ticks": ""
             }
            },
            "type": "scattergeo"
           }
          ],
          "scattergl": [
           {
            "marker": {
             "colorbar": {
              "outlinewidth": 0,
              "ticks": ""
             }
            },
            "type": "scattergl"
           }
          ],
          "scattermapbox": [
           {
            "marker": {
             "colorbar": {
              "outlinewidth": 0,
              "ticks": ""
             }
            },
            "type": "scattermapbox"
           }
          ],
          "scatterpolar": [
           {
            "marker": {
             "colorbar": {
              "outlinewidth": 0,
              "ticks": ""
             }
            },
            "type": "scatterpolar"
           }
          ],
          "scatterpolargl": [
           {
            "marker": {
             "colorbar": {
              "outlinewidth": 0,
              "ticks": ""
             }
            },
            "type": "scatterpolargl"
           }
          ],
          "scatterternary": [
           {
            "marker": {
             "colorbar": {
              "outlinewidth": 0,
              "ticks": ""
             }
            },
            "type": "scatterternary"
           }
          ],
          "surface": [
           {
            "colorbar": {
             "outlinewidth": 0,
             "ticks": ""
            },
            "colorscale": [
             [
              0,
              "#0d0887"
             ],
             [
              0.1111111111111111,
              "#46039f"
             ],
             [
              0.2222222222222222,
              "#7201a8"
             ],
             [
              0.3333333333333333,
              "#9c179e"
             ],
             [
              0.4444444444444444,
              "#bd3786"
             ],
             [
              0.5555555555555556,
              "#d8576b"
             ],
             [
              0.6666666666666666,
              "#ed7953"
             ],
             [
              0.7777777777777778,
              "#fb9f3a"
             ],
             [
              0.8888888888888888,
              "#fdca26"
             ],
             [
              1,
              "#f0f921"
             ]
            ],
            "type": "surface"
           }
          ],
          "table": [
           {
            "cells": {
             "fill": {
              "color": "#EBF0F8"
             },
             "line": {
              "color": "white"
             }
            },
            "header": {
             "fill": {
              "color": "#C8D4E3"
             },
             "line": {
              "color": "white"
             }
            },
            "type": "table"
           }
          ]
         },
         "layout": {
          "annotationdefaults": {
           "arrowcolor": "#2a3f5f",
           "arrowhead": 0,
           "arrowwidth": 1
          },
          "autotypenumbers": "strict",
          "coloraxis": {
           "colorbar": {
            "outlinewidth": 0,
            "ticks": ""
           }
          },
          "colorscale": {
           "diverging": [
            [
             0,
             "#8e0152"
            ],
            [
             0.1,
             "#c51b7d"
            ],
            [
             0.2,
             "#de77ae"
            ],
            [
             0.3,
             "#f1b6da"
            ],
            [
             0.4,
             "#fde0ef"
            ],
            [
             0.5,
             "#f7f7f7"
            ],
            [
             0.6,
             "#e6f5d0"
            ],
            [
             0.7,
             "#b8e186"
            ],
            [
             0.8,
             "#7fbc41"
            ],
            [
             0.9,
             "#4d9221"
            ],
            [
             1,
             "#276419"
            ]
           ],
           "sequential": [
            [
             0,
             "#0d0887"
            ],
            [
             0.1111111111111111,
             "#46039f"
            ],
            [
             0.2222222222222222,
             "#7201a8"
            ],
            [
             0.3333333333333333,
             "#9c179e"
            ],
            [
             0.4444444444444444,
             "#bd3786"
            ],
            [
             0.5555555555555556,
             "#d8576b"
            ],
            [
             0.6666666666666666,
             "#ed7953"
            ],
            [
             0.7777777777777778,
             "#fb9f3a"
            ],
            [
             0.8888888888888888,
             "#fdca26"
            ],
            [
             1,
             "#f0f921"
            ]
           ],
           "sequentialminus": [
            [
             0,
             "#0d0887"
            ],
            [
             0.1111111111111111,
             "#46039f"
            ],
            [
             0.2222222222222222,
             "#7201a8"
            ],
            [
             0.3333333333333333,
             "#9c179e"
            ],
            [
             0.4444444444444444,
             "#bd3786"
            ],
            [
             0.5555555555555556,
             "#d8576b"
            ],
            [
             0.6666666666666666,
             "#ed7953"
            ],
            [
             0.7777777777777778,
             "#fb9f3a"
            ],
            [
             0.8888888888888888,
             "#fdca26"
            ],
            [
             1,
             "#f0f921"
            ]
           ]
          },
          "colorway": [
           "#636efa",
           "#EF553B",
           "#00cc96",
           "#ab63fa",
           "#FFA15A",
           "#19d3f3",
           "#FF6692",
           "#B6E880",
           "#FF97FF",
           "#FECB52"
          ],
          "font": {
           "color": "#2a3f5f"
          },
          "geo": {
           "bgcolor": "white",
           "lakecolor": "white",
           "landcolor": "#E5ECF6",
           "showlakes": true,
           "showland": true,
           "subunitcolor": "white"
          },
          "hoverlabel": {
           "align": "left"
          },
          "hovermode": "closest",
          "mapbox": {
           "style": "light"
          },
          "paper_bgcolor": "white",
          "plot_bgcolor": "#E5ECF6",
          "polar": {
           "angularaxis": {
            "gridcolor": "white",
            "linecolor": "white",
            "ticks": ""
           },
           "bgcolor": "#E5ECF6",
           "radialaxis": {
            "gridcolor": "white",
            "linecolor": "white",
            "ticks": ""
           }
          },
          "scene": {
           "xaxis": {
            "backgroundcolor": "#E5ECF6",
            "gridcolor": "white",
            "gridwidth": 2,
            "linecolor": "white",
            "showbackground": true,
            "ticks": "",
            "zerolinecolor": "white"
           },
           "yaxis": {
            "backgroundcolor": "#E5ECF6",
            "gridcolor": "white",
            "gridwidth": 2,
            "linecolor": "white",
            "showbackground": true,
            "ticks": "",
            "zerolinecolor": "white"
           },
           "zaxis": {
            "backgroundcolor": "#E5ECF6",
            "gridcolor": "white",
            "gridwidth": 2,
            "linecolor": "white",
            "showbackground": true,
            "ticks": "",
            "zerolinecolor": "white"
           }
          },
          "shapedefaults": {
           "line": {
            "color": "#2a3f5f"
           }
          },
          "ternary": {
           "aaxis": {
            "gridcolor": "white",
            "linecolor": "white",
            "ticks": ""
           },
           "baxis": {
            "gridcolor": "white",
            "linecolor": "white",
            "ticks": ""
           },
           "bgcolor": "#E5ECF6",
           "caxis": {
            "gridcolor": "white",
            "linecolor": "white",
            "ticks": ""
           }
          },
          "title": {
           "x": 0.05
          },
          "xaxis": {
           "automargin": true,
           "gridcolor": "white",
           "linecolor": "white",
           "ticks": "",
           "title": {
            "standoff": 15
           },
           "zerolinecolor": "white",
           "zerolinewidth": 2
          },
          "yaxis": {
           "automargin": true,
           "gridcolor": "white",
           "linecolor": "white",
           "ticks": "",
           "title": {
            "standoff": 15
           },
           "zerolinecolor": "white",
           "zerolinewidth": 2
          }
         }
        },
        "xaxis": {
         "anchor": "y",
         "domain": [
          0,
          1
         ],
         "title": {
          "text": "mean_return"
         }
        },
        "yaxis": {
         "anchor": "x",
         "domain": [
          0,
          1
         ],
         "title": {
          "text": "ann_vol"
         }
        }
       }
      }
     },
     "metadata": {},
     "output_type": "display_data"
    }
   ],
   "source": [
    "fig_mean_var.show('json')"
   ]
  },
  {
   "cell_type": "code",
   "execution_count": 204,
   "id": "4c65623a-3113-4030-8db5-c3700ed7bc1e",
   "metadata": {},
   "outputs": [
    {
     "ename": "AttributeError",
     "evalue": "'DataFrame' object has no attribute 'hover_name'",
     "output_type": "error",
     "traceback": [
      "\u001b[1;31m---------------------------------------------------------------------------\u001b[0m",
      "\u001b[1;31mAttributeError\u001b[0m                            Traceback (most recent call last)",
      "Input \u001b[1;32mIn [205]\u001b[0m, in \u001b[0;36m<module>\u001b[1;34m\u001b[0m\n\u001b[0;32m      5\u001b[0m \u001b[38;5;66;03m# filtered_df = mean_var.loc[mean_var['index'].isin(output), :]\u001b[39;00m\n\u001b[0;32m      6\u001b[0m filtered_df \u001b[38;5;241m=\u001b[39m mean_var\n\u001b[1;32m----> 8\u001b[0m fig_mean_var \u001b[38;5;241m=\u001b[39m px\u001b[38;5;241m.\u001b[39mscatter(mean_var\u001b[38;5;241m.\u001b[39mloc[\u001b[38;5;241m~\u001b[39m\u001b[43mmean_var\u001b[49m\u001b[38;5;241;43m.\u001b[39;49m\u001b[43mhover_name\u001b[49m\u001b[38;5;241m.\u001b[39misin(output)], x\u001b[38;5;241m=\u001b[39m\u001b[38;5;124m\"\u001b[39m\u001b[38;5;124mmean_return\u001b[39m\u001b[38;5;124m\"\u001b[39m, y\u001b[38;5;241m=\u001b[39m\u001b[38;5;124m\"\u001b[39m\u001b[38;5;124mann_vol\u001b[39m\u001b[38;5;124m\"\u001b[39m, hover_name\u001b[38;5;241m=\u001b[39m\u001b[38;5;124m\"\u001b[39m\u001b[38;5;124mhover_name\u001b[39m\u001b[38;5;124m\"\u001b[39m, \n\u001b[0;32m      9\u001b[0m          \u001b[38;5;66;03m# color=\"\", hover_name=\"\", size=5,\u001b[39;00m\n\u001b[0;32m     10\u001b[0m          log_x\u001b[38;5;241m=\u001b[39m\u001b[38;5;28;01mFalse\u001b[39;00m, size_max\u001b[38;5;241m=\u001b[39m\u001b[38;5;241m60\u001b[39m)\n\u001b[0;32m     12\u001b[0m fig_mean_var \u001b[38;5;241m=\u001b[39m go\u001b[38;5;241m.\u001b[39mFigure(fig_mean_var)\n\u001b[0;32m     13\u001b[0m fig_mean_var\u001b[38;5;241m.\u001b[39madd_trace(go\u001b[38;5;241m.\u001b[39mScatter(\n\u001b[0;32m     14\u001b[0m                             x\u001b[38;5;241m=\u001b[39mmean_var\u001b[38;5;241m.\u001b[39mloc[mean_var\u001b[38;5;241m.\u001b[39mhover_name\u001b[38;5;241m.\u001b[39misin(output),\u001b[38;5;124m'\u001b[39m\u001b[38;5;124mmean_return\u001b[39m\u001b[38;5;124m'\u001b[39m],\n\u001b[0;32m     15\u001b[0m                             y\u001b[38;5;241m=\u001b[39mmean_var\u001b[38;5;241m.\u001b[39mloc[mean_var\u001b[38;5;241m.\u001b[39mhover_name\u001b[38;5;241m.\u001b[39misin(output),\u001b[38;5;124m'\u001b[39m\u001b[38;5;124mann_vol\u001b[39m\u001b[38;5;124m'\u001b[39m],\n\u001b[1;32m   (...)\u001b[0m\n\u001b[0;32m     27\u001b[0m                             \n\u001b[0;32m     28\u001b[0m                       )                        \n",
      "File \u001b[1;32m~\\.conda\\envs\\capstone\\lib\\site-packages\\pandas\\core\\generic.py:5583\u001b[0m, in \u001b[0;36mNDFrame.__getattr__\u001b[1;34m(self, name)\u001b[0m\n\u001b[0;32m   5576\u001b[0m \u001b[38;5;28;01mif\u001b[39;00m (\n\u001b[0;32m   5577\u001b[0m     name \u001b[38;5;129;01mnot\u001b[39;00m \u001b[38;5;129;01min\u001b[39;00m \u001b[38;5;28mself\u001b[39m\u001b[38;5;241m.\u001b[39m_internal_names_set\n\u001b[0;32m   5578\u001b[0m     \u001b[38;5;129;01mand\u001b[39;00m name \u001b[38;5;129;01mnot\u001b[39;00m \u001b[38;5;129;01min\u001b[39;00m \u001b[38;5;28mself\u001b[39m\u001b[38;5;241m.\u001b[39m_metadata\n\u001b[0;32m   5579\u001b[0m     \u001b[38;5;129;01mand\u001b[39;00m name \u001b[38;5;129;01mnot\u001b[39;00m \u001b[38;5;129;01min\u001b[39;00m \u001b[38;5;28mself\u001b[39m\u001b[38;5;241m.\u001b[39m_accessors\n\u001b[0;32m   5580\u001b[0m     \u001b[38;5;129;01mand\u001b[39;00m \u001b[38;5;28mself\u001b[39m\u001b[38;5;241m.\u001b[39m_info_axis\u001b[38;5;241m.\u001b[39m_can_hold_identifiers_and_holds_name(name)\n\u001b[0;32m   5581\u001b[0m ):\n\u001b[0;32m   5582\u001b[0m     \u001b[38;5;28;01mreturn\u001b[39;00m \u001b[38;5;28mself\u001b[39m[name]\n\u001b[1;32m-> 5583\u001b[0m \u001b[38;5;28;01mreturn\u001b[39;00m \u001b[38;5;28;43mobject\u001b[39;49m\u001b[38;5;241;43m.\u001b[39;49m\u001b[38;5;21;43m__getattribute__\u001b[39;49m\u001b[43m(\u001b[49m\u001b[38;5;28;43mself\u001b[39;49m\u001b[43m,\u001b[49m\u001b[43m \u001b[49m\u001b[43mname\u001b[49m\u001b[43m)\u001b[49m\n",
      "\u001b[1;31mAttributeError\u001b[0m: 'DataFrame' object has no attribute 'hover_name'"
     ]
    }
   ],
   "source": [
    "import plotly.graph_objects as go\n",
    "\n",
    "output=['603392.SS BEIJING WANTAI BIOLOGICAL PHARM', '000001.SZ PING AN BANK']\n",
    "        \n",
    "# filtered_df = mean_var.loc[mean_var['index'].isin(output), :]\n",
    "filtered_df = mean_var\n",
    "\n",
    "fig_mean_var = px.scatter(mean_var.loc[~mean_var.hover_name.isin(output)], x=\"mean_return\", y=\"ann_vol\", hover_name=\"hover_name\", \n",
    "         # color=\"\", hover_name=\"\", size=5,\n",
    "         log_x=False, size_max=60)\n",
    "\n",
    "fig_mean_var = go.Figure(fig_mean_var)\n",
    "fig_mean_var.add_trace(go.Scatter(\n",
    "                            x=mean_var.loc[mean_var.hover_name.isin(output),'mean_return'],\n",
    "                            y=mean_var.loc[mean_var.hover_name.isin(output),'ann_vol'],\n",
    "                            name='',\n",
    "                            showlegend = False,\n",
    "                            hovertemplate= \"<b>%{hovertext}</b><br><br>mean_return=%{x}<br>ann_vol=%{y}<extra></extra>\",\n",
    "                            hovertext=mean_var.loc[mean_var.hover_name.isin(output),'hover_name'],\n",
    "                            marker=dict(\n",
    "                                color='red',\n",
    "                                symbol='circle'\n",
    "                            ),\n",
    "                            mode='markers'\n",
    "                           )\n",
    "                            \n",
    "                            \n",
    "                      )                        \n",
    "\n",
    "\n",
    "# on_hover\n",
    "for sel_stock in ['603392.SS']:\n",
    "\n",
    "    fig_mean_var.add_trace(dict(\n",
    "                                mode=\"markers\",\n",
    "                                x= list(df_weekly_return_rolling_1y_mean.loc[:, sel_stock]),\n",
    "                                y= list(df_weekly_return_rolling_1y_volann.loc[:, sel_stock]),\n",
    "                                text= list(df_weekly_return_rolling_1y_mean.index),\n",
    "                                name=sel_stock,\n",
    "                                showlegend=False,\n",
    "                                hovertemplate= \"<b>\" + sel_stock+ \"<br>%{hovertext}</b><br><br>mean_return=%{x}<br>ann_vol=%{y}<extra></extra>\",\n",
    "                                hovertext=list(df_weekly_return_rolling_1y_mean.index),\n",
    "                                line=dict(\n",
    "                                    color='red',\n",
    "                                    dash='solid',\n",
    "                                    \n",
    "                                ),\n",
    "                                marker=dict(\n",
    "                                    symbol='circle',\n",
    "                                    color=_continuous_scale='YlOrRd'\n",
    "                                    # opacity=np.linspace(0,1,len(df_weekly_return_rolling_1y_mean.index))\n",
    "                                ),\n",
    "                                textposition='bottom right',\n",
    "\n",
    "                               )\n",
    "                          )\n",
    "\n",
    "fig_mean_var.update_xaxes(label='1y Rolling Mean Weekly Return', tickformat='.2%')\n",
    "fig_mean_var.update_yaxes(label='1y Rolling Weekly Return Stdev', tickformat='.2%')\n",
    "\n",
    "fig_mean_var.show()"
   ]
  },
  {
   "cell_type": "code",
   "execution_count": 80,
   "id": "1872e8ca-1a46-42c2-889e-f9b7948c8a13",
   "metadata": {},
   "outputs": [
    {
     "name": "stderr",
     "output_type": "stream",
     "text": [
      "C:\\Users\\user\\.conda\\envs\\capstone\\lib\\site-packages\\jupyter_dash\\jupyter_app.py:139: UserWarning:\n",
      "\n",
      "The 'environ['werkzeug.server.shutdown']' function is deprecated and will be removed in Werkzeug 2.1.\n",
      "\n"
     ]
    }
   ],
   "source": [
    "# Run this app with `python app.py` and\n",
    "# visit http://127.0.0.1:8050/ in your web browser.\n",
    "\n",
    "from dash import Dash, html, dcc, Input, Output\n",
    "import plotly.graph_objects as go\n",
    "\n",
    "\n",
    "app = JupyterDash(__name__)\n",
    "\n",
    "# mean_var\n",
    "t = '2022-03-08'\n",
    "mean_var = pkl.load(open('./data/mean_var_{}.pkl'.format(t), 'rb'))\n",
    "# get the names of stocks\n",
    "t_1 = '20220301'\n",
    "df_info_raw = pkl.load(open('./data/df_info_raw_{}.pkl'.format(t_1), 'rb'))\n",
    "mean_var = mean_var.merge(df_info_raw.loc['shortName'], left_index=True, right_index=True, how='left').reset_index()\n",
    "mean_var['hover_name'] = mean_var[['index', 'shortName']].agg(' '.join, axis=1)\n",
    "\n",
    "stock_names = ['{} {}'.format(ticker, name) for ticker, name in list(df_info_raw.loc['shortName', :].iteritems())]\n",
    "\n",
    "app.layout = html.Div([\n",
    "    html.Div(children=[\n",
    "        html.Label('Multi-Select Dropdown'),\n",
    "        dcc.Dropdown(stock_names,\n",
    "                     [''],\n",
    "                     multi=True, id='my-input'),\n",
    "        html.Br(),\n",
    "        dcc.Graph(id='graph-scatter')\n",
    "        \n",
    "    ], style={'padding': 10, 'flex': 1}),    \n",
    "], style={'display': 'flex', 'flex-direction': 'row'})\n",
    "\n",
    "\n",
    "@app.callback(\n",
    "    Output(component_id='graph-scatter', component_property='figure'),\n",
    "    Input(component_id='my-input', component_property='value')\n",
    ")\n",
    "def update_figure(stocks):\n",
    "    \n",
    "    # filtered_df = mean_var.loc[mean_var['index'].isin(output), :]\n",
    "    fig_mean_var = px.scatter(mean_var.loc[~mean_var.hover_name.isin(stocks)], x=\"mean_return\", y=\"ann_vol\", hover_name=\"hover_name\", \n",
    "     # color=\"\", hover_name=\"\", size=5,\n",
    "     log_x=False, size_max=60)\n",
    "\n",
    "    fig_mean_var = go.Figure(fig_mean_var)\n",
    "#     fig_mean_var.add_trace(dict(type='scatter',\n",
    "#                                 x=mean_var.loc[mean_var.hover_name.isin(stocks),'mean_return'],\n",
    "#                                 y=mean_var.loc[mean_var.hover_name.isin(stocks),'ann_vol'],\n",
    "#                                 name='',\n",
    "#                                 showlegend = False,\n",
    "#                                 hovertemplate= \"<b>%{hovertext}</b><br><br>mean_return=%{x}<br>ann_vol=%{y}<extra></extra>\",\n",
    "#                                 hovertext=mean_var.loc[mean_var.hover_name.isin(stocks),'hover_name'],\n",
    "#                                 marker=dict(\n",
    "#                                     color='red',\n",
    "#                                     symbol='circle'\n",
    "#                                 ),\n",
    "#                                 mode='markers'\n",
    "#                                )\n",
    "\n",
    "\n",
    "#                           )\n",
    "    \n",
    "    ## add the historical trend of mean/var\n",
    "    \n",
    "    \n",
    "    fig_mean_var.add_trace(dict(\n",
    "                                mode=\"lines+text+markers\",\n",
    "                                x=df_weekly_return_rolling_1y_mean.loc[:, df_weekly_return_rolling_1y_mean.columns.isin(['603392.SS'])],\n",
    "                                y=df_weekly_return_rolling_1y_volann.loc[:, df_weekly_return_rolling_1y_volann.columns.isin(['603392.SS'])],\n",
    "                                text=df_weekly_return_rolling_1y_mean.index,\n",
    "                                name='',\n",
    "                                showlegend=False,\n",
    "                                hovertemplate= \"<b>%{hovertext}</b><br><br>mean_return=%{x}<br>ann_vol=%{y}<extra></extra>\",\n",
    "                                hovertext='',\n",
    "                                line=dict(\n",
    "                                    color='red',\n",
    "                                    dash='solid'\n",
    "                                ),\n",
    "                                marker=dict(\n",
    "                                    symbol='circle'\n",
    "                                ),\n",
    "                                \n",
    "                                    \n",
    "                               )\n",
    "                          )\n",
    "\n",
    "                           \n",
    "    \n",
    "    ## Update\n",
    "    fig_mean_var.update_xaxes(label='1y Rolling Mean Weekly Return', tickformat='.2%')\n",
    "    fig_mean_var.update_yaxes(label='1y Rolling Weekly Return Stdev', tickformat='.2%')\n",
    "    fig_mean_var.update_layout(transition_duration=0)\n",
    "    \n",
    "    # fig_mean_var.update_traces(selector=dict(type='scatter'))\n",
    "                               \n",
    "    return fig_mean_var\n",
    "\n",
    "app.run_server('jupyterlab')"
   ]
  },
  {
   "cell_type": "code",
   "execution_count": 81,
   "id": "c5ca65cb-252e-4788-8796-586ded7502ac",
   "metadata": {},
   "outputs": [
    {
     "data": {
      "application/json": {
       "data": [
        {
         "hovertemplate": "country=Botswana<br>lifeExp=%{x}<br>gdpPercap=%{y}<br>year=%{text}<extra></extra>",
         "legendgroup": "Botswana",
         "line": {
          "color": "#636efa",
          "dash": "solid"
         },
         "marker": {
          "symbol": "circle"
         },
         "mode": "lines+markers+text",
         "name": "Botswana",
         "orientation": "v",
         "showlegend": true,
         "text": [
          1952,
          1957,
          1962,
          1967,
          1972,
          1977,
          1982,
          1987,
          1992,
          1997,
          2002,
          2007
         ],
         "textposition": "bottom right",
         "type": "scatter",
         "x": [
          47.622,
          49.618,
          51.52,
          53.298,
          56.024,
          59.319,
          61.484,
          63.622,
          62.745,
          52.556,
          46.63399999999999,
          50.728
         ],
         "xaxis": "x",
         "y": [
          851.2411407,
          918.2325349,
          983.6539764,
          1214.709294,
          2263.6111140000007,
          3214.857818,
          4551.14215,
          6205.88385,
          7954.111645,
          8647.142313,
          11003.60508,
          12569.85177
         ],
         "yaxis": "y"
        },
        {
         "hovertemplate": "country=Canada<br>lifeExp=%{x}<br>gdpPercap=%{y}<br>year=%{text}<extra></extra>",
         "legendgroup": "Canada",
         "line": {
          "color": "#EF553B",
          "dash": "solid"
         },
         "marker": {
          "symbol": "circle"
         },
         "mode": "lines+markers+text",
         "name": "Canada",
         "orientation": "v",
         "showlegend": true,
         "text": [
          1952,
          1957,
          1962,
          1967,
          1972,
          1977,
          1982,
          1987,
          1992,
          1997,
          2002,
          2007
         ],
         "textposition": "bottom right",
         "type": "scatter",
         "x": [
          68.75,
          69.96,
          71.3,
          72.13,
          72.88,
          74.21,
          75.76,
          76.86,
          77.95,
          78.61,
          79.77,
          80.653
         ],
         "xaxis": "x",
         "y": [
          11367.16112,
          12489.95006,
          13462.48555,
          16076.58803,
          18970.57086,
          22090.88306,
          22898.79214,
          26626.51503,
          26342.88426,
          28954.92589,
          33328.96507,
          36319.23501
         ],
         "yaxis": "y"
        }
       ],
       "layout": {
        "legend": {
         "title": {
          "text": "country"
         },
         "tracegroupgap": 0
        },
        "margin": {
         "t": 60
        },
        "template": {
         "data": {
          "bar": [
           {
            "error_x": {
             "color": "#2a3f5f"
            },
            "error_y": {
             "color": "#2a3f5f"
            },
            "marker": {
             "line": {
              "color": "#E5ECF6",
              "width": 0.5
             },
             "pattern": {
              "fillmode": "overlay",
              "size": 10,
              "solidity": 0.2
             }
            },
            "type": "bar"
           }
          ],
          "barpolar": [
           {
            "marker": {
             "line": {
              "color": "#E5ECF6",
              "width": 0.5
             },
             "pattern": {
              "fillmode": "overlay",
              "size": 10,
              "solidity": 0.2
             }
            },
            "type": "barpolar"
           }
          ],
          "carpet": [
           {
            "aaxis": {
             "endlinecolor": "#2a3f5f",
             "gridcolor": "white",
             "linecolor": "white",
             "minorgridcolor": "white",
             "startlinecolor": "#2a3f5f"
            },
            "baxis": {
             "endlinecolor": "#2a3f5f",
             "gridcolor": "white",
             "linecolor": "white",
             "minorgridcolor": "white",
             "startlinecolor": "#2a3f5f"
            },
            "type": "carpet"
           }
          ],
          "choropleth": [
           {
            "colorbar": {
             "outlinewidth": 0,
             "ticks": ""
            },
            "type": "choropleth"
           }
          ],
          "contour": [
           {
            "colorbar": {
             "outlinewidth": 0,
             "ticks": ""
            },
            "colorscale": [
             [
              0,
              "#0d0887"
             ],
             [
              0.1111111111111111,
              "#46039f"
             ],
             [
              0.2222222222222222,
              "#7201a8"
             ],
             [
              0.3333333333333333,
              "#9c179e"
             ],
             [
              0.4444444444444444,
              "#bd3786"
             ],
             [
              0.5555555555555556,
              "#d8576b"
             ],
             [
              0.6666666666666666,
              "#ed7953"
             ],
             [
              0.7777777777777778,
              "#fb9f3a"
             ],
             [
              0.8888888888888888,
              "#fdca26"
             ],
             [
              1,
              "#f0f921"
             ]
            ],
            "type": "contour"
           }
          ],
          "contourcarpet": [
           {
            "colorbar": {
             "outlinewidth": 0,
             "ticks": ""
            },
            "type": "contourcarpet"
           }
          ],
          "heatmap": [
           {
            "colorbar": {
             "outlinewidth": 0,
             "ticks": ""
            },
            "colorscale": [
             [
              0,
              "#0d0887"
             ],
             [
              0.1111111111111111,
              "#46039f"
             ],
             [
              0.2222222222222222,
              "#7201a8"
             ],
             [
              0.3333333333333333,
              "#9c179e"
             ],
             [
              0.4444444444444444,
              "#bd3786"
             ],
             [
              0.5555555555555556,
              "#d8576b"
             ],
             [
              0.6666666666666666,
              "#ed7953"
             ],
             [
              0.7777777777777778,
              "#fb9f3a"
             ],
             [
              0.8888888888888888,
              "#fdca26"
             ],
             [
              1,
              "#f0f921"
             ]
            ],
            "type": "heatmap"
           }
          ],
          "heatmapgl": [
           {
            "colorbar": {
             "outlinewidth": 0,
             "ticks": ""
            },
            "colorscale": [
             [
              0,
              "#0d0887"
             ],
             [
              0.1111111111111111,
              "#46039f"
             ],
             [
              0.2222222222222222,
              "#7201a8"
             ],
             [
              0.3333333333333333,
              "#9c179e"
             ],
             [
              0.4444444444444444,
              "#bd3786"
             ],
             [
              0.5555555555555556,
              "#d8576b"
             ],
             [
              0.6666666666666666,
              "#ed7953"
             ],
             [
              0.7777777777777778,
              "#fb9f3a"
             ],
             [
              0.8888888888888888,
              "#fdca26"
             ],
             [
              1,
              "#f0f921"
             ]
            ],
            "type": "heatmapgl"
           }
          ],
          "histogram": [
           {
            "marker": {
             "pattern": {
              "fillmode": "overlay",
              "size": 10,
              "solidity": 0.2
             }
            },
            "type": "histogram"
           }
          ],
          "histogram2d": [
           {
            "colorbar": {
             "outlinewidth": 0,
             "ticks": ""
            },
            "colorscale": [
             [
              0,
              "#0d0887"
             ],
             [
              0.1111111111111111,
              "#46039f"
             ],
             [
              0.2222222222222222,
              "#7201a8"
             ],
             [
              0.3333333333333333,
              "#9c179e"
             ],
             [
              0.4444444444444444,
              "#bd3786"
             ],
             [
              0.5555555555555556,
              "#d8576b"
             ],
             [
              0.6666666666666666,
              "#ed7953"
             ],
             [
              0.7777777777777778,
              "#fb9f3a"
             ],
             [
              0.8888888888888888,
              "#fdca26"
             ],
             [
              1,
              "#f0f921"
             ]
            ],
            "type": "histogram2d"
           }
          ],
          "histogram2dcontour": [
           {
            "colorbar": {
             "outlinewidth": 0,
             "ticks": ""
            },
            "colorscale": [
             [
              0,
              "#0d0887"
             ],
             [
              0.1111111111111111,
              "#46039f"
             ],
             [
              0.2222222222222222,
              "#7201a8"
             ],
             [
              0.3333333333333333,
              "#9c179e"
             ],
             [
              0.4444444444444444,
              "#bd3786"
             ],
             [
              0.5555555555555556,
              "#d8576b"
             ],
             [
              0.6666666666666666,
              "#ed7953"
             ],
             [
              0.7777777777777778,
              "#fb9f3a"
             ],
             [
              0.8888888888888888,
              "#fdca26"
             ],
             [
              1,
              "#f0f921"
             ]
            ],
            "type": "histogram2dcontour"
           }
          ],
          "mesh3d": [
           {
            "colorbar": {
             "outlinewidth": 0,
             "ticks": ""
            },
            "type": "mesh3d"
           }
          ],
          "parcoords": [
           {
            "line": {
             "colorbar": {
              "outlinewidth": 0,
              "ticks": ""
             }
            },
            "type": "parcoords"
           }
          ],
          "pie": [
           {
            "automargin": true,
            "type": "pie"
           }
          ],
          "scatter": [
           {
            "marker": {
             "colorbar": {
              "outlinewidth": 0,
              "ticks": ""
             }
            },
            "type": "scatter"
           }
          ],
          "scatter3d": [
           {
            "line": {
             "colorbar": {
              "outlinewidth": 0,
              "ticks": ""
             }
            },
            "marker": {
             "colorbar": {
              "outlinewidth": 0,
              "ticks": ""
             }
            },
            "type": "scatter3d"
           }
          ],
          "scattercarpet": [
           {
            "marker": {
             "colorbar": {
              "outlinewidth": 0,
              "ticks": ""
             }
            },
            "type": "scattercarpet"
           }
          ],
          "scattergeo": [
           {
            "marker": {
             "colorbar": {
              "outlinewidth": 0,
              "ticks": ""
             }
            },
            "type": "scattergeo"
           }
          ],
          "scattergl": [
           {
            "marker": {
             "colorbar": {
              "outlinewidth": 0,
              "ticks": ""
             }
            },
            "type": "scattergl"
           }
          ],
          "scattermapbox": [
           {
            "marker": {
             "colorbar": {
              "outlinewidth": 0,
              "ticks": ""
             }
            },
            "type": "scattermapbox"
           }
          ],
          "scatterpolar": [
           {
            "marker": {
             "colorbar": {
              "outlinewidth": 0,
              "ticks": ""
             }
            },
            "type": "scatterpolar"
           }
          ],
          "scatterpolargl": [
           {
            "marker": {
             "colorbar": {
              "outlinewidth": 0,
              "ticks": ""
             }
            },
            "type": "scatterpolargl"
           }
          ],
          "scatterternary": [
           {
            "marker": {
             "colorbar": {
              "outlinewidth": 0,
              "ticks": ""
             }
            },
            "type": "scatterternary"
           }
          ],
          "surface": [
           {
            "colorbar": {
             "outlinewidth": 0,
             "ticks": ""
            },
            "colorscale": [
             [
              0,
              "#0d0887"
             ],
             [
              0.1111111111111111,
              "#46039f"
             ],
             [
              0.2222222222222222,
              "#7201a8"
             ],
             [
              0.3333333333333333,
              "#9c179e"
             ],
             [
              0.4444444444444444,
              "#bd3786"
             ],
             [
              0.5555555555555556,
              "#d8576b"
             ],
             [
              0.6666666666666666,
              "#ed7953"
             ],
             [
              0.7777777777777778,
              "#fb9f3a"
             ],
             [
              0.8888888888888888,
              "#fdca26"
             ],
             [
              1,
              "#f0f921"
             ]
            ],
            "type": "surface"
           }
          ],
          "table": [
           {
            "cells": {
             "fill": {
              "color": "#EBF0F8"
             },
             "line": {
              "color": "white"
             }
            },
            "header": {
             "fill": {
              "color": "#C8D4E3"
             },
             "line": {
              "color": "white"
             }
            },
            "type": "table"
           }
          ]
         },
         "layout": {
          "annotationdefaults": {
           "arrowcolor": "#2a3f5f",
           "arrowhead": 0,
           "arrowwidth": 1
          },
          "autotypenumbers": "strict",
          "coloraxis": {
           "colorbar": {
            "outlinewidth": 0,
            "ticks": ""
           }
          },
          "colorscale": {
           "diverging": [
            [
             0,
             "#8e0152"
            ],
            [
             0.1,
             "#c51b7d"
            ],
            [
             0.2,
             "#de77ae"
            ],
            [
             0.3,
             "#f1b6da"
            ],
            [
             0.4,
             "#fde0ef"
            ],
            [
             0.5,
             "#f7f7f7"
            ],
            [
             0.6,
             "#e6f5d0"
            ],
            [
             0.7,
             "#b8e186"
            ],
            [
             0.8,
             "#7fbc41"
            ],
            [
             0.9,
             "#4d9221"
            ],
            [
             1,
             "#276419"
            ]
           ],
           "sequential": [
            [
             0,
             "#0d0887"
            ],
            [
             0.1111111111111111,
             "#46039f"
            ],
            [
             0.2222222222222222,
             "#7201a8"
            ],
            [
             0.3333333333333333,
             "#9c179e"
            ],
            [
             0.4444444444444444,
             "#bd3786"
            ],
            [
             0.5555555555555556,
             "#d8576b"
            ],
            [
             0.6666666666666666,
             "#ed7953"
            ],
            [
             0.7777777777777778,
             "#fb9f3a"
            ],
            [
             0.8888888888888888,
             "#fdca26"
            ],
            [
             1,
             "#f0f921"
            ]
           ],
           "sequentialminus": [
            [
             0,
             "#0d0887"
            ],
            [
             0.1111111111111111,
             "#46039f"
            ],
            [
             0.2222222222222222,
             "#7201a8"
            ],
            [
             0.3333333333333333,
             "#9c179e"
            ],
            [
             0.4444444444444444,
             "#bd3786"
            ],
            [
             0.5555555555555556,
             "#d8576b"
            ],
            [
             0.6666666666666666,
             "#ed7953"
            ],
            [
             0.7777777777777778,
             "#fb9f3a"
            ],
            [
             0.8888888888888888,
             "#fdca26"
            ],
            [
             1,
             "#f0f921"
            ]
           ]
          },
          "colorway": [
           "#636efa",
           "#EF553B",
           "#00cc96",
           "#ab63fa",
           "#FFA15A",
           "#19d3f3",
           "#FF6692",
           "#B6E880",
           "#FF97FF",
           "#FECB52"
          ],
          "font": {
           "color": "#2a3f5f"
          },
          "geo": {
           "bgcolor": "white",
           "lakecolor": "white",
           "landcolor": "#E5ECF6",
           "showlakes": true,
           "showland": true,
           "subunitcolor": "white"
          },
          "hoverlabel": {
           "align": "left"
          },
          "hovermode": "closest",
          "mapbox": {
           "style": "light"
          },
          "paper_bgcolor": "white",
          "plot_bgcolor": "#E5ECF6",
          "polar": {
           "angularaxis": {
            "gridcolor": "white",
            "linecolor": "white",
            "ticks": ""
           },
           "bgcolor": "#E5ECF6",
           "radialaxis": {
            "gridcolor": "white",
            "linecolor": "white",
            "ticks": ""
           }
          },
          "scene": {
           "xaxis": {
            "backgroundcolor": "#E5ECF6",
            "gridcolor": "white",
            "gridwidth": 2,
            "linecolor": "white",
            "showbackground": true,
            "ticks": "",
            "zerolinecolor": "white"
           },
           "yaxis": {
            "backgroundcolor": "#E5ECF6",
            "gridcolor": "white",
            "gridwidth": 2,
            "linecolor": "white",
            "showbackground": true,
            "ticks": "",
            "zerolinecolor": "white"
           },
           "zaxis": {
            "backgroundcolor": "#E5ECF6",
            "gridcolor": "white",
            "gridwidth": 2,
            "linecolor": "white",
            "showbackground": true,
            "ticks": "",
            "zerolinecolor": "white"
           }
          },
          "shapedefaults": {
           "line": {
            "color": "#2a3f5f"
           }
          },
          "ternary": {
           "aaxis": {
            "gridcolor": "white",
            "linecolor": "white",
            "ticks": ""
           },
           "baxis": {
            "gridcolor": "white",
            "linecolor": "white",
            "ticks": ""
           },
           "bgcolor": "#E5ECF6",
           "caxis": {
            "gridcolor": "white",
            "linecolor": "white",
            "ticks": ""
           }
          },
          "title": {
           "x": 0.05
          },
          "xaxis": {
           "automargin": true,
           "gridcolor": "white",
           "linecolor": "white",
           "ticks": "",
           "title": {
            "standoff": 15
           },
           "zerolinecolor": "white",
           "zerolinewidth": 2
          },
          "yaxis": {
           "automargin": true,
           "gridcolor": "white",
           "linecolor": "white",
           "ticks": "",
           "title": {
            "standoff": 15
           },
           "zerolinecolor": "white",
           "zerolinewidth": 2
          }
         }
        },
        "xaxis": {
         "anchor": "y",
         "domain": [
          0,
          1
         ],
         "title": {
          "text": "lifeExp"
         }
        },
        "yaxis": {
         "anchor": "x",
         "domain": [
          0,
          1
         ],
         "title": {
          "text": "gdpPercap"
         }
        }
       }
      }
     },
     "metadata": {},
     "output_type": "display_data"
    },
    {
     "data": {
      "application/vnd.plotly.v1+json": {
       "config": {
        "plotlyServerURL": "https://plot.ly"
       },
       "data": [
        {
         "hovertemplate": "country=Botswana<br>lifeExp=%{x}<br>gdpPercap=%{y}<br>year=%{text}<extra></extra>",
         "legendgroup": "Botswana",
         "line": {
          "color": "#636efa",
          "dash": "solid"
         },
         "marker": {
          "symbol": "circle"
         },
         "mode": "lines+markers+text",
         "name": "Botswana",
         "orientation": "v",
         "showlegend": true,
         "text": [
          1952,
          1957,
          1962,
          1967,
          1972,
          1977,
          1982,
          1987,
          1992,
          1997,
          2002,
          2007
         ],
         "textposition": "bottom right",
         "type": "scatter",
         "x": [
          47.622,
          49.618,
          51.52,
          53.298,
          56.024,
          59.319,
          61.484,
          63.622,
          62.745,
          52.556,
          46.63399999999999,
          50.728
         ],
         "xaxis": "x",
         "y": [
          851.2411407,
          918.2325349,
          983.6539764,
          1214.709294,
          2263.6111140000007,
          3214.857818,
          4551.14215,
          6205.88385,
          7954.111645,
          8647.142313,
          11003.60508,
          12569.85177
         ],
         "yaxis": "y"
        },
        {
         "hovertemplate": "country=Canada<br>lifeExp=%{x}<br>gdpPercap=%{y}<br>year=%{text}<extra></extra>",
         "legendgroup": "Canada",
         "line": {
          "color": "#EF553B",
          "dash": "solid"
         },
         "marker": {
          "symbol": "circle"
         },
         "mode": "lines+markers+text",
         "name": "Canada",
         "orientation": "v",
         "showlegend": true,
         "text": [
          1952,
          1957,
          1962,
          1967,
          1972,
          1977,
          1982,
          1987,
          1992,
          1997,
          2002,
          2007
         ],
         "textposition": "bottom right",
         "type": "scatter",
         "x": [
          68.75,
          69.96,
          71.3,
          72.13,
          72.88,
          74.21,
          75.76,
          76.86,
          77.95,
          78.61,
          79.77,
          80.653
         ],
         "xaxis": "x",
         "y": [
          11367.16112,
          12489.95006,
          13462.48555,
          16076.58803,
          18970.57086,
          22090.88306,
          22898.79214,
          26626.51503,
          26342.88426,
          28954.92589,
          33328.96507,
          36319.23501
         ],
         "yaxis": "y"
        }
       ],
       "layout": {
        "autosize": true,
        "legend": {
         "title": {
          "text": "country"
         },
         "tracegroupgap": 0
        },
        "margin": {
         "t": 60
        },
        "template": {
         "data": {
          "bar": [
           {
            "error_x": {
             "color": "#2a3f5f"
            },
            "error_y": {
             "color": "#2a3f5f"
            },
            "marker": {
             "line": {
              "color": "#E5ECF6",
              "width": 0.5
             },
             "pattern": {
              "fillmode": "overlay",
              "size": 10,
              "solidity": 0.2
             }
            },
            "type": "bar"
           }
          ],
          "barpolar": [
           {
            "marker": {
             "line": {
              "color": "#E5ECF6",
              "width": 0.5
             },
             "pattern": {
              "fillmode": "overlay",
              "size": 10,
              "solidity": 0.2
             }
            },
            "type": "barpolar"
           }
          ],
          "carpet": [
           {
            "aaxis": {
             "endlinecolor": "#2a3f5f",
             "gridcolor": "white",
             "linecolor": "white",
             "minorgridcolor": "white",
             "startlinecolor": "#2a3f5f"
            },
            "baxis": {
             "endlinecolor": "#2a3f5f",
             "gridcolor": "white",
             "linecolor": "white",
             "minorgridcolor": "white",
             "startlinecolor": "#2a3f5f"
            },
            "type": "carpet"
           }
          ],
          "choropleth": [
           {
            "colorbar": {
             "outlinewidth": 0,
             "ticks": ""
            },
            "type": "choropleth"
           }
          ],
          "contour": [
           {
            "colorbar": {
             "outlinewidth": 0,
             "ticks": ""
            },
            "colorscale": [
             [
              0,
              "#0d0887"
             ],
             [
              0.1111111111111111,
              "#46039f"
             ],
             [
              0.2222222222222222,
              "#7201a8"
             ],
             [
              0.3333333333333333,
              "#9c179e"
             ],
             [
              0.4444444444444444,
              "#bd3786"
             ],
             [
              0.5555555555555556,
              "#d8576b"
             ],
             [
              0.6666666666666666,
              "#ed7953"
             ],
             [
              0.7777777777777778,
              "#fb9f3a"
             ],
             [
              0.8888888888888888,
              "#fdca26"
             ],
             [
              1,
              "#f0f921"
             ]
            ],
            "type": "contour"
           }
          ],
          "contourcarpet": [
           {
            "colorbar": {
             "outlinewidth": 0,
             "ticks": ""
            },
            "type": "contourcarpet"
           }
          ],
          "heatmap": [
           {
            "colorbar": {
             "outlinewidth": 0,
             "ticks": ""
            },
            "colorscale": [
             [
              0,
              "#0d0887"
             ],
             [
              0.1111111111111111,
              "#46039f"
             ],
             [
              0.2222222222222222,
              "#7201a8"
             ],
             [
              0.3333333333333333,
              "#9c179e"
             ],
             [
              0.4444444444444444,
              "#bd3786"
             ],
             [
              0.5555555555555556,
              "#d8576b"
             ],
             [
              0.6666666666666666,
              "#ed7953"
             ],
             [
              0.7777777777777778,
              "#fb9f3a"
             ],
             [
              0.8888888888888888,
              "#fdca26"
             ],
             [
              1,
              "#f0f921"
             ]
            ],
            "type": "heatmap"
           }
          ],
          "heatmapgl": [
           {
            "colorbar": {
             "outlinewidth": 0,
             "ticks": ""
            },
            "colorscale": [
             [
              0,
              "#0d0887"
             ],
             [
              0.1111111111111111,
              "#46039f"
             ],
             [
              0.2222222222222222,
              "#7201a8"
             ],
             [
              0.3333333333333333,
              "#9c179e"
             ],
             [
              0.4444444444444444,
              "#bd3786"
             ],
             [
              0.5555555555555556,
              "#d8576b"
             ],
             [
              0.6666666666666666,
              "#ed7953"
             ],
             [
              0.7777777777777778,
              "#fb9f3a"
             ],
             [
              0.8888888888888888,
              "#fdca26"
             ],
             [
              1,
              "#f0f921"
             ]
            ],
            "type": "heatmapgl"
           }
          ],
          "histogram": [
           {
            "marker": {
             "pattern": {
              "fillmode": "overlay",
              "size": 10,
              "solidity": 0.2
             }
            },
            "type": "histogram"
           }
          ],
          "histogram2d": [
           {
            "colorbar": {
             "outlinewidth": 0,
             "ticks": ""
            },
            "colorscale": [
             [
              0,
              "#0d0887"
             ],
             [
              0.1111111111111111,
              "#46039f"
             ],
             [
              0.2222222222222222,
              "#7201a8"
             ],
             [
              0.3333333333333333,
              "#9c179e"
             ],
             [
              0.4444444444444444,
              "#bd3786"
             ],
             [
              0.5555555555555556,
              "#d8576b"
             ],
             [
              0.6666666666666666,
              "#ed7953"
             ],
             [
              0.7777777777777778,
              "#fb9f3a"
             ],
             [
              0.8888888888888888,
              "#fdca26"
             ],
             [
              1,
              "#f0f921"
             ]
            ],
            "type": "histogram2d"
           }
          ],
          "histogram2dcontour": [
           {
            "colorbar": {
             "outlinewidth": 0,
             "ticks": ""
            },
            "colorscale": [
             [
              0,
              "#0d0887"
             ],
             [
              0.1111111111111111,
              "#46039f"
             ],
             [
              0.2222222222222222,
              "#7201a8"
             ],
             [
              0.3333333333333333,
              "#9c179e"
             ],
             [
              0.4444444444444444,
              "#bd3786"
             ],
             [
              0.5555555555555556,
              "#d8576b"
             ],
             [
              0.6666666666666666,
              "#ed7953"
             ],
             [
              0.7777777777777778,
              "#fb9f3a"
             ],
             [
              0.8888888888888888,
              "#fdca26"
             ],
             [
              1,
              "#f0f921"
             ]
            ],
            "type": "histogram2dcontour"
           }
          ],
          "mesh3d": [
           {
            "colorbar": {
             "outlinewidth": 0,
             "ticks": ""
            },
            "type": "mesh3d"
           }
          ],
          "parcoords": [
           {
            "line": {
             "colorbar": {
              "outlinewidth": 0,
              "ticks": ""
             }
            },
            "type": "parcoords"
           }
          ],
          "pie": [
           {
            "automargin": true,
            "type": "pie"
           }
          ],
          "scatter": [
           {
            "marker": {
             "colorbar": {
              "outlinewidth": 0,
              "ticks": ""
             }
            },
            "type": "scatter"
           }
          ],
          "scatter3d": [
           {
            "line": {
             "colorbar": {
              "outlinewidth": 0,
              "ticks": ""
             }
            },
            "marker": {
             "colorbar": {
              "outlinewidth": 0,
              "ticks": ""
             }
            },
            "type": "scatter3d"
           }
          ],
          "scattercarpet": [
           {
            "marker": {
             "colorbar": {
              "outlinewidth": 0,
              "ticks": ""
             }
            },
            "type": "scattercarpet"
           }
          ],
          "scattergeo": [
           {
            "marker": {
             "colorbar": {
              "outlinewidth": 0,
              "ticks": ""
             }
            },
            "type": "scattergeo"
           }
          ],
          "scattergl": [
           {
            "marker": {
             "colorbar": {
              "outlinewidth": 0,
              "ticks": ""
             }
            },
            "type": "scattergl"
           }
          ],
          "scattermapbox": [
           {
            "marker": {
             "colorbar": {
              "outlinewidth": 0,
              "ticks": ""
             }
            },
            "type": "scattermapbox"
           }
          ],
          "scatterpolar": [
           {
            "marker": {
             "colorbar": {
              "outlinewidth": 0,
              "ticks": ""
             }
            },
            "type": "scatterpolar"
           }
          ],
          "scatterpolargl": [
           {
            "marker": {
             "colorbar": {
              "outlinewidth": 0,
              "ticks": ""
             }
            },
            "type": "scatterpolargl"
           }
          ],
          "scatterternary": [
           {
            "marker": {
             "colorbar": {
              "outlinewidth": 0,
              "ticks": ""
             }
            },
            "type": "scatterternary"
           }
          ],
          "surface": [
           {
            "colorbar": {
             "outlinewidth": 0,
             "ticks": ""
            },
            "colorscale": [
             [
              0,
              "#0d0887"
             ],
             [
              0.1111111111111111,
              "#46039f"
             ],
             [
              0.2222222222222222,
              "#7201a8"
             ],
             [
              0.3333333333333333,
              "#9c179e"
             ],
             [
              0.4444444444444444,
              "#bd3786"
             ],
             [
              0.5555555555555556,
              "#d8576b"
             ],
             [
              0.6666666666666666,
              "#ed7953"
             ],
             [
              0.7777777777777778,
              "#fb9f3a"
             ],
             [
              0.8888888888888888,
              "#fdca26"
             ],
             [
              1,
              "#f0f921"
             ]
            ],
            "type": "surface"
           }
          ],
          "table": [
           {
            "cells": {
             "fill": {
              "color": "#EBF0F8"
             },
             "line": {
              "color": "white"
             }
            },
            "header": {
             "fill": {
              "color": "#C8D4E3"
             },
             "line": {
              "color": "white"
             }
            },
            "type": "table"
           }
          ]
         },
         "layout": {
          "annotationdefaults": {
           "arrowcolor": "#2a3f5f",
           "arrowhead": 0,
           "arrowwidth": 1
          },
          "autotypenumbers": "strict",
          "coloraxis": {
           "colorbar": {
            "outlinewidth": 0,
            "ticks": ""
           }
          },
          "colorscale": {
           "diverging": [
            [
             0,
             "#8e0152"
            ],
            [
             0.1,
             "#c51b7d"
            ],
            [
             0.2,
             "#de77ae"
            ],
            [
             0.3,
             "#f1b6da"
            ],
            [
             0.4,
             "#fde0ef"
            ],
            [
             0.5,
             "#f7f7f7"
            ],
            [
             0.6,
             "#e6f5d0"
            ],
            [
             0.7,
             "#b8e186"
            ],
            [
             0.8,
             "#7fbc41"
            ],
            [
             0.9,
             "#4d9221"
            ],
            [
             1,
             "#276419"
            ]
           ],
           "sequential": [
            [
             0,
             "#0d0887"
            ],
            [
             0.1111111111111111,
             "#46039f"
            ],
            [
             0.2222222222222222,
             "#7201a8"
            ],
            [
             0.3333333333333333,
             "#9c179e"
            ],
            [
             0.4444444444444444,
             "#bd3786"
            ],
            [
             0.5555555555555556,
             "#d8576b"
            ],
            [
             0.6666666666666666,
             "#ed7953"
            ],
            [
             0.7777777777777778,
             "#fb9f3a"
            ],
            [
             0.8888888888888888,
             "#fdca26"
            ],
            [
             1,
             "#f0f921"
            ]
           ],
           "sequentialminus": [
            [
             0,
             "#0d0887"
            ],
            [
             0.1111111111111111,
             "#46039f"
            ],
            [
             0.2222222222222222,
             "#7201a8"
            ],
            [
             0.3333333333333333,
             "#9c179e"
            ],
            [
             0.4444444444444444,
             "#bd3786"
            ],
            [
             0.5555555555555556,
             "#d8576b"
            ],
            [
             0.6666666666666666,
             "#ed7953"
            ],
            [
             0.7777777777777778,
             "#fb9f3a"
            ],
            [
             0.8888888888888888,
             "#fdca26"
            ],
            [
             1,
             "#f0f921"
            ]
           ]
          },
          "colorway": [
           "#636efa",
           "#EF553B",
           "#00cc96",
           "#ab63fa",
           "#FFA15A",
           "#19d3f3",
           "#FF6692",
           "#B6E880",
           "#FF97FF",
           "#FECB52"
          ],
          "font": {
           "color": "#2a3f5f"
          },
          "geo": {
           "bgcolor": "white",
           "lakecolor": "white",
           "landcolor": "#E5ECF6",
           "showlakes": true,
           "showland": true,
           "subunitcolor": "white"
          },
          "hoverlabel": {
           "align": "left"
          },
          "hovermode": "closest",
          "mapbox": {
           "style": "light"
          },
          "paper_bgcolor": "white",
          "plot_bgcolor": "#E5ECF6",
          "polar": {
           "angularaxis": {
            "gridcolor": "white",
            "linecolor": "white",
            "ticks": ""
           },
           "bgcolor": "#E5ECF6",
           "radialaxis": {
            "gridcolor": "white",
            "linecolor": "white",
            "ticks": ""
           }
          },
          "scene": {
           "xaxis": {
            "backgroundcolor": "#E5ECF6",
            "gridcolor": "white",
            "gridwidth": 2,
            "linecolor": "white",
            "showbackground": true,
            "ticks": "",
            "zerolinecolor": "white"
           },
           "yaxis": {
            "backgroundcolor": "#E5ECF6",
            "gridcolor": "white",
            "gridwidth": 2,
            "linecolor": "white",
            "showbackground": true,
            "ticks": "",
            "zerolinecolor": "white"
           },
           "zaxis": {
            "backgroundcolor": "#E5ECF6",
            "gridcolor": "white",
            "gridwidth": 2,
            "linecolor": "white",
            "showbackground": true,
            "ticks": "",
            "zerolinecolor": "white"
           }
          },
          "shapedefaults": {
           "line": {
            "color": "#2a3f5f"
           }
          },
          "ternary": {
           "aaxis": {
            "gridcolor": "white",
            "linecolor": "white",
            "ticks": ""
           },
           "baxis": {
            "gridcolor": "white",
            "linecolor": "white",
            "ticks": ""
           },
           "bgcolor": "#E5ECF6",
           "caxis": {
            "gridcolor": "white",
            "linecolor": "white",
            "ticks": ""
           }
          },
          "title": {
           "x": 0.05
          },
          "xaxis": {
           "automargin": true,
           "gridcolor": "white",
           "linecolor": "white",
           "ticks": "",
           "title": {
            "standoff": 15
           },
           "zerolinecolor": "white",
           "zerolinewidth": 2
          },
          "yaxis": {
           "automargin": true,
           "gridcolor": "white",
           "linecolor": "white",
           "ticks": "",
           "title": {
            "standoff": 15
           },
           "zerolinecolor": "white",
           "zerolinewidth": 2
          }
         }
        },
        "xaxis": {
         "anchor": "y",
         "autorange": true,
         "domain": [
          0,
          1
         ],
         "range": [
          44.61751937154079,
          82.66948062845921
         ],
         "title": {
          "text": "lifeExp"
         },
         "type": "linear"
        },
        "yaxis": {
         "anchor": "x",
         "autorange": true,
         "domain": [
          0,
          1
         ],
         "range": [
          -1894.9683583665355,
          39065.44450906653
         ],
         "title": {
          "text": "gdpPercap"
         },
         "type": "linear"
        }
       }
      },
      "image/png": "[encoded data removed]",
      "text/html": [
       "<div>                            <div id=\"f714eb7d-7f14-4885-8847-ec61cf6308af\" class=\"plotly-graph-div\" style=\"height:525px; width:100%;\"></div>            <script type=\"text/javascript\">                require([\"plotly\"], function(Plotly) {                    window.PLOTLYENV=window.PLOTLYENV || {};                                    if (document.getElementById(\"f714eb7d-7f14-4885-8847-ec61cf6308af\")) {                    Plotly.newPlot(                        \"f714eb7d-7f14-4885-8847-ec61cf6308af\",                        [{\"hovertemplate\":\"country=Botswana<br>lifeExp=%{x}<br>gdpPercap=%{y}<br>year=%{text}<extra></extra>\",\"legendgroup\":\"Botswana\",\"line\":{\"color\":\"#636efa\",\"dash\":\"solid\"},\"marker\":{\"symbol\":\"circle\"},\"mode\":\"lines+markers+text\",\"name\":\"Botswana\",\"orientation\":\"v\",\"showlegend\":true,\"text\":[1952.0,1957.0,1962.0,1967.0,1972.0,1977.0,1982.0,1987.0,1992.0,1997.0,2002.0,2007.0],\"x\":[47.622,49.618,51.52,53.298,56.024,59.319,61.484,63.622,62.745,52.556,46.63399999999999,50.728],\"xaxis\":\"x\",\"y\":[851.2411407,918.2325349,983.6539764,1214.709294,2263.6111140000007,3214.857818,4551.14215,6205.88385,7954.111645,8647.142313,11003.60508,12569.85177],\"yaxis\":\"y\",\"type\":\"scatter\",\"textposition\":\"bottom right\"},{\"hovertemplate\":\"country=Canada<br>lifeExp=%{x}<br>gdpPercap=%{y}<br>year=%{text}<extra></extra>\",\"legendgroup\":\"Canada\",\"line\":{\"color\":\"#EF553B\",\"dash\":\"solid\"},\"marker\":{\"symbol\":\"circle\"},\"mode\":\"lines+markers+text\",\"name\":\"Canada\",\"orientation\":\"v\",\"showlegend\":true,\"text\":[1952.0,1957.0,1962.0,1967.0,1972.0,1977.0,1982.0,1987.0,1992.0,1997.0,2002.0,2007.0],\"x\":[68.75,69.96,71.3,72.13,72.88,74.21,75.76,76.86,77.95,78.61,79.77,80.653],\"xaxis\":\"x\",\"y\":[11367.16112,12489.95006,13462.48555,16076.58803,18970.57086,22090.88306,22898.79214,26626.51503,26342.88426,28954.92589,33328.96507,36319.23501],\"yaxis\":\"y\",\"type\":\"scatter\",\"textposition\":\"bottom right\"}],                        {\"template\":{\"data\":{\"bar\":[{\"error_x\":{\"color\":\"#2a3f5f\"},\"error_y\":{\"color\":\"#2a3f5f\"},\"marker\":{\"line\":{\"color\":\"#E5ECF6\",\"width\":0.5},\"pattern\":{\"fillmode\":\"overlay\",\"size\":10,\"solidity\":0.2}},\"type\":\"bar\"}],\"barpolar\":[{\"marker\":{\"line\":{\"color\":\"#E5ECF6\",\"width\":0.5},\"pattern\":{\"fillmode\":\"overlay\",\"size\":10,\"solidity\":0.2}},\"type\":\"barpolar\"}],\"carpet\":[{\"aaxis\":{\"endlinecolor\":\"#2a3f5f\",\"gridcolor\":\"white\",\"linecolor\":\"white\",\"minorgridcolor\":\"white\",\"startlinecolor\":\"#2a3f5f\"},\"baxis\":{\"endlinecolor\":\"#2a3f5f\",\"gridcolor\":\"white\",\"linecolor\":\"white\",\"minorgridcolor\":\"white\",\"startlinecolor\":\"#2a3f5f\"},\"type\":\"carpet\"}],\"choropleth\":[{\"colorbar\":{\"outlinewidth\":0,\"ticks\":\"\"},\"type\":\"choropleth\"}],\"contour\":[{\"colorbar\":{\"outlinewidth\":0,\"ticks\":\"\"},\"colorscale\":[[0.0,\"#0d0887\"],[0.1111111111111111,\"#46039f\"],[0.2222222222222222,\"#7201a8\"],[0.3333333333333333,\"#9c179e\"],[0.4444444444444444,\"#bd3786\"],[0.5555555555555556,\"#d8576b\"],[0.6666666666666666,\"#ed7953\"],[0.7777777777777778,\"#fb9f3a\"],[0.8888888888888888,\"#fdca26\"],[1.0,\"#f0f921\"]],\"type\":\"contour\"}],\"contourcarpet\":[{\"colorbar\":{\"outlinewidth\":0,\"ticks\":\"\"},\"type\":\"contourcarpet\"}],\"heatmap\":[{\"colorbar\":{\"outlinewidth\":0,\"ticks\":\"\"},\"colorscale\":[[0.0,\"#0d0887\"],[0.1111111111111111,\"#46039f\"],[0.2222222222222222,\"#7201a8\"],[0.3333333333333333,\"#9c179e\"],[0.4444444444444444,\"#bd3786\"],[0.5555555555555556,\"#d8576b\"],[0.6666666666666666,\"#ed7953\"],[0.7777777777777778,\"#fb9f3a\"],[0.8888888888888888,\"#fdca26\"],[1.0,\"#f0f921\"]],\"type\":\"heatmap\"}],\"heatmapgl\":[{\"colorbar\":{\"outlinewidth\":0,\"ticks\":\"\"},\"colorscale\":[[0.0,\"#0d0887\"],[0.1111111111111111,\"#46039f\"],[0.2222222222222222,\"#7201a8\"],[0.3333333333333333,\"#9c179e\"],[0.4444444444444444,\"#bd3786\"],[0.5555555555555556,\"#d8576b\"],[0.6666666666666666,\"#ed7953\"],[0.7777777777777778,\"#fb9f3a\"],[0.8888888888888888,\"#fdca26\"],[1.0,\"#f0f921\"]],\"type\":\"heatmapgl\"}],\"histogram\":[{\"marker\":{\"pattern\":{\"fillmode\":\"overlay\",\"size\":10,\"solidity\":0.2}},\"type\":\"histogram\"}],\"histogram2d\":[{\"colorbar\":{\"outlinewidth\":0,\"ticks\":\"\"},\"colorscale\":[[0.0,\"#0d0887\"],[0.1111111111111111,\"#46039f\"],[0.2222222222222222,\"#7201a8\"],[0.3333333333333333,\"#9c179e\"],[0.4444444444444444,\"#bd3786\"],[0.5555555555555556,\"#d8576b\"],[0.6666666666666666,\"#ed7953\"],[0.7777777777777778,\"#fb9f3a\"],[0.8888888888888888,\"#fdca26\"],[1.0,\"#f0f921\"]],\"type\":\"histogram2d\"}],\"histogram2dcontour\":[{\"colorbar\":{\"outlinewidth\":0,\"ticks\":\"\"},\"colorscale\":[[0.0,\"#0d0887\"],[0.1111111111111111,\"#46039f\"],[0.2222222222222222,\"#7201a8\"],[0.3333333333333333,\"#9c179e\"],[0.4444444444444444,\"#bd3786\"],[0.5555555555555556,\"#d8576b\"],[0.6666666666666666,\"#ed7953\"],[0.7777777777777778,\"#fb9f3a\"],[0.8888888888888888,\"#fdca26\"],[1.0,\"#f0f921\"]],\"type\":\"histogram2dcontour\"}],\"mesh3d\":[{\"colorbar\":{\"outlinewidth\":0,\"ticks\":\"\"},\"type\":\"mesh3d\"}],\"parcoords\":[{\"line\":{\"colorbar\":{\"outlinewidth\":0,\"ticks\":\"\"}},\"type\":\"parcoords\"}],\"pie\":[{\"automargin\":true,\"type\":\"pie\"}],\"scatter\":[{\"marker\":{\"colorbar\":{\"outlinewidth\":0,\"ticks\":\"\"}},\"type\":\"scatter\"}],\"scatter3d\":[{\"line\":{\"colorbar\":{\"outlinewidth\":0,\"ticks\":\"\"}},\"marker\":{\"colorbar\":{\"outlinewidth\":0,\"ticks\":\"\"}},\"type\":\"scatter3d\"}],\"scattercarpet\":[{\"marker\":{\"colorbar\":{\"outlinewidth\":0,\"ticks\":\"\"}},\"type\":\"scattercarpet\"}],\"scattergeo\":[{\"marker\":{\"colorbar\":{\"outlinewidth\":0,\"ticks\":\"\"}},\"type\":\"scattergeo\"}],\"scattergl\":[{\"marker\":{\"colorbar\":{\"outlinewidth\":0,\"ticks\":\"\"}},\"type\":\"scattergl\"}],\"scattermapbox\":[{\"marker\":{\"colorbar\":{\"outlinewidth\":0,\"ticks\":\"\"}},\"type\":\"scattermapbox\"}],\"scatterpolar\":[{\"marker\":{\"colorbar\":{\"outlinewidth\":0,\"ticks\":\"\"}},\"type\":\"scatterpolar\"}],\"scatterpolargl\":[{\"marker\":{\"colorbar\":{\"outlinewidth\":0,\"ticks\":\"\"}},\"type\":\"scatterpolargl\"}],\"scatterternary\":[{\"marker\":{\"colorbar\":{\"outlinewidth\":0,\"ticks\":\"\"}},\"type\":\"scatterternary\"}],\"surface\":[{\"colorbar\":{\"outlinewidth\":0,\"ticks\":\"\"},\"colorscale\":[[0.0,\"#0d0887\"],[0.1111111111111111,\"#46039f\"],[0.2222222222222222,\"#7201a8\"],[0.3333333333333333,\"#9c179e\"],[0.4444444444444444,\"#bd3786\"],[0.5555555555555556,\"#d8576b\"],[0.6666666666666666,\"#ed7953\"],[0.7777777777777778,\"#fb9f3a\"],[0.8888888888888888,\"#fdca26\"],[1.0,\"#f0f921\"]],\"type\":\"surface\"}],\"table\":[{\"cells\":{\"fill\":{\"color\":\"#EBF0F8\"},\"line\":{\"color\":\"white\"}},\"header\":{\"fill\":{\"color\":\"#C8D4E3\"},\"line\":{\"color\":\"white\"}},\"type\":\"table\"}]},\"layout\":{\"annotationdefaults\":{\"arrowcolor\":\"#2a3f5f\",\"arrowhead\":0,\"arrowwidth\":1},\"autotypenumbers\":\"strict\",\"coloraxis\":{\"colorbar\":{\"outlinewidth\":0,\"ticks\":\"\"}},\"colorscale\":{\"diverging\":[[0,\"#8e0152\"],[0.1,\"#c51b7d\"],[0.2,\"#de77ae\"],[0.3,\"#f1b6da\"],[0.4,\"#fde0ef\"],[0.5,\"#f7f7f7\"],[0.6,\"#e6f5d0\"],[0.7,\"#b8e186\"],[0.8,\"#7fbc41\"],[0.9,\"#4d9221\"],[1,\"#276419\"]],\"sequential\":[[0.0,\"#0d0887\"],[0.1111111111111111,\"#46039f\"],[0.2222222222222222,\"#7201a8\"],[0.3333333333333333,\"#9c179e\"],[0.4444444444444444,\"#bd3786\"],[0.5555555555555556,\"#d8576b\"],[0.6666666666666666,\"#ed7953\"],[0.7777777777777778,\"#fb9f3a\"],[0.8888888888888888,\"#fdca26\"],[1.0,\"#f0f921\"]],\"sequentialminus\":[[0.0,\"#0d0887\"],[0.1111111111111111,\"#46039f\"],[0.2222222222222222,\"#7201a8\"],[0.3333333333333333,\"#9c179e\"],[0.4444444444444444,\"#bd3786\"],[0.5555555555555556,\"#d8576b\"],[0.6666666666666666,\"#ed7953\"],[0.7777777777777778,\"#fb9f3a\"],[0.8888888888888888,\"#fdca26\"],[1.0,\"#f0f921\"]]},\"colorway\":[\"#636efa\",\"#EF553B\",\"#00cc96\",\"#ab63fa\",\"#FFA15A\",\"#19d3f3\",\"#FF6692\",\"#B6E880\",\"#FF97FF\",\"#FECB52\"],\"font\":{\"color\":\"#2a3f5f\"},\"geo\":{\"bgcolor\":\"white\",\"lakecolor\":\"white\",\"landcolor\":\"#E5ECF6\",\"showlakes\":true,\"showland\":true,\"subunitcolor\":\"white\"},\"hoverlabel\":{\"align\":\"left\"},\"hovermode\":\"closest\",\"mapbox\":{\"style\":\"light\"},\"paper_bgcolor\":\"white\",\"plot_bgcolor\":\"#E5ECF6\",\"polar\":{\"angularaxis\":{\"gridcolor\":\"white\",\"linecolor\":\"white\",\"ticks\":\"\"},\"bgcolor\":\"#E5ECF6\",\"radialaxis\":{\"gridcolor\":\"white\",\"linecolor\":\"white\",\"ticks\":\"\"}},\"scene\":{\"xaxis\":{\"backgroundcolor\":\"#E5ECF6\",\"gridcolor\":\"white\",\"gridwidth\":2,\"linecolor\":\"white\",\"showbackground\":true,\"ticks\":\"\",\"zerolinecolor\":\"white\"},\"yaxis\":{\"backgroundcolor\":\"#E5ECF6\",\"gridcolor\":\"white\",\"gridwidth\":2,\"linecolor\":\"white\",\"showbackground\":true,\"ticks\":\"\",\"zerolinecolor\":\"white\"},\"zaxis\":{\"backgroundcolor\":\"#E5ECF6\",\"gridcolor\":\"white\",\"gridwidth\":2,\"linecolor\":\"white\",\"showbackground\":true,\"ticks\":\"\",\"zerolinecolor\":\"white\"}},\"shapedefaults\":{\"line\":{\"color\":\"#2a3f5f\"}},\"ternary\":{\"aaxis\":{\"gridcolor\":\"white\",\"linecolor\":\"white\",\"ticks\":\"\"},\"baxis\":{\"gridcolor\":\"white\",\"linecolor\":\"white\",\"ticks\":\"\"},\"bgcolor\":\"#E5ECF6\",\"caxis\":{\"gridcolor\":\"white\",\"linecolor\":\"white\",\"ticks\":\"\"}},\"title\":{\"x\":0.05},\"xaxis\":{\"automargin\":true,\"gridcolor\":\"white\",\"linecolor\":\"white\",\"ticks\":\"\",\"title\":{\"standoff\":15},\"zerolinecolor\":\"white\",\"zerolinewidth\":2},\"yaxis\":{\"automargin\":true,\"gridcolor\":\"white\",\"linecolor\":\"white\",\"ticks\":\"\",\"title\":{\"standoff\":15},\"zerolinecolor\":\"white\",\"zerolinewidth\":2}}},\"xaxis\":{\"anchor\":\"y\",\"domain\":[0.0,1.0],\"title\":{\"text\":\"lifeExp\"}},\"yaxis\":{\"anchor\":\"x\",\"domain\":[0.0,1.0],\"title\":{\"text\":\"gdpPercap\"}},\"legend\":{\"title\":{\"text\":\"country\"},\"tracegroupgap\":0},\"margin\":{\"t\":60}},                        {\"responsive\": true}                    ).then(function(){\n",
       "                            \n",
       "var gd = document.getElementById('f714eb7d-7f14-4885-8847-ec61cf6308af');\n",
       "var x = new MutationObserver(function (mutations, observer) {{\n",
       "        var display = window.getComputedStyle(gd).display;\n",
       "        if (!display || display === 'none') {{\n",
       "            console.log([gd, 'removed!']);\n",
       "            Plotly.purge(gd);\n",
       "            observer.disconnect();\n",
       "        }}\n",
       "}});\n",
       "\n",
       "// Listen for the removal of the full notebook cells\n",
       "var notebookContainer = gd.closest('#notebook-container');\n",
       "if (notebookContainer) {{\n",
       "    x.observe(notebookContainer, {childList: true});\n",
       "}}\n",
       "\n",
       "// Listen for the clearing of the current output cell\n",
       "var outputEl = gd.closest('.output');\n",
       "if (outputEl) {{\n",
       "    x.observe(outputEl, {childList: true});\n",
       "}}\n",
       "\n",
       "                        })                };                });            </script>        </div>"
      ]
     },
     "metadata": {},
     "output_type": "display_data"
    }
   ],
   "source": [
    "import plotly.express as px\n",
    "\n",
    "df = px.data.gapminder().query(\"country in ['Canada', 'Botswana']\")\n",
    "\n",
    "fig = px.line(df, x=\"lifeExp\", y=\"gdpPercap\", color=\"country\", text=\"year\")\n",
    "fig.update_traces(textposition=\"bottom right\")\n",
    "fig.show('json')\n",
    "fig.show()"
   ]
  },
  {
   "cell_type": "code",
   "execution_count": 249,
   "id": "a2304207-3365-461d-bc74-192c78df5be5",
   "metadata": {},
   "outputs": [
    {
     "data": {
      "text/html": [
       "<div>\n",
       "<style scoped>\n",
       "    .dataframe tbody tr th:only-of-type {\n",
       "        vertical-align: middle;\n",
       "    }\n",
       "\n",
       "    .dataframe tbody tr th {\n",
       "        vertical-align: top;\n",
       "    }\n",
       "\n",
       "    .dataframe thead th {\n",
       "        text-align: right;\n",
       "    }\n",
       "</style>\n",
       "<table border=\"1\" class=\"dataframe\">\n",
       "  <thead>\n",
       "    <tr style=\"text-align: right;\">\n",
       "      <th></th>\n",
       "      <th>603392.SS</th>\n",
       "    </tr>\n",
       "    <tr>\n",
       "      <th>Date</th>\n",
       "      <th></th>\n",
       "    </tr>\n",
       "  </thead>\n",
       "  <tbody>\n",
       "    <tr>\n",
       "      <th>2021-03-26</th>\n",
       "      <td>0.055535</td>\n",
       "    </tr>\n",
       "    <tr>\n",
       "      <th>2021-04-02</th>\n",
       "      <td>0.056460</td>\n",
       "    </tr>\n",
       "    <tr>\n",
       "      <th>2021-04-09</th>\n",
       "      <td>0.058510</td>\n",
       "    </tr>\n",
       "    <tr>\n",
       "      <th>2021-04-16</th>\n",
       "      <td>0.058717</td>\n",
       "    </tr>\n",
       "    <tr>\n",
       "      <th>2021-04-23</th>\n",
       "      <td>0.059952</td>\n",
       "    </tr>\n",
       "    <tr>\n",
       "      <th>2021-04-30</th>\n",
       "      <td>0.059645</td>\n",
       "    </tr>\n",
       "    <tr>\n",
       "      <th>2021-05-07</th>\n",
       "      <td>0.053020</td>\n",
       "    </tr>\n",
       "    <tr>\n",
       "      <th>2021-05-14</th>\n",
       "      <td>0.045988</td>\n",
       "    </tr>\n",
       "    <tr>\n",
       "      <th>2021-05-21</th>\n",
       "      <td>0.036591</td>\n",
       "    </tr>\n",
       "    <tr>\n",
       "      <th>2021-05-28</th>\n",
       "      <td>0.026370</td>\n",
       "    </tr>\n",
       "    <tr>\n",
       "      <th>2021-06-04</th>\n",
       "      <td>0.018809</td>\n",
       "    </tr>\n",
       "    <tr>\n",
       "      <th>2021-06-11</th>\n",
       "      <td>0.016005</td>\n",
       "    </tr>\n",
       "    <tr>\n",
       "      <th>2021-06-18</th>\n",
       "      <td>0.015343</td>\n",
       "    </tr>\n",
       "    <tr>\n",
       "      <th>2021-06-25</th>\n",
       "      <td>0.016147</td>\n",
       "    </tr>\n",
       "    <tr>\n",
       "      <th>2021-07-02</th>\n",
       "      <td>0.014820</td>\n",
       "    </tr>\n",
       "    <tr>\n",
       "      <th>2021-07-09</th>\n",
       "      <td>0.010594</td>\n",
       "    </tr>\n",
       "    <tr>\n",
       "      <th>2021-07-16</th>\n",
       "      <td>0.010543</td>\n",
       "    </tr>\n",
       "    <tr>\n",
       "      <th>2021-07-23</th>\n",
       "      <td>0.010666</td>\n",
       "    </tr>\n",
       "    <tr>\n",
       "      <th>2021-07-30</th>\n",
       "      <td>0.007302</td>\n",
       "    </tr>\n",
       "    <tr>\n",
       "      <th>2021-08-06</th>\n",
       "      <td>0.007714</td>\n",
       "    </tr>\n",
       "    <tr>\n",
       "      <th>2021-08-13</th>\n",
       "      <td>0.009821</td>\n",
       "    </tr>\n",
       "    <tr>\n",
       "      <th>2021-08-20</th>\n",
       "      <td>0.007671</td>\n",
       "    </tr>\n",
       "    <tr>\n",
       "      <th>2021-08-27</th>\n",
       "      <td>0.008121</td>\n",
       "    </tr>\n",
       "    <tr>\n",
       "      <th>2021-09-03</th>\n",
       "      <td>0.004711</td>\n",
       "    </tr>\n",
       "    <tr>\n",
       "      <th>2021-09-10</th>\n",
       "      <td>0.007471</td>\n",
       "    </tr>\n",
       "    <tr>\n",
       "      <th>2021-09-17</th>\n",
       "      <td>0.007174</td>\n",
       "    </tr>\n",
       "    <tr>\n",
       "      <th>2021-09-24</th>\n",
       "      <td>0.009090</td>\n",
       "    </tr>\n",
       "    <tr>\n",
       "      <th>2021-10-01</th>\n",
       "      <td>0.010033</td>\n",
       "    </tr>\n",
       "    <tr>\n",
       "      <th>2021-10-08</th>\n",
       "      <td>0.009058</td>\n",
       "    </tr>\n",
       "    <tr>\n",
       "      <th>2021-10-15</th>\n",
       "      <td>0.011123</td>\n",
       "    </tr>\n",
       "    <tr>\n",
       "      <th>2021-10-22</th>\n",
       "      <td>0.011689</td>\n",
       "    </tr>\n",
       "    <tr>\n",
       "      <th>2021-10-29</th>\n",
       "      <td>0.009160</td>\n",
       "    </tr>\n",
       "    <tr>\n",
       "      <th>2021-11-05</th>\n",
       "      <td>0.009020</td>\n",
       "    </tr>\n",
       "    <tr>\n",
       "      <th>2021-11-12</th>\n",
       "      <td>0.008855</td>\n",
       "    </tr>\n",
       "    <tr>\n",
       "      <th>2021-11-19</th>\n",
       "      <td>0.012795</td>\n",
       "    </tr>\n",
       "    <tr>\n",
       "      <th>2021-11-26</th>\n",
       "      <td>0.013346</td>\n",
       "    </tr>\n",
       "    <tr>\n",
       "      <th>2021-12-03</th>\n",
       "      <td>0.012065</td>\n",
       "    </tr>\n",
       "    <tr>\n",
       "      <th>2021-12-10</th>\n",
       "      <td>0.011229</td>\n",
       "    </tr>\n",
       "    <tr>\n",
       "      <th>2021-12-17</th>\n",
       "      <td>0.009273</td>\n",
       "    </tr>\n",
       "    <tr>\n",
       "      <th>2021-12-24</th>\n",
       "      <td>0.008753</td>\n",
       "    </tr>\n",
       "    <tr>\n",
       "      <th>2021-12-31</th>\n",
       "      <td>0.008302</td>\n",
       "    </tr>\n",
       "    <tr>\n",
       "      <th>2022-01-07</th>\n",
       "      <td>0.001998</td>\n",
       "    </tr>\n",
       "    <tr>\n",
       "      <th>2022-01-14</th>\n",
       "      <td>0.003723</td>\n",
       "    </tr>\n",
       "    <tr>\n",
       "      <th>2022-01-21</th>\n",
       "      <td>0.000814</td>\n",
       "    </tr>\n",
       "    <tr>\n",
       "      <th>2022-01-28</th>\n",
       "      <td>-0.000618</td>\n",
       "    </tr>\n",
       "    <tr>\n",
       "      <th>2022-02-04</th>\n",
       "      <td>0.000232</td>\n",
       "    </tr>\n",
       "    <tr>\n",
       "      <th>2022-02-11</th>\n",
       "      <td>-0.001405</td>\n",
       "    </tr>\n",
       "    <tr>\n",
       "      <th>2022-02-18</th>\n",
       "      <td>0.003617</td>\n",
       "    </tr>\n",
       "    <tr>\n",
       "      <th>2022-02-25</th>\n",
       "      <td>0.007871</td>\n",
       "    </tr>\n",
       "    <tr>\n",
       "      <th>2022-03-04</th>\n",
       "      <td>0.008503</td>\n",
       "    </tr>\n",
       "    <tr>\n",
       "      <th>2022-03-11</th>\n",
       "      <td>0.009479</td>\n",
       "    </tr>\n",
       "    <tr>\n",
       "      <th>2022-03-18</th>\n",
       "      <td>0.010355</td>\n",
       "    </tr>\n",
       "  </tbody>\n",
       "</table>\n",
       "</div>"
      ],
      "text/plain": [
       "            603392.SS\n",
       "Date                 \n",
       "2021-03-26   0.055535\n",
       "2021-04-02   0.056460\n",
       "2021-04-09   0.058510\n",
       "2021-04-16   0.058717\n",
       "2021-04-23   0.059952\n",
       "2021-04-30   0.059645\n",
       "2021-05-07   0.053020\n",
       "2021-05-14   0.045988\n",
       "2021-05-21   0.036591\n",
       "2021-05-28   0.026370\n",
       "2021-06-04   0.018809\n",
       "2021-06-11   0.016005\n",
       "2021-06-18   0.015343\n",
       "2021-06-25   0.016147\n",
       "2021-07-02   0.014820\n",
       "2021-07-09   0.010594\n",
       "2021-07-16   0.010543\n",
       "2021-07-23   0.010666\n",
       "2021-07-30   0.007302\n",
       "2021-08-06   0.007714\n",
       "2021-08-13   0.009821\n",
       "2021-08-20   0.007671\n",
       "2021-08-27   0.008121\n",
       "2021-09-03   0.004711\n",
       "2021-09-10   0.007471\n",
       "2021-09-17   0.007174\n",
       "2021-09-24   0.009090\n",
       "2021-10-01   0.010033\n",
       "2021-10-08   0.009058\n",
       "2021-10-15   0.011123\n",
       "2021-10-22   0.011689\n",
       "2021-10-29   0.009160\n",
       "2021-11-05   0.009020\n",
       "2021-11-12   0.008855\n",
       "2021-11-19   0.012795\n",
       "2021-11-26   0.013346\n",
       "2021-12-03   0.012065\n",
       "2021-12-10   0.011229\n",
       "2021-12-17   0.009273\n",
       "2021-12-24   0.008753\n",
       "2021-12-31   0.008302\n",
       "2022-01-07   0.001998\n",
       "2022-01-14   0.003723\n",
       "2022-01-21   0.000814\n",
       "2022-01-28  -0.000618\n",
       "2022-02-04   0.000232\n",
       "2022-02-11  -0.001405\n",
       "2022-02-18   0.003617\n",
       "2022-02-25   0.007871\n",
       "2022-03-04   0.008503\n",
       "2022-03-11   0.009479\n",
       "2022-03-18   0.010355"
      ]
     },
     "execution_count": 249,
     "metadata": {},
     "output_type": "execute_result"
    }
   ],
   "source": [
    "df_weekly_return_rolling_1y_mean.loc[:, df_weekly_return_rolling_1y_mean.columns.isin(['603392.SS'])]\n"
   ]
  },
  {
   "cell_type": "code",
   "execution_count": 227,
   "id": "19918409-a7af-40cd-8093-97ccf6f50e72",
   "metadata": {},
   "outputs": [
    {
     "data": {
      "text/html": [
       "<div>\n",
       "<style scoped>\n",
       "    .dataframe tbody tr th:only-of-type {\n",
       "        vertical-align: middle;\n",
       "    }\n",
       "\n",
       "    .dataframe tbody tr th {\n",
       "        vertical-align: top;\n",
       "    }\n",
       "\n",
       "    .dataframe thead th {\n",
       "        text-align: right;\n",
       "    }\n",
       "</style>\n",
       "<table border=\"1\" class=\"dataframe\">\n",
       "  <thead>\n",
       "    <tr style=\"text-align: right;\">\n",
       "      <th></th>\n",
       "      <th>603392.SS</th>\n",
       "    </tr>\n",
       "    <tr>\n",
       "      <th>Date</th>\n",
       "      <th></th>\n",
       "    </tr>\n",
       "  </thead>\n",
       "  <tbody>\n",
       "    <tr>\n",
       "      <th>2021-03-26</th>\n",
       "      <td>1.153670</td>\n",
       "    </tr>\n",
       "    <tr>\n",
       "      <th>2021-04-02</th>\n",
       "      <td>1.152311</td>\n",
       "    </tr>\n",
       "    <tr>\n",
       "      <th>2021-04-09</th>\n",
       "      <td>1.151918</td>\n",
       "    </tr>\n",
       "    <tr>\n",
       "      <th>2021-04-16</th>\n",
       "      <td>1.151411</td>\n",
       "    </tr>\n",
       "    <tr>\n",
       "      <th>2021-04-23</th>\n",
       "      <td>1.149862</td>\n",
       "    </tr>\n",
       "    <tr>\n",
       "      <th>2021-04-30</th>\n",
       "      <td>1.150821</td>\n",
       "    </tr>\n",
       "    <tr>\n",
       "      <th>2021-05-07</th>\n",
       "      <td>1.132973</td>\n",
       "    </tr>\n",
       "    <tr>\n",
       "      <th>2021-05-14</th>\n",
       "      <td>1.049534</td>\n",
       "    </tr>\n",
       "    <tr>\n",
       "      <th>2021-05-21</th>\n",
       "      <td>0.954602</td>\n",
       "    </tr>\n",
       "    <tr>\n",
       "      <th>2021-05-28</th>\n",
       "      <td>0.846714</td>\n",
       "    </tr>\n",
       "    <tr>\n",
       "      <th>2021-06-04</th>\n",
       "      <td>0.714570</td>\n",
       "    </tr>\n",
       "    <tr>\n",
       "      <th>2021-06-11</th>\n",
       "      <td>0.688555</td>\n",
       "    </tr>\n",
       "    <tr>\n",
       "      <th>2021-06-18</th>\n",
       "      <td>0.688305</td>\n",
       "    </tr>\n",
       "    <tr>\n",
       "      <th>2021-06-25</th>\n",
       "      <td>0.686530</td>\n",
       "    </tr>\n",
       "    <tr>\n",
       "      <th>2021-07-02</th>\n",
       "      <td>0.687863</td>\n",
       "    </tr>\n",
       "    <tr>\n",
       "      <th>2021-07-09</th>\n",
       "      <td>0.651086</td>\n",
       "    </tr>\n",
       "    <tr>\n",
       "      <th>2021-07-16</th>\n",
       "      <td>0.650783</td>\n",
       "    </tr>\n",
       "    <tr>\n",
       "      <th>2021-07-23</th>\n",
       "      <td>0.650241</td>\n",
       "    </tr>\n",
       "    <tr>\n",
       "      <th>2021-07-30</th>\n",
       "      <td>0.614272</td>\n",
       "    </tr>\n",
       "    <tr>\n",
       "      <th>2021-08-06</th>\n",
       "      <td>0.614735</td>\n",
       "    </tr>\n",
       "    <tr>\n",
       "      <th>2021-08-13</th>\n",
       "      <td>0.577749</td>\n",
       "    </tr>\n",
       "    <tr>\n",
       "      <th>2021-08-20</th>\n",
       "      <td>0.587071</td>\n",
       "    </tr>\n",
       "    <tr>\n",
       "      <th>2021-08-27</th>\n",
       "      <td>0.588470</td>\n",
       "    </tr>\n",
       "    <tr>\n",
       "      <th>2021-09-03</th>\n",
       "      <td>0.622763</td>\n",
       "    </tr>\n",
       "    <tr>\n",
       "      <th>2021-09-10</th>\n",
       "      <td>0.595553</td>\n",
       "    </tr>\n",
       "    <tr>\n",
       "      <th>2021-09-17</th>\n",
       "      <td>0.595144</td>\n",
       "    </tr>\n",
       "    <tr>\n",
       "      <th>2021-09-24</th>\n",
       "      <td>0.605689</td>\n",
       "    </tr>\n",
       "    <tr>\n",
       "      <th>2021-10-01</th>\n",
       "      <td>0.605329</td>\n",
       "    </tr>\n",
       "    <tr>\n",
       "      <th>2021-10-08</th>\n",
       "      <td>0.605140</td>\n",
       "    </tr>\n",
       "    <tr>\n",
       "      <th>2021-10-15</th>\n",
       "      <td>0.612041</td>\n",
       "    </tr>\n",
       "    <tr>\n",
       "      <th>2021-10-22</th>\n",
       "      <td>0.607346</td>\n",
       "    </tr>\n",
       "    <tr>\n",
       "      <th>2021-10-29</th>\n",
       "      <td>0.600118</td>\n",
       "    </tr>\n",
       "    <tr>\n",
       "      <th>2021-11-05</th>\n",
       "      <td>0.600142</td>\n",
       "    </tr>\n",
       "    <tr>\n",
       "      <th>2021-11-12</th>\n",
       "      <td>0.600789</td>\n",
       "    </tr>\n",
       "    <tr>\n",
       "      <th>2021-11-19</th>\n",
       "      <td>0.620747</td>\n",
       "    </tr>\n",
       "    <tr>\n",
       "      <th>2021-11-26</th>\n",
       "      <td>0.618082</td>\n",
       "    </tr>\n",
       "    <tr>\n",
       "      <th>2021-12-03</th>\n",
       "      <td>0.617768</td>\n",
       "    </tr>\n",
       "    <tr>\n",
       "      <th>2021-12-10</th>\n",
       "      <td>0.615358</td>\n",
       "    </tr>\n",
       "    <tr>\n",
       "      <th>2021-12-17</th>\n",
       "      <td>0.619912</td>\n",
       "    </tr>\n",
       "    <tr>\n",
       "      <th>2021-12-24</th>\n",
       "      <td>0.620049</td>\n",
       "    </tr>\n",
       "    <tr>\n",
       "      <th>2021-12-31</th>\n",
       "      <td>0.621284</td>\n",
       "    </tr>\n",
       "    <tr>\n",
       "      <th>2022-01-07</th>\n",
       "      <td>0.588139</td>\n",
       "    </tr>\n",
       "    <tr>\n",
       "      <th>2022-01-14</th>\n",
       "      <td>0.590084</td>\n",
       "    </tr>\n",
       "    <tr>\n",
       "      <th>2022-01-21</th>\n",
       "      <td>0.544072</td>\n",
       "    </tr>\n",
       "    <tr>\n",
       "      <th>2022-01-28</th>\n",
       "      <td>0.545348</td>\n",
       "    </tr>\n",
       "    <tr>\n",
       "      <th>2022-02-04</th>\n",
       "      <td>0.543537</td>\n",
       "    </tr>\n",
       "    <tr>\n",
       "      <th>2022-02-11</th>\n",
       "      <td>0.536610</td>\n",
       "    </tr>\n",
       "    <tr>\n",
       "      <th>2022-02-18</th>\n",
       "      <td>0.548435</td>\n",
       "    </tr>\n",
       "    <tr>\n",
       "      <th>2022-02-25</th>\n",
       "      <td>0.509364</td>\n",
       "    </tr>\n",
       "    <tr>\n",
       "      <th>2022-03-04</th>\n",
       "      <td>0.506271</td>\n",
       "    </tr>\n",
       "    <tr>\n",
       "      <th>2022-03-11</th>\n",
       "      <td>0.505581</td>\n",
       "    </tr>\n",
       "    <tr>\n",
       "      <th>2022-03-18</th>\n",
       "      <td>0.509698</td>\n",
       "    </tr>\n",
       "  </tbody>\n",
       "</table>\n",
       "</div>"
      ],
      "text/plain": [
       "            603392.SS\n",
       "Date                 \n",
       "2021-03-26   1.153670\n",
       "2021-04-02   1.152311\n",
       "2021-04-09   1.151918\n",
       "2021-04-16   1.151411\n",
       "2021-04-23   1.149862\n",
       "2021-04-30   1.150821\n",
       "2021-05-07   1.132973\n",
       "2021-05-14   1.049534\n",
       "2021-05-21   0.954602\n",
       "2021-05-28   0.846714\n",
       "2021-06-04   0.714570\n",
       "2021-06-11   0.688555\n",
       "2021-06-18   0.688305\n",
       "2021-06-25   0.686530\n",
       "2021-07-02   0.687863\n",
       "2021-07-09   0.651086\n",
       "2021-07-16   0.650783\n",
       "2021-07-23   0.650241\n",
       "2021-07-30   0.614272\n",
       "2021-08-06   0.614735\n",
       "2021-08-13   0.577749\n",
       "2021-08-20   0.587071\n",
       "2021-08-27   0.588470\n",
       "2021-09-03   0.622763\n",
       "2021-09-10   0.595553\n",
       "2021-09-17   0.595144\n",
       "2021-09-24   0.605689\n",
       "2021-10-01   0.605329\n",
       "2021-10-08   0.605140\n",
       "2021-10-15   0.612041\n",
       "2021-10-22   0.607346\n",
       "2021-10-29   0.600118\n",
       "2021-11-05   0.600142\n",
       "2021-11-12   0.600789\n",
       "2021-11-19   0.620747\n",
       "2021-11-26   0.618082\n",
       "2021-12-03   0.617768\n",
       "2021-12-10   0.615358\n",
       "2021-12-17   0.619912\n",
       "2021-12-24   0.620049\n",
       "2021-12-31   0.621284\n",
       "2022-01-07   0.588139\n",
       "2022-01-14   0.590084\n",
       "2022-01-21   0.544072\n",
       "2022-01-28   0.545348\n",
       "2022-02-04   0.543537\n",
       "2022-02-11   0.536610\n",
       "2022-02-18   0.548435\n",
       "2022-02-25   0.509364\n",
       "2022-03-04   0.506271\n",
       "2022-03-11   0.505581\n",
       "2022-03-18   0.509698"
      ]
     },
     "execution_count": 227,
     "metadata": {},
     "output_type": "execute_result"
    }
   ],
   "source": [
    "df_weekly_return_rolling_1y_volann.loc[:, df_weekly_return_rolling_1y_volann.columns.isin(['603392.SS'])]"
   ]
  },
  {
   "cell_type": "code",
   "execution_count": 223,
   "id": "dcb57457-c410-4ac9-b141-8d06e61643fd",
   "metadata": {},
   "outputs": [
    {
     "data": {
      "text/plain": [
       "DatetimeIndex(['2021-03-26', '2021-04-02', '2021-04-09', '2021-04-16',\n",
       "               '2021-04-23', '2021-04-30', '2021-05-07', '2021-05-14',\n",
       "               '2021-05-21', '2021-05-28', '2021-06-04', '2021-06-11',\n",
       "               '2021-06-18', '2021-06-25', '2021-07-02', '2021-07-09',\n",
       "               '2021-07-16', '2021-07-23', '2021-07-30', '2021-08-06',\n",
       "               '2021-08-13', '2021-08-20', '2021-08-27', '2021-09-03',\n",
       "               '2021-09-10', '2021-09-17', '2021-09-24', '2021-10-01',\n",
       "               '2021-10-08', '2021-10-15', '2021-10-22', '2021-10-29',\n",
       "               '2021-11-05', '2021-11-12', '2021-11-19', '2021-11-26',\n",
       "               '2021-12-03', '2021-12-10', '2021-12-17', '2021-12-24',\n",
       "               '2021-12-31', '2022-01-07', '2022-01-14', '2022-01-21',\n",
       "               '2022-01-28', '2022-02-04', '2022-02-11', '2022-02-18',\n",
       "               '2022-02-25', '2022-03-04', '2022-03-11', '2022-03-18'],\n",
       "              dtype='datetime64[ns]', name='Date', freq='W-FRI')"
      ]
     },
     "execution_count": 223,
     "metadata": {},
     "output_type": "execute_result"
    }
   ],
   "source": [
    "df_weekly_return_rolling_1y_mean.index"
   ]
  },
  {
   "cell_type": "markdown",
   "id": "fdbfcc93-0c93-4f1b-b54a-237a18b1b017",
   "metadata": {},
   "source": [
    "## Animation"
   ]
  },
  {
   "cell_type": "code",
   "execution_count": 214,
   "id": "22fcd850-71fc-417c-9fc5-6c815f07fc86",
   "metadata": {},
   "outputs": [],
   "source": [
    "import plotly.express as px\n",
    "df = px.data.gapminder()\n",
    "fig_ani = px.scatter(df, x=\"gdpPercap\", y=\"lifeExp\", animation_frame=\"year\", animation_group=\"country\",\n",
    "           size=\"pop\", color=\"continent\", hover_name=\"country\",\n",
    "           log_x=True, size_max=55, range_x=[100,100000], range_y=[25,90])"
   ]
  },
  {
   "cell_type": "code",
   "execution_count": 215,
   "id": "acbf93a0-5404-464e-b0e1-73e7e857ac77",
   "metadata": {},
   "outputs": [],
   "source": [
    "# fig_ani.show()"
   ]
  },
  {
   "cell_type": "code",
   "execution_count": 216,
   "id": "045a658e-e719-4ae0-b700-e94ff5278fa7",
   "metadata": {},
   "outputs": [],
   "source": [
    "# fig_ani.update_xaxes(tickformat='.2%')"
   ]
  },
  {
   "cell_type": "code",
   "execution_count": null,
   "id": "d4294380-7ff7-4132-85ce-6e84332adaf5",
   "metadata": {},
   "outputs": [],
   "source": [
    "import plotly.express as px\n",
    "df = px.data.gapminder().query(\"year == 2007\").sort_values(by=\"lifeExp\")\n",
    "fig = px.bar(df, y=\"continent\", x=\"pop\", color=\"lifeExp\", orientation=\"h\",\n",
    "             color_continuous_scale='Bluered_r', hover_name=\"country\")\n",
    "\n",
    "fig.show()"
   ]
  },
  {
   "cell_type": "markdown",
   "id": "2c1573c5-ff9a-47eb-a516-a466c293205d",
   "metadata": {},
   "source": [
    "## Color scale"
   ]
  },
  {
   "cell_type": "code",
   "execution_count": 217,
   "id": "d5c94c1b-8842-442c-a7b3-419ed1bace5c",
   "metadata": {},
   "outputs": [
    {
     "data": {
      "application/vnd.plotly.v1+json": {
       "config": {
        "plotlyServerURL": "https://plot.ly"
       },
       "data": [
        {
         "alignmentgroup": "True",
         "hovertemplate": "<b>%{hovertext}</b><br><br>pop=%{x}<br>continent=%{y}<br>lifeExp=%{marker.color}<extra></extra>",
         "hovertext": [
          "Swaziland",
          "Mozambique",
          "Zambia",
          "Sierra Leone",
          "Lesotho",
          "Angola",
          "Zimbabwe",
          "Afghanistan",
          "Central African Republic",
          "Liberia",
          "Rwanda",
          "Guinea-Bissau",
          "Congo, Dem. Rep.",
          "Nigeria",
          "Somalia",
          "Malawi",
          "Cote d'Ivoire",
          "South Africa",
          "Burundi",
          "Cameroon",
          "Chad",
          "Botswana",
          "Uganda",
          "Equatorial Guinea",
          "Burkina Faso",
          "Tanzania",
          "Namibia",
          "Ethiopia",
          "Kenya",
          "Mali",
          "Djibouti",
          "Congo, Rep.",
          "Guinea",
          "Benin",
          "Gabon",
          "Niger",
          "Eritrea",
          "Togo",
          "Sudan",
          "Madagascar",
          "Gambia",
          "Iraq",
          "Cambodia",
          "Ghana",
          "Haiti",
          "Myanmar",
          "Yemen, Rep.",
          "Senegal",
          "Nepal",
          "Bangladesh",
          "Mauritania",
          "India",
          "Comoros",
          "Pakistan",
          "Sao Tome and Principe",
          "Bolivia",
          "Mongolia",
          "Korea, Dem. Rep.",
          "Trinidad and Tobago",
          "Honduras",
          "Guatemala",
          "Thailand",
          "Indonesia",
          "Iran",
          "Morocco",
          "Egypt",
          "Peru",
          "Philippines",
          "Paraguay",
          "Turkey",
          "El Salvador",
          "Lebanon",
          "Dominican Republic",
          "Algeria",
          "Brazil",
          "Sri Lanka",
          "Romania",
          "Jordan",
          "Jamaica",
          "Saudi Arabia",
          "Mauritius",
          "Colombia",
          "Nicaragua",
          "China",
          "Bulgaria",
          "Hungary",
          "West Bank and Gaza",
          "Venezuela",
          "Tunisia",
          "Libya",
          "Serbia",
          "Syria",
          "Malaysia",
          "Vietnam",
          "Montenegro",
          "Slovak Republic",
          "Bosnia and Herzegovina",
          "Ecuador",
          "Argentina",
          "Panama",
          "Poland",
          "Bahrain",
          "Oman",
          "Croatia",
          "Mexico",
          "Uruguay",
          "Albania",
          "Reunion",
          "Czech Republic",
          "Kuwait",
          "Slovenia",
          "Portugal",
          "United States",
          "Cuba",
          "Denmark",
          "Taiwan",
          "Chile",
          "Korea, Rep.",
          "Puerto Rico",
          "Costa Rica",
          "Ireland",
          "Finland",
          "Germany",
          "United Kingdom",
          "Belgium",
          "Greece",
          "Netherlands",
          "Austria",
          "Singapore",
          "Norway",
          "New Zealand",
          "Italy",
          "Canada",
          "France",
          "Israel",
          "Sweden",
          "Spain",
          "Australia",
          "Switzerland",
          "Iceland",
          "Hong Kong, China",
          "Japan"
         ],
         "legendgroup": "",
         "marker": {
          "color": [
           39.613,
           42.082,
           42.38399999999999,
           42.56800000000001,
           42.592,
           42.731,
           43.487,
           43.828,
           44.74100000000001,
           45.678,
           46.242,
           46.38800000000001,
           46.462,
           46.859,
           48.159,
           48.303,
           48.328,
           49.339,
           49.58,
           50.43,
           50.651,
           50.728,
           51.542,
           51.57899999999999,
           52.295,
           52.517,
           52.90600000000001,
           52.947,
           54.11,
           54.467,
           54.791,
           55.322,
           56.007,
           56.728,
           56.735,
           56.867,
           58.04,
           58.42,
           58.556,
           59.44300000000001,
           59.448,
           59.545,
           59.723,
           60.022,
           60.916,
           62.069,
           62.698,
           63.062,
           63.785,
           64.062,
           64.164,
           64.69800000000001,
           65.152,
           65.483,
           65.528,
           65.554,
           66.803,
           67.297,
           69.819,
           70.19800000000001,
           70.259,
           70.616,
           70.65,
           70.964,
           71.164,
           71.33800000000002,
           71.421,
           71.688,
           71.752,
           71.777,
           71.878,
           71.993,
           72.235,
           72.301,
           72.39,
           72.396,
           72.476,
           72.535,
           72.567,
           72.777,
           72.801,
           72.889,
           72.899,
           72.961,
           73.005,
           73.33800000000002,
           73.422,
           73.747,
           73.923,
           73.952,
           74.002,
           74.143,
           74.241,
           74.249,
           74.543,
           74.663,
           74.852,
           74.994,
           75.32,
           75.53699999999998,
           75.563,
           75.635,
           75.64,
           75.748,
           76.195,
           76.384,
           76.423,
           76.442,
           76.486,
           77.58800000000002,
           77.926,
           78.098,
           78.242,
           78.273,
           78.332,
           78.4,
           78.553,
           78.623,
           78.74600000000002,
           78.782,
           78.885,
           79.313,
           79.406,
           79.425,
           79.441,
           79.483,
           79.762,
           79.829,
           79.972,
           80.196,
           80.204,
           80.546,
           80.653,
           80.657,
           80.745,
           80.884,
           80.941,
           81.235,
           81.70100000000002,
           81.757,
           82.208,
           82.603
          ],
          "coloraxis": "coloraxis",
          "pattern": {
           "shape": ""
          }
         },
         "name": "",
         "offsetgroup": "",
         "orientation": "h",
         "showlegend": false,
         "textposition": "auto",
         "type": "bar",
         "x": [
          1133066,
          19951656,
          11746035,
          6144562,
          2012649,
          12420476,
          12311143,
          31889923,
          4369038,
          3193942,
          8860588,
          1472041,
          64606759,
          135031164,
          9118773,
          13327079,
          18013409,
          43997828,
          8390505,
          17696293,
          10238807,
          1639131,
          29170398,
          551201,
          14326203,
          38139640,
          2055080,
          76511887,
          35610177,
          12031795,
          496374,
          3800610,
          9947814,
          8078314,
          1454867,
          12894865,
          4906585,
          5701579,
          42292929,
          19167654,
          1688359,
          27499638,
          14131858,
          22873338,
          8502814,
          47761980,
          22211743,
          12267493,
          28901790,
          150448339,
          3270065,
          1110396331,
          710960,
          169270617,
          199579,
          9119152,
          2874127,
          23301725,
          1056608,
          7483763,
          12572928,
          65068149,
          223547000,
          69453570,
          33757175,
          80264543,
          28674757,
          91077287,
          6667147,
          71158647,
          6939688,
          3921278,
          9319622,
          33333216,
          190010647,
          20378239,
          22276056,
          6053193,
          2780132,
          27601038,
          1250882,
          44227550,
          5675356,
          1318683096,
          7322858,
          9956108,
          4018332,
          26084662,
          10276158,
          6036914,
          10150265,
          19314747,
          24821286,
          85262356,
          684736,
          5447502,
          4552198,
          13755680,
          40301927,
          3242173,
          38518241,
          708573,
          3204897,
          4493312,
          108700891,
          3447496,
          3600523,
          798094,
          10228744,
          2505559,
          2009245,
          10642836,
          301139947,
          11416987,
          5468120,
          23174294,
          16284741,
          49044790,
          3942491,
          4133884,
          4109086,
          5238460,
          82400996,
          60776238,
          10392226,
          10706290,
          16570613,
          8199783,
          4553009,
          4627926,
          4115771,
          58147733,
          33390141,
          61083916,
          6426679,
          9031088,
          40448191,
          20434176,
          7554661,
          301931,
          6980412,
          127467972
         ],
         "xaxis": "x",
         "y": [
          "Africa",
          "Africa",
          "Africa",
          "Africa",
          "Africa",
          "Africa",
          "Africa",
          "Asia",
          "Africa",
          "Africa",
          "Africa",
          "Africa",
          "Africa",
          "Africa",
          "Africa",
          "Africa",
          "Africa",
          "Africa",
          "Africa",
          "Africa",
          "Africa",
          "Africa",
          "Africa",
          "Africa",
          "Africa",
          "Africa",
          "Africa",
          "Africa",
          "Africa",
          "Africa",
          "Africa",
          "Africa",
          "Africa",
          "Africa",
          "Africa",
          "Africa",
          "Africa",
          "Africa",
          "Africa",
          "Africa",
          "Africa",
          "Asia",
          "Asia",
          "Africa",
          "Americas",
          "Asia",
          "Asia",
          "Africa",
          "Asia",
          "Asia",
          "Africa",
          "Asia",
          "Africa",
          "Asia",
          "Africa",
          "Americas",
          "Asia",
          "Asia",
          "Americas",
          "Americas",
          "Americas",
          "Asia",
          "Asia",
          "Asia",
          "Africa",
          "Africa",
          "Americas",
          "Asia",
          "Americas",
          "Europe",
          "Americas",
          "Asia",
          "Americas",
          "Africa",
          "Americas",
          "Asia",
          "Europe",
          "Asia",
          "Americas",
          "Asia",
          "Africa",
          "Americas",
          "Americas",
          "Asia",
          "Europe",
          "Europe",
          "Asia",
          "Americas",
          "Africa",
          "Africa",
          "Europe",
          "Asia",
          "Asia",
          "Asia",
          "Europe",
          "Europe",
          "Europe",
          "Americas",
          "Americas",
          "Americas",
          "Europe",
          "Asia",
          "Asia",
          "Europe",
          "Americas",
          "Americas",
          "Europe",
          "Africa",
          "Europe",
          "Asia",
          "Europe",
          "Europe",
          "Americas",
          "Americas",
          "Europe",
          "Asia",
          "Americas",
          "Asia",
          "Americas",
          "Americas",
          "Europe",
          "Europe",
          "Europe",
          "Europe",
          "Europe",
          "Europe",
          "Europe",
          "Europe",
          "Asia",
          "Europe",
          "Oceania",
          "Europe",
          "Americas",
          "Europe",
          "Asia",
          "Europe",
          "Europe",
          "Oceania",
          "Europe",
          "Europe",
          "Asia",
          "Asia"
         ],
         "yaxis": "y"
        }
       ],
       "layout": {
        "autosize": true,
        "barmode": "relative",
        "coloraxis": {
         "colorbar": {
          "title": {
           "text": "lifeExp"
          }
         },
         "colorscale": [
          [
           0,
           "rgb(255,0,0)"
          ],
          [
           1,
           "rgb(0,0,255)"
          ]
         ]
        },
        "legend": {
         "tracegroupgap": 0
        },
        "margin": {
         "t": 60
        },
        "template": {
         "data": {
          "bar": [
           {
            "error_x": {
             "color": "#2a3f5f"
            },
            "error_y": {
             "color": "#2a3f5f"
            },
            "marker": {
             "line": {
              "color": "#E5ECF6",
              "width": 0.5
             },
             "pattern": {
              "fillmode": "overlay",
              "size": 10,
              "solidity": 0.2
             }
            },
            "type": "bar"
           }
          ],
          "barpolar": [
           {
            "marker": {
             "line": {
              "color": "#E5ECF6",
              "width": 0.5
             },
             "pattern": {
              "fillmode": "overlay",
              "size": 10,
              "solidity": 0.2
             }
            },
            "type": "barpolar"
           }
          ],
          "carpet": [
           {
            "aaxis": {
             "endlinecolor": "#2a3f5f",
             "gridcolor": "white",
             "linecolor": "white",
             "minorgridcolor": "white",
             "startlinecolor": "#2a3f5f"
            },
            "baxis": {
             "endlinecolor": "#2a3f5f",
             "gridcolor": "white",
             "linecolor": "white",
             "minorgridcolor": "white",
             "startlinecolor": "#2a3f5f"
            },
            "type": "carpet"
           }
          ],
          "choropleth": [
           {
            "colorbar": {
             "outlinewidth": 0,
             "ticks": ""
            },
            "type": "choropleth"
           }
          ],
          "contour": [
           {
            "colorbar": {
             "outlinewidth": 0,
             "ticks": ""
            },
            "colorscale": [
             [
              0,
              "#0d0887"
             ],
             [
              0.1111111111111111,
              "#46039f"
             ],
             [
              0.2222222222222222,
              "#7201a8"
             ],
             [
              0.3333333333333333,
              "#9c179e"
             ],
             [
              0.4444444444444444,
              "#bd3786"
             ],
             [
              0.5555555555555556,
              "#d8576b"
             ],
             [
              0.6666666666666666,
              "#ed7953"
             ],
             [
              0.7777777777777778,
              "#fb9f3a"
             ],
             [
              0.8888888888888888,
              "#fdca26"
             ],
             [
              1,
              "#f0f921"
             ]
            ],
            "type": "contour"
           }
          ],
          "contourcarpet": [
           {
            "colorbar": {
             "outlinewidth": 0,
             "ticks": ""
            },
            "type": "contourcarpet"
           }
          ],
          "heatmap": [
           {
            "colorbar": {
             "outlinewidth": 0,
             "ticks": ""
            },
            "colorscale": [
             [
              0,
              "#0d0887"
             ],
             [
              0.1111111111111111,
              "#46039f"
             ],
             [
              0.2222222222222222,
              "#7201a8"
             ],
             [
              0.3333333333333333,
              "#9c179e"
             ],
             [
              0.4444444444444444,
              "#bd3786"
             ],
             [
              0.5555555555555556,
              "#d8576b"
             ],
             [
              0.6666666666666666,
              "#ed7953"
             ],
             [
              0.7777777777777778,
              "#fb9f3a"
             ],
             [
              0.8888888888888888,
              "#fdca26"
             ],
             [
              1,
              "#f0f921"
             ]
            ],
            "type": "heatmap"
           }
          ],
          "heatmapgl": [
           {
            "colorbar": {
             "outlinewidth": 0,
             "ticks": ""
            },
            "colorscale": [
             [
              0,
              "#0d0887"
             ],
             [
              0.1111111111111111,
              "#46039f"
             ],
             [
              0.2222222222222222,
              "#7201a8"
             ],
             [
              0.3333333333333333,
              "#9c179e"
             ],
             [
              0.4444444444444444,
              "#bd3786"
             ],
             [
              0.5555555555555556,
              "#d8576b"
             ],
             [
              0.6666666666666666,
              "#ed7953"
             ],
             [
              0.7777777777777778,
              "#fb9f3a"
             ],
             [
              0.8888888888888888,
              "#fdca26"
             ],
             [
              1,
              "#f0f921"
             ]
            ],
            "type": "heatmapgl"
           }
          ],
          "histogram": [
           {
            "marker": {
             "pattern": {
              "fillmode": "overlay",
              "size": 10,
              "solidity": 0.2
             }
            },
            "type": "histogram"
           }
          ],
          "histogram2d": [
           {
            "colorbar": {
             "outlinewidth": 0,
             "ticks": ""
            },
            "colorscale": [
             [
              0,
              "#0d0887"
             ],
             [
              0.1111111111111111,
              "#46039f"
             ],
             [
              0.2222222222222222,
              "#7201a8"
             ],
             [
              0.3333333333333333,
              "#9c179e"
             ],
             [
              0.4444444444444444,
              "#bd3786"
             ],
             [
              0.5555555555555556,
              "#d8576b"
             ],
             [
              0.6666666666666666,
              "#ed7953"
             ],
             [
              0.7777777777777778,
              "#fb9f3a"
             ],
             [
              0.8888888888888888,
              "#fdca26"
             ],
             [
              1,
              "#f0f921"
             ]
            ],
            "type": "histogram2d"
           }
          ],
          "histogram2dcontour": [
           {
            "colorbar": {
             "outlinewidth": 0,
             "ticks": ""
            },
            "colorscale": [
             [
              0,
              "#0d0887"
             ],
             [
              0.1111111111111111,
              "#46039f"
             ],
             [
              0.2222222222222222,
              "#7201a8"
             ],
             [
              0.3333333333333333,
              "#9c179e"
             ],
             [
              0.4444444444444444,
              "#bd3786"
             ],
             [
              0.5555555555555556,
              "#d8576b"
             ],
             [
              0.6666666666666666,
              "#ed7953"
             ],
             [
              0.7777777777777778,
              "#fb9f3a"
             ],
             [
              0.8888888888888888,
              "#fdca26"
             ],
             [
              1,
              "#f0f921"
             ]
            ],
            "type": "histogram2dcontour"
           }
          ],
          "mesh3d": [
           {
            "colorbar": {
             "outlinewidth": 0,
             "ticks": ""
            },
            "type": "mesh3d"
           }
          ],
          "parcoords": [
           {
            "line": {
             "colorbar": {
              "outlinewidth": 0,
              "ticks": ""
             }
            },
            "type": "parcoords"
           }
          ],
          "pie": [
           {
            "automargin": true,
            "type": "pie"
           }
          ],
          "scatter": [
           {
            "marker": {
             "colorbar": {
              "outlinewidth": 0,
              "ticks": ""
             }
            },
            "type": "scatter"
           }
          ],
          "scatter3d": [
           {
            "line": {
             "colorbar": {
              "outlinewidth": 0,
              "ticks": ""
             }
            },
            "marker": {
             "colorbar": {
              "outlinewidth": 0,
              "ticks": ""
             }
            },
            "type": "scatter3d"
           }
          ],
          "scattercarpet": [
           {
            "marker": {
             "colorbar": {
              "outlinewidth": 0,
              "ticks": ""
             }
            },
            "type": "scattercarpet"
           }
          ],
          "scattergeo": [
           {
            "marker": {
             "colorbar": {
              "outlinewidth": 0,
              "ticks": ""
             }
            },
            "type": "scattergeo"
           }
          ],
          "scattergl": [
           {
            "marker": {
             "colorbar": {
              "outlinewidth": 0,
              "ticks": ""
             }
            },
            "type": "scattergl"
           }
          ],
          "scattermapbox": [
           {
            "marker": {
             "colorbar": {
              "outlinewidth": 0,
              "ticks": ""
             }
            },
            "type": "scattermapbox"
           }
          ],
          "scatterpolar": [
           {
            "marker": {
             "colorbar": {
              "outlinewidth": 0,
              "ticks": ""
             }
            },
            "type": "scatterpolar"
           }
          ],
          "scatterpolargl": [
           {
            "marker": {
             "colorbar": {
              "outlinewidth": 0,
              "ticks": ""
             }
            },
            "type": "scatterpolargl"
           }
          ],
          "scatterternary": [
           {
            "marker": {
             "colorbar": {
              "outlinewidth": 0,
              "ticks": ""
             }
            },
            "type": "scatterternary"
           }
          ],
          "surface": [
           {
            "colorbar": {
             "outlinewidth": 0,
             "ticks": ""
            },
            "colorscale": [
             [
              0,
              "#0d0887"
             ],
             [
              0.1111111111111111,
              "#46039f"
             ],
             [
              0.2222222222222222,
              "#7201a8"
             ],
             [
              0.3333333333333333,
              "#9c179e"
             ],
             [
              0.4444444444444444,
              "#bd3786"
             ],
             [
              0.5555555555555556,
              "#d8576b"
             ],
             [
              0.6666666666666666,
              "#ed7953"
             ],
             [
              0.7777777777777778,
              "#fb9f3a"
             ],
             [
              0.8888888888888888,
              "#fdca26"
             ],
             [
              1,
              "#f0f921"
             ]
            ],
            "type": "surface"
           }
          ],
          "table": [
           {
            "cells": {
             "fill": {
              "color": "#EBF0F8"
             },
             "line": {
              "color": "white"
             }
            },
            "header": {
             "fill": {
              "color": "#C8D4E3"
             },
             "line": {
              "color": "white"
             }
            },
            "type": "table"
           }
          ]
         },
         "layout": {
          "annotationdefaults": {
           "arrowcolor": "#2a3f5f",
           "arrowhead": 0,
           "arrowwidth": 1
          },
          "autotypenumbers": "strict",
          "coloraxis": {
           "colorbar": {
            "outlinewidth": 0,
            "ticks": ""
           }
          },
          "colorscale": {
           "diverging": [
            [
             0,
             "#8e0152"
            ],
            [
             0.1,
             "#c51b7d"
            ],
            [
             0.2,
             "#de77ae"
            ],
            [
             0.3,
             "#f1b6da"
            ],
            [
             0.4,
             "#fde0ef"
            ],
            [
             0.5,
             "#f7f7f7"
            ],
            [
             0.6,
             "#e6f5d0"
            ],
            [
             0.7,
             "#b8e186"
            ],
            [
             0.8,
             "#7fbc41"
            ],
            [
             0.9,
             "#4d9221"
            ],
            [
             1,
             "#276419"
            ]
           ],
           "sequential": [
            [
             0,
             "#0d0887"
            ],
            [
             0.1111111111111111,
             "#46039f"
            ],
            [
             0.2222222222222222,
             "#7201a8"
            ],
            [
             0.3333333333333333,
             "#9c179e"
            ],
            [
             0.4444444444444444,
             "#bd3786"
            ],
            [
             0.5555555555555556,
             "#d8576b"
            ],
            [
             0.6666666666666666,
             "#ed7953"
            ],
            [
             0.7777777777777778,
             "#fb9f3a"
            ],
            [
             0.8888888888888888,
             "#fdca26"
            ],
            [
             1,
             "#f0f921"
            ]
           ],
           "sequentialminus": [
            [
             0,
             "#0d0887"
            ],
            [
             0.1111111111111111,
             "#46039f"
            ],
            [
             0.2222222222222222,
             "#7201a8"
            ],
            [
             0.3333333333333333,
             "#9c179e"
            ],
            [
             0.4444444444444444,
             "#bd3786"
            ],
            [
             0.5555555555555556,
             "#d8576b"
            ],
            [
             0.6666666666666666,
             "#ed7953"
            ],
            [
             0.7777777777777778,
             "#fb9f3a"
            ],
            [
             0.8888888888888888,
             "#fdca26"
            ],
            [
             1,
             "#f0f921"
            ]
           ]
          },
          "colorway": [
           "#636efa",
           "#EF553B",
           "#00cc96",
           "#ab63fa",
           "#FFA15A",
           "#19d3f3",
           "#FF6692",
           "#B6E880",
           "#FF97FF",
           "#FECB52"
          ],
          "font": {
           "color": "#2a3f5f"
          },
          "geo": {
           "bgcolor": "white",
           "lakecolor": "white",
           "landcolor": "#E5ECF6",
           "showlakes": true,
           "showland": true,
           "subunitcolor": "white"
          },
          "hoverlabel": {
           "align": "left"
          },
          "hovermode": "closest",
          "mapbox": {
           "style": "light"
          },
          "paper_bgcolor": "white",
          "plot_bgcolor": "#E5ECF6",
          "polar": {
           "angularaxis": {
            "gridcolor": "white",
            "linecolor": "white",
            "ticks": ""
           },
           "bgcolor": "#E5ECF6",
           "radialaxis": {
            "gridcolor": "white",
            "linecolor": "white",
            "ticks": ""
           }
          },
          "scene": {
           "xaxis": {
            "backgroundcolor": "#E5ECF6",
            "gridcolor": "white",
            "gridwidth": 2,
            "linecolor": "white",
            "showbackground": true,
            "ticks": "",
            "zerolinecolor": "white"
           },
           "yaxis": {
            "backgroundcolor": "#E5ECF6",
            "gridcolor": "white",
            "gridwidth": 2,
            "linecolor": "white",
            "showbackground": true,
            "ticks": "",
            "zerolinecolor": "white"
           },
           "zaxis": {
            "backgroundcolor": "#E5ECF6",
            "gridcolor": "white",
            "gridwidth": 2,
            "linecolor": "white",
            "showbackground": true,
            "ticks": "",
            "zerolinecolor": "white"
           }
          },
          "shapedefaults": {
           "line": {
            "color": "#2a3f5f"
           }
          },
          "ternary": {
           "aaxis": {
            "gridcolor": "white",
            "linecolor": "white",
            "ticks": ""
           },
           "baxis": {
            "gridcolor": "white",
            "linecolor": "white",
            "ticks": ""
           },
           "bgcolor": "#E5ECF6",
           "caxis": {
            "gridcolor": "white",
            "linecolor": "white",
            "ticks": ""
           }
          },
          "title": {
           "x": 0.05
          },
          "xaxis": {
           "automargin": true,
           "gridcolor": "white",
           "linecolor": "white",
           "ticks": "",
           "title": {
            "standoff": 15
           },
           "zerolinecolor": "white",
           "zerolinewidth": 2
          },
          "yaxis": {
           "automargin": true,
           "gridcolor": "white",
           "linecolor": "white",
           "ticks": "",
           "title": {
            "standoff": 15
           },
           "zerolinecolor": "white",
           "zerolinewidth": 2
          }
         }
        },
        "xaxis": {
         "anchor": "y",
         "autorange": true,
         "domain": [
          0,
          1
         ],
         "range": [
          0,
          4012582975.7894735
         ],
         "title": {
          "text": "pop"
         },
         "type": "linear"
        },
        "yaxis": {
         "anchor": "x",
         "autorange": true,
         "domain": [
          0,
          1
         ],
         "range": [
          -0.5,
          4.5
         ],
         "title": {
          "text": "continent"
         },
         "type": "category"
        }
       }
      },
      "image/png": "[encoded data removed]",
      "text/html": [
       "<div>                            <div id=\"60e9000d-bd50-40c5-add6-d47afbf8b8cf\" class=\"plotly-graph-div\" style=\"height:525px; width:100%;\"></div>            <script type=\"text/javascript\">                require([\"plotly\"], function(Plotly) {                    window.PLOTLYENV=window.PLOTLYENV || {};                                    if (document.getElementById(\"60e9000d-bd50-40c5-add6-d47afbf8b8cf\")) {                    Plotly.newPlot(                        \"60e9000d-bd50-40c5-add6-d47afbf8b8cf\",                        [{\"alignmentgroup\":\"True\",\"hovertemplate\":\"<b>%{hovertext}</b><br><br>pop=%{x}<br>continent=%{y}<br>lifeExp=%{marker.color}<extra></extra>\",\"hovertext\":[\"Swaziland\",\"Mozambique\",\"Zambia\",\"Sierra Leone\",\"Lesotho\",\"Angola\",\"Zimbabwe\",\"Afghanistan\",\"Central African Republic\",\"Liberia\",\"Rwanda\",\"Guinea-Bissau\",\"Congo, Dem. Rep.\",\"Nigeria\",\"Somalia\",\"Malawi\",\"Cote d'Ivoire\",\"South Africa\",\"Burundi\",\"Cameroon\",\"Chad\",\"Botswana\",\"Uganda\",\"Equatorial Guinea\",\"Burkina Faso\",\"Tanzania\",\"Namibia\",\"Ethiopia\",\"Kenya\",\"Mali\",\"Djibouti\",\"Congo, Rep.\",\"Guinea\",\"Benin\",\"Gabon\",\"Niger\",\"Eritrea\",\"Togo\",\"Sudan\",\"Madagascar\",\"Gambia\",\"Iraq\",\"Cambodia\",\"Ghana\",\"Haiti\",\"Myanmar\",\"Yemen, Rep.\",\"Senegal\",\"Nepal\",\"Bangladesh\",\"Mauritania\",\"India\",\"Comoros\",\"Pakistan\",\"Sao Tome and Principe\",\"Bolivia\",\"Mongolia\",\"Korea, Dem. Rep.\",\"Trinidad and Tobago\",\"Honduras\",\"Guatemala\",\"Thailand\",\"Indonesia\",\"Iran\",\"Morocco\",\"Egypt\",\"Peru\",\"Philippines\",\"Paraguay\",\"Turkey\",\"El Salvador\",\"Lebanon\",\"Dominican Republic\",\"Algeria\",\"Brazil\",\"Sri Lanka\",\"Romania\",\"Jordan\",\"Jamaica\",\"Saudi Arabia\",\"Mauritius\",\"Colombia\",\"Nicaragua\",\"China\",\"Bulgaria\",\"Hungary\",\"West Bank and Gaza\",\"Venezuela\",\"Tunisia\",\"Libya\",\"Serbia\",\"Syria\",\"Malaysia\",\"Vietnam\",\"Montenegro\",\"Slovak Republic\",\"Bosnia and Herzegovina\",\"Ecuador\",\"Argentina\",\"Panama\",\"Poland\",\"Bahrain\",\"Oman\",\"Croatia\",\"Mexico\",\"Uruguay\",\"Albania\",\"Reunion\",\"Czech Republic\",\"Kuwait\",\"Slovenia\",\"Portugal\",\"United States\",\"Cuba\",\"Denmark\",\"Taiwan\",\"Chile\",\"Korea, Rep.\",\"Puerto Rico\",\"Costa Rica\",\"Ireland\",\"Finland\",\"Germany\",\"United Kingdom\",\"Belgium\",\"Greece\",\"Netherlands\",\"Austria\",\"Singapore\",\"Norway\",\"New Zealand\",\"Italy\",\"Canada\",\"France\",\"Israel\",\"Sweden\",\"Spain\",\"Australia\",\"Switzerland\",\"Iceland\",\"Hong Kong, China\",\"Japan\"],\"legendgroup\":\"\",\"marker\":{\"color\":[39.613,42.082,42.38399999999999,42.56800000000001,42.592,42.731,43.487,43.828,44.74100000000001,45.678,46.242,46.38800000000001,46.462,46.859,48.159,48.303,48.328,49.339,49.58,50.43,50.651,50.728,51.542,51.57899999999999,52.295,52.517,52.90600000000001,52.947,54.11,54.467,54.791,55.322,56.007,56.728,56.735,56.867,58.04,58.42,58.556,59.44300000000001,59.448,59.545,59.723,60.022,60.916,62.069,62.698,63.062,63.785,64.062,64.164,64.69800000000001,65.152,65.483,65.528,65.554,66.803,67.297,69.819,70.19800000000001,70.259,70.616,70.65,70.964,71.164,71.33800000000002,71.421,71.688,71.752,71.777,71.878,71.993,72.235,72.301,72.39,72.396,72.476,72.535,72.567,72.777,72.801,72.889,72.899,72.961,73.005,73.33800000000002,73.422,73.747,73.923,73.952,74.002,74.143,74.241,74.249,74.543,74.663,74.852,74.994,75.32,75.53699999999998,75.563,75.635,75.64,75.748,76.195,76.384,76.423,76.442,76.486,77.58800000000002,77.926,78.098,78.242,78.273,78.332,78.4,78.553,78.623,78.74600000000002,78.782,78.885,79.313,79.406,79.425,79.441,79.483,79.762,79.829,79.972,80.196,80.204,80.546,80.653,80.657,80.745,80.884,80.941,81.235,81.70100000000002,81.757,82.208,82.603],\"coloraxis\":\"coloraxis\",\"pattern\":{\"shape\":\"\"}},\"name\":\"\",\"offsetgroup\":\"\",\"orientation\":\"h\",\"showlegend\":false,\"textposition\":\"auto\",\"x\":[1133066,19951656,11746035,6144562,2012649,12420476,12311143,31889923,4369038,3193942,8860588,1472041,64606759,135031164,9118773,13327079,18013409,43997828,8390505,17696293,10238807,1639131,29170398,551201,14326203,38139640,2055080,76511887,35610177,12031795,496374,3800610,9947814,8078314,1454867,12894865,4906585,5701579,42292929,19167654,1688359,27499638,14131858,22873338,8502814,47761980,22211743,12267493,28901790,150448339,3270065,1110396331,710960,169270617,199579,9119152,2874127,23301725,1056608,7483763,12572928,65068149,223547000,69453570,33757175,80264543,28674757,91077287,6667147,71158647,6939688,3921278,9319622,33333216,190010647,20378239,22276056,6053193,2780132,27601038,1250882,44227550,5675356,1318683096,7322858,9956108,4018332,26084662,10276158,6036914,10150265,19314747,24821286,85262356,684736,5447502,4552198,13755680,40301927,3242173,38518241,708573,3204897,4493312,108700891,3447496,3600523,798094,10228744,2505559,2009245,10642836,301139947,11416987,5468120,23174294,16284741,49044790,3942491,4133884,4109086,5238460,82400996,60776238,10392226,10706290,16570613,8199783,4553009,4627926,4115771,58147733,33390141,61083916,6426679,9031088,40448191,20434176,7554661,301931,6980412,127467972],\"xaxis\":\"x\",\"y\":[\"Africa\",\"Africa\",\"Africa\",\"Africa\",\"Africa\",\"Africa\",\"Africa\",\"Asia\",\"Africa\",\"Africa\",\"Africa\",\"Africa\",\"Africa\",\"Africa\",\"Africa\",\"Africa\",\"Africa\",\"Africa\",\"Africa\",\"Africa\",\"Africa\",\"Africa\",\"Africa\",\"Africa\",\"Africa\",\"Africa\",\"Africa\",\"Africa\",\"Africa\",\"Africa\",\"Africa\",\"Africa\",\"Africa\",\"Africa\",\"Africa\",\"Africa\",\"Africa\",\"Africa\",\"Africa\",\"Africa\",\"Africa\",\"Asia\",\"Asia\",\"Africa\",\"Americas\",\"Asia\",\"Asia\",\"Africa\",\"Asia\",\"Asia\",\"Africa\",\"Asia\",\"Africa\",\"Asia\",\"Africa\",\"Americas\",\"Asia\",\"Asia\",\"Americas\",\"Americas\",\"Americas\",\"Asia\",\"Asia\",\"Asia\",\"Africa\",\"Africa\",\"Americas\",\"Asia\",\"Americas\",\"Europe\",\"Americas\",\"Asia\",\"Americas\",\"Africa\",\"Americas\",\"Asia\",\"Europe\",\"Asia\",\"Americas\",\"Asia\",\"Africa\",\"Americas\",\"Americas\",\"Asia\",\"Europe\",\"Europe\",\"Asia\",\"Americas\",\"Africa\",\"Africa\",\"Europe\",\"Asia\",\"Asia\",\"Asia\",\"Europe\",\"Europe\",\"Europe\",\"Americas\",\"Americas\",\"Americas\",\"Europe\",\"Asia\",\"Asia\",\"Europe\",\"Americas\",\"Americas\",\"Europe\",\"Africa\",\"Europe\",\"Asia\",\"Europe\",\"Europe\",\"Americas\",\"Americas\",\"Europe\",\"Asia\",\"Americas\",\"Asia\",\"Americas\",\"Americas\",\"Europe\",\"Europe\",\"Europe\",\"Europe\",\"Europe\",\"Europe\",\"Europe\",\"Europe\",\"Asia\",\"Europe\",\"Oceania\",\"Europe\",\"Americas\",\"Europe\",\"Asia\",\"Europe\",\"Europe\",\"Oceania\",\"Europe\",\"Europe\",\"Asia\",\"Asia\"],\"yaxis\":\"y\",\"type\":\"bar\"}],                        {\"template\":{\"data\":{\"bar\":[{\"error_x\":{\"color\":\"#2a3f5f\"},\"error_y\":{\"color\":\"#2a3f5f\"},\"marker\":{\"line\":{\"color\":\"#E5ECF6\",\"width\":0.5},\"pattern\":{\"fillmode\":\"overlay\",\"size\":10,\"solidity\":0.2}},\"type\":\"bar\"}],\"barpolar\":[{\"marker\":{\"line\":{\"color\":\"#E5ECF6\",\"width\":0.5},\"pattern\":{\"fillmode\":\"overlay\",\"size\":10,\"solidity\":0.2}},\"type\":\"barpolar\"}],\"carpet\":[{\"aaxis\":{\"endlinecolor\":\"#2a3f5f\",\"gridcolor\":\"white\",\"linecolor\":\"white\",\"minorgridcolor\":\"white\",\"startlinecolor\":\"#2a3f5f\"},\"baxis\":{\"endlinecolor\":\"#2a3f5f\",\"gridcolor\":\"white\",\"linecolor\":\"white\",\"minorgridcolor\":\"white\",\"startlinecolor\":\"#2a3f5f\"},\"type\":\"carpet\"}],\"choropleth\":[{\"colorbar\":{\"outlinewidth\":0,\"ticks\":\"\"},\"type\":\"choropleth\"}],\"contour\":[{\"colorbar\":{\"outlinewidth\":0,\"ticks\":\"\"},\"colorscale\":[[0.0,\"#0d0887\"],[0.1111111111111111,\"#46039f\"],[0.2222222222222222,\"#7201a8\"],[0.3333333333333333,\"#9c179e\"],[0.4444444444444444,\"#bd3786\"],[0.5555555555555556,\"#d8576b\"],[0.6666666666666666,\"#ed7953\"],[0.7777777777777778,\"#fb9f3a\"],[0.8888888888888888,\"#fdca26\"],[1.0,\"#f0f921\"]],\"type\":\"contour\"}],\"contourcarpet\":[{\"colorbar\":{\"outlinewidth\":0,\"ticks\":\"\"},\"type\":\"contourcarpet\"}],\"heatmap\":[{\"colorbar\":{\"outlinewidth\":0,\"ticks\":\"\"},\"colorscale\":[[0.0,\"#0d0887\"],[0.1111111111111111,\"#46039f\"],[0.2222222222222222,\"#7201a8\"],[0.3333333333333333,\"#9c179e\"],[0.4444444444444444,\"#bd3786\"],[0.5555555555555556,\"#d8576b\"],[0.6666666666666666,\"#ed7953\"],[0.7777777777777778,\"#fb9f3a\"],[0.8888888888888888,\"#fdca26\"],[1.0,\"#f0f921\"]],\"type\":\"heatmap\"}],\"heatmapgl\":[{\"colorbar\":{\"outlinewidth\":0,\"ticks\":\"\"},\"colorscale\":[[0.0,\"#0d0887\"],[0.1111111111111111,\"#46039f\"],[0.2222222222222222,\"#7201a8\"],[0.3333333333333333,\"#9c179e\"],[0.4444444444444444,\"#bd3786\"],[0.5555555555555556,\"#d8576b\"],[0.6666666666666666,\"#ed7953\"],[0.7777777777777778,\"#fb9f3a\"],[0.8888888888888888,\"#fdca26\"],[1.0,\"#f0f921\"]],\"type\":\"heatmapgl\"}],\"histogram\":[{\"marker\":{\"pattern\":{\"fillmode\":\"overlay\",\"size\":10,\"solidity\":0.2}},\"type\":\"histogram\"}],\"histogram2d\":[{\"colorbar\":{\"outlinewidth\":0,\"ticks\":\"\"},\"colorscale\":[[0.0,\"#0d0887\"],[0.1111111111111111,\"#46039f\"],[0.2222222222222222,\"#7201a8\"],[0.3333333333333333,\"#9c179e\"],[0.4444444444444444,\"#bd3786\"],[0.5555555555555556,\"#d8576b\"],[0.6666666666666666,\"#ed7953\"],[0.7777777777777778,\"#fb9f3a\"],[0.8888888888888888,\"#fdca26\"],[1.0,\"#f0f921\"]],\"type\":\"histogram2d\"}],\"histogram2dcontour\":[{\"colorbar\":{\"outlinewidth\":0,\"ticks\":\"\"},\"colorscale\":[[0.0,\"#0d0887\"],[0.1111111111111111,\"#46039f\"],[0.2222222222222222,\"#7201a8\"],[0.3333333333333333,\"#9c179e\"],[0.4444444444444444,\"#bd3786\"],[0.5555555555555556,\"#d8576b\"],[0.6666666666666666,\"#ed7953\"],[0.7777777777777778,\"#fb9f3a\"],[0.8888888888888888,\"#fdca26\"],[1.0,\"#f0f921\"]],\"type\":\"histogram2dcontour\"}],\"mesh3d\":[{\"colorbar\":{\"outlinewidth\":0,\"ticks\":\"\"},\"type\":\"mesh3d\"}],\"parcoords\":[{\"line\":{\"colorbar\":{\"outlinewidth\":0,\"ticks\":\"\"}},\"type\":\"parcoords\"}],\"pie\":[{\"automargin\":true,\"type\":\"pie\"}],\"scatter\":[{\"marker\":{\"colorbar\":{\"outlinewidth\":0,\"ticks\":\"\"}},\"type\":\"scatter\"}],\"scatter3d\":[{\"line\":{\"colorbar\":{\"outlinewidth\":0,\"ticks\":\"\"}},\"marker\":{\"colorbar\":{\"outlinewidth\":0,\"ticks\":\"\"}},\"type\":\"scatter3d\"}],\"scattercarpet\":[{\"marker\":{\"colorbar\":{\"outlinewidth\":0,\"ticks\":\"\"}},\"type\":\"scattercarpet\"}],\"scattergeo\":[{\"marker\":{\"colorbar\":{\"outlinewidth\":0,\"ticks\":\"\"}},\"type\":\"scattergeo\"}],\"scattergl\":[{\"marker\":{\"colorbar\":{\"outlinewidth\":0,\"ticks\":\"\"}},\"type\":\"scattergl\"}],\"scattermapbox\":[{\"marker\":{\"colorbar\":{\"outlinewidth\":0,\"ticks\":\"\"}},\"type\":\"scattermapbox\"}],\"scatterpolar\":[{\"marker\":{\"colorbar\":{\"outlinewidth\":0,\"ticks\":\"\"}},\"type\":\"scatterpolar\"}],\"scatterpolargl\":[{\"marker\":{\"colorbar\":{\"outlinewidth\":0,\"ticks\":\"\"}},\"type\":\"scatterpolargl\"}],\"scatterternary\":[{\"marker\":{\"colorbar\":{\"outlinewidth\":0,\"ticks\":\"\"}},\"type\":\"scatterternary\"}],\"surface\":[{\"colorbar\":{\"outlinewidth\":0,\"ticks\":\"\"},\"colorscale\":[[0.0,\"#0d0887\"],[0.1111111111111111,\"#46039f\"],[0.2222222222222222,\"#7201a8\"],[0.3333333333333333,\"#9c179e\"],[0.4444444444444444,\"#bd3786\"],[0.5555555555555556,\"#d8576b\"],[0.6666666666666666,\"#ed7953\"],[0.7777777777777778,\"#fb9f3a\"],[0.8888888888888888,\"#fdca26\"],[1.0,\"#f0f921\"]],\"type\":\"surface\"}],\"table\":[{\"cells\":{\"fill\":{\"color\":\"#EBF0F8\"},\"line\":{\"color\":\"white\"}},\"header\":{\"fill\":{\"color\":\"#C8D4E3\"},\"line\":{\"color\":\"white\"}},\"type\":\"table\"}]},\"layout\":{\"annotationdefaults\":{\"arrowcolor\":\"#2a3f5f\",\"arrowhead\":0,\"arrowwidth\":1},\"autotypenumbers\":\"strict\",\"coloraxis\":{\"colorbar\":{\"outlinewidth\":0,\"ticks\":\"\"}},\"colorscale\":{\"diverging\":[[0,\"#8e0152\"],[0.1,\"#c51b7d\"],[0.2,\"#de77ae\"],[0.3,\"#f1b6da\"],[0.4,\"#fde0ef\"],[0.5,\"#f7f7f7\"],[0.6,\"#e6f5d0\"],[0.7,\"#b8e186\"],[0.8,\"#7fbc41\"],[0.9,\"#4d9221\"],[1,\"#276419\"]],\"sequential\":[[0.0,\"#0d0887\"],[0.1111111111111111,\"#46039f\"],[0.2222222222222222,\"#7201a8\"],[0.3333333333333333,\"#9c179e\"],[0.4444444444444444,\"#bd3786\"],[0.5555555555555556,\"#d8576b\"],[0.6666666666666666,\"#ed7953\"],[0.7777777777777778,\"#fb9f3a\"],[0.8888888888888888,\"#fdca26\"],[1.0,\"#f0f921\"]],\"sequentialminus\":[[0.0,\"#0d0887\"],[0.1111111111111111,\"#46039f\"],[0.2222222222222222,\"#7201a8\"],[0.3333333333333333,\"#9c179e\"],[0.4444444444444444,\"#bd3786\"],[0.5555555555555556,\"#d8576b\"],[0.6666666666666666,\"#ed7953\"],[0.7777777777777778,\"#fb9f3a\"],[0.8888888888888888,\"#fdca26\"],[1.0,\"#f0f921\"]]},\"colorway\":[\"#636efa\",\"#EF553B\",\"#00cc96\",\"#ab63fa\",\"#FFA15A\",\"#19d3f3\",\"#FF6692\",\"#B6E880\",\"#FF97FF\",\"#FECB52\"],\"font\":{\"color\":\"#2a3f5f\"},\"geo\":{\"bgcolor\":\"white\",\"lakecolor\":\"white\",\"landcolor\":\"#E5ECF6\",\"showlakes\":true,\"showland\":true,\"subunitcolor\":\"white\"},\"hoverlabel\":{\"align\":\"left\"},\"hovermode\":\"closest\",\"mapbox\":{\"style\":\"light\"},\"paper_bgcolor\":\"white\",\"plot_bgcolor\":\"#E5ECF6\",\"polar\":{\"angularaxis\":{\"gridcolor\":\"white\",\"linecolor\":\"white\",\"ticks\":\"\"},\"bgcolor\":\"#E5ECF6\",\"radialaxis\":{\"gridcolor\":\"white\",\"linecolor\":\"white\",\"ticks\":\"\"}},\"scene\":{\"xaxis\":{\"backgroundcolor\":\"#E5ECF6\",\"gridcolor\":\"white\",\"gridwidth\":2,\"linecolor\":\"white\",\"showbackground\":true,\"ticks\":\"\",\"zerolinecolor\":\"white\"},\"yaxis\":{\"backgroundcolor\":\"#E5ECF6\",\"gridcolor\":\"white\",\"gridwidth\":2,\"linecolor\":\"white\",\"showbackground\":true,\"ticks\":\"\",\"zerolinecolor\":\"white\"},\"zaxis\":{\"backgroundcolor\":\"#E5ECF6\",\"gridcolor\":\"white\",\"gridwidth\":2,\"linecolor\":\"white\",\"showbackground\":true,\"ticks\":\"\",\"zerolinecolor\":\"white\"}},\"shapedefaults\":{\"line\":{\"color\":\"#2a3f5f\"}},\"ternary\":{\"aaxis\":{\"gridcolor\":\"white\",\"linecolor\":\"white\",\"ticks\":\"\"},\"baxis\":{\"gridcolor\":\"white\",\"linecolor\":\"white\",\"ticks\":\"\"},\"bgcolor\":\"#E5ECF6\",\"caxis\":{\"gridcolor\":\"white\",\"linecolor\":\"white\",\"ticks\":\"\"}},\"title\":{\"x\":0.05},\"xaxis\":{\"automargin\":true,\"gridcolor\":\"white\",\"linecolor\":\"white\",\"ticks\":\"\",\"title\":{\"standoff\":15},\"zerolinecolor\":\"white\",\"zerolinewidth\":2},\"yaxis\":{\"automargin\":true,\"gridcolor\":\"white\",\"linecolor\":\"white\",\"ticks\":\"\",\"title\":{\"standoff\":15},\"zerolinecolor\":\"white\",\"zerolinewidth\":2}}},\"xaxis\":{\"anchor\":\"y\",\"domain\":[0.0,1.0],\"title\":{\"text\":\"pop\"}},\"yaxis\":{\"anchor\":\"x\",\"domain\":[0.0,1.0],\"title\":{\"text\":\"continent\"}},\"coloraxis\":{\"colorbar\":{\"title\":{\"text\":\"lifeExp\"}},\"colorscale\":[[0.0,\"rgb(255,0,0)\"],[1.0,\"rgb(0,0,255)\"]]},\"legend\":{\"tracegroupgap\":0},\"margin\":{\"t\":60},\"barmode\":\"relative\"},                        {\"responsive\": true}                    ).then(function(){\n",
       "                            \n",
       "var gd = document.getElementById('60e9000d-bd50-40c5-add6-d47afbf8b8cf');\n",
       "var x = new MutationObserver(function (mutations, observer) {{\n",
       "        var display = window.getComputedStyle(gd).display;\n",
       "        if (!display || display === 'none') {{\n",
       "            console.log([gd, 'removed!']);\n",
       "            Plotly.purge(gd);\n",
       "            observer.disconnect();\n",
       "        }}\n",
       "}});\n",
       "\n",
       "// Listen for the removal of the full notebook cells\n",
       "var notebookContainer = gd.closest('#notebook-container');\n",
       "if (notebookContainer) {{\n",
       "    x.observe(notebookContainer, {childList: true});\n",
       "}}\n",
       "\n",
       "// Listen for the clearing of the current output cell\n",
       "var outputEl = gd.closest('.output');\n",
       "if (outputEl) {{\n",
       "    x.observe(outputEl, {childList: true});\n",
       "}}\n",
       "\n",
       "                        })                };                });            </script>        </div>"
      ]
     },
     "metadata": {},
     "output_type": "display_data"
    }
   ],
   "source": [
    "\n",
    "import plotly.express as px\n",
    "df = px.data.gapminder().query(\"year == 2007\").sort_values(by=\"lifeExp\")\n",
    "fig = px.bar(df, y=\"continent\", x=\"pop\", color=\"lifeExp\", orientation=\"h\",\n",
    "             color_continuous_scale='Bluered_r', hover_name=\"country\")\n",
    "\n",
    "fig.show()"
   ]
  },
  {
   "cell_type": "code",
   "execution_count": 218,
   "id": "0649861f-826d-42dc-b1e0-a9b12f90db3e",
   "metadata": {},
   "outputs": [
    {
     "data": {
      "application/json": {
       "data": [
        {
         "alignmentgroup": "True",
         "hovertemplate": "<b>%{hovertext}</b><br><br>pop=%{x}<br>continent=%{y}<br>lifeExp=%{marker.color}<extra></extra>",
         "hovertext": [
          "Swaziland",
          "Mozambique",
          "Zambia",
          "Sierra Leone",
          "Lesotho",
          "Angola",
          "Zimbabwe",
          "Afghanistan",
          "Central African Republic",
          "Liberia",
          "Rwanda",
          "Guinea-Bissau",
          "Congo, Dem. Rep.",
          "Nigeria",
          "Somalia",
          "Malawi",
          "Cote d'Ivoire",
          "South Africa",
          "Burundi",
          "Cameroon",
          "Chad",
          "Botswana",
          "Uganda",
          "Equatorial Guinea",
          "Burkina Faso",
          "Tanzania",
          "Namibia",
          "Ethiopia",
          "Kenya",
          "Mali",
          "Djibouti",
          "Congo, Rep.",
          "Guinea",
          "Benin",
          "Gabon",
          "Niger",
          "Eritrea",
          "Togo",
          "Sudan",
          "Madagascar",
          "Gambia",
          "Iraq",
          "Cambodia",
          "Ghana",
          "Haiti",
          "Myanmar",
          "Yemen, Rep.",
          "Senegal",
          "Nepal",
          "Bangladesh",
          "Mauritania",
          "India",
          "Comoros",
          "Pakistan",
          "Sao Tome and Principe",
          "Bolivia",
          "Mongolia",
          "Korea, Dem. Rep.",
          "Trinidad and Tobago",
          "Honduras",
          "Guatemala",
          "Thailand",
          "Indonesia",
          "Iran",
          "Morocco",
          "Egypt",
          "Peru",
          "Philippines",
          "Paraguay",
          "Turkey",
          "El Salvador",
          "Lebanon",
          "Dominican Republic",
          "Algeria",
          "Brazil",
          "Sri Lanka",
          "Romania",
          "Jordan",
          "Jamaica",
          "Saudi Arabia",
          "Mauritius",
          "Colombia",
          "Nicaragua",
          "China",
          "Bulgaria",
          "Hungary",
          "West Bank and Gaza",
          "Venezuela",
          "Tunisia",
          "Libya",
          "Serbia",
          "Syria",
          "Malaysia",
          "Vietnam",
          "Montenegro",
          "Slovak Republic",
          "Bosnia and Herzegovina",
          "Ecuador",
          "Argentina",
          "Panama",
          "Poland",
          "Bahrain",
          "Oman",
          "Croatia",
          "Mexico",
          "Uruguay",
          "Albania",
          "Reunion",
          "Czech Republic",
          "Kuwait",
          "Slovenia",
          "Portugal",
          "United States",
          "Cuba",
          "Denmark",
          "Taiwan",
          "Chile",
          "Korea, Rep.",
          "Puerto Rico",
          "Costa Rica",
          "Ireland",
          "Finland",
          "Germany",
          "United Kingdom",
          "Belgium",
          "Greece",
          "Netherlands",
          "Austria",
          "Singapore",
          "Norway",
          "New Zealand",
          "Italy",
          "Canada",
          "France",
          "Israel",
          "Sweden",
          "Spain",
          "Australia",
          "Switzerland",
          "Iceland",
          "Hong Kong, China",
          "Japan"
         ],
         "legendgroup": "",
         "marker": {
          "color": [
           39.613,
           42.082,
           42.38399999999999,
           42.56800000000001,
           42.592,
           42.731,
           43.487,
           43.828,
           44.74100000000001,
           45.678,
           46.242,
           46.38800000000001,
           46.462,
           46.859,
           48.159,
           48.303,
           48.328,
           49.339,
           49.58,
           50.43,
           50.651,
           50.728,
           51.542,
           51.57899999999999,
           52.295,
           52.517,
           52.90600000000001,
           52.947,
           54.11,
           54.467,
           54.791,
           55.322,
           56.007,
           56.728,
           56.735,
           56.867,
           58.04,
           58.42,
           58.556,
           59.44300000000001,
           59.448,
           59.545,
           59.723,
           60.022,
           60.916,
           62.069,
           62.698,
           63.062,
           63.785,
           64.062,
           64.164,
           64.69800000000001,
           65.152,
           65.483,
           65.528,
           65.554,
           66.803,
           67.297,
           69.819,
           70.19800000000001,
           70.259,
           70.616,
           70.65,
           70.964,
           71.164,
           71.33800000000002,
           71.421,
           71.688,
           71.752,
           71.777,
           71.878,
           71.993,
           72.235,
           72.301,
           72.39,
           72.396,
           72.476,
           72.535,
           72.567,
           72.777,
           72.801,
           72.889,
           72.899,
           72.961,
           73.005,
           73.33800000000002,
           73.422,
           73.747,
           73.923,
           73.952,
           74.002,
           74.143,
           74.241,
           74.249,
           74.543,
           74.663,
           74.852,
           74.994,
           75.32,
           75.53699999999998,
           75.563,
           75.635,
           75.64,
           75.748,
           76.195,
           76.384,
           76.423,
           76.442,
           76.486,
           77.58800000000002,
           77.926,
           78.098,
           78.242,
           78.273,
           78.332,
           78.4,
           78.553,
           78.623,
           78.74600000000002,
           78.782,
           78.885,
           79.313,
           79.406,
           79.425,
           79.441,
           79.483,
           79.762,
           79.829,
           79.972,
           80.196,
           80.204,
           80.546,
           80.653,
           80.657,
           80.745,
           80.884,
           80.941,
           81.235,
           81.70100000000002,
           81.757,
           82.208,
           82.603
          ],
          "coloraxis": "coloraxis",
          "pattern": {
           "shape": ""
          }
         },
         "name": "",
         "offsetgroup": "",
         "orientation": "h",
         "showlegend": false,
         "textposition": "auto",
         "type": "bar",
         "x": [
          1133066,
          19951656,
          11746035,
          6144562,
          2012649,
          12420476,
          12311143,
          31889923,
          4369038,
          3193942,
          8860588,
          1472041,
          64606759,
          135031164,
          9118773,
          13327079,
          18013409,
          43997828,
          8390505,
          17696293,
          10238807,
          1639131,
          29170398,
          551201,
          14326203,
          38139640,
          2055080,
          76511887,
          35610177,
          12031795,
          496374,
          3800610,
          9947814,
          8078314,
          1454867,
          12894865,
          4906585,
          5701579,
          42292929,
          19167654,
          1688359,
          27499638,
          14131858,
          22873338,
          8502814,
          47761980,
          22211743,
          12267493,
          28901790,
          150448339,
          3270065,
          1110396331,
          710960,
          169270617,
          199579,
          9119152,
          2874127,
          23301725,
          1056608,
          7483763,
          12572928,
          65068149,
          223547000,
          69453570,
          33757175,
          80264543,
          28674757,
          91077287,
          6667147,
          71158647,
          6939688,
          3921278,
          9319622,
          33333216,
          190010647,
          20378239,
          22276056,
          6053193,
          2780132,
          27601038,
          1250882,
          44227550,
          5675356,
          1318683096,
          7322858,
          9956108,
          4018332,
          26084662,
          10276158,
          6036914,
          10150265,
          19314747,
          24821286,
          85262356,
          684736,
          5447502,
          4552198,
          13755680,
          40301927,
          3242173,
          38518241,
          708573,
          3204897,
          4493312,
          108700891,
          3447496,
          3600523,
          798094,
          10228744,
          2505559,
          2009245,
          10642836,
          301139947,
          11416987,
          5468120,
          23174294,
          16284741,
          49044790,
          3942491,
          4133884,
          4109086,
          5238460,
          82400996,
          60776238,
          10392226,
          10706290,
          16570613,
          8199783,
          4553009,
          4627926,
          4115771,
          58147733,
          33390141,
          61083916,
          6426679,
          9031088,
          40448191,
          20434176,
          7554661,
          301931,
          6980412,
          127467972
         ],
         "xaxis": "x",
         "y": [
          "Africa",
          "Africa",
          "Africa",
          "Africa",
          "Africa",
          "Africa",
          "Africa",
          "Asia",
          "Africa",
          "Africa",
          "Africa",
          "Africa",
          "Africa",
          "Africa",
          "Africa",
          "Africa",
          "Africa",
          "Africa",
          "Africa",
          "Africa",
          "Africa",
          "Africa",
          "Africa",
          "Africa",
          "Africa",
          "Africa",
          "Africa",
          "Africa",
          "Africa",
          "Africa",
          "Africa",
          "Africa",
          "Africa",
          "Africa",
          "Africa",
          "Africa",
          "Africa",
          "Africa",
          "Africa",
          "Africa",
          "Africa",
          "Asia",
          "Asia",
          "Africa",
          "Americas",
          "Asia",
          "Asia",
          "Africa",
          "Asia",
          "Asia",
          "Africa",
          "Asia",
          "Africa",
          "Asia",
          "Africa",
          "Americas",
          "Asia",
          "Asia",
          "Americas",
          "Americas",
          "Americas",
          "Asia",
          "Asia",
          "Asia",
          "Africa",
          "Africa",
          "Americas",
          "Asia",
          "Americas",
          "Europe",
          "Americas",
          "Asia",
          "Americas",
          "Africa",
          "Americas",
          "Asia",
          "Europe",
          "Asia",
          "Americas",
          "Asia",
          "Africa",
          "Americas",
          "Americas",
          "Asia",
          "Europe",
          "Europe",
          "Asia",
          "Americas",
          "Africa",
          "Africa",
          "Europe",
          "Asia",
          "Asia",
          "Asia",
          "Europe",
          "Europe",
          "Europe",
          "Americas",
          "Americas",
          "Americas",
          "Europe",
          "Asia",
          "Asia",
          "Europe",
          "Americas",
          "Americas",
          "Europe",
          "Africa",
          "Europe",
          "Asia",
          "Europe",
          "Europe",
          "Americas",
          "Americas",
          "Europe",
          "Asia",
          "Americas",
          "Asia",
          "Americas",
          "Americas",
          "Europe",
          "Europe",
          "Europe",
          "Europe",
          "Europe",
          "Europe",
          "Europe",
          "Europe",
          "Asia",
          "Europe",
          "Oceania",
          "Europe",
          "Americas",
          "Europe",
          "Asia",
          "Europe",
          "Europe",
          "Oceania",
          "Europe",
          "Europe",
          "Asia",
          "Asia"
         ],
         "yaxis": "y"
        }
       ],
       "layout": {
        "barmode": "relative",
        "coloraxis": {
         "colorbar": {
          "title": {
           "text": "lifeExp"
          }
         },
         "colorscale": [
          [
           0,
           "rgb(255,0,0)"
          ],
          [
           1,
           "rgb(0,0,255)"
          ]
         ]
        },
        "legend": {
         "tracegroupgap": 0
        },
        "margin": {
         "t": 60
        },
        "template": {
         "data": {
          "bar": [
           {
            "error_x": {
             "color": "#2a3f5f"
            },
            "error_y": {
             "color": "#2a3f5f"
            },
            "marker": {
             "line": {
              "color": "#E5ECF6",
              "width": 0.5
             },
             "pattern": {
              "fillmode": "overlay",
              "size": 10,
              "solidity": 0.2
             }
            },
            "type": "bar"
           }
          ],
          "barpolar": [
           {
            "marker": {
             "line": {
              "color": "#E5ECF6",
              "width": 0.5
             },
             "pattern": {
              "fillmode": "overlay",
              "size": 10,
              "solidity": 0.2
             }
            },
            "type": "barpolar"
           }
          ],
          "carpet": [
           {
            "aaxis": {
             "endlinecolor": "#2a3f5f",
             "gridcolor": "white",
             "linecolor": "white",
             "minorgridcolor": "white",
             "startlinecolor": "#2a3f5f"
            },
            "baxis": {
             "endlinecolor": "#2a3f5f",
             "gridcolor": "white",
             "linecolor": "white",
             "minorgridcolor": "white",
             "startlinecolor": "#2a3f5f"
            },
            "type": "carpet"
           }
          ],
          "choropleth": [
           {
            "colorbar": {
             "outlinewidth": 0,
             "ticks": ""
            },
            "type": "choropleth"
           }
          ],
          "contour": [
           {
            "colorbar": {
             "outlinewidth": 0,
             "ticks": ""
            },
            "colorscale": [
             [
              0,
              "#0d0887"
             ],
             [
              0.1111111111111111,
              "#46039f"
             ],
             [
              0.2222222222222222,
              "#7201a8"
             ],
             [
              0.3333333333333333,
              "#9c179e"
             ],
             [
              0.4444444444444444,
              "#bd3786"
             ],
             [
              0.5555555555555556,
              "#d8576b"
             ],
             [
              0.6666666666666666,
              "#ed7953"
             ],
             [
              0.7777777777777778,
              "#fb9f3a"
             ],
             [
              0.8888888888888888,
              "#fdca26"
             ],
             [
              1,
              "#f0f921"
             ]
            ],
            "type": "contour"
           }
          ],
          "contourcarpet": [
           {
            "colorbar": {
             "outlinewidth": 0,
             "ticks": ""
            },
            "type": "contourcarpet"
           }
          ],
          "heatmap": [
           {
            "colorbar": {
             "outlinewidth": 0,
             "ticks": ""
            },
            "colorscale": [
             [
              0,
              "#0d0887"
             ],
             [
              0.1111111111111111,
              "#46039f"
             ],
             [
              0.2222222222222222,
              "#7201a8"
             ],
             [
              0.3333333333333333,
              "#9c179e"
             ],
             [
              0.4444444444444444,
              "#bd3786"
             ],
             [
              0.5555555555555556,
              "#d8576b"
             ],
             [
              0.6666666666666666,
              "#ed7953"
             ],
             [
              0.7777777777777778,
              "#fb9f3a"
             ],
             [
              0.8888888888888888,
              "#fdca26"
             ],
             [
              1,
              "#f0f921"
             ]
            ],
            "type": "heatmap"
           }
          ],
          "heatmapgl": [
           {
            "colorbar": {
             "outlinewidth": 0,
             "ticks": ""
            },
            "colorscale": [
             [
              0,
              "#0d0887"
             ],
             [
              0.1111111111111111,
              "#46039f"
             ],
             [
              0.2222222222222222,
              "#7201a8"
             ],
             [
              0.3333333333333333,
              "#9c179e"
             ],
             [
              0.4444444444444444,
              "#bd3786"
             ],
             [
              0.5555555555555556,
              "#d8576b"
             ],
             [
              0.6666666666666666,
              "#ed7953"
             ],
             [
              0.7777777777777778,
              "#fb9f3a"
             ],
             [
              0.8888888888888888,
              "#fdca26"
             ],
             [
              1,
              "#f0f921"
             ]
            ],
            "type": "heatmapgl"
           }
          ],
          "histogram": [
           {
            "marker": {
             "pattern": {
              "fillmode": "overlay",
              "size": 10,
              "solidity": 0.2
             }
            },
            "type": "histogram"
           }
          ],
          "histogram2d": [
           {
            "colorbar": {
             "outlinewidth": 0,
             "ticks": ""
            },
            "colorscale": [
             [
              0,
              "#0d0887"
             ],
             [
              0.1111111111111111,
              "#46039f"
             ],
             [
              0.2222222222222222,
              "#7201a8"
             ],
             [
              0.3333333333333333,
              "#9c179e"
             ],
             [
              0.4444444444444444,
              "#bd3786"
             ],
             [
              0.5555555555555556,
              "#d8576b"
             ],
             [
              0.6666666666666666,
              "#ed7953"
             ],
             [
              0.7777777777777778,
              "#fb9f3a"
             ],
             [
              0.8888888888888888,
              "#fdca26"
             ],
             [
              1,
              "#f0f921"
             ]
            ],
            "type": "histogram2d"
           }
          ],
          "histogram2dcontour": [
           {
            "colorbar": {
             "outlinewidth": 0,
             "ticks": ""
            },
            "colorscale": [
             [
              0,
              "#0d0887"
             ],
             [
              0.1111111111111111,
              "#46039f"
             ],
             [
              0.2222222222222222,
              "#7201a8"
             ],
             [
              0.3333333333333333,
              "#9c179e"
             ],
             [
              0.4444444444444444,
              "#bd3786"
             ],
             [
              0.5555555555555556,
              "#d8576b"
             ],
             [
              0.6666666666666666,
              "#ed7953"
             ],
             [
              0.7777777777777778,
              "#fb9f3a"
             ],
             [
              0.8888888888888888,
              "#fdca26"
             ],
             [
              1,
              "#f0f921"
             ]
            ],
            "type": "histogram2dcontour"
           }
          ],
          "mesh3d": [
           {
            "colorbar": {
             "outlinewidth": 0,
             "ticks": ""
            },
            "type": "mesh3d"
           }
          ],
          "parcoords": [
           {
            "line": {
             "colorbar": {
              "outlinewidth": 0,
              "ticks": ""
             }
            },
            "type": "parcoords"
           }
          ],
          "pie": [
           {
            "automargin": true,
            "type": "pie"
           }
          ],
          "scatter": [
           {
            "marker": {
             "colorbar": {
              "outlinewidth": 0,
              "ticks": ""
             }
            },
            "type": "scatter"
           }
          ],
          "scatter3d": [
           {
            "line": {
             "colorbar": {
              "outlinewidth": 0,
              "ticks": ""
             }
            },
            "marker": {
             "colorbar": {
              "outlinewidth": 0,
              "ticks": ""
             }
            },
            "type": "scatter3d"
           }
          ],
          "scattercarpet": [
           {
            "marker": {
             "colorbar": {
              "outlinewidth": 0,
              "ticks": ""
             }
            },
            "type": "scattercarpet"
           }
          ],
          "scattergeo": [
           {
            "marker": {
             "colorbar": {
              "outlinewidth": 0,
              "ticks": ""
             }
            },
            "type": "scattergeo"
           }
          ],
          "scattergl": [
           {
            "marker": {
             "colorbar": {
              "outlinewidth": 0,
              "ticks": ""
             }
            },
            "type": "scattergl"
           }
          ],
          "scattermapbox": [
           {
            "marker": {
             "colorbar": {
              "outlinewidth": 0,
              "ticks": ""
             }
            },
            "type": "scattermapbox"
           }
          ],
          "scatterpolar": [
           {
            "marker": {
             "colorbar": {
              "outlinewidth": 0,
              "ticks": ""
             }
            },
            "type": "scatterpolar"
           }
          ],
          "scatterpolargl": [
           {
            "marker": {
             "colorbar": {
              "outlinewidth": 0,
              "ticks": ""
             }
            },
            "type": "scatterpolargl"
           }
          ],
          "scatterternary": [
           {
            "marker": {
             "colorbar": {
              "outlinewidth": 0,
              "ticks": ""
             }
            },
            "type": "scatterternary"
           }
          ],
          "surface": [
           {
            "colorbar": {
             "outlinewidth": 0,
             "ticks": ""
            },
            "colorscale": [
             [
              0,
              "#0d0887"
             ],
             [
              0.1111111111111111,
              "#46039f"
             ],
             [
              0.2222222222222222,
              "#7201a8"
             ],
             [
              0.3333333333333333,
              "#9c179e"
             ],
             [
              0.4444444444444444,
              "#bd3786"
             ],
             [
              0.5555555555555556,
              "#d8576b"
             ],
             [
              0.6666666666666666,
              "#ed7953"
             ],
             [
              0.7777777777777778,
              "#fb9f3a"
             ],
             [
              0.8888888888888888,
              "#fdca26"
             ],
             [
              1,
              "#f0f921"
             ]
            ],
            "type": "surface"
           }
          ],
          "table": [
           {
            "cells": {
             "fill": {
              "color": "#EBF0F8"
             },
             "line": {
              "color": "white"
             }
            },
            "header": {
             "fill": {
              "color": "#C8D4E3"
             },
             "line": {
              "color": "white"
             }
            },
            "type": "table"
           }
          ]
         },
         "layout": {
          "annotationdefaults": {
           "arrowcolor": "#2a3f5f",
           "arrowhead": 0,
           "arrowwidth": 1
          },
          "autotypenumbers": "strict",
          "coloraxis": {
           "colorbar": {
            "outlinewidth": 0,
            "ticks": ""
           }
          },
          "colorscale": {
           "diverging": [
            [
             0,
             "#8e0152"
            ],
            [
             0.1,
             "#c51b7d"
            ],
            [
             0.2,
             "#de77ae"
            ],
            [
             0.3,
             "#f1b6da"
            ],
            [
             0.4,
             "#fde0ef"
            ],
            [
             0.5,
             "#f7f7f7"
            ],
            [
             0.6,
             "#e6f5d0"
            ],
            [
             0.7,
             "#b8e186"
            ],
            [
             0.8,
             "#7fbc41"
            ],
            [
             0.9,
             "#4d9221"
            ],
            [
             1,
             "#276419"
            ]
           ],
           "sequential": [
            [
             0,
             "#0d0887"
            ],
            [
             0.1111111111111111,
             "#46039f"
            ],
            [
             0.2222222222222222,
             "#7201a8"
            ],
            [
             0.3333333333333333,
             "#9c179e"
            ],
            [
             0.4444444444444444,
             "#bd3786"
            ],
            [
             0.5555555555555556,
             "#d8576b"
            ],
            [
             0.6666666666666666,
             "#ed7953"
            ],
            [
             0.7777777777777778,
             "#fb9f3a"
            ],
            [
             0.8888888888888888,
             "#fdca26"
            ],
            [
             1,
             "#f0f921"
            ]
           ],
           "sequentialminus": [
            [
             0,
             "#0d0887"
            ],
            [
             0.1111111111111111,
             "#46039f"
            ],
            [
             0.2222222222222222,
             "#7201a8"
            ],
            [
             0.3333333333333333,
             "#9c179e"
            ],
            [
             0.4444444444444444,
             "#bd3786"
            ],
            [
             0.5555555555555556,
             "#d8576b"
            ],
            [
             0.6666666666666666,
             "#ed7953"
            ],
            [
             0.7777777777777778,
             "#fb9f3a"
            ],
            [
             0.8888888888888888,
             "#fdca26"
            ],
            [
             1,
             "#f0f921"
            ]
           ]
          },
          "colorway": [
           "#636efa",
           "#EF553B",
           "#00cc96",
           "#ab63fa",
           "#FFA15A",
           "#19d3f3",
           "#FF6692",
           "#B6E880",
           "#FF97FF",
           "#FECB52"
          ],
          "font": {
           "color": "#2a3f5f"
          },
          "geo": {
           "bgcolor": "white",
           "lakecolor": "white",
           "landcolor": "#E5ECF6",
           "showlakes": true,
           "showland": true,
           "subunitcolor": "white"
          },
          "hoverlabel": {
           "align": "left"
          },
          "hovermode": "closest",
          "mapbox": {
           "style": "light"
          },
          "paper_bgcolor": "white",
          "plot_bgcolor": "#E5ECF6",
          "polar": {
           "angularaxis": {
            "gridcolor": "white",
            "linecolor": "white",
            "ticks": ""
           },
           "bgcolor": "#E5ECF6",
           "radialaxis": {
            "gridcolor": "white",
            "linecolor": "white",
            "ticks": ""
           }
          },
          "scene": {
           "xaxis": {
            "backgroundcolor": "#E5ECF6",
            "gridcolor": "white",
            "gridwidth": 2,
            "linecolor": "white",
            "showbackground": true,
            "ticks": "",
            "zerolinecolor": "white"
           },
           "yaxis": {
            "backgroundcolor": "#E5ECF6",
            "gridcolor": "white",
            "gridwidth": 2,
            "linecolor": "white",
            "showbackground": true,
            "ticks": "",
            "zerolinecolor": "white"
           },
           "zaxis": {
            "backgroundcolor": "#E5ECF6",
            "gridcolor": "white",
            "gridwidth": 2,
            "linecolor": "white",
            "showbackground": true,
            "ticks": "",
            "zerolinecolor": "white"
           }
          },
          "shapedefaults": {
           "line": {
            "color": "#2a3f5f"
           }
          },
          "ternary": {
           "aaxis": {
            "gridcolor": "white",
            "linecolor": "white",
            "ticks": ""
           },
           "baxis": {
            "gridcolor": "white",
            "linecolor": "white",
            "ticks": ""
           },
           "bgcolor": "#E5ECF6",
           "caxis": {
            "gridcolor": "white",
            "linecolor": "white",
            "ticks": ""
           }
          },
          "title": {
           "x": 0.05
          },
          "xaxis": {
           "automargin": true,
           "gridcolor": "white",
           "linecolor": "white",
           "ticks": "",
           "title": {
            "standoff": 15
           },
           "zerolinecolor": "white",
           "zerolinewidth": 2
          },
          "yaxis": {
           "automargin": true,
           "gridcolor": "white",
           "linecolor": "white",
           "ticks": "",
           "title": {
            "standoff": 15
           },
           "zerolinecolor": "white",
           "zerolinewidth": 2
          }
         }
        },
        "xaxis": {
         "anchor": "y",
         "domain": [
          0,
          1
         ],
         "title": {
          "text": "pop"
         }
        },
        "yaxis": {
         "anchor": "x",
         "domain": [
          0,
          1
         ],
         "title": {
          "text": "continent"
         }
        }
       }
      }
     },
     "metadata": {},
     "output_type": "display_data"
    }
   ],
   "source": [
    "fig.show('json')"
   ]
  },
  {
   "cell_type": "code",
   "execution_count": 221,
   "id": "d2c5e202-e20d-49a6-b8cb-f46ec1bb47df",
   "metadata": {},
   "outputs": [
    {
     "data": {
      "text/plain": [
       "['rgb(255,255,204)',\n",
       " 'rgb(255,237,160)',\n",
       " 'rgb(254,217,118)',\n",
       " 'rgb(254,178,76)',\n",
       " 'rgb(253,141,60)',\n",
       " 'rgb(252,78,42)',\n",
       " 'rgb(227,26,28)',\n",
       " 'rgb(189,0,38)',\n",
       " 'rgb(128,0,38)']"
      ]
     },
     "execution_count": 221,
     "metadata": {},
     "output_type": "execute_result"
    }
   ],
   "source": [
    "px.colors.sequential.YlOrRd"
   ]
  }
 ],
 "metadata": {
  "kernelspec": {
   "display_name": "Python 3 (ipykernel)",
   "language": "python",
   "name": "python3"
  },
  "language_info": {
   "codemirror_mode": {
    "name": "ipython",
    "version": 3
   },
   "file_extension": ".py",
   "mimetype": "text/x-python",
   "name": "python",
   "nbconvert_exporter": "python",
   "pygments_lexer": "ipython3",
   "version": "3.9.7"
  },
  "toc-autonumbering": true,
  "toc-showtags": false
 },
 "nbformat": 4,
 "nbformat_minor": 5
}
